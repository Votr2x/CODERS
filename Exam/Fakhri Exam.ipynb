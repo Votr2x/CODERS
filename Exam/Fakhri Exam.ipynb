{
 "cells": [
  {
   "cell_type": "markdown",
   "id": "b4a2057f",
   "metadata": {},
   "source": [
    "### 1. (*) Lambda funksiyasından istifadə edərək tam ədədlər əsasında verilmiş tuple-ları sıralamaq üçün Python proqramı yaradın. \n",
    "#### Nümunə: a = [('Mamed', 27483),('Ali', 34357), ('Togrul', 24936),('Pasha', 25534)]\n",
    "#### Nəticə: [('Togrul', 24936), ('Pasha', 25534), ('Mamed', 27483), ('Ali', 34357)]"
   ]
  },
  {
   "cell_type": "code",
   "execution_count": 88,
   "id": "6f94eef7",
   "metadata": {},
   "outputs": [
    {
     "name": "stdout",
     "output_type": "stream",
     "text": [
      "[('Togrul', 24936), ('Pasha', 25534), ('Mamed', 27483), ('Ali', 34357)]\n"
     ]
    }
   ],
   "source": [
    "a = [('Mamed', 27483),('Ali', 34357), ('Togrul', 24936),('Pasha', 25534)]\n",
    "b = sorted(a, key=lambda x: x[1])\n",
    "print(b)"
   ]
  },
  {
   "cell_type": "markdown",
   "id": "a8fb85b3",
   "metadata": {},
   "source": [
    "### 2. (*) Verilmiş bir list-dəki tək ədədləri kvadrat şəklində, cüt ədədləri isə yarıya bölərək yeni bir list yaradın. \n",
    "\n",
    "#### Nümunə: b = [1, 2, 3, 4, 5, 6, 7, 8, 9, 10]\n",
    "#### Nəticə: [1, 1, 9, 2, 25, 3, 49, 4, 81, 5]\r\n"
   ]
  },
  {
   "cell_type": "code",
   "execution_count": 6,
   "id": "0fc7da18",
   "metadata": {},
   "outputs": [
    {
     "name": "stdout",
     "output_type": "stream",
     "text": [
      "[1, 1, 9, 2, 25, 3, 49, 4, 81, 5]\n"
     ]
    }
   ],
   "source": [
    "b = [1, 2, 3, 4, 5, 6, 7, 8, 9, 10]\n",
    "a = []\n",
    "for i in b:\n",
    "    if i % 2 == 1:\n",
    "        a.append(i * i)\n",
    "    elif i % 2 == 0:\n",
    "        a.append(int(i / 2))\n",
    "print(a)"
   ]
  },
  {
   "cell_type": "markdown",
   "id": "7d42d279",
   "metadata": {},
   "source": [
    "### 3. (*) Verilmiş tam ədədlər list-ini tuple-a çevirmək üçün Python proqramı yazın. Map və lambda funksiyalarından istifadə edin \n",
    "#### Nümunə: c = [1, 2, 3, 4, 5, 6, 7, 8, 9, 10]\n",
    "\n",
    "#### Nəticə: ('1', '2', '3', '4', '5', '6', '7', '8', '9', '10')"
   ]
  },
  {
   "cell_type": "code",
   "execution_count": 9,
   "id": "1b3222a1",
   "metadata": {},
   "outputs": [
    {
     "data": {
      "text/plain": [
       "('1', '2', '3', '4', '5', '6', '7', '8', '9', '10')"
      ]
     },
     "execution_count": 9,
     "metadata": {},
     "output_type": "execute_result"
    }
   ],
   "source": [
    "c = [1, 2, 3, 4, 5, 6, 7, 8, 9, 10]\n",
    "a = tuple(map(lambda i: str(i), c))\n",
    "a"
   ]
  },
  {
   "cell_type": "markdown",
   "id": "380eb0ea",
   "metadata": {},
   "source": [
    "### 4. (*) 1-dən 25-ə qədər olan list-də product-ı hesablamaq üçün reduce funksiyasından istifadə edərək Python proqramı yazın. \n",
    "\n",
    "#### Nümunə: list(range(1,5))\n",
    "#### Product: 1x2x3x4 = 24\n",
    "\n",
    "#### Nəticə: 24"
   ]
  },
  {
   "cell_type": "code",
   "execution_count": 16,
   "id": "03b06e95",
   "metadata": {},
   "outputs": [
    {
     "name": "stdout",
     "output_type": "stream",
     "text": [
      "620448401733239439360000\n"
     ]
    }
   ],
   "source": [
    "from functools import reduce\n",
    "\n",
    "l = list(range(1, 25))\n",
    "total = reduce(lambda x, y: x * y, l)\n",
    "print(total) "
   ]
  },
  {
   "cell_type": "markdown",
   "id": "5a1c666e",
   "metadata": {},
   "source": [
    "### 5. (*) Normal funksiya yaradın və filter funksiyasından istifadə edərək verilmiş list-də 2 və 3-ə tam bölünən ədədləri çıxarmaq üçün Python proqramı yazın.\n",
    "\n",
    "#### Nümunə: d = [1, 4, 10 ,3, 6, 9, 27, 60, 90, 24, 58, 76]\n",
    "#### Nəticə:[1, 4, 10, 3, 9, 27, 58, 76]"
   ]
  },
  {
   "cell_type": "code",
   "execution_count": 23,
   "id": "6da317f6",
   "metadata": {},
   "outputs": [
    {
     "name": "stdout",
     "output_type": "stream",
     "text": [
      "[4, 10, 3, 9, 27, 90, 58, 76]\n"
     ]
    }
   ],
   "source": [
    "d = [1, 4, 10 ,3, 6, 9, 27, 60, 90, 24, 58, 76]\n",
    "def filt(i):\n",
    "    if i % 2 == 0 or i % 3 == 0:\n",
    "        return True\n",
    "    else:\n",
    "        return False\n",
    "a = list(filter(filt, d))\n",
    "for i in a:\n",
    "    if i % 2 == 0 and i % 3 == 0:\n",
    "        a.remove(i)\n",
    "print(a)"
   ]
  },
  {
   "cell_type": "markdown",
   "id": "2b5685fa",
   "metadata": {},
   "source": [
    "### 6. (*) Class yaradın ve OOP-yə uygun olaraq class-da multiple inheritance istifadə edin, sonda isə class-lardan hansının əsas, hansının köməkçi olmasını müəyyənləşdirərək çap edin.\n",
    "\n",
    "#### Parent class: Okeanlar - Atlantik Okeanı qaytarsın\n",
    "\n",
    "#### II dərəcəli class: Denizler - Xəzər Dənizi qaytarsın\n",
    "\n",
    "#### III dereceli class: Chaylar - Kür Çayı qaytarsın"
   ]
  },
  {
   "cell_type": "code",
   "execution_count": 27,
   "id": "7315a616",
   "metadata": {},
   "outputs": [
    {
     "name": "stdout",
     "output_type": "stream",
     "text": [
      "Parent class: Okeanlar - Atlantic Okean\n",
      "2nd order class: Denizler - Xezer Denizi\n",
      "3rd order class: Kur Cayi\n"
     ]
    }
   ],
   "source": [
    "class Okeanlar:\n",
    "    def ocean(self):\n",
    "        print('Parent class: Okeanlar - Atlantic Okean')\n",
    "class Denizler:\n",
    "    def denizler(self):\n",
    "        print('2nd order class: Denizler - Xezer Denizi')\n",
    "class Chaylar(Okeanlar, Denizler):\n",
    "    def chay(self):\n",
    "        print('3rd order class: Kur Cayi')\n",
    "\n",
    "a = Chaylar()\n",
    "a.ocean()\n",
    "a.denizler()\n",
    "a.chay()"
   ]
  },
  {
   "cell_type": "markdown",
   "id": "0788e538",
   "metadata": {},
   "source": [
    "### 7. (*) Txt faylı yaradan Python funksiyası yazın, \"Hello World!\" mesajını fayla əlavə etsin, sonra həmin funksiya txt faylını pickle faylına çevirsin."
   ]
  },
  {
   "cell_type": "code",
   "execution_count": 70,
   "id": "a673ee10",
   "metadata": {},
   "outputs": [
    {
     "name": "stdout",
     "output_type": "stream",
     "text": [
      "[b'\\x80\\x04\\x95\\x0f\\x00\\x00\\x00\\x00\\x00\\x00\\x00\\x8c\\x0bHello World\\x94.']\n"
     ]
    }
   ],
   "source": [
    "with open('hello.txt', 'w') as file:\n",
    "    file.write('Hello World')\n",
    "\n",
    "with open('hello.txt', 'r') as file:\n",
    "    content = file.read()\n",
    "\n",
    "\n",
    "import pickle\n",
    "\n",
    "with open('hello.pickle', 'wb') as file:\n",
    "    pickle.dump(content, file)\n",
    "\n",
    "with open('hello.pickle', 'rb') as f:\n",
    "    print(f.readlines())"
   ]
  },
  {
   "cell_type": "markdown",
   "id": "0cc861f1",
   "metadata": {},
   "source": [
    "### 8. (**) Lambda və filter funksiyasından istifadə edərək verilən list-də palindromları tapmaq üçün Python proqramı yazın. \n",
    "\n",
    "#### Nümunə: e = ['python', 'ana', 'ata', 'radar', 'level']\n",
    "\n",
    "#### Nəticə: ['ana', 'ata', 'radar', 'level']"
   ]
  },
  {
   "cell_type": "code",
   "execution_count": 48,
   "id": "b92b62df",
   "metadata": {},
   "outputs": [
    {
     "name": "stdout",
     "output_type": "stream",
     "text": [
      "['ana', 'ata', 'radar', 'level']\n"
     ]
    }
   ],
   "source": [
    "e = ['python', 'ana', 'ata', 'radar', 'level']\n",
    "\n",
    "def pal(x):\n",
    "    a = list(x)\n",
    "    if a == a[::-1]:\n",
    "        return True\n",
    "    else:\n",
    "        return False\n",
    "\n",
    "z = list(filter(pal, e))\n",
    "print(z)"
   ]
  },
  {
   "cell_type": "markdown",
   "id": "f55ff089",
   "metadata": {},
   "source": [
    "### 9. (**) Verilən mesajı şifrələmək üçün Python proqramı yazın. Şifrələmənin məntiqi elə olmalıdır ki, böyük, kiçik hərf fərq etmədən b üçün output d, c üçün e, e üçün müvafiq olaraq g olmalıdır. Həmçinin, boşluq $ (dollar işarəsi) ilə əvəz edilməlidir. Durğu işarələri dəyişilmədən saxlanılmalıdır.\n",
    "\n",
    "#### Nümunə: shifre(\"Baba Cavanshiri eve chaghirmishdi.\")"
   ]
  },
  {
   "cell_type": "code",
   "execution_count": 3,
   "id": "7c340029",
   "metadata": {},
   "outputs": [],
   "source": [
    "# Nəticə: \"dada$gavanshiri$gvg$ghaghirmishdi.\""
   ]
  },
  {
   "cell_type": "code",
   "execution_count": 55,
   "id": "f1e096fb-e98f-4de6-bbe8-bfaf6724303f",
   "metadata": {},
   "outputs": [
    {
     "name": "stdout",
     "output_type": "stream",
     "text": [
      "dada$eavanshiri$eve$ehaghirmishdi.\n"
     ]
    }
   ],
   "source": [
    "def encript(x):\n",
    "    a = list(x)\n",
    "    z = ''\n",
    "    for i in a:\n",
    "        if i == 'b' or i == 'B':\n",
    "            i = 'd'\n",
    "        elif i == 'c' or i == 'C':\n",
    "            i = 'e'\n",
    "        elif i == ' ':\n",
    "            i = '$'\n",
    "        z += i        \n",
    "    print(str(z))\n",
    "\n",
    "encript(\"Baba Cavanshiri eve chaghirmishdi.\")"
   ]
  },
  {
   "cell_type": "markdown",
   "id": "dd810c47",
   "metadata": {},
   "source": [
    "### 10. (**) Bir funksiya yazın ki, ilk arqumenti (rəqəmi) məcburi qəbul etsin və *args vasitəsilə əlavə rəqəmləri də qəbul etsin.\n",
    "\n",
    "### Funksiya ilk rəqəmdən başqa bütün rəqəmlərin hasilini qaytarmalıdır.\n",
    "### Əgər ilk rəqəmdən başqa əlavə rəqəmlər verilməyibsə, \"Əlavə rəqəmlər yoxdur\" mesajını qaytarsın.\n",
    "\n",
    "#### Nümunə:\n",
    "\n",
    "#### print(x_func(2, 3, 4, 5))   ---------->   Nəticə: 60\n",
    "#### print(x_func(7))   ---------->               Nəticə: \"Əlavə rəqəmlər yoxdur\""
   ]
  },
  {
   "cell_type": "code",
   "execution_count": 68,
   "id": "2eea05bc",
   "metadata": {},
   "outputs": [
    {
     "name": "stdout",
     "output_type": "stream",
     "text": [
      "60\n",
      "No additional numbers\n"
     ]
    }
   ],
   "source": [
    "def multipl(*args):\n",
    "    count = 1\n",
    "    if len(args) == 1:\n",
    "        print('No additional numbers')\n",
    "    else:\n",
    "        a = list(args)\n",
    "        a.pop(0)\n",
    "        for i in a:\n",
    "            count *= i\n",
    "        print(count)\n",
    "multipl(2, 3, 4, 5)\n",
    "multipl(7)"
   ]
  },
  {
   "cell_type": "markdown",
   "id": "4ccf5a9e",
   "metadata": {},
   "source": [
    "### 11. (**) Bir funksiya yazın ki, tələbələrin qiymətlərini qəbul etsin və onları müxtəlif kateqoriyalara ayırsın. Funksiya aşağıdakı şərtlərə əsasən nəticəni qaytarmalıdır:\n",
    "\n",
    "### 90 və 90-dan yuxarı qiymətlər \"Əla\" listinə;\n",
    "### 70-89 qiymətləri \"Yaxşı\" listinə;\n",
    "### 50-69 qiymətləri \"Kafi\" listinə;\n",
    "### 50-dən aşağı olan qiymətlər \"Qeyri-kafi\" listinə əlavə olunmalıdır.\n",
    "\n",
    "### Funksiya əla-dan qeyri-kafiyə doğru sırayla dörd list qaytarmalıdır: ([\"Əla\"], [\"Yaxşı\"], [\"Kafi\"], [\"Qeyri-kafi\"]) \n",
    "\n",
    "#### Nümunə:\n",
    "\n",
    "#### print(x_func([95, 82, 67, 45, 78, 91, 50, 63, 89]))\n",
    "\n",
    "#### Nəticə: ([95, 91], [82, 78, 89], [67, 63, 50], [45])"
   ]
  },
  {
   "cell_type": "code",
   "execution_count": 77,
   "id": "0bcc1a55",
   "metadata": {},
   "outputs": [
    {
     "name": "stdout",
     "output_type": "stream",
     "text": [
      "([95, 91], [82, 78, 89], [67, 50, 63], [45])\n"
     ]
    }
   ],
   "source": [
    "def res(x):\n",
    "    category_1 = []\n",
    "    category_2 = []\n",
    "    category_3 = []\n",
    "    category_4 = []\n",
    "    for i in x:\n",
    "        if  90 <= i:\n",
    "            category_1.append(i)\n",
    "        elif 70 <= i < 90:\n",
    "            category_2.append(i)\n",
    "        elif 50 <= i < 69:\n",
    "            category_3.append(i)\n",
    "        elif i < 50:\n",
    "            category_4.append(i)\n",
    "    print(f'({category_1}, {category_2}, {category_3}, {category_4})')\n",
    "res([95, 82, 67, 45, 78, 91, 50, 63, 89])"
   ]
  },
  {
   "cell_type": "markdown",
   "id": "ae4a2d70",
   "metadata": {},
   "source": [
    "### 12. BONUS SUAL (***): Bir kursda tələbələrin adları və onların fənlər üzrə balları aşağıdakı formada təqdim olunur:\n",
    "\n",
    "### students_scores = {\n",
    "###     \"Aydan\": {\"Python\": 97, \"SQL\": 86, \"Statistics\": 87},\n",
    "###     \"Arzu\": {\"Python\": 92, \"SQL\": 83, \"Statistics\": 95},\n",
    "###    \"Bilal\": {\"Python\": 90, \"SQL\": 91, \"Statistics\": 75},\n",
    "### }\n",
    "\n",
    "### 1) Hər tələbənin ümumi balını hesablayın və nəticəni yeni bir dictionary-də saxlayın. Format belə olmalıdır:\n",
    "\n",
    "#### Nəticə: {\"Aydan\": 272, \"Arzu\": 270, \"Bilal\": 256}\n",
    "\n",
    "### 2) Fənlər üzrə ən yüksək balı müəyyən edin. Format belə olmalıdır:\n",
    "\n",
    "#### Nəticə: {\"Python\": 97, \"SQL\": 91, \"Statistics\": 95}"
   ]
  },
  {
   "cell_type": "code",
   "execution_count": 107,
   "id": "aeb5c008",
   "metadata": {},
   "outputs": [
    {
     "name": "stdout",
     "output_type": "stream",
     "text": [
      "{'Aydan': 270, 'Arzu': 270, 'Bilal': 256}\n"
     ]
    }
   ],
   "source": [
    "students_scores = {\n",
    "\"Aydan\": {\"Python\": 97, \"SQL\": 86, \"Statistics\": 87},\n",
    "\"Arzu\": {\"Python\": 92, \"SQL\": 83, \"Statistics\": 95},\n",
    "\"Bilal\": {\"Python\": 90, \"SQL\": 91, \"Statistics\": 75},\n",
    "}\n",
    "a = list(students_scores.keys())\n",
    "b = list(students_scores.values())\n",
    "c = []\n",
    "for i in b:\n",
    "    c.append(list(i.values()))\n",
    "\n",
    "d = []\n",
    "\n",
    "for i in c:\n",
    "    count = 0\n",
    "    for x in i:\n",
    "        count += x\n",
    "    d.append(count)\n",
    "\n",
    "scores = {key: value for key, value in zip(a, d)}\n",
    "print(scores)"
   ]
  },
  {
   "cell_type": "code",
   "execution_count": 119,
   "id": "2258b5a7-9c90-4385-9fd6-f108436b4656",
   "metadata": {},
   "outputs": [
    {
     "name": "stdout",
     "output_type": "stream",
     "text": [
      "{'Python': 97, 'SQL': 91, 'Stat': 95}\n"
     ]
    }
   ],
   "source": [
    "python = []\n",
    "sql = []\n",
    "stat = []\n",
    "for i in c:\n",
    "    for x in i:\n",
    "        if i.index(x) == 0:\n",
    "            python.append(x)\n",
    "        elif i.index(x) == 1:\n",
    "            sql.append(x)\n",
    "        elif i.index(x) == 2:\n",
    "            stat.append(x)\n",
    "python_max = max(python)\n",
    "sql_max = max(sql)\n",
    "stat_max = max(stat)\n",
    "keys = ['Python', 'SQL', 'Stat']\n",
    "values = [python_max, sql_max, stat_max]\n",
    "res = {key: value for key, value in zip(keys, values)}\n",
    "print(res)"
   ]
  }
 ],
 "metadata": {
  "kernelspec": {
   "display_name": "Python [conda env:base] *",
   "language": "python",
   "name": "conda-base-py"
  },
  "language_info": {
   "codemirror_mode": {
    "name": "ipython",
    "version": 3
   },
   "file_extension": ".py",
   "mimetype": "text/x-python",
   "name": "python",
   "nbconvert_exporter": "python",
   "pygments_lexer": "ipython3",
   "version": "3.12.7"
  }
 },
 "nbformat": 4,
 "nbformat_minor": 5
}
