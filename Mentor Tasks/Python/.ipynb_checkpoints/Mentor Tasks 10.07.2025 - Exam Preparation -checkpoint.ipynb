{
 "cells": [
  {
   "cell_type": "code",
   "execution_count": 1,
   "id": "f96b1062",
   "metadata": {},
   "outputs": [],
   "source": [
    "# 1. Verilmiş bir listdə yalnız 5-dən böyük ədədləri seçərək yeni bir list yaratmaq üçün\n",
    "# lambda funksiyasını və filter metodunu istifadə edin."
   ]
  },
  {
   "cell_type": "code",
   "execution_count": 3,
   "id": "f0008c84",
   "metadata": {},
   "outputs": [],
   "source": [
    "# 2. Verilən listlərdəki ortaq elementləri tapın və onların cəmini hesablayın.\n",
    "# (lambda, filter, reduce istifadə edin)\n",
    "# list1 = [1, 2, 3, 4, 5]\n",
    "# list2 = [4, 5, 6, 7, 8]"
   ]
  },
  {
   "cell_type": "code",
   "execution_count": 5,
   "id": "bd72ab15",
   "metadata": {},
   "outputs": [],
   "source": [
    "# 3. Verilmiş listdəki yalnız uzunluğu 5-dən böyük olan sözləri böyük hərflərə çevirin və yeni list yaradın.\n",
    "# (lambda, map, filter istifadə edin)\n",
    "# words = [\"python\", \"lambda\", \"map\", \"filter\", \"reduce\", \"function\", \"example\"]\n",
    "# Əvvəlcə uzunluğu 5-dən böyük sözləri filter ilə seç"
   ]
  },
  {
   "cell_type": "code",
   "execution_count": 7,
   "id": "e9ea717d",
   "metadata": {},
   "outputs": [],
   "source": [
    "# 4. Verilmiş rəqəmlərin kvadratlarını və kublarını listdə saxlayın.\n",
    "# (lambda, map, filter istifadə edin)\n",
    "# numbers_4 = [2, 3, 4]"
   ]
  },
  {
   "cell_type": "code",
   "execution_count": 9,
   "id": "43dd7123",
   "metadata": {},
   "outputs": [],
   "source": [
    "# 5. Verilmiş listdəki ən kiçik rəqəmi tapmaq üçün reduce istifadə edin.\n",
    "# numbers_5 = [20, 34, 12, 78, 5, 42]"
   ]
  },
  {
   "cell_type": "code",
   "execution_count": 11,
   "id": "81b7e3ba",
   "metadata": {},
   "outputs": [],
   "source": [
    "# 6. Bird adlı bir class yaradın. Parrot və Penguin class-ları Bird class-ından miras alsın və hər birinə fly() adlı\n",
    "# metod təyin edin. Parrot və Penguin class-larındakı fly() metodları fərqli mesajlar versin və polimorfizmi göstərin.\n",
    "# Əsas parent class"
   ]
  },
  {
   "cell_type": "code",
   "execution_count": 13,
   "id": "eb77f916",
   "metadata": {},
   "outputs": [],
   "source": [
    "# 7. Bir neçə ədəd qəbul edən və bu ədədlərin kvadratı, kubu və s. qüvvətli cəmlərini qaytaran bir funksiya yazın.\n",
    "# (*args istifadə edin)\n",
    "# Məsələn; x_func(2, 1, 2, 3)  ---> ilk yazılan rəqəm qüvvəti ifadə edir. (2, 1, 2, 3) - burada birinci 2 qüvvətdir\n",
    "# Nəticə: 14\n"
   ]
  },
  {
   "cell_type": "code",
   "execution_count": 15,
   "id": "14a26eb4",
   "metadata": {},
   "outputs": [],
   "source": [
    "# 8. Bir listdəki max və min dəyərləri qaytaran bir funksiya yazın. (For loop və if istifadə edin)"
   ]
  }
 ],
 "metadata": {
  "kernelspec": {
   "display_name": "Python 3 (ipykernel)",
   "language": "python",
   "name": "python3"
  },
  "language_info": {
   "codemirror_mode": {
    "name": "ipython",
    "version": 3
   },
   "file_extension": ".py",
   "mimetype": "text/x-python",
   "name": "python",
   "nbconvert_exporter": "python",
   "pygments_lexer": "ipython3",
   "version": "3.12.4"
  }
 },
 "nbformat": 4,
 "nbformat_minor": 5
}
