{
 "cells": [
  {
   "cell_type": "code",
   "execution_count": 7,
   "id": "1121e5f0",
   "metadata": {},
   "outputs": [],
   "source": [
    "# 1. Aşağıdakı ailə ağacını yaradın və display_tree() metodunu istifadə edərək ailə ağacını göstərin.\n",
    "\n",
    "# Ana: Elizabeth\n",
    "### Övlad: Charles\n",
    "### Övlad: Andrew\n",
    "##### Nəvə: Harry"
   ]
  },
  {
   "cell_type": "code",
   "execution_count": 1,
   "id": "cd1cfe50",
   "metadata": {},
   "outputs": [],
   "source": [
    "# 2. \"Təkamül\" adlı bir ağac yaradın. Root \"Ortaq Əcdad\" olsun və onun altında \"Hominidlər\" və \"Primatlar\" node-ları\n",
    "# yerləşsin. display_tree() metodunu istifadə edərək təkamül strukturunu çap edin."
   ]
  },
  {
   "cell_type": "code",
   "execution_count": 3,
   "id": "ce3eb60e",
   "metadata": {},
   "outputs": [],
   "source": [
    "# Aşağıdakı şəhərlər arasında əlaqələri təmsil edən bir graph yaradın və display_graph() funksiyası ilə graph-ı çap edin.\n",
    "\n",
    "# Bakı ↔ Quba\n",
    "# Quba ↔ Gəncə\n",
    "# Bakı ↔ Sumqayıt\n"
   ]
  },
  {
   "cell_type": "code",
   "execution_count": null,
   "id": "a3e1c85c",
   "metadata": {},
   "outputs": [],
   "source": []
  }
 ],
 "metadata": {
  "kernelspec": {
   "display_name": "Python 3 (ipykernel)",
   "language": "python",
   "name": "python3"
  },
  "language_info": {
   "codemirror_mode": {
    "name": "ipython",
    "version": 3
   },
   "file_extension": ".py",
   "mimetype": "text/x-python",
   "name": "python",
   "nbconvert_exporter": "python",
   "pygments_lexer": "ipython3",
   "version": "3.12.4"
  }
 },
 "nbformat": 4,
 "nbformat_minor": 5
}
