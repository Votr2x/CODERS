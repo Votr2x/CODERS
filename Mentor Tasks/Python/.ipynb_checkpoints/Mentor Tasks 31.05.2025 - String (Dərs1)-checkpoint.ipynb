{
 "cells": [
  {
   "cell_type": "code",
   "execution_count": 1,
   "id": "172a6605",
   "metadata": {},
   "outputs": [],
   "source": [
    "%matplotlib inline\n",
    "import matplotlib.pyplot as plt\n",
    "import pandas as pd\n",
    "import numpy as np\n",
    "import math"
   ]
  },
  {
   "cell_type": "code",
   "execution_count": 42,
   "id": "6a06db53",
   "metadata": {},
   "outputs": [],
   "source": [
    "# 1.  a1 = \"python programming is fun\" sətirini yaradın.\n",
    "\n",
    "# Sətirdən \"programming\" sözünü kəsin (slicing).\n",
    "# Bu sözün ilk hərfini böyük hərfə çevirin və tam cümləyə yenidən birləşdirin,\n",
    "# nəticə \"Python Programming is fun\" olsun.\n",
    "# Yeni cümləni çap edin."
   ]
  },
  {
   "cell_type": "code",
   "execution_count": 44,
   "id": "001a964b",
   "metadata": {},
   "outputs": [],
   "source": [
    "# 2. a2 = \"datascience\" sətirini yaradın. Sətiri tərsinə çevirin və nəticəni çap edin."
   ]
  },
  {
   "cell_type": "code",
   "execution_count": 25,
   "id": "ec9cd93b",
   "metadata": {},
   "outputs": [],
   "source": [
    "# 3. a3 = \"hello world\" sətirini yaradın.\n",
    "\n",
    "# Sətiri böyük hərflərə çevirin.\n",
    "# \"world\" sözünü \"Python\" ilə əvəz edin.\n",
    "# Son nəticəni çap edin."
   ]
  },
  {
   "cell_type": "code",
   "execution_count": 39,
   "id": "46619e61",
   "metadata": {},
   "outputs": [],
   "source": [
    "# 4. x4 = \"Azerbaijan\" sətirini yaradın və sətirdə \"a\" hərfinin neçə dəfə\n",
    "# təkrarlandığını hesablayın.Nəticəni çap edin."
   ]
  },
  {
   "cell_type": "code",
   "execution_count": 6,
   "id": "2a4076f4",
   "metadata": {},
   "outputs": [],
   "source": [
    "# 5. a5 = [\"Data\", \"Science\", \"öyrənmək\", \"maraqlıdır\"] siyahısını yaradın.\n",
    "\n",
    "# Siyahını boşluqla ayrılmış bir sətir halında birləşdirin və nəticəni çap edin."
   ]
  },
  {
   "cell_type": "code",
   "execution_count": 7,
   "id": "0f36da30",
   "metadata": {},
   "outputs": [],
   "source": [
    "# 6.  a6 = \"Coders Azerbaijan\" sətirini yaradın.\n",
    "\n",
    "# Sətirdən \"Coders\" sözünü çıxarın və yalnız \"Azerbaijan\" hissəsini çap edin."
   ]
  },
  {
   "cell_type": "code",
   "execution_count": 8,
   "id": "3f2f346a",
   "metadata": {},
   "outputs": [],
   "source": [
    "# 7. a7 = \"Earth\" sətirini yaradın.\n",
    "\n",
    "# Sətirdə ilk və sonuncu hərfin yerini dəyişin və nəticəni çap edin."
   ]
  },
  {
   "cell_type": "code",
   "execution_count": 9,
   "id": "00761805",
   "metadata": {},
   "outputs": [],
   "source": [
    "# 8. nomre = \"123-45-67-89\" sətirini yaradın.\n",
    "\n",
    "# Sətirdə \"-\" simvolunu çıxarın və nəticəni çap edin."
   ]
  }
 ],
 "metadata": {
  "kernelspec": {
   "display_name": "Python [conda env:base] *",
   "language": "python",
   "name": "conda-base-py"
  },
  "language_info": {
   "codemirror_mode": {
    "name": "ipython",
    "version": 3
   },
   "file_extension": ".py",
   "mimetype": "text/x-python",
   "name": "python",
   "nbconvert_exporter": "python",
   "pygments_lexer": "ipython3",
   "version": "3.12.7"
  }
 },
 "nbformat": 4,
 "nbformat_minor": 5
}
