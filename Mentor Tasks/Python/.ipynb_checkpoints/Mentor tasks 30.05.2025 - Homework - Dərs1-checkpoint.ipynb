{
 "cells": [
  {
   "cell_type": "code",
   "execution_count": null,
   "id": "c87af691-25c9-42f7-ac6b-abc94ac7dee9",
   "metadata": {},
   "outputs": [],
   "source": [
    "#1.Age adlı dəyişənə 22 dəyərini ver və float-a çevirərək çap et."
   ]
  },
  {
   "cell_type": "code",
   "execution_count": 3,
   "id": "154353fb-fd33-4829-b93e-1de458b4df0a",
   "metadata": {},
   "outputs": [],
   "source": [
    "AGE = 22"
   ]
  },
  {
   "cell_type": "code",
   "execution_count": 4,
   "id": "8986da34-c3b8-4cc2-bd73-6be97640a022",
   "metadata": {},
   "outputs": [],
   "source": [
    "AGE_FLOAT = float(AGE)"
   ]
  },
  {
   "cell_type": "code",
   "execution_count": 6,
   "id": "5b9cef61-3ed5-4c3a-96e4-2338c4a660c2",
   "metadata": {},
   "outputs": [
    {
     "name": "stdout",
     "output_type": "stream",
     "text": [
      "22.0\n"
     ]
    }
   ],
   "source": [
    "print(AGE_FLOAT)"
   ]
  },
  {
   "cell_type": "code",
   "execution_count": null,
   "id": "71fc612f-dfe2-418b-bcec-09486f3a5823",
   "metadata": {},
   "outputs": [],
   "source": [
    "#2.is_raining adlı boolean dəyişən ver (True). Əgər False deyilsə, \"Yağış yağır\" yazısını çap et."
   ]
  },
  {
   "cell_type": "code",
   "execution_count": 7,
   "id": "66132210-a488-48aa-8add-5f79aed0a8ad",
   "metadata": {},
   "outputs": [],
   "source": [
    "is_raining = True"
   ]
  },
  {
   "cell_type": "code",
   "execution_count": 10,
   "id": "41fd5f0d-3f85-44d2-8262-b7b8e08c1383",
   "metadata": {},
   "outputs": [
    {
     "name": "stdout",
     "output_type": "stream",
     "text": [
      "'Yağış yağır'\n"
     ]
    }
   ],
   "source": [
    "if is_raining != False:\n",
    "    print(\"'Yağış yağır'\")"
   ]
  },
  {
   "cell_type": "code",
   "execution_count": 11,
   "id": "3b1093db-d9e9-4edb-a79e-a574d9bdb5bc",
   "metadata": {},
   "outputs": [],
   "source": [
    "#3. x = \"17\"\n",
    "# Mövcud tipi göstər:      \n",
    "# float-a çevir:     \n",
    "# Yeni tipi göstər:"
   ]
  },
  {
   "cell_type": "code",
   "execution_count": 14,
   "id": "bd112d01-e513-4885-917c-c8867d6e2441",
   "metadata": {},
   "outputs": [],
   "source": [
    "x = \"17\""
   ]
  },
  {
   "cell_type": "code",
   "execution_count": 15,
   "id": "3d78c85e-f0df-4f1c-8692-02dacded4858",
   "metadata": {},
   "outputs": [],
   "source": [
    "x_float = float(x)"
   ]
  },
  {
   "cell_type": "code",
   "execution_count": 16,
   "id": "aac569e7-063a-48fe-b09a-37da87d81ec5",
   "metadata": {},
   "outputs": [
    {
     "data": {
      "text/plain": [
       "float"
      ]
     },
     "execution_count": 16,
     "metadata": {},
     "output_type": "execute_result"
    }
   ],
   "source": [
    "type(x_float)"
   ]
  },
  {
   "cell_type": "code",
   "execution_count": null,
   "id": "f9b3d4fa-d7cf-462a-8c61-31dd9f9f6fe9",
   "metadata": {},
   "outputs": [],
   "source": [
    "#4.Bir mürəkkəb ədəd təyin edin (c = 8 + 3j) və aşağıdakıları çap edin:\n",
    "# Həqiqi hissə\n",
    "# Xəyalı hissə"
   ]
  },
  {
   "cell_type": "code",
   "execution_count": 17,
   "id": "70e48560-07c5-4ae9-9f68-652f25cfd500",
   "metadata": {},
   "outputs": [],
   "source": [
    "c = 8 + 3j"
   ]
  },
  {
   "cell_type": "code",
   "execution_count": 18,
   "id": "a1f28514-d8ae-411f-a368-401625cf89c5",
   "metadata": {},
   "outputs": [
    {
     "name": "stdout",
     "output_type": "stream",
     "text": [
      "8.0 3.0\n"
     ]
    }
   ],
   "source": [
    "print(c.real, c.imag)"
   ]
  },
  {
   "cell_type": "code",
   "execution_count": null,
   "id": "8ed02feb-e523-4d27-bee6-b611b76e84e9",
   "metadata": {},
   "outputs": [],
   "source": [
    "#5.Hasili tapin:\n",
    "# int1 = 2\n",
    "# int2 = 3"
   ]
  },
  {
   "cell_type": "code",
   "execution_count": 20,
   "id": "1e30f3fd-2bb3-4503-87c9-01a16769f914",
   "metadata": {},
   "outputs": [
    {
     "name": "stdout",
     "output_type": "stream",
     "text": [
      "0.6666666666666666\n"
     ]
    }
   ],
   "source": [
    "INT1 = 2\n",
    "INT2 = 3\n",
    "print(INT1 / INT2)"
   ]
  },
  {
   "cell_type": "code",
   "execution_count": null,
   "id": "190cf333-2994-462c-83b6-db5de45113b2",
   "metadata": {},
   "outputs": [],
   "source": [
    "#6.Cəmini tapın:\n",
    "# a=3.0\n",
    "# b=5.0"
   ]
  },
  {
   "cell_type": "code",
   "execution_count": 21,
   "id": "03d6d58f-fb85-4875-b2f2-d8294630c76e",
   "metadata": {},
   "outputs": [],
   "source": [
    "A = 3.0\n",
    "B = 5.0"
   ]
  },
  {
   "cell_type": "code",
   "execution_count": 22,
   "id": "f5c48a47-af2b-4b8f-89de-fb07564a0be3",
   "metadata": {},
   "outputs": [
    {
     "name": "stdout",
     "output_type": "stream",
     "text": [
      "8.0\n"
     ]
    }
   ],
   "source": [
    "print( A + B )"
   ]
  },
  {
   "cell_type": "code",
   "execution_count": null,
   "id": "b4ee33ca-0d92-4149-b615-da0e35f71811",
   "metadata": {},
   "outputs": [],
   "source": [
    " # 7. x = 5\n",
    " #  y = 2.0\n",
    " #  z = 3 + 4j\n",
    "\n",
    "# Tipini çevirmə: float to int\n",
    "# Kompleksin real hissəsini tapın:\n",
    "# Cəmi tapın: sum_xyz = x + y + z_real"
   ]
  },
  {
   "cell_type": "code",
   "execution_count": 24,
   "id": "758b8074-bfa3-4943-8a58-fbc3ab0a616b",
   "metadata": {},
   "outputs": [],
   "source": [
    "X = 5"
   ]
  },
  {
   "cell_type": "code",
   "execution_count": 39,
   "id": "963a4c33-cbbb-4c01-8521-beaf57e41fb5",
   "metadata": {},
   "outputs": [],
   "source": [
    "Y = 2.0"
   ]
  },
  {
   "cell_type": "code",
   "execution_count": 40,
   "id": "365cc291-333c-45a4-8ddb-117c3bf99376",
   "metadata": {},
   "outputs": [],
   "source": [
    "Z = 3 + 4j"
   ]
  },
  {
   "cell_type": "code",
   "execution_count": 41,
   "id": "ff2991fa-9d63-4577-8656-f4cd69da8cb1",
   "metadata": {},
   "outputs": [
    {
     "name": "stdout",
     "output_type": "stream",
     "text": [
      "2\n"
     ]
    }
   ],
   "source": [
    "Y1 = int(Y)\n",
    "print(Y1)"
   ]
  },
  {
   "cell_type": "code",
   "execution_count": 42,
   "id": "82d054b4-7cda-4a33-a7dd-99e9abad125b",
   "metadata": {},
   "outputs": [
    {
     "name": "stdout",
     "output_type": "stream",
     "text": [
      "3.0\n"
     ]
    }
   ],
   "source": [
    "Real_Part = Z.real\n",
    "print(Real_Part)"
   ]
  },
  {
   "cell_type": "code",
   "execution_count": 43,
   "id": "0400b00e-e78f-44f6-b85a-2fd884a97352",
   "metadata": {},
   "outputs": [
    {
     "name": "stdout",
     "output_type": "stream",
     "text": [
      "10.0\n"
     ]
    }
   ],
   "source": [
    "SUM_XYZ = X + Y1 + Real_Part\n",
    "print(SUM_XYZ)"
   ]
  }
 ],
 "metadata": {
  "kernelspec": {
   "display_name": "Python [conda env:base] *",
   "language": "python",
   "name": "conda-base-py"
  },
  "language_info": {
   "codemirror_mode": {
    "name": "ipython",
    "version": 3
   },
   "file_extension": ".py",
   "mimetype": "text/x-python",
   "name": "python",
   "nbconvert_exporter": "python",
   "pygments_lexer": "ipython3",
   "version": "3.12.7"
  }
 },
 "nbformat": 4,
 "nbformat_minor": 5
}
