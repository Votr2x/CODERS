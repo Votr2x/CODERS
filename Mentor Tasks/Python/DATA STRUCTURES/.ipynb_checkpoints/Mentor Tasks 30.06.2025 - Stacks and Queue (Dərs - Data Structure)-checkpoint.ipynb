{
 "cells": [
  {
   "cell_type": "code",
   "execution_count": 1,
   "id": "36b7e59f",
   "metadata": {},
   "outputs": [],
   "source": [
    "# 1. Listdən istifadə edərək sadə bir stack qurun. Stack üzərində aşağıdakı əməliyyatları yerinə yetirmək üçün\n",
    "# funksiyalar yazın: push, pop, peek, is_empty"
   ]
  },
  {
   "cell_type": "code",
   "execution_count": 17,
   "id": "4a9b3700-167e-4954-a8ac-e2c3cfb2aa22",
   "metadata": {},
   "outputs": [],
   "source": [
    "class STACK:\n",
    "    def __init__(self):\n",
    "        self.items = []\n",
    "    def push(self, item):\n",
    "        self.items.append(item)\n",
    "    def pop(self):\n",
    "        self.items.pop()\n",
    "    def peek(self):\n",
    "        return self.items[-1]\n",
    "    def is_empty(self):\n",
    "        if len(self.items) == 0:\n",
    "            print(\"Stack is empty!\")\n",
    "        else:\n",
    "            print(\"Stack has values!\")"
   ]
  },
  {
   "cell_type": "code",
   "execution_count": 13,
   "id": "ea11da9d",
   "metadata": {},
   "outputs": [],
   "source": [
    "# 2. Verilən stringi stack ilə tərsinə çevirən bir funksiya yazın.\n",
    "# Bu funksiyanı append və pop əməliyyatları ilə yazın."
   ]
  },
  {
   "cell_type": "code",
   "execution_count": 23,
   "id": "8b4c42d5-3e76-4509-912b-71296f8f388e",
   "metadata": {},
   "outputs": [
    {
     "data": {
      "text/plain": [
       "'ola'"
      ]
     },
     "execution_count": 23,
     "metadata": {},
     "output_type": "execute_result"
    }
   ],
   "source": [
    "def REV(a):\n",
    "    stack = []\n",
    "    for i in a:\n",
    "        stack.append(i)\n",
    "    reversed = ''\n",
    "    while stack:\n",
    "        reversed += stack.pop()\n",
    "    return(reversed)\n",
    "REV(\"alo\")    "
   ]
  },
  {
   "cell_type": "code",
   "execution_count": 3,
   "id": "4c593f73",
   "metadata": {},
   "outputs": [],
   "source": [
    "# 3. List ilə queue yaradın və bu queue üzərində aşağıdakı əməliyyatları yerinə yetirən funksiyalar yazın:\n",
    "# enqueue, dequeue, is_empty"
   ]
  },
  {
   "cell_type": "code",
   "execution_count": 37,
   "id": "3dabe79d-74d9-4510-96ad-e9073e703ed4",
   "metadata": {},
   "outputs": [],
   "source": [
    "class Queue:\n",
    "    def __init__(self):\n",
    "        self.items = []\n",
    "\n",
    "    def enqueue(self, item):\n",
    "        self.items.append(item)  \n",
    "\n",
    "    def dequeue(self):\n",
    "        if not self.is_empty():\n",
    "            return self.items.popleft()  \n",
    "        else:\n",
    "            return None  \n",
    "\n",
    "    def peek(self):\n",
    "        if not self.is_empty():\n",
    "            return self.items[0]  \n",
    "        else:\n",
    "            return None\n",
    "\n",
    "    def is_empty(self):\n",
    "        return len(self.items) == 0\n",
    "    \n",
    "    def summ(self):\n",
    "        a = 0\n",
    "        while self.items:\n",
    "            a += int(self.items.pop())\n",
    "        return a"
   ]
  },
  {
   "cell_type": "code",
   "execution_count": 38,
   "id": "43978e2c",
   "metadata": {},
   "outputs": [],
   "source": [
    "# 4. Queue-də olan bütün elementlərin cəmini qaytaran bir funksiya yazın. Funksiyada while istifadə edin."
   ]
  },
  {
   "cell_type": "code",
   "execution_count": 39,
   "id": "b669f036-4e92-4913-9854-a164aa645bda",
   "metadata": {},
   "outputs": [
    {
     "data": {
      "text/plain": [
       "6"
      ]
     },
     "execution_count": 39,
     "metadata": {},
     "output_type": "execute_result"
    }
   ],
   "source": [
    "q = Queue()\n",
    "q.enqueue(1)\n",
    "q.enqueue(2)\n",
    "q.enqueue(3)\n",
    "q.summ()"
   ]
  },
  {
   "cell_type": "code",
   "execution_count": 5,
   "id": "e854405e",
   "metadata": {},
   "outputs": [],
   "source": [
    "# 5. Deque yaradın və verilən əməliyyatları icra edin: append_left, append_right, pop_left, pop_right"
   ]
  },
  {
   "cell_type": "code",
   "execution_count": 42,
   "id": "429da75b-a9d1-40a5-82f6-31516ec56065",
   "metadata": {},
   "outputs": [],
   "source": [
    "from collections import deque\n",
    "class Queue:\n",
    "    def __init__(self):\n",
    "        self.items = deque()  \n",
    "\n",
    "    def append_left(self, item):\n",
    "        self.items.insert(0, item)\n",
    "\n",
    "    def append_right(self, item):\n",
    "        self.items.append(item)  \n",
    "\n",
    "    def pop_left(self):\n",
    "        self.items.popleft()\n",
    "\n",
    "    def pop_left(self):\n",
    "        self.items.pop()"
   ]
  },
  {
   "cell_type": "code",
   "execution_count": 6,
   "id": "8b871fae",
   "metadata": {},
   "outputs": [],
   "source": [
    "# 6. Deque istifadə edərək verilmiş bir sətirin palindrom olub olmadığını yoxlayan bir funksiya yazın."
   ]
  },
  {
   "cell_type": "code",
   "execution_count": 43,
   "id": "71b95550-1fe1-4339-8314-f435feaafd55",
   "metadata": {},
   "outputs": [
    {
     "name": "stdout",
     "output_type": "stream",
     "text": [
      "Is palindrome\n",
      "Is not palindrome\n"
     ]
    }
   ],
   "source": [
    "def Is_Palindrome(string):\n",
    "    d = deque(string)\n",
    "    rev = deque(reversed(d))\n",
    "    if d == rev:\n",
    "        print('Is palindrome')\n",
    "    else:\n",
    "        print('Is not palindrome')\n",
    "\n",
    "Is_Palindrome('HannaH')\n",
    "Is_Palindrome('Hello')"
   ]
  }
 ],
 "metadata": {
  "kernelspec": {
   "display_name": "Python [conda env:base] *",
   "language": "python",
   "name": "conda-base-py"
  },
  "language_info": {
   "codemirror_mode": {
    "name": "ipython",
    "version": 3
   },
   "file_extension": ".py",
   "mimetype": "text/x-python",
   "name": "python",
   "nbconvert_exporter": "python",
   "pygments_lexer": "ipython3",
   "version": "3.12.7"
  }
 },
 "nbformat": 4,
 "nbformat_minor": 5
}
