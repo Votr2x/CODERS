{
 "cells": [
  {
   "cell_type": "code",
   "execution_count": 1,
   "id": "67881b5a-f12a-453c-8929-14f343e4d3e1",
   "metadata": {},
   "outputs": [],
   "source": [
    "# 1. Edges = [(0,1), (0,2), (1,2), (2,0), (2,3), (3,3)]\n",
    "# Python-da verilmiş edge list əsasında adjacency list yaradın və çap edin:"
   ]
  },
  {
   "cell_type": "code",
   "execution_count": 3,
   "id": "e686e05d-a706-4829-9c41-bdd445664df5",
   "metadata": {},
   "outputs": [],
   "source": [
    "# 2. Verilən şəxslər arasında dostluq əlaqələrini təmsil edən yönsüz qraf qur\n",
    "#  və onu display_network() funksiyası ilə çap et və vizuallaşdır.\n",
    "# Dostluq əlaqələri:\n",
    "# Aylin ↔ Elşən\n",
    "# Elşən ↔ Kamran\n",
    "# Aylin ↔ Leyla\n",
    "# Leyla ↔ Kamran\n",
    "# Kamran ↔ Murad"
   ]
  },
  {
   "cell_type": "code",
   "execution_count": null,
   "id": "5c69518d-fd77-4d5d-9755-3f1770795155",
   "metadata": {},
   "outputs": [],
   "source": [
    "# 3.Verilmiş parent-child cütlüklərinə əsasən bir ağac (tree) qur.\n",
    "# Daha sonra həmin ağacı NetworkX istifadə edərək qraf (directed tree) kimi vizuallaşdır.\n",
    "# Edges = [\n",
    "#   (\"A\", \"B\"),\n",
    "#   (\"A\", \"C\"),\n",
    "#    (\"B\", \"D\"),\n",
    "#   (\"B\", \"E\"),\n",
    "#    (\"C\", \"F\"),\n",
    "#    (\"E\", \"G\")\n",
    "# ]"
   ]
  }
 ],
 "metadata": {
  "kernelspec": {
   "display_name": "Python [conda env:base] *",
   "language": "python",
   "name": "conda-base-py"
  },
  "language_info": {
   "codemirror_mode": {
    "name": "ipython",
    "version": 3
   },
   "file_extension": ".py",
   "mimetype": "text/x-python",
   "name": "python",
   "nbconvert_exporter": "python",
   "pygments_lexer": "ipython3",
   "version": "3.12.7"
  }
 },
 "nbformat": 4,
 "nbformat_minor": 5
}
