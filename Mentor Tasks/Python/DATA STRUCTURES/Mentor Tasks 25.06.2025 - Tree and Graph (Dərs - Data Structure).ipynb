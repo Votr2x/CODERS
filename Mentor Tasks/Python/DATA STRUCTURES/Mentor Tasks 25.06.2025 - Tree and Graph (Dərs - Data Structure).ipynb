{
 "cells": [
  {
   "cell_type": "code",
   "execution_count": 7,
   "id": "1121e5f0",
   "metadata": {},
   "outputs": [],
   "source": [
    "# 1. Aşağıdakı ailə ağacını yaradın və display_tree() metodunu istifadə edərək ailə ağacını göstərin.\n",
    "\n",
    "# Ana: Elizabeth\n",
    "### Övlad: Charles\n",
    "### Övlad: Andrew\n",
    "##### Nəvə: Harry\n",
    "\n",
    "class Aile_Agaci:\n",
    "    def __init__(self, name):\n",
    "        self.name = name\n",
    "        self.children = []\n",
    "        \n",
    "    def add_child(self, child):\n",
    "        self.children.append(child)\n",
    "        \n",
    "    def display_tree(self, level = 0):\n",
    "        if level == 0:\n",
    "            relation = \"Ana\"\n",
    "        elif level == 1:\n",
    "            relation = \"Övlad\"\n",
    "        elif level == 1:\n",
    "            relation = \"Övlad\"\n",
    "        elif level == 2:\n",
    "            relation = \"Nəvə\"\n",
    "        else:\n",
    "            relation = \"Məlumat yoxdur\"\n",
    "            \n",
    "        print(\" \" * level * 2 + f\"{relation}: {self.name}\")\n",
    "        for child in self.children:\n",
    "            child.display_tree(level + 1)"
   ]
  },
  {
   "cell_type": "code",
   "execution_count": 8,
   "id": "e720aad4",
   "metadata": {},
   "outputs": [],
   "source": [
    "root = Aile_Agaci(\"Elizabeth\")\n",
    "\n",
    "child1 = Aile_Agaci(\"Andrew\")\n",
    "child2 = Aile_Agaci(\"Charles\")\n",
    "\n",
    "root.add_child(child1)\n",
    "root.add_child(child2)\n",
    "\n",
    "grandchild = Aile_Agaci(\"Harry\")\n",
    "child2.add_child(grandchild)"
   ]
  },
  {
   "cell_type": "code",
   "execution_count": 9,
   "id": "44735acc",
   "metadata": {},
   "outputs": [
    {
     "name": "stdout",
     "output_type": "stream",
     "text": [
      "Ana: Elizabeth\n",
      "  Övlad: Andrew\n",
      "  Övlad: Charles\n",
      "    Nəvə: Harry\n"
     ]
    }
   ],
   "source": [
    "root.display_tree()"
   ]
  },
  {
   "cell_type": "code",
   "execution_count": 10,
   "id": "34bcafa4",
   "metadata": {},
   "outputs": [
    {
     "data": {
      "image/png": "[encoded data removed]",
      "text/plain": [
       "<Figure size 800x600 with 1 Axes>"
      ]
     },
     "metadata": {},
     "output_type": "display_data"
    }
   ],
   "source": [
    "import matplotlib.pyplot as plt\n",
    "import networkx as nx\n",
    "\n",
    "class TreeNode:\n",
    "    def __init__(self, name):\n",
    "        self.name = name\n",
    "        self.children = []\n",
    "\n",
    "    def add_child(self, child):\n",
    "        self.children.append(child)\n",
    "\n",
    "    def add_edges(self, graph):\n",
    "        for child in self.children:\n",
    "            graph.add_edge(self.name, child.name)\n",
    "            child.add_edges(graph)\n",
    "\n",
    "root = TreeNode(\"Elizabeth\")\n",
    "\n",
    "child1 = TreeNode(\"Andrew\")\n",
    "child2 = TreeNode(\"Charles\")\n",
    "\n",
    "root.add_child(child1)\n",
    "root.add_child(child2)\n",
    "\n",
    "grandchild = TreeNode(\"Harry\")\n",
    "child2.add_child(grandchild)\n",
    "\n",
    "G = nx.DiGraph()\n",
    "\n",
    "root.add_edges(G)\n",
    "\n",
    "pos = {\n",
    "    \"Elizabeth\": (2, 3),\n",
    "    \"Andrew\": (1, 2),\n",
    "    \"Charles\": (3, 2),\n",
    "    \"Harry\": (3, 1)\n",
    "}\n",
    "\n",
    "plt.figure(figsize=(8, 6))\n",
    "nx.draw(G, pos, with_labels=True, node_size=3000, node_color=\"lightblue\", font_size=10, font_weight=\"bold\", arrows=False)\n",
    "plt.title(\"Family Tree\")\n",
    "plt.show()"
   ]
  },
  {
   "cell_type": "code",
   "execution_count": 11,
   "id": "cd1cfe50",
   "metadata": {},
   "outputs": [
    {
     "name": "stdout",
     "output_type": "stream",
     "text": [
      "Əcdad: Ortaq Əcdad\n",
      "  Qrup: Hominidlər\n",
      "  Qrup: Primatlar\n"
     ]
    }
   ],
   "source": [
    "# 2. \"Təkamül\" adlı bir ağac yaradın. Root \"Ortaq Əcdad\" olsun və onun altında \"Hominidlər\" və \"Primatlar\" node-ları\n",
    "# yerləşsin. display_tree() metodunu istifadə edərək təkamül strukturunu çap edin.\n",
    "\n",
    "class TreeNode:\n",
    "    def __init__(self, name):\n",
    "        self.name = name\n",
    "        self.children = []\n",
    "\n",
    "    def add_child(self, child):\n",
    "        self.children.append(child)\n",
    "\n",
    "    def display_tree(self, level=0):\n",
    "        if level == 0:\n",
    "            relation = \"Əcdad\"\n",
    "        elif level == 1:\n",
    "            relation = \"Qrup\"\n",
    "        else:\n",
    "            relation = \"Alt Qrup\"\n",
    "\n",
    "        print(\" \" * level * 2 + f\"{relation}: {self.name}\")\n",
    "        for child in self.children:\n",
    "            child.display_tree(level + 1)\n",
    "\n",
    "root = TreeNode(\"Ortaq Əcdad\")\n",
    "\n",
    "group1 = TreeNode(\"Hominidlər\") \n",
    "group2 = TreeNode(\"Primatlar\")\n",
    "\n",
    "root.add_child(group1)\n",
    "root.add_child(group2)\n",
    "\n",
    "root.display_tree()"
   ]
  },
  {
   "cell_type": "code",
   "execution_count": 12,
   "id": "1b78967a",
   "metadata": {},
   "outputs": [
    {
     "data": {
      "image/png": "[encoded data removed]",
      "text/plain": [
       "<Figure size 800x600 with 1 Axes>"
      ]
     },
     "metadata": {},
     "output_type": "display_data"
    }
   ],
   "source": [
    "class TreeNode:\n",
    "    def __init__(self, name):\n",
    "        self.name = name\n",
    "        self.children = []\n",
    "\n",
    "    def add_child(self, child):\n",
    "        self.children.append(child)\n",
    "\n",
    "    def add_edges(self, graph):\n",
    "        for child in self.children:\n",
    "            graph.add_edge(self.name, child.name)\n",
    "            child.add_edges(graph)\n",
    "\n",
    "root = TreeNode(\"Ortaq Əcdad\")\n",
    "\n",
    "group1 = TreeNode(\"Hominidlər\") \n",
    "group2 = TreeNode(\"Primatlar\")\n",
    "\n",
    "root.add_child(group1)\n",
    "root.add_child(group2)\n",
    "\n",
    "G = nx.DiGraph()\n",
    "\n",
    "root.add_edges(G)\n",
    "\n",
    "pos = {\n",
    "    \"Ortaq Əcdad\": (2, 3),\n",
    "    \"Hominidlər\": (1, 2),\n",
    "    \"Primatlar\": (3, 2)\n",
    "}\n",
    "\n",
    "plt.figure(figsize=(8, 6))\n",
    "nx.draw(G, pos, with_labels=True, node_size=5000, node_color=\"lightblue\", font_size=10, font_weight=\"bold\", arrows=False)\n",
    "plt.title(\"Təkamül Strukturu\")\n",
    "plt.show()"
   ]
  },
  {
   "cell_type": "code",
   "execution_count": 13,
   "id": "ce3eb60e",
   "metadata": {},
   "outputs": [
    {
     "name": "stdout",
     "output_type": "stream",
     "text": [
      "Bakı -> Quba, Sumqayıt\n",
      "Quba -> Bakı, Gəncə\n",
      "Gəncə -> Quba\n",
      "Sumqayıt -> Bakı\n"
     ]
    }
   ],
   "source": [
    "# Aşağıdakı şəhərlər arasında əlaqələri təmsil edən bir graph yaradın və display_graph() funksiyası ilə graph-ı çap edin.\n",
    "\n",
    "# Bakı ↔ Quba\n",
    "# Quba ↔ Gəncə\n",
    "# Bakı ↔ Sumqayıt\n",
    "\n",
    "class Graph:\n",
    "    def __init__(self):\n",
    "        self.list1 = {}\n",
    "\n",
    "    def add_vertex(self, vertex):\n",
    "        if vertex not in self.list1:\n",
    "            self.list1[vertex] = []\n",
    "\n",
    "    def add_edge(self, vertex1, vertex2):\n",
    "        self.list1[vertex1].append(vertex2)\n",
    "        self.list1[vertex2].append(vertex1)\n",
    "\n",
    "    def display_graph(self):\n",
    "        for vertex, edges in self.list1.items():\n",
    "            print(f\"{vertex} -> {', '.join(edges)}\")\n",
    "\n",
    "g = Graph()\n",
    "cities = [\"Bakı\", \"Quba\", \"Gəncə\", \"Sumqayıt\"]\n",
    "for city in cities:\n",
    "    g.add_vertex(city)\n",
    "\n",
    "g.add_edge(\"Bakı\", \"Quba\")\n",
    "g.add_edge(\"Quba\", \"Gəncə\")\n",
    "g.add_edge(\"Bakı\", \"Sumqayıt\")\n",
    "\n",
    "g.display_graph()"
   ]
  },
  {
   "cell_type": "code",
   "execution_count": null,
   "id": "a3e1c85c",
   "metadata": {},
   "outputs": [],
   "source": []
  }
 ],
 "metadata": {
  "kernelspec": {
   "display_name": "Python [conda env:base] *",
   "language": "python",
   "name": "conda-base-py"
  },
  "language_info": {
   "codemirror_mode": {
    "name": "ipython",
    "version": 3
   },
   "file_extension": ".py",
   "mimetype": "text/x-python",
   "name": "python",
   "nbconvert_exporter": "python",
   "pygments_lexer": "ipython3",
   "version": "3.12.7"
  }
 },
 "nbformat": 4,
 "nbformat_minor": 5
}
