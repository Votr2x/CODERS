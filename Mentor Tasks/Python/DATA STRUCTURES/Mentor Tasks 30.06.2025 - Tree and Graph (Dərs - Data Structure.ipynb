{
 "cells": [
  {
   "cell_type": "code",
   "execution_count": 2,
   "id": "67881b5a-f12a-453c-8929-14f343e4d3e1",
   "metadata": {},
   "outputs": [],
   "source": [
    "# 1. Edges = [(0,1), (0,2), (1,2), (2,0), (2,3), (3,3)]\n",
    "# Python-da verilmiş edge list əsasında adjacency list yaradın və çap edin:"
   ]
  },
  {
   "cell_type": "code",
   "execution_count": 7,
   "id": "71f43e91-9dd9-4c8c-b446-8078d0900db0",
   "metadata": {},
   "outputs": [
    {
     "name": "stdout",
     "output_type": "stream",
     "text": [
      "0: [1, 2]\n",
      "1: [2]\n",
      "2: [0, 3]\n",
      "3: [3]\n"
     ]
    }
   ],
   "source": [
    "edges = [(0,1), (0,2), (1,2), (2,0), (2,3), (3,3)]\n",
    "\n",
    "adj_list = {}\n",
    "\n",
    "for src, dest in edges:\n",
    "    if src not in adj_list:\n",
    "        adj_list[src] = []\n",
    "    adj_list[src].append(dest)\n",
    "\n",
    "for node in adj_list:\n",
    "    print(f\"{node}: {adj_list[node]}\")\n",
    "    "
   ]
  },
  {
   "cell_type": "code",
   "execution_count": 1,
   "id": "e686e05d-a706-4829-9c41-bdd445664df5",
   "metadata": {},
   "outputs": [],
   "source": [
    "# 2. Verilən şəxslər arasında dostluq əlaqələrini təmsil edən yönsüz qraf qur\n",
    "#  və onu display_network() funksiyası ilə çap et və vizuallaşdır.\n",
    "# Dostluq əlaqələri:\n",
    "# Aylin ↔ Elşən\n",
    "# Elşən ↔ Kamran\n",
    "# Aylin ↔ Leylaa\n",
    "# Leyla ↔ Kamran\n",
    "# Kamran ↔ Murad"
   ]
  },
  {
   "cell_type": "code",
   "execution_count": 19,
   "id": "9535e5a7-2052-41e1-922c-cc10dc2f1dab",
   "metadata": {},
   "outputs": [
    {
     "name": "stdout",
     "output_type": "stream",
     "text": [
      "Aylin <-> Elshan, Leyla\n",
      "Elshan <-> Aylin, Kamran\n",
      "Kamran <-> Elshan, Leyla, Murad\n",
      "Leyla <-> Aylin, Kamran\n",
      "Murad <-> Kamran\n"
     ]
    }
   ],
   "source": [
    "class Graph:\n",
    "    def __init__(self):\n",
    "        self.list1 = {}\n",
    "\n",
    "    def add_vertex(self, vertex):\n",
    "        if vertex not in self.list1:\n",
    "            self.list1[vertex] = []\n",
    "\n",
    "    def add_edge(self, vertex1, vertex2):\n",
    "        self.list1[vertex1].append(vertex2)\n",
    "        self.list1[vertex2].append(vertex1)\n",
    "\n",
    "    def display_network(self):\n",
    "        for vertex, edges in self.list1.items():\n",
    "            print(f\"{vertex} <-> {', '.join(edges)}\")\n",
    "\n",
    "g = Graph()\n",
    "cities = ['Aylin', 'Elshan', 'Kamran', 'Leyla', 'Murad']\n",
    "for city in cities:\n",
    "    g.add_vertex(city)\n",
    "\n",
    "g.add_edge(\"Aylin\", \"Elshan\")\n",
    "g.add_edge(\"Elshan\", \"Kamran\")\n",
    "g.add_edge(\"Aylin\", \"Leyla\")\n",
    "g.add_edge(\"Leyla\", \"Kamran\")\n",
    "g.add_edge(\"Kamran\", \"Murad\")\n",
    "\n",
    "g.display_network()"
   ]
  },
  {
   "cell_type": "code",
   "execution_count": 6,
   "id": "5c69518d-fd77-4d5d-9755-3f1770795155",
   "metadata": {},
   "outputs": [],
   "source": [
    "# 3.Verilmiş parent-child cütlüklərinə əsasən bir ağac (tree) qur.\n",
    "# Daha sonra həmin ağacı NetworkX istifadə edərək qraf (directed tree) kimi vizuallaşdır.\n",
    "# Edges = [\n",
    "#   (\"A\", \"B\"),\n",
    "#   (\"A\", \"C\"),\n",
    "#    (\"B\", \"D\"),\n",
    "#   (\"B\", \"E\"),\n",
    "#    (\"C\", \"F\"),\n",
    "#    (\"E\", \"G\")\n",
    "# ]"
   ]
  },
  {
   "cell_type": "code",
   "execution_count": 11,
   "id": "1ed62363-66d9-4002-8109-5cc5acbae156",
   "metadata": {},
   "outputs": [
    {
     "data": {
      "image/png": "[encoded data removed]",
      "text/plain": [
       "<Figure size 640x480 with 1 Axes>"
      ]
     },
     "metadata": {},
     "output_type": "display_data"
    }
   ],
   "source": [
    "import networkx as nx\n",
    "import matplotlib.pyplot as plt\n",
    "\n",
    "edges = [\n",
    "    (\"A\", \"B\"),\n",
    "    (\"A\", \"C\"),\n",
    "    (\"B\", \"D\"),\n",
    "    (\"B\", \"E\"),\n",
    "    (\"C\", \"F\"),\n",
    "    (\"E\", \"G\")\n",
    "]\n",
    "\n",
    "class Node:\n",
    "    def __init__(self):\n",
    "        self.edges = []\n",
    "\n",
    "    def insert(self, parent, child):\n",
    "        self.edges.append((parent, child))\n",
    "\n",
    "tree = Node()\n",
    "for parent, child in edges:\n",
    "    tree.insert(parent, child)\n",
    "\n",
    "G = nx.DiGraph()  \n",
    "\n",
    "G.add_edges_from(tree.edges)\n",
    "\n",
    "pos = nx.spring_layout(G)\n",
    "nx.draw(G, pos, with_labels=True, node_size=1000, node_color=\"lightblue\", arrowsize=20, font_size=12)\n",
    "plt.title(\"Directed Tree\")\n",
    "plt.show()"
   ]
  }
 ],
 "metadata": {
  "kernelspec": {
   "display_name": "Python [conda env:base] *",
   "language": "python",
   "name": "conda-base-py"
  },
  "language_info": {
   "codemirror_mode": {
    "name": "ipython",
    "version": 3
   },
   "file_extension": ".py",
   "mimetype": "text/x-python",
   "name": "python",
   "nbconvert_exporter": "python",
   "pygments_lexer": "ipython3",
   "version": "3.12.7"
  }
 },
 "nbformat": 4,
 "nbformat_minor": 5
}
