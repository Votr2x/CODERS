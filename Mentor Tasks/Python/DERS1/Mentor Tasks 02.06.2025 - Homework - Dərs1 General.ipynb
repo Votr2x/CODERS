{
 "cells": [
  {
   "cell_type": "code",
   "execution_count": 21,
   "id": "2b8c10a6",
   "metadata": {},
   "outputs": [],
   "source": [
    "%matplotlib inline\n",
    "import matplotlib.pyplot as plt\n",
    "import pandas as pd\n",
    "import numpy as np\n",
    "import math"
   ]
  },
  {
   "cell_type": "code",
   "execution_count": 22,
   "id": "c78fd82d",
   "metadata": {},
   "outputs": [],
   "source": [
    "# 1. 3 + 5i ə bərabər olan dəyişən yaradın. sonra bu dəyişənin\n",
    "# real və xəyali hissəsinin hasilini və cəmini hesablayın."
   ]
  },
  {
   "cell_type": "code",
   "execution_count": 23,
   "id": "d4dfae10-b559-42dc-ba97-70263ea2b2a4",
   "metadata": {},
   "outputs": [
    {
     "name": "stdout",
     "output_type": "stream",
     "text": [
      "REAL devided by IMAGINARY is: 0.6 \n",
      "REAL added to IMAGINARY is: 8.0\n"
     ]
    }
   ],
   "source": [
    "A = 3 + 5j\n",
    "print(\"REAL devided by IMAGINARY is:\", A.real / A.imag, \"\\nREAL added to IMAGINARY is:\", A.real + A.imag)  "
   ]
  },
  {
   "cell_type": "code",
   "execution_count": 24,
   "id": "838606a2",
   "metadata": {},
   "outputs": [],
   "source": [
    "# 2. 1-ci sualdakı dəyişəni stringə çevirib dəyişənin özünü və\n",
    "# data tipini çap edin."
   ]
  },
  {
   "cell_type": "code",
   "execution_count": 25,
   "id": "09c00e51-a321-43bf-ae8b-fe2284b7a5e6",
   "metadata": {},
   "outputs": [
    {
     "name": "stdout",
     "output_type": "stream",
     "text": [
      "(3+5j) <class 'str'>\n"
     ]
    }
   ],
   "source": [
    "A_str = str(A)\n",
    "print(A_str, type(A_str))"
   ]
  },
  {
   "cell_type": "code",
   "execution_count": 26,
   "id": "bfd9bf7f",
   "metadata": {},
   "outputs": [],
   "source": [
    "# 3. Aldığımız stringi yenidən complex\n",
    "# tipinə sahib dəyişənə çevirin."
   ]
  },
  {
   "cell_type": "code",
   "execution_count": 27,
   "id": "ebf43109-26e1-4d7c-af6b-f51774c7eed2",
   "metadata": {},
   "outputs": [
    {
     "name": "stdout",
     "output_type": "stream",
     "text": [
      "(3+5j) <class 'complex'>\n"
     ]
    }
   ],
   "source": [
    "A = complex(A_str)\n",
    "print(A, type(A))"
   ]
  },
  {
   "cell_type": "code",
   "execution_count": 28,
   "id": "e4a4b051",
   "metadata": {},
   "outputs": [],
   "source": [
    "# 4. 3.5 dəyərinə sahib dəyişən yaradın və bu ədədi\n",
    "# numpy modulundan istifadə edərək yuvarlaqlaşdırıb çap edin."
   ]
  },
  {
   "cell_type": "code",
   "execution_count": 30,
   "id": "9a1fb46e-f1d8-487c-821d-f04c60cc3085",
   "metadata": {},
   "outputs": [
    {
     "name": "stdout",
     "output_type": "stream",
     "text": [
      "4.0\n"
     ]
    }
   ],
   "source": [
    "B = 3.5\n",
    "B_rounded = np.round(B)\n",
    "print(B_rounded)"
   ]
  },
  {
   "cell_type": "code",
   "execution_count": 6,
   "id": "596faac0",
   "metadata": {},
   "outputs": [],
   "source": [
    "# 5. 33 ədədini 7-ə böldükdə tam hissəsini və qalığını çap edin."
   ]
  },
  {
   "cell_type": "code",
   "execution_count": 34,
   "id": "652121cd-0610-465d-94b5-d64b189682fb",
   "metadata": {},
   "outputs": [
    {
     "name": "stdout",
     "output_type": "stream",
     "text": [
      "4 , 5\n"
     ]
    }
   ],
   "source": [
    "print(33 // 7,\",\", 33 % 7)"
   ]
  },
  {
   "cell_type": "code",
   "execution_count": 7,
   "id": "65072b88",
   "metadata": {},
   "outputs": [],
   "source": [
    "# 6. 'Coders' dəyərinə sahib olan dəyişən yaradın. Stringin ilk 3 elementini çap edin.\n",
    "# bu stringin aralıqlardan istifadə edərək 'ode' hissəsini çap edin."
   ]
  },
  {
   "cell_type": "code",
   "execution_count": 42,
   "id": "a1289c11-4233-4518-9058-ff7510f91031",
   "metadata": {},
   "outputs": [
    {
     "name": "stdout",
     "output_type": "stream",
     "text": [
      "Cod\n",
      "o d e\n"
     ]
    }
   ],
   "source": [
    "COD = \"Coders\"\n",
    "print(COD[0:3])\n",
    "print(' '.join(COD[1:4])) "
   ]
  },
  {
   "cell_type": "code",
   "execution_count": 8,
   "id": "3a96ba34",
   "metadata": {},
   "outputs": [],
   "source": [
    "# 7. 'Coders' stringinin tərsdən və düz oxuduqda eyni\n",
    "#olub olmadığını yoxlayın."
   ]
  },
  {
   "cell_type": "code",
   "execution_count": 44,
   "id": "1fcf8965-f787-44a4-a86c-e5751afc97c8",
   "metadata": {},
   "outputs": [
    {
     "data": {
      "text/plain": [
       "False"
      ]
     },
     "execution_count": 44,
     "metadata": {},
     "output_type": "execute_result"
    }
   ],
   "source": [
    "COD_REVERSE = COD[::-1]\n",
    "COD == COD_REVERSE"
   ]
  },
  {
   "cell_type": "code",
   "execution_count": 9,
   "id": "b931175a",
   "metadata": {},
   "outputs": [],
   "source": [
    "# 8. Verilən Selsi dəyərini Farenheytə çevirib yeni dəyişənə mənimsədin.\n",
    "# Farenheit = Selsi vurulsun 9 bölünsün 5 sonra 32 ilə toplayırıq.\n",
    "# Selsi = 30"
   ]
  },
  {
   "cell_type": "code",
   "execution_count": 47,
   "id": "744a480d-bcbd-41f6-88e8-d9daf62c2931",
   "metadata": {},
   "outputs": [
    {
     "name": "stdin",
     "output_type": "stream",
     "text": [
      "Enter celcius value:  30\n"
     ]
    },
    {
     "name": "stdout",
     "output_type": "stream",
     "text": [
      "30.0 in Fahrenheit is: 89.0\n"
     ]
    }
   ],
   "source": [
    "Celcius = float(input(\"Enter celcius value: \"))\n",
    "Fahrenheit = Celcius * 9 / 5 + 35\n",
    "print(Celcius, \"in Fahrenheit is:\", Fahrenheit)"
   ]
  },
  {
   "cell_type": "code",
   "execution_count": 10,
   "id": "57cc4631",
   "metadata": {},
   "outputs": [],
   "source": [
    "# 9. Aşağıdakı dəyişən cüt deyilsə assertion error çıxaran kod yazın"
   ]
  },
  {
   "cell_type": "code",
   "execution_count": 53,
   "id": "6979169f-72a0-4e89-ad2d-ec265e90ea81",
   "metadata": {},
   "outputs": [
    {
     "name": "stdin",
     "output_type": "stream",
     "text": [
      "Enter your value:  3\n"
     ]
    },
    {
     "name": "stdout",
     "output_type": "stream",
     "text": [
      "Assertion Error\n"
     ]
    }
   ],
   "source": [
    "X = int(input(\"Enter your value: \"))\n",
    "if (X % 2) == 1:\n",
    "        print(\"Assertion Error\")\n",
    "else:\n",
    "    print(\"Number is even\")"
   ]
  },
  {
   "cell_type": "code",
   "execution_count": null,
   "id": "eeb37499",
   "metadata": {},
   "outputs": [],
   "source": [
    "# 10. Aşağıda tərəfləri verilən düzbucaqlının sahəsini və perimetrini çap edin."
   ]
  },
  {
   "cell_type": "code",
   "execution_count": 5,
   "id": "500f4707-5fc0-4fe8-a80f-6c4f63fd2d9c",
   "metadata": {},
   "outputs": [
    {
     "name": "stdin",
     "output_type": "stream",
     "text": [
      "Enter one side of the rectangle:  2\n",
      "Enter other side of the rectangle:  2\n"
     ]
    },
    {
     "name": "stdout",
     "output_type": "stream",
     "text": [
      "Perimeter is equal to:  8.0 \n",
      "Area is equal to:  4.0\n"
     ]
    }
   ],
   "source": [
    "X = float(input(\"Enter one side of the rectangle: \"))\n",
    "Y = float(input(\"Enter other side of the rectangle: \"))\n",
    "print(\"Perimeter is equal to: \", 2 * (X + Y), \"\\nArea is equal to: \", X * Y)"
   ]
  },
  {
   "cell_type": "code",
   "execution_count": 1,
   "id": "bb401381-8121-4a7f-a909-7b690e0b2566",
   "metadata": {},
   "outputs": [],
   "source": [
    "# 11. a9 = \"  Salam, mən Data Scientistəm  \" sətirini yaradın.\n",
    "\n",
    "# Sətirin əvvəlində və sonunda olan boşluqları silin və nəticəni çap edin."
   ]
  },
  {
   "cell_type": "code",
   "execution_count": 62,
   "id": "d810034e-7c64-4e34-a2de-1faba5b8f822",
   "metadata": {},
   "outputs": [
    {
     "name": "stdout",
     "output_type": "stream",
     "text": [
      "Salam, mən Data Scientistəm\n"
     ]
    }
   ],
   "source": [
    "A9 = \" Salam, mən Data Scientistəm \"\n",
    "print(A9.strip())"
   ]
  },
  {
   "cell_type": "code",
   "execution_count": null,
   "id": "75e72971-cb39-457c-83b7-7d94942c6c66",
   "metadata": {},
   "outputs": [],
   "source": [
    "# 12. a12 = \"UNIVERSE\" sətirini yaradın.\n",
    "\n",
    "# Sətirdəki bütün simvolların böyük hərflə yazılıb-yazılmadığını yoxlayın və nəticəni çap edin."
   ]
  },
  {
   "cell_type": "code",
   "execution_count": 66,
   "id": "bb185924-974f-47b6-ace0-d61f4677b084",
   "metadata": {},
   "outputs": [
    {
     "name": "stdout",
     "output_type": "stream",
     "text": [
      "All symbolls are in upper\n"
     ]
    }
   ],
   "source": [
    "A12 = \"UNIVERSE\"\n",
    "if A12 == A12.upper():\n",
    "    print(\"All symbolls are in upper\")\n",
    "    "
   ]
  },
  {
   "cell_type": "code",
   "execution_count": null,
   "id": "4be3d6c8-3aaa-43ba-88c7-af177ee0e46d",
   "metadata": {},
   "outputs": [],
   "source": [
    "# 13. mix_str = \"123abc\"sətirini yaradın. Sətirdəki bütün simvolların rəqəm olub-olmadığını yoxlamaq üçün\n",
    "# isdigit() metodunu təkrar yoxlayın."
   ]
  },
  {
   "cell_type": "code",
   "execution_count": 72,
   "id": "e8f0646d-fd6d-4de7-9a93-1a9d20e264ab",
   "metadata": {},
   "outputs": [
    {
     "name": "stdout",
     "output_type": "stream",
     "text": [
      "False\n"
     ]
    }
   ],
   "source": [
    "MIX_STR = \"123ABC\"\n",
    "if MIX_STR.isdigit() is True:\n",
    "    print(\"True\")\n",
    "else:\n",
    "    print(\"False\")"
   ]
  },
  {
   "cell_type": "code",
   "execution_count": 1,
   "id": "14624e21-c3e9-4498-8185-3fc12a0e5a0f",
   "metadata": {},
   "outputs": [],
   "source": [
    "# 14. filename = \"report.pdf\" sətirini yaradın.\n",
    "\n",
    "# Sətirin \"rep\" ilə başlayıb-başlamadığını yoxlayın.\n",
    "# Sətirin \".pdf\" ilə bitib-bitmədiyini yoxlayın."
   ]
  },
  {
   "cell_type": "code",
   "execution_count": 76,
   "id": "dc5c9804-f4f7-41a1-b522-05a611c4bca7",
   "metadata": {},
   "outputs": [
    {
     "name": "stdout",
     "output_type": "stream",
     "text": [
      "True\n",
      "True\n"
     ]
    }
   ],
   "source": [
    "FILENAME = \"report.pdf\"\n",
    "if FILENAME.startswith(\"rep\") is True:\n",
    "    print(True)\n",
    "else:\n",
    "    print(False)\n",
    "if FILENAME.endswith(\".pdf\") is True:\n",
    "    print(True)\n",
    "else:\n",
    "    print(False)"
   ]
  },
  {
   "cell_type": "code",
   "execution_count": 19,
   "id": "be19e196-4371-410d-a39c-b7d78ffe1b90",
   "metadata": {},
   "outputs": [],
   "source": [
    "# 15.Verilmiş maaş və artım faizinə əsasən yeni maaşı hesablayın.\n",
    "# və f-string istifadə edərək nəticəni onluqdan sonra 2 rəqəmlə Yeni maaş: ... AZN formatında çap edin.\n",
    "# maas = 1250.5\n",
    "# artim_faizi = 0.1"
   ]
  },
  {
   "cell_type": "code",
   "id": "90c66121-fa94-47ff-92a1-d63441b38692",
   "metadata": {
    "jupyter": {
     "is_executing": true
    }
   },
   "source": [
    "Salary = 1250.5\n",
    "Percent = 0.1\n",
    "Salary = Salary + Salary * Percent\n",
    "print(f\"New Salary : {Salary:.2f} AZN\")"
   ],
   "outputs": [],
   "execution_count": null
  }
 ],
 "metadata": {
  "kernelspec": {
   "display_name": "Python [conda env:base] *",
   "language": "python",
   "name": "conda-base-py"
  },
  "language_info": {
   "codemirror_mode": {
    "name": "ipython",
    "version": 3
   },
   "file_extension": ".py",
   "mimetype": "text/x-python",
   "name": "python",
   "nbconvert_exporter": "python",
   "pygments_lexer": "ipython3",
   "version": "3.12.7"
  }
 },
 "nbformat": 4,
 "nbformat_minor": 5
}
