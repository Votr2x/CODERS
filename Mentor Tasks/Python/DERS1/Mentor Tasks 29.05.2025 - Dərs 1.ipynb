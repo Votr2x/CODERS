{
 "cells": [
  {
   "cell_type": "code",
   "execution_count": 1,
   "id": "18fe5e59-e0f6-4e79-8908-621a9b156339",
   "metadata": {},
   "outputs": [],
   "source": [
    "%matplotlib inline\n",
    "import matplotlib.pyplot as plt\n",
    "import pandas as pd\n",
    "import numpy as np\n",
    "import math"
   ]
  },
  {
   "cell_type": "code",
   "execution_count": 21,
   "id": "bad12b3d-44b7-4a7e-9a5f-f3836b0a455c",
   "metadata": {},
   "outputs": [],
   "source": [
    "# 1. Adını, yaşını və boyunu dəyişən kimi saxla:\n",
    "#ad = \"Emil\"\n",
    "#yas = 30\n",
    "#boy = 1.83"
   ]
  },
  {
   "cell_type": "code",
   "execution_count": 27,
   "id": "02e06f1f-1269-4062-90de-54d9c184484f",
   "metadata": {},
   "outputs": [],
   "source": [
    "# 2. Bu dəyişənlərin tipini ekrana yazdır:"
   ]
  },
  {
   "cell_type": "code",
   "execution_count": 5,
   "id": "be83d998-5a83-4f95-addc-d2ba71b42f43",
   "metadata": {},
   "outputs": [],
   "source": [
    "# 3. Bir mürəkkəb ədəd təyin edin (z = 8 + 6j) və aşağıdakıları çap edin:\n",
    "# Həqiqi hissə\n",
    "# Xəyalı hissə"
   ]
  },
  {
   "cell_type": "code",
   "execution_count": 7,
   "id": "530a968b-e92e-4358-bf59-a63a6415faed",
   "metadata": {},
   "outputs": [],
   "source": [
    "# 4. Aşağıdakı dəyişənlərə dəyər verin və onları çap edin:\n",
    "# int (minutes)\n",
    "# float (height)\n",
    "# str (lake name)"
   ]
  },
  {
   "cell_type": "code",
   "execution_count": 9,
   "id": "6e83fbd5-0c0b-4713-a761-110d65bda8a2",
   "metadata": {},
   "outputs": [],
   "source": [
    "# 5. Aşağıdakı dəyərləri dəyişənlərə təyin edin və type() funksiyasından istifadə edərək onların növünü çap edin:\n",
    "# int (century)\n",
    "# float (price)\n",
    "# str (surname)\n",
    "# bool (is_student)"
   ]
  },
  {
   "cell_type": "code",
   "execution_count": null,
   "id": "b14e1943-f686-438d-b385-8041725eb501",
   "metadata": {},
   "outputs": [],
   "source": [
    "# 6. Aşağıdakıları çevirin:\n",
    "\n",
    "# integeri floata (num = 22)\n",
    "# floatı integere (weight = 50.5)\n",
    "# Ədədi stringe (point = 6)"
   ]
  },
  {
   "cell_type": "code",
   "execution_count": null,
   "id": "09e17b91-ea6b-4ead-98dd-7abf3c3b3900",
   "metadata": {},
   "outputs": [],
   "source": [
    "\n"
   ]
  }
 ],
 "metadata": {
  "kernelspec": {
   "display_name": "Python [conda env:base] *",
   "language": "python",
   "name": "conda-base-py"
  },
  "language_info": {
   "codemirror_mode": {
    "name": "ipython",
    "version": 3
   },
   "file_extension": ".py",
   "mimetype": "text/x-python",
   "name": "python",
   "nbconvert_exporter": "python",
   "pygments_lexer": "ipython3",
   "version": "3.12.7"
  }
 },
 "nbformat": 4,
 "nbformat_minor": 5
}
