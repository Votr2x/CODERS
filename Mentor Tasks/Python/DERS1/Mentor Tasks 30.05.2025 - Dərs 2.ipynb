{
 "cells": [
  {
   "cell_type": "code",
   "execution_count": 27,
   "id": "6e6f8bf8",
   "metadata": {},
   "outputs": [],
   "source": [
    "# 1. word = \"DataScience\" sətirini yaradın.\n",
    "\n",
    "# Sətirin ilk hərfini çap edin.\n",
    "# Sətirin sonuncu hərfini çap edin.\n",
    "# Sətirin üçüncü və beşinci simvollarını çap edin."
   ]
  },
  {
   "cell_type": "code",
   "execution_count": 47,
   "id": "e06ad609-3070-417e-80a8-1142e17e64b9",
   "metadata": {},
   "outputs": [
    {
     "name": "stdout",
     "output_type": "stream",
     "text": [
      "D\n",
      "e\n",
      "2ND SYMBOL IS t , 5TH SYMBOL IS S\n",
      "tS\n"
     ]
    }
   ],
   "source": [
    "WORD = \"DataScience\"\n",
    "print(WORD[0])\n",
    "print(WORD[-1])\n",
    "print(\"2ND SYMBOL IS\", WORD[2], \",\", \"5TH SYMBOL IS\", WORD[4])\n",
    "print(WORD[2:5:2])"
   ]
  },
  {
   "cell_type": "code",
   "execution_count": 29,
   "id": "0c7bb06c",
   "metadata": {},
   "outputs": [],
   "source": [
    "# 2. num_str = \"12345\" sətirini yaradın. Sətirdəki bütün simvolların rəqəm olub-olmadığını\n",
    "# yoxlamaq üçün isdigit() , isnumeric() , isdecimal() metodlarından istifadə edin və\n",
    "# nəticəni çap edin."
   ]
  },
  {
   "cell_type": "code",
   "execution_count": 48,
   "id": "7bc0726f-b8f7-44d7-872c-f32ae3588080",
   "metadata": {},
   "outputs": [
    {
     "name": "stdout",
     "output_type": "stream",
     "text": [
      "True\n",
      "True\n",
      "True\n",
      "True\n",
      "True\n"
     ]
    }
   ],
   "source": [
    "NUM_STR = \"12345\"\n",
    "print(NUM_STR.isdigit()) \n",
    "print(NUM_STR[1].isdigit())\n",
    "print(NUM_STR[2].isdigit())\n",
    "print(NUM_STR[3].isdigit())\n",
    "print(NUM_STR[4].isdigit())\n"
   ]
  },
  {
   "cell_type": "code",
   "execution_count": 15,
   "id": "b15f35e4-f677-4b29-8266-1a5e32eb4f95",
   "metadata": {},
   "outputs": [
    {
     "name": "stdout",
     "output_type": "stream",
     "text": [
      "True\n",
      "True\n",
      "True\n",
      "True\n",
      "True\n"
     ]
    }
   ],
   "source": [
    "print(NUM_STR[0].isnumeric())\n",
    "print(NUM_STR[1].isnumeric())\n",
    "print(NUM_STR[2].isnumeric())\n",
    "print(NUM_STR[3].isnumeric())\n",
    "print(NUM_STR[4].isnumeric())"
   ]
  },
  {
   "cell_type": "code",
   "execution_count": 16,
   "id": "725dc212-84c8-4d73-a0c0-0f1c21ce58b8",
   "metadata": {},
   "outputs": [
    {
     "name": "stdout",
     "output_type": "stream",
     "text": [
      "True\n",
      "True\n",
      "True\n",
      "True\n",
      "True\n"
     ]
    }
   ],
   "source": [
    "print(NUM_STR[0].isdecimal())\n",
    "print(NUM_STR[1].isdecimal())\n",
    "print(NUM_STR[2].isdecimal())\n",
    "print(NUM_STR[3].isdecimal())\n",
    "print(NUM_STR[4].isdecimal())"
   ]
  },
  {
   "cell_type": "code",
   "execution_count": 12,
   "id": "2f42d032",
   "metadata": {},
   "outputs": [],
   "source": [
    "# 3. Aşağıdakı riyazi əməliyyatları yerinə yetirin və nəticəni çap edin:\n",
    "\n",
    "# İki integeri toplayın\n",
    "# floatı integere vurun \n",
    "# İki integeri bölün\n"
   ]
  },
  {
   "cell_type": "code",
   "execution_count": 17,
   "id": "f580c04c-63c2-48b7-815b-c9b344dcd24e",
   "metadata": {},
   "outputs": [
    {
     "name": "stdout",
     "output_type": "stream",
     "text": [
      "9\n",
      "22.5\n",
      "1.25\n"
     ]
    }
   ],
   "source": [
    "A = 5\n",
    "B = 4\n",
    "C = 4.5\n",
    "print(A + B)\n",
    "print(A * C)\n",
    "print(A / B)"
   ]
  },
  {
   "cell_type": "code",
   "execution_count": 15,
   "id": "d35958de",
   "metadata": {},
   "outputs": [],
   "source": [
    "# 4. Aşağıdakı boolean ifadələrini qiymətləndirin və nəticəni çap edin:\n",
    "\n",
    "# 5 > 3\n",
    "# 7 == 8\n",
    "# 10 <= 10"
   ]
  },
  {
   "cell_type": "code",
   "execution_count": 19,
   "id": "0b33fe99-0fe0-436f-98dc-31d148c8d5f9",
   "metadata": {},
   "outputs": [
    {
     "name": "stdout",
     "output_type": "stream",
     "text": [
      "True\n"
     ]
    }
   ],
   "source": [
    "print(5 > 3)"
   ]
  },
  {
   "cell_type": "code",
   "execution_count": 20,
   "id": "b83c461f-cef2-4be5-9237-fb35939730eb",
   "metadata": {},
   "outputs": [
    {
     "name": "stdout",
     "output_type": "stream",
     "text": [
      "False\n"
     ]
    }
   ],
   "source": [
    "print(7 == 8)"
   ]
  },
  {
   "cell_type": "code",
   "execution_count": 21,
   "id": "f4e6cf4b-3a2e-43d8-89ed-40710bd0e649",
   "metadata": {},
   "outputs": [
    {
     "name": "stdout",
     "output_type": "stream",
     "text": [
      "True\n"
     ]
    }
   ],
   "source": [
    "print(10 <= 10)"
   ]
  },
  {
   "cell_type": "code",
   "execution_count": 16,
   "id": "eb9190f3",
   "metadata": {},
   "outputs": [],
   "source": [
    "# 5. Aşağıdakı dəyişənlərə dəyər verin və total_price = price * quantity ifadəsindən istifadə edərək ümumi qiyməti hesablayın:\n",
    "\n",
    "# price = 15.50\n",
    "# quantity = 4"
   ]
  },
  {
   "cell_type": "code",
   "execution_count": 22,
   "id": "0604c45a-222c-4e71-ae29-ec57c2634ab9",
   "metadata": {},
   "outputs": [],
   "source": [
    "price = 15.5"
   ]
  },
  {
   "cell_type": "code",
   "execution_count": 23,
   "id": "fd7b086f-511f-432e-a0f3-11e23814f830",
   "metadata": {},
   "outputs": [],
   "source": [
    "quantity = 4"
   ]
  },
  {
   "cell_type": "code",
   "execution_count": 24,
   "id": "7de17a99-230d-4a34-a192-4d0338bba167",
   "metadata": {},
   "outputs": [],
   "source": [
    "total_price = price * quantity"
   ]
  },
  {
   "cell_type": "code",
   "execution_count": 25,
   "id": "856deb8e-0388-4f4e-92a3-365141ded7b4",
   "metadata": {},
   "outputs": [
    {
     "name": "stdout",
     "output_type": "stream",
     "text": [
      "62.0\n"
     ]
    }
   ],
   "source": [
    "print(total_price)"
   ]
  },
  {
   "cell_type": "code",
   "execution_count": 17,
   "id": "c96dbd23",
   "metadata": {},
   "outputs": [],
   "source": [
    "# 6. Bir sətir təyin edin (message = \"Hello, World!\") və aşağıdakını çap edin:\n",
    "\n",
    "# Sətirin uzunluğu\n",
    "# Sətirin böyük hərflərlə versiyası\n",
    "# Sətirin ilk simvolu"
   ]
  },
  {
   "cell_type": "code",
   "execution_count": 30,
   "id": "25b34b3d-b264-482f-a4d0-d7f718245c07",
   "metadata": {},
   "outputs": [
    {
     "name": "stdout",
     "output_type": "stream",
     "text": [
      "13\n",
      "HELLO, WORLD!\n",
      "H\n"
     ]
    }
   ],
   "source": [
    "MESSAGE = \"Hello, World!\"\n",
    "print(len(MESSAGE))\n",
    "print(MESSAGE.upper())\n",
    "print(MESSAGE[0])"
   ]
  },
  {
   "cell_type": "code",
   "execution_count": 43,
   "id": "f9c519c2",
   "metadata": {},
   "outputs": [],
   "source": [
    "# 7. İstifadəçidən adını və yaşını soruşan və sonra belə bir mesaj çap edən proqram yazın:\n",
    "# \"Salam, [ad]! Siz [yaş] yaşındasınız.\""
   ]
  },
  {
   "cell_type": "code",
   "execution_count": 50,
   "id": "9f8bc26b-697e-42f5-98bc-4f6e12db0e04",
   "metadata": {},
   "outputs": [
    {
     "name": "stdin",
     "output_type": "stream",
     "text": [
      "Please enter your name:  Fakhri\n",
      "Please enter your age 20\n"
     ]
    },
    {
     "name": "stdout",
     "output_type": "stream",
     "text": [
      "Salam Fakhri ! Siz 20  yaşındasınız.\n"
     ]
    }
   ],
   "source": [
    "NAME_INPUT = input(\"Please enter your name: \")\n",
    "AGE_INPUT = input(\"Please enter your age\")\n",
    "print(\"Salam\", NAME_INPUT, \"! Siz\", AGE_INPUT, \" yaşındasınız.\")"
   ]
  },
  {
   "cell_type": "code",
   "execution_count": 37,
   "id": "c8059ca5",
   "metadata": {},
   "outputs": [],
   "source": [
    "# 8. x = \"Hello World\" sətirini yaradın.\n",
    "\n",
    "# Sətiri tamamilə böyük hərflərə çevirin.\n",
    "# Sətiri tamamilə kiçik hərflərə çevirin."
   ]
  },
  {
   "cell_type": "code",
   "execution_count": 37,
   "id": "cae11e2d-8821-44fe-8580-23c1bbd21af6",
   "metadata": {},
   "outputs": [
    {
     "name": "stdout",
     "output_type": "stream",
     "text": [
      "HELLO WORLD\n",
      "hello world\n"
     ]
    }
   ],
   "source": [
    "X = \"Hello World\"\n",
    "X_UPPER = X.upper()\n",
    "print(X_UPPER)\n",
    "X_LOWER = X.lower()\n",
    "print(X_LOWER)"
   ]
  },
  {
   "cell_type": "code",
   "execution_count": 39,
   "id": "56c7c840",
   "metadata": {},
   "outputs": [],
   "source": [
    "# 9. ad və soyad dəyişənlərini yaradın.\n",
    "# Bu iki sətiri birləşdirərək tam ad halına gətirin və nəticəni çap edin."
   ]
  },
  {
   "cell_type": "code",
   "execution_count": 40,
   "id": "785c55f4-96d4-4d06-bfb5-b43f5ed4e655",
   "metadata": {},
   "outputs": [
    {
     "name": "stdout",
     "output_type": "stream",
     "text": [
      "Fakhri Orujov\n"
     ]
    }
   ],
   "source": [
    "NAME = \"Fakhri \"\n",
    "SURNAME = \"Orujov\"\n",
    "FULL_NAME = NAME + SURNAME\n",
    "print(FULL_NAME)"
   ]
  },
  {
   "cell_type": "code",
   "execution_count": null,
   "id": "d404288e-b1f8-4c1b-a2de-34e166075c1f",
   "metadata": {},
   "outputs": [],
   "source": [
    "# 10. İki ədəd təyin edən (a = 50, b = 30) və toplama və çıxmanı bu formatda çap edən proqram yazın:\n",
    "# Cəmi: x, Fərqi: y"
   ]
  },
  {
   "cell_type": "code",
   "execution_count": 41,
   "id": "ba20f2de-d5ed-453a-8568-69d0ebe00cfd",
   "metadata": {},
   "outputs": [
    {
     "name": "stdout",
     "output_type": "stream",
     "text": [
      "Cəmi:  80 Fərqi:  20\n"
     ]
    }
   ],
   "source": [
    "A = 50\n",
    "B = 30\n",
    "print(\"Cəmi: \" , A + B, \"Fərqi: \", A - B)"
   ]
  },
  {
   "cell_type": "code",
   "execution_count": null,
   "id": "f23d1a98-6e12-45ec-9286-aafc1af7040f",
   "metadata": {},
   "outputs": [],
   "source": []
  }
 ],
 "metadata": {
  "kernelspec": {
   "display_name": "Python [conda env:base] *",
   "language": "python",
   "name": "conda-base-py"
  },
  "language_info": {
   "codemirror_mode": {
    "name": "ipython",
    "version": 3
   },
   "file_extension": ".py",
   "mimetype": "text/x-python",
   "name": "python",
   "nbconvert_exporter": "python",
   "pygments_lexer": "ipython3",
   "version": "3.12.7"
  }
 },
 "nbformat": 4,
 "nbformat_minor": 5
}
