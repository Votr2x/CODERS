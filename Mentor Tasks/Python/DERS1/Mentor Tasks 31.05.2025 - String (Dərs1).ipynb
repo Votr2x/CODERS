{
 "cells": [
  {
   "cell_type": "code",
   "execution_count": 59,
   "id": "172a6605",
   "metadata": {},
   "outputs": [],
   "source": [
    "%matplotlib inline\n",
    "import matplotlib.pyplot as plt\n",
    "import pandas as pd\n",
    "import numpy as np\n",
    "import math"
   ]
  },
  {
   "cell_type": "code",
   "execution_count": 60,
   "id": "6a06db53",
   "metadata": {},
   "outputs": [],
   "source": [
    "# 1.  a1 = \"python programming is fun\" sətirini yaradın.\n",
    "\n",
    "# Sətirdən \"programming\" sözünü kəsin (slicing).\n",
    "# Bu sözün ilk hərfini böyük hərfə çevirin və tam cümləyə yenidən birləşdirin,\n",
    "# nəticə \"Python Programming is fun\" olsun.\n",
    "# Yeni cümləni çap edin."
   ]
  },
  {
   "cell_type": "code",
   "execution_count": 61,
   "id": "1bc79d59-fe1e-4b45-aea9-47039d64e5c0",
   "metadata": {},
   "outputs": [
    {
     "name": "stdout",
     "output_type": "stream",
     "text": [
      "programming\n"
     ]
    }
   ],
   "source": [
    "A1 = \"python programming is fun\"\n",
    "A1_1 = A1[7:18]\n",
    "print(A1_1)"
   ]
  },
  {
   "cell_type": "code",
   "execution_count": 62,
   "id": "35ab5308-9224-42b3-b610-7705a3c84a32",
   "metadata": {},
   "outputs": [
    {
     "name": "stdout",
     "output_type": "stream",
     "text": [
      "Python Programming is fun\n"
     ]
    }
   ],
   "source": [
    "A1_2 = A1_1.capitalize()\n",
    "print(f'Python {A1_2} is fun')"
   ]
  },
  {
   "cell_type": "code",
   "execution_count": 63,
   "id": "001a964b",
   "metadata": {},
   "outputs": [],
   "source": [
    "# 2. a2 = \"datascience\" sətirini yaradın. Sətiri tərsinə çevirin və nəticəni çap edin."
   ]
  },
  {
   "cell_type": "code",
   "execution_count": 64,
   "id": "f84aa6a2-6b80-410a-b735-8a665ab45bd8",
   "metadata": {},
   "outputs": [
    {
     "name": "stdout",
     "output_type": "stream",
     "text": [
      "ecneicsatad\n"
     ]
    }
   ],
   "source": [
    "A2 = \"datascience\"\n",
    "print(A2[::-1])"
   ]
  },
  {
   "cell_type": "code",
   "execution_count": 65,
   "id": "ec9cd93b",
   "metadata": {},
   "outputs": [],
   "source": [
    "# 3. a3 = \"hello world\" sətirini yaradın.\n",
    "\n",
    "# Sətiri böyük hərflərə çevirin.\n",
    "# \"world\" sözünü \"Python\" ilə əvəz edin.\n",
    "# Son nəticəni çap edin."
   ]
  },
  {
   "cell_type": "code",
   "execution_count": 66,
   "id": "01649a35-fb5d-4c3a-9f3f-d37edabf3fa2",
   "metadata": {},
   "outputs": [
    {
     "name": "stdout",
     "output_type": "stream",
     "text": [
      "HELLO Python\n"
     ]
    }
   ],
   "source": [
    "A3 = \"hello world\"\n",
    "A3 = A3.upper()\n",
    "A3 = A3.replace(\"WORLD\", \"Python\")\n",
    "print(A3)"
   ]
  },
  {
   "cell_type": "code",
   "execution_count": 67,
   "id": "46619e61",
   "metadata": {},
   "outputs": [],
   "source": [
    "# 4. x4 = \"Azerbaijan\" sətirini yaradın və sətirdə \"a\" hərfinin neçə dəfə\n",
    "# təkrarlandığını hesablayın.Nəticəni çap edin."
   ]
  },
  {
   "cell_type": "code",
   "execution_count": 78,
   "id": "0ec19f6d-0a28-47c7-8900-be5aeef45774",
   "metadata": {},
   "outputs": [],
   "source": [
    "X4 = \"Azerbaijan\""
   ]
  },
  {
   "cell_type": "code",
   "execution_count": 79,
   "id": "aa33247b-a4e7-481e-885e-4cbe00bfead1",
   "metadata": {},
   "outputs": [
    {
     "name": "stdout",
     "output_type": "stream",
     "text": [
      "2\n"
     ]
    }
   ],
   "source": [
    "X4 = \"Azerbaijan\"\n",
    "i = 0\n",
    "for letter in X4[::-1]:\n",
    "    if letter == \"a\":\n",
    "        i += 1\n",
    "print(i)"
   ]
  },
  {
   "cell_type": "code",
   "execution_count": 70,
   "id": "2a4076f4",
   "metadata": {},
   "outputs": [],
   "source": [
    "# 5. a5 = [\"Data\", \"Science\", \"öyrənmək\", \"maraqlıdır\"] siyahısını yaradın.\n",
    "\n",
    "# Siyahını boşluqla ayrılmış bir sətir halında birləşdirin və nəticəni çap edin."
   ]
  },
  {
   "cell_type": "code",
   "execution_count": 109,
   "id": "f167f9c2-b0ea-4ab6-b3e7-0558a6f9aaf1",
   "metadata": {},
   "outputs": [
    {
     "name": "stdout",
     "output_type": "stream",
     "text": [
      "Data Science öyrənmək maraqlıdır\n"
     ]
    }
   ],
   "source": [
    "A5 = [\"Data\", \"Science\", \"öyrənmək\", \"maraqlıdır\"]\n",
    "print(\" \". join(A5))"
   ]
  },
  {
   "cell_type": "code",
   "execution_count": 7,
   "id": "0f36da30",
   "metadata": {},
   "outputs": [],
   "source": [
    "# 6.  a6 = \"Coders Azerbaijan\" sətirini yaradın.\n",
    "\n",
    "# Sətirdən \"Coders\" sözünü çıxarın və yalnız \"Azerbaijan\" hissəsini çap edin."
   ]
  },
  {
   "cell_type": "code",
   "execution_count": 84,
   "id": "75036586-0d4b-40c3-b0c0-a7be5ecf9314",
   "metadata": {},
   "outputs": [
    {
     "name": "stdout",
     "output_type": "stream",
     "text": [
      " Azerbaijan\n"
     ]
    }
   ],
   "source": [
    "A6 = \"Coders Azerbaijan\"\n",
    "A6 = A6.replace(\"Coders\", \"\")\n",
    "print(A6)"
   ]
  },
  {
   "cell_type": "code",
   "execution_count": 8,
   "id": "3f2f346a",
   "metadata": {},
   "outputs": [],
   "source": [
    "# 7. a7 = \"Earth\" sətirini yaradın.\n",
    "\n",
    "# Sətirdə ilk və sonuncu hərfin yerini dəyişin və nəticəni çap edin."
   ]
  },
  {
   "cell_type": "code",
   "execution_count": 110,
   "id": "964bb942-16c8-4417-ad00-e32dd100633f",
   "metadata": {},
   "outputs": [
    {
     "name": "stdout",
     "output_type": "stream",
     "text": [
      "hartE\n"
     ]
    }
   ],
   "source": [
    "A7 = \"Earth\"\n",
    "A7= A7[-1] + A7[1:-1] + A7[0]\n",
    "print(A7)"
   ]
  },
  {
   "cell_type": "code",
   "execution_count": 9,
   "id": "00761805",
   "metadata": {},
   "outputs": [],
   "source": [
    "# 8. nomre = \"123-45-67-89\" sətirini yaradın.\n",
    "\n",
    "# Sətirdə \"-\" simvolunu çıxarın və nəticəni çap edin."
   ]
  },
  {
   "cell_type": "code",
   "execution_count": 1,
   "id": "0f9ef06b-f372-4099-bfb6-aac0d65200b9",
   "metadata": {},
   "outputs": [
    {
     "name": "stdout",
     "output_type": "stream",
     "text": [
      "123456789\n"
     ]
    }
   ],
   "source": [
    "NOMRE = \"123-45-67-89\"\n",
    "Empty = ''\n",
    "for letter in NOMRE:\n",
    "    if letter != \"-\":\n",
    "        Empty = Empty + letter\n",
    "print(Empty)"
   ]
  }
 ],
 "metadata": {
  "kernelspec": {
   "display_name": "Python [conda env:base] *",
   "language": "python",
   "name": "conda-base-py"
  },
  "language_info": {
   "codemirror_mode": {
    "name": "ipython",
    "version": 3
   },
   "file_extension": ".py",
   "mimetype": "text/x-python",
   "name": "python",
   "nbconvert_exporter": "python",
   "pygments_lexer": "ipython3",
   "version": "3.12.7"
  }
 },
 "nbformat": 4,
 "nbformat_minor": 5
}
