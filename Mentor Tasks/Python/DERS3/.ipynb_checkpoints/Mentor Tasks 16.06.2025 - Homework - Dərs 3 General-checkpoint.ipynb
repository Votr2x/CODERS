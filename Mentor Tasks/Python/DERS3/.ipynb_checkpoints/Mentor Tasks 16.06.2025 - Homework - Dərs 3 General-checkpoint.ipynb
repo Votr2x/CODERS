{
 "cells": [
  {
   "cell_type": "code",
   "execution_count": 6,
   "id": "d45dd038-6cfc-4fb1-a68b-010138b05bfb",
   "metadata": {},
   "outputs": [
    {
     "name": "stdout",
     "output_type": "stream",
     "text": [
      "[0, 1, 1, 2, 3, 5, 8, 13, 21, 34, 55, 89, 144]\n"
     ]
    }
   ],
   "source": [
    "def generator():\n",
    "    yield 0\n",
    "    yield 1\n",
    "GEN = generator()\n",
    "A = next(GEN)\n",
    "B = next(GEN)\n",
    "F = [A, B]\n",
    "while F[-1] < 100:\n",
    "    F.append(F[-1] + F[-2])\n",
    "print(F)"
   ]
  },
  {
   "cell_type": "code",
   "execution_count": 1,
   "id": "c6a12796",
   "metadata": {},
   "outputs": [],
   "source": [
    "# 1. 3x3 ölçüsündə bir matrix yaradın. matrix_1 = [[3, 6, 2], [7, 1, 8], [4, 5, 9]]\n",
    "# Hər elementin 5-dən böyük olub olmadığını yoxlayın.\n",
    "# Əgər böyükdürsə, \"Böyükdür\", əks halda \"Kiçikdir\" mesajını verin."
   ]
  },
  {
   "cell_type": "code",
   "execution_count": 2,
   "id": "beeacaf3-42bb-43ba-8825-039438148e88",
   "metadata": {},
   "outputs": [
    {
     "name": "stdout",
     "output_type": "stream",
     "text": [
      "3 is less that 5\n",
      "6 is more that 5\n",
      "2 is less that 5\n",
      "7 is more that 5\n",
      "1 is less that 5\n",
      "8 is more that 5\n",
      "4 is less that 5\n",
      "5 is 5\n",
      "9 is more that 5\n"
     ]
    }
   ],
   "source": [
    "matrix_1 = [[3, 6, 2], \n",
    "            [7, 1, 8], \n",
    "            [4, 5, 9]]\n",
    "for i in matrix_1:\n",
    "    for i in i:\n",
    "        if i > 5:\n",
    "            print(i, \"is more that 5\")\n",
    "        elif i < 5:\n",
    "            print(i, \"is less that 5\")\n",
    "        else:\n",
    "            print(i, \"is 5\")"
   ]
  },
  {
   "cell_type": "code",
   "execution_count": 2,
   "id": "15c8a749",
   "metadata": {},
   "outputs": [],
   "source": [
    "# 2. 1-dən 20-yə qədər olan rəqəmləri yoxlayın. Əgər 15 tapılsa, dövrü dayandırın."
   ]
  },
  {
   "cell_type": "code",
   "execution_count": 5,
   "id": "7fb3ab91-1ff4-4059-bc6a-73d62d8d54d9",
   "metadata": {},
   "outputs": [
    {
     "name": "stdout",
     "output_type": "stream",
     "text": [
      "1\n",
      "2\n",
      "3\n",
      "4\n",
      "5\n",
      "6\n",
      "7\n",
      "8\n",
      "9\n",
      "10\n",
      "11\n",
      "12\n",
      "13\n",
      "14\n",
      "15 Found\n"
     ]
    }
   ],
   "source": [
    "for i in range(1, 20):\n",
    "    if i != 15:\n",
    "        print(i)\n",
    "    else:    \n",
    "        print(i, \"Found\")\n",
    "        break"
   ]
  },
  {
   "cell_type": "code",
   "execution_count": 7,
   "id": "3133b2cd",
   "metadata": {},
   "outputs": [],
   "source": [
    "# 3. 1-dən 10-a qədər olan rəqəmləri yoxlayın. 5 və 7 rəqəmlərini keçərək digər rəqəmləri çap edin."
   ]
  },
  {
   "cell_type": "code",
   "execution_count": 12,
   "id": "eaabc7c8-2c3e-4f57-a4e8-8baac8c41343",
   "metadata": {},
   "outputs": [
    {
     "name": "stdout",
     "output_type": "stream",
     "text": [
      "1\n",
      "2\n",
      "3\n",
      "4\n",
      "6\n",
      "8\n",
      "9\n",
      "10\n"
     ]
    }
   ],
   "source": [
    "for i in range(1,11):\n",
    "    if i == 5:\n",
    "        pass\n",
    "    elif i == 7:\n",
    "        pass\n",
    "    else:\n",
    "        print(i)"
   ]
  },
  {
   "cell_type": "code",
   "execution_count": 4,
   "id": "77159a09",
   "metadata": {},
   "outputs": [],
   "source": [
    "# 4. 1-dən 15-ə qədər olan rəqəmlərdən yalnız cüt rəqəmlərin kvadratlarını tapın,\n",
    "# əgər rəqəm 10-dan böyükdürsə, bu rəqəmi keçin."
   ]
  },
  {
   "cell_type": "code",
   "execution_count": 16,
   "id": "875e6c3b-273b-44d5-b374-3b04da486134",
   "metadata": {},
   "outputs": [
    {
     "name": "stdout",
     "output_type": "stream",
     "text": [
      "4\n",
      "16\n",
      "36\n",
      "64\n",
      "100\n",
      "144\n",
      "196\n"
     ]
    }
   ],
   "source": [
    "for i in range (1, 16):\n",
    "    if i < 10:\n",
    "        pass\n",
    "    if (i % 2) == 1:\n",
    "        continue\n",
    "    else:\n",
    "        print(i ** 2)"
   ]
  },
  {
   "cell_type": "code",
   "execution_count": 5,
   "id": "9cca2479",
   "metadata": {},
   "outputs": [],
   "source": [
    "# 5. Bir neçə şəxs haqqında məlumat olan bir list verilib.\n",
    "# Hər bir şəxs üçün yalnız yaşı 40-dan böyük olanları listdə saxlayın və nəticəni çap edin."
   ]
  },
  {
   "cell_type": "code",
   "execution_count": 28,
   "id": "5942e202-88c3-4581-8c0b-c5dcc064004d",
   "metadata": {},
   "outputs": [
    {
     "name": "stdout",
     "output_type": "stream",
     "text": [
      "{'Fakhri': 50, 'Aysu': 70}\n"
     ]
    }
   ],
   "source": [
    "L = {\"Fakhri\": 50, \"Ulkar\": 15, \"Aysu\": 70}\n",
    "X = {key: value for key, value in L.items() if value > 40}\n",
    "print(X)"
   ]
  },
  {
   "cell_type": "code",
   "execution_count": 6,
   "id": "a0b612b6",
   "metadata": {},
   "outputs": [],
   "source": [
    "# 6. Verilmiş rəqəmlərdən ibarət listdə neçə cüt və neçə tək rəqəm olduğunu tapın.\n",
    "# reqemler = [12, 5, 9, 16, 22, 33, 47, 18]"
   ]
  },
  {
   "cell_type": "code",
   "execution_count": 31,
   "id": "6a666977-a210-42f0-afbc-00542e0dec9d",
   "metadata": {},
   "outputs": [
    {
     "name": "stdout",
     "output_type": "stream",
     "text": [
      "Number of odd ones:  4\n",
      "Number of even ones:  4\n"
     ]
    }
   ],
   "source": [
    "reqemler = [12, 5, 9, 16, 22, 33, 47, 18]\n",
    "COUNT_EVEN = 0\n",
    "COUNT_ODD = 0\n",
    "for i in reqemler:\n",
    "    if (i % 2) == 1:\n",
    "        COUNT_ODD += 1\n",
    "    elif (i % 2) == 0:\n",
    "        COUNT_EVEN += 1\n",
    "print(\"Number of odd ones: \", COUNT_ODD)\n",
    "print(\"Number of even ones: \", COUNT_EVEN)"
   ]
  },
  {
   "cell_type": "code",
   "execution_count": 7,
   "id": "64200433",
   "metadata": {},
   "outputs": [],
   "source": [
    "# 7. Verilmiş bir 3x3 matrisi üzərində hər sətirin elementlərinin cəmini hesablayın.\n",
    "\n",
    "# matrix_3 = [\n",
    "#     [3, 5, 7],\n",
    "#     [2, 4, 6],\n",
    "#     [1, 9, 8]\n",
    "# ]"
   ]
  },
  {
   "cell_type": "code",
   "execution_count": 36,
   "id": "d2d52a8c-b15e-4f79-a4b2-081095ed7562",
   "metadata": {},
   "outputs": [
    {
     "name": "stdout",
     "output_type": "stream",
     "text": [
      "Summ of row =  15\n",
      "Summ of row =  12\n",
      "Summ of row =  18\n"
     ]
    }
   ],
   "source": [
    "matrix_3 = [\n",
    "    [3, 5, 7],\n",
    "    [2, 4, 6],\n",
    "    [1, 9, 8]\n",
    "]\n",
    "\n",
    "for row in matrix_3:\n",
    "    row_sum = sum(row)\n",
    "    print(\"Summ of row = \", row_sum)"
   ]
  },
  {
   "cell_type": "code",
   "execution_count": 8,
   "id": "e70e6bb4",
   "metadata": {},
   "outputs": [],
   "source": [
    "# 8. Verilmiş bir listdəki hər bir sözün uzunluğunu tapın və yeni bir listdə saxlayın."
   ]
  },
  {
   "cell_type": "code",
   "execution_count": 38,
   "id": "f1a39f51-5516-4eb6-9fc2-5e750148e123",
   "metadata": {},
   "outputs": [
    {
     "name": "stdout",
     "output_type": "stream",
     "text": [
      "[5, 3, 4]\n"
     ]
    }
   ],
   "source": [
    "LIST = [\"Hello\", \"Alo\", \"Lily\"]\n",
    "L = []\n",
    "for i in LIST:\n",
    "    x = len(i)\n",
    "    L.append(x)\n",
    "print(L)"
   ]
  },
  {
   "cell_type": "code",
   "execution_count": 1,
   "id": "a8d72c4f",
   "metadata": {},
   "outputs": [],
   "source": [
    "# 9. Verilmiş bir tam ədədin rəqəmlərinin cəmini while dövrü ilə hesablayın.\n",
    "# Məsələn, 12345 ədədindəki rəqəmlərin cəmi: 1 + 2 + 3 + 4 + 5 = 15."
   ]
  },
  {
   "cell_type": "code",
   "execution_count": 58,
   "id": "6ab5f981-0c3c-4758-afde-125dded93786",
   "metadata": {},
   "outputs": [
    {
     "name": "stdin",
     "output_type": "stream",
     "text": [
      "Enter your number: 12345\n"
     ]
    },
    {
     "name": "stdout",
     "output_type": "stream",
     "text": [
      "15\n"
     ]
    }
   ],
   "source": [
    "X = int(input(\"Enter your number:\"))\n",
    "Y = [int(d) for d in str(X)]\n",
    "COUNT = 0\n",
    "for i in Y:\n",
    "    COUNT += i\n",
    "print(COUNT)"
   ]
  },
  {
   "cell_type": "code",
   "execution_count": 3,
   "id": "c307b343-a9b5-4eb6-b8eb-b9770e54732b",
   "metadata": {},
   "outputs": [],
   "source": [
    "# 10. range(1, 21, 6) bu range-də ilk 5-ə tam bölünən rəqəmi tapın və dövrü dayandırın.\n",
    "# Əgər belə bir rəqəm yoxdursa, \"Tapılmadı\" mesajını çap edin.\n"
   ]
  },
  {
   "cell_type": "code",
   "execution_count": 63,
   "id": "31d10125-cec6-4cff-9dbc-bb2b1c8316df",
   "metadata": {},
   "outputs": [
    {
     "name": "stdout",
     "output_type": "stream",
     "text": [
      "Not found\n",
      "Not found\n",
      "Not found\n",
      "Not found\n"
     ]
    }
   ],
   "source": [
    "for i in range(1, 21, 6):\n",
    "    if (i % 5) == 0:\n",
    "        print(\"Found\")\n",
    "        break\n",
    "    else:\n",
    "        print(\"Not found\")"
   ]
  },
  {
   "cell_type": "code",
   "execution_count": 5,
   "id": "b9b5973b-363b-4877-9012-58c29b01c507",
   "metadata": {},
   "outputs": [],
   "source": [
    "# 11. Verilmiş rəqəmlər numbers_13 = [3, 10, 17, 9, 2, 18, 11].\n",
    "# Əgər rəqəm 10-dan kiçikdirsə, keçin. (continue)\n",
    "# Əgər rəqəm 10-dan böyükdürsə, \"Böyük rəqəm\" mesajını çap edin.\n"
   ]
  },
  {
   "cell_type": "code",
   "execution_count": 64,
   "id": "23997505-96a4-4567-a2cb-2223914d62c9",
   "metadata": {},
   "outputs": [
    {
     "name": "stdout",
     "output_type": "stream",
     "text": [
      "10 is 10\n",
      "17 is bigger that 10\n",
      "18 is bigger that 10\n",
      "11 is bigger that 10\n"
     ]
    }
   ],
   "source": [
    "numbers_13 = [3, 10, 17, 9, 2, 18, 11]\n",
    "for i in numbers_13:\n",
    "    if i < 10:\n",
    "        continue\n",
    "    elif i > 10:\n",
    "        print(i, \"is bigger that 10\")\n",
    "    else:\n",
    "        print(i, \"is 10\")"
   ]
  },
  {
   "cell_type": "code",
   "execution_count": null,
   "id": "b7d8d4b5-a60b-4c54-9bd5-c4a21de944c5",
   "metadata": {},
   "outputs": [],
   "source": [
    "# 12. İstifadəçiyə 3 dəfə şans verərək düzgün şifrəni daxil etməsini təmin edin.\n",
    "# Əgər düzgün şifrə daxil edilərsə, dövrü dayandırın.\n",
    "# Əks halda \"Düzgün şifrə daxil edilmədi\" mesajını çap edin və növbəti şansı verin.\n",
    "# Şifrə: \"1234\""
   ]
  },
  {
   "cell_type": "code",
   "execution_count": 67,
   "id": "7b763b89-865a-4586-a6b3-fb9bb261c8f4",
   "metadata": {},
   "outputs": [
    {
     "name": "stdin",
     "output_type": "stream",
     "text": [
      "Enter password:  1234\n"
     ]
    },
    {
     "name": "stdout",
     "output_type": "stream",
     "text": [
      "Found\n"
     ]
    }
   ],
   "source": [
    "X = 0\n",
    "while X != 3:\n",
    "    Z = 1234\n",
    "    Y = int(input(\"Enter password: \"))\n",
    "    if Y == Z:\n",
    "        print(\"Found\")\n",
    "        break\n",
    "    else:\n",
    "        X += 1\n",
    "        print(\"Incorrect, you have\", 3 - X, \"tries left\")"
   ]
  }
 ],
 "metadata": {
  "kernelspec": {
   "display_name": "Python [conda env:base] *",
   "language": "python",
   "name": "conda-base-py"
  },
  "language_info": {
   "codemirror_mode": {
    "name": "ipython",
    "version": 3
   },
   "file_extension": ".py",
   "mimetype": "text/x-python",
   "name": "python",
   "nbconvert_exporter": "python",
   "pygments_lexer": "ipython3",
   "version": "3.12.7"
  }
 },
 "nbformat": 4,
 "nbformat_minor": 5
}
