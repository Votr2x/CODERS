{
 "cells": [
  {
   "cell_type": "code",
   "execution_count": 4,
   "id": "80627c1b",
   "metadata": {},
   "outputs": [],
   "source": [
    "%matplotlib inline\n",
    "import matplotlib.pyplot as plt\n",
    "import pandas as pd\n",
    "import numpy as np\n",
    "import math"
   ]
  },
  {
   "cell_type": "code",
   "execution_count": 5,
   "id": "c180810a",
   "metadata": {},
   "outputs": [],
   "source": [
    "# 1. Boş bir list yaradın sonra isə 3,4,5 ədədlərini listə append edin.\n",
    "# Sonra isə listin 1-ci indexini çap edin."
   ]
  },
  {
   "cell_type": "code",
   "execution_count": 6,
   "id": "b11b935c",
   "metadata": {},
   "outputs": [],
   "source": [
    "# 2. [0,1,2] listi ilə əldə etdiyimiz listi birləşdirib çap edin."
   ]
  },
  {
   "cell_type": "code",
   "execution_count": 7,
   "id": "6d28f7d5",
   "metadata": {},
   "outputs": [],
   "source": [
    "# 3. 'Azərbaycan' stringini listə çevirib, alınan listi tərs çevirib, çap edin."
   ]
  },
  {
   "cell_type": "code",
   "execution_count": 8,
   "id": "de419aba",
   "metadata": {},
   "outputs": [],
   "source": [
    "# 4. [3,2,1,4] listin özünü dəyişmədən listi sort edib yeni dəyişənə mənimsədin."
   ]
  },
  {
   "cell_type": "code",
   "execution_count": 16,
   "id": "cc8d9a4a",
   "metadata": {},
   "outputs": [],
   "source": [
    "# 5. ['baku','vancouver','copenhagen'] listini yaradın.\n",
    "# Sonra isə 'Vancouver' elementinin indexini tapın"
   ]
  },
  {
   "cell_type": "code",
   "execution_count": 1,
   "id": "3a3f2c0a",
   "metadata": {},
   "outputs": [],
   "source": [
    "# 6. Sonra bu listə 'sydney' stringini ikinci element kimi daxil edin"
   ]
  },
  {
   "cell_type": "code",
   "execution_count": null,
   "id": "cc963d86-b9db-4aad-bab0-66930f7a3a6f",
   "metadata": {},
   "outputs": [],
   "source": [
    "# 7. Sonra bu listdən 'baku' elemntini silin\n",
    "# sonra isə popdan istifadə edərək sonuncu elementi silin\n",
    "# və həmin elementi çap edin."
   ]
  },
  {
   "cell_type": "code",
   "execution_count": null,
   "id": "af225422-6010-4f11-8203-84fcf448ed74",
   "metadata": {},
   "outputs": [],
   "source": [
    "# 8. append() metodundan istifadə edərək ayrılıqda list_4-ü list_3-ə əlavə edin.\n",
    "# Yeni siyahını çap edin.\n",
    "# list_3 = [\"alma\", \"armud\"]\n",
    "# list_4 = [\"portağal\", \"üzüm\"]"
   ]
  }
 ],
 "metadata": {
  "kernelspec": {
   "display_name": "Python 3 (ipykernel)",
   "language": "python",
   "name": "python3"
  },
  "language_info": {
   "codemirror_mode": {
    "name": "ipython",
    "version": 3
   },
   "file_extension": ".py",
   "mimetype": "text/x-python",
   "name": "python",
   "nbconvert_exporter": "python",
   "pygments_lexer": "ipython3",
   "version": "3.12.4"
  }
 },
 "nbformat": 4,
 "nbformat_minor": 5
}
