{
 "cells": [
  {
   "cell_type": "code",
   "execution_count": 1,
   "id": "553573e1",
   "metadata": {
    "id": "553573e1"
   },
   "outputs": [],
   "source": [
    "# 1. l1 = [10, 20, 30] adlı bir list yaradın. Listin sonuna 40 və 50 elementlərini əlavə edin.\n",
    "# Nəticəni çap edin."
   ]
  },
  {
   "cell_type": "code",
   "execution_count": 3,
   "id": "7caa4959-1f18-4634-ad1a-4f020cdde924",
   "metadata": {},
   "outputs": [
    {
     "name": "stdout",
     "output_type": "stream",
     "text": [
      "[10, 20, 30, 40, 50]\n"
     ]
    }
   ],
   "source": [
    "L1 = [10, 20, 30]\n",
    "L2 = [40, 50]\n",
    "L1.extend(L2)\n",
    "print(L1)"
   ]
  },
  {
   "cell_type": "code",
   "execution_count": null,
   "id": "7313300c",
   "metadata": {
    "id": "7313300c"
   },
   "outputs": [],
   "source": [
    "# 2. l2 = [88, 92, 79, 85, 90] adlı bir list yaradın. Bu listi artan sırada sıralayın.\n",
    "# Nəticəni çap edin."
   ]
  },
  {
   "cell_type": "code",
   "execution_count": 4,
   "id": "c1c952e0-814e-47b1-85e7-b177f6a04bb8",
   "metadata": {},
   "outputs": [
    {
     "name": "stdout",
     "output_type": "stream",
     "text": [
      "[79, 85, 88, 90, 92]\n"
     ]
    }
   ],
   "source": [
    "L2 = [88, 92, 79, 85, 90]\n",
    "L2.sort()\n",
    "print(L2)"
   ]
  },
  {
   "cell_type": "code",
   "execution_count": 5,
   "id": "0bc2c7e3",
   "metadata": {
    "id": "0bc2c7e3"
   },
   "outputs": [],
   "source": [
    "# 3. l3 = [\"apple\", \"banana\", \"cherry\", \"orange\"] adlı bir list yaradın.\n",
    "# Listdən \"banana\" elementini silin. Nəticəni çap edin."
   ]
  },
  {
   "cell_type": "code",
   "execution_count": 6,
   "id": "b056ae71-3bd7-4569-baae-ebb6deebedd9",
   "metadata": {},
   "outputs": [
    {
     "name": "stdout",
     "output_type": "stream",
     "text": [
      "['banana', 'cherry', 'orange']\n"
     ]
    }
   ],
   "source": [
    "L3 = [\"apple\", \"banana\", \"cherry\", \"orange\"]\n",
    "L3.pop(0)\n",
    "print(L3)"
   ]
  },
  {
   "cell_type": "code",
   "execution_count": null,
   "id": "dc9e9848-b347-4b62-b74f-1355fde20a63",
   "metadata": {},
   "outputs": [],
   "source": [
    "# 4. 5-dən 12-yə qədər olan ədədləri yaratmaq üçün range() funksiyasından istifadə edin\n",
    "# və list yaradın. Nəticəni çap edin."
   ]
  },
  {
   "cell_type": "code",
   "execution_count": 7,
   "id": "f8983681-9887-438a-aea9-e2282a0b7385",
   "metadata": {},
   "outputs": [
    {
     "name": "stdout",
     "output_type": "stream",
     "text": [
      "[5, 6, 7, 8, 9, 10, 11]\n"
     ]
    }
   ],
   "source": [
    "LIST = []\n",
    "for i in range(5, 12):\n",
    "    LIST.append(i)\n",
    "print(LIST)"
   ]
  },
  {
   "cell_type": "code",
   "execution_count": null,
   "id": "0e1d1ede-08fa-4e31-ab8f-f641e4d10521",
   "metadata": {},
   "outputs": [],
   "source": [
    "# 5. Bir neçə şəxs haqqında məlumat olan bir list verilib (ad ve yasdan ibaret ixtiyari bir list yarada bilersiz).\n",
    "# Hər bir şəxs üçün yalnız yaşı 30-dan böyük olanları listdə saxlayın və nəticəni çap edin."
   ]
  },
  {
   "cell_type": "code",
   "execution_count": 33,
   "id": "37bccc29-61bf-4d4f-af51-fee266e74428",
   "metadata": {},
   "outputs": [
    {
     "name": "stdout",
     "output_type": "stream",
     "text": [
      "[['Ulkar', 45], ['Aysu', 55]]\n"
     ]
    }
   ],
   "source": [
    "LIST = [[\"Fakhri\", 20], [\"Ulkar\", 45], [\"Narmina\", 21], [\"Aysu\", 55]]\n",
    "LIST30 = []\n",
    "for i in LIST:\n",
    "    if i[1] > 30:\n",
    "        LIST30.append(i)\n",
    "print(LIST30)\n",
    "        "
   ]
  },
  {
   "cell_type": "code",
   "execution_count": null,
   "id": "e97631d6-f0a2-4066-b759-6e59b76f05e5",
   "metadata": {},
   "outputs": [],
   "source": [
    "# 6. Verilmiş rəqəmlərdən ibarət listdə neçə cüt və neçə tək rəqəm olduğunu tapın.\n",
    "# reqemler = [12, 5, 9, 16, 22, 33, 47, 18]"
   ]
  },
  {
   "cell_type": "code",
   "execution_count": 4,
   "id": "920b090f-c597-44e8-bdf3-43ed0c1ad7e5",
   "metadata": {},
   "outputs": [
    {
     "name": "stdout",
     "output_type": "stream",
     "text": [
      "12 is even number\n",
      "5 is odd number\n",
      "9 is odd number\n",
      "16 is even number\n",
      "22 is even number\n",
      "33 is odd number\n",
      "47 is odd number\n",
      "18 is even number\n"
     ]
    }
   ],
   "source": [
    "NUMBERS = [12, 5, 9, 16, 22, 33, 47, 18]\n",
    "for i in NUMBERS:\n",
    "    if (i % 2) == 1:\n",
    "        print(i, \"is odd number\") \n",
    "    else:\n",
    "        print(i, \"is even number\")"
   ]
  },
  {
   "cell_type": "code",
   "execution_count": null,
   "id": "a3da9e4b-fab1-43d3-baf8-883cd97be856",
   "metadata": {},
   "outputs": [],
   "source": [
    "# 7. Verilmiş bir 3x3 matrisi üzərində hər satırın elementlərinin cəmini hesablayın.\n",
    "\n",
    "# matrix_3 = [\n",
    "#     [3, 5, 7],\n",
    "#     [2, 4, 6],\n",
    "#     [1, 9, 8]\n",
    "# ]"
   ]
  },
  {
   "cell_type": "code",
   "execution_count": 7,
   "id": "24b0e366-9a49-402c-88b1-71ef0f3bd114",
   "metadata": {},
   "outputs": [
    {
     "name": "stdout",
     "output_type": "stream",
     "text": [
      "15\n",
      "12\n",
      "18\n"
     ]
    }
   ],
   "source": [
    "MATRIX_3 = [\n",
    "     [3, 5, 7],\n",
    "     [2, 4, 6],\n",
    "     [1, 9, 8]\n",
    " ]\n",
    "print(MATRIX_3[0][0] + MATRIX_3[0][1] + MATRIX_3[0][2]) \n",
    "print(MATRIX_3[1][0] + MATRIX_3[1][1] + MATRIX_3[1][2])\n",
    "print(MATRIX_3[2][0] + MATRIX_3[2][1] + MATRIX_3[2][2])"
   ]
  },
  {
   "cell_type": "code",
   "execution_count": null,
   "id": "a18412b0-180c-4881-ab51-17b31fa9dd1c",
   "metadata": {},
   "outputs": [],
   "source": [
    "# 8. Verilmiş bir listdəki hər bir sözün uzunluğunu tapın və yeni bir listdə saxlayın."
   ]
  },
  {
   "cell_type": "code",
   "execution_count": 10,
   "id": "f698b8a5-b497-4fb2-9b9b-ccceabf395cb",
   "metadata": {},
   "outputs": [
    {
     "name": "stdout",
     "output_type": "stream",
     "text": [
      "4 4 8\n"
     ]
    }
   ],
   "source": [
    "LIST = [\"Auto\", \"Velo\", \"Motobike\"]\n",
    "print(len(LIST[0]), len(LIST[1]), len(LIST[2]))"
   ]
  },
  {
   "cell_type": "code",
   "execution_count": null,
   "id": "ac37e0dd-22d9-4ee9-814f-cebf98347c6a",
   "metadata": {},
   "outputs": [],
   "source": [
    "# 9. range(0, 100, 10) ilə yaradılmış siyahının içində 60 və 35 ədədlərinin\n",
    "# olub-olmadığını yoxlayın. Nəticəni çap edin."
   ]
  },
  {
   "cell_type": "code",
   "execution_count": 15,
   "id": "838d6af9-aa7d-4ff4-84d1-2f2d501b3232",
   "metadata": {},
   "outputs": [
    {
     "name": "stdout",
     "output_type": "stream",
     "text": [
      "60 IS IN MY LIST\n",
      "35 IS NOT IN MY LIST\n"
     ]
    }
   ],
   "source": [
    "LIST = list(range(0, 100, 10))\n",
    "if 60 in LIST:\n",
    "    print(\"60 IS IN MY LIST\")\n",
    "if 35 in LIST:\n",
    "    print(\"35 IS IN MY LIST\")\n",
    "else:\n",
    "    print(\"35 IS NOT IN MY LIST\")"
   ]
  },
  {
   "cell_type": "code",
   "execution_count": null,
   "id": "0460b2a7-7f6f-4fe8-997d-7615be9d1975",
   "metadata": {},
   "outputs": [],
   "source": [
    "# 10. Bir listdəki max və min dəyərləri qaytaran bir funksiya yazın. (For loop və if istifadə edin)"
   ]
  },
  {
   "cell_type": "code",
   "execution_count": 32,
   "id": "3070971b-9d98-4468-b455-5524681d1cd3",
   "metadata": {},
   "outputs": [
    {
     "name": "stdout",
     "output_type": "stream",
     "text": [
      "Biggest value is 14\n",
      "Smallest value is 1\n"
     ]
    }
   ],
   "source": [
    "LIST = [1, 14, 5, 3]\n",
    "MIN = LIST[0]\n",
    "MAX = LIST[0]\n",
    "for i in LIST:\n",
    "    if i < MIN:\n",
    "        MIN = i\n",
    "    elif i > MAX:\n",
    "        MAX = i\n",
    "print(\"Biggest value is\", MAX)\n",
    "print(\"Smallest value is\", MIN)"
   ]
  }
 ],
 "metadata": {
  "colab": {
   "provenance": []
  },
  "kernelspec": {
   "display_name": "Python [conda env:base] *",
   "language": "python",
   "name": "conda-base-py"
  },
  "language_info": {
   "codemirror_mode": {
    "name": "ipython",
    "version": 3
   },
   "file_extension": ".py",
   "mimetype": "text/x-python",
   "name": "python",
   "nbconvert_exporter": "python",
   "pygments_lexer": "ipython3",
   "version": "3.12.7"
  }
 },
 "nbformat": 4,
 "nbformat_minor": 5
}
