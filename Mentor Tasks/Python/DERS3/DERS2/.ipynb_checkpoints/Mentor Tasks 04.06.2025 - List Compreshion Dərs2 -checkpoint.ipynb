{
 "cells": [
  {
   "cell_type": "code",
   "execution_count": 1,
   "id": "54b6d488-a934-4db6-a667-5a063a053610",
   "metadata": {},
   "outputs": [],
   "source": [
    "# 1. List comprehension istifadə edrərək yalnız adında \"a\" hərfi olan meyvələrdən ibarət yeni bir siyahı yaradın.\n",
    "# fruits = [\"apple\", \"banana\", \"cherry\", \"kiwi\", \"mango\"]"
   ]
  },
  {
   "cell_type": "code",
   "execution_count": null,
   "id": "53cc8534-5ec2-4c31-ad0c-a34cf91c51a4",
   "metadata": {},
   "outputs": [],
   "source": [
    "# 2. List comprehesionsdan istifadə edərək 4x5 ölçüsündə matrix yaradın."
   ]
  },
  {
   "cell_type": "code",
   "execution_count": 34,
   "id": "03e27417-f3e2-4a65-b035-4dfb2a542272",
   "metadata": {},
   "outputs": [],
   "source": [
    "# 3. 1-dən 10-a qədər olan ədədləri yoxlayin\n",
    "# Cüt ədədlərin kvadratını veren yeni bir siyahı yaradin.\n",
    "# Tək ədədlərin kubunu veren yeni bir siyahı yaradin.(List comprehension)"
   ]
  },
  {
   "cell_type": "code",
   "execution_count": null,
   "id": "369ea986-3d26-485d-9dfa-93d2c76cf5c4",
   "metadata": {},
   "outputs": [],
   "source": [
    "# 4. List comprehension istifadə edrərək 1-dən 100-ə qədər olan ədədlər içində\n",
    "# həm 3-ə, həm də 5-ə tam bölünən ədədlərdən ibarət siyahı yaradin."
   ]
  },
  {
   "cell_type": "code",
   "execution_count": 5,
   "id": "4c13a625-2f21-4983-af9f-88983f16f81e",
   "metadata": {},
   "outputs": [],
   "source": [
    "# 5.Verilən siyahıdakı sözlərdən yalnız uzunluğu 5-dən böyük olanları yeni siyahıya əlavə et.\n",
    "# words = [\"data\", \"science\", \"visualization\", \"AI\", \"ML\", \"Python\"]"
   ]
  },
  {
   "cell_type": "code",
   "execution_count": 7,
   "id": "cb4bc524-d282-4b13-af62-1c86dde883ed",
   "metadata": {},
   "outputs": [],
   "source": [
    "# 6. \"Salam, mən Data Scientistəm\" cümləsindəki hərfləri yoxlayın:\n",
    "# Əgər hərf saitdirsə, \"Saitdir\" mesajını çap edin.\n",
    "# Əgər hərf samitdirsə, \"Samitdir\" mesajını çap edin.\n",
    "\n",
    "### Kömək üçün qeyd: Sadəcə hərfləri yoxlamaq üçün isalpha() funksiyası istifadə ediləcək.\n",
    "### isalpha() funksiyası böyük-kiçik hərflərə sensitive-dir."
   ]
  },
  {
   "cell_type": "code",
   "execution_count": 9,
   "id": "c44bb9c6-9196-47c0-b00e-e6b4317c1a2b",
   "metadata": {},
   "outputs": [],
   "source": [
    "# 7. 1-dən 5-ə qədər olan rəqəmlərin kvadratlarını çap edin.\n",
    "# Nümunə cavab:\n",
    "# 1 kvadratı = 1\n",
    "# 2 kvadratı = 4"
   ]
  },
  {
   "cell_type": "code",
   "execution_count": null,
   "id": "2b4df838-4165-4169-b976-862865e39ff8",
   "metadata": {},
   "outputs": [],
   "source": [
    "# 8. 1-dən 15-ə qədər olan rəqəmləri yoxlayın:\n",
    "# Əgər rəqəm 3-ə bölünürsə, \"3-ə bölünən\" mesajını çap edin.\n",
    "# Əgər rəqəm 5-ə bölünürsə, \"5-ə bölünən\" mesajını çap edin.\n",
    "# Əgər rəqəm hər ikisinə bölünürsə, \"3-ə və 5-ə bölünən\" mesajını çap edin."
   ]
  },
  {
   "cell_type": "code",
   "execution_count": 14,
   "id": "b6e24ccb-89aa-4e07-a4d6-1475727d58b3",
   "metadata": {},
   "outputs": [],
   "source": [
    "# 9. List comprehension istifadə edrərək 1-dən 100-ə qədər olan bütün cüt rəqəmləri toplayın və nəticəni çap edin."
   ]
  },
  {
   "cell_type": "code",
   "execution_count": null,
   "id": "d65ebadc-930a-456a-82be-10deb31af1ac",
   "metadata": {},
   "outputs": [],
   "source": [
    "# 10. List comprehension istifadə edrərək yalnız palindrom sözlərdən ibarət palindromes adlı siyahı yaradin.\n",
    "# words = ['level', 'banana', 'madam', 'apple', 'civic', 'hello', 'noon', 'world', 'radar', 'python']"
   ]
  },
  {
   "cell_type": "code",
   "execution_count": null,
   "id": "60285b44-b9b2-438a-ba06-c3a3a32acdc3",
   "metadata": {},
   "outputs": [],
   "source": [
    "# 11.İki list yaradın və hər iki listdə olan ortaq elementləri tapın.\n",
    "# list1 = [1, 2, 3, 4, 5] və list2 = [3, 4, 5, 6, 7]"
   ]
  },
  {
   "cell_type": "code",
   "execution_count": 18,
   "id": "953b7ba1-64f6-4abb-ace6-1d4e78e5a914",
   "metadata": {},
   "outputs": [],
   "source": [
    "# 12.\"Data Science\" sözünün hərflərini tərsinə çevirin və hər bir hərfi ayrıca çap edin."
   ]
  },
  {
   "cell_type": "code",
   "execution_count": 20,
   "id": "33fc3a2a-ad9e-48f8-974b-4e47a2d47e46",
   "metadata": {},
   "outputs": [],
   "source": [
    "# 13.3x3 ölçüsündə bir matrix yaradın. matrix_1 = [[3, 6, 2], [7, 1, 8], [4, 5, 9]]\n",
    "# Hər elementin 5-dən böyük olub olmadığını yoxlayın.\n",
    "# Əgər böyükdürsə, \"Böyükdür\", əks halda \"Kiçikdir\" mesajını verin."
   ]
  },
  {
   "cell_type": "code",
   "execution_count": 22,
   "id": "d9af7016-2093-4734-92d3-b694fe3bc33f",
   "metadata": {},
   "outputs": [],
   "source": [
    "# 14. Verilmiş cümlədəki hərflərin sayını tapın (boşluqları saymadan).\n",
    "# sentence = \"The best way to predict your future is to create it\""
   ]
  },
  {
   "cell_type": "code",
   "execution_count": 24,
   "id": "de80c641-257c-4ea0-b5e4-d75bf6f94fc3",
   "metadata": {},
   "outputs": [],
   "source": [
    "# 15. Verilmiş siyahıda təkrarlanan sözləri sil və yalnız unikal olanlardan ibarət siyahı qaytar.\n",
    "# words = ['apple', 'banana', 'apple', 'orange', 'banana', 'grape', 'melon', 'grape']"
   ]
  },
  {
   "cell_type": "code",
   "execution_count": 26,
   "id": "4cd273d1-c5e8-42c1-8c08-ef987d66e10c",
   "metadata": {},
   "outputs": [],
   "source": [
    "# 16.Verilən bir rəqəmin faktoriyalını tapmaq üçün bir proqram yazın.\n",
    "# Məsələn, 5 üçün faktoriyal: 5! = 5 * 4 * 3 * 2 * 1 = 120."
   ]
  }
 ],
 "metadata": {
  "kernelspec": {
   "display_name": "Python 3 (ipykernel)",
   "language": "python",
   "name": "python3"
  },
  "language_info": {
   "codemirror_mode": {
    "name": "ipython",
    "version": 3
   },
   "file_extension": ".py",
   "mimetype": "text/x-python",
   "name": "python",
   "nbconvert_exporter": "python",
   "pygments_lexer": "ipython3",
   "version": "3.12.4"
  }
 },
 "nbformat": 4,
 "nbformat_minor": 5
}
