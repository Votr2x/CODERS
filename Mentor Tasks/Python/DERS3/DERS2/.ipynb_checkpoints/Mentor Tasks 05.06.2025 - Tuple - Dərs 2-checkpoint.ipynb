{
 "cells": [
  {
   "cell_type": "code",
   "execution_count": 21,
   "id": "bf5d04a0-8d26-400d-b1d5-7cf49afdd40b",
   "metadata": {},
   "outputs": [],
   "source": [
    "# 1. t1 = (\"alma\", \"armud\", \"heyva\") tuple-ını yaradın.\n",
    "# Tuple-ı üç dəyişən x, y və z-yə ayırın.\n",
    "# x, y və z dəyişənlərinin dəyərlərini çap edin."
   ]
  },
  {
   "cell_type": "code",
   "execution_count": 23,
   "id": "29854f68-6e74-484a-9008-46aaf1b68594",
   "metadata": {},
   "outputs": [],
   "source": [
    "# 2. Sonra t2 = (\"limon\", \"mandarin\") tuple-ını yaradın və əvvəl yaratdığınız tuple ilə\n",
    "# birləşdirin."
   ]
  },
  {
   "cell_type": "code",
   "execution_count": null,
   "id": "8a5a3aa2-7430-4b0f-bd28-7417b106f808",
   "metadata": {},
   "outputs": [],
   "source": [
    "# 3. Daha sonra birləşdirilmiş tuple-ın içində \"banan\" və \"limon\" elementlərinin olub-olmadığını\n",
    "# yoxlayın."
   ]
  },
  {
   "cell_type": "code",
   "execution_count": null,
   "id": "2e788cc0-4be7-438e-b92d-2e28510175e9",
   "metadata": {},
   "outputs": [],
   "source": [
    "# 4. İndi isə son əldə etdiyimiz tuple-da əgər mümkündürsə, \"armud\" elementini \"limon\" ilə\n",
    "# əvəz etmıəyə çalışın. Mümkün olmadığı təqdirdə, listin köməyi ilə elementləri əvəz edib\n",
    "# listi yenidən tuple-a çevirin və çap edin."
   ]
  },
  {
   "cell_type": "code",
   "execution_count": 6,
   "id": "3e9c8576-94fd-4374-ba2c-8293dd33aeb7",
   "metadata": {},
   "outputs": [],
   "source": [
    "# 5. Əldə etdiyimiz tuple-da \"limon\" sözünün neçə dəfə təkrarlandığını tapın və çap edin."
   ]
  },
  {
   "cell_type": "code",
   "execution_count": 8,
   "id": "93be40ae-8cd4-4c67-ad05-d82a7e365f5f",
   "metadata": {},
   "outputs": [],
   "source": [
    "# 6. Daha sonra isə \"limon\" elementlərinin hər birinin indeksini tapın."
   ]
  },
  {
   "cell_type": "code",
   "execution_count": null,
   "id": "e08cc86d-077f-42a7-9891-fae1fdb8b206",
   "metadata": {},
   "outputs": [],
   "source": [
    "# 7. Bu tuple-dan təsadüfi olaraq üç element seçin, yeni dəyişənə təyin edin və çap edin."
   ]
  },
  {
   "cell_type": "code",
   "execution_count": 11,
   "id": "a1f1211f-a529-4cd1-958b-93b80af2e004",
   "metadata": {},
   "outputs": [],
   "source": [
    "# 8. Əldə etdiyiniz random tuple-ı tərsinə çevirin."
   ]
  }
 ],
 "metadata": {
  "kernelspec": {
   "display_name": "Python 3 (ipykernel)",
   "language": "python",
   "name": "python3"
  },
  "language_info": {
   "codemirror_mode": {
    "name": "ipython",
    "version": 3
   },
   "file_extension": ".py",
   "mimetype": "text/x-python",
   "name": "python",
   "nbconvert_exporter": "python",
   "pygments_lexer": "ipython3",
   "version": "3.12.4"
  }
 },
 "nbformat": 4,
 "nbformat_minor": 5
}
