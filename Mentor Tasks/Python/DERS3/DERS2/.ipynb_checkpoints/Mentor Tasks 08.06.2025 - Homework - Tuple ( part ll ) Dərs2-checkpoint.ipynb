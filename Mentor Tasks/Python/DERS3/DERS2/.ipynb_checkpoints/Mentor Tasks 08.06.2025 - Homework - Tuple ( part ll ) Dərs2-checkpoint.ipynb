{
 "cells": [
  {
   "cell_type": "code",
   "execution_count": 1,
   "id": "b6fb46f7-8b97-49bf-bb1f-63ca895d670d",
   "metadata": {},
   "outputs": [],
   "source": [
    "# 1. map funksiyasından istifadə edərək bu listdəki elemntlərin ilk hərfini\n",
    "# böyük hərfə çevirin\n",
    "#l5=['sydney', 'vancouver', 'copenhagen']"
   ]
  },
  {
   "cell_type": "code",
   "execution_count": 8,
   "id": "d74b8ee9-e10f-4879-8e8f-3e5535da8782",
   "metadata": {},
   "outputs": [
    {
     "name": "stdout",
     "output_type": "stream",
     "text": [
      "['Sydney', 'Vancouver', 'Copenhagen']\n"
     ]
    }
   ],
   "source": [
    "L5=['sydney', 'vancouver', 'copenhagen']\n",
    "L5_UPPER= list(map(lambda W: W.capitalize(), L5))\n",
    "print(L5_UPPER)"
   ]
  },
  {
   "cell_type": "code",
   "execution_count": 3,
   "id": "0b0e2422-cc6a-4f85-bdca-d2c7e0587365",
   "metadata": {},
   "outputs": [],
   "source": [
    "# 2. Əldə etdiyimiz listi tuple-ə çevirib, çap edin."
   ]
  },
  {
   "cell_type": "code",
   "execution_count": 9,
   "id": "151adf54-439f-4bcd-97c9-0302256fc761",
   "metadata": {},
   "outputs": [
    {
     "name": "stdout",
     "output_type": "stream",
     "text": [
      "('Sydney', 'Vancouver', 'Copenhagen')\n"
     ]
    }
   ],
   "source": [
    "T = tuple(L5_UPPER)\n",
    "print(T)"
   ]
  },
  {
   "cell_type": "code",
   "execution_count": 5,
   "id": "7cb810c7-2c67-4272-b84d-0de47236882e",
   "metadata": {},
   "outputs": [],
   "source": [
    "# 3. Tuple-ın içində 'Sydney' elementinin indexini tapın."
   ]
  },
  {
   "cell_type": "code",
   "execution_count": 10,
   "id": "d5798109-3068-4ea6-acc4-500a36c490ee",
   "metadata": {},
   "outputs": [
    {
     "data": {
      "text/plain": [
       "0"
      ]
     },
     "execution_count": 10,
     "metadata": {},
     "output_type": "execute_result"
    }
   ],
   "source": [
    "T.index(\"Sydney\")"
   ]
  },
  {
   "cell_type": "code",
   "execution_count": 7,
   "id": "f7753517-4421-4abb-a3f1-4db656803f13",
   "metadata": {},
   "outputs": [],
   "source": [
    "# 4. Tuple-ın içindəki 'Vancouver' elementinin sayını tapın."
   ]
  },
  {
   "cell_type": "code",
   "execution_count": 12,
   "id": "e8049fe4-750a-4ac7-aa9c-6bc4f99f6a27",
   "metadata": {},
   "outputs": [
    {
     "data": {
      "text/plain": [
       "1"
      ]
     },
     "execution_count": 12,
     "metadata": {},
     "output_type": "execute_result"
    }
   ],
   "source": [
    "T.count(\"Vancouver\")"
   ]
  },
  {
   "cell_type": "code",
   "execution_count": 9,
   "id": "2bdd8d52-71a3-4290-8a86-9fe7049fb1c4",
   "metadata": {},
   "outputs": [],
   "source": [
    "# 5. grades = (92, 75, 100, 62, 60) adlı bir tuple yaradın.\n",
    "# Tuple-da minimum və maksimum dəyərləri tapın və hər ikisini çap edin."
   ]
  },
  {
   "cell_type": "code",
   "execution_count": 17,
   "id": "9ee8f733-9d15-4629-90df-73999f66bd98",
   "metadata": {},
   "outputs": [
    {
     "name": "stdout",
     "output_type": "stream",
     "text": [
      "Biggest value is 100\n",
      "Smallest value is 60\n"
     ]
    }
   ],
   "source": [
    "grades = (92, 75, 100, 62, 60)\n",
    "MIN = grades[0]\n",
    "MAX = grades[0]\n",
    "for i in grades:\n",
    "    if i < MIN:\n",
    "        MIN = i\n",
    "    elif i > MAX:\n",
    "        MAX = i\n",
    "print(\"Biggest value is\", MAX)\n",
    "print(\"Smallest value is\", MIN)"
   ]
  },
  {
   "cell_type": "code",
   "execution_count": 11,
   "id": "13b87495-6035-4ec5-8026-16618c1f9a3f",
   "metadata": {},
   "outputs": [],
   "source": [
    "# 6. İndi isə bu tuple-da 1-ci indeksdən 3-cü indeksə qədər olan elementləri seçin,\n",
    "# yeni bir tuple yaradın və nəticəni çap edin."
   ]
  },
  {
   "cell_type": "code",
   "execution_count": 20,
   "id": "ee43cc21-feea-45f5-b35a-7e627ff0694d",
   "metadata": {},
   "outputs": [
    {
     "name": "stdout",
     "output_type": "stream",
     "text": [
      "(75, 100, 62)\n"
     ]
    }
   ],
   "source": [
    "x = tuple(grades[1:4:1])\n",
    "print(x)"
   ]
  },
  {
   "cell_type": "code",
   "execution_count": 13,
   "id": "ce4d3aa2-e8aa-48fd-a7be-6994896ac519",
   "metadata": {},
   "outputs": [],
   "source": [
    "# 7. boy_ceki = (175, 65) adlı bir tuple yaradın. Sonra isə bu tuple-ı açaraq ayrı-ayrılıqda\n",
    "# boy və ceki dəyişənlərinə təyin edərək çap edin."
   ]
  },
  {
   "cell_type": "code",
   "execution_count": 21,
   "id": "9782585e-176e-42ae-aa37-ba80f1f8288b",
   "metadata": {},
   "outputs": [
    {
     "name": "stdout",
     "output_type": "stream",
     "text": [
      "175 65\n"
     ]
    }
   ],
   "source": [
    "boy_ceki = (175, 65)\n",
    "boy = boy_ceki[0]\n",
    "ceki = boy_ceki[-1]\n",
    "print(boy, ceki)"
   ]
  },
  {
   "cell_type": "code",
   "execution_count": 15,
   "id": "b2bbb364-3772-4404-aa92-0acbcf986d02",
   "metadata": {},
   "outputs": [],
   "source": [
    "# 8. t12 = (1,3,5,7,9,11,13) tuple-ını yaradın və bu tuple-dakı 5,7 və 9 elementlərini silin."
   ]
  },
  {
   "cell_type": "code",
   "execution_count": 23,
   "id": "701f12d2-eef6-4888-ac17-bf558ab90c68",
   "metadata": {},
   "outputs": [
    {
     "name": "stdout",
     "output_type": "stream",
     "text": [
      "(1, 3, 11, 13)\n"
     ]
    }
   ],
   "source": [
    "t12 = (1,3,5,7,9,11,13)\n",
    "T12 = list(t12)\n",
    "del T12[2:5:1]\n",
    "t13 = tuple(T12)\n",
    "print(t13)"
   ]
  },
  {
   "cell_type": "code",
   "execution_count": 35,
   "id": "d23175df-ed7d-49a1-95a1-b281f33d6fad",
   "metadata": {},
   "outputs": [],
   "source": [
    "# 9. String formatlaşdırması ilə tuple-u çap edin.\n",
    "# my_tuple = (\"Aytən\", 28, \"Data Scientist\")"
   ]
  },
  {
   "cell_type": "code",
   "execution_count": null,
   "id": "64964aef-baf0-451b-a6cc-c0994d97bde3",
   "metadata": {},
   "outputs": [],
   "source": [
    "my_tuple = (\"Aytən\", 28, \"Data Scientist\")\n",
    "print(\"Ad: %s, Yaş: %d, Peşə: %s\" % (my_tuple[0], my_tuple[1], my_tuple[2]))"
   ]
  },
  {
   "cell_type": "code",
   "execution_count": 24,
   "id": "1b96df15-3d5f-4096-89a7-bf35bbee3a0a",
   "metadata": {},
   "outputs": [],
   "source": [
    "# 10.Tuple-ın içindəki ədədlərin kvadratlarını yeni tuple kimi yaradin.\n",
    "# nums = (2, 3, 4)"
   ]
  },
  {
   "cell_type": "code",
   "execution_count": 26,
   "id": "aa066fd6-7d42-4d57-ab60-547443e209cc",
   "metadata": {},
   "outputs": [
    {
     "name": "stdout",
     "output_type": "stream",
     "text": [
      "(4, 9, 16)\n"
     ]
    }
   ],
   "source": [
    "nums = (2, 3, 4)\n",
    "kv = tuple(map(lambda x: x * x, nums))\n",
    "print(kv)"
   ]
  },
  {
   "cell_type": "code",
   "execution_count": 21,
   "id": "c592bedd-05d2-426c-abc2-15b102886a95",
   "metadata": {},
   "outputs": [],
   "source": [
    "# 11. Sadəcə rəqəmlər olan tuple-ları süzgəcdən keçirdin:\n",
    "# mixed = ('alma', 3, 5.4, 'banan', 7)\n",
    "# Yalnız rəqəmləri saxla: (3, 5.4, 7)"
   ]
  },
  {
   "cell_type": "code",
   "execution_count": 30,
   "id": "7b5c6c59-8e18-4ccb-8169-464e46fcb452",
   "metadata": {},
   "outputs": [
    {
     "name": "stdout",
     "output_type": "stream",
     "text": [
      "(3, 5.4, 7)\n"
     ]
    }
   ],
   "source": [
    "mixed = ('alma', 3, 5.4, 'banan', 7)\n",
    "tt = tuple(x for x in mixed if type(x) in (int, float))\n",
    "print(tt)"
   ]
  },
  {
   "cell_type": "code",
   "execution_count": 31,
   "id": "72963c8a-690e-4240-acf3-4378eaf9dd70",
   "metadata": {},
   "outputs": [],
   "source": [
    "# 12. Tuple içində ədədlərin ortalamasını hesablayin:\n",
    "# nums = (10, 20, 30, 40)"
   ]
  },
  {
   "cell_type": "code",
   "execution_count": 32,
   "id": "f4dbf48c-a2f7-4169-8dd3-5e67f4b21bf4",
   "metadata": {},
   "outputs": [
    {
     "name": "stdout",
     "output_type": "stream",
     "text": [
      "25.0\n"
     ]
    }
   ],
   "source": [
    "nums = (10, 20, 30, 40)\n",
    "COUNT = 0\n",
    "for i in nums:\n",
    "    COUNT += i\n",
    "print(COUNT/ len(nums))"
   ]
  },
  {
   "cell_type": "code",
   "execution_count": null,
   "id": "0123920f-52d0-4f2e-9617-2c299ebf02d0",
   "metadata": {},
   "outputs": [],
   "source": [
    "# 13. Tuple içindəki string-ləri baş hərfi böyük olacaq şəkildə yazin.\n",
    "# words = ('salam', 'lamia', 'necesen')"
   ]
  },
  {
   "cell_type": "code",
   "execution_count": 33,
   "id": "cd07c390-fe81-4507-be0e-52ac9014b83e",
   "metadata": {},
   "outputs": [
    {
     "name": "stdout",
     "output_type": "stream",
     "text": [
      "['Salam', 'Lamia', 'Necesen']\n"
     ]
    }
   ],
   "source": [
    "words = ('salam', 'lamia', 'necesen')\n",
    "words_upper = list(map(lambda W: W.capitalize(), words))\n",
    "print(words_upper)"
   ]
  }
 ],
 "metadata": {
  "kernelspec": {
   "display_name": "Python [conda env:base] *",
   "language": "python",
   "name": "conda-base-py"
  },
  "language_info": {
   "codemirror_mode": {
    "name": "ipython",
    "version": 3
   },
   "file_extension": ".py",
   "mimetype": "text/x-python",
   "name": "python",
   "nbconvert_exporter": "python",
   "pygments_lexer": "ipython3",
   "version": "3.12.7"
  }
 },
 "nbformat": 4,
 "nbformat_minor": 5
}
