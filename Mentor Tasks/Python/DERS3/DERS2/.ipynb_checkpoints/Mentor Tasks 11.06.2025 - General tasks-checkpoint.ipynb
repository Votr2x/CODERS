{
 "cells": [
  {
   "cell_type": "code",
   "execution_count": 1,
   "id": "868302cb-0a92-4c48-bd3d-c332c2fa4947",
   "metadata": {},
   "outputs": [],
   "source": [
    "# 1. Verilmiş listdəki bütün ədədlərin kvadratlarını yeni list şəklində çıxar.(list comprehension)\n",
    "# numbers = [1, 2, 3, 4, 5]\n",
    "# Nəticə: [1, 4, 9, 16, 25]"
   ]
  },
  {
   "cell_type": "code",
   "execution_count": 3,
   "id": "d2c51ea6-c186-49d4-af92-8c7d4344c344",
   "metadata": {},
   "outputs": [],
   "source": [
    "# 2. Listdəki təkrarlanan elementləri sil və unikal elementlər siyahısı yarat.\n",
    "# data = [1, 2, 2, 3, 4, 4, 5]\n",
    "# Nəticə: [1, 2, 3, 4, 5]"
   ]
  },
  {
   "cell_type": "code",
   "execution_count": 5,
   "id": "3435b8a1-6331-4fd4-ae0c-ec583f22c557",
   "metadata": {},
   "outputs": [],
   "source": [
    "# 3. Verilmiş 2 listi birləşdir və artan sıra ilə sırala.\n",
    "# a = [5, 1, 3]\n",
    "# b = [4, 2, 6]\n",
    "# Nəticə: [1, 2, 3, 4, 5, 6]"
   ]
  },
  {
   "cell_type": "code",
   "execution_count": 7,
   "id": "c47f6ede-cd68-4a56-b0da-facd822979b6",
   "metadata": {},
   "outputs": [],
   "source": [
    "# 4. Tuple daxilindəki ən böyük və ən kiçik elementi tap.\n",
    "# nums = (3, 1, 5, 7, 2)\n",
    "# Output: Max=7, Min=1"
   ]
  },
  {
   "cell_type": "code",
   "execution_count": 9,
   "id": "0dc32677-5fe2-4721-bb05-9ad1c1e6bf15",
   "metadata": {},
   "outputs": [],
   "source": [
    "# 5. Tuple-da təkrarlanan elementləri say.\n",
    "# t = (5, 1, 5, 3, 5, 7)\n",
    "# Nəticə: 3"
   ]
  },
  {
   "cell_type": "code",
   "execution_count": 11,
   "id": "8442c708-b546-4361-aa01-efe914b5d4e2",
   "metadata": {},
   "outputs": [],
   "source": [
    "# 6. Tuple-dəki ədədlərin cəmini hesabla.\n",
    "# nums = (2, 4, 6, 8)\n",
    "# Nəticə: 20"
   ]
  },
  {
   "cell_type": "code",
   "execution_count": 13,
   "id": "6ea31bcf-fc68-4bc1-b9ce-3c0fb096711c",
   "metadata": {},
   "outputs": [],
   "source": [
    "# 7. Aşağıdakı list of tuple verilmişdir. Hər bir tuple-dan yalnız adları list şəklində çıxar.\n",
    "# data = [(\"Lamia\", 23), (\"Aysel\", 21), (\"Murad\", 25)]\n",
    "# Nəticə: [\"Lamia\", \"Aysel\", \"Murad\"]"
   ]
  },
  {
   "cell_type": "code",
   "execution_count": 15,
   "id": "30ae5f44-0e1a-4b27-a5fc-91a005b8c063",
   "metadata": {},
   "outputs": [],
   "source": [
    "# 8. Task 3.2: Tuple-ların daxilindəki ədədlərin ortalamasını çıxar.\n",
    "# marks = [(80, 90), (75, 85), (90, 95)]\n",
    "# Nəticə: [85.0, 80.0, 92.5]"
   ]
  },
  {
   "cell_type": "code",
   "execution_count": 17,
   "id": "db497b5e-8630-4656-82f9-92b3be004326",
   "metadata": {},
   "outputs": [],
   "source": [
    "# 9. Aşağıdakı tuple içindəki list-lərə yeni bir element əlavə et.\n",
    "# data = ([\"apple\", \"banana\"], [\"carrot\", \"potato\"])\n",
    "# \"grape\" və \"tomato\" əlavə et\n",
    "# Nəticə: ([\"apple\", \"banana\", \"grape\"], [\"carrot\", \"potato\", \"tomato\"])"
   ]
  },
  {
   "cell_type": "code",
   "execution_count": 19,
   "id": "96956348-f123-4de6-a848-821c0d44ba01",
   "metadata": {},
   "outputs": [],
   "source": [
    "# 10. Hər tələbənin imtahan nəticələri verilmişdir (ad, [qiymətlər]). Hər tələbə üçün orta balı hesabla.\n",
    "# students = [(\"Lamia\", [90, 95, 88]), (\"Murad\", [70, 80, 75])]\n",
    "# Nəticə: {\"Lamia\": 91.0, \"Murad\": 75.0}"
   ]
  }
 ],
 "metadata": {
  "kernelspec": {
   "display_name": "Python 3 (ipykernel)",
   "language": "python",
   "name": "python3"
  },
  "language_info": {
   "codemirror_mode": {
    "name": "ipython",
    "version": 3
   },
   "file_extension": ".py",
   "mimetype": "text/x-python",
   "name": "python",
   "nbconvert_exporter": "python",
   "pygments_lexer": "ipython3",
   "version": "3.12.4"
  }
 },
 "nbformat": 4,
 "nbformat_minor": 5
}
