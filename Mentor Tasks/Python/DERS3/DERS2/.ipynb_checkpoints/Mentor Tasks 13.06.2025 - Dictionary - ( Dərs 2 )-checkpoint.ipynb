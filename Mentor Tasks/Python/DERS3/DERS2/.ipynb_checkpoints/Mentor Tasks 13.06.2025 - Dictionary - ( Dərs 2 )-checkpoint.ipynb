{
 "cells": [
  {
   "cell_type": "code",
   "execution_count": 42,
   "id": "86b577ed-6108-4799-90aa-dd9239ea75a7",
   "metadata": {},
   "outputs": [],
   "source": [
    "# 1. student = {\"name\": \"Yelmar\", \"age\": 19, \"major\": \"Data Science\"} adlı bir dictionary yaradın.\n",
    "# \"name\" key-ə uyğun gələn value-nu çap edin."
   ]
  },
  {
   "cell_type": "code",
   "execution_count": 43,
   "id": "27d3b34a-fc7c-4665-a63f-11cc88b9d64b",
   "metadata": {},
   "outputs": [
    {
     "name": "stdout",
     "output_type": "stream",
     "text": [
      "Yelmar\n"
     ]
    }
   ],
   "source": [
    "student = {\"name\": \"Yelmar\", \"age\": 19, \"major\": \"Data Science\"}\n",
    "print(student[\"name\"])"
   ]
  },
  {
   "cell_type": "code",
   "execution_count": 44,
   "id": "41b2fde7-ab4e-45d0-bcd1-c5331e3fdfe6",
   "metadata": {},
   "outputs": [],
   "source": [
    "# 2. # car = {\"Brand\": \"Toyota\", \"Model\": \"Corolla\", \"Year\": 2019} adlı bir dictionary yaradın.\n",
    "# Dictionary-yə \"Color\": \"Blue\" cütlüyünü əlavə edin.\n",
    "# \"Year\" key-inin value-sunu 2020 olaraq yeniləyin.\n",
    "# Yenilənmiş dictionary-ni çap edin"
   ]
  },
  {
   "cell_type": "code",
   "execution_count": 45,
   "id": "b5026e74-0bd7-413e-bb96-4a1f06fc2062",
   "metadata": {},
   "outputs": [
    {
     "name": "stdout",
     "output_type": "stream",
     "text": [
      "{'Brand': 'Toyota', 'Model': 'Corolla', 'Year': 2020, 'Color': 'Blue'}\n"
     ]
    }
   ],
   "source": [
    "car = {\"Brand\": \"Toyota\", \"Model\": \"Corolla\", \"Year\": 2019}\n",
    "car[\"Color\"] = \"Blue\"\n",
    "car[\"Year\"] = 2020\n",
    "print(car)"
   ]
  },
  {
   "cell_type": "code",
   "execution_count": 46,
   "id": "59db9bc2-c4a9-4385-b1dd-6a2110c2fdb1",
   "metadata": {},
   "outputs": [],
   "source": [
    "# 3. person = {\"name\": \"Sarah\", \"age\": 30, \"city\": \"Berlin\"} adlı bir dictionary yaradın.\n",
    "# \"city\" key-ini pop() metodu ilə silin və yenilənmiş dictionary-ni çap edin.\n",
    "# Silinən value-nu çap edin."
   ]
  },
  {
   "cell_type": "code",
   "execution_count": 47,
   "id": "69c153fa-9fe9-470a-802a-128e62899109",
   "metadata": {},
   "outputs": [
    {
     "name": "stdout",
     "output_type": "stream",
     "text": [
      "Berlin\n"
     ]
    }
   ],
   "source": [
    "person = {\"name\": \"Sarah\", \"age\": 30, \"city\": \"Berlin\"}\n",
    "city = person.pop(\"city\")\n",
    "print(city)"
   ]
  },
  {
   "cell_type": "code",
   "execution_count": 48,
   "id": "2f8956ba-4aba-45cd-acb8-17c232a3afc8",
   "metadata": {},
   "outputs": [],
   "source": [
    "# 4. book = {\"title\": \"The Picture of Dorian Gray\", \"author\": \"Oscar Wilde\", \"year\": 1890}adlı\n",
    "# bir dictionary yaradın.\n",
    "# \"author\" və \"publisher\" key-lərinin dictionary-də olub-olmadığını yoxlayın və nəticələri çap edin."
   ]
  },
  {
   "cell_type": "code",
   "execution_count": 49,
   "id": "869f876f-3167-4507-b6b1-14c6658f1d26",
   "metadata": {},
   "outputs": [
    {
     "name": "stdout",
     "output_type": "stream",
     "text": [
      "author is in book\n",
      "publisher is not in book\n"
     ]
    }
   ],
   "source": [
    "book = {\"title\": \"The Picture of Dorian Gray\", \"author\": \"Oscar Wilde\", \"year\": 1890}\n",
    "if \"author\" in book.keys():\n",
    "    print(\"author is in book\")\n",
    "if \"publisher\" in book.keys():\n",
    "    print(\"publisher is in book\")\n",
    "else:\n",
    "    print(\"publisher is not in book\")"
   ]
  },
  {
   "cell_type": "code",
   "execution_count": 50,
   "id": "2afc6ea3-8a14-44de-833f-f8083c1dfcf6",
   "metadata": {},
   "outputs": [],
   "source": [
    "# 5. country = {\"name\": \"Azerbaijan\", \"capital\": \"Baku\", \"population\": \"10 million\"} adlı\n",
    "# bir dictionary yaradın.\n",
    "# Dictionary üzrə loop edin və həm key-ləri, həm də value-ları çap edin."
   ]
  },
  {
   "cell_type": "code",
   "execution_count": 51,
   "id": "ba50dda2-c0a9-43ec-b994-bdd706e6e2e1",
   "metadata": {},
   "outputs": [
    {
     "name": "stdout",
     "output_type": "stream",
     "text": [
      "name : Azerbaijan\n",
      "capital : Baku\n",
      "population : 10 million\n"
     ]
    }
   ],
   "source": [
    "country = {\"name\": \"Azerbaijan\", \"capital\": \"Baku\", \"population\": \"10 million\"}\n",
    "for key, value in country.items():\n",
    "    print(key, \":\", value)"
   ]
  },
  {
   "cell_type": "code",
   "execution_count": 52,
   "id": "0045aee0-9018-4a14-a9f8-089eb67d4b19",
   "metadata": {},
   "outputs": [],
   "source": [
    "# 6. Aşağıdakı iki dictionary-ni yaradın:\n",
    "\n",
    "# dict1 = {\"a\": 1, \"b\": 2}\n",
    "# dict2 = {\"b\": 3, \"c\": 4}\n",
    "\n",
    "# Bu dictionary-ləri update() metodu ilə birləşdirin.\n",
    "# Birləşdirilmiş dictionary-ni çap edin."
   ]
  },
  {
   "cell_type": "code",
   "execution_count": 53,
   "id": "6aa54f2c-7ee0-442c-890b-8a46c0577463",
   "metadata": {},
   "outputs": [
    {
     "name": "stdout",
     "output_type": "stream",
     "text": [
      "{'a': 1, 'b': 3, 'c': 4}\n"
     ]
    }
   ],
   "source": [
    "dict1 = {\"a\": 1, \"b\": 2}\n",
    "dict2 = {\"b\": 3, \"c\": 4}\n",
    "dict1.update(dict2)\n",
    "print(dict1)"
   ]
  },
  {
   "cell_type": "code",
   "execution_count": 54,
   "id": "6365789a-7ac9-4850-98c0-8c23c75a378e",
   "metadata": {},
   "outputs": [],
   "source": [
    "# 7. student_1 = {\"name\": \"Raul\", \"age\": 20, \"major\": \"Data Science\"} adlı bir dictionary yaradın.\n",
    "# \"age\" key-inin value-sunu get() metodu ilə əldə edin.\n",
    "# Mövcud olmayan \"grade\" key-inin value-sunu əldə etməyə çalışın və default value olaraq\n",
    "# \"Not Available\" təyin edin.\n",
    "# Hər iki nəticəni çap edin."
   ]
  },
  {
   "cell_type": "code",
   "execution_count": 55,
   "id": "4cc7e772-7816-4861-9b3f-372911933e02",
   "metadata": {},
   "outputs": [
    {
     "name": "stdout",
     "output_type": "stream",
     "text": [
      "20\n",
      "Not Available\n"
     ]
    }
   ],
   "source": [
    "student_1 = {\"name\": \"Raul\", \"age\": 20, \"major\": \"Data Science\"}\n",
    "print(student_1.get(\"age\"))\n",
    "student_1[\"grade\"] = \"Not Available\"\n",
    "print(student_1.get(\"grade\"))"
   ]
  },
  {
   "cell_type": "code",
   "execution_count": 56,
   "id": "b3d51ea6-43dd-4f92-9143-f8073b66e115",
   "metadata": {},
   "outputs": [],
   "source": [
    "# 8. Yuxarıda yaratdığınız student_1 dictionary-sinin uzunluğunu çap edin"
   ]
  },
  {
   "cell_type": "code",
   "execution_count": 57,
   "id": "e2d93353-9804-4a73-97a4-bedf1b6c8b2c",
   "metadata": {},
   "outputs": [
    {
     "name": "stdout",
     "output_type": "stream",
     "text": [
      "4\n"
     ]
    }
   ],
   "source": [
    "print(len(student_1))"
   ]
  },
  {
   "cell_type": "code",
   "execution_count": 58,
   "id": "8d38b389-d3d9-44f7-aa94-ec309d79e819",
   "metadata": {},
   "outputs": [],
   "source": [
    "# 9. movie = {\"title\": \"The Truman Show\", \"director\": \"Peter Weir\", \"year\": 1998} adlı\n",
    "# bir dictionary yaradın və onun bütün key-lərini və values-larını çap edin."
   ]
  },
  {
   "cell_type": "code",
   "execution_count": 59,
   "id": "cf9654ee-559e-4ed6-8865-d0c7aedb6ab5",
   "metadata": {},
   "outputs": [
    {
     "name": "stdout",
     "output_type": "stream",
     "text": [
      "Keys:  dict_keys(['title', 'director', 'year'])\n",
      "Value:  dict_values(['The Truman Show', 'Peter Weir', 1998])\n"
     ]
    }
   ],
   "source": [
    "movie = {\"title\": \"The Truman Show\", \"director\": \"Peter Weir\", \"year\": 1998}\n",
    "print(\"Keys: \", movie.keys())\n",
    "print(\"Value: \", movie.values())"
   ]
  },
  {
   "cell_type": "code",
   "execution_count": 60,
   "id": "f0324ef1-8b62-49da-a5e3-8e44293293ee",
   "metadata": {},
   "outputs": [],
   "source": [
    "# 10. Sonra isə items() metodundan istifadə edərək, dictionary-dəki key-value cütlərini\n",
    "# bir list olaraq saxlayın və çap edin."
   ]
  },
  {
   "cell_type": "code",
   "execution_count": 61,
   "id": "7fbba5f0-abfd-45f9-8807-4c45ceeaeece",
   "metadata": {},
   "outputs": [
    {
     "name": "stdout",
     "output_type": "stream",
     "text": [
      "[('title', 'The Truman Show'), ('director', 'Peter Weir'), ('year', 1998)]\n"
     ]
    }
   ],
   "source": [
    "x = []\n",
    "for key, value in movie.items():\n",
    "    x.append((key, value))\n",
    "print(x)"
   ]
  },
  {
   "cell_type": "code",
   "execution_count": 62,
   "id": "d52a2b0e-b6ab-4a33-9c1a-9f05ed5241be",
   "metadata": {},
   "outputs": [],
   "source": [
    "# 11. Sonra isə bu dictionary-nin bütün elementlərini silin və dictionary-ni çap edin"
   ]
  },
  {
   "cell_type": "code",
   "execution_count": 63,
   "id": "85b0b32b-623f-4b8b-9f28-2c0bd9ff2131",
   "metadata": {},
   "outputs": [
    {
     "name": "stdout",
     "output_type": "stream",
     "text": [
      "{}\n"
     ]
    }
   ],
   "source": [
    "movie.clear()\n",
    "print(movie)"
   ]
  },
  {
   "cell_type": "code",
   "execution_count": 64,
   "id": "9af0a736-bb98-4d4d-814e-b0690c0b9f1b",
   "metadata": {},
   "outputs": [],
   "source": [
    "# 12. student_2 = {\"name\": \"Narmin\", \"grades\": [92, 95, 93]} adlı bir dictionary yaradın.\n",
    "# Buradakı \"grades\" key-sindəki listə 100 qiymətini append() metodu ilə əlavə edin və\n",
    "#  dictionary-ni çap edin"
   ]
  },
  {
   "cell_type": "code",
   "execution_count": 65,
   "id": "6c82f542-2953-4309-8f5d-45e8672bff63",
   "metadata": {},
   "outputs": [
    {
     "name": "stdout",
     "output_type": "stream",
     "text": [
      "{'name': 'Narmin', 'grades': [92, 95, 93, 100]}\n"
     ]
    }
   ],
   "source": [
    "student_2 = {\"name\": \"Narmin\", \"grades\": [92, 95, 93]}\n",
    "student_2[\"grades\"].append(100)\n",
    "print(student_2)"
   ]
  },
  {
   "cell_type": "code",
   "execution_count": 66,
   "id": "be585cca-8f5b-48b3-a622-1633298a0012",
   "metadata": {},
   "outputs": [],
   "source": [
    "# 13. Yuxarıdakı dictionary-dəki \"grades\" listinə 100 qiymətini\n",
    "# listin 1-ci indeksinə insert() metodu ilə daxil edin."
   ]
  },
  {
   "cell_type": "code",
   "execution_count": 41,
   "id": "0e9db53d-4c2b-43fc-86ff-159b51f62f4f",
   "metadata": {},
   "outputs": [
    {
     "name": "stdout",
     "output_type": "stream",
     "text": [
      "{'name': 'Narmin', 'grades': [92, 100, 95, 93, 100]}\n"
     ]
    }
   ],
   "source": [
    "student_2[\"grades\"].insert(1, 100)\n",
    "print(student_2)"
   ]
  }
 ],
 "metadata": {
  "kernelspec": {
   "display_name": "Python [conda env:base] *",
   "language": "python",
   "name": "conda-base-py"
  },
  "language_info": {
   "codemirror_mode": {
    "name": "ipython",
    "version": 3
   },
   "file_extension": ".py",
   "mimetype": "text/x-python",
   "name": "python",
   "nbconvert_exporter": "python",
   "pygments_lexer": "ipython3",
   "version": "3.12.7"
  }
 },
 "nbformat": 4,
 "nbformat_minor": 5
}
