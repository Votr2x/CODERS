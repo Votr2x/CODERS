{
 "cells": [
  {
   "cell_type": "code",
   "execution_count": 3,
   "id": "eeb0d4c8-3a37-431b-bfc1-22d96cf677a8",
   "metadata": {},
   "outputs": [],
   "source": [
    "# 1. grades = {\"Tofiq\": 82, \"Arzu\": 92, \"Sara\": 95, \"Rafiq\": 88, \"İlahə\": 83} dictionary-sini yaradın.\n",
    "# Yalnız qiyməti 85-dən yüksək olan tələbələri saxlayın və\n",
    "# onların qiymətlərini 5 bal artıran yeni bir dictionary yaradın."
   ]
  },
  {
   "cell_type": "code",
   "execution_count": 5,
   "id": "471bd203-af8f-401a-aad0-0b2356c6df52",
   "metadata": {},
   "outputs": [],
   "source": [
    "# 2. cumle = \"Salam mən data science öyrənirəm və bu çox maraqlıdır\"\n",
    "# Yuxarıdakı cümlədəki hər bir sözün uzunluğunu key-value şəklində saxlayan bir dictionary yaradın."
   ]
  },
  {
   "cell_type": "code",
   "execution_count": 7,
   "id": "b3871973-855f-4920-810e-1508a8327ec7",
   "metadata": {},
   "outputs": [],
   "source": [
    "# 3. names = [\"Nərmin\", \"Raul\", \"Lamiyə\", \"Yelmar\"]\n",
    "# ages = [19, 21, 22, 19]\n",
    "# Yuxarıdakı listlərdə hər bir ad və yaş tuple olaraq key kimi istifadə edilən,\n",
    "# yaşın kvadratını isə value kimi saxlayan dictionary yaradın."
   ]
  },
  {
   "cell_type": "code",
   "execution_count": 9,
   "id": "64f3c232-cc11-4e08-be6e-e331ae0ae2fb",
   "metadata": {},
   "outputs": [],
   "source": [
    "# 4. nums = {\"bir\": 1, \"iki\": 2, \"üç\": 3, \"dörd\": 4, \"beş\": 5} dictionary-sini yaradın.\n",
    "# Bu dictionary-nin value-larını kvadrata yüksəldin, key-lərin adına isə \"_kvadratı\" əlavə edin\n",
    "# və çap edin."
   ]
  },
  {
   "cell_type": "code",
   "execution_count": 11,
   "id": "be7efd1f-77f4-4705-9d78-89ff7a75342f",
   "metadata": {},
   "outputs": [],
   "source": [
    "# 5. s5 = \"alma armud alma mandarin banan üzüm mandarin\"\n",
    "# bu string-də təkrarlanan sözləri aradan qaldıraraq yalnız unikal sözlərdən ibarət set yaradın."
   ]
  },
  {
   "cell_type": "code",
   "execution_count": 13,
   "id": "b2f9df8f-7ca0-4540-a847-84adeb61568e",
   "metadata": {},
   "outputs": [],
   "source": [
    "# 6. set_2 = {1, 2, 3, 4} və set_3 = {3, 4, 5, 6} adlı iki set yaradın.\n",
    "# Bu iki set arasında yalnız birində olan elementləri tapın."
   ]
  },
  {
   "cell_type": "code",
   "execution_count": 15,
   "id": "34faad2c-ae49-4a1f-9499-23aa4c56097f",
   "metadata": {},
   "outputs": [],
   "source": [
    "# 7. set_5 = {10, 5, 3, 8, 15, 19, 38, 2, 93, 55} adlı bir set yaradın.\n",
    "# Set-dəki ən kiçik elementi silin."
   ]
  },
  {
   "cell_type": "code",
   "execution_count": 17,
   "id": "7d6904b7-57d4-4c7c-9239-c68577497a8a",
   "metadata": {},
   "outputs": [],
   "source": [
    "# 8. Set1 və Set2 arasında simmetrik fərqi çap edin.\n",
    "# set1 = {1, 2, 3}\n",
    "# set2 = {3, 4, 5}"
   ]
  },
  {
   "cell_type": "code",
   "execution_count": 19,
   "id": "15db449b-9d62-4490-a944-069ce223f282",
   "metadata": {},
   "outputs": [],
   "source": [
    "# 9. İki set-in tamamilə fərqli olub olmadığını yoxlayın.\n",
    "# set1 = {'alma', 'armud'}\n",
    "# set2 = {'banan', 'gilas'}"
   ]
  },
  {
   "cell_type": "code",
   "execution_count": null,
   "id": "46ba8839-9bef-4308-a103-969e63d3a2a4",
   "metadata": {},
   "outputs": [],
   "source": [
    "# 10. Rənglər set-inə yeni bir rəng əlavə etməyə çalışın.\n",
    "# rənglər = frozenset(['qırmızı', 'mavi'])"
   ]
  }
 ],
 "metadata": {
  "kernelspec": {
   "display_name": "Python 3 (ipykernel)",
   "language": "python",
   "name": "python3"
  },
  "language_info": {
   "codemirror_mode": {
    "name": "ipython",
    "version": 3
   },
   "file_extension": ".py",
   "mimetype": "text/x-python",
   "name": "python",
   "nbconvert_exporter": "python",
   "pygments_lexer": "ipython3",
   "version": "3.12.4"
  }
 },
 "nbformat": 4,
 "nbformat_minor": 5
}
