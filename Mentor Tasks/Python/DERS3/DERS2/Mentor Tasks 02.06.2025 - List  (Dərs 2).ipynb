{
 "cells": [
  {
   "cell_type": "code",
   "execution_count": 1,
   "id": "80627c1b",
   "metadata": {},
   "outputs": [],
   "source": [
    "%matplotlib inline\n",
    "import matplotlib.pyplot as plt\n",
    "import pandas as pd\n",
    "import numpy as np\n",
    "import math"
   ]
  },
  {
   "cell_type": "code",
   "execution_count": 2,
   "id": "c180810a",
   "metadata": {},
   "outputs": [],
   "source": [
    "# 1. Boş bir list yaradın sonra isə 3,4,5 ədədlərini listə append edin.\n",
    "# Sonra isə listin 1-ci indexini çap edin."
   ]
  },
  {
   "cell_type": "code",
   "execution_count": 19,
   "id": "a3e9241c-c9cf-4bfa-b77b-a8f528641445",
   "metadata": {},
   "outputs": [
    {
     "name": "stdout",
     "output_type": "stream",
     "text": [
      "[3, 4, 5]\n"
     ]
    }
   ],
   "source": [
    "LIST = []\n",
    "for i in range (3, 6):\n",
    "    LIST.append(i)\n",
    "print(LIST)"
   ]
  },
  {
   "cell_type": "code",
   "execution_count": 20,
   "id": "b11b935c",
   "metadata": {},
   "outputs": [],
   "source": [
    "# 2. [0,1,2] listi ilə əldə etdiyimiz listi birləşdirib çap edin."
   ]
  },
  {
   "cell_type": "code",
   "execution_count": 22,
   "id": "8d473c79-2c48-42ef-8cb8-b4c17cb8b23f",
   "metadata": {},
   "outputs": [
    {
     "name": "stdout",
     "output_type": "stream",
     "text": [
      "[0, 1, 2, 3, 4, 5]\n"
     ]
    }
   ],
   "source": [
    "LIST2 = [0, 1, 2]\n",
    "LIST2.extend(LIST)\n",
    "print(LIST2)"
   ]
  },
  {
   "cell_type": "code",
   "execution_count": 7,
   "id": "6d28f7d5",
   "metadata": {},
   "outputs": [],
   "source": [
    "# 3. 'Azərbaycan' stringini listə çevirib, alınan listi tərs çevirib, çap edin."
   ]
  },
  {
   "cell_type": "code",
   "execution_count": 30,
   "id": "3df442a3-4ea5-4b90-a6b3-901a355282b1",
   "metadata": {},
   "outputs": [
    {
     "name": "stdout",
     "output_type": "stream",
     "text": [
      "['n', 'a', 'j', 'i', 'a', 'b', 'r', 'e', 'a', 'z', 'A']\n"
     ]
    }
   ],
   "source": [
    "STR = 'Azaerbaijan'\n",
    "STR_LIST = list(STR)\n",
    "STR_LIST.reverse()\n",
    "print(STR_LIST)"
   ]
  },
  {
   "cell_type": "code",
   "execution_count": 31,
   "id": "de419aba",
   "metadata": {},
   "outputs": [],
   "source": [
    "# 4. [3,2,1,4] listin özünü dəyişmədən listi sort edib yeni dəyişənə mənimsədin.\n"
   ]
  },
  {
   "cell_type": "code",
   "execution_count": 46,
   "id": "df5518e3-4f62-4d22-a316-532cb6a2b249",
   "metadata": {},
   "outputs": [
    {
     "data": {
      "text/plain": [
       "[1, 2, 3, 4]"
      ]
     },
     "execution_count": 46,
     "metadata": {},
     "output_type": "execute_result"
    }
   ],
   "source": [
    "A = [3, 2, 1, 4]\n",
    "sorted(A)\n",
    "\n"
   ]
  },
  {
   "cell_type": "code",
   "execution_count": 16,
   "id": "cc8d9a4a",
   "metadata": {},
   "outputs": [],
   "source": [
    "# 5. ['baku','vancouver','copenhagen'] listini yaradın.\n",
    "# Sonra isə 'Vancouver' elementinin indexini tapın"
   ]
  },
  {
   "cell_type": "code",
   "execution_count": 34,
   "id": "d11273a0-2083-4a60-80c4-e64613935bf9",
   "metadata": {},
   "outputs": [
    {
     "data": {
      "text/plain": [
       "1"
      ]
     },
     "execution_count": 34,
     "metadata": {},
     "output_type": "execute_result"
    }
   ],
   "source": [
    "LIST = ['baku', 'vancouver', 'copenhagen']\n",
    "LIST.index('vancouver')"
   ]
  },
  {
   "cell_type": "code",
   "execution_count": 1,
   "id": "3a3f2c0a",
   "metadata": {},
   "outputs": [],
   "source": [
    "# 6. Sonra bu listə 'sydney' stringini ikinci element kimi daxil edin"
   ]
  },
  {
   "cell_type": "code",
   "execution_count": 36,
   "id": "760df90a-52f1-4858-b0c8-16c951f18ff8",
   "metadata": {},
   "outputs": [
    {
     "name": "stdout",
     "output_type": "stream",
     "text": [
      "['baku', 'sydney', 'copenhagen']\n"
     ]
    }
   ],
   "source": [
    "LIST.insert(1) = 'sydney'\n",
    "print(LIST)"
   ]
  },
  {
   "cell_type": "code",
   "execution_count": null,
   "id": "cc963d86-b9db-4aad-bab0-66930f7a3a6f",
   "metadata": {},
   "outputs": [],
   "source": [
    "# 7. Sonra bu listdən 'baku' elemntini silin\n",
    "# sonra isə popdan istifadə edərək sonuncu elementi silin\n",
    "# və həmin elementi çap edin."
   ]
  },
  {
   "cell_type": "code",
   "execution_count": 37,
   "id": "30fecb17-94ed-4470-bd02-c8861c21e13e",
   "metadata": {},
   "outputs": [
    {
     "name": "stdout",
     "output_type": "stream",
     "text": [
      "['sydney', 'copenhagen']\n"
     ]
    }
   ],
   "source": [
    "LIST.pop(0)\n",
    "print(LIST)"
   ]
  },
  {
   "cell_type": "code",
   "execution_count": null,
   "id": "af225422-6010-4f11-8203-84fcf448ed74",
   "metadata": {},
   "outputs": [],
   "source": [
    "# 8. append() metodundan istifadə edərək ayrılıqda list_4-ü list_3-ə əlavə edin.\n",
    "# Yeni siyahını çap edin.\n",
    "# list_3 = [\"alma\", \"armud\"]\n",
    "# list_4 = [\"portağal\", \"üzüm\"]"
   ]
  },
  {
   "cell_type": "code",
   "execution_count": 38,
   "id": "f06dfe8b-de61-4d30-bb8c-80ebac6c25c7",
   "metadata": {},
   "outputs": [
    {
     "name": "stdout",
     "output_type": "stream",
     "text": [
      "['alma', 'armud', ['portağal', 'üzüm']]\n"
     ]
    }
   ],
   "source": [
    "list_3 = [\"alma\", \"armud\"]\n",
    "list_4 = [\"portağal\", \"üzüm\"]\n",
    "list_3.append(list_4)\n",
    "print(list_3)"
   ]
  },
  {
   "cell_type": "code",
   "execution_count": null,
   "id": "3e0a2cb2-e555-4c77-a79b-605169637ae0",
   "metadata": {},
   "outputs": [],
   "source": []
  }
 ],
 "metadata": {
  "kernelspec": {
   "display_name": "Python [conda env:base] *",
   "language": "python",
   "name": "conda-base-py"
  },
  "language_info": {
   "codemirror_mode": {
    "name": "ipython",
    "version": 3
   },
   "file_extension": ".py",
   "mimetype": "text/x-python",
   "name": "python",
   "nbconvert_exporter": "python",
   "pygments_lexer": "ipython3",
   "version": "3.12.7"
  }
 },
 "nbformat": 4,
 "nbformat_minor": 5
}
