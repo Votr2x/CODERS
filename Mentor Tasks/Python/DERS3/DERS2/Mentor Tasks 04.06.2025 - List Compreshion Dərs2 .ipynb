{
 "cells": [
  {
   "cell_type": "code",
   "execution_count": 81,
   "id": "54b6d488-a934-4db6-a667-5a063a053610",
   "metadata": {},
   "outputs": [],
   "source": [
    "# 1. List comprehension istifadə edrərək yalnız adında \"a\" hərfi olan meyvələrdən ibarət yeni bir siyahı yaradın.\n",
    "# fruits = [\"apple\", \"banana\", \"cherry\", \"kiwi\", \"mango\"]"
   ]
  },
  {
   "cell_type": "code",
   "execution_count": 82,
   "id": "c753d9df-77d6-47c6-b3e9-d50fcc60ac52",
   "metadata": {},
   "outputs": [
    {
     "name": "stdout",
     "output_type": "stream",
     "text": [
      "['apple', 'banana', 'mango']\n"
     ]
    }
   ],
   "source": [
    "fruits = [\"apple\", \"banana\", \"cherry\", \"kiwi\", \"mango\"]\n",
    "LIST = [i for i in fruits if \"a\" in i]\n",
    "print(LIST)"
   ]
  },
  {
   "cell_type": "code",
   "execution_count": 83,
   "id": "53cc8534-5ec2-4c31-ad0c-a34cf91c51a4",
   "metadata": {},
   "outputs": [],
   "source": [
    "# 2. List comprehesionsdan istifadə edərək 4x5 ölçüsündə matrix yaradın."
   ]
  },
  {
   "cell_type": "code",
   "execution_count": 84,
   "id": "68ae587c-e25b-4b68-963d-72cd519df38b",
   "metadata": {},
   "outputs": [
    {
     "name": "stdout",
     "output_type": "stream",
     "text": [
      "[0, 1, 2, 3, 4]\n",
      "[0, 1, 2, 3, 4]\n",
      "[0, 1, 2, 3, 4]\n",
      "[0, 1, 2, 3, 4]\n"
     ]
    }
   ],
   "source": [
    "LIST = [[N for N in range(5)] for A in range(4)]\n",
    "for N in LIST:\n",
    "    print(N)"
   ]
  },
  {
   "cell_type": "code",
   "execution_count": 85,
   "id": "03e27417-f3e2-4a65-b035-4dfb2a542272",
   "metadata": {},
   "outputs": [],
   "source": [
    "# 3. 1-dən 10-a qədər olan ədədləri yoxlayin\n",
    "# Cüt ədədlərin kvadratını veren yeni bir siyahı yaradin.\n",
    "# Tək ədədlərin kubunu veren yeni bir siyahı yaradin.(List comprehension)"
   ]
  },
  {
   "cell_type": "code",
   "execution_count": 86,
   "id": "7089c83b-3a18-44d5-8eff-affacdae8107",
   "metadata": {},
   "outputs": [
    {
     "name": "stdout",
     "output_type": "stream",
     "text": [
      "[2, 4, 6, 8, 10]\n",
      "[1, 3, 5, 7, 9]\n"
     ]
    }
   ],
   "source": [
    "LIST = [1, 2, 3, 4, 5, 6, 7, 8, 9, 10]\n",
    "EVEN = [i for i in LIST if i % 2 == 0]\n",
    "print(EVEN)\n",
    "ODD = [i for i in LIST if i % 2 == 1]\n",
    "print(ODD)"
   ]
  },
  {
   "cell_type": "code",
   "execution_count": 87,
   "id": "369ea986-3d26-485d-9dfa-93d2c76cf5c4",
   "metadata": {},
   "outputs": [],
   "source": [
    "# 4. List comprehension istifadə edrərək 1-dən 100-ə qədər olan ədədlər içində\n",
    "# həm 3-ə, həm də 5-ə tam bölünən ədədlərdən ibarət siyahı yaradin."
   ]
  },
  {
   "cell_type": "code",
   "execution_count": 122,
   "id": "69c2cb95-af67-42b1-9669-7628a04476e5",
   "metadata": {},
   "outputs": [
    {
     "name": "stdout",
     "output_type": "stream",
     "text": [
      "[15, 30, 45, 60, 75, 90]\n"
     ]
    }
   ],
   "source": [
    "DIV3 = [x for x in range(1, 101) if x % 15 == 0] \n",
    "print(DIV3)"
   ]
  },
  {
   "cell_type": "code",
   "execution_count": 89,
   "id": "4c13a625-2f21-4983-af9f-88983f16f81e",
   "metadata": {},
   "outputs": [],
   "source": [
    "# 5.Verilən siyahıdakı sözlərdən yalnız uzunluğu 5-dən böyük olanları yeni siyahıya əlavə et.\n",
    "# words = [\"data\", \"science\", \"visualization\", \"AI\", \"ML\", \"Python\"]"
   ]
  },
  {
   "cell_type": "code",
   "execution_count": 90,
   "id": "392288da-5d54-4cea-8043-7bbbd3fa36fb",
   "metadata": {},
   "outputs": [
    {
     "name": "stdout",
     "output_type": "stream",
     "text": [
      "['science', 'visualization', 'Python']\n"
     ]
    }
   ],
   "source": [
    "words = [\"data\", \"science\", \"visualization\", \"AI\", \"ML\", \"Python\"]\n",
    "LEN5 = [i for i in words if len(i) > 5]\n",
    "print(LEN5)"
   ]
  },
  {
   "cell_type": "code",
   "execution_count": 91,
   "id": "cb4bc524-d282-4b13-af62-1c86dde883ed",
   "metadata": {},
   "outputs": [],
   "source": [
    "# 6. \"Salam, mən Data Scientistəm\" cümləsindəki hərfləri yoxlayın:\n",
    "# Əgər hərf saitdirsə, \"Saitdir\" mesajını çap edin.\n",
    "# Əgər hərf samitdirsə, \"Samitdir\" mesajını çap edin.\n",
    "\n",
    "### Kömək üçün qeyd: Sadəcə hərfləri yoxlamaq üçün isalpha() funksiyası istifadə ediləcək.\n",
    "### isalpha() funksiyası böyük-kiçik hərflərə sensitive-dir."
   ]
  },
  {
   "cell_type": "code",
   "execution_count": 92,
   "id": "c0006e5e-d1fd-4d39-8ea1-81f30f2a4fac",
   "metadata": {},
   "outputs": [
    {
     "name": "stdout",
     "output_type": "stream",
     "text": [
      "S Samitdir\n",
      "a Saitdir\n",
      "l Samitdir\n",
      "a Saitdir\n",
      "m Samitdir\n",
      ", Samitdir\n",
      "  Saitdir\n",
      "m Samitdir\n",
      "ə Samitdir\n",
      "n Saitdir\n",
      "  Samitdir\n",
      "D Saitdir\n",
      "a Samitdir\n",
      "t Samitdir\n",
      "a Saitdir\n",
      "  Saitdir\n",
      "S Samitdir\n",
      "c Samitdir\n",
      "i Saitdir\n",
      "e Samitdir\n",
      "n Samitdir\n",
      "t Saitdir\n",
      "i Samitdir\n"
     ]
    }
   ],
   "source": [
    "cumle = \"Salam, mən Data Scientistəm\"\n",
    "saitler = \"aeiouəıöüAEIOUƏIÖÜ\"\n",
    "\n",
    "result = [(\"Saitdir\" if h in saitler else \"Samitdir\") for h in cumle if h.isalpha()]\n",
    "for i in range(len(cumle) - 4):\n",
    "    print(cumle[i], result[i])"
   ]
  },
  {
   "cell_type": "code",
   "execution_count": 93,
   "id": "c44bb9c6-9196-47c0-b00e-e6b4317c1a2b",
   "metadata": {},
   "outputs": [],
   "source": [
    "# 7. 1-dən 5-ə qədər olan rəqəmlərin kvadratlarını çap edin.\n",
    "# Nümunə cavab:\n",
    "# 1 kvadratı = 1\n",
    "# 2 kvadratı = 4"
   ]
  },
  {
   "cell_type": "code",
   "execution_count": 94,
   "id": "2a3bec52-6da1-4508-b6b9-1eaea29190a7",
   "metadata": {},
   "outputs": [
    {
     "name": "stdout",
     "output_type": "stream",
     "text": [
      "1 kvadratı 1\n",
      "2 kvadratı 4\n",
      "3 kvadratı 9\n",
      "4 kvadratı 16\n",
      "5 kvadratı 25\n"
     ]
    }
   ],
   "source": [
    "LIST = [1, 2, 3, 4, 5]\n",
    "X = [i * i for i in LIST]\n",
    "for j in range(len(LIST)):\n",
    "    print(LIST[j], \"kvadratı\", X[j])"
   ]
  },
  {
   "cell_type": "code",
   "execution_count": 95,
   "id": "2b4df838-4165-4169-b976-862865e39ff8",
   "metadata": {},
   "outputs": [],
   "source": [
    "# 8. 1-dən 15-ə qədər olan rəqəmləri yoxlayın:\n",
    "# Əgər rəqəm 3-ə bölünürsə, \"3-ə bölünən\" mesajını çap edin.\n",
    "# Əgər rəqəm 5-ə bölünürsə, \"5-ə bölünən\" mesajını çap edin.\n",
    "# Əgər rəqəm hər ikisinə bölünürsə, \"3-ə və 5-ə bölünən\" mesajını çap edin."
   ]
  },
  {
   "cell_type": "code",
   "execution_count": 96,
   "id": "3c9eb63d-f3c5-4741-b90d-b0a1154891d7",
   "metadata": {},
   "outputs": [
    {
     "name": "stdout",
     "output_type": "stream",
     "text": [
      "3 3-ə bölünəndi\n",
      "6 3-ə bölünəndi\n",
      "9 3-ə bölünəndi\n",
      "12 3-ə bölünəndi\n",
      "15 3-ə bölünəndi\n",
      "---------------------\n",
      "5 5-ə bölünəndi\n",
      "10 5-ə bölünəndi\n",
      "15 5-ə bölünəndi\n",
      "---------------------\n",
      "15 3-ə və 5-ə bölünəndi\n"
     ]
    }
   ],
   "source": [
    "LIST = [1, 2, 3, 4, 5, 6, 7, 8, 9, 10, 11, 12, 13, 14, 15]\n",
    "BOL3 = [i for i in LIST if i % 3 == 0]\n",
    "for i in BOL3:\n",
    "    print(i, \"3-ə bölünəndi\")\n",
    "BOL5 = [i for i in LIST if i % 5 == 0]\n",
    "print(\"---------------------\")\n",
    "for i in BOL5:\n",
    "    print(i, \"5-ə bölünəndi\")\n",
    "BOL15 = [i for i in LIST if i % 15 == 0]\n",
    "print(\"---------------------\")\n",
    "for i in BOL15:\n",
    "    print(i, \"3-ə və 5-ə bölünəndi\")"
   ]
  },
  {
   "cell_type": "code",
   "execution_count": 97,
   "id": "b6e24ccb-89aa-4e07-a4d6-1475727d58b3",
   "metadata": {},
   "outputs": [],
   "source": [
    "# 9. List comprehension istifadə edrərək 1-dən 100-ə qədər olan bütün cüt rəqəmləri toplayın və nəticəni çap edin."
   ]
  },
  {
   "cell_type": "code",
   "execution_count": 98,
   "id": "4ec1160a-5045-400e-bb2f-3e5173b565c2",
   "metadata": {},
   "outputs": [
    {
     "name": "stdout",
     "output_type": "stream",
     "text": [
      "2450\n"
     ]
    }
   ],
   "source": [
    "LIST = []\n",
    "for i in range(100):\n",
    "    LIST.append(i)\n",
    "A = [i for i in LIST if i % 2 == 0]\n",
    "COUNT = 0\n",
    "for i in A:\n",
    "    COUNT += i\n",
    "print(COUNT)"
   ]
  },
  {
   "cell_type": "code",
   "execution_count": 99,
   "id": "d65ebadc-930a-456a-82be-10deb31af1ac",
   "metadata": {},
   "outputs": [],
   "source": [
    "# 10. List comprehension istifadə edrərək yalnız palindrom sözlərdən ibarət palindromes adlı siyahı yaradin.\n",
    "# words = ['level', 'banana', 'madam', 'apple', 'civic', 'hello', 'noon', 'world', 'radar', 'python']"
   ]
  },
  {
   "cell_type": "code",
   "execution_count": 100,
   "id": "da937488-eebb-4312-a27d-2efa505f6277",
   "metadata": {},
   "outputs": [
    {
     "name": "stdout",
     "output_type": "stream",
     "text": [
      "['level', 'madam', 'civic', 'noon', 'radar']\n"
     ]
    }
   ],
   "source": [
    "words = ['level', 'banana', 'madam', 'apple', 'civic', 'hello', 'noon', 'world', 'radar', 'python']\n",
    "POLINDROME = [i for i in words if i == i[::-1]]\n",
    "print(POLINDROME)"
   ]
  },
  {
   "cell_type": "code",
   "execution_count": 101,
   "id": "60285b44-b9b2-438a-ba06-c3a3a32acdc3",
   "metadata": {},
   "outputs": [],
   "source": [
    "# 11.İki list yaradın və hər iki listdə olan ortaq elementləri tapın.\n",
    "# list1 = [1, 2, 3, 4, 5] və list2 = [3, 4, 5, 6, 7]"
   ]
  },
  {
   "cell_type": "code",
   "execution_count": 127,
   "id": "0db4a53f-e7b9-4e54-baa5-7a88280ebe48",
   "metadata": {},
   "outputs": [
    {
     "name": "stdout",
     "output_type": "stream",
     "text": [
      "3\n",
      "4\n",
      "5\n"
     ]
    }
   ],
   "source": [
    "list1 = [1, 2, 3, 4, 5]\n",
    "list2 = [3, 4, 5, 6, 7]\n",
    "for i in list1:\n",
    "    if i in list2:\n",
    "        print(i)"
   ]
  },
  {
   "cell_type": "code",
   "execution_count": 128,
   "id": "953b7ba1-64f6-4abb-ace6-1d4e78e5a914",
   "metadata": {},
   "outputs": [],
   "source": [
    "# 12.\"Data Science\" sözünün hərflərini tərsinə çevirin və hər bir hərfi ayrıca çap edin."
   ]
  },
  {
   "cell_type": "code",
   "execution_count": 129,
   "id": "038c25db-4371-485d-9ce6-53f84296eea3",
   "metadata": {},
   "outputs": [
    {
     "name": "stdout",
     "output_type": "stream",
     "text": [
      "e\n",
      "c\n",
      "n\n",
      "e\n",
      "i\n",
      "c\n",
      "S\n",
      " \n",
      "a\n",
      "t\n",
      "a\n",
      "D\n"
     ]
    }
   ],
   "source": [
    "DATA = \"Data Science\"\n",
    "REV_DATA = [i for i in DATA[::-1]]\n",
    "for x in REV_DATA:\n",
    "    print(x)"
   ]
  },
  {
   "cell_type": "code",
   "execution_count": 105,
   "id": "33fc3a2a-ad9e-48f8-974b-4e47a2d47e46",
   "metadata": {},
   "outputs": [],
   "source": [
    "# 13.3x3 ölçüsündə bir matrix yaradın. matrix_1 = [[3, 6, 2], [7, 1, 8], [4, 5, 9]]\n",
    "# Hər elementin 5-dən böyük olub olmadığını yoxlayın.\n",
    "# Əgər böyükdürsə, \"Böyükdür\", əks halda \"Kiçikdir\" mesajını verin."
   ]
  },
  {
   "cell_type": "code",
   "execution_count": 120,
   "id": "7eddf7a6-62f0-4f70-9425-9fb07f969458",
   "metadata": {},
   "outputs": [
    {
     "name": "stdout",
     "output_type": "stream",
     "text": [
      "['Kiçikdir', 'Böyükdür', 'Kiçikdir']\n",
      "['Böyükdür', 'Kiçikdir', 'Böyükdür']\n",
      "['Kiçikdir', 'Kiçikdir', 'Böyükdür']\n"
     ]
    }
   ],
   "source": [
    "matrix_1 = [[3, 6, 2], [7, 1, 8], [4, 5, 9]]\n",
    "result = [[\"Böyükdür\" if element > 5 else \"Kiçikdir\" for element in row] for row in matrix_1]\n",
    "for row in result:\n",
    "    print(row)"
   ]
  },
  {
   "cell_type": "code",
   "execution_count": 107,
   "id": "d9af7016-2093-4734-92d3-b694fe3bc33f",
   "metadata": {},
   "outputs": [],
   "source": [
    "# 14. Verilmiş cümlədəki hərflərin sayını tapın (boşluqları saymadan).\n",
    "# sentence = \"The best way to predict your future is to create it\""
   ]
  },
  {
   "cell_type": "code",
   "execution_count": 108,
   "id": "1f9a4c21-59be-43c7-b07f-9a853e75f6ee",
   "metadata": {},
   "outputs": [
    {
     "name": "stdout",
     "output_type": "stream",
     "text": [
      "41\n"
     ]
    }
   ],
   "source": [
    "sentence = \"The best way to predict your future is to create it\"\n",
    "COUNT = 0\n",
    "A = [i for i in sentence if i.isalpha() == True]\n",
    "print(len(A))"
   ]
  },
  {
   "cell_type": "code",
   "execution_count": 109,
   "id": "de80c641-257c-4ea0-b5e4-d75bf6f94fc3",
   "metadata": {},
   "outputs": [],
   "source": [
    "# 15. Verilmiş siyahıda təkrarlanan sözləri sil və yalnız unikal olanlardan ibarət siyahı qaytar.\n",
    "# words = ['apple', 'banana', 'apple', 'orange', 'banana', 'grape', 'melon', 'grape']"
   ]
  },
  {
   "cell_type": "code",
   "execution_count": 110,
   "id": "912d97bf-d541-4b31-89a2-2a7225838f43",
   "metadata": {},
   "outputs": [
    {
     "name": "stdout",
     "output_type": "stream",
     "text": [
      "['apple', 'banana', 'orange', 'grape', 'melon']\n"
     ]
    }
   ],
   "source": [
    "words = ['apple', 'banana', 'apple', 'orange', 'banana', 'grape', 'melon', 'grape']\n",
    "unique = [words1[i] for i in range(len(words)) if words[i] not in words[:i]]\n",
    "print(unique)"
   ]
  },
  {
   "cell_type": "code",
   "execution_count": 111,
   "id": "4cd273d1-c5e8-42c1-8c08-ef987d66e10c",
   "metadata": {},
   "outputs": [],
   "source": [
    "# 16.Verilən bir rəqəmin faktoriyalını tapmaq üçün bir proqram yazın.\n",
    "# Məsələn, 5 üçün faktoriyal: 5! = 5 * 4 * 3 * 2 * 1 = 120."
   ]
  },
  {
   "cell_type": "code",
   "execution_count": 131,
   "id": "1786ac81-f67a-417c-8647-b67d845eab70",
   "metadata": {},
   "outputs": [
    {
     "name": "stdin",
     "output_type": "stream",
     "text": [
      "Enter your number:  5\n"
     ]
    },
    {
     "name": "stdout",
     "output_type": "stream",
     "text": [
      "120\n"
     ]
    }
   ],
   "source": [
    "NUM = int(input(\"Enter your number: \")) \n",
    "X = [i for i in range(1, NUM + 1)]\n",
    "COUNT = 1\n",
    "for x in X:\n",
    "    COUNT *= x\n",
    "print(COUNT)"
   ]
  },
  {
   "cell_type": "code",
   "execution_count": null,
   "id": "7a36262e-7a69-464b-bade-a09946273e6a",
   "metadata": {},
   "outputs": [],
   "source": []
  }
 ],
 "metadata": {
  "kernelspec": {
   "display_name": "Python [conda env:base] *",
   "language": "python",
   "name": "conda-base-py"
  },
  "language_info": {
   "codemirror_mode": {
    "name": "ipython",
    "version": 3
   },
   "file_extension": ".py",
   "mimetype": "text/x-python",
   "name": "python",
   "nbconvert_exporter": "python",
   "pygments_lexer": "ipython3",
   "version": "3.12.7"
  }
 },
 "nbformat": 4,
 "nbformat_minor": 5
}
