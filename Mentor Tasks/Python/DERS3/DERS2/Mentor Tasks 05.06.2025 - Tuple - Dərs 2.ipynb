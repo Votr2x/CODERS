{
 "cells": [
  {
   "cell_type": "code",
   "execution_count": 21,
   "id": "bf5d04a0-8d26-400d-b1d5-7cf49afdd40b",
   "metadata": {},
   "outputs": [],
   "source": [
    "# 1. t1 = (\"alma\", \"armud\", \"heyva\") tuple-ını yaradın.\n",
    "# Tuple-ı üç dəyişən x, y və z-yə ayırın.\n",
    "# x, y və z dəyişənlərinin dəyərlərini çap edin."
   ]
  },
  {
   "cell_type": "code",
   "execution_count": 1,
   "id": "93d232f5-4236-4261-a8e7-f76a00d5d0f3",
   "metadata": {},
   "outputs": [
    {
     "name": "stdout",
     "output_type": "stream",
     "text": [
      "alma armud heyva\n"
     ]
    }
   ],
   "source": [
    "T1 = (\"alma\", \"armud\", \"heyva\")\n",
    "x, y, z = T1\n",
    "print(x, y, z)"
   ]
  },
  {
   "cell_type": "code",
   "execution_count": 23,
   "id": "29854f68-6e74-484a-9008-46aaf1b68594",
   "metadata": {},
   "outputs": [],
   "source": [
    "# 2. Sonra t2 = (\"limon\", \"mandarin\") tuple-ını yaradın və əvvəl yaratdığınız tuple ilə\n",
    "# birləşdirin."
   ]
  },
  {
   "cell_type": "code",
   "execution_count": 5,
   "id": "f453d4be-85a9-44cd-8889-ad2fc9fe06d1",
   "metadata": {},
   "outputs": [
    {
     "data": {
      "text/plain": [
       "('alma', 'armud', 'heyva', 'limon', 'mandarin')"
      ]
     },
     "execution_count": 5,
     "metadata": {},
     "output_type": "execute_result"
    }
   ],
   "source": [
    "T2 = (\"limon\", \"mandarin\")\n",
    "T3 = T1 + T2\n",
    "T3"
   ]
  },
  {
   "cell_type": "code",
   "execution_count": null,
   "id": "8a5a3aa2-7430-4b0f-bd28-7417b106f808",
   "metadata": {},
   "outputs": [],
   "source": [
    "# 3. Daha sonra birləşdirilmiş tuple-ın içində \"banan\" və \"limon\" elementlərinin olub-olmadığını\n",
    "# yoxlayın."
   ]
  },
  {
   "cell_type": "code",
   "execution_count": 7,
   "id": "8f9bfb54-9b71-46ae-9db1-ac46d4091c37",
   "metadata": {},
   "outputs": [
    {
     "name": "stdout",
     "output_type": "stream",
     "text": [
      "limon is in ('alma', 'armud', 'heyva', 'limon', 'mandarin')\n"
     ]
    }
   ],
   "source": [
    "if \"banan\" in T3:\n",
    "    print(\"banan is in\", T3)\n",
    "if \"limon\" in T3:\n",
    "    print(\"limon is in\", T3)"
   ]
  },
  {
   "cell_type": "code",
   "execution_count": null,
   "id": "2e788cc0-4be7-438e-b92d-2e28510175e9",
   "metadata": {},
   "outputs": [],
   "source": [
    "# 4. İndi isə son əldə etdiyimiz tuple-da əgər mümkündürsə, \"armud\" elementini \"limon\" ilə\n",
    "# əvəz etmıəyə çalışın. Mümkün olmadığı təqdirdə, listin köməyi ilə elementləri əvəz edib\n",
    "# listi yenidən tuple-a çevirin və çap edin."
   ]
  },
  {
   "cell_type": "code",
   "execution_count": 15,
   "id": "6cff04f8-e5eb-46a5-827c-821e3766d86e",
   "metadata": {},
   "outputs": [
    {
     "name": "stdout",
     "output_type": "stream",
     "text": [
      "('alma', 'limon', 'heyva', 'limon', 'mandarin')\n"
     ]
    }
   ],
   "source": [
    "T4 = list(T3)\n",
    "T4[1] = \"limon\"\n",
    "T5 = tuple(T4)\n",
    "print(T5)"
   ]
  },
  {
   "cell_type": "code",
   "execution_count": 14,
   "id": "3e9c8576-94fd-4374-ba2c-8293dd33aeb7",
   "metadata": {},
   "outputs": [],
   "source": [
    "# 5. Əldə etdiyimiz tuple-da \"limon\" sözünün neçə dəfə təkrarlandığını tapın və çap edin."
   ]
  },
  {
   "cell_type": "code",
   "execution_count": 18,
   "id": "35a5ad26-0acc-489f-bc61-0da3d51a3c50",
   "metadata": {},
   "outputs": [
    {
     "name": "stdout",
     "output_type": "stream",
     "text": [
      "2\n"
     ]
    }
   ],
   "source": [
    "COUNT = 0\n",
    "for i in T5:\n",
    "    if i == \"limon\":\n",
    "        COUNT += 1\n",
    "print(COUNT)"
   ]
  },
  {
   "cell_type": "code",
   "execution_count": 8,
   "id": "93be40ae-8cd4-4c67-ad05-d82a7e365f5f",
   "metadata": {},
   "outputs": [],
   "source": [
    "# 6. Daha sonra isə \"limon\" elementlərinin hər birinin indeksini tapın."
   ]
  },
  {
   "cell_type": "code",
   "execution_count": 20,
   "id": "209036fe-284e-4ed9-92e4-17b10829f0a3",
   "metadata": {},
   "outputs": [
    {
     "name": "stdout",
     "output_type": "stream",
     "text": [
      "[1, 3]\n"
     ]
    }
   ],
   "source": [
    "INDEX = []\n",
    "for i in range(len(T5)):\n",
    "    if T5[i] == \"limon\":\n",
    "        INDEX.append(i)\n",
    "print(INDEX)"
   ]
  },
  {
   "cell_type": "code",
   "execution_count": null,
   "id": "e08cc86d-077f-42a7-9891-fae1fdb8b206",
   "metadata": {},
   "outputs": [],
   "source": [
    "# 7. Bu tuple-dan təsadüfi olaraq üç element seçin, yeni dəyişənə təyin edin və çap edin."
   ]
  },
  {
   "cell_type": "code",
   "execution_count": 38,
   "id": "eef83f27-ed30-4aaa-850b-c6db648195f5",
   "metadata": {},
   "outputs": [
    {
     "data": {
      "text/plain": [
       "['mandarin', 'limon', 'alma']"
      ]
     },
     "execution_count": 38,
     "metadata": {},
     "output_type": "execute_result"
    }
   ],
   "source": [
    "import random\n",
    "T7 = random.choices(T5, k = 3)\n",
    "T7"
   ]
  },
  {
   "cell_type": "code",
   "execution_count": 39,
   "id": "a1f1211f-a529-4cd1-958b-93b80af2e004",
   "metadata": {},
   "outputs": [],
   "source": [
    "# 8. Əldə etdiyiniz random tuple-ı tərsinə çevirin."
   ]
  },
  {
   "cell_type": "code",
   "execution_count": 40,
   "id": "b2072e16-8e21-4378-98c1-1efcf401832d",
   "metadata": {},
   "outputs": [
    {
     "name": "stdout",
     "output_type": "stream",
     "text": [
      "('alma', 'limon', 'mandarin')\n"
     ]
    }
   ],
   "source": [
    "T8 = tuple(list(T7)[::-1])\n",
    "print(T8)"
   ]
  },
  {
   "cell_type": "code",
   "execution_count": null,
   "id": "3d8ff823-592b-40d5-9709-59ab44bd44e8",
   "metadata": {},
   "outputs": [],
   "source": []
  }
 ],
 "metadata": {
  "kernelspec": {
   "display_name": "Python [conda env:base] *",
   "language": "python",
   "name": "conda-base-py"
  },
  "language_info": {
   "codemirror_mode": {
    "name": "ipython",
    "version": 3
   },
   "file_extension": ".py",
   "mimetype": "text/x-python",
   "name": "python",
   "nbconvert_exporter": "python",
   "pygments_lexer": "ipython3",
   "version": "3.12.7"
  }
 },
 "nbformat": 4,
 "nbformat_minor": 5
}
