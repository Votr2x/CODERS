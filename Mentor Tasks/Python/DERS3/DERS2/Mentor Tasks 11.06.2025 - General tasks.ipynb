{
 "cells": [
  {
   "cell_type": "code",
   "execution_count": 42,
   "id": "868302cb-0a92-4c48-bd3d-c332c2fa4947",
   "metadata": {},
   "outputs": [],
   "source": [
    "# 1. Verilmiş listdəki bütün ədədlərin kvadratlarını yeni list şəklində çıxar.(list comprehension)\n",
    "# numbers = [1, 2, 3, 4, 5]\n",
    "# Nəticə: [1, 4, 9, 16, 25]"
   ]
  },
  {
   "cell_type": "code",
   "execution_count": 43,
   "id": "0892e226-caee-4ea0-8d31-94fc33eeda2f",
   "metadata": {},
   "outputs": [
    {
     "name": "stdout",
     "output_type": "stream",
     "text": [
      "[1, 4, 9, 16, 25]\n"
     ]
    }
   ],
   "source": [
    "numbers = [1, 2, 3, 4, 5]\n",
    "Result = list(i * i for i in numbers)\n",
    "print(Result)"
   ]
  },
  {
   "cell_type": "code",
   "execution_count": 44,
   "id": "d2c51ea6-c186-49d4-af92-8c7d4344c344",
   "metadata": {},
   "outputs": [],
   "source": [
    "# 2. Listdəki təkrarlanan elementləri sil və unikal elementlər siyahısı yarat.\n",
    "# data = [1, 2, 2, 3, 4, 4, 5]\n",
    "# Nəticə: [1, 2, 3, 4, 5]"
   ]
  },
  {
   "cell_type": "code",
   "execution_count": 45,
   "id": "d8325ef1-fff4-457b-bf20-89f882b77139",
   "metadata": {},
   "outputs": [
    {
     "name": "stdout",
     "output_type": "stream",
     "text": [
      "[1, 2, 3, 4, 5]\n"
     ]
    }
   ],
   "source": [
    "data = [1, 2, 2, 3, 4, 4, 5]\n",
    "result = []\n",
    "for i in data:\n",
    "    if i not in result:\n",
    "        result.append(i)\n",
    "print(result)"
   ]
  },
  {
   "cell_type": "code",
   "execution_count": 46,
   "id": "3435b8a1-6331-4fd4-ae0c-ec583f22c557",
   "metadata": {},
   "outputs": [],
   "source": [
    "# 3. Verilmiş 2 listi birləşdir və artan sıra ilə sırala.\n",
    "# a = [5, 1, 3]\n",
    "# b = [4, 2, 6]\n",
    "# Nəticə: [1, 2, 3, 4, 5, 6]"
   ]
  },
  {
   "cell_type": "code",
   "execution_count": 47,
   "id": "bb291eb5-a022-44de-9cd2-bb0456006877",
   "metadata": {},
   "outputs": [
    {
     "name": "stdout",
     "output_type": "stream",
     "text": [
      "[1, 2, 3, 4, 5, 6]\n"
     ]
    }
   ],
   "source": [
    "a = [5, 1, 3]\n",
    "b = [4, 2, 6]\n",
    "c = a + b\n",
    "c.sort()\n",
    "print(c)"
   ]
  },
  {
   "cell_type": "code",
   "execution_count": 48,
   "id": "c47f6ede-cd68-4a56-b0da-facd822979b6",
   "metadata": {},
   "outputs": [],
   "source": [
    "# 4. Tuple daxilindəki ən böyük və ən kiçik elementi tap.\n",
    "# nums = (3, 1, 5, 7, 2)\n",
    "# Output: Max=7, Min=1"
   ]
  },
  {
   "cell_type": "code",
   "execution_count": 49,
   "id": "fae00ed7-30ea-4b62-a432-aa9bfb98b8fc",
   "metadata": {},
   "outputs": [
    {
     "name": "stdout",
     "output_type": "stream",
     "text": [
      "Biggest value is 7\n",
      "Smallest value is 1\n"
     ]
    }
   ],
   "source": [
    "nums = (3, 1, 5, 7, 2)\n",
    "MAX = nums[0]\n",
    "MIN = nums[0]\n",
    "for i in nums:\n",
    "    if i < MIN:\n",
    "        MIN = i\n",
    "    elif i > MAX:\n",
    "        MAX = i\n",
    "print(\"Biggest value is\", MAX)\n",
    "print(\"Smallest value is\", MIN)"
   ]
  },
  {
   "cell_type": "code",
   "execution_count": 50,
   "id": "0dc32677-5fe2-4721-bb05-9ad1c1e6bf15",
   "metadata": {},
   "outputs": [],
   "source": [
    "# 5. Tuple-da təkrarlanan elementləri say.\n",
    "# t = (5, 1, 5, 3, 5, 7)\n",
    "# Nəticə: 3"
   ]
  },
  {
   "cell_type": "code",
   "execution_count": 62,
   "id": "7ff5f057-8a46-4362-99c1-bf31dc2a9eca",
   "metadata": {},
   "outputs": [
    {
     "name": "stdout",
     "output_type": "stream",
     "text": [
      "3\n"
     ]
    }
   ],
   "source": [
    "t = (5, 1, 5, 3, 5, 7)\n",
    "COUNT = [t[0]]\n",
    "for i in t:\n",
    "    if i in COUNT:\n",
    "        COUNT.append(i)\n",
    "\n",
    "COUNT.pop(-1)\n",
    "print(len(COUNT))"
   ]
  },
  {
   "cell_type": "code",
   "execution_count": 66,
   "id": "7f55fa9c-ec9f-450f-aa8a-e2a0b82c71b2",
   "metadata": {},
   "outputs": [
    {
     "name": "stdout",
     "output_type": "stream",
     "text": [
      "Most common is: 5\n",
      "Number of most common number: 3\n"
     ]
    }
   ],
   "source": [
    "from collections import Counter\n",
    "\n",
    "t = (5, 1, 5, 3, 5, 7)\n",
    "counter = Counter(t)\n",
    "most_common = counter.most_common(1)[0]\n",
    "print(\"Most common is:\", most_common[0])\n",
    "print(\"Number of most common number:\", most_common[1])"
   ]
  },
  {
   "cell_type": "code",
   "execution_count": 52,
   "id": "8442c708-b546-4361-aa01-efe914b5d4e2",
   "metadata": {},
   "outputs": [],
   "source": [
    "# 6. Tuple-dəki ədədlərin cəmini hesabla.\n",
    "# nums = (2, 4, 6, 8)\n",
    "# Nəticə: 20"
   ]
  },
  {
   "cell_type": "code",
   "execution_count": 53,
   "id": "3bc2680f-9e00-4528-aca9-362e24909ee2",
   "metadata": {},
   "outputs": [
    {
     "name": "stdout",
     "output_type": "stream",
     "text": [
      "20\n"
     ]
    }
   ],
   "source": [
    "nums = (2, 4, 6, 8)\n",
    "COUNT = 0\n",
    "for i in nums:\n",
    "    COUNT += i\n",
    "print(COUNT)"
   ]
  },
  {
   "cell_type": "code",
   "execution_count": 54,
   "id": "6ea31bcf-fc68-4bc1-b9ce-3c0fb096711c",
   "metadata": {},
   "outputs": [],
   "source": [
    "# 7. Aşağıdakı list of tuple verilmişdir. Hər bir tuple-dan yalnız adları list şəklində çıxar.\n",
    "# data = [(\"Lamia\", 23), (\"Aysel\", 21), (\"Murad\", 25)]\n",
    "# Nəticə: [\"Lamia\", \"Aysel\", \"Murad\"]"
   ]
  },
  {
   "cell_type": "code",
   "execution_count": 55,
   "id": "d8a8a363-d591-4898-ad8f-234b68fd20fe",
   "metadata": {},
   "outputs": [
    {
     "name": "stdout",
     "output_type": "stream",
     "text": [
      "['Lamia', 'Aysel', 'Murad']\n"
     ]
    }
   ],
   "source": [
    "data = [(\"Lamia\", 23), (\"Aysel\", 21), (\"Murad\", 25)]\n",
    "NAME = []\n",
    "for i in data:\n",
    "    NAME.append(i[0])\n",
    "print(NAME)"
   ]
  },
  {
   "cell_type": "code",
   "execution_count": 56,
   "id": "30ae5f44-0e1a-4b27-a5fc-91a005b8c063",
   "metadata": {},
   "outputs": [],
   "source": [
    "# 8. Task 3.2: Tuple-ların daxilindəki ədədlərin ortalamasını çıxar.\n",
    "# marks = [(80, 90), (75, 85), (90, 95)]\n",
    "# Nəticə: [85.0, 80.0, 92.5]"
   ]
  },
  {
   "cell_type": "code",
   "execution_count": 57,
   "id": "403d339e-2f70-415b-aa05-ca6cdc6011cd",
   "metadata": {},
   "outputs": [
    {
     "name": "stdout",
     "output_type": "stream",
     "text": [
      "[85.0, 80.0, 92.5]\n"
     ]
    }
   ],
   "source": [
    "marks = [(80, 90), (75, 85), (90, 95)]\n",
    "SR = []\n",
    "for i in marks:\n",
    "    SR.append((i[0] + i [1])/2)\n",
    "print(SR)"
   ]
  },
  {
   "cell_type": "code",
   "execution_count": 58,
   "id": "db497b5e-8630-4656-82f9-92b3be004326",
   "metadata": {},
   "outputs": [],
   "source": [
    "# 9. Aşağıdakı tuple içindəki list-lərə yeni bir element əlavə et.\n",
    "# data = ([\"apple\", \"banana\"], [\"carrot\", \"potato\"])\n",
    "# \"grape\" və \"tomato\" əlavə et\n",
    "# Nəticə: ([\"apple\", \"banana\", \"grape\"], [\"carrot\", \"potato\", \"tomato\"])"
   ]
  },
  {
   "cell_type": "code",
   "execution_count": 59,
   "id": "e49efdb7-8202-4408-805d-c28ea2b0d2d5",
   "metadata": {},
   "outputs": [
    {
     "name": "stdout",
     "output_type": "stream",
     "text": [
      "(['apple', 'banana', 'grape'], ['carrot', 'potato', 'tomato'])\n"
     ]
    }
   ],
   "source": [
    "data = ([\"apple\", \"banana\"], [\"carrot\", \"potato\"])\n",
    "data[0].append(\"grape\")\n",
    "data[1].append(\"tomato\")\n",
    "print(data)"
   ]
  },
  {
   "cell_type": "code",
   "execution_count": 60,
   "id": "96956348-f123-4de6-a848-821c0d44ba01",
   "metadata": {},
   "outputs": [],
   "source": [
    "# 10. Hər tələbənin imtahan nəticələri verilmişdir (ad, [qiymətlər]). Hər tələbə üçün orta balı hesabla.\n",
    "# students = [(\"Lamia\", [90, 95, 88]), (\"Murad\", [70, 80, 75])]\n",
    "# Nəticə: {\"Lamia\": 91.0, \"Murad\": 75.0}"
   ]
  },
  {
   "cell_type": "code",
   "execution_count": 61,
   "id": "68ac64ef-2ee1-4b28-9852-a574af15e7a0",
   "metadata": {},
   "outputs": [
    {
     "name": "stdout",
     "output_type": "stream",
     "text": [
      "Lamia : 91.0\n",
      "Murad : 75.0\n"
     ]
    }
   ],
   "source": [
    "students = [(\"Lamia\", [90, 95, 88]), (\"Murad\", [70, 80, 75])]\n",
    "result = []\n",
    "for i in students:\n",
    "    for x in i:\n",
    "        if i[0] != x:\n",
    "            a = (x[0] + x[1] + x[2])/3\n",
    "            print(i[0], \":\", a) "
   ]
  }
 ],
 "metadata": {
  "kernelspec": {
   "display_name": "Python [conda env:base] *",
   "language": "python",
   "name": "conda-base-py"
  },
  "language_info": {
   "codemirror_mode": {
    "name": "ipython",
    "version": 3
   },
   "file_extension": ".py",
   "mimetype": "text/x-python",
   "name": "python",
   "nbconvert_exporter": "python",
   "pygments_lexer": "ipython3",
   "version": "3.12.7"
  }
 },
 "nbformat": 4,
 "nbformat_minor": 5
}
