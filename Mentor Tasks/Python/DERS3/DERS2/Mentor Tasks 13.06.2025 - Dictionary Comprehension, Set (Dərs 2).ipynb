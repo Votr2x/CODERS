{
 "cells": [
  {
   "cell_type": "code",
   "execution_count": 1,
   "id": "eeb0d4c8-3a37-431b-bfc1-22d96cf677a8",
   "metadata": {},
   "outputs": [],
   "source": [
    "# 1. grades = {\"Tofiq\": 82, \"Arzu\": 92, \"Sara\": 95, \"Rafiq\": 88, \"İlahə\": 83} dictionary-sini yaradın.\n",
    "# Yalnız qiyməti 85-dən yüksək olan tələbələri saxlayın və\n",
    "# onların qiymətlərini 5 bal artıran yeni bir dictionary yaradın."
   ]
  },
  {
   "cell_type": "code",
   "execution_count": 7,
   "id": "37945694-e130-44bf-a2c3-b1aa44604560",
   "metadata": {},
   "outputs": [
    {
     "name": "stdout",
     "output_type": "stream",
     "text": [
      "{'Arzu': 92, 'Sara': 95, 'Rafiq': 88}\n",
      "{'Arzu': 97, 'Sara': 100, 'Rafiq': 93}\n"
     ]
    }
   ],
   "source": [
    "grades = {\"Tofiq\": 82, \"Arzu\": 92, \"Sara\": 95, \"Rafiq\": 88, \"İlahə\": 83}\n",
    "x = {key:value for key,value in grades.items() if value > 85}\n",
    "print(x)\n",
    "y = {key:(v + 5) for key, v in x.items()}\n",
    "print(y)"
   ]
  },
  {
   "cell_type": "code",
   "execution_count": 5,
   "id": "471bd203-af8f-401a-aad0-0b2356c6df52",
   "metadata": {},
   "outputs": [],
   "source": [
    "# 2. cumle = \"Salam mən data science öyrənirəm və bu çox maraqlıdır\"\n",
    "# Yuxarıdakı cümlədəki hər bir sözün uzunluğunu key-value şəklində saxlayan bir dictionary yaradın."
   ]
  },
  {
   "cell_type": "code",
   "execution_count": 10,
   "id": "7e6c348b-6203-4035-b5df-8fb5a8c43701",
   "metadata": {},
   "outputs": [
    {
     "name": "stdout",
     "output_type": "stream",
     "text": [
      "{5: 'Salam', 3: 'çox', 4: 'data', 7: 'science', 9: 'öyrənirəm', 2: 'bu', 10: 'maraqlıdır'}\n"
     ]
    }
   ],
   "source": [
    "cumle = \"Salam mən data science öyrənirəm və bu çox maraqlıdır\"\n",
    "d = {len(value): value for value in cumle.split()}\n",
    "print(d)"
   ]
  },
  {
   "cell_type": "code",
   "execution_count": 7,
   "id": "b3871973-855f-4920-810e-1508a8327ec7",
   "metadata": {},
   "outputs": [],
   "source": [
    "# 3. names = [\"Nərmin\", \"Raul\", \"Lamiyə\", \"Yelmar\"]\n",
    "# ages = [19, 21, 22, 19]\n",
    "# Yuxarıdakı listlərdə hər bir ad və yaş tuple olaraq key kimi istifadə edilən,\n",
    "# yaşın kvadratını isə value kimi saxlayan dictionary yaradın."
   ]
  },
  {
   "cell_type": "code",
   "execution_count": 35,
   "id": "7a38391d-7016-4c83-bb85-1ebe21eb3b44",
   "metadata": {},
   "outputs": [
    {
     "name": "stdout",
     "output_type": "stream",
     "text": [
      "{('Nərmin', 19): 361, ('Raul', 21): 441, ('Lamiyə', 22): 484, ('Yelmar', 19): 361}\n"
     ]
    }
   ],
   "source": [
    "names = [\"Nərmin\", \"Raul\", \"Lamiyə\", \"Yelmar\"]\n",
    "ages = [19, 21, 22, 19]\n",
    "d = {(name,age):age **2  for name, age in zip(names, ages)}\n",
    "print(d)"
   ]
  },
  {
   "cell_type": "code",
   "execution_count": 9,
   "id": "64f3c232-cc11-4e08-be6e-e331ae0ae2fb",
   "metadata": {},
   "outputs": [],
   "source": [
    "# 4. nums = {\"bir\": 1, \"iki\": 2, \"üç\": 3, \"dörd\": 4, \"beş\": 5} dictionary-sini yaradın.\n",
    "# Bu dictionary-nin value-larını kvadrata yüksəldin, key-lərin adına isə \"_kvadratı\" əlavə edin\n",
    "# və çap edin."
   ]
  },
  {
   "cell_type": "code",
   "execution_count": 13,
   "id": "c1819d2d-253f-4c90-a155-68ab2c1ad390",
   "metadata": {},
   "outputs": [
    {
     "name": "stdout",
     "output_type": "stream",
     "text": [
      "{'bir_kvadrat': 1, 'iki_kvadrat': 4, 'üç_kvadrat': 9, 'dörd_kvadrat': 16, 'beş_kvadrat': 25}\n"
     ]
    }
   ],
   "source": [
    "nums = {\"bir\": 1, \"iki\": 2, \"üç\": 3, \"dörd\": 4, \"beş\": 5}\n",
    "d = {(num + \"_kvadrat\"): numb ** 2 for num, numb in nums.items()}\n",
    "print(d)"
   ]
  },
  {
   "cell_type": "code",
   "execution_count": 11,
   "id": "be7efd1f-77f4-4705-9d78-89ff7a75342f",
   "metadata": {},
   "outputs": [],
   "source": [
    "# 5. s5 = \"alma armud alma mandarin banan üzüm mandarin\"\n",
    "# bu string-də təkrarlanan sözləri aradan qaldıraraq yalnız unikal sözlərdən ibarət set yaradın."
   ]
  },
  {
   "cell_type": "code",
   "execution_count": 15,
   "id": "896f838e-0be9-4630-ada2-5af21a0c4150",
   "metadata": {},
   "outputs": [
    {
     "name": "stdout",
     "output_type": "stream",
     "text": [
      "{'banan', 'alma', 'armud', 'üzüm', 'mandarin'}\n"
     ]
    }
   ],
   "source": [
    "s5 = \"alma armud alma mandarin banan üzüm mandarin\"\n",
    "s = set()\n",
    "for i in s5.split():\n",
    "    if i in s:\n",
    "        continue\n",
    "    else:\n",
    "        s.add(i)\n",
    "print(s)"
   ]
  },
  {
   "cell_type": "code",
   "execution_count": 13,
   "id": "b2f9df8f-7ca0-4540-a847-84adeb61568e",
   "metadata": {},
   "outputs": [],
   "source": [
    "# 6. set_2 = {1, 2, 3, 4} və set_3 = {3, 4, 5, 6} adlı iki set yaradın.\n",
    "# Bu iki set arasında yalnız birində olan elementləri tapın."
   ]
  },
  {
   "cell_type": "code",
   "execution_count": 39,
   "id": "60679be9-fd57-48d4-a058-d17e41c3ca66",
   "metadata": {},
   "outputs": [
    {
     "name": "stdout",
     "output_type": "stream",
     "text": [
      "Difference of set1 and set2: {1, 2}\n",
      "Difference of set2 and set1: {5, 6}\n"
     ]
    },
    {
     "ename": "TypeError",
     "evalue": "unhashable type: 'set'",
     "output_type": "error",
     "traceback": [
      "\u001b[1;31m---------------------------------------------------------------------------\u001b[0m",
      "\u001b[1;31mTypeError\u001b[0m                                 Traceback (most recent call last)",
      "Cell \u001b[1;32mIn[39], line 7\u001b[0m\n\u001b[0;32m      5\u001b[0m diff2 \u001b[38;5;241m=\u001b[39m set_3\u001b[38;5;241m.\u001b[39mdifference(set_2)\n\u001b[0;32m      6\u001b[0m \u001b[38;5;28mprint\u001b[39m(\u001b[38;5;124m\"\u001b[39m\u001b[38;5;124mDifference of set2 and set1:\u001b[39m\u001b[38;5;124m\"\u001b[39m, diff2) \n\u001b[1;32m----> 7\u001b[0m \u001b[38;5;28mprint\u001b[39m(diff1\u001b[38;5;241m.\u001b[39madd(diff2))\n",
      "\u001b[1;31mTypeError\u001b[0m: unhashable type: 'set'"
     ]
    }
   ],
   "source": [
    "set_2 = {1, 2, 3, 4}\n",
    "set_3 = {3, 4, 5, 6} \n",
    "diff1 = set_2.difference(set_3)\n",
    "print(\"Difference of set1 and set2:\", diff1) \n",
    "diff2 = set_3.difference(set_2)\n",
    "print(\"Difference of set2 and set1:\", diff2) \n",
    "print(di"
   ]
  },
  {
   "cell_type": "code",
   "execution_count": 15,
   "id": "34faad2c-ae49-4a1f-9499-23aa4c56097f",
   "metadata": {},
   "outputs": [],
   "source": [
    "# 7. set_5 = {10, 5, 3, 8, 15, 19, 38, 2, 93, 55} adlı bir set yaradın.\n",
    "# Set-dəki ən kiçik elementi silin."
   ]
  },
  {
   "cell_type": "code",
   "execution_count": 22,
   "id": "8f0e62b9-db06-4671-a465-ecdb9a1db138",
   "metadata": {},
   "outputs": [
    {
     "name": "stdout",
     "output_type": "stream",
     "text": [
      "{3, 5, 38, 8, 10, 15, 19, 55, 93}\n"
     ]
    }
   ],
   "source": [
    "set_5 = {10, 5, 3, 8, 15, 19, 38, 2, 93, 55}\n",
    "set_5.remove(min(set_5))\n",
    "print(set_5)"
   ]
  },
  {
   "cell_type": "code",
   "execution_count": 17,
   "id": "7d6904b7-57d4-4c7c-9239-c68577497a8a",
   "metadata": {},
   "outputs": [],
   "source": [
    "# 8. Set1 və Set2 arasında simmetrik fərqi çap edin.\n",
    "# set1 = {1, 2, 3}\n",
    "# set2 = {3, 4, 5}"
   ]
  },
  {
   "cell_type": "code",
   "execution_count": 24,
   "id": "44db9481-7fe3-45cc-a337-d1bc49cfec84",
   "metadata": {},
   "outputs": [
    {
     "name": "stdout",
     "output_type": "stream",
     "text": [
      "Symmetric difference of set1 and set2: {1, 2, 4, 5}\n"
     ]
    }
   ],
   "source": [
    "set1 = {1, 2, 3}\n",
    "set2 = {3, 4, 5}\n",
    "symm_diff = set1.symmetric_difference(set2)\n",
    "print(\"Symmetric difference of set1 and set2:\", symm_diff)"
   ]
  },
  {
   "cell_type": "code",
   "execution_count": 19,
   "id": "15db449b-9d62-4490-a944-069ce223f282",
   "metadata": {},
   "outputs": [],
   "source": [
    "# 9. İki set-in tamamilə fərqli olub olmadığını yoxlayın.\n",
    "# set1 = {'alma', 'armud'}\n",
    "# set2 = {'banan', 'gilas'}"
   ]
  },
  {
   "cell_type": "code",
   "execution_count": 26,
   "id": "c81740fe-3d4a-4548-aa14-c583e9e5777f",
   "metadata": {},
   "outputs": [
    {
     "data": {
      "text/plain": [
       "True"
      ]
     },
     "execution_count": 26,
     "metadata": {},
     "output_type": "execute_result"
    }
   ],
   "source": [
    "set1 = {'alma', 'armud'}\n",
    "set2 = {'banan', 'gilas'}\n",
    "set1.isdisjoint(set2)"
   ]
  },
  {
   "cell_type": "code",
   "execution_count": null,
   "id": "46ba8839-9bef-4308-a103-969e63d3a2a4",
   "metadata": {},
   "outputs": [],
   "source": [
    "# 10. Rənglər set-inə yeni bir rəng əlavə etməyə çalışın.\n",
    "# rənglər = frozenset(['qırmızı', 'mavi'])"
   ]
  },
  {
   "cell_type": "code",
   "execution_count": 28,
   "id": "9e71c4c5-3e0c-4781-bdaa-145163ab24f0",
   "metadata": {},
   "outputs": [
    {
     "data": {
      "text/plain": [
       "{'mavi', 'qırmızı', 'yellow'}"
      ]
     },
     "execution_count": 28,
     "metadata": {},
     "output_type": "execute_result"
    }
   ],
   "source": [
    "rənglər = frozenset(['qırmızı', 'mavi'])\n",
    "r = set(rənglər)\n",
    "r.add('yellow')\n",
    "r"
   ]
  }
 ],
 "metadata": {
  "kernelspec": {
   "display_name": "Python [conda env:base] *",
   "language": "python",
   "name": "conda-base-py"
  },
  "language_info": {
   "codemirror_mode": {
    "name": "ipython",
    "version": 3
   },
   "file_extension": ".py",
   "mimetype": "text/x-python",
   "name": "python",
   "nbconvert_exporter": "python",
   "pygments_lexer": "ipython3",
   "version": "3.12.7"
  }
 },
 "nbformat": 4,
 "nbformat_minor": 5
}
