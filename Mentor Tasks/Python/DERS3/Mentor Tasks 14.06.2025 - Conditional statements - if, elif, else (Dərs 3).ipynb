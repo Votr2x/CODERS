{
 "cells": [
  {
   "cell_type": "code",
   "execution_count": 1,
   "id": "00e7d411-44b0-4cb6-aaba-6676a82246d5",
   "metadata": {},
   "outputs": [],
   "source": [
    "# 1. Yaşın daxil etməsini istəyən bir proqram yazın.\n",
    "# Əgər yaş 18-dən aşağıdırsa, \"Gənc\" mesajını çap edin.\n",
    "# Əgər yaş 18 ilə 65 arasındadırsa, \"Orta yaşlı\" mesajını çap edin.\n",
    "# Əgər yaş 65-dən yuxarıdırsa, \"Yaşlı\" mesajını çap edin.\n",
    "\n",
    "### QEYD: Bu tip tasklarda (1-dən 5-ə qədər 5 də daxil) \"input\" istifadə edin."
   ]
  },
  {
   "cell_type": "code",
   "execution_count": 7,
   "id": "a5c8f5e4-559b-4c93-ae80-d51249f31ef5",
   "metadata": {},
   "outputs": [
    {
     "name": "stdin",
     "output_type": "stream",
     "text": [
      "Enter your age 1\n"
     ]
    },
    {
     "name": "stdout",
     "output_type": "stream",
     "text": [
      "Young\n"
     ]
    }
   ],
   "source": [
    "X = int(input(\"Enter your age\"))\n",
    "if X < 18:\n",
    "    print(\"Young\")\n",
    "elif 18 < X < 65:\n",
    "    print(\"Middle age\")\n",
    "elif X > 65:\n",
    "    print(\"Old\")\n",
    "else:\n",
    "    print(\"Incorrect input\")"
   ]
  },
  {
   "cell_type": "code",
   "execution_count": 3,
   "id": "5f37d622-4331-477c-b3aa-7248b5a097b2",
   "metadata": {},
   "outputs": [],
   "source": [
    "# 2. Hər hansısa bir ədəd daxil edilən proqram yazın (Float qəbul etsin)\n",
    "# Əgər rəqəm müsbətdirsə, \"Müsbət rəqəm\" mesajını çap edin.\n",
    "# Əgər rəqəm mənfidirsə, \"Mənfi rəqəm\" mesajını çap edin.\n",
    "# Əgər rəqəm sıfırdırsa, \"Rəqəm sıfırdır\" mesajını çap edin."
   ]
  },
  {
   "cell_type": "code",
   "execution_count": 9,
   "id": "e0a0a059-8acf-40ae-a544-bf4b41cb7d4b",
   "metadata": {},
   "outputs": [
    {
     "name": "stdin",
     "output_type": "stream",
     "text": [
      "Enter your float:  0\n"
     ]
    },
    {
     "name": "stdout",
     "output_type": "stream",
     "text": [
      "Zero\n"
     ]
    }
   ],
   "source": [
    "x = float(input(\"Enter your float: \"))\n",
    "if x > 0:\n",
    "    print(\"Positive\")\n",
    "elif x < 0:\n",
    "    print(\"Negative\")\n",
    "else:\n",
    "    print(\"Zero\")"
   ]
  },
  {
   "cell_type": "code",
   "execution_count": 5,
   "id": "d7451e2c-8b5e-414f-afd3-42f7f442f5dd",
   "metadata": {},
   "outputs": [],
   "source": [
    "# 3. İmtahan nəticəsini daxil daxil edib yoxlayacağınız proqram yazın (0-dan 100-ə qədər).\n",
    "# Əgər bal 95-dan yuxarıdırsa, \"Əla\" mesajını çap edin.\n",
    "# Əgər bal 90-dan 95-ə qədərdirsə, \"Yaxşı\" mesajını çap edin.\n",
    "# Əgər bal 85-dən 90-a qədərdirsə, \"Qənaətbəxş\" mesajını çap edin.\n",
    "# Əgər bal 85-dən aşağıdırsa, \"Qənaətbəxş deyil\" mesajını çap edin."
   ]
  },
  {
   "cell_type": "code",
   "execution_count": 30,
   "id": "e39b97e8-f1c0-4b41-836f-ad5b6116d6cd",
   "metadata": {},
   "outputs": [
    {
     "name": "stdin",
     "output_type": "stream",
     "text": [
      "Enter your exam score:  1\n"
     ]
    },
    {
     "name": "stdout",
     "output_type": "stream",
     "text": [
      "Not sufficient\n"
     ]
    }
   ],
   "source": [
    "x = int(input(\"Enter your exam score: \"))\n",
    "if x > 95:\n",
    "    print(\"Nice\")\n",
    "elif 90 < x <= 95:\n",
    "    print(\"Good\")\n",
    "elif 85 < x <= 90:\n",
    "    print(\"Sufficient\")\n",
    "elif x < 85:\n",
    "    print(\"Not sufficient\")\n",
    "else:\n",
    "    print(\"Incorrect input\")"
   ]
  },
  {
   "cell_type": "code",
   "execution_count": 7,
   "id": "e162ed4b-7331-4796-9ddc-43d6f19f975e",
   "metadata": {},
   "outputs": [],
   "source": [
    "# 4. Rəqəm daxil edə biləcəyiniz bir proqram yazın.\n",
    "# Əgər rəqəm cütdürsə, \"Bu rəqəm cütdür\" mesajını çap edin.\n",
    "# Əgər rəqəm təkdirsə, \"Bu rəqəm təkdir\" mesajını çap edin.\n"
   ]
  },
  {
   "cell_type": "code",
   "execution_count": 12,
   "id": "6915b6ad-5c1e-416a-86f4-342c61f3cb9b",
   "metadata": {},
   "outputs": [
    {
     "name": "stdin",
     "output_type": "stream",
     "text": [
      "Enter your value:  4\n"
     ]
    },
    {
     "name": "stdout",
     "output_type": "stream",
     "text": [
      "4 Is even\n"
     ]
    }
   ],
   "source": [
    "x = int(input(\"Enter your value: \"))\n",
    "if (x % 2) == 0:\n",
    "    print(x, \"Is even\")\n",
    "elif (x % 2) == 1:\n",
    "    print(x, \"Is odd\")\n",
    "else:\n",
    "    print(\"Incorrect input\")"
   ]
  },
  {
   "cell_type": "code",
   "execution_count": 9,
   "id": "b3e41df5-8daf-47d8-8b75-986013d5b4e6",
   "metadata": {},
   "outputs": [],
   "source": [
    "# 5. Rəqəm daxil edə biləcəyiniz bir proqram yazın.\n",
    "# Əgər rəqəm 1-dən 10-a qədər bir aralıqdadırsa, \"Rəqəm 1 ilə 10 arasındadır\" mesajını çap edin.\n",
    "# Əgər rəqəm 11-dən 20-yə qədər bir aralıqdadırsa, \"Rəqəm 11 ilə 20 arasındadır\" mesajını çap edin.\n",
    "# Əgər rəqəm 20-dən böyükdürsə, \"Rəqəm 20-dən böyükdür\" mesajını çap edin.\n"
   ]
  },
  {
   "cell_type": "code",
   "execution_count": 14,
   "id": "d23356db-e82b-425b-b7b2-7241fcb5ae38",
   "metadata": {},
   "outputs": [
    {
     "name": "stdin",
     "output_type": "stream",
     "text": [
      "Enter your value 25\n"
     ]
    },
    {
     "name": "stdout",
     "output_type": "stream",
     "text": [
      "25 is more bigger that 20\n"
     ]
    }
   ],
   "source": [
    "x = int(input(\"Enter your value\"))\n",
    "if 1 < x < 10:\n",
    "    print(x, \"is between 1 and 10\")\n",
    "elif 11 < x < 20:\n",
    "    print(x, \"is between 11 and 20\")\n",
    "if x > 20:\n",
    "    print(x, \"is more bigger that 20\")\n",
    "else:\n",
    "    print(\"Incorrect input\")"
   ]
  },
  {
   "cell_type": "code",
   "execution_count": 11,
   "id": "f8653d4c-e6db-4f64-8584-b495733ffdc7",
   "metadata": {},
   "outputs": [],
   "source": [
    "# 6. grades = {\"Yelmar\": 98,\n",
    "#     \"Nərgiz\": 95,\n",
    "#     \"Lamiyə\": 95,\n",
    "#     \"Raul\": 92,\n",
    "#     \"Səfa\": 91,\n",
    "#     \"Nərmin\": 89}  belə bir dictionary yaradın.\n",
    "\n",
    "# \"Nazim\" keysinin bu dictionary-də olub-olmadığını yoxlayın. Daha sonra if not ilə yoxlayaraq\n",
    "# əgər yoxdursa \"Yoxdur\" çap olunsun.\n"
   ]
  },
  {
   "cell_type": "code",
   "execution_count": 18,
   "id": "43ced1a7-6d55-4a92-af92-a31e0900f81e",
   "metadata": {},
   "outputs": [
    {
     "name": "stdout",
     "output_type": "stream",
     "text": [
      "Nazim not in grades\n"
     ]
    }
   ],
   "source": [
    "grades = {\"Yelmar\": 98,\n",
    "    \"Nərgiz\": 95,\n",
    "    \"Lamiyə\": 95,\n",
    "    \"Raul\": 92,\n",
    "    \"Səfa\": 91,\n",
    "    \"Nərmin\": 89}\n",
    "if \"Nazim\" not in grades.keys():\n",
    "    print(\"Nazim not in grades\")\n",
    "else:\n",
    "    print(\"Nazim in grades\")"
   ]
  },
  {
   "cell_type": "code",
   "execution_count": 13,
   "id": "d94e3ebb-6d1a-4930-a63d-761634fdbae2",
   "metadata": {},
   "outputs": [],
   "source": [
    "# 7. Sonra isə \"Nala\" keysinin yuxarıdakı dictionary-də olduğunu yoxlayın, əgər varsa dəyər,\n",
    "# əks halda 0 (sıfır) çap olunsun."
   ]
  },
  {
   "cell_type": "code",
   "execution_count": 19,
   "id": "b481bd86-3ab4-4cd2-8ca6-970b5e4855f7",
   "metadata": {},
   "outputs": [
    {
     "name": "stdout",
     "output_type": "stream",
     "text": [
      "0\n"
     ]
    }
   ],
   "source": [
    "if \"Nala\" in grades.keys():\n",
    "    print(grades[\"Nala\"])\n",
    "else:\n",
    "    print(0)"
   ]
  },
  {
   "cell_type": "code",
   "execution_count": 15,
   "id": "b1d29746-e310-435b-8216-e52676c46d1b",
   "metadata": {},
   "outputs": [],
   "source": [
    "# 8. numbers_9 = [-3, -2, 0, 5, -1, 4, 7].\n",
    "# Verilən listdəki ilk müsbət rəqəmi tapın və dövrü dayandırın."
   ]
  },
  {
   "cell_type": "code",
   "execution_count": 31,
   "id": "a929a338-4a31-407d-a139-88e4ce829145",
   "metadata": {},
   "outputs": [
    {
     "name": "stdout",
     "output_type": "stream",
     "text": [
      "5 Found\n"
     ]
    }
   ],
   "source": [
    "numbers_9 = [-3, -2, 0, 5, -1, 4, 7]\n",
    "for i in numbers_9:\n",
    "    if i <= 0:\n",
    "        continue\n",
    "    else: \n",
    "        print(i, \"Found\")\n",
    "        break"
   ]
  },
  {
   "cell_type": "code",
   "execution_count": 17,
   "id": "4392c982-dcc5-474a-91fd-b2e3c133d347",
   "metadata": {},
   "outputs": [],
   "source": [
    "# 9. for istifadə etməklə 1-dən 10-a qədər rəqəmlər verin.\n",
    "# Tək rəqəmləri keçin və yalnız cüt rəqəmləri tək tək çap edin. (continue)"
   ]
  },
  {
   "cell_type": "code",
   "execution_count": 22,
   "id": "d3d69bb2-559f-4abd-9b60-e251d76ac35a",
   "metadata": {},
   "outputs": [
    {
     "name": "stdout",
     "output_type": "stream",
     "text": [
      "[0, 2, 4, 6, 8, 10]\n"
     ]
    }
   ],
   "source": [
    "l = []\n",
    "for i in range(0,11):\n",
    "    if (i % 2) == 1:\n",
    "        continue\n",
    "    else:\n",
    "        l.append(i)\n",
    "print(l)"
   ]
  },
  {
   "cell_type": "code",
   "execution_count": null,
   "id": "b198545d-b139-4d78-adb5-e46d8c2eb304",
   "metadata": {},
   "outputs": [],
   "source": [
    "# 10. İmtahan nəticələri verilib: exam_scores = [85, 90, 0, None, 0, 78, 0, 92].\n",
    "# 0 dəyərləri olan nəticələri keçin və digərlərini çap edin. (pass)"
   ]
  },
  {
   "cell_type": "code",
   "execution_count": 29,
   "id": "da984083-f704-4a15-92c2-9621b2e8b469",
   "metadata": {},
   "outputs": [
    {
     "name": "stdout",
     "output_type": "stream",
     "text": [
      "85\n",
      "90\n",
      "None\n",
      "78\n",
      "92\n"
     ]
    }
   ],
   "source": [
    "exam_scores = [85, 90, 0, None, 0, 78, 0, 92]\n",
    "for i in exam_scores:\n",
    "    if i == 0:\n",
    "        pass\n",
    "    else:\n",
    "        print(i)"
   ]
  },
  {
   "cell_type": "code",
   "execution_count": null,
   "id": "4c7fca51-3591-4f07-91ea-bae617b9ed70",
   "metadata": {},
   "outputs": [],
   "source": []
  }
 ],
 "metadata": {
  "kernelspec": {
   "display_name": "Python [conda env:base] *",
   "language": "python",
   "name": "conda-base-py"
  },
  "language_info": {
   "codemirror_mode": {
    "name": "ipython",
    "version": 3
   },
   "file_extension": ".py",
   "mimetype": "text/x-python",
   "name": "python",
   "nbconvert_exporter": "python",
   "pygments_lexer": "ipython3",
   "version": "3.12.7"
  }
 },
 "nbformat": 4,
 "nbformat_minor": 5
}
