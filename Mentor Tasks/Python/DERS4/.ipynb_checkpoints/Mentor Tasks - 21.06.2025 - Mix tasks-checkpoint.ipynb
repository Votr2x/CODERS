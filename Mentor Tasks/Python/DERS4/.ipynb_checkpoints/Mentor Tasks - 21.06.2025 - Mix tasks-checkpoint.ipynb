{
 "cells": [
  {
   "cell_type": "code",
   "execution_count": null,
   "id": "56e94dd3-2607-40fc-919a-5a1243d8a450",
   "metadata": {},
   "outputs": [],
   "source": [
    "# 1. Ədədi Siyahının Məlumatlarını Çıxar (map, reduce, lambda): Kvadratlarını al, onların cəmini tap,orta qiymətini hesabla.\n",
    "# nums = [1, 2, 3, 4, 5]\n",
    "# addımlar: [1,4,9,16,25] → cəmi: 55 → orta: 11.0\n"
   ]
  },
  {
   "cell_type": "code",
   "execution_count": null,
   "id": "1a1707cc-e6fb-436f-90cc-5aada27de894",
   "metadata": {},
   "outputs": [],
   "source": [
    "# 2. Qonaq Siyahısı (*args, **kwargs) qonaq_yoxla() adlı funksiya yarat:\n",
    "# *args ilə gələn qonaqların adlarını qəbul et.\n",
    "# **kwargs ilə VIP qonaqların statusunu (True/False) ver.\n",
    "# Əgər ad VIP siyahıdadırsa və statusu True-dursa, “Xoş gəlmisiz, hörmətli [ad]” yazılsın.\n",
    "# Yoxsa adi “Salam [ad]” yazılsın."
   ]
  },
  {
   "cell_type": "code",
   "execution_count": 1,
   "id": "681adb69-a34f-42ed-970d-0697fe6b70cd",
   "metadata": {},
   "outputs": [],
   "source": [
    "# 3. Verilmiş siyahıda qarışıq tipli dəyərlər var (int, str, None, float). Yalnız ədəd olanları saxla və kvadratını al. \n",
    "# Əgər uyğun olmayan dəyər çıxsa, try-except ilə səhvi keçir.\n",
    "# data = [4, \"abc\", 7.2, None, 3]\n",
    "# Nəticə: [16, 51.84, 9]"
   ]
  },
  {
   "cell_type": "code",
   "execution_count": 3,
   "id": "3419765a-05a4-4e69-8265-15cd9d15bade",
   "metadata": {},
   "outputs": [],
   "source": [
    "# 4. Telebeler = [\n",
    "   # {\"ad\": \"Lamia\", \"qiymet\": 85},\n",
    "   #{\"ad\": \"Nicat\", \"qiymet\": 58},\n",
    "   #{\"ad\": \"Aysel\", \"qiymet\": 91},\n",
    "   #{\"ad\": \"Ilkin\", \"qiymet\": 43}\n",
    "# ]\n",
    "# lambda və filter ilə yalnız 60 və yuxarı bal toplayanları çıxart.\n",
    "# map ilə onların adlarının sonuna “-KEÇDİ” əlavə et."
   ]
  },
  {
   "cell_type": "code",
   "execution_count": 5,
   "id": "0353a1ff-8ded-4612-80aa-95607b03a4e4",
   "metadata": {},
   "outputs": [],
   "source": [
    "# 5. Bir neçə ədəd qəbul edən və bu ədədlərin kvadratı, kubu və s. qüvvətli cəmlərini qaytaran bir funksiya yazın.\n",
    "# (*args istifadə edin)\n",
    "# Məsələn; x_func(2, 1, 2, 3)  ---> ilk yazılan rəqəm qüvvəti ifadə edir. (2, 1, 2, 3) - burada birinci 2 qüvvətdir\n",
    "# Nəticə: 14 "
   ]
  },
  {
   "cell_type": "code",
   "execution_count": 7,
   "id": "befef92b-e885-4e08-9f3b-97c5df5e1910",
   "metadata": {},
   "outputs": [],
   "source": [
    "# 6. Verilmiş şifrəni analiz et və:\n",
    "# Əgər uzunluğu 8-dən qısadırsa, \"Çox qısa\"\n",
    "# Əgər həm hərf, həm rəqəm, həm də simvol (məs: @, #) varsa, \"Güclü şifrə\"\n",
    "# Əks halda \"Zəif şifrə\" mesajı ver."
   ]
  },
  {
   "cell_type": "code",
   "execution_count": 9,
   "id": "0a41ac53-c326-483a-9a65-e9a958039274",
   "metadata": {},
   "outputs": [],
   "source": [
    "# 7.Python random modulu ilə 1–10 arasında bir ədəd seçsin.\n",
    "# istifadəçiyə 3 haqq verilsin – doğru tapana qədər while dövrü ilə getsin."
   ]
  }
 ],
 "metadata": {
  "kernelspec": {
   "display_name": "Python 3 (ipykernel)",
   "language": "python",
   "name": "python3"
  },
  "language_info": {
   "codemirror_mode": {
    "name": "ipython",
    "version": 3
   },
   "file_extension": ".py",
   "mimetype": "text/x-python",
   "name": "python",
   "nbconvert_exporter": "python",
   "pygments_lexer": "ipython3",
   "version": "3.12.4"
  }
 },
 "nbformat": 4,
 "nbformat_minor": 5
}
