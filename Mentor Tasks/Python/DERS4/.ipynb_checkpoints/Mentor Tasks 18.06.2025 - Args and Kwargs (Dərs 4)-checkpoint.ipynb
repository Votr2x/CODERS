{
 "cells": [
  {
   "cell_type": "code",
   "execution_count": 1,
   "id": "d9559db6",
   "metadata": {},
   "outputs": [],
   "source": [
    "# 1. Bir funksiya yaradın ki, həmin funksiyaya bir neçə string (söz) göndərəndə, həmin sözlər arasında ən uzun və ən qısa\n",
    "# olanları taparaq qaytarsın. (*args istifadə edin)\n"
   ]
  },
  {
   "cell_type": "code",
   "execution_count": 3,
   "id": "a709a851",
   "metadata": {},
   "outputs": [],
   "source": [
    "# 2. Bir neçə ədəd qəbul edən və bu ədədlərin kvadratı, kubu və s. qüvvətli cəmlərini qaytaran bir funksiya yazın.\n",
    "# (*args istifadə edin)\n"
   ]
  },
  {
   "cell_type": "code",
   "execution_count": 8,
   "id": "615d3c5c",
   "metadata": {},
   "outputs": [],
   "source": [
    "# 3. Bir neçə ədəd qəbul edən və həmin ədədlərin ortalamasını qaytaran bir funksiya yazın. Əgər heç bir ədəd göndərilməzsə,\n",
    "# \"Heç bir rəqəm daxil edilmədi\" mesajını qaytarsın. (*args istifadə edin)"
   ]
  },
  {
   "cell_type": "code",
   "execution_count": null,
   "id": "a4b2504c",
   "metadata": {},
   "outputs": [],
   "source": [
    "# 4. İstənilən sayda key-value argument qəbul edən və onları bir-bir çap edən bir funksiya yazın.\n",
    "# (**Kwargs və for istifadə edin)\n"
   ]
  },
  {
   "cell_type": "code",
   "execution_count": null,
   "id": "fb6f642f",
   "metadata": {},
   "outputs": [],
   "source": [
    "# 5. Əsas qiymətə endirim və vergi əlavə etməklə son qiyməti hesablayan bir funksiya yazın.\n",
    "# (**Kwargs və get funksiyasından istifadə edin)\n"
   ]
  },
  {
   "cell_type": "code",
   "execution_count": null,
   "id": "6a9e0ca4",
   "metadata": {},
   "outputs": [],
   "source": [
    "# 6. İstənilən sayda key-value argument qəbul edən və istifadəçi haqqında profil yaradan bir funksiya yazın.\n",
    "# (**Kwargs və for istifadə edin)\n",
    "\n"
   ]
  }
 ],
 "metadata": {
  "kernelspec": {
   "display_name": "Python 3 (ipykernel)",
   "language": "python",
   "name": "python3"
  },
  "language_info": {
   "codemirror_mode": {
    "name": "ipython",
    "version": 3
   },
   "file_extension": ".py",
   "mimetype": "text/x-python",
   "name": "python",
   "nbconvert_exporter": "python",
   "pygments_lexer": "ipython3",
   "version": "3.12.4"
  }
 },
 "nbformat": 4,
 "nbformat_minor": 5
}
