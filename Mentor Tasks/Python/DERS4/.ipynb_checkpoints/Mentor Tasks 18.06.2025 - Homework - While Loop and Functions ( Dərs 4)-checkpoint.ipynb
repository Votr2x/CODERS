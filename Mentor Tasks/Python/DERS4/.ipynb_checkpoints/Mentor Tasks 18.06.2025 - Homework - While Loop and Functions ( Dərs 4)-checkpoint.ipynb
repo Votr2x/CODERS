{
 "cells": [
  {
   "cell_type": "code",
   "execution_count": 1,
   "id": "4c79b084-84a1-416e-9684-036e0e7a1b7a",
   "metadata": {},
   "outputs": [],
   "source": [
    "# 1. Verilmiş bir rəqəmin faktoriyalını tapın. Məsələn, 5! = 5 × 4 × 3 × 2 × 1 = 120. (while ilə)"
   ]
  },
  {
   "cell_type": "code",
   "execution_count": 3,
   "id": "69c3e840-aa64-42f3-9184-331d9d02ad2c",
   "metadata": {},
   "outputs": [],
   "source": [
    "# 2. İki rəqəmi qəbul edən və onların cəmini qaytaran bir funksiya yazın."
   ]
  },
  {
   "cell_type": "code",
   "execution_count": 5,
   "id": "95a300dd-b9de-4eb3-986d-eba52a7535f0",
   "metadata": {},
   "outputs": [],
   "source": [
    "# 3. Bir string qəbul edən və onun uzunluğunu qaytaran bir funksiya yazın."
   ]
  },
  {
   "cell_type": "code",
   "execution_count": 7,
   "id": "d6162894-5218-4820-8617-1d34a41862ee",
   "metadata": {},
   "outputs": [],
   "source": [
    "# 4. Verilmiş bir rəqəmin kvadratını qaytaran bir funksiya yazın."
   ]
  },
  {
   "cell_type": "code",
   "execution_count": 9,
   "id": "55862aaa-360e-42e1-b643-4d5bb930dee1",
   "metadata": {},
   "outputs": [],
   "source": [
    "# 5. Bir ad qəbul edən və həmin şəxsə salam verən bir funksiya yazın."
   ]
  },
  {
   "cell_type": "code",
   "execution_count": 11,
   "id": "8a36306d-ba62-4b01-80f9-da4bdcd18414",
   "metadata": {},
   "outputs": [],
   "source": [
    "# 6. Verilmiş rəqəmin cüt və ya tək olduğunu qaytaran bir funksiya yazın."
   ]
  },
  {
   "cell_type": "code",
   "execution_count": 13,
   "id": "a76dbc46-ca98-4a73-8fd9-1d838a4ffaa5",
   "metadata": {},
   "outputs": [],
   "source": [
    "# 7. Bir listdəki rəqəmləri qəbul edən və həmin rəqəmlərdən hansının cüt,\n",
    "# hansının tək olduğunu qaytaran bir funksiya yazın."
   ]
  },
  {
   "cell_type": "code",
   "execution_count": 15,
   "id": "187de77e-e11c-4434-b08b-70c679f703b3",
   "metadata": {},
   "outputs": [],
   "source": [
    "# 8. Verilmiş bir rəqəmin faktoriyalını hesablayan bir funksiya yazın. (For loop istifadə edin)"
   ]
  },
  {
   "cell_type": "code",
   "execution_count": 17,
   "id": "eee33ea1-54dd-49ce-8d96-064625dafa4c",
   "metadata": {},
   "outputs": [],
   "source": [
    "# 9. Verilmiş yaşa görə istifadəçinin yaş kateqoriyasını müəyyən edən bir funksiya yazın.\n",
    "# If-elif-else istifadə edin."
   ]
  },
  {
   "cell_type": "code",
   "execution_count": 1,
   "id": "066db5c5-697a-4dae-9955-5057bea5a16e",
   "metadata": {},
   "outputs": [],
   "source": [
    "# 10. İki rəqəm qəbul edən və əgər ikincisi birincidən böyükdürsə \"True\", əks halda\n",
    "# \"False\" qaytaran bir funksiya yaradın."
   ]
  },
  {
   "cell_type": "code",
   "execution_count": 3,
   "id": "741e41c3-df38-43e4-8a16-eaa337a000a0",
   "metadata": {},
   "outputs": [],
   "source": [
    "# 11. Verilmiş bir tam ədədin rəqəmlərini tərsinə çevirin. Məsələn, 12345 üçün nəticə 54321 olmalıdır."
   ]
  },
  {
   "cell_type": "code",
   "execution_count": 5,
   "id": "547db986-1c2e-47de-85d2-00f0c23553a3",
   "metadata": {},
   "outputs": [],
   "source": [
    "# 12. Təsadüfi olaraq 1-dən 10-a qədər bir rəqəm təyin edən, təsadüfi rəqəm seçən və\n",
    "# rəqəm daxil etdikcə bu rəqəmi təxmin etməyə çalışan bir proqram yazın.\n",
    "# Hər təxmin etdikdə rəqəmin kiçik və ya böyük olduğunu deyin.\n",
    "# Doğru rəqəm tapılana qədər loop davam etsin və sonunda \"Təbriklər! Doğru rəqəmi tapdınız!\"\n",
    "# mesajı çap edilsin"
   ]
  },
  {
   "cell_type": "code",
   "execution_count": 9,
   "id": "6ac87a19-4469-4796-9028-9e210a918d81",
   "metadata": {},
   "outputs": [],
   "source": [
    "# 13. Bir listdəki max və min dəyərləri qaytaran bir funksiya yazın. (For loop və if istifadə edin)"
   ]
  },
  {
   "cell_type": "code",
   "execution_count": 11,
   "id": "750cba51-8fc4-4d57-b2ce-e9a632f133d1",
   "metadata": {},
   "outputs": [],
   "source": [
    "# 14. Bir listdəki rəqəmlərin ortalamasını qaytaran bir funksiya yazın."
   ]
  },
  {
   "cell_type": "code",
   "execution_count": null,
   "id": "d0469ab4-cb9b-4c86-aa0a-18a9226c99ac",
   "metadata": {},
   "outputs": [],
   "source": [
    "# 15. Verilmiş bir stringdə neçə söz olduğunu qaytaran bir funksiya yazın. (For loop istifadə edin)"
   ]
  }
 ],
 "metadata": {
  "kernelspec": {
   "display_name": "Python 3 (ipykernel)",
   "language": "python",
   "name": "python3"
  },
  "language_info": {
   "codemirror_mode": {
    "name": "ipython",
    "version": 3
   },
   "file_extension": ".py",
   "mimetype": "text/x-python",
   "name": "python",
   "nbconvert_exporter": "python",
   "pygments_lexer": "ipython3",
   "version": "3.12.4"
  }
 },
 "nbformat": 4,
 "nbformat_minor": 5
}
