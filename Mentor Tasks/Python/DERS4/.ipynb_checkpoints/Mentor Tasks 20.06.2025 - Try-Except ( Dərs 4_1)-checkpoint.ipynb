{
 "cells": [
  {
   "cell_type": "code",
   "execution_count": 1,
   "id": "0fa3ca21",
   "metadata": {},
   "outputs": [],
   "source": [
    "# 1. Bir funksiya yazın ki, iki rəqəmi bir-birinə bölsün. Əgər ikinci rəqəm sıfır olarsa,\n",
    "# \"Sıfıra bölmək mümkün deyil!\" mesajını versin."
   ]
  },
  {
   "cell_type": "code",
   "execution_count": 3,
   "id": "0bae20e2",
   "metadata": {},
   "outputs": [],
   "source": [
    "# 2. Rəqəm daxil edilməsini istəyən bir funksiya yazın. Əgər rəqəm əvəzinə string daxil edilərsə,\n",
    "# \"Düzgün bir rəqəm daxil edin!\" mesajını versin."
   ]
  },
  {
   "cell_type": "code",
   "execution_count": 5,
   "id": "3b071483",
   "metadata": {},
   "outputs": [],
   "source": [
    "# 3. Listdən hər hansısa indeksi silən bir funksiya yazın. Əgər listdə olmayan bir indeks daxil edərsə,\n",
    "# \"Bu indeks mövcud deyil!\" mesajını versin."
   ]
  },
  {
   "cell_type": "code",
   "execution_count": 7,
   "id": "bef8e91c",
   "metadata": {},
   "outputs": [],
   "source": [
    "# 4. Yaşın daxil edilməsini tələb edən bir funksiya yazın. Əgər 0 (sıfır) və ya daha kiçik bir dəyər daxil edilərsə,\n",
    "# raise ilə ValueError qaldırın. Düzgün rəqəm daxil edilsə, yaş else blokunda qaytarılsın.\n",
    "# Funksiya hər iki halda finally blokunda \"Giriş prosesi tamamlandı.\" mesajını versin."
   ]
  }
 ],
 "metadata": {
  "kernelspec": {
   "display_name": "Python 3 (ipykernel)",
   "language": "python",
   "name": "python3"
  },
  "language_info": {
   "codemirror_mode": {
    "name": "ipython",
    "version": 3
   },
   "file_extension": ".py",
   "mimetype": "text/x-python",
   "name": "python",
   "nbconvert_exporter": "python",
   "pygments_lexer": "ipython3",
   "version": "3.12.4"
  }
 },
 "nbformat": 4,
 "nbformat_minor": 5
}
