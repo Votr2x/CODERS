{
 "cells": [
  {
   "cell_type": "code",
   "execution_count": 1,
   "id": "56e94dd3-2607-40fc-919a-5a1243d8a450",
   "metadata": {},
   "outputs": [],
   "source": [
    "# 1. Ədədi Siyahının Məlumatlarını Çıxar (map, reduce, lambda): Kvadratlarını al, onların cəmini tap,orta qiymətini hesabla.\n",
    "# nums = [1, 2, 3, 4, 5]\n",
    "# addımlar: [1,4,9,16,25] → cəmi: 55 → orta: 11.0\n"
   ]
  },
  {
   "cell_type": "code",
   "execution_count": 3,
   "id": "371a50a7-ac16-4df5-af4e-6e5156969462",
   "metadata": {},
   "outputs": [
    {
     "name": "stdout",
     "output_type": "stream",
     "text": [
      "11.0\n"
     ]
    }
   ],
   "source": [
    "from functools import reduce\n",
    "NUMS = [1, 2, 3, 4, 5]\n",
    "squared = list(map(lambda x: x ** 2, NUMS))\n",
    "STEP = reduce(lambda a, b: a + b, squared) / len(squared)\n",
    "print(STEP)"
   ]
  },
  {
   "cell_type": "code",
   "execution_count": null,
   "id": "1a1707cc-e6fb-436f-90cc-5aada27de894",
   "metadata": {},
   "outputs": [],
   "source": [
    "# 2. Qonaq Siyahısı (*args, **kwargs) qonaq_yoxla() adlı funksiya yarat:\n",
    "# *args ilə gələn qonaqların adlarını qəbul et.\n",
    "# **kwargs ilə VIP qonaqların statusunu (True/False) ver.\n",
    "# Əgər ad VIP siyahıdadırsa və statusu True-dursa, “Xoş gəlmisiz, hörmətli [ad]” yazılsın.\n",
    "# Yoxsa adi “Salam [ad]” yazılsın."
   ]
  },
  {
   "cell_type": "code",
   "execution_count": 5,
   "id": "4886abab-f496-4742-8f22-1ccb3ea518fa",
   "metadata": {},
   "outputs": [
    {
     "name": "stdout",
     "output_type": "stream",
     "text": [
      "Hello, Fakhri\n",
      "Welcome, Elcan\n",
      "Welcome, Lamia\n"
     ]
    }
   ],
   "source": [
    "def QUEST(*args, **kwargs):\n",
    "    for AD in args:\n",
    "        if AD in kwargs:\n",
    "            if kwargs[AD] == True:\n",
    "                print(f'Welcome, {AD}')\n",
    "            else:\n",
    "                print(f'Hello, {AD}')\n",
    "QUEST(\"Fakhri\", \"Elcan\", \"Lamia\", Fakhri = False, Elcan = True, Lamia = True)"
   ]
  },
  {
   "cell_type": "code",
   "execution_count": 1,
   "id": "681adb69-a34f-42ed-970d-0697fe6b70cd",
   "metadata": {},
   "outputs": [],
   "source": [
    "# 3. Verilmiş siyahıda qarışıq tipli dəyərlər var (int, str, None, float). Yalnız ədəd olanları saxla və kvadratını al. \n",
    "# Əgər uyğun olmayan dəyər çıxsa, try-except ilə səhvi keçir.\n",
    "# data = [4, \"abc\", 7.2, None, 3]\n",
    "# Nəticə: [16, 51.84, 9]"
   ]
  },
  {
   "cell_type": "code",
   "execution_count": 24,
   "id": "a7a15198-1a60-46f5-a51e-1d27b8350fad",
   "metadata": {},
   "outputs": [
    {
     "name": "stdout",
     "output_type": "stream",
     "text": [
      "[16, 51.84, 9]\n"
     ]
    }
   ],
   "source": [
    "data = [4, \"abc\", 7.2, None, 3]\n",
    "try:\n",
    "    OUT = list(map(lambda x: x ** 2, filter(lambda x: (type(x) == int) or (type(x) == float), data)))\n",
    "    print(OUT)\n",
    "except Exception as e:\n",
    "    print(\"Error:\", e)"
   ]
  },
  {
   "cell_type": "code",
   "execution_count": 12,
   "id": "3419765a-05a4-4e69-8265-15cd9d15bade",
   "metadata": {},
   "outputs": [],
   "source": [
    "# 4. Telebeler = [\n",
    "   # {\"ad\": \"Lamia\", \"qiymet\": 85},\n",
    "   #{\"ad\": \"Nicat\", \"qiymet\": 58},\n",
    "   #{\"ad\": \"Aysel\", \"qiymet\": 91},\n",
    "   #{\"ad\": \"Ilkin\", \"qiymet\": 43}\n",
    "# ]\n",
    "# lambda və filter ilə yalnız 60 və yuxarı bal toplayanları çıxart.\n",
    "# map ilə onların adlarının sonuna “-KEÇDİ” əlavə et."
   ]
  },
  {
   "cell_type": "code",
   "execution_count": 23,
   "id": "3ccbefff-57ea-4699-901c-7ab3fa03bea8",
   "metadata": {},
   "outputs": [
    {
     "name": "stdout",
     "output_type": "stream",
     "text": [
      "['Lamia-Pass', 'Aysel-Pass']\n"
     ]
    }
   ],
   "source": [
    "Telebeler = [\n",
    "   {\"ad\": \"Lamia\", \"qiymet\": 85},\n",
    "   {\"ad\": \"Nicat\", \"qiymet\": 58},\n",
    "   {\"ad\": \"Aysel\", \"qiymet\": 91},\n",
    "   {\"ad\": \"Ilkin\", \"qiymet\": 43}\n",
    "]\n",
    "\n",
    "CH = list(filter(lambda x: x[\"qiymet\"] > 60, Telebeler))\n",
    "MP = list(map(lambda x: x[\"ad\"] + \"-Pass\", CH))\n",
    "print(MP)"
   ]
  },
  {
   "cell_type": "code",
   "execution_count": 5,
   "id": "0353a1ff-8ded-4612-80aa-95607b03a4e4",
   "metadata": {},
   "outputs": [],
   "source": [
    "# 5. Bir neçə ədəd qəbul edən və bu ədədlərin kvadratı, kubu və s. qüvvətli cəmlərini qaytaran bir funksiya yazın.\n",
    "# (*args istifadə edin)\n",
    "# Məsələn; x_func(2, 1, 2, 3)  ---> ilk yazılan rəqəm qüvvəti ifadə edir. (2, 1, 2, 3) - burada birinci 2 qüvvətdir\n",
    "# Nəticə: 14 "
   ]
  },
  {
   "cell_type": "code",
   "execution_count": 34,
   "id": "093da153-f798-4ff8-bf36-729d1f2cd2e6",
   "metadata": {},
   "outputs": [
    {
     "name": "stdout",
     "output_type": "stream",
     "text": [
      "14\n"
     ]
    }
   ],
   "source": [
    "def RET(*args):\n",
    "    POW = args[0]\n",
    "    Z = list(args)\n",
    "    Z.pop(0)\n",
    "    RET = list(map(lambda x: x ** POW, Z))\n",
    "    RED = reduce(lambda x, y: x + y, RET)\n",
    "    print(RED)\n",
    "RET(2, 1, 2, 3)"
   ]
  },
  {
   "cell_type": "code",
   "execution_count": 7,
   "id": "befef92b-e885-4e08-9f3b-97c5df5e1910",
   "metadata": {},
   "outputs": [],
   "source": [
    "# 6. Verilmiş şifrəni analiz et və:\n",
    "# Əgər uzunluğu 8-dən qısadırsa, \"Çox qısa\"\n",
    "# Əgər həm hərf, həm rəqəm, həm də simvol (məs: @, #) varsa, \"Güclü şifrə\"\n",
    "# Əks halda \"Zəif şifrə\" mesajı ver."
   ]
  },
  {
   "cell_type": "code",
   "execution_count": 54,
   "id": "ab8a0720-a3e6-4cd2-80f1-62c893e29e3f",
   "metadata": {},
   "outputs": [
    {
     "name": "stdout",
     "output_type": "stream",
     "text": [
      "Strong password\n"
     ]
    }
   ],
   "source": [
    "import string\n",
    "\n",
    "def CHECK(password):\n",
    "    if len(password) < 8:\n",
    "        print(\"Too short\")\n",
    "    elif (any(c.isalpha() for c in password) and\n",
    "          any(c.isdigit() for c in password) and\n",
    "          any(c in string.punctuation for c in password)):\n",
    "        print(\"Strong password\")\n",
    "    else:\n",
    "        print(\"Weak password\")\n",
    "\n",
    "CHECK(\"abc13123j23@\")"
   ]
  },
  {
   "cell_type": "code",
   "execution_count": 36,
   "id": "0a41ac53-c326-483a-9a65-e9a958039274",
   "metadata": {},
   "outputs": [],
   "source": [
    "# 7.Python random modulu ilə 1–10 arasında bir ədəd seçsin.\n",
    "# istifadəçiyə 3 haqq verilsin – doğru tapana qədər while dövrü ilə getsin."
   ]
  },
  {
   "cell_type": "code",
   "execution_count": 42,
   "id": "d9dc7be2-45f7-420f-a74f-4c2e7b0f5ba3",
   "metadata": {},
   "outputs": [
    {
     "name": "stdin",
     "output_type": "stream",
     "text": [
      "Quess a number:  1\n",
      "Quess a number:  2\n",
      "Quess a number:  3\n"
     ]
    },
    {
     "name": "stdout",
     "output_type": "stream",
     "text": [
      "Correct\n"
     ]
    }
   ],
   "source": [
    "import random\n",
    "X = random.randint(1, 10)\n",
    "C = 0\n",
    "while C != 3:\n",
    "    Y = int(input(\"Quess a number: \"))\n",
    "    if Y == X:\n",
    "        print(\"Correct\")\n",
    "        break\n",
    "    else:\n",
    "        C += 1"
   ]
  }
 ],
 "metadata": {
  "kernelspec": {
   "display_name": "Python [conda env:base] *",
   "language": "python",
   "name": "conda-base-py"
  },
  "language_info": {
   "codemirror_mode": {
    "name": "ipython",
    "version": 3
   },
   "file_extension": ".py",
   "mimetype": "text/x-python",
   "name": "python",
   "nbconvert_exporter": "python",
   "pygments_lexer": "ipython3",
   "version": "3.12.7"
  }
 },
 "nbformat": 4,
 "nbformat_minor": 5
}
