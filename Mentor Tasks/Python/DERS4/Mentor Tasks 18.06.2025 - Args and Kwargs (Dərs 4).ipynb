{
 "cells": [
  {
   "cell_type": "code",
   "execution_count": 1,
   "id": "d9559db6",
   "metadata": {},
   "outputs": [],
   "source": [
    "# 1. Bir funksiya yaradın ki, həmin funksiyaya bir neçə string (söz) göndərəndə, həmin sözlər arasında ən uzun və ən qısa\n",
    "# olanları taparaq qaytarsın. (*args istifadə edin)\n"
   ]
  },
  {
   "cell_type": "code",
   "execution_count": 2,
   "id": "38020d37-a760-4f16-aa72-d38d37759d80",
   "metadata": {},
   "outputs": [
    {
     "name": "stdout",
     "output_type": "stream",
     "text": [
      "MAX: Salaaaam\n",
      "MIN: Alo\n"
     ]
    }
   ],
   "source": [
    "def LEN(*ARGS):\n",
    "    L = []\n",
    "    for i in ARGS:\n",
    "        L.append(i)\n",
    "    A = L[0]\n",
    "    B = L[0]\n",
    "    for i in L:\n",
    "        if len(i) > len(A):\n",
    "            A = i\n",
    "        elif len(i) < len(B):\n",
    "            B = i\n",
    "    print(\"MAX:\", A)\n",
    "    print(\"MIN:\", B)\n",
    "LEN(\"Hello\", \"Alo\", \"Salaaaam\")"
   ]
  },
  {
   "cell_type": "code",
   "execution_count": 3,
   "id": "a709a851",
   "metadata": {},
   "outputs": [],
   "source": [
    "# 2. Bir neçə ədəd qəbul edən və bu ədədlərin kvadratı, kubu və s. qüvvətli cəmlərini qaytaran bir funksiya yazın.\n",
    "# (*args istifadə edin)"
   ]
  },
  {
   "cell_type": "code",
   "execution_count": 13,
   "id": "6fe7145e-db19-4d43-acad-21ad494ecea4",
   "metadata": {},
   "outputs": [
    {
     "name": "stdout",
     "output_type": "stream",
     "text": [
      "30\n"
     ]
    }
   ],
   "source": [
    "def POW(*ARGS):\n",
    "    L = []\n",
    "    for i in ARGS:\n",
    "        L.append(i)\n",
    "    Z = L[0]\n",
    "    L.pop(0)\n",
    "    X = []\n",
    "    for i in L:\n",
    "        X.append(i ** Z)\n",
    "    COUNT = 0\n",
    "    for i in X:\n",
    "        COUNT += i\n",
    "    print(COUNT)\n",
    "POW(2, 1, 2, 3, 4)"
   ]
  },
  {
   "cell_type": "code",
   "execution_count": 8,
   "id": "615d3c5c",
   "metadata": {},
   "outputs": [],
   "source": [
    "# 3. Bir neçə ədəd qəbul edən və həmin ədədlərin ortalamasını qaytaran bir funksiya yazın. Əgər heç bir ədəd göndərilməzsə,\n",
    "# \"Heç bir rəqəm daxil edilmədi\" mesajını qaytarsın. (*args istifadə edin)"
   ]
  },
  {
   "cell_type": "code",
   "execution_count": 21,
   "id": "07d20800-00d5-4d7d-8489-cd137dd58d2d",
   "metadata": {},
   "outputs": [
    {
     "name": "stdout",
     "output_type": "stream",
     "text": [
      "2.0\n",
      "Heç bir rəqəm daxil edilmədi\n"
     ]
    }
   ],
   "source": [
    "def AVG(*ARGS):\n",
    "    if len(ARGS) == 0:\n",
    "        return \"Heç bir rəqəm daxil edilmədi\"\n",
    "    else:\n",
    "        return sum(ARGS) / len(ARGS)\n",
    "        \n",
    "print(AVG(1, 2, 3))  \n",
    "print(AVG())            "
   ]
  },
  {
   "cell_type": "code",
   "execution_count": null,
   "id": "a4b2504c",
   "metadata": {},
   "outputs": [],
   "source": [
    "# 4. İstənilən sayda key-value argument qəbul edən və onları bir-bir çap edən bir funksiya yazın.\n",
    "# (**Kwargs və for istifadə edin)\n"
   ]
  },
  {
   "cell_type": "code",
   "execution_count": 30,
   "id": "8dd324aa-215a-4f6b-a7ed-c3717b2d378f",
   "metadata": {},
   "outputs": [
    {
     "name": "stdout",
     "output_type": "stream",
     "text": [
      "KEY1 1\n",
      "KEY2 2\n"
     ]
    }
   ],
   "source": [
    "def PD(**KWARGS):\n",
    "    for key, value in KWARGS.items():\n",
    "        print(key, value)\n",
    "\n",
    "PD(KEY1=1, KEY2=2)"
   ]
  },
  {
   "cell_type": "code",
   "execution_count": null,
   "id": "fb6f642f",
   "metadata": {},
   "outputs": [],
   "source": [
    "# 5. Əsas qiymətə endirim və vergi əlavə etməklə son qiyməti hesablayan bir funksiya yazın.\n",
    "# (**Kwargs və get funksiyasından istifadə edin)\n"
   ]
  },
  {
   "cell_type": "code",
   "execution_count": 57,
   "id": "f0c71451-5f46-4252-a472-f01eb6b69426",
   "metadata": {},
   "outputs": [
    {
     "name": "stdout",
     "output_type": "stream",
     "text": [
      "1 value = 98.0\n",
      "2 value = 4.04\n"
     ]
    }
   ],
   "source": [
    "def COUNT(**KWARGS):   \n",
    "    C = 1\n",
    "    for i in KWARGS.values():\n",
    "        A = i[0] - i[0] * i[1] / 100 + i[0] * i[2] / 100 \n",
    "        print(C, \"value =\", A)\n",
    "        C += 1\n",
    "COUNT(ITEM1 = (100, 10, 8), ITEM2 = (4, 5, 6))    "
   ]
  },
  {
   "cell_type": "code",
   "execution_count": 44,
   "id": "6a9e0ca4",
   "metadata": {},
   "outputs": [],
   "source": [
    "# 6. İstənilən sayda key-value argument qəbul edən və istifadəçi haqqında profil yaradan bir funksiya yazın.\n",
    "# (**Kwargs və for istifadə edin)"
   ]
  },
  {
   "cell_type": "code",
   "execution_count": 39,
   "id": "ad09ef56-0e85-44d7-b2da-8c0854e15c39",
   "metadata": {},
   "outputs": [
    {
     "name": "stdout",
     "output_type": "stream",
     "text": [
      "Name : Fakhri\n",
      "Age : 20\n",
      "Gender : M\n"
     ]
    }
   ],
   "source": [
    "def PROFILE(**KWARGS):\n",
    "    for key, value in KWARGS.items():\n",
    "        print(key, \":\", value)\n",
    "\n",
    "PROFILE(Name=\"Fakhri\", Age=\"20\", Gender=\"M\")"
   ]
  }
 ],
 "metadata": {
  "kernelspec": {
   "display_name": "Python [conda env:base] *",
   "language": "python",
   "name": "conda-base-py"
  },
  "language_info": {
   "codemirror_mode": {
    "name": "ipython",
    "version": 3
   },
   "file_extension": ".py",
   "mimetype": "text/x-python",
   "name": "python",
   "nbconvert_exporter": "python",
   "pygments_lexer": "ipython3",
   "version": "3.12.7"
  }
 },
 "nbformat": 4,
 "nbformat_minor": 5
}
