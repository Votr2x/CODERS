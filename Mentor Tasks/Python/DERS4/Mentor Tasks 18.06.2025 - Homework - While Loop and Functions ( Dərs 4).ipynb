{
 "cells": [
  {
   "cell_type": "code",
   "execution_count": 1,
   "id": "4c79b084-84a1-416e-9684-036e0e7a1b7a",
   "metadata": {},
   "outputs": [],
   "source": [
    "# 1. Verilmiş bir rəqəmin faktoriyalını tapın. Məsələn, 5! = 5 × 4 × 3 × 2 × 1 = 120. (while ilə)"
   ]
  },
  {
   "cell_type": "code",
   "execution_count": 8,
   "id": "af03710b-db97-4572-bb3e-e16c3fe5f847",
   "metadata": {},
   "outputs": [
    {
     "name": "stdin",
     "output_type": "stream",
     "text": [
      "Enter your number 5\n"
     ]
    },
    {
     "name": "stdout",
     "output_type": "stream",
     "text": [
      "120\n"
     ]
    }
   ],
   "source": [
    "X = int(input(\"Enter your number\"))\n",
    "Z = 1\n",
    "while X != 0:\n",
    "    Z = Z * X\n",
    "    X -= 1\n",
    "print(Z)"
   ]
  },
  {
   "cell_type": "code",
   "execution_count": 3,
   "id": "69c3e840-aa64-42f3-9184-331d9d02ad2c",
   "metadata": {},
   "outputs": [],
   "source": [
    "# 2. İki rəqəmi qəbul edən və onların cəmini qaytaran bir funksiya yazın."
   ]
  },
  {
   "cell_type": "code",
   "execution_count": 12,
   "id": "267ba928-61a6-4ebe-a742-22e70f21de4b",
   "metadata": {},
   "outputs": [
    {
     "name": "stdout",
     "output_type": "stream",
     "text": [
      "3\n"
     ]
    }
   ],
   "source": [
    "def SUMM(X, Y):\n",
    "    print(X + Y)\n",
    "SUMM(1, 2)"
   ]
  },
  {
   "cell_type": "code",
   "execution_count": 5,
   "id": "95a300dd-b9de-4eb3-986d-eba52a7535f0",
   "metadata": {},
   "outputs": [],
   "source": [
    "# 3. Bir string qəbul edən və onun uzunluğunu qaytaran bir funksiya yazın."
   ]
  },
  {
   "cell_type": "code",
   "execution_count": 15,
   "id": "2bd12bc0-ffce-4f8e-b089-817ba4e58ab5",
   "metadata": {},
   "outputs": [
    {
     "name": "stdout",
     "output_type": "stream",
     "text": [
      "5\n"
     ]
    }
   ],
   "source": [
    "def STR(X):\n",
    "    print(len(X))\n",
    "STR(\"Hello\")"
   ]
  },
  {
   "cell_type": "code",
   "execution_count": 7,
   "id": "d6162894-5218-4820-8617-1d34a41862ee",
   "metadata": {},
   "outputs": [],
   "source": [
    "# 4. Verilmiş bir rəqəmin kvadratını qaytaran bir funksiya yazın."
   ]
  },
  {
   "cell_type": "code",
   "execution_count": 16,
   "id": "2edb2038-f38f-4e77-875f-b542c1aeb9f8",
   "metadata": {},
   "outputs": [
    {
     "name": "stdout",
     "output_type": "stream",
     "text": [
      "4\n"
     ]
    }
   ],
   "source": [
    "def POW(X):\n",
    "    print(X ** 2)\n",
    "POW(2)"
   ]
  },
  {
   "cell_type": "code",
   "execution_count": 9,
   "id": "55862aaa-360e-42e1-b643-4d5bb930dee1",
   "metadata": {},
   "outputs": [],
   "source": [
    "# 5. Bir ad qəbul edən və həmin şəxsə salam verən bir funksiya yazın."
   ]
  },
  {
   "cell_type": "code",
   "execution_count": 18,
   "id": "3bdfbd8c-d1e6-45d1-b2fd-c3c098f98397",
   "metadata": {},
   "outputs": [
    {
     "name": "stdout",
     "output_type": "stream",
     "text": [
      "Salam: Fakhri\n"
     ]
    }
   ],
   "source": [
    "def SALAM(X):\n",
    "    print(\"Salam:\", X)\n",
    "SALAM(\"Fakhri\")"
   ]
  },
  {
   "cell_type": "code",
   "execution_count": 11,
   "id": "8a36306d-ba62-4b01-80f9-da4bdcd18414",
   "metadata": {},
   "outputs": [],
   "source": [
    "# 6. Verilmiş rəqəmin cüt və ya tək olduğunu qaytaran bir funksiya yazın."
   ]
  },
  {
   "cell_type": "code",
   "execution_count": 19,
   "id": "e74f668c-5b44-4648-b93a-5374b191f3be",
   "metadata": {},
   "outputs": [
    {
     "name": "stdout",
     "output_type": "stream",
     "text": [
      "4 is even\n"
     ]
    }
   ],
   "source": [
    "def NUMOE(X):\n",
    "    if (X % 2) == 0:\n",
    "        print(X, \"is even\")\n",
    "    elif (X % 2) == 1:\n",
    "        print(X, \"is odd\")\n",
    "    else:\n",
    "        print(X, \"is 0\")\n",
    "NUMOE(4)"
   ]
  },
  {
   "cell_type": "code",
   "execution_count": 13,
   "id": "a76dbc46-ca98-4a73-8fd9-1d838a4ffaa5",
   "metadata": {},
   "outputs": [],
   "source": [
    "# 7. Bir listdəki rəqəmləri qəbul edən və həmin rəqəmlərdən hansının cüt,\n",
    "# hansının tək olduğunu qaytaran bir funksiya yazın."
   ]
  },
  {
   "cell_type": "code",
   "execution_count": 22,
   "id": "527e9f10-cf9b-40e1-b084-3dad96086c37",
   "metadata": {},
   "outputs": [
    {
     "name": "stdout",
     "output_type": "stream",
     "text": [
      "1 is odd\n",
      "2 is even\n",
      "3 is odd\n",
      "4 is even\n",
      "5 is odd\n"
     ]
    }
   ],
   "source": [
    "def LEO(X):\n",
    "    for i in X:\n",
    "        if (i % 2) == 0:\n",
    "            print(i, \"is even\")\n",
    "        elif (i % 2) == 1:\n",
    "            print(i, \"is odd\")\n",
    "        else:\n",
    "            print(i, \"is 0\")\n",
    "A = [1, 2, 3, 4, 5]\n",
    "LEO(A)"
   ]
  },
  {
   "cell_type": "code",
   "execution_count": 15,
   "id": "187de77e-e11c-4434-b08b-70c679f703b3",
   "metadata": {},
   "outputs": [],
   "source": [
    "# 8. Verilmiş bir rəqəmin faktoriyalını hesablayan bir funksiya yazın. (For loop istifadə edin)"
   ]
  },
  {
   "cell_type": "code",
   "execution_count": 33,
   "id": "bacebca7-a1a9-4a21-9bec-3cb3c2acb8eb",
   "metadata": {},
   "outputs": [
    {
     "name": "stdout",
     "output_type": "stream",
     "text": [
      "120\n"
     ]
    }
   ],
   "source": [
    "def FACT(X):\n",
    "    L = []\n",
    "    Z = 1\n",
    "    while X != 0:\n",
    "        L.append(X)\n",
    "        X -= 1\n",
    "    for i in L:\n",
    "        Z *= i\n",
    "    print(Z)\n",
    "FACT(5)"
   ]
  },
  {
   "cell_type": "code",
   "execution_count": 32,
   "id": "eee33ea1-54dd-49ce-8d96-064625dafa4c",
   "metadata": {},
   "outputs": [],
   "source": [
    "# 9. Verilmiş yaşa görə istifadəçinin yaş kateqoriyasını müəyyən edən bir funksiya yazın.\n",
    "# If-elif-else istifadə edin."
   ]
  },
  {
   "cell_type": "code",
   "execution_count": 34,
   "id": "2e8ff7f7-fe42-49ac-ba36-5cc5bad27178",
   "metadata": {},
   "outputs": [
    {
     "name": "stdout",
     "output_type": "stream",
     "text": [
      "25 is middle age\n"
     ]
    }
   ],
   "source": [
    "def AGE(X):\n",
    "    if X >= 50:\n",
    "        print(X, \"is old\")\n",
    "    elif 20 <= X < 50:\n",
    "        print(X, \"is middle age\")\n",
    "    else:\n",
    "        print(X, \"is young\")\n",
    "AGE(25)"
   ]
  },
  {
   "cell_type": "code",
   "execution_count": 1,
   "id": "066db5c5-697a-4dae-9955-5057bea5a16e",
   "metadata": {},
   "outputs": [],
   "source": [
    "# 10. İki rəqəm qəbul edən və əgər ikincisi birincidən böyükdürsə \"True\", əks halda\n",
    "# \"False\" qaytaran bir funksiya yaradın."
   ]
  },
  {
   "cell_type": "code",
   "execution_count": 35,
   "id": "a1faf1e4-27a0-41c8-a9e0-e2d8bff0c1fc",
   "metadata": {},
   "outputs": [
    {
     "data": {
      "text/plain": [
       "True"
      ]
     },
     "execution_count": 35,
     "metadata": {},
     "output_type": "execute_result"
    }
   ],
   "source": [
    "def CHECK(X, Y):\n",
    "    if Y > X:\n",
    "        return True\n",
    "    elif X > Y:\n",
    "        return False\n",
    "    else:\n",
    "        print(X, \" = \", Y)\n",
    "CHECK(5, 10)"
   ]
  },
  {
   "cell_type": "code",
   "execution_count": 3,
   "id": "741e41c3-df38-43e4-8a16-eaa337a000a0",
   "metadata": {},
   "outputs": [],
   "source": [
    "# 11. Verilmiş bir tam ədədin rəqəmlərini tərsinə çevirin. Məsələn, 12345 üçün nəticə 54321 olmalıdır."
   ]
  },
  {
   "cell_type": "code",
   "execution_count": 36,
   "id": "70716fc5-35ca-4702-939e-e95141ca613a",
   "metadata": {},
   "outputs": [
    {
     "name": "stdout",
     "output_type": "stream",
     "text": [
      "54321\n"
     ]
    }
   ],
   "source": [
    "def REVERSE(X):\n",
    "    print(X[::-1])\n",
    "REVERSE(\"12345\")"
   ]
  },
  {
   "cell_type": "code",
   "execution_count": 71,
   "id": "547db986-1c2e-47de-85d2-00f0c23553a3",
   "metadata": {},
   "outputs": [],
   "source": [
    "# 12. Təsadüfi olaraq 1-dən 10-a qədər bir rəqəm təyin edən, təsadüfi rəqəm seçən və\n",
    "# rəqəm daxil etdikcə bu rəqəmi təxmin etməyə çalışan bir proqram yazın.\n",
    "# Hər təxmin etdikdə rəqəmin kiçik və ya böyük olduğunu deyin.\n",
    "# Doğru rəqəm tapılana qədər loop davam etsin və sonunda \"Təbriklər! Doğru rəqəmi tapdınız!\"\n",
    "# mesajı çap edilsin"
   ]
  },
  {
   "cell_type": "code",
   "execution_count": 72,
   "id": "86ec40fd-c954-47ef-be45-0ca098b4167e",
   "metadata": {},
   "outputs": [
    {
     "name": "stdin",
     "output_type": "stream",
     "text": [
      "Enter your guess 1\n"
     ]
    },
    {
     "name": "stdout",
     "output_type": "stream",
     "text": [
      "Try more\n"
     ]
    },
    {
     "name": "stdin",
     "output_type": "stream",
     "text": [
      "Enter your guess 2\n"
     ]
    },
    {
     "name": "stdout",
     "output_type": "stream",
     "text": [
      "Try more\n"
     ]
    },
    {
     "name": "stdin",
     "output_type": "stream",
     "text": [
      "Enter your guess 3\n"
     ]
    },
    {
     "name": "stdout",
     "output_type": "stream",
     "text": [
      "Try more\n"
     ]
    },
    {
     "name": "stdin",
     "output_type": "stream",
     "text": [
      "Enter your guess 4\n"
     ]
    },
    {
     "name": "stdout",
     "output_type": "stream",
     "text": [
      "Found!\n"
     ]
    }
   ],
   "source": [
    "def RAND():\n",
    "    Y = random.choice(range(1, 11))\n",
    "    while True:\n",
    "        X = int(input(\"Enter your guess\"))\n",
    "        if X > Y:\n",
    "            print(\"Try less\")\n",
    "        elif X < Y:\n",
    "            print(\"Try more\")\n",
    "        else:\n",
    "            print(\"Found!\")\n",
    "            break\n",
    "RAND()"
   ]
  },
  {
   "cell_type": "code",
   "execution_count": 61,
   "id": "6ac87a19-4469-4796-9028-9e210a918d81",
   "metadata": {},
   "outputs": [],
   "source": [
    "# 13. Bir listdəki max və min dəyərləri qaytaran bir funksiya yazın. (For loop və if istifadə edin)"
   ]
  },
  {
   "cell_type": "code",
   "execution_count": 65,
   "id": "91ad2577-fd23-40be-ad42-0ea5c67fd766",
   "metadata": {},
   "outputs": [
    {
     "name": "stdout",
     "output_type": "stream",
     "text": [
      "Min value is 1\n",
      "Max value is 15\n"
     ]
    }
   ],
   "source": [
    "def MINMAX(X):\n",
    "    MIN = X[0]\n",
    "    MAX = X[0]\n",
    "    for i in X:\n",
    "        if i < MIN:\n",
    "            MIN = i\n",
    "        elif i > MAX:\n",
    "            MAX = i\n",
    "    print(\"Min value is\", MIN)\n",
    "    print(\"Max value is\", MAX)\n",
    "X = [2, 4, 10, 1, 15]\n",
    "MINMAX(X)"
   ]
  },
  {
   "cell_type": "code",
   "execution_count": 11,
   "id": "750cba51-8fc4-4d57-b2ce-e9a632f133d1",
   "metadata": {},
   "outputs": [],
   "source": [
    "# 14. Bir listdəki rəqəmlərin ortalamasını qaytaran bir funksiya yazın."
   ]
  },
  {
   "cell_type": "code",
   "execution_count": 66,
   "id": "d2821b04-9f43-4453-a171-837056e7263e",
   "metadata": {},
   "outputs": [
    {
     "name": "stdout",
     "output_type": "stream",
     "text": [
      "3.0\n"
     ]
    }
   ],
   "source": [
    "def MEAN(X):\n",
    "    Z = 0\n",
    "    for i in X:\n",
    "        Z += i\n",
    "    print(Z/len(X))\n",
    "X = [1, 2, 3, 4, 5]\n",
    "MEAN(X)"
   ]
  },
  {
   "cell_type": "code",
   "execution_count": null,
   "id": "d0469ab4-cb9b-4c86-aa0a-18a9226c99ac",
   "metadata": {},
   "outputs": [],
   "source": [
    "# 15. Verilmiş bir stringdə neçə söz olduğunu qaytaran bir funksiya yazın. (For loop istifadə edin)"
   ]
  },
  {
   "cell_type": "code",
   "execution_count": 70,
   "id": "1ab6f9d4-0c93-4981-9da3-a1ed46cab0a7",
   "metadata": {},
   "outputs": [
    {
     "name": "stdout",
     "output_type": "stream",
     "text": [
      "Number of words 2\n"
     ]
    }
   ],
   "source": [
    "def STR(X):\n",
    "    Z = []\n",
    "    for i in X.split():\n",
    "        Z.append(i)\n",
    "    print(\"Number of words\", len(Z))\n",
    "STR(\"Hello world\")"
   ]
  }
 ],
 "metadata": {
  "kernelspec": {
   "display_name": "Python [conda env:base] *",
   "language": "python",
   "name": "conda-base-py"
  },
  "language_info": {
   "codemirror_mode": {
    "name": "ipython",
    "version": 3
   },
   "file_extension": ".py",
   "mimetype": "text/x-python",
   "name": "python",
   "nbconvert_exporter": "python",
   "pygments_lexer": "ipython3",
   "version": "3.12.7"
  }
 },
 "nbformat": 4,
 "nbformat_minor": 5
}
