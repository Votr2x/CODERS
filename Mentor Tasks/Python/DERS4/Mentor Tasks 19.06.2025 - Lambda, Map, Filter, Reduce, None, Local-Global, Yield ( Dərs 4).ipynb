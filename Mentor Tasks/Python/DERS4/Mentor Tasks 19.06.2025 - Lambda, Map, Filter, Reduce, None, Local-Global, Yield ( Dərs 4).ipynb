{
 "cells": [
  {
   "cell_type": "code",
   "execution_count": 1,
   "id": "41e5bf74",
   "metadata": {},
   "outputs": [],
   "source": [
    "# 1. Verilmiş bir listdə yalnız cüt rəqəmlərin kvadratlarını tapın və onların cəmini hesablayın.\n",
    "# (lambda, map, filter, reduce istifadə edin)\n",
    "# numbers = [1, 2, 3, 4, 5, 6, 7, 8, 9]"
   ]
  },
  {
   "cell_type": "code",
   "execution_count": 3,
   "id": "7f3a5d9c-cf4d-417b-870c-4ee046730d8e",
   "metadata": {},
   "outputs": [
    {
     "name": "stdout",
     "output_type": "stream",
     "text": [
      "120\n"
     ]
    }
   ],
   "source": [
    "numbers = [1, 2, 3, 4, 5, 6, 7, 8, 9]\n",
    "calc = sum(map(lambda x: x ** 2 if x % 2 == 0 else 0, numbers))\n",
    "print(calc)"
   ]
  },
  {
   "cell_type": "code",
   "execution_count": 42,
   "id": "101db029-b073-4989-8bf5-19a8e124b7c5",
   "metadata": {},
   "outputs": [
    {
     "data": {
      "text/plain": [
       "120"
      ]
     },
     "execution_count": 42,
     "metadata": {},
     "output_type": "execute_result"
    }
   ],
   "source": [
    "result=reduce(lambda x,y:x+y,map(lambda x:x**2,filter(lambda x:x%2==0,numbers)))\n",
    "result"
   ]
  },
  {
   "cell_type": "code",
   "execution_count": 15,
   "id": "e762dea9",
   "metadata": {},
   "outputs": [],
   "source": [
    "# 2. Verilmiş listdəki yalnız uzunluğu 5-dən böyük olan sözləri böyük hərflərə çevirin və yeni list yaradın.\n",
    "# (lambda, map, filter istifadə edin)\n",
    "# words = [\"python\", \"lambda\", \"map\", \"filter\", \"reduce\", \"function\", \"example\"]"
   ]
  },
  {
   "cell_type": "code",
   "execution_count": 43,
   "id": "3eb62e78-93f4-4285-9168-59b192bf1418",
   "metadata": {},
   "outputs": [
    {
     "name": "stdout",
     "output_type": "stream",
     "text": [
      "['PYTHON', 'LAMBDA', 'FILTER', 'REDUCE', 'FUNCTION', 'EXAMPLE']\n"
     ]
    }
   ],
   "source": [
    "words = [\"python\", \"lambda\", \"map\", \"filter\", \"reduce\", \"function\", \"example\"]\n",
    "\n",
    "L = list(map(lambda x: x.upper() if len(x) > 5 else 0, words))\n",
    "for i in L:\n",
    "    if i == 0:\n",
    "        L.remove(i)\n",
    "print(L)"
   ]
  },
  {
   "cell_type": "code",
   "execution_count": 48,
   "id": "03404e35-8576-4054-889f-1054265dca87",
   "metadata": {},
   "outputs": [
    {
     "data": {
      "text/plain": [
       "['PYTHON', 'LAMBDA', 'FILTER', 'REDUCE', 'FUNCTION', 'EXAMPLE']"
      ]
     },
     "execution_count": 48,
     "metadata": {},
     "output_type": "execute_result"
    }
   ],
   "source": [
    "L = list(map(lambda x: x.upper(), filter(lambda x:len(x) > 5, words)))\n",
    "L"
   ]
  },
  {
   "cell_type": "code",
   "execution_count": 17,
   "id": "2c04301a",
   "metadata": {},
   "outputs": [],
   "source": [
    "# 3. Verilmiş listdəki yalnız tək rəqəmlərin kublarını tapın və yeni bir listdə qaytarın.\n",
    "# (lambda, map, filter istifadə edin)\n",
    "# numbers_3 = [1, 2, 3, 4, 5, 6, 7, 8, 9]"
   ]
  },
  {
   "cell_type": "code",
   "execution_count": 23,
   "id": "6a24d296-2ec3-4ea1-9e79-9f6a6236a315",
   "metadata": {},
   "outputs": [
    {
     "name": "stdout",
     "output_type": "stream",
     "text": [
      "[1, 27, 125, 343, 729]\n"
     ]
    }
   ],
   "source": [
    "numbers_3 = [1, 2, 3, 4, 5, 6, 7, 8, 9]\n",
    "L = list(map(lambda x: x ** 3 if x % 2 == 1 else 0, numbers_3))\n",
    "for i in L:\n",
    "    if i == 0:\n",
    "        L.remove(i)\n",
    "print(L)"
   ]
  },
  {
   "cell_type": "code",
   "execution_count": 19,
   "id": "9700c7e8",
   "metadata": {},
   "outputs": [],
   "source": [
    "# 4. Verilən listlərdəki ortaq elementləri tapın və onların cəmini hesablayın.\n",
    "# (lambda, filter, reduce istifadə edin)\n",
    "# list1 = [1, 2, 3, 4, 5]\n",
    "# list2 = [4, 5, 6, 7, 8]"
   ]
  },
  {
   "cell_type": "code",
   "execution_count": 36,
   "id": "225e587f-1207-4468-9ed0-ce935abaddae",
   "metadata": {},
   "outputs": [
    {
     "name": "stdout",
     "output_type": "stream",
     "text": [
      "Total: 9\n"
     ]
    }
   ],
   "source": [
    "from functools import reduce\n",
    "\n",
    "list1 = [1, 2, 3, 4, 5]\n",
    "list2 = [4, 5, 6, 7, 8]\n",
    "\n",
    "common = list(filter(lambda x: x in list2, list1))\n",
    "total = reduce(lambda a, b: a + b, common)\n",
    "\n",
    "print(\"Total:\", total)"
   ]
  },
  {
   "cell_type": "code",
   "execution_count": 21,
   "id": "e5f02911",
   "metadata": {},
   "outputs": [],
   "source": [
    "# 5. Verilmiş rəqəmlərin kvadratlarını və kublarını listdə saxlayın.\n",
    "# (lambda, map, filter istifadə edin)\n",
    "# numbers_5 = [2, 3, 4]"
   ]
  },
  {
   "cell_type": "code",
   "execution_count": 52,
   "id": "c33e4574-ac74-4bf2-8526-6d871b531b2d",
   "metadata": {},
   "outputs": [
    {
     "name": "stdout",
     "output_type": "stream",
     "text": [
      "[(4, 8), (9, 27), (16, 64)]\n"
     ]
    }
   ],
   "source": [
    "numbers_5 = [2, 3, 4]\n",
    "x = list(map(lambda x: (x ** 2,x ** 3), numbers_5))\n",
    "print(x)"
   ]
  },
  {
   "cell_type": "code",
   "execution_count": 23,
   "id": "5c3505ad",
   "metadata": {},
   "outputs": [],
   "source": [
    "# 6. Verilmiş listdəki hər bir rəqəmi kvadrata yüksəldin, yalnız 100-dən kiçik olanları qaytarın.\n",
    "# (lambda, map, filter istifadə edin)\n",
    "# numbers_6 = [5, 10, 8, 15, 4]"
   ]
  },
  {
   "cell_type": "code",
   "execution_count": 54,
   "id": "16c638e7-3ef5-4669-92e7-44daf6efd63d",
   "metadata": {},
   "outputs": [
    {
     "name": "stdout",
     "output_type": "stream",
     "text": [
      "[25, 64, 16]\n"
     ]
    }
   ],
   "source": [
    "numbers_6 = [5, 10, 8, 15, 4]\n",
    "L = list(map(lambda x: x ** 2, filter(lambda x: x ** 2 < 100, numbers_6)))\n",
    "print(L)"
   ]
  },
  {
   "cell_type": "code",
   "execution_count": 25,
   "id": "2528e183",
   "metadata": {},
   "outputs": [],
   "source": [
    "# 7. İki rəqəmli cütlərdən ibarət bir list verilir. Hər cütdəki ən böyük rəqəmi seçin və hamısının cəmini hesablayın.\n",
    "# (lambda, map, reduce istifadə edin)\n",
    "# pairs = [(10, 5), (3, 7), (8, 2), (6, 6)]"
   ]
  },
  {
   "cell_type": "code",
   "execution_count": 41,
   "id": "06de826f-f617-4e9c-804d-b88cd645d5f1",
   "metadata": {},
   "outputs": [
    {
     "name": "stdout",
     "output_type": "stream",
     "text": [
      "31\n"
     ]
    }
   ],
   "source": [
    "from functools import reduce\n",
    "\n",
    "pairs = [(10, 5), (3, 7), (8, 2), (6, 6)]\n",
    "\n",
    "max_values = list(map(lambda x: max(x), pairs))\n",
    "total = reduce(lambda a, b: a + b, max_values)\n",
    "\n",
    "print(total)"
   ]
  },
  {
   "cell_type": "code",
   "execution_count": 55,
   "id": "432322a5",
   "metadata": {},
   "outputs": [],
   "source": [
    "# 8. Verilmiş listdə hərf sayı üç hərfdən çox olan sözləri saxlayın.\n",
    "# (lambda, filter istifadə edin)\n",
    "# words_8 = [\"cat\", \"dog\", \"elephant\", \"rat\", \"fish\"]"
   ]
  },
  {
   "cell_type": "code",
   "execution_count": 1,
   "id": "3bdb8607-0dbf-4be5-8c66-f18d9a81887e",
   "metadata": {},
   "outputs": [
    {
     "name": "stdout",
     "output_type": "stream",
     "text": [
      "['elephant', 'fish']\n"
     ]
    }
   ],
   "source": [
    "words_8 = [\"cat\", \"dog\", \"elephant\", \"rat\", \"fish\"]\n",
    "x = list(filter(lambda x: len(x) > 3, words_8))\n",
    "print(x)"
   ]
  },
  {
   "cell_type": "code",
   "execution_count": 29,
   "id": "a8537902",
   "metadata": {},
   "outputs": [],
   "source": [
    "# 9. Verilmiş listdəki ən kiçik rəqəmi tapmaq üçün reduce istifadə edin.\n",
    "# numbers = [20, 34, 12, 78, 5, 42]"
   ]
  },
  {
   "cell_type": "code",
   "execution_count": 11,
   "id": "279a0231-2c00-4f36-98ac-90cc59c5d777",
   "metadata": {},
   "outputs": [
    {
     "name": "stdout",
     "output_type": "stream",
     "text": [
      "78\n"
     ]
    }
   ],
   "source": [
    "from functools import reduce\n",
    "numbers = [20, 34, 12, 78, 5, 42]\n",
    "x =  reduce(lambda x, y: x if x > y else y, numbers)\n",
    "print(x)"
   ]
  },
  {
   "cell_type": "code",
   "execution_count": 31,
   "id": "de53ccbb",
   "metadata": {},
   "outputs": [],
   "source": [
    "# 10. Elə bir funksiya yazın ki, verilmiş listdə yalnız None olmayan elementləri saxlayaraq yeni list qaytarsın.\n",
    "# data_10 = [5, None, 3, None, 9, None, 2]"
   ]
  },
  {
   "cell_type": "code",
   "execution_count": 15,
   "id": "bf91e2ee-2fe9-463c-8796-29ba02ab3a2d",
   "metadata": {},
   "outputs": [
    {
     "name": "stdout",
     "output_type": "stream",
     "text": [
      "[5, 3, 9, 2]\n"
     ]
    }
   ],
   "source": [
    "data_10 = [5, None, 3, None, 9, None, 2]\n",
    "check = list(filter(lambda x: x != None, data_10))\n",
    "print(check)"
   ]
  },
  {
   "cell_type": "code",
   "execution_count": 33,
   "id": "da4eda5d",
   "metadata": {},
   "outputs": [],
   "source": [
    "# 11. İki parametri qəbul edən bir funksiya yazın. Əgər hər iki parametr None-dırsa, \"Hər ikisi None\" mesajını qaytarsın.\n",
    "# Əgər biri None, digəri dəyərdirsə, \"Biri None, biri dəyərdir\" mesajını qaytarsın.\n",
    "# Əgər ikisi də dəyərə malikdirsə, hər iki dəyərin cəmini qaytarsın.          "
   ]
  },
  {
   "cell_type": "code",
   "execution_count": 22,
   "id": "3804ad21-9d44-4b5a-9c44-ea501f204270",
   "metadata": {},
   "outputs": [
    {
     "name": "stdout",
     "output_type": "stream",
     "text": [
      "Both None\n",
      "One is None\n"
     ]
    },
    {
     "data": {
      "text/plain": [
       "2"
      ]
     },
     "execution_count": 22,
     "metadata": {},
     "output_type": "execute_result"
    }
   ],
   "source": [
    "def SS(X1, X2):\n",
    "    if X1 == None and X2 == None:\n",
    "        print(\"Both None\")\n",
    "    elif X1 == None or X2 == None:\n",
    "        print(\"One is None\")\n",
    "    else:\n",
    "        return X1 + X2\n",
    "SS(None, None)\n",
    "SS(None, 1)\n",
    "SS(1, 1)"
   ]
  },
  {
   "cell_type": "code",
   "execution_count": 35,
   "id": "92903994",
   "metadata": {},
   "outputs": [],
   "source": [
    "# 12. İç-içə iki funksiya yazın. Xarici funksiyada bir dəyişən təyin edin (məsələn x = 10) və daxilində olan funksiyada\n",
    "# bu dəyişəni dəyişməyə çalışın (məsələn x = 20). Əgər dəyişiklik tətbiq edilə bilmirsə, daxilində olan funksiyada\n",
    "# eyni adda başqa bir lokal dəyişən yaradın və onu xarici funksiyada çap edin. Son olaraq əsas funksiyanı (xarici funksiyanı)\n",
    "# çağıranda bizə aşağıdakı kimi nəticə versin\n",
    "\n",
    "# Daxili funksiya içində x: 20\n",
    "# Xarici funksiya içində x: 10"
   ]
  },
  {
   "cell_type": "code",
   "execution_count": 5,
   "id": "67bac3ca-2b8c-4b1c-8128-cac6af3a5e26",
   "metadata": {},
   "outputs": [
    {
     "name": "stdout",
     "output_type": "stream",
     "text": [
      "IN 20\n",
      "OUT 10\n"
     ]
    }
   ],
   "source": [
    "def OUT():\n",
    "    X = 10\n",
    "    def IN():\n",
    "        X = 20\n",
    "        print(\"IN\", X)\n",
    "    IN()\n",
    "    print(\"OUT\", X)\n",
    "OUT()"
   ]
  },
  {
   "cell_type": "code",
   "execution_count": 37,
   "id": "8ecbb22c",
   "metadata": {},
   "outputs": [],
   "source": [
    "# 13. Qlobal bir dəyişən təyin edin (məsələn count = 0) bir funksiya yaradıb, həmin qlobal dəyişəni çağırın dəyərini dəyişdirin.\n",
    "# Əlavə olaraq,  funksiyada həmin dəyişənin dəyərini bir neçə dəfə artıraraq göstərməsini təmin edin.\n",
    "# Ən sonda dəyişəni təkrar çağırın və dəyərinə baxın."
   ]
  },
  {
   "cell_type": "code",
   "execution_count": 39,
   "id": "7458900f",
   "metadata": {},
   "outputs": [],
   "source": [
    "# 14. Bir generator funksiyası yazın ki, verilmiş hər hansısa bir listdəki sadəcə cüt rəqəmləri qaytarsın.\n",
    "# Funksiya yield istifadə edərək cüt rəqəmləri ardıcıl olaraq qaytarmalıdır."
   ]
  },
  {
   "cell_type": "code",
   "execution_count": 6,
   "id": "2463dcde-1cb5-49f3-bd45-46bc26a84809",
   "metadata": {},
   "outputs": [
    {
     "name": "stdout",
     "output_type": "stream",
     "text": [
      "[2, 4]\n"
     ]
    }
   ],
   "source": [
    "def even(func):\n",
    "    def wrapper(*args, **kwargs):\n",
    "        result = func(*args, **kwargs)\n",
    "        R = [x for x in result if x % 2 == 0]\n",
    "        return R\n",
    "    return wrapper\n",
    "\n",
    "@even\n",
    "def get_number(L):\n",
    "    return L\n",
    "\n",
    "print(get_number([1, 2, 3, 4]))  "
   ]
  }
 ],
 "metadata": {
  "kernelspec": {
   "display_name": "Python [conda env:base] *",
   "language": "python",
   "name": "conda-base-py"
  },
  "language_info": {
   "codemirror_mode": {
    "name": "ipython",
    "version": 3
   },
   "file_extension": ".py",
   "mimetype": "text/x-python",
   "name": "python",
   "nbconvert_exporter": "python",
   "pygments_lexer": "ipython3",
   "version": "3.12.7"
  }
 },
 "nbformat": 4,
 "nbformat_minor": 5
}
