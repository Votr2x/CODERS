{
 "cells": [
  {
   "cell_type": "code",
   "execution_count": 1,
   "id": "0fa3ca21",
   "metadata": {},
   "outputs": [],
   "source": [
    "# 1. Bir funksiya yazın ki, iki rəqəmi bir-birinə bölsün. Əgər ikinci rəqəm sıfır olarsa,\n",
    "# \"Sıfıra bölmək mümkün deyil!\" mesajını versin."
   ]
  },
  {
   "cell_type": "code",
   "execution_count": 17,
   "id": "56053cc2-d664-4df4-8bd1-ff02aaacb369",
   "metadata": {},
   "outputs": [
    {
     "name": "stdout",
     "output_type": "stream",
     "text": [
      "1.0\n"
     ]
    }
   ],
   "source": [
    "def div(a, b):\n",
    "    try:\n",
    "        if b == 0:\n",
    "            raise Exception(\"Cannot divide by zero!\")\n",
    "        print(a / b)\n",
    "    except Exception as E:\n",
    "        print(E)\n",
    "        \n",
    "div(1, 1)"
   ]
  },
  {
   "cell_type": "code",
   "execution_count": 3,
   "id": "0bae20e2",
   "metadata": {},
   "outputs": [],
   "source": [
    "# 2. Rəqəm daxil edilməsini istəyən bir funksiya yazın. Əgər rəqəm əvəzinə string daxil edilərsə,\n",
    "# \"Düzgün bir rəqəm daxil edin!\" mesajını versin."
   ]
  },
  {
   "cell_type": "code",
   "execution_count": 9,
   "id": "b630bef1-99e6-493a-9c7f-fcf6045782e6",
   "metadata": {},
   "outputs": [
    {
     "name": "stdout",
     "output_type": "stream",
     "text": [
      "Wrong input\n"
     ]
    }
   ],
   "source": [
    "def INT(a):\n",
    "    try:\n",
    "        if type(a) == str:\n",
    "            raise Exception(\"Wrong input\")\n",
    "        print(a)\n",
    "    except Exception as E:\n",
    "        print(E)\n",
    "INT(\"A\")"
   ]
  },
  {
   "cell_type": "code",
   "execution_count": 5,
   "id": "3b071483",
   "metadata": {},
   "outputs": [],
   "source": [
    "# 3. Listdən hər hansısa indeksi silən bir funksiya yazın. Əgər listdə olmayan bir indeks daxil edərsə,\n",
    "# \"Bu indeks mövcud deyil!\" mesajını versin."
   ]
  },
  {
   "cell_type": "code",
   "execution_count": 14,
   "id": "cd221040-d8f2-4adf-a063-b2911a5de3d3",
   "metadata": {},
   "outputs": [
    {
     "name": "stdout",
     "output_type": "stream",
     "text": [
      "[2, 3]\n",
      "4 is not in [1, 2, 3]\n"
     ]
    }
   ],
   "source": [
    "def RE(a, b):\n",
    "    try:\n",
    "        if b not in range(0, len(a)):\n",
    "            raise Exception(f'Index {b} is not in {a}')\n",
    "        a.pop(b)\n",
    "        print(a)\n",
    "    except Exception as E:\n",
    "        print(E)\n",
    "RE([1, 2, 3], 0)\n",
    "RE([1, 2, 3], 4)"
   ]
  },
  {
   "cell_type": "code",
   "execution_count": 7,
   "id": "bef8e91c",
   "metadata": {},
   "outputs": [],
   "source": [
    "# 4. Yaşın daxil edilməsini tələb edən bir funksiya yazın. Əgər 0 (sıfır) və ya daha kiçik bir dəyər daxil edilərsə,\n",
    "# raise ilə ValueError qaldırın. Düzgün rəqəm daxil edilsə, yaş else blokunda qaytarılsın.\n",
    "# Funksiya hər iki halda finally blokunda \"Giriş prosesi tamamlandı.\" mesajını versin."
   ]
  },
  {
   "cell_type": "code",
   "execution_count": 16,
   "id": "b6b79f85-e321-425a-b1cd-1198a10d20bb",
   "metadata": {},
   "outputs": [
    {
     "name": "stdout",
     "output_type": "stream",
     "text": [
      "Less than 0\n",
      "Execute\n"
     ]
    }
   ],
   "source": [
    "def AGE(a):\n",
    "    try:\n",
    "        if a <= 0:\n",
    "            raise ValueError(\"Less than 0\")\n",
    "    except ValueError as VE:\n",
    "        print(VE)\n",
    "    else:\n",
    "        print(f'Age: {a}')\n",
    "    finally:\n",
    "        print(\"Execute\")\n",
    "AGE(-1)"
   ]
  }
 ],
 "metadata": {
  "kernelspec": {
   "display_name": "Python [conda env:base] *",
   "language": "python",
   "name": "conda-base-py"
  },
  "language_info": {
   "codemirror_mode": {
    "name": "ipython",
    "version": 3
   },
   "file_extension": ".py",
   "mimetype": "text/x-python",
   "name": "python",
   "nbconvert_exporter": "python",
   "pygments_lexer": "ipython3",
   "version": "3.12.7"
  }
 },
 "nbformat": 4,
 "nbformat_minor": 5
}
