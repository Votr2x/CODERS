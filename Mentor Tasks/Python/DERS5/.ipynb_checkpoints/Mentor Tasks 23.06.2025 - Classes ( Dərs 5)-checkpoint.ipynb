{
 "cells": [
  {
   "cell_type": "code",
   "execution_count": 1,
   "id": "060cd99b",
   "metadata": {},
   "outputs": [],
   "source": [
    "# 1. Bir Car adlı class yaradın. Bu class-ın brand, model, və year adında üç atributu olsun.\n",
    "# Car class-ına həmçinin car_info adlı bir metod əlavə edin ki, bu metod maşının məlumatlarını string şəklində qaytarsın."
   ]
  },
  {
   "cell_type": "code",
   "execution_count": 19,
   "id": "c51aa015-05a4-46c2-a9d9-8bfd4ac5bdd2",
   "metadata": {},
   "outputs": [
    {
     "name": "stdout",
     "output_type": "stream",
     "text": [
      "Brand: Pagani, Model: Utopia, Year: 2006\n"
     ]
    }
   ],
   "source": [
    "class Car:\n",
    "    def __init__(self, brand, model, year):\n",
    "        self.brand = brand\n",
    "        self.model = model\n",
    "        self.year = year\n",
    "    def car_info(self):\n",
    "        return(f'Brand: {self.brand}, Model: {self.model}, Year: {self.year}')\n",
    "CAR = Car('Pagani', 'Utopia', 2006)\n",
    "print(CAR.car_info())"
   ]
  },
  {
   "cell_type": "code",
   "execution_count": 15,
   "id": "f1728595",
   "metadata": {},
   "outputs": [],
   "source": [
    "# 2. Bir Vehicle_2 adlı main class  yaradın. Car_2 adlı class-ı Vehicle_2 class-ından miras alın və num_doors adlı\n",
    "# əlavə bir atribut əlavə edin. car_info metodunu yenidən müəyyənləşdirərək maşının qapı sayını da daxil edin."
   ]
  },
  {
   "cell_type": "code",
   "execution_count": 21,
   "id": "1c0b7774-1159-4803-81fc-2a77ac057b94",
   "metadata": {},
   "outputs": [
    {
     "name": "stdout",
     "output_type": "stream",
     "text": [
      "Brand: Pagani, Model: Utopia, Year: 2006, Doors: 2\n"
     ]
    }
   ],
   "source": [
    "class Vehicle_2:\n",
    "    def __init__(self, brand, model, year):\n",
    "        self.brand = brand\n",
    "        self.model = model\n",
    "        self.year = year\n",
    "class Car_2(Vehicle_2):\n",
    "    def __init__(self, brand, model, year, num_doors):\n",
    "        super().__init__(brand, model, year)\n",
    "        self.num_doors = num_doors\n",
    "    def car_info(self):\n",
    "        return(f'Brand: {self.brand}, Model: {self.model}, Year: {self.year}, Doors: {self.num_doors}')\n",
    "CAR = Car_2('Pagani', 'Utopia', 2006, 2)\n",
    "print(CAR.car_info())"
   ]
  },
  {
   "cell_type": "code",
   "execution_count": 17,
   "id": "59b54650",
   "metadata": {},
   "outputs": [],
   "source": [
    "# 3. Bir Device adlı class yaradın. Phone və Camera class-ları Device class-ından miras alsın.\n",
    "# Sonra bir SmartPhone class-ı yaradın ki, həm Phone, həm də Camera class-larından miras alsın"
   ]
  },
  {
   "cell_type": "code",
   "execution_count": 39,
   "id": "91cb5c7a-b026-4fe5-9341-a376fc4023b7",
   "metadata": {},
   "outputs": [
    {
     "name": "stdout",
     "output_type": "stream",
     "text": [
      "Device: SmartDevice, Phone: iPhone, Camera: 12MP\n"
     ]
    }
   ],
   "source": [
    "class Device:\n",
    "    def __init__(self, device):\n",
    "        self.device = device\n",
    "\n",
    "class Phone(Device):\n",
    "    def __init__(self, device, phone):\n",
    "        Device.__init__(self, device)\n",
    "        self.phone = phone\n",
    "\n",
    "class Camera(Device):\n",
    "    def __init__(self, device, camera):\n",
    "        Device.__init__(self, device)\n",
    "        self.camera = camera\n",
    "\n",
    "class SmartPhone(Phone, Camera):\n",
    "    def __init__(self, device, phone, camera):\n",
    "        Phone.__init__(self, device, phone)\n",
    "        Camera.__init__(self, device, camera)\n",
    "\n",
    "    def val(self):\n",
    "        return f'Device: {self.device}, Phone: {self.phone}, Camera: {self.camera}'\n",
    "\n",
    "Smart = SmartPhone('SmartDevice', 'iPhone', '12MP')\n",
    "print(Smart.val())"
   ]
  },
  {
   "cell_type": "code",
   "execution_count": 11,
   "id": "9cc11c8e",
   "metadata": {},
   "outputs": [],
   "source": [
    "# 4. Bir A, B, və C class-larını yaradın. B A-dan, C isə həm A-dan, həm də B-dən miras alsın.\n",
    "# Hər bir class-da message() adlı metod yaradın. Sonda isə D class-ını yaradın və heç bir funksiya yaratmadan pass istifadə\n",
    "# edin. Sonra D-ni hər hansısa bir dəyişənə bərabər edib message metodunu yoxlayın."
   ]
  },
  {
   "cell_type": "code",
   "execution_count": 34,
   "id": "cd5609b9-c999-4d27-beff-4514a677b2cf",
   "metadata": {},
   "outputs": [
    {
     "name": "stdout",
     "output_type": "stream",
     "text": [
      "This is class C\n"
     ]
    }
   ],
   "source": [
    "class A:\n",
    "    def message(self):\n",
    "        print(\"This is class A\")\n",
    "\n",
    "class B(A):\n",
    "    def message(self):\n",
    "        print(\"This is class B\")\n",
    "\n",
    "class C(B, A):\n",
    "    def message(self):\n",
    "        print(\"This is class C\")\n",
    "\n",
    "class D(C):\n",
    "    pass\n",
    "\n",
    "obj = C()\n",
    "obj.message()"
   ]
  },
  {
   "cell_type": "code",
   "execution_count": 9,
   "id": "faaae89c",
   "metadata": {},
   "outputs": [],
   "source": [
    "# 5. Bir BankAccount adlı class yaradın və bu class-ın __balance adlı private bir atributu olsun.\n",
    "# BankAccount class-ına balansı artırmaq və balansı göstərmək üçün deposit və get_balance metodları əlavə edin.\n",
    "# Balansa birbaşa giriş mümkün olmasin."
   ]
  },
  {
   "cell_type": "code",
   "execution_count": 50,
   "id": "b4471c22-899b-4a3f-ab42-cefd6b07944f",
   "metadata": {},
   "outputs": [
    {
     "name": "stdout",
     "output_type": "stream",
     "text": [
      "1000\n"
     ]
    }
   ],
   "source": [
    "class BankAccount:\n",
    "    def __init__(self):\n",
    "        self.__balance = 0\n",
    "\n",
    "    def deposit(self, amount):\n",
    "        self.__balance += amount\n",
    "\n",
    "    def get_balance(self):\n",
    "        return self.__balance\n",
    " \n",
    "acc = BankAccount()\n",
    "acc.deposit(1000)\n",
    "print(acc.get_balance())  "
   ]
  },
  {
   "cell_type": "code",
   "execution_count": 49,
   "id": "c8aacc15-b647-40bb-97e9-7161afca2b1c",
   "metadata": {},
   "outputs": [
    {
     "data": {
      "text/plain": [
       "['__class__',\n",
       " '__delattr__',\n",
       " '__dict__',\n",
       " '__dir__',\n",
       " '__doc__',\n",
       " '__eq__',\n",
       " '__format__',\n",
       " '__ge__',\n",
       " '__getattribute__',\n",
       " '__getstate__',\n",
       " '__gt__',\n",
       " '__hash__',\n",
       " '__init__',\n",
       " '__init_subclass__',\n",
       " '__le__',\n",
       " '__lt__',\n",
       " '__module__',\n",
       " '__ne__',\n",
       " '__new__',\n",
       " '__reduce__',\n",
       " '__reduce_ex__',\n",
       " '__repr__',\n",
       " '__setattr__',\n",
       " '__sizeof__',\n",
       " '__str__',\n",
       " '__subclasshook__',\n",
       " '__weakref__',\n",
       " 'deposit',\n",
       " 'get_balance']"
      ]
     },
     "execution_count": 49,
     "metadata": {},
     "output_type": "execute_result"
    }
   ],
   "source": [
    "dir(BankAccount)"
   ]
  },
  {
   "cell_type": "code",
   "execution_count": 1,
   "id": "7f94c915",
   "metadata": {},
   "outputs": [],
   "source": [
    "# 6. Bird adlı bir class yaradın. Parrot və Penguin class-ları Bird class-ından miras alsın və hər birinə fly() adlı\n",
    "# metod təyin edin. Parrot və Penguin class-larındakı fly() metodları fərqli mesajlar versin və polimorfizmi göstərin."
   ]
  },
  {
   "cell_type": "code",
   "execution_count": 11,
   "id": "15ede1f3-47db-4cbf-a8fe-8d691803af1d",
   "metadata": {},
   "outputs": [
    {
     "name": "stdout",
     "output_type": "stream",
     "text": [
      "Birds can fly\n",
      "Parrot can fly\n",
      "Penguin can't fly\n"
     ]
    }
   ],
   "source": [
    "class Bird:\n",
    "    def fly(self):\n",
    "        print(\"Birds can fly\")\n",
    "class Parrot(Bird):\n",
    "    def fly(self):\n",
    "        print(\"Parrot can fly\")\n",
    "class Penguin(Bird):\n",
    "    def fly(self):\n",
    "        print(\"Penguin can't fly\")\n",
    "\n",
    "a = [Bird(), Parrot(), Penguin()]\n",
    "for c in a:\n",
    "    c.fly()"
   ]
  },
  {
   "cell_type": "code",
   "execution_count": 12,
   "id": "285cae6b",
   "metadata": {},
   "outputs": [],
   "source": [
    "# 7. Vehicle adlı abstract class yaradın → method: start()\n",
    "# Car və Bike bu class-dan miras alsın və start metodunu override etsin.\n",
    "# Encapsulation: Car-da __engine_status atributu gizlədilsin.\n",
    "# MRO: Yeni bir ElectricCar(Car, Vehicle) yaradın, start metodunu dəyişin və mro() çağırın."
   ]
  },
  {
   "cell_type": "code",
   "execution_count": 14,
   "id": "3a1aeb84-9ede-4b28-8488-5a2596a936f9",
   "metadata": {},
   "outputs": [
    {
     "name": "stdout",
     "output_type": "stream",
     "text": [
      "Car engine started.\n",
      "Car engine status: on\n",
      "Bike engine started.\n",
      "Electric car is now running silently.\n",
      "\n",
      "MRO of ElectricCar:\n",
      "<class '__main__.ElectricCar'>\n",
      "<class '__main__.Car'>\n",
      "<class '__main__.Vehicle'>\n",
      "<class 'abc.ABC'>\n",
      "<class 'object'>\n"
     ]
    }
   ],
   "source": [
    "from abc import ABC, abstractmethod\n",
    "\n",
    "class Vehicle(ABC):\n",
    "    @abstractmethod\n",
    "    def start(self):\n",
    "        pass\n",
    "\n",
    "class Car(Vehicle):\n",
    "    def __init__(self):\n",
    "        self.__engine_status = \"off\"  \n",
    "\n",
    "    def start(self):\n",
    "        self.__engine_status = \"on\"\n",
    "        print(\"Car engine started.\")\n",
    "\n",
    "    def get_engine_status(self):\n",
    "        return self.__engine_status\n",
    "\n",
    "class Bike(Vehicle):\n",
    "    def start(self):\n",
    "        print(\"Bike engine started.\")\n",
    "\n",
    "class ElectricCar(Car, Vehicle):\n",
    "    def start(self):\n",
    "        print(\"Electric car is now running silently.\")\n",
    "\n",
    "car = Car()\n",
    "bike = Bike()\n",
    "e_car = ElectricCar()\n",
    "\n",
    "car.start()\n",
    "print(\"Car engine status:\", car.get_engine_status())\n",
    "\n",
    "bike.start()\n",
    "e_car.start()\n",
    "\n",
    "print(\"\\nMRO of ElectricCar:\")\n",
    "for cls in ElectricCar.__mro__:\n",
    "    print(cls)\n"
   ]
  },
  {
   "cell_type": "code",
   "execution_count": null,
   "id": "2ab12173-e3b1-4711-a3a2-018d813e50be",
   "metadata": {},
   "outputs": [],
   "source": []
  }
 ],
 "metadata": {
  "kernelspec": {
   "display_name": "Python [conda env:base] *",
   "language": "python",
   "name": "conda-base-py"
  },
  "language_info": {
   "codemirror_mode": {
    "name": "ipython",
    "version": 3
   },
   "file_extension": ".py",
   "mimetype": "text/x-python",
   "name": "python",
   "nbconvert_exporter": "python",
   "pygments_lexer": "ipython3",
   "version": "3.12.7"
  }
 },
 "nbformat": 4,
 "nbformat_minor": 5
}
