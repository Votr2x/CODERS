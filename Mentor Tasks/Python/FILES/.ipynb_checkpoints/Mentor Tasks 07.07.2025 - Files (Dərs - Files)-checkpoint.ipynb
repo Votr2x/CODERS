{
 "cells": [
  {
   "cell_type": "code",
   "execution_count": 1,
   "id": "2074e15b",
   "metadata": {},
   "outputs": [],
   "source": [
    "# 1. Bir funksiya yazın. Bu funksiya message.txt adlı bir fayl yaratsın və fayla \"Hello, World!\" mətnini yazsın."
   ]
  },
  {
   "cell_type": "code",
   "execution_count": 3,
   "id": "c637ecb8-4d88-475a-a064-7f4691f99ef1",
   "metadata": {},
   "outputs": [
    {
     "name": "stdout",
     "output_type": "stream",
     "text": [
      "Hello, World!\n"
     ]
    }
   ],
   "source": [
    "def hello_world():\n",
    "    with open(\"hello_world.txt\", \"w\") as h:\n",
    "        h.write(\"Hello, World!\")\n",
    "    with open(\"hello_world.txt\", \"r\") as h:\n",
    "        line = h.read()\n",
    "    print(line)\n",
    "hello_world()"
   ]
  },
  {
   "cell_type": "code",
   "execution_count": 3,
   "id": "daba6442",
   "metadata": {},
   "outputs": [],
   "source": [
    "# 2. Bir funksiya yazın ki, message.txt faylını oxusun və fayldakı məzmunu ekrana çap etsin.\n",
    "# Əgər fayl mövcud deyilsə, \"Fayl mövcud deyil\" mesajını qaytarsın."
   ]
  },
  {
   "cell_type": "code",
   "execution_count": 5,
   "id": "62afef72-abb2-4c31-9601-08e0131a4f0a",
   "metadata": {},
   "outputs": [
    {
     "name": "stdout",
     "output_type": "stream",
     "text": [
      "Hello, World!\n"
     ]
    }
   ],
   "source": [
    "def c():\n",
    "    try:\n",
    "        with open(\"hello_world.txt\", \"r\") as h:\n",
    "            line = h.read()\n",
    "        print(line)\n",
    "    except FileNotFound:\n",
    "        print(\"File is not found!\")\n",
    "c()"
   ]
  },
  {
   "cell_type": "code",
   "execution_count": 3,
   "id": "9368a41e",
   "metadata": {},
   "outputs": [],
   "source": [
    "# 3. Bir funksiya yazın. Bu funksiya data.bin adlı bir binary fayl yaratsın və həmin fayla [1, 2, 3, 4, 5] listini\n",
    "# pickle ilə binary formatda yazsın."
   ]
  },
  {
   "cell_type": "code",
   "execution_count": 22,
   "id": "6ae0c29d-707f-4307-813b-f1922467b6af",
   "metadata": {},
   "outputs": [],
   "source": [
    "import pickle\n",
    "\n",
    "m_list = [1, 2, 3, 4, 5]\n",
    "with open('bin.pkl', 'wb') as p:\n",
    "    pickle.dump(m_list, p)"
   ]
  },
  {
   "cell_type": "code",
   "execution_count": 23,
   "id": "990cfdc2",
   "metadata": {},
   "outputs": [],
   "source": [
    "# 4. Bir funksiya yazın ki, data.bin faylını oxusun və məzmununu qaytarsın. Əgər fayl mövcud deyilsə,\n",
    "# \"Binary fayl tapılmadı\" mesajını qaytarsın."
   ]
  },
  {
   "cell_type": "code",
   "execution_count": 26,
   "id": "491f8aa9-209a-4051-ac46-b0948ffa963b",
   "metadata": {},
   "outputs": [
    {
     "name": "stdout",
     "output_type": "stream",
     "text": [
      "[1, 2, 3, 4, 5]\n"
     ]
    }
   ],
   "source": [
    "def bin_1():\n",
    "    try:\n",
    "        with open('bin.pkl', 'rb') as p:\n",
    "            data = pickle.load(p)\n",
    "        print(data)\n",
    "    except BinaryNotFound:\n",
    "        print('Binary file not found')\n",
    "bin_1()"
   ]
  },
  {
   "cell_type": "code",
   "execution_count": null,
   "id": "4fa57407",
   "metadata": {},
   "outputs": [],
   "source": [
    "# 5. Bir funksiya yazın. Bu funksiya əvvəlcə lines.txt adlı bir fayl yaratsın və fayla üç fərqli sətir yazsın:\n",
    "# \"Birinci sətir\", \"İkinci sətir\", \"Üçüncü sətir\". Daha sonra, fayldakı məzmunu sətir-sətir oxuyub ekrana çap etsin."
   ]
  },
  {
   "cell_type": "code",
   "execution_count": 30,
   "id": "8f20624f-92cb-4371-bb51-11e159f38ddc",
   "metadata": {},
   "outputs": [
    {
     "name": "stdout",
     "output_type": "stream",
     "text": [
      "First Line\n",
      "Second Line\n",
      "Third Line\n"
     ]
    }
   ],
   "source": [
    "def lines():\n",
    "    with open('lines.txt', 'w') as l:\n",
    "        lines = ['First Line\\n', 'Second Line\\n', 'Third Line']\n",
    "        l.writelines(lines)\n",
    "    with open('lines.txt', 'r') as l:\n",
    "        li = l.read()\n",
    "    print(li)\n",
    "lines()"
   ]
  }
 ],
 "metadata": {
  "kernelspec": {
   "display_name": "Python [conda env:base] *",
   "language": "python",
   "name": "conda-base-py"
  },
  "language_info": {
   "codemirror_mode": {
    "name": "ipython",
    "version": 3
   },
   "file_extension": ".py",
   "mimetype": "text/x-python",
   "name": "python",
   "nbconvert_exporter": "python",
   "pygments_lexer": "ipython3",
   "version": "3.12.7"
  }
 },
 "nbformat": 4,
 "nbformat_minor": 5
}
