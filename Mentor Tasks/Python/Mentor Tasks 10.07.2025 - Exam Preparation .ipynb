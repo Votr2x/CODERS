{
 "cells": [
  {
   "cell_type": "code",
   "execution_count": 1,
   "id": "f96b1062",
   "metadata": {},
   "outputs": [],
   "source": [
    "# 1. Verilmiş bir listdə yalnız 5-dən böyük ədədləri seçərək yeni bir list yaratmaq üçün\n",
    "# lambda funksiyasını və filter metodunu istifadə edin."
   ]
  },
  {
   "cell_type": "code",
   "execution_count": 13,
   "id": "f07a2d87-154a-47d2-a62e-eaee4cac8409",
   "metadata": {},
   "outputs": [
    {
     "name": "stdout",
     "output_type": "stream",
     "text": [
      "[6, 7]\n"
     ]
    }
   ],
   "source": [
    "LIST = [1, 2, 3, 4, 5, 6, 7]\n",
    "LIST1 = filter(lambda x: x > 5, LIST)\n",
    "print(list(LIST1))"
   ]
  },
  {
   "cell_type": "code",
   "execution_count": 3,
   "id": "f0008c84",
   "metadata": {},
   "outputs": [],
   "source": [
    "# 2. Verilən listlərdəki ortaq elementləri tapın və onların cəmini hesablayın.\n",
    "# (lambda, filter, reduce istifadə edin)\n",
    "# list1 = [1, 2, 3, 4, 5]\n",
    "# list2 = [4, 5, 6, 7, 8]"
   ]
  },
  {
   "cell_type": "code",
   "execution_count": 14,
   "id": "fe53a471-77ce-4e61-b03a-ff881bdee1bc",
   "metadata": {},
   "outputs": [
    {
     "name": "stdout",
     "output_type": "stream",
     "text": [
      "9\n"
     ]
    }
   ],
   "source": [
    "from functools import reduce\n",
    "list1 = [1, 2, 3, 4, 5]\n",
    "list2 = [4, 5, 6, 7, 8]\n",
    "joint = filter(lambda x: x in list2, list1)\n",
    "sq = reduce(lambda a, b: a + b, joint)\n",
    "print(sq)"
   ]
  },
  {
   "cell_type": "code",
   "execution_count": 15,
   "id": "bd72ab15",
   "metadata": {},
   "outputs": [],
   "source": [
    "# 3. Verilmiş listdəki yalnız uzunluğu 5-dən böyük olan sözləri böyük hərflərə çevirin və yeni list yaradın.\n",
    "# (lambda, map, filter istifadə edin)\n",
    "# words = [\"python\", \"lambda\", \"map\", \"filter\", \"reduce\", \"function\", \"example\"]\n",
    "# Əvvəlcə uzunluğu 5-dən böyük sözləri filter ilə seç"
   ]
  },
  {
   "cell_type": "code",
   "execution_count": 20,
   "id": "cd0a359d-3c19-4805-80de-14864f4cd5ce",
   "metadata": {},
   "outputs": [
    {
     "name": "stdout",
     "output_type": "stream",
     "text": [
      "['PYTHON', 'LAMBDA', 'FILTER', 'REDUCE', 'FUNCTION', 'EXAMPLE']\n"
     ]
    }
   ],
   "source": [
    "words = [\"python\", \"lambda\", \"map\", \"filter\", \"reduce\", \"function\", \"example\"]\n",
    "filtered = list(filter(lambda x: len(x) > 5, words))\n",
    "alo = map(lambda x: x.upper(), filtered)\n",
    "print(list(alo))"
   ]
  },
  {
   "cell_type": "code",
   "execution_count": 7,
   "id": "e9ea717d",
   "metadata": {},
   "outputs": [],
   "source": [
    "# 4. Verilmiş rəqəmlərin kvadratlarını və kublarını listdə saxlayın.\n",
    "# (lambda, map, filter istifadə edin)\n",
    "# numbers_4 = [2, 3, 4]"
   ]
  },
  {
   "cell_type": "code",
   "execution_count": 23,
   "id": "59de0f1e-d968-4bd2-b829-b4be59f17253",
   "metadata": {},
   "outputs": [
    {
     "name": "stdout",
     "output_type": "stream",
     "text": [
      "[(4, 8), (9, 27), (16, 64)]\n"
     ]
    }
   ],
   "source": [
    "numbers_4 = [2, 3, 4]\n",
    "x = list(map(lambda x: (x ** 2, x ** 3), numbers_4))\n",
    "print(x)"
   ]
  },
  {
   "cell_type": "code",
   "execution_count": 25,
   "id": "43dd7123",
   "metadata": {},
   "outputs": [],
   "source": [
    "# 5. Verilmiş listdəki ən kiçik rəqəmi tapmaq üçün reduce istifadə edin.\n",
    "# numbers_5 = [20, 34, 12, 78, 5, 42]"
   ]
  },
  {
   "cell_type": "code",
   "execution_count": 26,
   "id": "0caba31b-303b-4c59-85b7-5ed6016dbddd",
   "metadata": {},
   "outputs": [
    {
     "name": "stdout",
     "output_type": "stream",
     "text": [
      "5\n"
     ]
    }
   ],
   "source": [
    "numbers_5 = [20, 34, 12, 78, 5, 42]\n",
    "red = reduce(lambda a, b: a if a < b else b, numbers_5)\n",
    "print(red)"
   ]
  },
  {
   "cell_type": "code",
   "execution_count": 11,
   "id": "81b7e3ba",
   "metadata": {},
   "outputs": [],
   "source": [
    "# 6. Bird adlı bir class yaradın. Parrot və Penguin class-ları Bird class-ından miras alsın və hər birinə fly() adlı\n",
    "# metod təyin edin. Parrot və Penguin class-larındakı fly() metodları fərqli mesajlar versin və polimorfizmi göstərin.\n",
    "# Əsas parent class"
   ]
  },
  {
   "cell_type": "code",
   "execution_count": 28,
   "id": "20e65bcd-fb24-4143-8929-714ff30c756b",
   "metadata": {},
   "outputs": [
    {
     "name": "stdout",
     "output_type": "stream",
     "text": [
      "All birds can fly\n",
      "Parrots can fly\n",
      "Penguins can't fly\n"
     ]
    }
   ],
   "source": [
    "class Bird():\n",
    "    def fly(self):\n",
    "        print(\"All birds can fly\")\n",
    "class Parrot():\n",
    "    def fly(self):\n",
    "        print(\"Parrots can fly\")\n",
    "class Penguin():\n",
    "    def fly(self):\n",
    "        print(\"Penguins can't fly\")\n",
    "a = [Bird(), Parrot(), Penguin()]\n",
    "for b in a:\n",
    "    b.fly()"
   ]
  },
  {
   "cell_type": "code",
   "execution_count": 13,
   "id": "eb77f916",
   "metadata": {},
   "outputs": [],
   "source": [
    "# 7. Bir neçə ədəd qəbul edən və bu ədədlərin kvadratı, kubu və s. qüvvətli cəmlərini qaytaran bir funksiya yazın.\n",
    "# (*args istifadə edin)\n",
    "# Məsələn; x_func(2, 1, 2, 3)  ---> ilk yazılan rəqəm qüvvəti ifadə edir. (2, 1, 2, 3) - burada birinci 2 qüvvətdir\n",
    "# Nəticə: 14\n"
   ]
  },
  {
   "cell_type": "code",
   "execution_count": 37,
   "id": "7c995797-472f-491a-ab54-9ae05c753e31",
   "metadata": {},
   "outputs": [
    {
     "name": "stdout",
     "output_type": "stream",
     "text": [
      "14\n"
     ]
    }
   ],
   "source": [
    "def ret(*args):\n",
    "    l = list(args)\n",
    "    power = l[0]\n",
    "    l.pop(0)\n",
    "    a = list(map(lambda a: a ** power, l))\n",
    "    b = reduce(lambda x, y: x + y, a)\n",
    "    print(b)\n",
    "ret(2, 1, 2, 3)"
   ]
  },
  {
   "cell_type": "code",
   "execution_count": 29,
   "id": "14a26eb4",
   "metadata": {},
   "outputs": [],
   "source": [
    "# 8. Bir listdəki max və min dəyərləri qaytaran bir funksiya yazın. (For loop və if istifadə edin)"
   ]
  },
  {
   "cell_type": "code",
   "execution_count": 33,
   "id": "9c3530ca-25c3-4f60-8645-35bae6729b41",
   "metadata": {},
   "outputs": [
    {
     "name": "stdout",
     "output_type": "stream",
     "text": [
      "1\n",
      "5\n"
     ]
    }
   ],
   "source": [
    "LIST = [1, 2, 3, 4, 5]\n",
    "LIST_MIN = LIST[0]\n",
    "LIST_MAX = LIST[0]\n",
    "for i in LIST:\n",
    "    if i > LIST_MAX:\n",
    "        LIST_MAX = i\n",
    "    elif i < LIST_MIN:\n",
    "        LIST_MIN = i\n",
    "print(LIST_MIN)\n",
    "print(LIST_MAX)"
   ]
  }
 ],
 "metadata": {
  "kernelspec": {
   "display_name": "Python [conda env:base] *",
   "language": "python",
   "name": "conda-base-py"
  },
  "language_info": {
   "codemirror_mode": {
    "name": "ipython",
    "version": 3
   },
   "file_extension": ".py",
   "mimetype": "text/x-python",
   "name": "python",
   "nbconvert_exporter": "python",
   "pygments_lexer": "ipython3",
   "version": "3.12.7"
  }
 },
 "nbformat": 4,
 "nbformat_minor": 5
}
