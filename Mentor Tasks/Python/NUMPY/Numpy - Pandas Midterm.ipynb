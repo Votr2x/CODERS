{
 "cells": [
  {
   "cell_type": "code",
   "id": "db6046a6-fdf1-4d59-9def-634330572c45",
   "metadata": {
    "ExecuteTime": {
     "end_time": "2025-08-20T16:28:53.576122Z",
     "start_time": "2025-08-20T16:28:53.571400Z"
    }
   },
   "source": [
    "# 1. NumPy-dən istifadə edərək istədiyiniz ölçüdə bir massiv (array) yaradın. \n",
    "# Daha sonra bu massivdən Pandas DataFrame düzəldin. DataFrame-in sütun adlarını isə özünüz təyin edin (məsələn: ['A', 'B', 'C'])."
   ],
   "outputs": [],
   "execution_count": 2
  },
  {
   "metadata": {
    "ExecuteTime": {
     "end_time": "2025-08-20T16:33:13.764582Z",
     "start_time": "2025-08-20T16:33:12.591936Z"
    }
   },
   "cell_type": "code",
   "source": [
    "import numpy as np\n",
    "import pandas as pd\n",
    "array = np.array([1, 2, 3])\n",
    "array2 = np.array([4, 5, 6])\n",
    "array3 = np.array([7, 8, 9])\n",
    "df = pd.DataFrame({'A': array, 'B': array2, 'C': array3})\n",
    "print(df)"
   ],
   "id": "39d9e4ba69e3b478",
   "outputs": [
    {
     "name": "stdout",
     "output_type": "stream",
     "text": [
      "   A  B  C\n",
      "0  1  4  7\n",
      "1  2  5  8\n",
      "2  3  6  9\n"
     ]
    }
   ],
   "execution_count": 3
  },
  {
   "cell_type": "code",
   "id": "410558f7-8e04-48d0-bcb1-2fe023d15684",
   "metadata": {
    "ExecuteTime": {
     "end_time": "2025-08-20T16:33:35.158627Z",
     "start_time": "2025-08-20T16:33:35.155089Z"
    }
   },
   "source": [
    "# 2.4×4 ölçülü təsadüfi tam ədədlərdən ibarət matris yaradın. \n",
    "# Əsas diaqonal elementlərinin hasilini tapın.\n",
    "# Ən böyük elementi və onun indeksini göstərin."
   ],
   "outputs": [],
   "execution_count": 4
  },
  {
   "metadata": {
    "ExecuteTime": {
     "end_time": "2025-08-20T16:36:34.824939Z",
     "start_time": "2025-08-20T16:36:34.819865Z"
    }
   },
   "cell_type": "code",
   "source": [
    "matrix = np.random.randint(1, 10, size = (4, 4), dtype = int)\n",
    "diag = np.diag(matrix)\n",
    "print(diag)\n",
    "k = 1\n",
    "for i in diag:\n",
    "    k *= i\n",
    "print(k)"
   ],
   "id": "1f8d82c31e32f6db",
   "outputs": [
    {
     "name": "stdout",
     "output_type": "stream",
     "text": [
      "[4 8 9 4]\n",
      "1152\n"
     ]
    }
   ],
   "execution_count": 12
  },
  {
   "cell_type": "code",
   "execution_count": null,
   "id": "e198e013-2f78-410e-84a9-9d99c6ed4dc7",
   "metadata": {},
   "outputs": [],
   "source": [
    "# 3. Maaşı 3000-dən çox olan işçiləri seçin.\n",
    "# Ən yüksək maaşa sahib işçiləri sortlama ilə göstərin (maaşa görə azalan sırada).\n",
    "\n",
    "# data = {\n",
    "#     \"Ad\": [“Ramin”, “Lale”, “Samir”, “Sevda”, “Arzu”], \n",
    "#     \"Maaş\": [2500, 4000, 3200, 2800, 4000], \n",
    "#     \"Şöbə\": [“IT”, “HR”, “IT”, “Finance”, “HR”]  \n",
    "# }"
   ]
  },
  {
   "metadata": {
    "ExecuteTime": {
     "end_time": "2025-08-20T16:39:42.639839Z",
     "start_time": "2025-08-20T16:39:42.625607Z"
    }
   },
   "cell_type": "code",
   "source": [
    "data = {\n",
    "    \"Ad\": ['Ramin', 'Lale', 'Samir', 'Sevda', 'Arzu'],\n",
    "    \"Maaş\": [2500, 4000, 3200, 2800, 4000],\n",
    "    \"Şöbə\": ['IT', 'HR', 'IT', 'Finance', 'HR']\n",
    "}\n",
    "df = pd.DataFrame(data)\n",
    "print(df[df['Maaş'] > 3000])"
   ],
   "id": "a3232efb34ecc3f2",
   "outputs": [
    {
     "name": "stdout",
     "output_type": "stream",
     "text": [
      "      Ad  Maaş Şöbə\n",
      "1   Lale  4000   HR\n",
      "2  Samir  3200   IT\n",
      "4   Arzu  4000   HR\n"
     ]
    }
   ],
   "execution_count": 19
  },
  {
   "cell_type": "code",
   "execution_count": null,
   "id": "e0fed3dc-ff1b-4902-ac32-55bc45bdd98e",
   "metadata": {},
   "outputs": [],
   "source": [
    "# 4. Pandas DataFrame yaradaraq 5 fərqli məhsulun adlarını, qiymətlərini və satılan miqdarlarını saxlayın.\n",
    "# Hər bir məhsulun ümumi gəlirini (qiymət × miqdar) hesablamaq üçün yeni bir sütun əlavə edin.\n",
    "\n",
    "# data = {\n",
    "#    \"Mehsul\": [\"A\", \"B\", \"C\", \"D\", \"E\"],\n",
    "#    \"Qiymet\": [20, 50, 15, 40, 30],\n",
    "#   \"Miqdar\": [100, 200, 150, 50, 120]\n",
    "# }"
   ]
  },
  {
   "metadata": {
    "ExecuteTime": {
     "end_time": "2025-08-20T16:41:45.858023Z",
     "start_time": "2025-08-20T16:41:45.847472Z"
    }
   },
   "cell_type": "code",
   "source": [
    "data = {\n",
    "   \"Mehsul\": [\"A\", \"B\", \"C\", \"D\", \"E\"],\n",
    "   \"Qiymet\": [20, 50, 15, 40, 30],\n",
    "  \"Miqdar\": [100, 200, 150, 50, 120]\n",
    "}\n",
    "df = pd.DataFrame(data)\n",
    "df['Total'] = df['Qiymet'] * df['Miqdar']\n",
    "print(df)"
   ],
   "id": "e96ea48aa8cc29fe",
   "outputs": [
    {
     "name": "stdout",
     "output_type": "stream",
     "text": [
      "  Mehsul  Qiymet  Miqdar  Total\n",
      "0      A      20     100   2000\n",
      "1      B      50     200  10000\n",
      "2      C      15     150   2250\n",
      "3      D      40      50   2000\n",
      "4      E      30     120   3600\n"
     ]
    }
   ],
   "execution_count": 21
  },
  {
   "cell_type": "code",
   "id": "6fabfd3d-7993-4ab9-9c17-74039866446b",
   "metadata": {
    "ExecuteTime": {
     "end_time": "2025-08-20T16:41:50.885976Z",
     "start_time": "2025-08-20T16:41:50.881643Z"
    }
   },
   "source": [
    "# 5. DataFrame-də sətir indexini tələbənin adları ilə təyin edin.\n",
    "# Fənn sütununa görə hər fəndə neçə tələbə olduğunu tapın və nəticəni index istifadə edərək çıxarın.\n",
    "# Ad: [\"Aysel\", \"Murad\", \"Nigar\", \"Kamal\", \"Rauf\", \"Leyla\"]  \n",
    "# Yaş: [20, 22, 21, 23, 22, 21]  \n",
    "# Bal: [85, 90, 78, 92, 90, 88]  \n",
    "# Fənn: [\"Riyaziyyat\", \"İngilis\", \"Riyaziyyat\", \"Fizika\", \"İngilis\", \"Fizika\"]"
   ],
   "outputs": [],
   "execution_count": 22
  },
  {
   "metadata": {
    "ExecuteTime": {
     "end_time": "2025-08-20T17:02:49.273694Z",
     "start_time": "2025-08-20T17:02:49.261965Z"
    }
   },
   "cell_type": "code",
   "source": [
    "data = {'Ad': [\"Aysel\", \"Murad\", \"Nigar\", \"Kamal\", \"Rauf\", \"Leyla\"], 'Yas': [20, 22, 21, 23, 22, 21], 'Bal': [85, 90, 78, 92, 90, 88], 'Fann': [\"Riyaziyyat\", \"İngilis\", \"Riyaziyyat\", \"Fizika\", \"İngilis\", \"Fizika\"]}\n",
    "df = pd.DataFrame(data)\n",
    "tot = df['Fann'].value_counts()\n",
    "df['Total'] = df['Fann'].map(tot)\n",
    "df.index = df['Total']\n",
    "print(df)"
   ],
   "id": "d29f0daa05ff26e5",
   "outputs": [
    {
     "name": "stdout",
     "output_type": "stream",
     "text": [
      "          Ad  Yas  Bal        Fann  Total\n",
      "Total                                    \n",
      "2      Aysel   20   85  Riyaziyyat      2\n",
      "2      Murad   22   90     İngilis      2\n",
      "2      Nigar   21   78  Riyaziyyat      2\n",
      "2      Kamal   23   92      Fizika      2\n",
      "2       Rauf   22   90     İngilis      2\n",
      "2      Leyla   21   88      Fizika      2\n"
     ]
    }
   ],
   "execution_count": 57
  }
 ],
 "metadata": {
  "kernelspec": {
   "display_name": "Python 3 (ipykernel)",
   "language": "python",
   "name": "python3"
  },
  "language_info": {
   "codemirror_mode": {
    "name": "ipython",
    "version": 3
   },
   "file_extension": ".py",
   "mimetype": "text/x-python",
   "name": "python",
   "nbconvert_exporter": "python",
   "pygments_lexer": "ipython3",
   "version": "3.12.4"
  }
 },
 "nbformat": 4,
 "nbformat_minor": 5
}
