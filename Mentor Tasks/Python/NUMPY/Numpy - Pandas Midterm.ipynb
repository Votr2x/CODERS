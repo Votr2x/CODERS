{
 "cells": [
  {
   "cell_type": "code",
   "execution_count": null,
   "id": "db6046a6-fdf1-4d59-9def-634330572c45",
   "metadata": {},
   "outputs": [],
   "source": [
    "# 1. NumPy-dən istifadə edərək istədiyiniz ölçüdə bir massiv (array) yaradın. \n",
    "# Daha sonra bu massivdən Pandas DataFrame düzəldin. DataFrame-in sütun adlarını isə özünüz təyin edin (məsələn: ['A', 'B', 'C'])."
   ]
  },
  {
   "cell_type": "code",
   "execution_count": null,
   "id": "410558f7-8e04-48d0-bcb1-2fe023d15684",
   "metadata": {},
   "outputs": [],
   "source": [
    "# 2.4×4 ölçülü təsadüfi tam ədədlərdən ibarət matris yaradın. \n",
    "# Əsas diaqonal elementlərinin hasilini tapın.\n",
    "# Ən böyük elementi və onun indeksini göstərin."
   ]
  },
  {
   "cell_type": "code",
   "execution_count": null,
   "id": "e198e013-2f78-410e-84a9-9d99c6ed4dc7",
   "metadata": {},
   "outputs": [],
   "source": [
    "# 3. Maaşı 3000-dən çox olan işçiləri seçin.\n",
    "# Ən yüksək maaşa sahib işçiləri sortlama ilə göstərin (maaşa görə azalan sırada).\n",
    "# Hər şöbənin orta maaşını hesablayın\n",
    "\n",
    "# data = {\n",
    "#     \"Ad\": [“Ramin”, “Lale”, “Samir”, “Sevda”, “Arzu”], \n",
    "#     \"Maaş\": [2500, 4000, 3200, 2800, 4000], \n",
    "#     \"Şöbə\": [“IT”, “HR”, “IT”, “Finance”, “HR”]  \n",
    "# }"
   ]
  },
  {
   "cell_type": "code",
   "execution_count": null,
   "id": "e0fed3dc-ff1b-4902-ac32-55bc45bdd98e",
   "metadata": {},
   "outputs": [],
   "source": [
    "# 4. Pandas DataFrame yaradaraq 5 fərqli məhsulun adlarını, qiymətlərini və satılan miqdarlarını saxlayın.\n",
    "# Hər bir məhsulun ümumi gəlirini (qiymət × miqdar) hesablamaq üçün yeni bir sütun əlavə edin.\n",
    "\n",
    "# data = {\n",
    "#    \"Mehsul\": [\"A\", \"B\", \"C\", \"D\", \"E\"],\n",
    "#    \"Qiymet\": [20, 50, 15, 40, 30],\n",
    "#   \"Miqdar\": [100, 200, 150, 50, 120]\n",
    "# }"
   ]
  },
  {
   "cell_type": "code",
   "execution_count": null,
   "id": "6fabfd3d-7993-4ab9-9c17-74039866446b",
   "metadata": {},
   "outputs": [],
   "source": [
    "# 5. DataFrame-də sətir indexini tələbənin adları ilə təyin edin.\n",
    "# Fənn sütununa görə hər fəndə neçə tələbə olduğunu tapın və nəticəni index istifadə edərək çıxarın.\n",
    "# Ad: [\"Aysel\", \"Murad\", \"Nigar\", \"Kamal\", \"Rauf\", \"Leyla\"]  \n",
    "# Yaş: [20, 22, 21, 23, 22, 21]  \n",
    "# Bal: [85, 90, 78, 92, 90, 88]  \n",
    "# Fənn: [\"Riyaziyyat\", \"İngilis\", \"Riyaziyyat\", \"Fizika\", \"İngilis\", \"Fizika\"]"
   ]
  }
 ],
 "metadata": {
  "kernelspec": {
   "display_name": "Python 3 (ipykernel)",
   "language": "python",
   "name": "python3"
  },
  "language_info": {
   "codemirror_mode": {
    "name": "ipython",
    "version": 3
   },
   "file_extension": ".py",
   "mimetype": "text/x-python",
   "name": "python",
   "nbconvert_exporter": "python",
   "pygments_lexer": "ipython3",
   "version": "3.12.4"
  }
 },
 "nbformat": 4,
 "nbformat_minor": 5
}
