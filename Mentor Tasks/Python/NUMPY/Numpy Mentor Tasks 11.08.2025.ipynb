{
 "cells": [
  {
   "cell_type": "code",
   "execution_count": 1,
   "id": "6c256352",
   "metadata": {},
   "outputs": [
    {
     "name": "stdout",
     "output_type": "stream",
     "text": [
      "Əsas matris:\n",
      "[[32 27 54 43 11]\n",
      " [62 95 76 73 94]\n",
      " [14 89 75 60 77]\n",
      " [ 5 79 83 95 93]\n",
      " [68 30 55 50 53]]\n",
      "\n",
      "Cüt indekslərdəki elementlərdən ibarət yeni matris:\n",
      "[[32 54 11]\n",
      " [14 75 77]\n",
      " [68 55 53]]\n"
     ]
    }
   ],
   "source": [
    "# 1. 1-dən 101-ə qədər 5x5 ölçülü təsadüfi tam ədədlərdən ibarət matris yaradın.\n",
    "# Daha sonra bu matrisdən yalnız cüt indekslərdə yerləşən (həm sətir, həm sütun indeksi cüt olan) elementləri çıxarın\n",
    "# və yeni bir matris yaradın.\n",
    "\n",
    "import numpy as np\n",
    "\n",
    "# 1. 5x5 ölçülü təsadüfi tam ədədlər (1-101)\n",
    "matris = np.random.randint(1, 102, size=(5, 5))\n",
    "print(\"Əsas matris:\")\n",
    "print(matris)\n",
    "\n",
    "# 2. Cüt indekslərdəki elementləri seçmək (0, 2, 4...)\n",
    "yeni_matris = matris[::2, ::2]  # sətir və sütunlarda addım 2\n",
    "print(\"\\nCüt indekslərdəki elementlərdən ibarət yeni matris:\")\n",
    "print(yeni_matris)"
   ]
  },
  {
   "cell_type": "code",
   "execution_count": 2,
   "id": "0a4f93e0",
   "metadata": {},
   "outputs": [
    {
     "name": "stdout",
     "output_type": "stream",
     "text": [
      "[15]\n"
     ]
    }
   ],
   "source": [
    "# 2. 1-dən 20-yə qədər ardıcıl ədədlərdən ibarət massiv yaradın.\n",
    "# Daha sonra bu massivdə yalnız 3-ə və 5-ə bölünən ədədləri tapın.\n",
    "import numpy as np\n",
    "\n",
    "# 1-dən 20-yə qədər ardıcıl ədədlərdən ibarət massiv\n",
    "arr = np.arange(1, 21)\n",
    "\n",
    "# 3-ə və 5-ə bölünən ədədlər\n",
    "result = arr[(arr % 3 == 0) & (arr % 5 == 0)]\n",
    "\n",
    "print(result)\n"
   ]
  },
  {
   "cell_type": "code",
   "execution_count": 3,
   "id": "f4fdd1c5",
   "metadata": {},
   "outputs": [
    {
     "name": "stdout",
     "output_type": "stream",
     "text": [
      "Matris:\n",
      "[[0.90852968 0.38261047 0.63307756 0.01156474]\n",
      " [0.79331443 0.69088449 0.11436296 0.46508101]\n",
      " [0.53901035 0.16229763 0.88074831 0.35390839]\n",
      " [0.17413518 0.85727899 0.06437269 0.90178046]]\n",
      "\n",
      "Hər sütunun maksimum dəyəri:\n",
      "[0.90852968 0.85727899 0.88074831 0.90178046]\n"
     ]
    }
   ],
   "source": [
    "# 3. 4x4 ölçülü təsadüfi onluq ədədlərdən ibarət matris yaradın. Hər bir sütunun maksimum dəyərini tapın.\n",
    "import numpy as np\n",
    "\n",
    "# 4x4 ölçülü təsadüfi onluq ədədlərdən ibarət matris yaradılır\n",
    "matrix = np.random.rand(4, 4)\n",
    "\n",
    "# Hər bir sütunun maksimum dəyərini tapırıq\n",
    "max_per_column = matrix.max(axis=0)\n",
    "\n",
    "print(\"Matris:\")\n",
    "print(matrix)\n",
    "print(\"\\nHər sütunun maksimum dəyəri:\")\n",
    "print(max_per_column)\n"
   ]
  },
  {
   "cell_type": "code",
   "execution_count": 4,
   "id": "dddfa637",
   "metadata": {},
   "outputs": [
    {
     "name": "stdout",
     "output_type": "stream",
     "text": [
      "Təsadüfi massiv:\n",
      "[ 84  31  98  89  47  72 100  59  57  85]\n",
      "\n",
      "Sıralanmış massiv:\n",
      "[ 31  47  57  59  72  84  85  89  98 100]\n"
     ]
    }
   ],
   "source": [
    "# 4. 1-dən 100-ə qədər təsadüfi tam ədədlərdən ibarət 10 elementlik massiv yaradın.\n",
    "# Daha sonra massivdəki bütün elementləri kiçikdən böyüyə doğru sıralayın.\n",
    "import numpy as np\n",
    "\n",
    "# 1-dən 100-ə qədər təsadüfi tam ədədlərdən ibarət 10 elementlik massiv yaradılır\n",
    "arr = np.random.randint(1, 101, size=10)\n",
    "\n",
    "print(\"Təsadüfi massiv:\")\n",
    "print(arr)\n",
    "\n",
    "# Massivi kiçikdən böyüyə sıralayırıq\n",
    "sorted_arr = np.sort(arr)\n",
    "\n",
    "print(\"\\nSıralanmış massiv:\")\n",
    "print(sorted_arr)\n"
   ]
  },
  {
   "cell_type": "code",
   "execution_count": 6,
   "id": "96e19cf9",
   "metadata": {},
   "outputs": [],
   "source": [
    "# 5. 1-dən 101-ə qədər 6x6 ölçülü təsadüfi tam ədədlərdən ibarət matris yaradın.\n",
    "# Matrisin əsas diaqonalında yerləşən elementləri çıxarın və cəmini hesablayın."
   ]
  },
  {
   "cell_type": "code",
   "execution_count": 23,
   "id": "ec0508b1-72d3-4360-837e-09a150e0b6aa",
   "metadata": {},
   "outputs": [
    {
     "name": "stdout",
     "output_type": "stream",
     "text": [
      "Diagonal sum = 338\n"
     ]
    }
   ],
   "source": [
    "matrix = np.random.randint(1, 101, size = (6, 6))\n",
    "diag = np.diag(matrix)\n",
    "diag_sum = sum(diag)\n",
    "print(f'Diagonal sum = {diag_sum}')"
   ]
  },
  {
   "cell_type": "code",
   "execution_count": 24,
   "id": "caf70407",
   "metadata": {},
   "outputs": [],
   "source": [
    "# 6. 1-dən 25-ə qədər olan ədədləri bir massivdə saxlayın. Bu massivdən 5x5 ölçülü bir matris yaradın və\n",
    "# həmin matrisin hər bir sütununun kvadratlarını hesablayaraq yeni matris yaradın. (Sadəcə np funksiyaları istifadə edin)"
   ]
  },
  {
   "cell_type": "code",
   "execution_count": 25,
   "id": "4ac82e99-1d78-4ec5-b6bb-31f3d2c580a1",
   "metadata": {},
   "outputs": [
    {
     "name": "stdout",
     "output_type": "stream",
     "text": [
      "[[  1   4   9  16  25]\n",
      " [ 36  49  64  81 100]\n",
      " [121 144 169 196 225]\n",
      " [256 289 324 361 400]\n",
      " [441 484 529 576 625]]\n"
     ]
    }
   ],
   "source": [
    "arr = np.arange(1, 26)\n",
    "matrix = arr.reshape(5, 5)\n",
    "matrix_squared = np.square(matrix)\n",
    "print(matrix_squared)"
   ]
  },
  {
   "cell_type": "code",
   "execution_count": 26,
   "id": "ccfd3cb0-05e4-4899-8c60-45b82c3f9bdc",
   "metadata": {},
   "outputs": [],
   "source": [
    "# 7. 2-dən 10-a qədər sadəcə cüt ədədlərdən ibarət bir massiv yaradın və\n",
    "# həmin massivdən əsas diaqonalı həmin ədədlərdən ibarət olan bir matris yaradın."
   ]
  },
  {
   "cell_type": "code",
   "execution_count": 29,
   "id": "8f488db4-1ebb-4092-8764-f566a823d6d2",
   "metadata": {},
   "outputs": [
    {
     "name": "stdout",
     "output_type": "stream",
     "text": [
      "[[ 2  0  0  0  0]\n",
      " [ 0  4  0  0  0]\n",
      " [ 0  0  6  0  0]\n",
      " [ 0  0  0  8  0]\n",
      " [ 0  0  0  0 10]]\n"
     ]
    }
   ],
   "source": [
    "arr = np.arange(2, 11, 2)\n",
    "diag_matrix = np.diag(arr)\n",
    "print(diag_matrix)"
   ]
  },
  {
   "cell_type": "code",
   "execution_count": 17,
   "id": "18044fc2-26a1-4e3b-8de2-e52862a51edf",
   "metadata": {},
   "outputs": [],
   "source": [
    "# 8. Tələbələrin adı, fənn adı və imtahan nəticələrini saxlayan DataFrame yaradın.\n",
    "# Yalnız 80 və ya daha çox bal toplayan tələbələri seçərək yeni DataFrame yaradın"
   ]
  },
  {
   "cell_type": "code",
   "execution_count": 2,
   "id": "fd8e9484-c07f-403e-b301-732eeeb93bdc",
   "metadata": {},
   "outputs": [
    {
     "name": "stdout",
     "output_type": "stream",
     "text": [
      "      Name    Subject  Score\n",
      "1     Tony    History     90\n",
      "2  Michael  Chemistry     95\n"
     ]
    }
   ],
   "source": [
    "import pandas as pd\n",
    "data = {'Name': ['Mark', 'Tony', 'Michael'], 'Subject': ['Math', 'History', 'Chemistry'], 'Score': [75, 90, 95]}\n",
    "df = pd.DataFrame(data)\n",
    "A = df[df['Score'] > 80]\n",
    "print(A)"
   ]
  },
  {
   "cell_type": "code",
   "execution_count": 3,
   "id": "e64ec69a-06b0-495a-8756-1f8ec242014e",
   "metadata": {},
   "outputs": [],
   "source": [
    "# 9. Fərqli mağazaların (şəhərlər üzrə), məhsulların və satış rəqəmlərini saxlayan DataFrame yaradın.\n",
    "# Hər bir mağaza üzrə məhsul satışlarının toplamını hesablayın."
   ]
  },
  {
   "cell_type": "code",
   "execution_count": 4,
   "id": "b62a7493-3e1c-41d6-aa64-ca0b0d14b65f",
   "metadata": {},
   "outputs": [
    {
     "name": "stdout",
     "output_type": "stream",
     "text": [
      "City\n",
      "Baku       3\n",
      "London     9\n",
      "Madrid    25\n",
      "Name: Sales, dtype: int64\n"
     ]
    }
   ],
   "source": [
    "data = {'City': ['Baku', 'Baku', 'London', 'London', 'Madrid', 'Madrid'], 'Product': ['Milk', 'Egg', 'Milk', 'Egg', 'Milk', 'Egg'], 'Sales': [2, 1, 4, 5, 10, 15]}\n",
    "df = pd.DataFrame(data)\n",
    "df_sum = df.groupby('City')['Sales'].sum()\n",
    "print(df_sum)"
   ]
  },
  {
   "cell_type": "code",
   "execution_count": 5,
   "id": "6ed287a9-3263-47bb-a059-84ebb577f117",
   "metadata": {},
   "outputs": [],
   "source": [
    "# 10. Bir il ərzində aylıq temperatur məlumatlarını saxlayan DataFrame yaradın. Hər mövsüm üçün orta temperaturu hesablayın"
   ]
  },
  {
   "cell_type": "code",
   "execution_count": 6,
   "id": "8f3c1ce7-525a-4ec7-a78d-4214ab901b9b",
   "metadata": {},
   "outputs": [
    {
     "name": "stdout",
     "output_type": "stream",
     "text": [
      "Season\n",
      "Autumn    16.000000\n",
      "Spring    15.000000\n",
      "Summer    26.666667\n",
      "Winter     5.333333\n",
      "Name: Temperature, dtype: float64\n"
     ]
    }
   ],
   "source": [
    "data = {\"Month\": [\"Jan\", \"Feb\", \"Mar\", \"Apr\", \"May\", \"Jun\", \"Jul\", \"Aug\", \"Sep\", \"Oct\", \"Nov\", \"Dec\"],\"Temperature\": [4, 6, 10, 15, 20, 25, 28, 27, 22, 16, 10, 6]}\n",
    "df = pd.DataFrame(data)\n",
    "season_map = {\"Jan\": \"Winter\", \"Feb\": \"Winter\", \"Dec\": \"Winter\", \"Mar\": \"Spring\", \"Apr\": \"Spring\", \"May\": \"Spring\",\"Jun\": \"Summer\", \"Jul\": \"Summer\", \"Aug\": \"Summer\",\"Sep\": \"Autumn\", \"Oct\": \"Autumn\", \"Nov\": \"Autumn\"}\n",
    "df[\"Season\"] = df[\"Month\"].map(season_map)\n",
    "avg_temp_per_season = df.groupby(\"Season\")[\"Temperature\"].mean()\n",
    "print(avg_temp_per_season)"
   ]
  },
  {
   "cell_type": "code",
   "execution_count": 15,
   "id": "682f0492-56b5-4e02-8e5c-773be36e7e01",
   "metadata": {},
   "outputs": [
    {
     "name": "stdin",
     "output_type": "stream",
     "text": [
      "Enter number of columns:  4\n",
      "Enter number of rows:  4\n"
     ]
    },
    {
     "name": "stdout",
     "output_type": "stream",
     "text": [
      "Values of k: [1, 2, 3, 4]\n",
      "------------\n",
      "[-4, 0, 2, 3]\n",
      "------------\n",
      "[[0.24752927 0.39323971 0.62483812 0.14842657]\n",
      " [0.14903338 0.83155993 0.64429523 0.96989772]\n",
      " [0.3681476  0.82406528 0.43673624 0.80941803]\n",
      " [0.33773289 0.00331511 0.18016737 0.31086501]]\n",
      "------------\n",
      "[0.24752927315801954, 0.39323970893239524, 0.43673623974508213, 0.3108650105633066]\n"
     ]
    }
   ],
   "source": [
    "import numpy as np\n",
    "k = int(input('Enter number of columns: '))\n",
    "n = int(input('Enter number of rows: '))\n",
    "a = list(range(1, k + 1))\n",
    "print(f'Values of k: {a}')\n",
    "print('------------')\n",
    "y = []\n",
    "for x in a:\n",
    "    i = n - (2 ** (n - x))\n",
    "    y.append(i)\n",
    "print(y)\n",
    "print('------------')\n",
    "matrix = np.random.rand(n, k)\n",
    "print(matrix)\n",
    "print('------------')\n",
    "result = [matrix[y[i], i] for i in range(k)]\n",
    "print(result)"
   ]
  },
  {
   "cell_type": "code",
   "execution_count": 27,
   "id": "f83c45ca-93b9-4470-84e7-3fc73ed9ee75",
   "metadata": {},
   "outputs": [
    {
     "name": "stdout",
     "output_type": "stream",
     "text": [
      "            Temperature  Humidity  WindSpeed   Rainfall  Desc\n",
      "Date                                                         \n",
      "2024-01-01            4        23  11.565596  15.957687  None\n",
      "2024-01-02           15        99   3.902483  16.999616    19\n",
      "2024-01-03            0        78   5.843653  14.405335    18\n",
      "2024-01-04           11        92  14.223190  10.109395    17\n",
      "2024-01-05           14        27   1.023066  17.640390    16\n",
      "2024-01-06           16        39  12.213004  11.851194    15\n",
      "2024-01-07           14        29  10.633711  13.549151    14\n",
      "2024-01-08           29        33  13.698633  19.774122    13\n",
      "2024-01-09           18        80  11.844883  16.415439    12\n",
      "2024-01-10           13        33   8.873558   3.945878    11\n",
      "2024-01-11           11        56  11.367056  18.670360    10\n",
      "2024-01-12            3        84   3.284138  13.956091     9\n",
      "2024-01-13           33        51   4.222458  18.642136     8\n",
      "2024-01-14           28        44   0.639081  13.124810     7\n",
      "2024-01-15           15        62  10.509838  13.258625     6\n",
      "2024-01-16            1        76   3.227259  16.055832     5\n",
      "2024-01-17            3        68   6.637833   8.130013     4\n",
      "2024-01-18           28        40  11.447811  13.186370     3\n",
      "2024-01-19           29        84   7.502429   7.673788     2\n",
      "2024-01-20           -4        99  12.160986  12.068728     1\n"
     ]
    }
   ],
   "source": [
    "import pandas as pd\n",
    "import numpy as np\n",
    "dates = pd.date_range(start=\"2024-01-01\", periods=20, freq=\"D\")\n",
    "df = pd.DataFrame({\n",
    "    \"Date\": dates,\n",
    "    \"Temperature\": np.random.randint(-5, 35, size=20), \n",
    "    \"Humidity\": np.random.randint(20, 100, size=20),    \n",
    "    \"WindSpeed\": np.random.uniform(0, 15, size=20),     \n",
    "    \"Rainfall\": np.random.uniform(0, 20, size=20)       \n",
    "})\n",
    "df.set_index(\"Date\", inplace=True)\n",
    "random_date = np.random.choice(df.index)\n",
    "start_index = df.index.get_loc(random_date)\n",
    "df[\"Desc\"] = None\n",
    "df.iloc[start_index:, df.columns.get_loc(\"Desc\")] = np.arange(len(df) - start_index, 0, -1)\n",
    "print(df)"
   ]
  },
  {
   "cell_type": "code",
   "execution_count": null,
   "id": "4f57e704-c963-44ea-bb0a-4aa38d521b8c",
   "metadata": {},
   "outputs": [],
   "source": []
  }
 ],
 "metadata": {
  "kernelspec": {
   "display_name": "Python [conda env:base] *",
   "language": "python",
   "name": "conda-base-py"
  },
  "language_info": {
   "codemirror_mode": {
    "name": "ipython",
    "version": 3
   },
   "file_extension": ".py",
   "mimetype": "text/x-python",
   "name": "python",
   "nbconvert_exporter": "python",
   "pygments_lexer": "ipython3",
   "version": "3.12.7"
  }
 },
 "nbformat": 4,
 "nbformat_minor": 5
}
