{
 "cells": [
  {
   "cell_type": "code",
   "execution_count": 67,
   "id": "5c494139",
   "metadata": {
    "scrolled": true
   },
   "outputs": [],
   "source": [
    "# 1. NumPy istifadə edərək təsadüfi 100 tam ədəddən ibarət massiv yaradın.\n",
    "# Bu massivdə yalnız unikal elementləri seçərək Pandas DataFrame-ə yerləşdirin və sütunu \"Unique_Numbers\" adlandırın."
   ]
  },
  {
   "cell_type": "code",
   "execution_count": 68,
   "id": "e42c99c9-eb30-4f6a-8405-53abd5a45af8",
   "metadata": {},
   "outputs": [
    {
     "name": "stdout",
     "output_type": "stream",
     "text": [
      "    Unique_Numbers\n",
      "0                6\n",
      "1               14\n",
      "2               22\n",
      "3               28\n",
      "4               31\n",
      "..             ...\n",
      "90             931\n",
      "91             944\n",
      "92             962\n",
      "93             980\n",
      "94             985\n",
      "\n",
      "[95 rows x 1 columns]\n"
     ]
    }
   ],
   "source": [
    "import numpy as np\n",
    "import pandas as pd\n",
    "arr = np.random.randint(0, 1000, size=100)\n",
    "unique_arr = np.unique(arr)\n",
    "df = pd.DataFrame(unique_arr, columns=['Unique_Numbers'])\n",
    "print(df)"
   ]
  },
  {
   "cell_type": "code",
   "execution_count": 69,
   "id": "7b23263a",
   "metadata": {},
   "outputs": [],
   "source": [
    "# 2. NumPy istifadə edərək 10x10 ölçülü təsadüfi tam ədədlərdən ibarət matris yaradın.\n",
    "# Pandas DataFrame-ə çevirərək hər bir sütunun maksimum dəyərini tapın və yeni bir DataFrame-də saxlayın."
   ]
  },
  {
   "cell_type": "code",
   "execution_count": 70,
   "id": "434b3e3a-1d41-4921-94a4-2b56d57fdc8c",
   "metadata": {},
   "outputs": [
    {
     "name": "stdout",
     "output_type": "stream",
     "text": [
      "    0\n",
      "0  93\n",
      "1  88\n",
      "2  97\n",
      "3  93\n",
      "4  95\n",
      "5  90\n",
      "6  98\n",
      "7  97\n",
      "8  92\n",
      "9  97\n"
     ]
    }
   ],
   "source": [
    "matrix = np.random.randint(0, 100, size = (10, 10))\n",
    "df = pd.DataFrame(matrix)\n",
    "max_values = df.max()\n",
    "df_max = pd.DataFrame(max_values)\n",
    "print(df_max)"
   ]
  },
  {
   "cell_type": "code",
   "execution_count": 71,
   "id": "1e5f5886",
   "metadata": {},
   "outputs": [],
   "source": [
    "# 3. Pandas DataFrame yaradaraq 5 fərqli məhsulun adlarını, qiymətlərini və satılan miqdarlarını saxlayın.\n",
    "# Hər bir məhsulun ümumi gəlirini (qiymət × miqdar) hesablamaq üçün yeni bir sütun əlavə edin."
   ]
  },
  {
   "cell_type": "code",
   "execution_count": 72,
   "id": "f988f7d9-d220-4eb3-8e96-64f48ec5ebb0",
   "metadata": {},
   "outputs": [
    {
     "name": "stdout",
     "output_type": "stream",
     "text": [
      "  Product  Price  Count  Total\n",
      "0  Potato    5.0    100  500.0\n",
      "1  Carrot    6.0     50  300.0\n",
      "2     Egg    0.3     10    3.0\n",
      "3    Milk    3.0      2    6.0\n",
      "4   Candy    2.0     20   40.0\n"
     ]
    }
   ],
   "source": [
    "data = {'Product': ['Potato', 'Carrot', 'Egg', 'Milk', 'Candy'], 'Price': [5, 6, 0.3, 3, 2], 'Count': [100, 50, 10, 2, 20]}\n",
    "df = pd.DataFrame(data)\n",
    "df['Total'] = df['Price'] * df['Count']\n",
    "print(df)"
   ]
  },
  {
   "cell_type": "code",
   "execution_count": 73,
   "id": "5e64b838",
   "metadata": {},
   "outputs": [],
   "source": [
    "# 4. NumPy istifadə edərək təsadüfi 50 tam ədədlərdən ibarət massiv yaradın.\n",
    "# Bu massivdə ədədlərin 5-dən böyük və 50-dən kiçik olanlarını seçərək Pandas DataFrame-də saxlayın."
   ]
  },
  {
   "cell_type": "code",
   "execution_count": 74,
   "id": "1cee001d-4e7d-49aa-aae9-a6af73fd6462",
   "metadata": {},
   "outputs": [
    {
     "name": "stdout",
     "output_type": "stream",
     "text": [
      "     0\n",
      "0   22\n",
      "1   21\n",
      "2   11\n",
      "3   45\n",
      "4   44\n",
      "5   40\n",
      "6    6\n",
      "7   22\n",
      "8   24\n",
      "9   28\n",
      "10  36\n",
      "11  44\n",
      "12  23\n",
      "13  16\n",
      "14  22\n",
      "15  14\n",
      "16  19\n",
      "17  42\n",
      "18   7\n",
      "19  21\n",
      "20  36\n",
      "21  23\n"
     ]
    }
   ],
   "source": [
    "array = np.random.randint(0, 100, size = 50)\n",
    "l = [i for i in array if (i > 5) & (i < 50)]\n",
    "df = pd.DataFrame(l)\n",
    "print(df)"
   ]
  },
  {
   "cell_type": "code",
   "execution_count": 75,
   "id": "b7835716",
   "metadata": {},
   "outputs": [],
   "source": [
    "# 5. Pandas istifadə edərək bir DataFrame yaradın. DataFrame 4 tələbənin adı, Numpy və Pandas mövzularından aldığı balları\n",
    "# saxlasın. Hər bir tələbənin ümumi balını və orta balını hesablayaraq yeni sütunlar əlavə edin."
   ]
  },
  {
   "cell_type": "code",
   "execution_count": 76,
   "id": "a1292eab-86cb-4c67-8a67-2f9d0ee3a7f7",
   "metadata": {},
   "outputs": [
    {
     "name": "stdout",
     "output_type": "stream",
     "text": [
      "     Name  Numpy_Grade  Pandas_Grade  Total score  Avg Score\n",
      "0  Fakhri           90            90          180       90.0\n",
      "1   Elcan           90            90          180       90.0\n",
      "2  Ruslan           90            90          180       90.0\n",
      "3   Vuqar           90            90          180       90.0\n"
     ]
    }
   ],
   "source": [
    "data = {'Name': ['Fakhri', 'Elcan', 'Ruslan', 'Vuqar'], 'Numpy_Grade': [90, 90, 90, 90], 'Pandas_Grade': [90, 90, 90, 90]}\n",
    "df = pd.DataFrame(data)\n",
    "df['Total score'] = df['Numpy_Grade'] + df['Pandas_Grade']\n",
    "df['Avg Score'] = (df['Numpy_Grade'] + df['Pandas_Grade'])/ 2\n",
    "print(df)"
   ]
  },
  {
   "cell_type": "code",
   "execution_count": 77,
   "id": "d2acfd9f",
   "metadata": {},
   "outputs": [],
   "source": [
    "# 6. NumPy istifadə edərək təsadüfi 20 tam ədədlərdən ibarət massiv yaradın.\n",
    "# Pandas DataFrame-də hər bir ədədin kvadratını və kvadrat kökünü saxlayan sütunlar əlavə edin."
   ]
  },
  {
   "cell_type": "code",
   "execution_count": 78,
   "id": "3d79440a-723d-4b78-8866-af43eccf1f53",
   "metadata": {},
   "outputs": [
    {
     "name": "stdout",
     "output_type": "stream",
     "text": [
      "    Numbers  Square      Root\n",
      "0        26     676  5.099020\n",
      "1        34    1156  5.830952\n",
      "2        23     529  4.795832\n",
      "3        37    1369  6.082763\n",
      "4        36    1296  6.000000\n",
      "5        21     441  4.582576\n",
      "6        19     361  4.358899\n",
      "7        35    1225  5.916080\n",
      "8        48    2304  6.928203\n",
      "9         6      36  2.449490\n",
      "10       43    1849  6.557439\n",
      "11       12     144  3.464102\n",
      "12       20     400  4.472136\n",
      "13       15     225  3.872983\n",
      "14       12     144  3.464102\n",
      "15        4      16  2.000000\n",
      "16        5      25  2.236068\n",
      "17       13     169  3.605551\n",
      "18       39    1521  6.244998\n",
      "19       25     625  5.000000\n"
     ]
    }
   ],
   "source": [
    "array = np.random.randint(0, 50, size = 20)\n",
    "df = pd.DataFrame()\n",
    "df['Numbers'] = array\n",
    "df['Square'] = df['Numbers'] ** 2\n",
    "df['Root'] = np.sqrt(df['Numbers'])\n",
    "print(df)"
   ]
  },
  {
   "cell_type": "code",
   "execution_count": 79,
   "id": "c69d0caf",
   "metadata": {},
   "outputs": [],
   "source": [
    "# 7. Pandas DataFrame yaradın, hər birində 7 günə aid olan temperatur dəyərləri olan iki sütun (şəhər) saxlasın.\n",
    "# Hər günün ortalama temperaturunu taparaq yeni bir sütun əlavə edin."
   ]
  },
  {
   "cell_type": "code",
   "execution_count": 80,
   "id": "00da7d88-5953-4958-b550-79cc9e779b01",
   "metadata": {},
   "outputs": [
    {
     "name": "stdout",
     "output_type": "stream",
     "text": [
      "        Days  Baku  Ganja   Avg\n",
      "0     Monday    30     26  28.0\n",
      "1    Tuesday    32     29  30.5\n",
      "2  Wednesday    31     30  30.5\n",
      "3   Thursday    33     26  29.5\n",
      "4     Friday    30     29  29.5\n",
      "5   Saturday    34     30  32.0\n",
      "6     Sunday    35     31  33.0\n"
     ]
    }
   ],
   "source": [
    "data = {'Days': ['Monday', 'Tuesday', 'Wednesday', 'Thursday', 'Friday', 'Saturday', 'Sunday'],\n",
    "       'Baku': [30, 32, 31, 33, 30, 34, 35],\n",
    "       'Ganja': [26, 29, 30, 26, 29, 30, 31]}\n",
    "df = pd.DataFrame(data)\n",
    "df['Avg'] = (df['Baku'] + df['Ganja'])/ 2\n",
    "print(df)"
   ]
  },
  {
   "cell_type": "code",
   "execution_count": 81,
   "id": "286e4fb4",
   "metadata": {},
   "outputs": [],
   "source": [
    "# 8. NumPy ilə təsadüfi 6x6 ölçülü tam ədədlərdən ibarət matris yaradın.\n",
    "# Pandas istifadə edərək DataFrame-ə çevirin və hər bir sətirin toplamını saxlayan yeni bir sütun əlavə edin."
   ]
  },
  {
   "cell_type": "code",
   "execution_count": 82,
   "id": "f3041a0d-fca2-41de-89d1-7acc6e238b7b",
   "metadata": {},
   "outputs": [
    {
     "name": "stdout",
     "output_type": "stream",
     "text": [
      "   0  1  2  3  4  5  Total\n",
      "0  5  5  2  2  0  0     23\n",
      "1  6  4  2  4  9  1     27\n",
      "2  4  8  9  1  6  4     22\n",
      "3  3  8  3  1  1  3     13\n",
      "4  3  2  1  3  0  7     24\n",
      "5  2  0  5  2  8  3     18\n"
     ]
    }
   ],
   "source": [
    "matrix = np.random.randint(0, 10, size = (6, 6))\n",
    "df = pd.DataFrame(matrix)\n",
    "df['Total'] = df.sum()\n",
    "print(df)"
   ]
  },
  {
   "cell_type": "code",
   "execution_count": 83,
   "id": "7f426d53",
   "metadata": {},
   "outputs": [],
   "source": [
    "# 9.Pandas istifadə edərək 5 nəfərin adlarını və yaşlarını saxlayan DataFrame yaradın.\n",
    "# DataFrame-də 25 yaşdan kiçik olan şəxsləri seçərək yeni DataFrame yaradın."
   ]
  },
  {
   "cell_type": "code",
   "execution_count": 84,
   "id": "6c06c436-981c-4c08-a69f-00608e553eb5",
   "metadata": {},
   "outputs": [
    {
     "name": "stdout",
     "output_type": "stream",
     "text": [
      "     Name  Age\n",
      "0  Fakhri   19\n",
      "3   Vuqar   24\n",
      "4    Oguz   15\n"
     ]
    }
   ],
   "source": [
    "data = {'Name': ['Fakhri', 'Elcan', 'Ruslan', 'Vuqar', 'Oguz'], 'Age': [19, 25, 39, 24, 15]}\n",
    "df = pd.DataFrame(data)\n",
    "df_25 = df[df['Age'] < 25]\n",
    "print(df_25)"
   ]
  },
  {
   "cell_type": "code",
   "execution_count": 85,
   "id": "0bfb8402",
   "metadata": {},
   "outputs": [],
   "source": [
    "# 10. Pandas istifadə edərək təsadüfi 10 elementdən ibarət sütun yaradın. Sütunda hər bir elementin minimum və maksimum\n",
    "# dəyərləri arasındakı fərqi tapın."
   ]
  },
  {
   "cell_type": "code",
   "execution_count": 86,
   "id": "000648e4-ea1e-4231-8750-8345142ce456",
   "metadata": {},
   "outputs": [
    {
     "name": "stdout",
     "output_type": "stream",
     "text": [
      "    0\n",
      "0  30\n",
      "1   4\n",
      "2  28\n",
      "3  29\n",
      "4  45\n",
      "5  48\n",
      "6  48\n",
      "7  26\n",
      "8  24\n",
      "9  18\n",
      "----------\n",
      "0    44\n",
      "dtype: int32\n"
     ]
    }
   ],
   "source": [
    "array = np.random.randint(0, 50, size = 10)\n",
    "df = pd.DataFrame(array)\n",
    "min_value = df.min()\n",
    "max_value = df.max()\n",
    "diff = max_value - min_value\n",
    "print(df)\n",
    "print('----------')\n",
    "print(diff)"
   ]
  },
  {
   "cell_type": "code",
   "execution_count": 87,
   "id": "851725bf",
   "metadata": {},
   "outputs": [],
   "source": [
    "# 11. NumPy istifadə edərək təsadüfi 5x5 ölçülü matris yaradın. Pandas istifadə edərək hər bir sütunun ortalamasını hesablayın\n",
    "# və nəticəni yeni DataFrame-də saxlayın."
   ]
  },
  {
   "cell_type": "code",
   "execution_count": 88,
   "id": "803f1690-25ff-49d4-8556-cbbf0fa4de8d",
   "metadata": {},
   "outputs": [
    {
     "name": "stdout",
     "output_type": "stream",
     "text": [
      "   Avg\n",
      "0  5.8\n",
      "1  4.8\n",
      "2  4.4\n",
      "3  4.6\n",
      "4  3.8\n"
     ]
    }
   ],
   "source": [
    "matrix = np.random.randint(0, 10, size = (5, 5))\n",
    "df = pd.DataFrame(matrix)\n",
    "avg = df.mean()\n",
    "df_avg = pd.DataFrame(avg, columns = ['Avg'])\n",
    "print(df_avg)"
   ]
  },
  {
   "cell_type": "code",
   "execution_count": 89,
   "id": "2ddf46ef",
   "metadata": {},
   "outputs": [],
   "source": [
    "# 12. Pandas DataFrame yaradaraq məhsulun adını və satış tarixini saxlayın. Satış tarixləri arasındakı fərqi tapın\n",
    "# və gün olaraq yeni sütunda göstərin."
   ]
  },
  {
   "cell_type": "code",
   "execution_count": 90,
   "id": "22365e06-fd0b-4d71-b00b-d0e0c936a2e9",
   "metadata": {},
   "outputs": [
    {
     "name": "stdout",
     "output_type": "stream",
     "text": [
      "    Name       Date  Diff\n",
      "0  Apple 2025-08-01   NaN\n",
      "1   Milk 2025-08-02   1.0\n",
      "2    Egg 2025-08-03   1.0\n"
     ]
    }
   ],
   "source": [
    "data = {'Name': ['Apple', 'Milk', 'Egg'], 'Date': ['2025-08-01', '2025-08-02', '2025-08-03']}\n",
    "df = pd.DataFrame(data)\n",
    "df['Date'] = pd.to_datetime(df['Date'])\n",
    "df['Diff'] = df['Date'].diff().dt.days\n",
    "print(df)"
   ]
  },
  {
   "cell_type": "code",
   "execution_count": 91,
   "id": "65868385",
   "metadata": {},
   "outputs": [],
   "source": [
    "# 13. NumPy istifadə edərək 1-dən 100-ə qədər ardıcıl ədədlərdən ibarət massiv yaradın.\n",
    "# Pandas ilə hər bir ədədin cüt və ya tək olduğunu göstərən yeni sütun əlavə edin."
   ]
  },
  {
   "cell_type": "code",
   "execution_count": 92,
   "id": "405f6d26-02c8-4a9c-9d9d-00c8e35f82fd",
   "metadata": {},
   "outputs": [
    {
     "name": "stdout",
     "output_type": "stream",
     "text": [
      "    Number  Type\n",
      "0        1   Odd\n",
      "1        2  Even\n",
      "2        3   Odd\n",
      "3        4  Even\n",
      "4        5   Odd\n",
      "..     ...   ...\n",
      "95      96  Even\n",
      "96      97   Odd\n",
      "97      98  Even\n",
      "98      99   Odd\n",
      "99     100  Even\n",
      "\n",
      "[100 rows x 2 columns]\n"
     ]
    }
   ],
   "source": [
    "arr = np.arange(1, 101)\n",
    "df = pd.DataFrame()\n",
    "df['Number'] = arr\n",
    "df['Type'] = 'Odd'        \n",
    "df.loc[df['Number'] % 2 == 0, 'Type'] = 'Even'  \n",
    "print(df)"
   ]
  },
  {
   "cell_type": "code",
   "execution_count": 93,
   "id": "2a79c038",
   "metadata": {},
   "outputs": [],
   "source": [
    "# 14. Pandas DataFrame yaradaraq 5 fərqli məhsulun adı və qiymətini saxlayın.\n",
    "# Qiyməti 50-dən çox olan məhsulları seçərək yeni DataFrame yaradın."
   ]
  },
  {
   "cell_type": "code",
   "execution_count": 94,
   "id": "c1bd6b25-7dc1-4315-bdf9-362f8700a908",
   "metadata": {},
   "outputs": [
    {
     "name": "stdout",
     "output_type": "stream",
     "text": [
      "  Product  Price\n",
      "0     Egg     90\n",
      "3  Banana    200\n"
     ]
    }
   ],
   "source": [
    "data = {'Product': ['Egg', 'Milk', 'Apple', 'Banana', 'Orange'], 'Price': [90, 3, 50, 200, 6]}\n",
    "df = pd.DataFrame(data)\n",
    "p = df[df['Price'] > 50]\n",
    "df_50 = pd.DataFrame(p)\n",
    "print(df_50)"
   ]
  },
  {
   "cell_type": "code",
   "execution_count": 95,
   "id": "dd41c4af",
   "metadata": {},
   "outputs": [],
   "source": [
    "# 15. NumPy istifadə edərək təsadüfi 20 elementdən ibarət massiv yaradın. Pandas istifadə edərək\n",
    "# massivdə təkrarlanan elementləri tapın və onların sayını göstərin."
   ]
  },
  {
   "cell_type": "code",
   "execution_count": 96,
   "id": "1c84ce46-5af8-43e0-8d90-9fd8698c61c5",
   "metadata": {},
   "outputs": [
    {
     "name": "stdout",
     "output_type": "stream",
     "text": [
      "0\n",
      "6    5\n",
      "9    4\n",
      "8    3\n",
      "3    2\n",
      "5    2\n",
      "0    1\n",
      "1    1\n",
      "2    1\n",
      "7    1\n",
      "Name: count, dtype: int64\n"
     ]
    }
   ],
   "source": [
    "array = np.random.randint(0, 10, size = 20)\n",
    "df = pd.DataFrame(array)\n",
    "vc = df.value_counts()\n",
    "print(vc)"
   ]
  }
 ],
 "metadata": {
  "kernelspec": {
   "display_name": "Python [conda env:base] *",
   "language": "python",
   "name": "conda-base-py"
  },
  "language_info": {
   "codemirror_mode": {
    "name": "ipython",
    "version": 3
   },
   "file_extension": ".py",
   "mimetype": "text/x-python",
   "name": "python",
   "nbconvert_exporter": "python",
   "pygments_lexer": "ipython3",
   "version": "3.12.7"
  }
 },
 "nbformat": 4,
 "nbformat_minor": 5
}
