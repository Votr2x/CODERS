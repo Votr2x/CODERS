{
 "cells": [
  {
   "cell_type": "code",
   "id": "f963be59",
   "metadata": {
    "ExecuteTime": {
     "end_time": "2025-08-19T09:47:00.772641Z",
     "start_time": "2025-08-19T09:46:56.002790Z"
    }
   },
   "source": [
    "%matplotlib inline\n",
    "import pandas as pd\n",
    "import numpy as np\n",
    "import matplotlib.pyplot as plt\n",
    "import sys\n",
    "!pip install openpyxl"
   ],
   "outputs": [
    {
     "name": "stdout",
     "output_type": "stream",
     "text": [
      "Defaulting to user installation because normal site-packages is not writeable\r\n",
      "Collecting openpyxl\r\n",
      "  Downloading openpyxl-3.1.5-py2.py3-none-any.whl.metadata (2.5 kB)\r\n",
      "Collecting et-xmlfile (from openpyxl)\r\n",
      "  Downloading et_xmlfile-2.0.0-py3-none-any.whl.metadata (2.7 kB)\r\n",
      "Downloading openpyxl-3.1.5-py2.py3-none-any.whl (250 kB)\r\n",
      "Downloading et_xmlfile-2.0.0-py3-none-any.whl (18 kB)\r\n",
      "Installing collected packages: et-xmlfile, openpyxl\r\n",
      "Successfully installed et-xmlfile-2.0.0 openpyxl-3.1.5\r\n"
     ]
    }
   ],
   "execution_count": 1
  },
  {
   "cell_type": "code",
   "id": "976a2a41",
   "metadata": {
    "ExecuteTime": {
     "end_time": "2025-08-19T09:47:00.794748Z",
     "start_time": "2025-08-19T09:47:00.788167Z"
    }
   },
   "source": [
    "# 1. Excel faylını Pandas ilə oxuyun və fayldakı bütün sütun adlarını göstərin.\n",
    "# Bundan əlavə, fayldakı məlumatların neçə sətirdən və neçə sütundan ibarət olduğunu təyin edin.\n",
    "\n"
   ],
   "outputs": [],
   "execution_count": 2
  },
  {
   "cell_type": "code",
   "id": "b0e6c7a4",
   "metadata": {
    "ExecuteTime": {
     "end_time": "2025-08-19T09:47:00.855569Z",
     "start_time": "2025-08-19T09:47:00.851302Z"
    }
   },
   "source": [
    "# 2. Faylda ən yüksək toplam bal toplamış tələbəni və onun balını tapın."
   ],
   "outputs": [],
   "execution_count": 3
  },
  {
   "cell_type": "code",
   "id": "0c59e291",
   "metadata": {
    "ExecuteTime": {
     "end_time": "2025-08-19T09:47:00.908158Z",
     "start_time": "2025-08-19T09:47:00.904838Z"
    }
   },
   "source": [
    "# 3. Hər tələbənin orta balını hesablayın və yeni bir sütun əlavə edin. Bu sütunu \"ORTA BAL\" adlandırın."
   ],
   "outputs": [],
   "execution_count": 4
  },
  {
   "cell_type": "code",
   "id": "97155bd4",
   "metadata": {
    "ExecuteTime": {
     "end_time": "2025-08-19T09:47:00.958802Z",
     "start_time": "2025-08-19T09:47:00.955200Z"
    }
   },
   "source": [
    "# 4. Tələbələri topladıqları bala əsasən aşağıdakı qruplara bölün:\n",
    "\n",
    "# 0-50: \"Zəif\"\n",
    "# 51-75: \"Orta\"\n",
    "# 76-100: \"Yaxşı\"\n",
    "# Yeni bir sütun əlavə edin və bu sütunu \"QRUP\" adlandırın."
   ],
   "outputs": [],
   "execution_count": 5
  },
  {
   "cell_type": "code",
   "id": "beae36e9",
   "metadata": {
    "ExecuteTime": {
     "end_time": "2025-08-19T09:47:01.008184Z",
     "start_time": "2025-08-19T09:47:01.005245Z"
    }
   },
   "source": [
    "# 5. Orta balı 70-dən yuxarı olan tələbələrin adlarını və ortalama ballarını siyahı şəklində çap edin."
   ],
   "outputs": [],
   "execution_count": 6
  }
 ],
 "metadata": {
  "kernelspec": {
   "display_name": "Python 3 (ipykernel)",
   "language": "python",
   "name": "python3"
  },
  "language_info": {
   "codemirror_mode": {
    "name": "ipython",
    "version": 3
   },
   "file_extension": ".py",
   "mimetype": "text/x-python",
   "name": "python",
   "nbconvert_exporter": "python",
   "pygments_lexer": "ipython3",
   "version": "3.12.4"
  }
 },
 "nbformat": 4,
 "nbformat_minor": 5
}
