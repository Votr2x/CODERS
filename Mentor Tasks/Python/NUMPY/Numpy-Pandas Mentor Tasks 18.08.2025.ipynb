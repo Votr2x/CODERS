{
 "cells": [
  {
   "cell_type": "code",
   "execution_count": 1,
   "id": "f963be59",
   "metadata": {},
   "outputs": [
    {
     "name": "stdout",
     "output_type": "stream",
     "text": [
      "Requirement already satisfied: openpyxl in c:\\users\\user\\anaconda3\\lib\\site-packages (3.0.10)\n",
      "Requirement already satisfied: et_xmlfile in c:\\users\\user\\anaconda3\\lib\\site-packages (from openpyxl) (1.1.0)\n"
     ]
    }
   ],
   "source": [
    "%matplotlib inline\n",
    "import pandas as pd\n",
    "import numpy as np\n",
    "import matplotlib.pyplot as plt\n",
    "import sys\n",
    "!pip install openpyxl"
   ]
  },
  {
   "cell_type": "code",
   "execution_count": 2,
   "id": "976a2a41",
   "metadata": {},
   "outputs": [],
   "source": [
    "# 1. Excel faylını Pandas ilə oxuyun və fayldakı bütün sütun adlarını göstərin.\n",
    "# Bundan əlavə, fayldakı məlumatların neçə sətirdən və neçə sütundan ibarət olduğunu təyin edin.\n",
    "\n"
   ]
  },
  {
   "cell_type": "code",
   "execution_count": 3,
   "id": "b0e6c7a4",
   "metadata": {},
   "outputs": [],
   "source": [
    "# 2. Faylda ən yüksək toplam bal toplamış tələbəni və onun balını tapın."
   ]
  },
  {
   "cell_type": "code",
   "execution_count": 4,
   "id": "0c59e291",
   "metadata": {},
   "outputs": [],
   "source": [
    "# 3. Hər tələbənin orta balını hesablayın və yeni bir sütun əlavə edin. Bu sütunu \"ORTA BAL\" adlandırın."
   ]
  },
  {
   "cell_type": "code",
   "execution_count": 5,
   "id": "97155bd4",
   "metadata": {},
   "outputs": [],
   "source": [
    "# 4. Tələbələri topladıqları bala əsasən aşağıdakı qruplara bölün:\n",
    "\n",
    "# 0-50: \"Zəif\"\n",
    "# 51-75: \"Orta\"\n",
    "# 76-100: \"Yaxşı\"\n",
    "# Yeni bir sütun əlavə edin və bu sütunu \"QRUP\" adlandırın."
   ]
  },
  {
   "cell_type": "code",
   "execution_count": 6,
   "id": "beae36e9",
   "metadata": {},
   "outputs": [],
   "source": [
    "# 5. Orta balı 70-dən yuxarı olan tələbələrin adlarını və ortalama ballarını siyahı şəklində çap edin."
   ]
  },
  {
   "cell_type": "code",
   "execution_count": null,
   "id": "2d39ce89",
   "metadata": {},
   "outputs": [],
   "source": []
  }
 ],
 "metadata": {
  "kernelspec": {
   "display_name": "Python 3 (ipykernel)",
   "language": "python",
   "name": "python3"
  },
  "language_info": {
   "codemirror_mode": {
    "name": "ipython",
    "version": 3
   },
   "file_extension": ".py",
   "mimetype": "text/x-python",
   "name": "python",
   "nbconvert_exporter": "python",
   "pygments_lexer": "ipython3",
   "version": "3.12.4"
  }
 },
 "nbformat": 4,
 "nbformat_minor": 5
}
