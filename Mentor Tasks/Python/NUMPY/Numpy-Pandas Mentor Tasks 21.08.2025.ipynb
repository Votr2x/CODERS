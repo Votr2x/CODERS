{
 "cells": [
  {
   "cell_type": "code",
   "execution_count": 39,
   "id": "fe61ec45",
   "metadata": {},
   "outputs": [
    {
     "name": "stdout",
     "output_type": "stream",
     "text": [
      "Requirement already satisfied: openpyxl in c:\\programdata\\anaconda3\\lib\\site-packages (3.1.2)\n",
      "Requirement already satisfied: et-xmlfile in c:\\programdata\\anaconda3\\lib\\site-packages (from openpyxl) (1.1.0)\n"
     ]
    }
   ],
   "source": [
    "%matplotlib inline\n",
    "import pandas as pd\n",
    "import numpy as np\n",
    "import matplotlib.pyplot as plt\n",
    "import sys\n",
    "!pip install openpyxl"
   ]
  },
  {
   "cell_type": "code",
   "execution_count": 40,
   "id": "394dc7ec",
   "metadata": {},
   "outputs": [
    {
     "data": {
      "text/html": [
       "<div>\n",
       "<style scoped>\n",
       "    .dataframe tbody tr th:only-of-type {\n",
       "        vertical-align: middle;\n",
       "    }\n",
       "\n",
       "    .dataframe tbody tr th {\n",
       "        vertical-align: top;\n",
       "    }\n",
       "\n",
       "    .dataframe thead th {\n",
       "        text-align: right;\n",
       "    }\n",
       "</style>\n",
       "<table border=\"1\" class=\"dataframe\">\n",
       "  <thead>\n",
       "    <tr style=\"text-align: right;\">\n",
       "      <th></th>\n",
       "      <th>Name</th>\n",
       "      <th>Age (Years)</th>\n",
       "      <th>Income ($)</th>\n",
       "      <th>Join Date</th>\n",
       "      <th>Gender</th>\n",
       "      <th>SparseColumn</th>\n",
       "      <th>Category</th>\n",
       "    </tr>\n",
       "  </thead>\n",
       "  <tbody>\n",
       "    <tr>\n",
       "      <th>0</th>\n",
       "      <td>John</td>\n",
       "      <td>25.0</td>\n",
       "      <td>40000</td>\n",
       "      <td>2023-01-10</td>\n",
       "      <td>Male</td>\n",
       "      <td>None</td>\n",
       "      <td>A</td>\n",
       "    </tr>\n",
       "    <tr>\n",
       "      <th>1</th>\n",
       "      <td>Jane</td>\n",
       "      <td>30.0</td>\n",
       "      <td>50000</td>\n",
       "      <td>2023-02-15</td>\n",
       "      <td>Female</td>\n",
       "      <td>None</td>\n",
       "      <td>B</td>\n",
       "    </tr>\n",
       "    <tr>\n",
       "      <th>2</th>\n",
       "      <td>Alice</td>\n",
       "      <td>NaN</td>\n",
       "      <td>60000</td>\n",
       "      <td>2023-03-20</td>\n",
       "      <td>Female</td>\n",
       "      <td>None</td>\n",
       "      <td>C</td>\n",
       "    </tr>\n",
       "    <tr>\n",
       "      <th>3</th>\n",
       "      <td>Bob</td>\n",
       "      <td>35.0</td>\n",
       "      <td>7000000</td>\n",
       "      <td>2023-13-25</td>\n",
       "      <td>Male</td>\n",
       "      <td>None</td>\n",
       "      <td>A</td>\n",
       "    </tr>\n",
       "    <tr>\n",
       "      <th>4</th>\n",
       "      <td>None</td>\n",
       "      <td>29.0</td>\n",
       "      <td>55000</td>\n",
       "      <td>NaN</td>\n",
       "      <td>Female</td>\n",
       "      <td>None</td>\n",
       "      <td>B</td>\n",
       "    </tr>\n",
       "  </tbody>\n",
       "</table>\n",
       "</div>"
      ],
      "text/plain": [
       "   Name   Age (Years)  Income ($)   Join Date  Gender SparseColumn Category\n",
       "0   John         25.0       40000  2023-01-10    Male         None        A\n",
       "1   Jane         30.0       50000  2023-02-15  Female         None        B\n",
       "2  Alice          NaN       60000  2023-03-20  Female         None        C\n",
       "3    Bob         35.0     7000000  2023-13-25    Male         None        A\n",
       "4   None         29.0       55000         NaN  Female         None        B"
      ]
     },
     "execution_count": 40,
     "metadata": {},
     "output_type": "execute_result"
    }
   ],
   "source": [
    "data = {\n",
    "    \"Name \": [\"John\", \"Jane\", \"Alice\", \"Bob\", None],\n",
    "    \"Age (Years)\": [25, 30, np.nan, 35, 29],\n",
    "    \"Income ($)\": [40000, 50000, 60000, 7000000, 55000],\n",
    "    \"Join Date\": [\"2023-01-10\", \"2023-02-15\", \"2023-03-20\", \"2023-13-25\", \"NaN\"],\n",
    "    \"Gender\": [\"Male\", \"Female\", \"Female\", \"Male\", \"Female\"],\n",
    "    \"Gender\": [\"Male\", \"Female\", \"Female\", \"Male\", \"Female\"], \n",
    "    \"SparseColumn\": [None, None, None, None, None],\n",
    "    \"Category\": [\"A\", \"B\", \"C\", \"A\", \"B\"],\n",
    "}\n",
    "df = pd.DataFrame(data)\n",
    "df"
   ]
  },
  {
   "cell_type": "code",
   "execution_count": 25,
   "id": "3a7ec338",
   "metadata": {},
   "outputs": [],
   "source": [
    "# 1. Sütun adlarından boşluqları, xüsusi simvolları silin və uyğun bir formata çevirin."
   ]
  },
  {
   "cell_type": "code",
   "execution_count": 27,
   "id": "c1d7c221",
   "metadata": {},
   "outputs": [],
   "source": [
    "# 2. DataFrame-in məlumatlarını və sütunların hər birinin type-ını çap edin."
   ]
  },
  {
   "cell_type": "code",
   "execution_count": 29,
   "id": "466f2e47",
   "metadata": {},
   "outputs": [],
   "source": [
    "# 3. Zaman datasının formatını dəyişin və age sütunundakı NaN dəyərləri sütunun medianı ilə doldurun."
   ]
  },
  {
   "cell_type": "code",
   "execution_count": 31,
   "id": "2fde0b4d",
   "metadata": {},
   "outputs": [],
   "source": [
    "# 4. Sparse olan sütunları müəyyənləşdirin və onların adlarını çap edin."
   ]
  },
  {
   "cell_type": "code",
   "execution_count": 33,
   "id": "50fceed8",
   "metadata": {},
   "outputs": [],
   "source": [
    "# 5. DataFrame-dən null dəyərləri silin."
   ]
  },
  {
   "cell_type": "code",
   "execution_count": 35,
   "id": "76baf6ef",
   "metadata": {},
   "outputs": [],
   "source": [
    "# 6. DataFrame-dən yalnız float64 data type olan sütunların xülasəsini çap edin."
   ]
  }
 ],
 "metadata": {
  "kernelspec": {
   "display_name": "Python 3 (ipykernel)",
   "language": "python",
   "name": "python3"
  },
  "language_info": {
   "codemirror_mode": {
    "name": "ipython",
    "version": 3
   },
   "file_extension": ".py",
   "mimetype": "text/x-python",
   "name": "python",
   "nbconvert_exporter": "python",
   "pygments_lexer": "ipython3",
   "version": "3.12.4"
  }
 },
 "nbformat": 4,
 "nbformat_minor": 5
}
