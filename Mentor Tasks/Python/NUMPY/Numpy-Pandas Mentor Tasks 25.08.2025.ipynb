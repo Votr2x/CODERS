{
 "cells": [
  {
   "cell_type": "code",
   "id": "8b06f69e-684c-45d6-8878-a80f037a7aa8",
   "metadata": {
    "ExecuteTime": {
     "end_time": "2025-08-25T16:20:05.676125Z",
     "start_time": "2025-08-25T16:20:02.321375Z"
    }
   },
   "source": [
    "import pandas as pd\n",
    "import numpy as np"
   ],
   "outputs": [],
   "execution_count": 2
  },
  {
   "cell_type": "code",
   "id": "e014ea12-4468-44a0-9485-fb2efadf5fbb",
   "metadata": {
    "ExecuteTime": {
     "end_time": "2025-08-25T16:20:06.168350Z",
     "start_time": "2025-08-25T16:20:06.158879Z"
    }
   },
   "source": [
    "data = {\n",
    "    \"Product\": [\"Laptop\", \"Tablet\", \"Smartphone\", \"Headphones\", \"Charger\"],\n",
    "    \"Category\": [\"Electronics\", \"Electronics\", \"Electronics\", \"Accessories\", \"Accessories\"],\n",
    "    \"Price\": [1200, 300, 800, 150, 30],\n",
    "    \"Quantity\": [15, 30, 50, 100, 200],\n",
    "    \"Rating\": [4.5, 4.2, 4.8, 4.0, 3.9]\n",
    "}\n",
    "data"
   ],
   "outputs": [
    {
     "data": {
      "text/plain": [
       "{'Product': ['Laptop', 'Tablet', 'Smartphone', 'Headphones', 'Charger'],\n",
       " 'Category': ['Electronics',\n",
       "  'Electronics',\n",
       "  'Electronics',\n",
       "  'Accessories',\n",
       "  'Accessories'],\n",
       " 'Price': [1200, 300, 800, 150, 30],\n",
       " 'Quantity': [15, 30, 50, 100, 200],\n",
       " 'Rating': [4.5, 4.2, 4.8, 4.0, 3.9]}"
      ]
     },
     "execution_count": 3,
     "metadata": {},
     "output_type": "execute_result"
    }
   ],
   "execution_count": 3
  },
  {
   "cell_type": "code",
   "id": "38a66000-abdf-48a3-bfa3-bfea6636e72c",
   "metadata": {
    "ExecuteTime": {
     "end_time": "2025-08-25T16:20:06.242700Z",
     "start_time": "2025-08-25T16:20:06.239324Z"
    }
   },
   "source": [
    "#1. Ən bahalı məhsulu tap."
   ],
   "outputs": [],
   "execution_count": 4
  },
  {
   "metadata": {
    "ExecuteTime": {
     "end_time": "2025-08-25T16:25:07.038713Z",
     "start_time": "2025-08-25T16:25:06.982288Z"
    }
   },
   "cell_type": "code",
   "source": [
    "df = pd.DataFrame(data)\n",
    "print(df['Price'].max())"
   ],
   "id": "fd964c57b4d75268",
   "outputs": [
    {
     "name": "stdout",
     "output_type": "stream",
     "text": [
      "1200\n"
     ]
    }
   ],
   "execution_count": 28
  },
  {
   "cell_type": "code",
   "id": "dafe4e3f-4842-4063-a64e-ec35cfee92d6",
   "metadata": {
    "ExecuteTime": {
     "end_time": "2025-08-25T16:20:06.260548Z",
     "start_time": "2025-08-25T16:20:06.257889Z"
    }
   },
   "source": [
    "#2. 4.5-dən yüksək reytinqə malik olan məhsulları filtr et."
   ],
   "outputs": [],
   "execution_count": 5
  },
  {
   "metadata": {
    "ExecuteTime": {
     "end_time": "2025-08-25T16:25:42.338298Z",
     "start_time": "2025-08-25T16:25:42.313825Z"
    }
   },
   "cell_type": "code",
   "source": "print(df[df['Rating'] > 4.5])",
   "id": "17244d87b23b132",
   "outputs": [
    {
     "name": "stdout",
     "output_type": "stream",
     "text": [
      "      Product     Category  Price  Quantity  Rating\n",
      "2  Smartphone  Electronics    800        50     4.8\n"
     ]
    }
   ],
   "execution_count": 29
  },
  {
   "cell_type": "code",
   "id": "65fdafd7-4a3b-450d-b4f0-4b6555ba49a7",
   "metadata": {
    "ExecuteTime": {
     "end_time": "2025-08-25T16:20:06.278813Z",
     "start_time": "2025-08-25T16:20:06.275543Z"
    }
   },
   "source": [
    "#3.Ümumi satış gəlirini (Price * Quantity) hesabla."
   ],
   "outputs": [],
   "execution_count": 6
  },
  {
   "metadata": {
    "ExecuteTime": {
     "end_time": "2025-08-25T16:27:32.062779Z",
     "start_time": "2025-08-25T16:27:32.056079Z"
    }
   },
   "cell_type": "code",
   "source": [
    "df['Total'] = df['Price'] * df['Quantity']\n",
    "print(df['Total'])"
   ],
   "id": "8ead31335f60079c",
   "outputs": [
    {
     "name": "stdout",
     "output_type": "stream",
     "text": [
      "0    18000\n",
      "1     9000\n",
      "2    40000\n",
      "3    15000\n",
      "4     6000\n",
      "Name: Total, dtype: int64\n"
     ]
    }
   ],
   "execution_count": 35
  },
  {
   "cell_type": "code",
   "id": "3d7d048a-3cfd-4cec-b1c6-6d542c6f9eff",
   "metadata": {
    "ExecuteTime": {
     "end_time": "2025-08-25T16:20:06.293828Z",
     "start_time": "2025-08-25T16:20:06.291212Z"
    }
   },
   "source": [
    "#4.Hər bir kateqoriyadan neçə məhsul olduğunu müəyyən et."
   ],
   "outputs": [],
   "execution_count": 7
  },
  {
   "metadata": {
    "ExecuteTime": {
     "end_time": "2025-08-25T16:27:21.256870Z",
     "start_time": "2025-08-25T16:27:21.236870Z"
    }
   },
   "cell_type": "code",
   "source": "print(df['Category'].value_counts())",
   "id": "5fc805c41334678e",
   "outputs": [
    {
     "name": "stdout",
     "output_type": "stream",
     "text": [
      "Category\n",
      "Electronics    3\n",
      "Accessories    2\n",
      "Name: count, dtype: int64\n"
     ]
    }
   ],
   "execution_count": 34
  },
  {
   "cell_type": "code",
   "id": "5d090f5a-d1a1-409b-ad71-db2f0347ed6a",
   "metadata": {
    "ExecuteTime": {
     "end_time": "2025-08-25T16:20:06.307171Z",
     "start_time": "2025-08-25T16:20:06.304448Z"
    }
   },
   "source": [
    "#5.Məhsulları qiymətinə görə azalan sıra ilə sıralayaraq yeni DataFrame yarad."
   ],
   "outputs": [],
   "execution_count": 8
  },
  {
   "metadata": {
    "ExecuteTime": {
     "end_time": "2025-08-25T16:28:51.282484Z",
     "start_time": "2025-08-25T16:28:51.274520Z"
    }
   },
   "cell_type": "code",
   "source": "print(df.sort_values(by = 'Price', ascending = False))",
   "id": "de0cfebe0ee8f69a",
   "outputs": [
    {
     "name": "stdout",
     "output_type": "stream",
     "text": [
      "      Product     Category  Price  Quantity  Rating  Total\n",
      "0      Laptop  Electronics   1200        15     4.5  18000\n",
      "2  Smartphone  Electronics    800        50     4.8  40000\n",
      "1      Tablet  Electronics    300        30     4.2   9000\n",
      "3  Headphones  Accessories    150       100     4.0  15000\n",
      "4     Charger  Accessories     30       200     3.9   6000\n"
     ]
    }
   ],
   "execution_count": 38
  },
  {
   "cell_type": "code",
   "id": "a0418464-17b2-4e7a-98fb-7d367e426681",
   "metadata": {
    "ExecuteTime": {
     "end_time": "2025-08-25T16:20:06.321441Z",
     "start_time": "2025-08-25T16:20:06.318057Z"
    }
   },
   "source": [
    "#6. Ən aşağı reytinqə malik olan məhsulu tap: Ən aşağı reytinqli məhsulun adını və reytinqini tap."
   ],
   "outputs": [],
   "execution_count": 9
  },
  {
   "metadata": {
    "ExecuteTime": {
     "end_time": "2025-08-25T16:33:40.654549Z",
     "start_time": "2025-08-25T16:33:40.647563Z"
    }
   },
   "cell_type": "code",
   "source": [
    "df_new = df.sort_values(by = 'Rating', ascending = True).copy()\n",
    "print(df.iloc[-1])"
   ],
   "id": "a7ef7ac480d331c",
   "outputs": [
    {
     "name": "stdout",
     "output_type": "stream",
     "text": [
      "Product         Charger\n",
      "Category    Accessories\n",
      "Price                30\n",
      "Quantity            200\n",
      "Rating              3.9\n",
      "Total              6000\n",
      "Name: 4, dtype: object\n"
     ]
    }
   ],
   "execution_count": 44
  },
  {
   "cell_type": "code",
   "id": "edb0ea9c-791f-46f5-b699-1a1be888c3b1",
   "metadata": {
    "ExecuteTime": {
     "end_time": "2025-08-25T16:20:06.334714Z",
     "start_time": "2025-08-25T16:20:06.331586Z"
    }
   },
   "source": [
    "#7. Ümumi məhsul sayını hesabla: Bütün məhsulların miqdarını (Quantity) toplayaraq"
   ],
   "outputs": [],
   "execution_count": 10
  },
  {
   "metadata": {
    "ExecuteTime": {
     "end_time": "2025-08-25T16:34:08.292123Z",
     "start_time": "2025-08-25T16:34:08.287202Z"
    }
   },
   "cell_type": "code",
   "source": "print(df['Quantity'].sum())",
   "id": "664a11f923215e89",
   "outputs": [
    {
     "name": "stdout",
     "output_type": "stream",
     "text": [
      "395\n"
     ]
    }
   ],
   "execution_count": 45
  },
  {
   "cell_type": "code",
   "id": "a95c4e7e-aca1-4922-adea-2354d944d4e6",
   "metadata": {
    "ExecuteTime": {
     "end_time": "2025-08-25T16:20:06.348537Z",
     "start_time": "2025-08-25T16:20:06.345871Z"
    }
   },
   "source": [
    "#8. Qiyməti 500-dən aşağı olan məhsulları filtr et: Yalnız qiyməti 500-dən az olan məhsulları göstər"
   ],
   "outputs": [],
   "execution_count": 11
  },
  {
   "metadata": {
    "ExecuteTime": {
     "end_time": "2025-08-25T17:00:42.238973Z",
     "start_time": "2025-08-25T17:00:42.225537Z"
    }
   },
   "cell_type": "code",
   "source": "print(df[df['Price'] < 500])",
   "id": "15122762ba31142e",
   "outputs": [
    {
     "name": "stdout",
     "output_type": "stream",
     "text": [
      "      Product     Category  Price  Quantity  Rating  Total  Discounted Price  \\\n",
      "1      Tablet  Electronics    300        30     4.2   9000             270.0   \n",
      "3  Headphones  Accessories    150       100     4.0  15000             135.0   \n",
      "\n",
      "     Percent  \n",
      "1  10.975610  \n",
      "3  18.292683  \n"
     ]
    }
   ],
   "execution_count": 68
  },
  {
   "cell_type": "code",
   "id": "96fe093d-2ce3-4dcc-abad-e522339c5a4f",
   "metadata": {
    "ExecuteTime": {
     "end_time": "2025-08-25T16:20:06.361360Z",
     "start_time": "2025-08-25T16:20:06.358172Z"
    }
   },
   "source": "#9.Məhsulları reytinqə görə artan sıraya düz: Yeni bir DataFrame yaradaraq məhsulları reytinqə görə sırala.",
   "outputs": [],
   "execution_count": 12
  },
  {
   "metadata": {
    "ExecuteTime": {
     "end_time": "2025-08-25T17:00:24.761088Z",
     "start_time": "2025-08-25T17:00:24.749935Z"
    }
   },
   "cell_type": "code",
   "source": [
    "df_new = df.sort_values(by = 'Rating', ascending = True).copy()\n",
    "print(df_new)"
   ],
   "id": "4b23e83f7dd5a828",
   "outputs": [
    {
     "name": "stdout",
     "output_type": "stream",
     "text": [
      "      Product     Category  Price  Quantity  Rating  Total  Discounted Price  \\\n",
      "3  Headphones  Accessories    150       100     4.0  15000             135.0   \n",
      "1      Tablet  Electronics    300        30     4.2   9000             270.0   \n",
      "0      Laptop  Electronics   1200        15     4.5  18000            1080.0   \n",
      "2  Smartphone  Electronics    800        50     4.8  40000             720.0   \n",
      "\n",
      "     Percent  \n",
      "3  18.292683  \n",
      "1  10.975610  \n",
      "0  21.951220  \n",
      "2  48.780488  \n"
     ]
    }
   ],
   "execution_count": 67
  },
  {
   "cell_type": "code",
   "id": "7a79d6b9-1d49-45b5-af9a-bddcb3fc603c",
   "metadata": {
    "ExecuteTime": {
     "end_time": "2025-08-25T16:20:06.374722Z",
     "start_time": "2025-08-25T16:20:06.371061Z"
    }
   },
   "source": [
    "#10.Məhsulun qiymətinin orta dəyərini hesabla: Qiymətlərin orta dəyərini (mean) tap."
   ],
   "outputs": [],
   "execution_count": 13
  },
  {
   "metadata": {
    "ExecuteTime": {
     "end_time": "2025-08-25T16:36:49.752042Z",
     "start_time": "2025-08-25T16:36:49.739415Z"
    }
   },
   "cell_type": "code",
   "source": "print(df['Price'].mean())",
   "id": "d33de866f9560c17",
   "outputs": [
    {
     "name": "stdout",
     "output_type": "stream",
     "text": [
      "496.0\n"
     ]
    }
   ],
   "execution_count": 48
  },
  {
   "cell_type": "code",
   "id": "d8f21722-cdc4-4bd1-b673-61d40eccf1c8",
   "metadata": {
    "ExecuteTime": {
     "end_time": "2025-08-25T16:20:06.387768Z",
     "start_time": "2025-08-25T16:20:06.383729Z"
    }
   },
   "source": "#11.Hər bir kateqoriyadakı məhsulların orta qiymətini tap: Hər bir kateqoriyada orta qiyməti göstərən bir DataFrame qur.",
   "outputs": [],
   "execution_count": 14
  },
  {
   "metadata": {
    "ExecuteTime": {
     "end_time": "2025-08-25T16:41:55.161354Z",
     "start_time": "2025-08-25T16:41:55.154097Z"
    }
   },
   "cell_type": "code",
   "source": [
    "result = df.groupby('Category')['Price'].mean().reset_index()\n",
    "print(result)"
   ],
   "id": "9738bd8cc161b0c1",
   "outputs": [
    {
     "name": "stdout",
     "output_type": "stream",
     "text": [
      "      Category       Price\n",
      "0  Accessories   90.000000\n",
      "1  Electronics  766.666667\n"
     ]
    }
   ],
   "execution_count": 52
  },
  {
   "cell_type": "code",
   "id": "57964974-6214-40d1-92b0-9a242e5de721",
   "metadata": {
    "ExecuteTime": {
     "end_time": "2025-08-25T16:39:42.322566Z",
     "start_time": "2025-08-25T16:39:42.318305Z"
    }
   },
   "source": [
    "#12.Reytinqi 4-dən aşağı olan məhsulları qrupdan sil: Yalnız reytinqi 4 və ya daha yüksək olan məhsulları saxlamaq üçün DataFrame-i yenilə."
   ],
   "outputs": [],
   "execution_count": 50
  },
  {
   "metadata": {
    "ExecuteTime": {
     "end_time": "2025-08-25T16:49:07.448195Z",
     "start_time": "2025-08-25T16:49:07.430459Z"
    }
   },
   "cell_type": "code",
   "source": [
    "df_n = pd.DataFrame()\n",
    "l = []\n",
    "for idx, i in enumerate(df['Rating']):\n",
    "    if i >= 4:\n",
    "        l.append(i)\n",
    "    else:\n",
    "        df.drop(index=idx, inplace=True)\n",
    "df_n['Upd'] = l\n",
    "print(df_n)"
   ],
   "id": "b8d064bdc2676bc8",
   "outputs": [
    {
     "name": "stdout",
     "output_type": "stream",
     "text": [
      "   Upd\n",
      "0  4.5\n",
      "1  4.2\n",
      "2  4.8\n",
      "3  4.0\n"
     ]
    }
   ],
   "execution_count": 61
  },
  {
   "cell_type": "code",
   "id": "aab10242-49e9-4601-adda-67348a6eb79b",
   "metadata": {
    "ExecuteTime": {
     "end_time": "2025-08-25T16:20:06.423021Z",
     "start_time": "2025-08-25T16:20:06.420504Z"
    }
   },
   "source": [
    "#13.Yeni bir sütun əlavə et: \"Discounted Price\" adlı yeni bir sütun əlavə et və hər məhsul üçün 10% endirim tətbiq et."
   ],
   "outputs": [],
   "execution_count": 16
  },
  {
   "metadata": {
    "ExecuteTime": {
     "end_time": "2025-08-25T16:50:54.913070Z",
     "start_time": "2025-08-25T16:50:54.903475Z"
    }
   },
   "cell_type": "code",
   "source": [
    "df['Discounted Price'] = df['Price'] * 0.9\n",
    "print(df)"
   ],
   "id": "d42731bbed639819",
   "outputs": [
    {
     "name": "stdout",
     "output_type": "stream",
     "text": [
      "      Product     Category  Price  Quantity  Rating  Total  Discounted Price\n",
      "0      Laptop  Electronics   1200        15     4.5  18000            1080.0\n",
      "1      Tablet  Electronics    300        30     4.2   9000             270.0\n",
      "2  Smartphone  Electronics    800        50     4.8  40000             720.0\n",
      "3  Headphones  Accessories    150       100     4.0  15000             135.0\n"
     ]
    }
   ],
   "execution_count": 62
  },
  {
   "cell_type": "code",
   "id": "4f62ca03-7e37-4af7-a9a5-24c6b48f7582",
   "metadata": {
    "ExecuteTime": {
     "end_time": "2025-08-25T16:20:06.435670Z",
     "start_time": "2025-08-25T16:20:06.432808Z"
    }
   },
   "source": [
    "#14. Hər bir məhsulun satış gəlirinin faizini tap: Hər bir məhsulun satış gəlirini ümumi satış gəlirinə bölərək faizlə ifadə et."
   ],
   "outputs": [],
   "execution_count": 17
  },
  {
   "metadata": {
    "ExecuteTime": {
     "end_time": "2025-08-25T16:56:57.035735Z",
     "start_time": "2025-08-25T16:56:57.021496Z"
    }
   },
   "cell_type": "code",
   "source": [
    "df['Percent'] = (df['Total']/df['Total'].sum()) * 100\n",
    "print(df)"
   ],
   "id": "effe6bbe2ff715c0",
   "outputs": [
    {
     "name": "stdout",
     "output_type": "stream",
     "text": [
      "      Product     Category  Price  Quantity  Rating  Total  Discounted Price  \\\n",
      "0      Laptop  Electronics   1200        15     4.5  18000            1080.0   \n",
      "1      Tablet  Electronics    300        30     4.2   9000             270.0   \n",
      "2  Smartphone  Electronics    800        50     4.8  40000             720.0   \n",
      "3  Headphones  Accessories    150       100     4.0  15000             135.0   \n",
      "\n",
      "     Percent  \n",
      "0  21.951220  \n",
      "1  10.975610  \n",
      "2  48.780488  \n",
      "3  18.292683  \n"
     ]
    }
   ],
   "execution_count": 65
  }
 ],
 "metadata": {
  "kernelspec": {
   "display_name": "Python 3 (ipykernel)",
   "language": "python",
   "name": "python3"
  },
  "language_info": {
   "codemirror_mode": {
    "name": "ipython",
    "version": 3
   },
   "file_extension": ".py",
   "mimetype": "text/x-python",
   "name": "python",
   "nbconvert_exporter": "python",
   "pygments_lexer": "ipython3",
   "version": "3.12.4"
  }
 },
 "nbformat": 4,
 "nbformat_minor": 5
}
