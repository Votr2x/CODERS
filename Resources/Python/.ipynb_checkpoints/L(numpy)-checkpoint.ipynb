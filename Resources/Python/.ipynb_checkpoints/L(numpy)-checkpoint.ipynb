{
 "cells": [
  {
   "cell_type": "code",
   "execution_count": 1,
   "id": "initial_id",
   "metadata": {
    "ExecuteTime": {
     "end_time": "2025-08-07T10:05:14.076741Z",
     "start_time": "2025-08-07T10:05:14.072542Z"
    }
   },
   "outputs": [],
   "source": [
    "import numpy as np\n",
    "import pandas as pd"
   ]
  },
  {
   "cell_type": "code",
   "execution_count": 14,
   "id": "bb336c723997dff8",
   "metadata": {},
   "outputs": [
    {
     "name": "stdout",
     "output_type": "stream",
     "text": [
      "3\n",
      "   0\n",
      "0  3\n",
      "1  4\n",
      "2  2\n",
      "3  4\n",
      "4  3\n",
      "5  2\n",
      "6  3\n",
      "7  4\n",
      "8  3\n",
      "9  4\n",
      "[0, 4, 6, 8]\n"
     ]
    }
   ],
   "source": [
    "array = np.random.randint(1, 5, size=10)\n",
    "x = np.random.choice(array)\n",
    "df = pd.DataFrame(array)\n",
    "print(x)\n",
    "print(df)\n",
    "indexes = [i for i in range(len(df)) if df.iloc[i, 0] == x]\n",
    "print(indexes)"
   ]
  }
 ],
 "metadata": {
  "kernelspec": {
   "display_name": "Python [conda env:base] *",
   "language": "python",
   "name": "conda-base-py"
  },
  "language_info": {
   "codemirror_mode": {
    "name": "ipython",
    "version": 3
   },
   "file_extension": ".py",
   "mimetype": "text/x-python",
   "name": "python",
   "nbconvert_exporter": "python",
   "pygments_lexer": "ipython3",
   "version": "3.12.7"
  }
 },
 "nbformat": 4,
 "nbformat_minor": 5
}
