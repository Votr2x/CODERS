{
 "cells": [
  {
   "cell_type": "code",
   "execution_count": 1,
   "id": "7c4a5688-a548-4024-b800-16e8008db696",
   "metadata": {},
   "outputs": [],
   "source": [
    "#If the value is from -5 to 256, then values ar stored in the same cell"
   ]
  },
  {
   "cell_type": "code",
   "execution_count": 8,
   "id": "d12c5c6b-fc64-4461-9118-77ac463d2775",
   "metadata": {},
   "outputs": [
    {
     "name": "stdout",
     "output_type": "stream",
     "text": [
      "True\n"
     ]
    }
   ],
   "source": [
    "X = 100\n",
    "Y = 100\n",
    "print(X is Y)"
   ]
  },
  {
   "cell_type": "code",
   "execution_count": 9,
   "id": "769f080b-9e49-41ce-888d-dea794ce9290",
   "metadata": {},
   "outputs": [
    {
     "name": "stdout",
     "output_type": "stream",
     "text": [
      "False\n"
     ]
    }
   ],
   "source": [
    "X = 1000\n",
    "Y = 1000\n",
    "print(X is Y)"
   ]
  },
  {
   "cell_type": "code",
   "execution_count": 10,
   "id": "2536214c-c0cc-4923-92d7-8168117b6e2d",
   "metadata": {},
   "outputs": [],
   "source": [
    "#Functions in math library"
   ]
  },
  {
   "cell_type": "code",
   "execution_count": 11,
   "id": "ace1e8f1-2bab-41b7-bd3e-603e0523b1fe",
   "metadata": {},
   "outputs": [
    {
     "name": "stdout",
     "output_type": "stream",
     "text": [
      "Repeat: 16.0\n"
     ]
    }
   ],
   "source": [
    "import math\n",
    "Repeat = math.pow(2, 4)\n",
    "print(\"Repeat:\", Repeat)\n",
    "#math.pow raises to power"
   ]
  },
  {
   "cell_type": "code",
   "execution_count": 12,
   "id": "b8aee4a1-43ec-4028-af44-aac3821bf886",
   "metadata": {},
   "outputs": [],
   "source": [
    "#Assertion"
   ]
  },
  {
   "cell_type": "code",
   "execution_count": 13,
   "id": "91c784e7-544f-4d25-a502-f5006b7cfa11",
   "metadata": {},
   "outputs": [
    {
     "data": {
      "text/plain": [
       "10"
      ]
     },
     "execution_count": 13,
     "metadata": {},
     "output_type": "execute_result"
    }
   ],
   "source": [
    "10 or 15 #Returns the first value, if its true"
   ]
  },
  {
   "cell_type": "code",
   "execution_count": 14,
   "id": "33b5c684-b43d-4e78-97df-c21c4e0452d5",
   "metadata": {},
   "outputs": [
    {
     "data": {
      "text/plain": [
       "9"
      ]
     },
     "execution_count": 14,
     "metadata": {},
     "output_type": "execute_result"
    }
   ],
   "source": [
    "10 and 9 #If both true, returns the second value"
   ]
  },
  {
   "cell_type": "code",
   "execution_count": 15,
   "id": "923afbd0-821e-406c-9179-9d78036a2905",
   "metadata": {},
   "outputs": [],
   "source": [
    "#Assertion = checking the statement\n",
    "assert 10 == 10"
   ]
  },
  {
   "cell_type": "code",
   "execution_count": 16,
   "id": "ac643b65-f389-42e2-bb8c-01200028815d",
   "metadata": {},
   "outputs": [
    {
     "data": {
      "text/plain": [
       "False"
      ]
     },
     "execution_count": 16,
     "metadata": {},
     "output_type": "execute_result"
    }
   ],
   "source": [
    "#Logical AND\n",
    "True and False"
   ]
  },
  {
   "cell_type": "code",
   "execution_count": 17,
   "id": "bee890ff-0b84-4dec-b4fd-b2cd812d298a",
   "metadata": {},
   "outputs": [
    {
     "data": {
      "text/plain": [
       "5"
      ]
     },
     "execution_count": 17,
     "metadata": {},
     "output_type": "execute_result"
    }
   ],
   "source": [
    "#Bitwise XOR\n",
    "2 ^ 7"
   ]
  },
  {
   "cell_type": "code",
   "execution_count": 18,
   "id": "ff254239-f388-47d8-b58f-88d45055a62f",
   "metadata": {},
   "outputs": [
    {
     "data": {
      "text/plain": [
       "True"
      ]
     },
     "execution_count": 18,
     "metadata": {},
     "output_type": "execute_result"
    }
   ],
   "source": [
    "#logical OR\n",
    "True or False"
   ]
  },
  {
   "cell_type": "code",
   "execution_count": 19,
   "id": "5a3ac99f-f282-464f-96a5-25e55c0892ae",
   "metadata": {},
   "outputs": [
    {
     "name": "stdout",
     "output_type": "stream",
     "text": [
      "Permisson Given\n"
     ]
    }
   ],
   "source": [
    "AGE = 15\n",
    "MESSAGE = (AGE > 10) and (\"Permisson Given\") or (\"Access denied\") #Priority to AND\n",
    "print(MESSAGE)"
   ]
  },
  {
   "cell_type": "code",
   "execution_count": 20,
   "id": "43472e9a-116c-483f-b935-f377d0ca8570",
   "metadata": {},
   "outputs": [],
   "source": [
    "# To add comments to all row we can use such combination ctrl + /\n",
    "# 1\n",
    "# 3\n",
    "# 4\n",
    "# 5\n",
    "# 5"
   ]
  },
  {
   "cell_type": "code",
   "execution_count": 21,
   "id": "a23cc438-6110-4516-af82-1a38b0f87bc6",
   "metadata": {},
   "outputs": [
    {
     "data": {
      "text/plain": [
       "True"
      ]
     },
     "execution_count": 21,
     "metadata": {},
     "output_type": "execute_result"
    }
   ],
   "source": [
    "#Bitwise OR\n",
    "(2 > 1) | (1 > 2)"
   ]
  },
  {
   "cell_type": "code",
   "execution_count": 22,
   "id": "135a7223-a507-41f4-afdd-c43b00d4da31",
   "metadata": {},
   "outputs": [
    {
     "data": {
      "text/plain": [
       "False"
      ]
     },
     "execution_count": 22,
     "metadata": {},
     "output_type": "execute_result"
    }
   ],
   "source": [
    "#Bitwise AND\n",
    "(2 > 1) & (1 > 2) "
   ]
  },
  {
   "cell_type": "code",
   "execution_count": 23,
   "id": "be53bc89-f4e3-426e-9744-d7fc5337f383",
   "metadata": {},
   "outputs": [],
   "source": [
    "#STRING"
   ]
  },
  {
   "cell_type": "code",
   "execution_count": 24,
   "id": "9d4367e8-d892-4bae-a3c1-3c115f8dfcf7",
   "metadata": {},
   "outputs": [],
   "source": [
    "S = \"Hello World\""
   ]
  },
  {
   "cell_type": "code",
   "execution_count": 25,
   "id": "6cf4abf8-aa79-42f2-9d9e-bec1032c3499",
   "metadata": {},
   "outputs": [
    {
     "name": "stdout",
     "output_type": "stream",
     "text": [
      "3\n"
     ]
    }
   ],
   "source": [
    "print(S.find(\"l\", S.find(\"l\")+1))   #!!!!!!!!!??????????"
   ]
  },
  {
   "cell_type": "code",
   "execution_count": 26,
   "id": "f282c481-3fc6-42cc-91d2-50778b338577",
   "metadata": {},
   "outputs": [
    {
     "name": "stdout",
     "output_type": "stream",
     "text": [
      "Help on method_descriptor:\n",
      "\n",
      "isdigit(self, /) unbound builtins.str method\n",
      "    Return True if the string is a digit string, False otherwise.\n",
      "\n",
      "    A string is a digit string if all characters in the string are digits and there\n",
      "    is at least one character in the string.\n",
      "\n"
     ]
    }
   ],
   "source": [
    "help(str.isdigit)"
   ]
  },
  {
   "cell_type": "code",
   "execution_count": 27,
   "id": "3950da48-8e51-43ab-91fb-0ad02550cfe5",
   "metadata": {},
   "outputs": [
    {
     "name": "stdout",
     "output_type": "stream",
     "text": [
      "Help on method_descriptor:\n",
      "\n",
      "isdecimal(self, /) unbound builtins.str method\n",
      "    Return True if the string is a decimal string, False otherwise.\n",
      "\n",
      "    A string is a decimal string if all characters in the string are decimal and\n",
      "    there is at least one character in the string.\n",
      "\n"
     ]
    }
   ],
   "source": [
    "help(str.isdecimal)"
   ]
  },
  {
   "cell_type": "code",
   "execution_count": 28,
   "id": "a3d7cadf-3cd4-45f9-af69-ee1780fd6067",
   "metadata": {},
   "outputs": [
    {
     "name": "stdout",
     "output_type": "stream",
     "text": [
      "Help on method_descriptor:\n",
      "\n",
      "isnumeric(self, /) unbound builtins.str method\n",
      "    Return True if the string is a numeric string, False otherwise.\n",
      "\n",
      "    A string is numeric if all characters in the string are numeric and there is at\n",
      "    least one character in the string.\n",
      "\n"
     ]
    }
   ],
   "source": [
    "help(str.isnumeric)"
   ]
  },
  {
   "cell_type": "code",
   "execution_count": 29,
   "id": "d679a62a-3761-43ce-98b4-13a5451b5656",
   "metadata": {},
   "outputs": [
    {
     "name": "stdout",
     "output_type": "stream",
     "text": [
      "Help on method_descriptor:\n",
      "\n",
      "isalnum(self, /) unbound builtins.str method\n",
      "    Return True if the string is an alpha-numeric string, False otherwise.\n",
      "\n",
      "    A string is alpha-numeric if all characters in the string are alpha-numeric and\n",
      "    there is at least one character in the string.\n",
      "\n"
     ]
    }
   ],
   "source": [
    "help(str.isalnum) #Both characters and numbers"
   ]
  },
  {
   "cell_type": "code",
   "execution_count": 30,
   "id": "63cd068c-149a-490a-9df5-642d331a4a28",
   "metadata": {},
   "outputs": [
    {
     "name": "stdout",
     "output_type": "stream",
     "text": [
      "Help on method_descriptor:\n",
      "\n",
      "isalpha(self, /) unbound builtins.str method\n",
      "    Return True if the string is an alphabetic string, False otherwise.\n",
      "\n",
      "    A string is alphabetic if all characters in the string are alphabetic and there\n",
      "    is at least one character in the string.\n",
      "\n"
     ]
    }
   ],
   "source": [
    "help(str.isalpha) #Only strings"
   ]
  },
  {
   "cell_type": "code",
   "execution_count": 31,
   "id": "102e4d12-d952-4359-adcb-fdf5bb8175ce",
   "metadata": {},
   "outputs": [
    {
     "data": {
      "text/plain": [
       "True"
      ]
     },
     "execution_count": 31,
     "metadata": {},
     "output_type": "execute_result"
    }
   ],
   "source": [
    "A = \"12345\"\n",
    "A.isdigit()"
   ]
  },
  {
   "cell_type": "code",
   "execution_count": 32,
   "id": "de0595fd-5802-4e91-8bca-4e5e4409e014",
   "metadata": {},
   "outputs": [
    {
     "name": "stdout",
     "output_type": "stream",
     "text": [
      "Line \n",
      "New Line\n"
     ]
    }
   ],
   "source": [
    "print(\"Line \\nNew Line\") #\\n is line adder"
   ]
  },
  {
   "cell_type": "code",
   "execution_count": 33,
   "id": "22c4cd6e-e6a4-4770-be78-67d0e0b70bcf",
   "metadata": {},
   "outputs": [
    {
     "data": {
      "text/plain": [
       "' A B C '"
      ]
     },
     "execution_count": 33,
     "metadata": {},
     "output_type": "execute_result"
    }
   ],
   "source": [
    "#lstrip, rstrip, strip: Deletes spaces\n",
    "A = \" A B C \"\n",
    "A"
   ]
  },
  {
   "cell_type": "code",
   "execution_count": 34,
   "id": "aa396141-55b8-4f2c-805a-a4d68239f2f4",
   "metadata": {},
   "outputs": [
    {
     "data": {
      "text/plain": [
       "'A B C '"
      ]
     },
     "execution_count": 34,
     "metadata": {},
     "output_type": "execute_result"
    }
   ],
   "source": [
    "A.lstrip()"
   ]
  },
  {
   "cell_type": "code",
   "execution_count": 35,
   "id": "fc1c04b1-185e-44ee-a7ed-03d2da38429d",
   "metadata": {},
   "outputs": [
    {
     "data": {
      "text/plain": [
       "' A B C'"
      ]
     },
     "execution_count": 35,
     "metadata": {},
     "output_type": "execute_result"
    }
   ],
   "source": [
    "A.rstrip()"
   ]
  },
  {
   "cell_type": "code",
   "execution_count": 36,
   "id": "dab83d3d-6948-4f3d-80ce-940223df8b40",
   "metadata": {},
   "outputs": [
    {
     "data": {
      "text/plain": [
       "'A B C'"
      ]
     },
     "execution_count": 36,
     "metadata": {},
     "output_type": "execute_result"
    }
   ],
   "source": [
    "A.strip()"
   ]
  },
  {
   "cell_type": "code",
   "execution_count": 37,
   "id": "a50ab2fd-5413-4200-aab4-5abec7906790",
   "metadata": {},
   "outputs": [
    {
     "name": "stdout",
     "output_type": "stream",
     "text": [
      "\n",
      "SELECT *\n",
      "FROM table\n",
      "WHERE 5=5\n",
      "\n"
     ]
    }
   ],
   "source": [
    "#Multiline string\n",
    "str4 = \"\"\"\n",
    "SELECT *\n",
    "FROM table\n",
    "WHERE 5=5\n",
    "\"\"\"\n",
    "print(str4)"
   ]
  },
  {
   "cell_type": "code",
   "execution_count": 38,
   "id": "a1c05a87-2536-454a-9018-e5bdfe89ad79",
   "metadata": {},
   "outputs": [
    {
     "data": {
      "text/plain": [
       "'Hello World'"
      ]
     },
     "execution_count": 38,
     "metadata": {},
     "output_type": "execute_result"
    }
   ],
   "source": [
    "#Title() function makes all words in a string in uppercase\n",
    "S = \"hello world\"\n",
    "S.title()"
   ]
  },
  {
   "cell_type": "code",
   "execution_count": 39,
   "id": "70090575-80e7-43a7-a7ab-d7893435d67e",
   "metadata": {},
   "outputs": [
    {
     "data": {
      "text/plain": [
       "'HELLO WORLD'"
      ]
     },
     "execution_count": 39,
     "metadata": {},
     "output_type": "execute_result"
    }
   ],
   "source": [
    "#Upper() function turns all letters to uppercase\n",
    "S.upper()"
   ]
  },
  {
   "cell_type": "code",
   "execution_count": 40,
   "id": "d96b8e78-8cbf-442f-a1e6-b2ab75846f07",
   "metadata": {},
   "outputs": [
    {
     "data": {
      "text/plain": [
       "0"
      ]
     },
     "execution_count": 40,
     "metadata": {},
     "output_type": "execute_result"
    }
   ],
   "source": [
    "#Find() function find an index of given value in a string\n",
    "S.find(\"h\")"
   ]
  },
  {
   "cell_type": "code",
   "execution_count": 41,
   "id": "32b6c0e4-b6b7-4f0d-8dd3-5e0f34647282",
   "metadata": {},
   "outputs": [
    {
     "data": {
      "text/plain": [
       "'MAX world'"
      ]
     },
     "execution_count": 41,
     "metadata": {},
     "output_type": "execute_result"
    }
   ],
   "source": [
    "#Replace() funtion replaces something inside a string to a given value\n",
    "S.replace(\"hello\", \"MAX\")"
   ]
  },
  {
   "cell_type": "code",
   "execution_count": 42,
   "id": "049e3fda-a182-4b20-8fa6-777d06eeed69",
   "metadata": {},
   "outputs": [
    {
     "data": {
      "text/plain": [
       "'Hello world'"
      ]
     },
     "execution_count": 42,
     "metadata": {},
     "output_type": "execute_result"
    }
   ],
   "source": [
    "#Capitalize() function to turn the first value to uppercase\n",
    "S.capitalize()"
   ]
  },
  {
   "cell_type": "code",
   "execution_count": 43,
   "id": "7dd8df07-64b1-4b21-9c54-9eb0c380adf0",
   "metadata": {},
   "outputs": [
    {
     "data": {
      "text/plain": [
       "'hello world'"
      ]
     },
     "execution_count": 43,
     "metadata": {},
     "output_type": "execute_result"
    }
   ],
   "source": [
    "#String concatenation \n",
    "SUMM = \"hello \" + \"world\"\n",
    "SUMM"
   ]
  },
  {
   "cell_type": "code",
   "execution_count": 44,
   "id": "3e99ce79-8c5d-489a-b162-e8fd2d068672",
   "metadata": {},
   "outputs": [
    {
     "data": {
      "text/plain": [
       "True"
      ]
     },
     "execution_count": 44,
     "metadata": {},
     "output_type": "execute_result"
    }
   ],
   "source": [
    "#Startswith() function checks whether str is starting at a given value\n",
    "S = 'Spam'\n",
    "S.startswith(\"S\")"
   ]
  },
  {
   "cell_type": "code",
   "execution_count": 45,
   "id": "89671f95-4592-4bca-865c-ce10db66d621",
   "metadata": {},
   "outputs": [
    {
     "data": {
      "text/plain": [
       "True"
      ]
     },
     "execution_count": 45,
     "metadata": {},
     "output_type": "execute_result"
    }
   ],
   "source": [
    "#Endswith() function checks whether str is ending at a given value\n",
    "S.endswith(\"m\")"
   ]
  },
  {
   "cell_type": "code",
   "execution_count": 46,
   "id": "b2bb6cce-c437-4606-959f-935eb9115306",
   "metadata": {},
   "outputs": [
    {
     "data": {
      "text/plain": [
       "'SpamSpamSpamSpam'"
      ]
     },
     "execution_count": 46,
     "metadata": {},
     "output_type": "execute_result"
    }
   ],
   "source": [
    "v = S * 4\n",
    "v"
   ]
  },
  {
   "cell_type": "code",
   "execution_count": 47,
   "id": "75b1cd80-f095-436f-8bd0-cfe00c64cb38",
   "metadata": {},
   "outputs": [
    {
     "name": "stdout",
     "output_type": "stream",
     "text": [
      "value = 1\n",
      "value = Hello\n"
     ]
    }
   ],
   "source": [
    "#String formatting using C style formatting\n",
    "var1 = 1\n",
    "str1 = \"Hello\"\n",
    "print(\"value = %d\" % var1)   \n",
    "print(\"value = %s\" % str1)    "
   ]
  },
  {
   "cell_type": "code",
   "execution_count": 48,
   "id": "1bfa7687-e375-42aa-8f64-c46f68ae82ee",
   "metadata": {},
   "outputs": [
    {
     "name": "stdout",
     "output_type": "stream",
     "text": [
      "value1 = 3.142 value2 = 1\n"
     ]
    }
   ],
   "source": [
    "#This formatting creates a string\n",
    "S = \"value1 = %.3f value2 = %d\" % (3.14150287456, 1.6)\n",
    "print(S)\n",
    "#%d if used for float, then rounds to "
   ]
  },
  {
   "cell_type": "code",
   "execution_count": 49,
   "id": "8d0c22dd-3a26-49e7-bb86-9c5e4e41eb1b",
   "metadata": {},
   "outputs": [
    {
     "name": "stdout",
     "output_type": "stream",
     "text": [
      "This is second = 6, first = 5\n"
     ]
    }
   ],
   "source": [
    "#Alternative, more intuitive way of formatting a string \n",
    "\n",
    "print(\"This is second = {1}, first = {0}\".format(5,6))"
   ]
  },
  {
   "cell_type": "code",
   "execution_count": 50,
   "id": "8b110775-b12b-40c7-9877-1a57c5bfde0b",
   "metadata": {},
   "outputs": [
    {
     "name": "stdout",
     "output_type": "stream",
     "text": [
      "Hello world\n"
     ]
    }
   ],
   "source": [
    "#The f'' (or f\"\") is known as an f-string, which stands for \"formatted string literals\"\n",
    "\n",
    "a = 'world'\n",
    "print(f'Hello {a}')"
   ]
  },
  {
   "cell_type": "code",
   "execution_count": 51,
   "id": "d9eacf41-4449-4143-bd32-fb985e39701f",
   "metadata": {},
   "outputs": [
    {
     "name": "stdout",
     "output_type": "stream",
     "text": [
      "['Fakhri', 'Python', 'Regex', 'ChatGPT']\n",
      "Pattern found in the input string.\n",
      "First group: usr\n",
      "Second group: Samir\n",
      "Third group: DA\n",
      "('usr', 'Samir')\n"
     ]
    }
   ],
   "source": [
    "import re\n",
    "\n",
    "text = \"Fakhri is learning Python and Regex from ChatGPT.\"\n",
    "\n",
    "# Pattern explanation:\n",
    "# \\b     - word boundary\n",
    "# [A-Z]  - any uppercase letter\n",
    "# \\w*    - zero or more word characters\n",
    "pattern = r'\\b[A-Z]\\w*'\n",
    "\n",
    "matches = re.findall(pattern, text)\n",
    "print(matches)\n",
    "\n",
    "input_string = 'Sa/usr/Samir/DA'\n",
    "pattern = r'/(.*)/(.*)/(.*)'  # Regular expression pattern\n",
    "#---------------------------------------------------------\n",
    "# Search for the pattern in the input string\n",
    "match = re.search(pattern, input_string)\n",
    "\n",
    "# Check if a match is found\n",
    "if match:\n",
    "    groups = match.groups()\n",
    "    print('Pattern found in the input string.')\n",
    "    print('First group:', groups[0])\n",
    "    print('Second group:', groups[1])\n",
    "    print('Third group:', groups[2])\n",
    "else:\n",
    "    print('Pattern not found in the input string.')\n",
    "#----------------------------------------------------------\n",
    "netice = re.match('/(.*)/(.*)', '/usr/Samir')\n",
    "l = netice.groups()\n",
    "print(l)"
   ]
  },
  {
   "cell_type": "code",
   "execution_count": 52,
   "id": "c12a54ac-f7ec-447a-b4f5-77420c1d998f",
   "metadata": {},
   "outputs": [],
   "source": [
    "#Lists"
   ]
  },
  {
   "cell_type": "code",
   "execution_count": 53,
   "id": "149abd23-b213-4f45-abb9-19995fd9fa24",
   "metadata": {},
   "outputs": [
    {
     "data": {
      "text/plain": [
       "[1, 2, 3, 4, 5, 6, 7, 8, 9]"
      ]
     },
     "execution_count": 53,
     "metadata": {},
     "output_type": "execute_result"
    }
   ],
   "source": [
    "l = []\n",
    "#Append() function adds to the end of the function\n",
    "for i in range(1,10):\n",
    "    l.append(i)\n",
    "l"
   ]
  },
  {
   "cell_type": "code",
   "execution_count": 85,
   "id": "787cfd42-8b56-4fa4-97b8-d55391688272",
   "metadata": {},
   "outputs": [
    {
     "name": "stdout",
     "output_type": "stream",
     "text": [
      "[1, 2, 3, 4, 5, 6]\n"
     ]
    }
   ],
   "source": [
    "#Extend() function adds iterable variables\n",
    "L1 = [1, 2, 3]\n",
    "L2 = [4 ,5 , 6]\n",
    "L1.extend(L2)\n",
    "print(L1)"
   ]
  },
  {
   "cell_type": "code",
   "execution_count": 55,
   "id": "2e73675c-f6a8-4615-8f2e-9ee89085008d",
   "metadata": {},
   "outputs": [
    {
     "name": "stdout",
     "output_type": "stream",
     "text": [
      "[1, 2, 2, 4, 6]\n"
     ]
    }
   ],
   "source": [
    "#Sort() function changes to low to high\n",
    "LIST = [2, 4, 2, 6, 1]\n",
    "LIST.sort()\n",
    "print(LIST)"
   ]
  },
  {
   "cell_type": "code",
   "execution_count": 56,
   "id": "3681f5af-df90-4ad6-aa83-3d415672818a",
   "metadata": {},
   "outputs": [
    {
     "data": {
      "text/plain": [
       "[1, 2, 2, 4, 6]"
      ]
     },
     "execution_count": 56,
     "metadata": {},
     "output_type": "execute_result"
    }
   ],
   "source": [
    "#Sorted() function creates a new list\n",
    "D = sorted(LIST)\n",
    "D"
   ]
  },
  {
   "cell_type": "code",
   "execution_count": 57,
   "id": "2db04f4c-8cdf-4372-864a-6cac3153cb94",
   "metadata": {},
   "outputs": [
    {
     "name": "stdout",
     "output_type": "stream",
     "text": [
      "478 ns ± 30.1 ns per loop (mean ± std. dev. of 7 runs, 1,000,000 loops each)\n"
     ]
    }
   ],
   "source": [
    "%%timeit \n",
    "D = sorted(LIST) "
   ]
  },
  {
   "cell_type": "code",
   "execution_count": 58,
   "id": "5b6ba682-2094-42c6-8f5f-0d21c1aec6e8",
   "metadata": {},
   "outputs": [
    {
     "name": "stdout",
     "output_type": "stream",
     "text": [
      "CPU times: total: 0 ns\n",
      "Wall time: 0 ns\n"
     ]
    }
   ],
   "source": [
    "%time\n",
    "A = sorted(LIST)"
   ]
  },
  {
   "cell_type": "code",
   "execution_count": 59,
   "id": "169934c6-1fdd-4b11-880c-c44ea4ccbe86",
   "metadata": {},
   "outputs": [
    {
     "data": {
      "text/plain": [
       "[1, 2, 3]"
      ]
     },
     "execution_count": 59,
     "metadata": {},
     "output_type": "execute_result"
    }
   ],
   "source": [
    "#Using set() to remove duplicated from list\n",
    "M = [1, 1, 2, 2, 3, 3]\n",
    "M = list(set(M))\n",
    "M"
   ]
  },
  {
   "cell_type": "code",
   "execution_count": 60,
   "id": "137ac418-ebb9-4e37-a1c2-22a4e80b69b4",
   "metadata": {},
   "outputs": [
    {
     "name": "stdout",
     "output_type": "stream",
     "text": [
      "[4, 3, 2, 1]\n"
     ]
    }
   ],
   "source": [
    "numbers = [3, 1, 4, 2]\n",
    "numbers.sort(reverse = True)\n",
    "print(numbers)  "
   ]
  },
  {
   "cell_type": "code",
   "execution_count": 61,
   "id": "16daac65-d8ea-48d7-a4e9-716f593b7ad1",
   "metadata": {},
   "outputs": [
    {
     "name": "stdout",
     "output_type": "stream",
     "text": [
      "['kiwi', 'apple', 'banana']\n"
     ]
    }
   ],
   "source": [
    "#Sorting by length of a string\n",
    "words = ['apple', 'kiwi', 'banana']\n",
    "words.sort(key=len)\n",
    "print(words)  "
   ]
  },
  {
   "cell_type": "code",
   "execution_count": 62,
   "id": "97f53cdf-2517-4205-bf4b-fea66556219b",
   "metadata": {},
   "outputs": [
    {
     "name": "stdout",
     "output_type": "stream",
     "text": [
      "['kiwi', 'apple', 'banana']\n"
     ]
    }
   ],
   "source": [
    "new_list = sorted(words, key=len)\n",
    "print(new_list)"
   ]
  },
  {
   "cell_type": "code",
   "execution_count": 63,
   "id": "88c01dcc-ffd8-44c5-a52d-2bd3a7a09338",
   "metadata": {},
   "outputs": [
    {
     "data": {
      "text/plain": [
       "['a', 'EX', 'r', 'X']"
      ]
     },
     "execution_count": 63,
     "metadata": {},
     "output_type": "execute_result"
    }
   ],
   "source": [
    "#Sorts by alphabetic order after turning to lower\n",
    "L = ['a', 'X', 'EX', 'r']\n",
    "L.sort(key = str.lower)\n",
    "L"
   ]
  },
  {
   "cell_type": "code",
   "execution_count": 64,
   "id": "fdc6098a-de67-4645-b4dc-e0e2f4a67ad3",
   "metadata": {},
   "outputs": [
    {
     "data": {
      "text/plain": [
       "['a', 'EX', 'r', 'Z', 'X']"
      ]
     },
     "execution_count": 64,
     "metadata": {},
     "output_type": "execute_result"
    }
   ],
   "source": [
    "#Insert() function adds given value to the given index to the list\n",
    "L.insert(3, \"Z\")\n",
    "L"
   ]
  },
  {
   "cell_type": "code",
   "execution_count": 65,
   "id": "bd58953a-bb1a-476e-8f9a-9e9cafd93d65",
   "metadata": {},
   "outputs": [
    {
     "data": {
      "text/plain": [
       "3"
      ]
     },
     "execution_count": 65,
     "metadata": {},
     "output_type": "execute_result"
    }
   ],
   "source": [
    "#Count() function counts number of given value in the list\n",
    "X = [\"X\", \"X\", \"Z\", \"X\", \"Q\"]\n",
    "X.count(\"X\")"
   ]
  },
  {
   "cell_type": "code",
   "execution_count": 66,
   "id": "7032f457-f6bd-49f0-9bd2-9ae37c1a72b0",
   "metadata": {},
   "outputs": [
    {
     "data": {
      "text/plain": [
       "['EX', 'r', 'Z', 'X']"
      ]
     },
     "execution_count": 66,
     "metadata": {},
     "output_type": "execute_result"
    }
   ],
   "source": [
    "#Remove() removes by value\n",
    "L.remove(\"a\")\n",
    "L"
   ]
  },
  {
   "cell_type": "code",
   "execution_count": 67,
   "id": "dd047fe5-681b-4119-b9f2-bfb7aeba6c77",
   "metadata": {},
   "outputs": [
    {
     "data": {
      "text/plain": [
       "['EX', 'r', 'Z']"
      ]
     },
     "execution_count": 67,
     "metadata": {},
     "output_type": "execute_result"
    }
   ],
   "source": [
    "#Pop() removes by index\n",
    "#If no index given, removes from the end\n",
    "L.pop()\n",
    "L"
   ]
  },
  {
   "cell_type": "code",
   "execution_count": 68,
   "id": "c9101b0e-52c9-4702-b0d8-83aee87ebd44",
   "metadata": {},
   "outputs": [
    {
     "data": {
      "text/plain": [
       "[3, 4]"
      ]
     },
     "execution_count": 68,
     "metadata": {},
     "output_type": "execute_result"
    }
   ],
   "source": [
    "#Del statement removes by start:stop\n",
    "L = [1, 2, 3, 4]\n",
    "del L[0: 2]\n",
    "L"
   ]
  },
  {
   "cell_type": "code",
   "execution_count": 69,
   "id": "bda0693b-b3fb-4822-9751-cc842f1d1d82",
   "metadata": {},
   "outputs": [
    {
     "data": {
      "text/plain": [
       "[4, 3]"
      ]
     },
     "execution_count": 69,
     "metadata": {},
     "output_type": "execute_result"
    }
   ],
   "source": [
    "#Reverse() function\n",
    "L.reverse()\n",
    "L"
   ]
  },
  {
   "cell_type": "code",
   "execution_count": 70,
   "id": "1e8d3f4d-6934-4a4a-9729-e25600d14d3c",
   "metadata": {},
   "outputs": [
    {
     "data": {
      "text/plain": [
       "[3, 4]"
      ]
     },
     "execution_count": 70,
     "metadata": {},
     "output_type": "execute_result"
    }
   ],
   "source": [
    "#Reversed function creates a new list (as in sort, sorted)\n",
    "list(reversed(L))"
   ]
  },
  {
   "cell_type": "code",
   "execution_count": 71,
   "id": "6eb16d47-8bd0-4ff1-b056-f29a77d55029",
   "metadata": {},
   "outputs": [
    {
     "name": "stdout",
     "output_type": "stream",
     "text": [
      "[5, 4, 3, 2, 1]\n"
     ]
    }
   ],
   "source": [
    "#Also can be reversed by using [::-1]\n",
    "L = [1, 2, 3, 4, 5]\n",
    "print(L[::-1])"
   ]
  },
  {
   "cell_type": "code",
   "execution_count": 72,
   "id": "5617f9fe-1dc1-4bf8-947d-80448b28838b",
   "metadata": {},
   "outputs": [
    {
     "name": "stdout",
     "output_type": "stream",
     "text": [
      "['X', 'Z', 'Q']\n",
      "[1, 4, 9, 16]\n"
     ]
    }
   ],
   "source": [
    "#Map() operates a given function on given collection\n",
    "Y = [\"x\", \"z\", \"q\"]\n",
    "X = map(lambda x: x.capitalize(), Y)\n",
    "print(list(X))\n",
    "\n",
    "nums = [1, 2, 3, 4]\n",
    "squares = map(lambda x: x**2, nums)\n",
    "print(list(squares))  # [1, 4, 9, 16]"
   ]
  },
  {
   "cell_type": "code",
   "execution_count": 73,
   "id": "6d99b885-f59f-4e0a-bef4-4d6b7025ee32",
   "metadata": {},
   "outputs": [],
   "source": [
    "#Tuple"
   ]
  },
  {
   "cell_type": "code",
   "execution_count": 74,
   "id": "30a55e50-274e-43a4-8961-08523da066b5",
   "metadata": {},
   "outputs": [
    {
     "name": "stdout",
     "output_type": "stream",
     "text": [
      "1 2 4\n"
     ]
    }
   ],
   "source": [
    "ABC = (1, 2, 3, 4)\n",
    "A1, A2, _, _ = ABC\n",
    "\n",
    "print(A1, A2, _)\n",
    "#Using _ to boost performance\n",
    "#If many _ used, takes last value"
   ]
  },
  {
   "cell_type": "code",
   "execution_count": 75,
   "id": "560a0b17-f095-44e3-811c-cc401e10e495",
   "metadata": {},
   "outputs": [
    {
     "data": {
      "text/plain": [
       "(24, 35, 26, 21, 39, 7, 22, 40, 36, 5)"
      ]
     },
     "execution_count": 75,
     "metadata": {},
     "output_type": "execute_result"
    }
   ],
   "source": [
    "import random\n",
    "MYTUPLE = tuple(random.sample(range(0, 50), 10))\n",
    "MYTUPLE"
   ]
  },
  {
   "cell_type": "code",
   "execution_count": 76,
   "id": "a2033ac3-eb48-45ac-a2c6-74eba9221ec5",
   "metadata": {},
   "outputs": [
    {
     "data": {
      "text/plain": [
       "[58, 21, 28, 72]"
      ]
     },
     "execution_count": 76,
     "metadata": {},
     "output_type": "execute_result"
    }
   ],
   "source": [
    "random.choices(range(0, 100), k = 4)\n",
    "#Can return same values"
   ]
  },
  {
   "cell_type": "code",
   "execution_count": 77,
   "id": "18a1c53f-3322-44d8-93c5-b00fcf9fba66",
   "metadata": {},
   "outputs": [
    {
     "data": {
      "text/plain": [
       "{'101112', '123'}"
      ]
     },
     "execution_count": 77,
     "metadata": {},
     "output_type": "execute_result"
    }
   ],
   "source": [
    "MYTUPLE = (\"123\", \"456\", \"789\", \"101112\")\n",
    "set(random.choices(MYTUPLE, k = 2))\n",
    "#Set disables same values"
   ]
  },
  {
   "cell_type": "code",
   "execution_count": 78,
   "id": "c9b3df54-2f47-46d2-ba1e-a37a18a2fb6e",
   "metadata": {},
   "outputs": [],
   "source": [
    "#Dictionaries"
   ]
  },
  {
   "cell_type": "code",
   "execution_count": 12,
   "id": "c751c9a6-5c68-4e02-bb2e-e82d3c915965",
   "metadata": {},
   "outputs": [
    {
     "name": "stdout",
     "output_type": "stream",
     "text": [
      "{'key1': 'Value1', 'key2': 'Value2', 'key3': 'Value3'}\n"
     ]
    }
   ],
   "source": [
    "#Update() function to extend dictionary by another\n",
    "REC = {\"key1\": \"Value1\", \"key2\": \"Value2\"} \n",
    "REC1 = {\"key3\": \"Value3\"}\n",
    "REC.update(REC1)\n",
    "print(REC)"
   ]
  },
  {
   "cell_type": "code",
   "execution_count": 13,
   "id": "95c669af-012e-48c2-b0de-e6f87804505d",
   "metadata": {},
   "outputs": [
    {
     "data": {
      "text/plain": [
       "{'key2': 'Value2', 'key3': 'Value3'}"
      ]
     },
     "execution_count": 13,
     "metadata": {},
     "output_type": "execute_result"
    }
   ],
   "source": [
    "#Pop() can remove by key \n",
    "REC.pop(\"key1\")\n",
    "REC"
   ]
  },
  {
   "cell_type": "code",
   "execution_count": 14,
   "id": "31fcc4c8-41d2-4ca4-b1c6-f1299b3b025c",
   "metadata": {},
   "outputs": [
    {
     "data": {
      "text/plain": [
       "{'key2': 'Value2'}"
      ]
     },
     "execution_count": 14,
     "metadata": {},
     "output_type": "execute_result"
    }
   ],
   "source": [
    "#Del same as pop but does not return the value\n",
    "del REC[\"key3\"]\n",
    "REC"
   ]
  },
  {
   "cell_type": "code",
   "execution_count": 15,
   "id": "aabf9c47-09ac-4530-a6b2-10fd305939ca",
   "metadata": {},
   "outputs": [
    {
     "data": {
      "text/plain": [
       "{'a': 1, 'b': 2, 'c': 3}"
      ]
     },
     "execution_count": 15,
     "metadata": {},
     "output_type": "execute_result"
    }
   ],
   "source": [
    "#Zip usage\n",
    "dict(zip(['a', 'b', 'c'], [1, 2, 3]))"
   ]
  },
  {
   "cell_type": "code",
   "execution_count": 16,
   "id": "e58c180c-b1aa-4ac9-8acf-5c88c0a85849",
   "metadata": {},
   "outputs": [
    {
     "data": {
      "text/plain": [
       "{'K1': 'hello', 'K2': 'hello', 'K3': 'hello', 'K4': 'hello'}"
      ]
     },
     "execution_count": 16,
     "metadata": {},
     "output_type": "execute_result"
    }
   ],
   "source": [
    "#Fromkeys(iterable, value) \n",
    "LIST = [\"K1\", \"K2\", \"K3\", \"K4\"]\n",
    "dict.fromkeys(LIST, \"hello\")"
   ]
  },
  {
   "cell_type": "code",
   "execution_count": 18,
   "id": "8d7da70c-3f5e-484b-a0a3-df135404312b",
   "metadata": {},
   "outputs": [
    {
     "name": "stdout",
     "output_type": "stream",
     "text": [
      "{'K1': 1, 'K2': 2, 'K3': 3, 'K4': 4}\n"
     ]
    }
   ],
   "source": [
    "#Comprehension\n",
    "KEYS = [\"K1\", \"K2\", \"K3\", \"K4\"]\n",
    "VALUES = [1, 2, 3, 4]\n",
    "DC = {key: value for key, value in zip(KEYS, VALUES)}\n",
    "print(DC)"
   ]
  },
  {
   "cell_type": "code",
   "execution_count": 19,
   "id": "9362f025-0e88-4c18-b2ad-0032962e3dd8",
   "metadata": {},
   "outputs": [],
   "source": [
    "#Set"
   ]
  },
  {
   "cell_type": "code",
   "execution_count": 20,
   "id": "3ec18f2f-09bb-42af-adf4-8b15e0a75bb4",
   "metadata": {},
   "outputs": [
    {
     "data": {
      "text/plain": [
       "{1, 2, 3, 4, 5}"
      ]
     },
     "execution_count": 20,
     "metadata": {},
     "output_type": "execute_result"
    }
   ],
   "source": [
    "#Add() function to add values\n",
    "SET = {1, 2, 3, 4}\n",
    "SET.add(5)\n",
    "SET"
   ]
  },
  {
   "cell_type": "code",
   "execution_count": 21,
   "id": "6897856e-acd6-4fec-997d-aa6f1994601e",
   "metadata": {},
   "outputs": [
    {
     "data": {
      "text/plain": [
       "{1, 2, 3, 4}"
      ]
     },
     "execution_count": 21,
     "metadata": {},
     "output_type": "execute_result"
    }
   ],
   "source": [
    "#Remove() to remove values\n",
    "SET.remove(5)\n",
    "SET"
   ]
  },
  {
   "cell_type": "code",
   "execution_count": 24,
   "id": "2a18389d-5e44-4c7f-ad9d-ee114be6f63f",
   "metadata": {},
   "outputs": [
    {
     "name": "stdout",
     "output_type": "stream",
     "text": [
      "{1, 2}\n",
      "{5, 6}\n"
     ]
    }
   ],
   "source": [
    "#Difference between two sets\n",
    "SET1 = {1, 2, 3, 4}\n",
    "SET2 = {3, 4, 5, 6}\n",
    "DIFF1 = SET1.difference(SET2)\n",
    "print(DIFF1)\n",
    "DIFF2 = SET2.difference(SET1)\n",
    "print(DIFF2)"
   ]
  },
  {
   "cell_type": "code",
   "execution_count": 25,
   "id": "6b67fa64-3a54-4342-ba0e-ce5b7a189a77",
   "metadata": {},
   "outputs": [
    {
     "name": "stdout",
     "output_type": "stream",
     "text": [
      "{1, 2, 5, 6}\n"
     ]
    }
   ],
   "source": [
    "#Symmetric difference\n",
    "SYM_DIFF = SET1.symmetric_difference(SET2)\n",
    "print(SYM_DIFF)"
   ]
  },
  {
   "cell_type": "code",
   "execution_count": 41,
   "id": "7db64bbe-dcf0-4d60-86c6-4e49440a9305",
   "metadata": {},
   "outputs": [
    {
     "name": "stdout",
     "output_type": "stream",
     "text": [
      "True\n",
      "True\n",
      "False\n"
     ]
    }
   ],
   "source": [
    "#Issubset, issuperset, isdisjoint(dont have common values)\n",
    "SET1 = {1, 2, 3, 4, 5}\n",
    "SET2 = {1, 2}\n",
    "print(SET2.issubset(SET1))\n",
    "print(SET1.issuperset(SET2))\n",
    "print(SET1.isdisjoint(SET2))"
   ]
  },
  {
   "cell_type": "code",
   "execution_count": 36,
   "id": "b63dd558-418e-4678-aa30-c1db2fd36528",
   "metadata": {},
   "outputs": [],
   "source": [
    "#Functions"
   ]
  },
  {
   "cell_type": "code",
   "execution_count": 37,
   "id": "79e7a2b0-591b-4572-b5f9-21da1aad3c33",
   "metadata": {},
   "outputs": [
    {
     "name": "stdout",
     "output_type": "stream",
     "text": [
      "Hello, Alice!\n"
     ]
    }
   ],
   "source": [
    "#Match - case\n",
    "def greet(name):\n",
    "    match name:\n",
    "        case \"Alice\":\n",
    "            print(\"Hello, Alice!\")\n",
    "        case \"Bob\":\n",
    "            print(\"Hey Bob!\")\n",
    "        case _:\n",
    "            print(\"Hi there!\")\n",
    "greet(\"Alice\")"
   ]
  },
  {
   "cell_type": "code",
   "execution_count": 38,
   "id": "8e5e54df-69f5-4265-a8ee-04286c1cc570",
   "metadata": {},
   "outputs": [
    {
     "name": "stdout",
     "output_type": "stream",
     "text": [
      "(0, 'ZERO')\n",
      "(1, 'ONE')\n",
      "(2, 'TWO')\n"
     ]
    }
   ],
   "source": [
    "#Enumerate function to assign index to each value in iterable\n",
    "ENUM = [\"ZERO\", \"ONE\", \"TWO\"]\n",
    "for i in enumerate(ENUM):\n",
    "    print(i)"
   ]
  },
  {
   "cell_type": "code",
   "execution_count": 39,
   "id": "f5518005-f1f7-44f1-903b-fe693cfc5ff3",
   "metadata": {},
   "outputs": [
    {
     "name": "stdout",
     "output_type": "stream",
     "text": [
      "1\n",
      "2\n",
      "3\n"
     ]
    }
   ],
   "source": [
    "#Generator, Yield\n",
    "def my_generator():\n",
    "    yield 1\n",
    "    yield 2\n",
    "    yield 3\n",
    "\n",
    "gen = my_generator()\n",
    "print(next(gen))  \n",
    "print(next(gen))  \n",
    "print(next(gen))  "
   ]
  },
  {
   "cell_type": "code",
   "execution_count": 41,
   "id": "191d5324-aba4-408f-b642-351aae46f733",
   "metadata": {},
   "outputs": [
    {
     "data": {
      "text/plain": [
       "True"
      ]
     },
     "execution_count": 41,
     "metadata": {},
     "output_type": "execute_result"
    }
   ],
   "source": [
    "#None = None gives True\n",
    "None == None"
   ]
  },
  {
   "cell_type": "code",
   "execution_count": 45,
   "id": "148caf63-3a88-47db-8799-1f6c364c645b",
   "metadata": {},
   "outputs": [
    {
     "name": "stdout",
     "output_type": "stream",
     "text": [
      "Hello\n",
      "Welcome\n",
      "to\n",
      "Coders\n",
      "Tonight\n",
      "----------------------------\n",
      "first == Aslan\n",
      "middle == Tofiq\n",
      "last == Hasanli\n"
     ]
    }
   ],
   "source": [
    "#*Args, **Kwargs\n",
    "def func(*argv):\n",
    "    for arg in argv:\n",
    "        print(arg)\n",
    "        \n",
    "func('Hello', 'Welcome', 'to', 'Coders','Tonight')\n",
    "\n",
    "print(\"----------------------------\")\n",
    "\n",
    "def Func(**kwargs):\n",
    "    for key, value in kwargs.items():\n",
    "        print(\"%s == %s\" % (key, value))\n",
    "\n",
    "Func(first='Aslan', middle='Tofiq', last='Hasanli')"
   ]
  },
  {
   "cell_type": "code",
   "execution_count": 46,
   "id": "0feb69bc-b58c-427b-ae75-be7df894fd39",
   "metadata": {},
   "outputs": [
    {
     "name": "stdout",
     "output_type": "stream",
     "text": [
      "ar1: Coders\n",
      "ar2: for\n",
      "ar3: all\n",
      "ar1: for\n",
      "ar2: Coders\n",
      "ar3: all\n"
     ]
    }
   ],
   "source": [
    "# Now we can use *args or **kwargs to\n",
    "# pass arguments to this function :\n",
    "def myFun(arg1, arg2, arg3):\n",
    "    print(\"ar1:\", arg1)\n",
    "    print(\"ar2:\", arg2)\n",
    "    print(\"ar3:\", arg3)\n",
    "     \n",
    "args = (\"Coders\", \"for\", \"all\")\n",
    "myFun(*args)\n",
    "\n",
    "kwargs = {\"arg2\": \"Coders\", \"arg1\": \"for\", \"arg3\": \"all\"}\n",
    "myFun(**kwargs)"
   ]
  },
  {
   "cell_type": "code",
   "execution_count": 48,
   "id": "bf8f11ce-b9ec-4edb-a178-48da0f77dacb",
   "metadata": {},
   "outputs": [
    {
     "name": "stdout",
     "output_type": "stream",
     "text": [
      "25\n"
     ]
    }
   ],
   "source": [
    "#Lambda functions(1 timed)\n",
    "square = lambda x: x * x\n",
    "print(square(5))   "
   ]
  },
  {
   "cell_type": "code",
   "execution_count": 5,
   "id": "f4f5b38b-0352-4385-973c-8ef6bfea127d",
   "metadata": {},
   "outputs": [
    {
     "data": {
      "text/plain": [
       "['Abc', 'ABC', 'Alminium']"
      ]
     },
     "execution_count": 5,
     "metadata": {},
     "output_type": "execute_result"
    }
   ],
   "source": [
    "#Filter functions filter(function that returns True or False, iterable)\n",
    "S = [\"Abc\", 'ABC', 'abc', \"Alminium\"]\n",
    "def function(b):\n",
    "    if b.startswith(\"A\"):\n",
    "        return True\n",
    "    return False\n",
    "X = list(filter(function, S))\n",
    "X"
   ]
  },
  {
   "cell_type": "code",
   "execution_count": 1,
   "id": "a1caf243-d04a-4720-b902-dea7eb6e6a6a",
   "metadata": {},
   "outputs": [
    {
     "name": "stdout",
     "output_type": "stream",
     "text": [
      "10\n"
     ]
    }
   ],
   "source": [
    "#Reduce() is a function that applies another function to a sequence of values, one by one, to reduce it to a single result.\n",
    "from functools import reduce\n",
    "\n",
    "numbers = [1, 2, 3, 4]\n",
    "total = reduce(lambda x, y: x + y, numbers)\n",
    "print(total)  "
   ]
  },
  {
   "cell_type": "code",
   "execution_count": 2,
   "id": "f00749ad-cbbc-42c4-8bc9-1ec3ffef4224",
   "metadata": {},
   "outputs": [
    {
     "name": "stdout",
     "output_type": "stream",
     "text": [
      "16\n"
     ]
    }
   ],
   "source": [
    "#The initializer in reduce() is a starting value that gets used before processing the list.\n",
    "numbers = [1, 2, 3]\n",
    "\n",
    "total = reduce(lambda x, y: x + y, numbers, 10)\n",
    "print(total)  "
   ]
  },
  {
   "cell_type": "code",
   "execution_count": 3,
   "id": "80302c26-f5bf-4db8-a923-c30c35bcf991",
   "metadata": {},
   "outputs": [
    {
     "name": "stdout",
     "output_type": "stream",
     "text": [
      "Before the function\n",
      "Hello!\n",
      "After the function\n"
     ]
    }
   ],
   "source": [
    "#A decorator is a function that wraps around another function to add extra behavior.\n",
    "def my_decorator(func):\n",
    "    def wrapper():\n",
    "        print(\"Before the function\")\n",
    "        func()\n",
    "        print(\"After the function\")\n",
    "    return wrapper\n",
    "\n",
    "@my_decorator\n",
    "def say_hello():\n",
    "    print(\"Hello!\")\n",
    "\n",
    "say_hello()"
   ]
  },
  {
   "cell_type": "code",
   "execution_count": 6,
   "id": "5ec53bf5-8fce-4b1f-89be-ab905e8e719b",
   "metadata": {},
   "outputs": [
    {
     "name": "stdout",
     "output_type": "stream",
     "text": [
      "0\n",
      "1\n",
      "1\n",
      "2\n",
      "3\n",
      "5\n",
      "8\n",
      "13\n",
      "21\n",
      "34\n"
     ]
    }
   ],
   "source": [
    "#A generator function uses yield instead of return and produces values one at a time, saving memory.\n",
    "def fibonacci():\n",
    "    a, b = 0, 1\n",
    "    while True:\n",
    "        yield a\n",
    "        a, b = b, a + b\n",
    "\n",
    "fib_gen = fibonacci()\n",
    "\n",
    "for i in range(10):\n",
    "    print(next(fib_gen))"
   ]
  },
  {
   "cell_type": "code",
   "execution_count": 7,
   "id": "bc71c787-d208-412f-8db9-ec295e70c485",
   "metadata": {},
   "outputs": [
    {
     "name": "stdout",
     "output_type": "stream",
     "text": [
      "120\n"
     ]
    }
   ],
   "source": [
    "#Recursive functions\n",
    "def factorial(n):\n",
    "    if n == 0 or n == 1: \n",
    "        return 1\n",
    "    else:\n",
    "        return n * factorial(n - 1)  \n",
    "\n",
    "print(factorial(5)) "
   ]
  },
  {
   "cell_type": "code",
   "execution_count": 9,
   "id": "3d75ce14-d447-49af-8723-819a3e91a54e",
   "metadata": {},
   "outputs": [],
   "source": [
    "try:\n",
    "    # Code that might cause an error\n",
    "    pass\n",
    "except:\n",
    "    # Code that runs if there's an error\n",
    "    pass\n",
    "else:\n",
    "    # Code that runs only if NO error occurred\n",
    "    pass\n",
    "finally:\n",
    "    #Output anyways \n",
    "    pass"
   ]
  },
  {
   "cell_type": "code",
   "execution_count": 10,
   "id": "9e61fb9f-76f1-4313-9470-874603ad4a49",
   "metadata": {},
   "outputs": [
    {
     "name": "stdout",
     "output_type": "stream",
     "text": [
      "Age is 25\n"
     ]
    },
    {
     "ename": "ValueError",
     "evalue": "Age cannot be negative!",
     "output_type": "error",
     "traceback": [
      "\u001b[1;31m---------------------------------------------------------------------------\u001b[0m",
      "\u001b[1;31mValueError\u001b[0m                                Traceback (most recent call last)",
      "Cell \u001b[1;32mIn[10], line 8\u001b[0m\n\u001b[0;32m      5\u001b[0m     \u001b[38;5;28mprint\u001b[39m(\u001b[38;5;124mf\u001b[39m\u001b[38;5;124m\"\u001b[39m\u001b[38;5;124mAge is \u001b[39m\u001b[38;5;132;01m{\u001b[39;00mage\u001b[38;5;132;01m}\u001b[39;00m\u001b[38;5;124m\"\u001b[39m)\n\u001b[0;32m      7\u001b[0m check_age(\u001b[38;5;241m25\u001b[39m)  \n\u001b[1;32m----> 8\u001b[0m check_age(\u001b[38;5;241m-\u001b[39m\u001b[38;5;241m5\u001b[39m)\n",
      "Cell \u001b[1;32mIn[10], line 4\u001b[0m, in \u001b[0;36mcheck_age\u001b[1;34m(age)\u001b[0m\n\u001b[0;32m      2\u001b[0m \u001b[38;5;28;01mdef\u001b[39;00m \u001b[38;5;21mcheck_age\u001b[39m(age):\n\u001b[0;32m      3\u001b[0m     \u001b[38;5;28;01mif\u001b[39;00m age \u001b[38;5;241m<\u001b[39m \u001b[38;5;241m0\u001b[39m:\n\u001b[1;32m----> 4\u001b[0m         \u001b[38;5;28;01mraise\u001b[39;00m \u001b[38;5;167;01mValueError\u001b[39;00m(\u001b[38;5;124m\"\u001b[39m\u001b[38;5;124mAge cannot be negative!\u001b[39m\u001b[38;5;124m\"\u001b[39m)\n\u001b[0;32m      5\u001b[0m     \u001b[38;5;28mprint\u001b[39m(\u001b[38;5;124mf\u001b[39m\u001b[38;5;124m\"\u001b[39m\u001b[38;5;124mAge is \u001b[39m\u001b[38;5;132;01m{\u001b[39;00mage\u001b[38;5;132;01m}\u001b[39;00m\u001b[38;5;124m\"\u001b[39m)\n",
      "\u001b[1;31mValueError\u001b[0m: Age cannot be negative!"
     ]
    }
   ],
   "source": [
    "#Raise manually type of error\n",
    "def check_age(age):\n",
    "    if age < 0:\n",
    "        raise ValueError(\"Age cannot be negative!\")\n",
    "    print(f\"Age is {age}\")\n",
    "\n",
    "check_age(25)  \n",
    "check_age(-5)  "
   ]
  },
  {
   "cell_type": "code",
   "execution_count": 3,
   "id": "d91e114f-a907-47e5-9937-0cedc9633aaf",
   "metadata": {},
   "outputs": [
    {
     "name": "stdout",
     "output_type": "stream",
     "text": [
      "Cannot divide by zero!\n"
     ]
    }
   ],
   "source": [
    "#User - Defined exception\n",
    "def div(a, b):\n",
    "    try:\n",
    "        if b == 0:\n",
    "            raise Exception(\"Cannot divide by zero!\")\n",
    "        print(a / b)\n",
    "    except Exception as E:\n",
    "        print(E)\n",
    "        \n",
    "div(1, 0)"
   ]
  },
  {
   "cell_type": "code",
   "execution_count": 4,
   "id": "26d5c3f8-db3d-44f0-a551-7f4a862cd751",
   "metadata": {},
   "outputs": [],
   "source": [
    "#Classes"
   ]
  },
  {
   "cell_type": "code",
   "execution_count": 5,
   "id": "9384c12c-9251-486f-90fc-bb41a75128aa",
   "metadata": {},
   "outputs": [],
   "source": [
    "class Dog:\n",
    "    def __init__(self, name, breed):\n",
    "        self.name = name\n",
    "        self.breed = breed\n",
    "\n",
    "    def bark(self):\n",
    "        print(f\"{self.name} says Woof!\")"
   ]
  },
  {
   "cell_type": "code",
   "execution_count": 6,
   "id": "49035cfd-f3f9-4793-84f4-618be33d5d99",
   "metadata": {},
   "outputs": [
    {
     "name": "stdout",
     "output_type": "stream",
     "text": [
      "Buddy says Woof!\n",
      "Rex says Woof!\n"
     ]
    }
   ],
   "source": [
    "my_dog = Dog(\"Buddy\", \"Golden Retriever\")\n",
    "your_dog = Dog(\"Rex\", \"German Shepherd\")\n",
    "\n",
    "my_dog.bark()     \n",
    "your_dog.bark()   "
   ]
  },
  {
   "cell_type": "code",
   "execution_count": 8,
   "id": "5d4c525f-be7c-454e-b93a-ca1d2b5b27b8",
   "metadata": {},
   "outputs": [],
   "source": [
    "#Methods"
   ]
  },
  {
   "cell_type": "code",
   "execution_count": 9,
   "id": "b77b3fb6-e18f-4f7f-986a-968af80f799a",
   "metadata": {},
   "outputs": [],
   "source": [
    "#Magic methods"
   ]
  },
  {
   "cell_type": "code",
   "execution_count": 10,
   "id": "cccbf156-38af-4ec1-b43f-7860d5d79258",
   "metadata": {},
   "outputs": [],
   "source": [
    "#__init__(self, ...) → Constructor\n",
    "class Person:\n",
    "    def __init__(self, name):\n",
    "        self.name = name"
   ]
  },
  {
   "cell_type": "code",
   "execution_count": 11,
   "id": "bf8b64c5-571a-45b0-b972-df793df6a647",
   "metadata": {},
   "outputs": [
    {
     "name": "stdout",
     "output_type": "stream",
     "text": [
      "My name is Alice\n"
     ]
    }
   ],
   "source": [
    "#__str__(self) → String representation\n",
    "class Person:\n",
    "    def __init__(self, name):\n",
    "        self.name = name\n",
    "\n",
    "    def __str__(self):\n",
    "        return f\"My name is {self.name}\"\n",
    "\n",
    "p = Person(\"Alice\")\n",
    "print(p)  "
   ]
  },
  {
   "cell_type": "code",
   "execution_count": 12,
   "id": "95e5aff0-b85b-4021-aa21-5e84692b329f",
   "metadata": {},
   "outputs": [
    {
     "name": "stdout",
     "output_type": "stream",
     "text": [
      "(4, 6)\n"
     ]
    }
   ],
   "source": [
    "#__add__(self, other) → + operator\n",
    "class Point:\n",
    "    def __init__(self, x, y):\n",
    "        self.x = x\n",
    "        self.y = y\n",
    "\n",
    "    def __add__(self, other):\n",
    "        return Point(self.x + other.x, self.y + other.y)\n",
    "\n",
    "    def __str__(self):\n",
    "        return f\"({self.x}, {self.y})\"\n",
    "\n",
    "p1 = Point(1, 2)\n",
    "p2 = Point(3, 4)\n",
    "print(p1 + p2)  "
   ]
  },
  {
   "cell_type": "code",
   "execution_count": 13,
   "id": "a24b0466-fe25-434b-aef5-5ec64f28cb48",
   "metadata": {},
   "outputs": [
    {
     "name": "stdout",
     "output_type": "stream",
     "text": [
      "350\n"
     ]
    }
   ],
   "source": [
    "#__len__(self) → len(obj)\n",
    "class Book:\n",
    "    def __init__(self, pages):\n",
    "        self.pages = pages\n",
    "\n",
    "    def __len__(self):\n",
    "        return self.pages\n",
    "\n",
    "b = Book(350)\n",
    "print(len(b)) "
   ]
  },
  {
   "cell_type": "code",
   "execution_count": 24,
   "id": "9588dea4-1e1c-4423-8b52-6a4862541797",
   "metadata": {},
   "outputs": [],
   "source": [
    "#Class Methods to change variables of a class\n",
    "class Cookie:\n",
    "    shape = \"circle\"  # this is a class variable, shared by all cookies\n",
    "\n",
    "    @classmethod\n",
    "    def change_shape(cls, new_shape):\n",
    "        cls.shape = new_shape  # change the shape for the whole class"
   ]
  },
  {
   "cell_type": "code",
   "execution_count": 25,
   "id": "f0bfc4eb-ea00-41b6-8fb6-f75a523b2b53",
   "metadata": {},
   "outputs": [
    {
     "name": "stdout",
     "output_type": "stream",
     "text": [
      "8\n"
     ]
    }
   ],
   "source": [
    "#Static Methods are functions added that does not affect class variables\n",
    "class Math:\n",
    "    @staticmethod\n",
    "    def add(a, b):\n",
    "        return a + b\n",
    "print(Math.add(3, 5)) "
   ]
  },
  {
   "cell_type": "code",
   "execution_count": 26,
   "id": "186aa4b2-0a3b-4965-b5b6-d52b8a92d3cf",
   "metadata": {},
   "outputs": [
    {
     "name": "stdout",
     "output_type": "stream",
     "text": [
      "Hello, my name is Alice and I am 25 years old.\n"
     ]
    }
   ],
   "source": [
    "#Instance Methods when __init__ is used\n",
    "class Person:\n",
    "    def __init__(self, name, age):\n",
    "        self.name = name\n",
    "        self.age = age\n",
    "\n",
    "    def greet(self):\n",
    "        print(f\"Hello, my name is {self.name} and I am {self.age} years old.\")\n",
    "p1 = Person(\"Alice\", 25)\n",
    "p1.greet()  "
   ]
  },
  {
   "cell_type": "code",
   "execution_count": 31,
   "id": "59838872-b4b9-4bc3-92d0-039f09af8b8d",
   "metadata": {},
   "outputs": [
    {
     "name": "stdout",
     "output_type": "stream",
     "text": [
      "This is a chocolate cookie.\n",
      "This cookie has extra chocolate chips!\n",
      "This is a vanilla cookie.\n",
      "This cookie has vanilla frosting!\n"
     ]
    }
   ],
   "source": [
    "#Inheritance\n",
    "class Cookie:\n",
    "    def __init__(self, flavor):\n",
    "        self.flavor = flavor\n",
    "\n",
    "    def describe(self):\n",
    "        print(f\"This is a {self.flavor} cookie.\")\n",
    "\n",
    "class ChocolateCookie(Cookie):\n",
    "    def __init__(self):\n",
    "        super().__init__(\"chocolate\") \n",
    "    def special(self):\n",
    "        print(\"This cookie has extra chocolate chips!\")\n",
    "\n",
    "class VanillaCookie(Cookie):\n",
    "    def __init__(self):\n",
    "        super().__init__(\"vanilla\")\n",
    "\n",
    "    def special(self):\n",
    "        print(\"This cookie has vanilla frosting!\")\n",
    "\n",
    "choc = ChocolateCookie()\n",
    "choc.describe()  \n",
    "choc.special()  \n",
    "\n",
    "van = VanillaCookie()\n",
    "van.describe()  \n",
    "van.special()    \n"
   ]
  },
  {
   "cell_type": "code",
   "execution_count": 32,
   "id": "aa6ef0a6-7f7c-4ba0-9087-e2d9051f351d",
   "metadata": {},
   "outputs": [
    {
     "name": "stdout",
     "output_type": "stream",
     "text": [
      "This is a chocolate fancy cookie.\n",
      "Baking the good...\n",
      "Decorating the good...\n"
     ]
    }
   ],
   "source": [
    "#Multiple Inheritance\n",
    "class BakedGood:\n",
    "    def bake(self):\n",
    "        print(\"Baking the good...\")\n",
    "\n",
    "class Decorated:\n",
    "    def decorate(self):\n",
    "        print(\"Decorating the good...\")\n",
    "\n",
    "class FancyCookie(BakedGood, Decorated):\n",
    "    def __init__(self, flavor):\n",
    "        self.flavor = flavor\n",
    "\n",
    "    def describe(self):\n",
    "        print(f\"This is a {self.flavor} fancy cookie.\")\n",
    "\n",
    "fc = FancyCookie(\"chocolate\")\n",
    "fc.describe()   \n",
    "fc.bake()       \n",
    "fc.decorate()   \n"
   ]
  },
  {
   "cell_type": "code",
   "execution_count": 33,
   "id": "8057a795-c18f-4012-86f8-59a60edf24fb",
   "metadata": {},
   "outputs": [
    {
     "name": "stdout",
     "output_type": "stream",
     "text": [
      "Name: Fakhri\n"
     ]
    },
    {
     "ename": "AttributeError",
     "evalue": "'Student' object has no attribute '__name'",
     "output_type": "error",
     "traceback": [
      "\u001b[1;31m---------------------------------------------------------------------------\u001b[0m",
      "\u001b[1;31mAttributeError\u001b[0m                            Traceback (most recent call last)",
      "Cell \u001b[1;32mIn[33], line 13\u001b[0m\n\u001b[0;32m     10\u001b[0m s \u001b[38;5;241m=\u001b[39m Student(\u001b[38;5;124m\"\u001b[39m\u001b[38;5;124mFakhri\u001b[39m\u001b[38;5;124m\"\u001b[39m)\n\u001b[0;32m     11\u001b[0m s\u001b[38;5;241m.\u001b[39mshow()  \u001b[38;5;66;03m# Output: Name: Fakhri\u001b[39;00m\n\u001b[1;32m---> 13\u001b[0m \u001b[38;5;28mprint\u001b[39m(s\u001b[38;5;241m.\u001b[39m__name)\n",
      "\u001b[1;31mAttributeError\u001b[0m: 'Student' object has no attribute '__name'"
     ]
    }
   ],
   "source": [
    "#Encapsulation \n",
    "# __private cannot be accessed outside _private can be accesed by subclasses\n",
    "class Student:\n",
    "    def __init__(self, name):\n",
    "        self.__name = name  \n",
    "\n",
    "    def show(self):\n",
    "        print(f\"Name: {self.__name}\")\n",
    "\n",
    "s = Student(\"Fakhri\")\n",
    "s.show()  # Output: Name: Fakhri\n",
    "\n",
    "print(s.__name)  # ❌ Error: 'Student' object has no attribute '__name'"
   ]
  },
  {
   "cell_type": "code",
   "execution_count": 34,
   "id": "ed9e5333-7e67-4d78-9446-73c1e76bc7a6",
   "metadata": {},
   "outputs": [
    {
     "name": "stdout",
     "output_type": "stream",
     "text": [
      "Just a plain cookie.\n",
      "A cookie with chocolate chips!\n",
      "A cookie with vanilla flavor!\n"
     ]
    }
   ],
   "source": [
    "#Polymorphism\n",
    "class Cookie:\n",
    "    def describe(self):\n",
    "        print(\"Just a plain cookie.\")\n",
    "\n",
    "class ChocolateCookie(Cookie):\n",
    "    def describe(self):\n",
    "        print(\"A cookie with chocolate chips!\")\n",
    "\n",
    "class VanillaCookie(Cookie):\n",
    "    def describe(self):\n",
    "        print(\"A cookie with vanilla flavor!\")\n",
    "\n",
    "cookies = [Cookie(), ChocolateCookie(), VanillaCookie()]\n",
    "\n",
    "for c in cookies:\n",
    "    c.describe()"
   ]
  },
  {
   "cell_type": "code",
   "execution_count": 35,
   "id": "7044e69b-ebc0-46b2-a28f-dc0c372b1e48",
   "metadata": {},
   "outputs": [
    {
     "name": "stdout",
     "output_type": "stream",
     "text": [
      "I'm a chocolate cookie!\n",
      "I'm a vanilla cookie!\n"
     ]
    }
   ],
   "source": [
    "#Abstraction\n",
    "#Hidden class to be implemented later by child class\n",
    "from abc import ABC, abstractmethod\n",
    "\n",
    "class Cookie(ABC):  # ABC = Abstract Base Class\n",
    "    @abstractmethod\n",
    "    def describe(self):\n",
    "        pass\n",
    "\n",
    "class ChocolateCookie(Cookie):\n",
    "    def describe(self):\n",
    "        print(\"I'm a chocolate cookie!\")\n",
    "\n",
    "class VanillaCookie(Cookie):\n",
    "    def describe(self):\n",
    "        print(\"I'm a vanilla cookie!\")\n",
    "\n",
    "cookies = [ChocolateCookie(), VanillaCookie()]\n",
    "\n",
    "for c in cookies:\n",
    "    c.describe()"
   ]
  },
  {
   "cell_type": "code",
   "execution_count": 36,
   "id": "10104126-1fbc-4861-9a3c-2f61a82145a2",
   "metadata": {},
   "outputs": [],
   "source": [
    "#__str__ vs __repr__\n",
    "class Cookie:\n",
    "    def __init__(self, flavor):\n",
    "        self.flavor = flavor\n",
    "\n",
    "    def __str__(self):\n",
    "        return f\"A {self.flavor} cookie\"\n",
    "\n",
    "    def __repr__(self):\n",
    "        return f\"Cookie('{self.flavor}')\""
   ]
  },
  {
   "cell_type": "code",
   "execution_count": 37,
   "id": "9164bc0e-f1d2-42a1-b9b8-156b27440650",
   "metadata": {},
   "outputs": [
    {
     "name": "stdout",
     "output_type": "stream",
     "text": [
      "A mint cookie\n",
      "Cookie('mint')\n"
     ]
    }
   ],
   "source": [
    "c = Cookie(\"mint\")\n",
    "print(c)        \n",
    "print(repr(c))  "
   ]
  },
  {
   "cell_type": "code",
   "execution_count": 41,
   "id": "9e287299-d0aa-426b-b031-3494923a961a",
   "metadata": {},
   "outputs": [],
   "source": [
    "#Modules"
   ]
  },
  {
   "cell_type": "code",
   "execution_count": 42,
   "id": "cf490030-d169-4f97-8904-007a3399a20f",
   "metadata": {},
   "outputs": [
    {
     "name": "stdout",
     "output_type": "stream",
     "text": [
      "Overwriting my_utils.py\n"
     ]
    }
   ],
   "source": [
    "%%writefile my_utils.py\n",
    "\n",
    "def greet(name):\n",
    "    return f\"Hello, {name}!\"\n",
    "\n",
    "def square(x):\n",
    "    return x * x"
   ]
  },
  {
   "cell_type": "code",
   "execution_count": 49,
   "id": "a1e52487-7cc7-4159-8575-b63eb4dfe9dd",
   "metadata": {},
   "outputs": [
    {
     "data": {
      "text/plain": [
       "'Hello, Olaf!'"
      ]
     },
     "execution_count": 49,
     "metadata": {},
     "output_type": "execute_result"
    }
   ],
   "source": [
    "import my_utils\n",
    "from my_utils import greet\n",
    "greet('Olaf')"
   ]
  },
  {
   "cell_type": "code",
   "execution_count": 50,
   "id": "8fd025d4-dc26-42e5-aa50-d98f8ecaae77",
   "metadata": {},
   "outputs": [],
   "source": [
    "#Data Structures and Algorithms"
   ]
  },
  {
   "cell_type": "code",
   "execution_count": 53,
   "id": "ce4616f1-cfc6-49ef-8036-7497f070e3d2",
   "metadata": {},
   "outputs": [
    {
     "name": "stdout",
     "output_type": "stream",
     "text": [
      "3 5 7 10 12 15 18 "
     ]
    }
   ],
   "source": [
    "#Tree\n",
    "class Node:\n",
    "    def __init__(self, val):\n",
    "        self.val = val\n",
    "        self.left = None\n",
    "        self.right = None\n",
    "\n",
    "    def insert(self, val):\n",
    "        if val < self.val:\n",
    "            if self.left is None:\n",
    "                self.left = Node(val)\n",
    "            else:\n",
    "                self.left.insert(val)\n",
    "        elif val > self.val:\n",
    "            if self.right is None:\n",
    "                self.right = Node(val)\n",
    "            else:\n",
    "                self.right.insert(val)\n",
    "\n",
    "    def inorder(self):\n",
    "        \"\"\"Inorder traversal: Left, Root, Right (sorted order)\"\"\"\n",
    "        if self.left:\n",
    "            self.left.inorder()\n",
    "        print(self.val, end=' ')\n",
    "        if self.right:\n",
    "            self.right.inorder()\n",
    "\n",
    "# Create the tree and insert values\n",
    "root = Node(10)\n",
    "root.insert(5)\n",
    "root.insert(15)\n",
    "root.insert(3)\n",
    "root.insert(7)\n",
    "root.insert(12)\n",
    "root.insert(18)\n",
    "\n",
    "root.inorder()  "
   ]
  },
  {
   "cell_type": "code",
   "execution_count": 48,
   "id": "895673b9-15f3-4b3f-be5f-7af35bd6d66b",
   "metadata": {},
   "outputs": [],
   "source": [
    "#Binary Search Tree Algorithm \n",
    "class Node:\n",
    "    # Constructor to create a new node\n",
    "    def __init__(self, key):\n",
    "        self.key = key\n",
    "        self.left = None\n",
    "        self.right = None\n",
    "\n",
    "# A utility function to insert\n",
    "# a new node with the given key in BST\n",
    "def insert(node, key):\n",
    "    # If the tree is empty, return a new node\n",
    "    if node is None:\n",
    "        return Node(key)\n",
    " \n",
    "    # Otherwise, recur down the tree\n",
    "    if key < node.key:\n",
    "        node.left = insert(node.left, key)\n",
    "    elif key > node.key:\n",
    "        node.right = insert(node.right, key)\n",
    " \n",
    "    # Return the (unchanged) node pointer\n",
    "    return node\n",
    " \n",
    "# Utility function to search a key in a BST\n",
    "def search(root, key):\n",
    "    # Base Cases: root is null or key is present at root\n",
    "    if root is None or root.key == key:\n",
    "        return root\n",
    " \n",
    "    # Key is greater than root's key\n",
    "    if root.key < key:\n",
    "        return search(root.right, key)\n",
    " \n",
    "    # Key is smaller than root's key\n",
    "    return search(root.left, key)"
   ]
  },
  {
   "cell_type": "code",
   "execution_count": 57,
   "id": "d724c234-824f-423e-8051-02913a7dc428",
   "metadata": {},
   "outputs": [
    {
     "name": "stdout",
     "output_type": "stream",
     "text": [
      "20\n",
      "20\n",
      "10\n",
      "None\n"
     ]
    }
   ],
   "source": [
    "#Stacks\n",
    "class Stack:\n",
    "    def __init__(self):\n",
    "        self.items = []\n",
    "\n",
    "    def push(self, item):\n",
    "        self.items.append(item)\n",
    "\n",
    "    def pop(self):\n",
    "        if not self.is_empty():\n",
    "            return self.items.pop()\n",
    "        else:\n",
    "            return None \n",
    "\n",
    "    def peek(self):\n",
    "        if not self.is_empty():\n",
    "            return self.items[-1]\n",
    "        else:\n",
    "            return None\n",
    "\n",
    "    def is_empty(self):\n",
    "        return len(self.items) == 0\n",
    "\n",
    "s = Stack()\n",
    "s.push(10)\n",
    "s.push(20)\n",
    "print(s.peek())   # 20\n",
    "print(s.pop())    # 20\n",
    "print(s.pop())    # 10\n",
    "print(s.pop())    # None (stack empty)\n"
   ]
  },
  {
   "cell_type": "code",
   "execution_count": 58,
   "id": "8c48c554-e0cf-455e-8001-efc1507bb068",
   "metadata": {},
   "outputs": [
    {
     "name": "stdout",
     "output_type": "stream",
     "text": [
      "a\n",
      "a\n",
      "b\n",
      "False\n",
      "c\n",
      "True\n"
     ]
    }
   ],
   "source": [
    "#Queues\n",
    "from collections import deque\n",
    "class Queue:\n",
    "    def __init__(self):\n",
    "        self.items = deque()  # create an empty deque\n",
    "\n",
    "    def enqueue(self, item):\n",
    "        self.items.append(item)  # add to the right (back)\n",
    "\n",
    "    def dequeue(self):\n",
    "        if not self.is_empty():\n",
    "            return self.items.popleft()  # remove from the left (front)\n",
    "        else:\n",
    "            return None  # or raise exception\n",
    "\n",
    "    def peek(self):\n",
    "        if not self.is_empty():\n",
    "            return self.items[0]  # front item\n",
    "        else:\n",
    "            return None\n",
    "\n",
    "    def is_empty(self):\n",
    "        return len(self.items) == 0\n",
    "\n",
    "q = Queue()\n",
    "\n",
    "q.enqueue('a')\n",
    "q.enqueue('b')\n",
    "q.enqueue('c')\n",
    "\n",
    "print(q.peek())     # Output: 'a'\n",
    "\n",
    "print(q.dequeue())  # Output: 'a'\n",
    "print(q.dequeue())  # Output: 'b'\n",
    "\n",
    "print(q.is_empty()) # False\n",
    "\n",
    "print(q.dequeue())  # Output: 'c'\n",
    "print(q.is_empty()) # True\n"
   ]
  },
  {
   "cell_type": "code",
   "execution_count": 2,
   "id": "902f5084-7ed5-45b7-8354-2c5f53d35345",
   "metadata": {},
   "outputs": [],
   "source": [
    "#Graphs\n",
    "class Vertex:\n",
    "    def __init__(self, name):\n",
    "        self.name = name\n",
    "        self.neighbors = {}  \n",
    "\n",
    "    def add_neighbor(self, vertex, weight=0):\n",
    "        self.neighbors[vertex] = weight\n",
    "\n",
    "class Graph:\n",
    "    def __init__(self):\n",
    "        self.vertices = {}\n",
    "\n",
    "    def add_vertex(self, name):\n",
    "        if name not in self.vertices:\n",
    "            self.vertices[name] = Vertex(name)\n",
    "\n",
    "    def add_edge(self, from_vertex, to_vertex, weight=0):\n",
    "        if from_vertex in self.vertices and to_vertex in self.vertices:\n",
    "            self.vertices[from_vertex].add_neighbor(to_vertex, weight)\n",
    "            self.vertices[to_vertex].add_neighbor(from_vertex, weight)  "
   ]
  },
  {
   "cell_type": "code",
   "execution_count": 3,
   "id": "2ae92510-7492-41b0-85a4-cf7cf2cf47d5",
   "metadata": {},
   "outputs": [
    {
     "name": "stdout",
     "output_type": "stream",
     "text": [
      "City: Baku\n",
      "  Road to Ganja with distance 300 km\n",
      "  Road to Sumqayit with distance 40 km\n",
      "City: Ganja\n",
      "  Road to Baku with distance 300 km\n",
      "City: Sumqayit\n",
      "  Road to Baku with distance 40 km\n"
     ]
    }
   ],
   "source": [
    "# Create the graph\n",
    "city_map = Graph()\n",
    "\n",
    "# Add cities\n",
    "city_map.add_vertex(\"Baku\")\n",
    "city_map.add_vertex(\"Ganja\")\n",
    "city_map.add_vertex(\"Sumqayit\")\n",
    "\n",
    "# Add roads\n",
    "city_map.add_edge(\"Baku\", \"Ganja\", 300)\n",
    "city_map.add_edge(\"Baku\", \"Sumqayit\", 40)\n",
    "\n",
    "# Print connections\n",
    "for city in city_map.vertices:\n",
    "    print(f\"City: {city}\")\n",
    "    for neighbor, distance in city_map.vertices[city].neighbors.items():\n",
    "        print(f\"  Road to {neighbor} with distance {distance} km\")"
   ]
  },
  {
   "cell_type": "code",
   "execution_count": 5,
   "id": "80c9043d-c62f-4e14-93a2-245628f64ebd",
   "metadata": {},
   "outputs": [
    {
     "name": "stdout",
     "output_type": "stream",
     "text": [
      "Is palindrome\n",
      "Is not palindrome\n"
     ]
    }
   ],
   "source": [
    "from collections import deque\n",
    "def Is_Palindrome(string):\n",
    "    d = deque(string)\n",
    "    rev = deque(reversed(d))\n",
    "    if d == rev:\n",
    "        print('Is palindrome')\n",
    "    else:\n",
    "        print('Is not palindrome')\n",
    "\n",
    "Is_Palindrome('HannaH')\n",
    "Is_Palindrome('Hello')"
   ]
  },
  {
   "cell_type": "code",
   "execution_count": 1,
   "id": "b7a01933-5999-4f75-a57c-d2ad1458f933",
   "metadata": {},
   "outputs": [
    {
     "name": "stdout",
     "output_type": "stream",
     "text": [
      "Baku is connected to:\n",
      " Ganja (187 km)\n",
      " Sumqayit (226 km)\n",
      " Mingachevir (198 km)\n",
      " Shaki (337 km)\n",
      " Lankaran (461 km)\n",
      " Shirvan (476 km)\n",
      " Nakhchivan (147 km)\n",
      " Quba (240 km)\n",
      " Khachmaz (134 km)\n",
      "\n",
      "Ganja is connected to:\n",
      " Baku (187 km)\n",
      " Sumqayit (95 km)\n",
      " Mingachevir (335 km)\n",
      " Shaki (276 km)\n",
      " Lankaran (402 km)\n",
      " Shirvan (319 km)\n",
      " Nakhchivan (249 km)\n",
      " Quba (219 km)\n",
      " Khachmaz (416 km)\n",
      "\n",
      "Sumqayit is connected to:\n",
      " Baku (226 km)\n",
      " Ganja (95 km)\n",
      " Mingachevir (79 km)\n",
      " Shaki (480 km)\n",
      " Lankaran (477 km)\n",
      " Shirvan (326 km)\n",
      " Nakhchivan (455 km)\n",
      " Quba (152 km)\n",
      " Khachmaz (236 km)\n",
      "\n",
      "Mingachevir is connected to:\n",
      " Baku (198 km)\n",
      " Ganja (335 km)\n",
      " Sumqayit (79 km)\n",
      " Shaki (463 km)\n",
      " Lankaran (483 km)\n",
      " Shirvan (210 km)\n",
      " Nakhchivan (133 km)\n",
      " Quba (426 km)\n",
      " Khachmaz (60 km)\n",
      "\n",
      "Shaki is connected to:\n",
      " Baku (337 km)\n",
      " Ganja (276 km)\n",
      " Sumqayit (480 km)\n",
      " Mingachevir (463 km)\n",
      " Lankaran (134 km)\n",
      " Shirvan (279 km)\n",
      " Nakhchivan (480 km)\n",
      " Quba (365 km)\n",
      " Khachmaz (58 km)\n",
      "\n",
      "Lankaran is connected to:\n",
      " Baku (461 km)\n",
      " Ganja (402 km)\n",
      " Sumqayit (477 km)\n",
      " Mingachevir (483 km)\n",
      " Shaki (134 km)\n",
      " Shirvan (315 km)\n",
      " Nakhchivan (214 km)\n",
      " Quba (229 km)\n",
      " Khachmaz (398 km)\n",
      "\n",
      "Shirvan is connected to:\n",
      " Baku (476 km)\n",
      " Ganja (319 km)\n",
      " Sumqayit (326 km)\n",
      " Mingachevir (210 km)\n",
      " Shaki (279 km)\n",
      " Lankaran (315 km)\n",
      " Nakhchivan (372 km)\n",
      " Quba (471 km)\n",
      " Khachmaz (157 km)\n",
      "\n",
      "Nakhchivan is connected to:\n",
      " Baku (147 km)\n",
      " Ganja (249 km)\n",
      " Sumqayit (455 km)\n",
      " Mingachevir (133 km)\n",
      " Shaki (480 km)\n",
      " Lankaran (214 km)\n",
      " Shirvan (372 km)\n",
      " Quba (240 km)\n",
      " Khachmaz (420 km)\n",
      "\n",
      "Quba is connected to:\n",
      " Baku (240 km)\n",
      " Ganja (219 km)\n",
      " Sumqayit (152 km)\n",
      " Mingachevir (426 km)\n",
      " Shaki (365 km)\n",
      " Lankaran (229 km)\n",
      " Shirvan (471 km)\n",
      " Nakhchivan (240 km)\n",
      " Khachmaz (416 km)\n",
      "\n",
      "Khachmaz is connected to:\n",
      " Baku (134 km)\n",
      " Ganja (416 km)\n",
      " Sumqayit (236 km)\n",
      " Mingachevir (60 km)\n",
      " Shaki (58 km)\n",
      " Lankaran (398 km)\n",
      " Shirvan (157 km)\n",
      " Nakhchivan (420 km)\n",
      " Quba (416 km)\n",
      "\n"
     ]
    }
   ],
   "source": [
    "import random\n",
    "\n",
    "class Graph:\n",
    "    def __init__(self):\n",
    "        self.graph = {}\n",
    "\n",
    "    def add_city(self, city):\n",
    "            self.graph[city] = []\n",
    "\n",
    "    def add_connection(self, from_city, to_city, distance):\n",
    "        self.graph[from_city].append((to_city, distance))\n",
    "\n",
    "    def display(self):\n",
    "        for city in self.graph:\n",
    "            print(f'{city} is connected to:')\n",
    "            for neighbor, dist in self.graph[city]:\n",
    "                print(f' {neighbor} ({dist} km)')\n",
    "            print()\n",
    "\n",
    "cities = [\"Baku\", \"Ganja\", \"Sumqayit\", \"Mingachevir\", \"Shaki\", \"Lankaran\", \"Shirvan\", \"Nakhchivan\", \"Quba\", \"Khachmaz\"]\n",
    "\n",
    "city_map = Graph()\n",
    "\n",
    "for city in cities:\n",
    "    city_map.add_city(city)\n",
    "\n",
    "for i in range(len(cities)):\n",
    "    for j in range(i + 1, len(cities)):\n",
    "        city1 = cities[i]\n",
    "        city2 = cities[j]\n",
    "        distance = random.randint(50, 500)  \n",
    "        city_map.add_connection(city1, city2, distance)\n",
    "        city_map.add_connection(city2, city1, distance)\n",
    "\n",
    "city_map.display()"
   ]
  },
  {
   "cell_type": "code",
   "execution_count": 19,
   "id": "db1930c3-0609-4dfc-a8b3-49dc1888bf37",
   "metadata": {},
   "outputs": [],
   "source": [
    "# Code Complexity\n",
    "\n",
    "# As you know, some methods take less time and memory to operate that others"
   ]
  },
  {
   "cell_type": "code",
   "execution_count": 20,
   "id": "49772ffb-429b-4b5b-8f6d-0da39578f783",
   "metadata": {},
   "outputs": [],
   "source": [
    "#Time complexity"
   ]
  },
  {
   "cell_type": "code",
   "execution_count": 23,
   "id": "cb27cdaa-b6cd-4120-a578-d71569482e3c",
   "metadata": {},
   "outputs": [
    {
     "name": "stdout",
     "output_type": "stream",
     "text": [
      "515 ns ± 24.6 ns per loop (mean ± std. dev. of 7 runs, 1,000,000 loops each)\n"
     ]
    }
   ],
   "source": [
    "# Example 1\n",
    "def find_number(nums, target):\n",
    "    for num in nums:\n",
    "        if num == target:\n",
    "            return True\n",
    "    return False\n",
    "%timeit find_number([1, 2, 3], 3)"
   ]
  },
  {
   "cell_type": "code",
   "execution_count": 24,
   "id": "ccd69059-9bb5-47e0-9250-ee780d69761c",
   "metadata": {},
   "outputs": [
    {
     "name": "stdout",
     "output_type": "stream",
     "text": [
      "318 ns ± 5.32 ns per loop (mean ± std. dev. of 7 runs, 1,000,000 loops each)\n"
     ]
    }
   ],
   "source": [
    "# Example 2\n",
    "def find_number_fast(nums_set, target):\n",
    "    return target in nums_set\n",
    "%timeit find_number_fast([1, 2, 3], 3)"
   ]
  },
  {
   "cell_type": "code",
   "execution_count": 26,
   "id": "d9cbd0ce-e945-4706-aa10-a15c3eba45a9",
   "metadata": {},
   "outputs": [],
   "source": [
    "# Big O"
   ]
  },
  {
   "cell_type": "markdown",
   "id": "fad4d457-da3d-47e9-b4b8-2dd07883faff",
   "metadata": {},
   "source": [
    "Big O Notation describes the growth rate of your code’s runtime — not actual seconds, but how fast it gets slower as input gets bigger."
   ]
  },
  {
   "cell_type": "code",
   "execution_count": 32,
   "id": "38f0059e-30a7-463c-8e3b-0f542bf2d7b9",
   "metadata": {},
   "outputs": [],
   "source": [
    "# O(1) - Constant Time\n",
    "\n",
    "def get_last_element(arr):\n",
    "    return arr[-1]  # Just one step → O(1)"
   ]
  },
  {
   "cell_type": "code",
   "execution_count": 33,
   "id": "55186f99-9067-47c3-88ce-5646aae868d3",
   "metadata": {},
   "outputs": [],
   "source": [
    "# O(log(n)) - Logarithmic Time\n",
    "\n",
    "def binary_search(arr, target):\n",
    "    while low <= high:\n",
    "        mid = (low + high) // 2 # Each step cuts the array in half → O(log(n))"
   ]
  },
  {
   "cell_type": "code",
   "execution_count": 36,
   "id": "83093b24-0da3-4bde-bac3-626ed9928a59",
   "metadata": {},
   "outputs": [],
   "source": [
    "# O(n) - Linear Time\n",
    "\n",
    "def print_all(arr):\n",
    "    for item in arr:\n",
    "        print(item)  # One action per item → O(n)\n",
    "\n",
    "# If the array has 10 items → 10 prints\n",
    "# If 1,000 items → 1,000 prints"
   ]
  },
  {
   "cell_type": "code",
   "execution_count": 37,
   "id": "f3bc6a67-6b82-4ced-8c8f-12c872ddbc36",
   "metadata": {},
   "outputs": [],
   "source": [
    "# O(n²) - Quadratic Time\n",
    "\n",
    "def print_pairs(arr):\n",
    "    for a in arr:\n",
    "        for b in arr:\n",
    "            print(a, b)  # n * n steps → O(n²)\n",
    "\n",
    "# If the list has 5 items → 25 pairs\n",
    "# If 100 items → 10,000 pairs"
   ]
  },
  {
   "cell_type": "code",
   "execution_count": 39,
   "id": "6028dde7-4f0a-406b-ad28-66a67ba38b94",
   "metadata": {},
   "outputs": [],
   "source": [
    "# O(2ⁿ) - Recursive Explosion\n",
    "\n",
    "def fib(n):\n",
    "    return fib(n-1) + fib(n-2)  # O(2^n)"
   ]
  },
  {
   "cell_type": "code",
   "execution_count": 40,
   "id": "d504e192-3f6c-43dc-95f0-c140f2bd274c",
   "metadata": {},
   "outputs": [],
   "source": [
    "# Example of time optimisation"
   ]
  },
  {
   "cell_type": "code",
   "execution_count": 44,
   "id": "42132b96-09e6-4f4c-bd40-b81aa8e4c49f",
   "metadata": {},
   "outputs": [
    {
     "name": "stdout",
     "output_type": "stream",
     "text": [
      "2.28 μs ± 30.6 ns per loop (mean ± std. dev. of 7 runs, 1,000,000 loops each)\n"
     ]
    }
   ],
   "source": [
    "def has_duplicate(nums):\n",
    "    for i in range(len(nums)):\n",
    "        for j in range(i+1, len(nums)):\n",
    "            if nums[i] == nums[j]:\n",
    "                return True\n",
    "    return False  \n",
    "\n",
    "# What type of O is here? O(n2)\n",
    "%timeit has_duplicate([1, 2, 3, 3])"
   ]
  },
  {
   "cell_type": "code",
   "execution_count": 47,
   "id": "44149ce1-e275-41f2-8148-9e8d7853ec0d",
   "metadata": {},
   "outputs": [
    {
     "name": "stdout",
     "output_type": "stream",
     "text": [
      "1.1 μs ± 6.09 ns per loop (mean ± std. dev. of 7 runs, 1,000,000 loops each)\n"
     ]
    }
   ],
   "source": [
    "def has_duplicates(nums):\n",
    "    seen = set()\n",
    "    for num in nums:\n",
    "        if num in seen:\n",
    "            return True\n",
    "        seen.add(num)\n",
    "    return False  \n",
    "\n",
    "# What type of O is here? O(n)\n",
    "%timeit has_duplicates([1, 2, 3, 3])"
   ]
  },
  {
   "cell_type": "code",
   "execution_count": 48,
   "id": "1b2075cb-14b0-4f4f-be0c-407adab4ab3c",
   "metadata": {},
   "outputs": [],
   "source": [
    "#Space complexity"
   ]
  },
  {
   "cell_type": "code",
   "execution_count": 49,
   "id": "02ab5487-7b74-4e37-8fec-adb884bd28ef",
   "metadata": {},
   "outputs": [],
   "source": [
    "# Method 1 - Uses Extra Space\n",
    "\n",
    "def square_numbers(nums):\n",
    "    result = []\n",
    "    for num in nums:\n",
    "        result.append(num ** 2)\n",
    "    return result"
   ]
  },
  {
   "cell_type": "code",
   "execution_count": 1,
   "id": "733cdb81-555f-4bab-b5ad-1d8bf790dc52",
   "metadata": {},
   "outputs": [],
   "source": [
    "# Method 2 - Modifies In-Place\n",
    "\n",
    "def square_numbers_in_place(nums):\n",
    "    for i in range(len(nums)):\n",
    "        nums[i] = nums[i] ** 2\n",
    "    return nums"
   ]
  },
  {
   "cell_type": "code",
   "execution_count": 2,
   "id": "691b4a88-9bd6-4bed-8e2d-76a22ce4db50",
   "metadata": {},
   "outputs": [],
   "source": [
    "#File handling"
   ]
  },
  {
   "cell_type": "code",
   "execution_count": null,
   "id": "78c9a042-6232-4e33-9a59-c0665286322c",
   "metadata": {},
   "outputs": [],
   "source": [
    "file = open(\"filename.txt\", \"mode\")\n",
    "# do something\n",
    "file.close()"
   ]
  },
  {
   "cell_type": "code",
   "execution_count": null,
   "id": "b20b5ca9-0dad-4cdf-8848-e1a56e7ea686",
   "metadata": {},
   "outputs": [],
   "source": [
    "#Modes\n",
    "Modes:\n",
    "\n",
    "\"r\" – Read (default mode)\n",
    "\n",
    "\"w\" – Write (overwrites file)\n",
    "\n",
    "\"a\" – Append (adds to file)\n",
    "\n",
    "\"x\" – Create (fails if file exists)\n",
    "\n",
    "\"b\" – Binary mode (e.g., for images)\n",
    "\n",
    "\"t\" – Text mode (default)"
   ]
  },
  {
   "cell_type": "code",
   "execution_count": 29,
   "id": "ecf1e808-352b-4cca-ae7f-548fbe8893bf",
   "metadata": {},
   "outputs": [],
   "source": [
    "# Writing file\n",
    "file = open(\"example.txt\", \"w\")\n",
    "file.write(\"Hello, world!\")\n",
    "file.close()"
   ]
  },
  {
   "cell_type": "code",
   "execution_count": 30,
   "id": "ad855b94-6154-4e9d-85f8-6d3f3a8fd634",
   "metadata": {},
   "outputs": [],
   "source": [
    "lines = [\"Red\\n\", \"Green\\n\", \"Blue\\n\"]\n",
    "\n",
    "with open(\"colors.txt\", \"w\") as f:\n",
    "    f.writelines(lines)"
   ]
  },
  {
   "cell_type": "code",
   "execution_count": 31,
   "id": "4706f232-6825-4e52-a914-3f3d9f3e3545",
   "metadata": {},
   "outputs": [],
   "source": [
    "# Appending\n",
    "file = open(\"example.txt\", \"a\")\n",
    "file.write(\"\\nNew line added.\")\n",
    "file.close()"
   ]
  },
  {
   "cell_type": "code",
   "execution_count": 32,
   "id": "dd9dd7e8-4aa7-49c4-a829-e6efce547ab9",
   "metadata": {},
   "outputs": [
    {
     "name": "stdout",
     "output_type": "stream",
     "text": [
      "Hello, world!\n",
      "New line added.\n"
     ]
    }
   ],
   "source": [
    "# Reading file\n",
    "file = open(\"example.txt\", \"r\")\n",
    "content = file.read()\n",
    "print(content)\n",
    "file.close()"
   ]
  },
  {
   "cell_type": "code",
   "execution_count": 33,
   "id": "732da0b5-85b5-4ecb-b3ea-4da9620507c7",
   "metadata": {},
   "outputs": [
    {
     "name": "stdout",
     "output_type": "stream",
     "text": [
      "['Hello, world!\\n', 'New line added.']\n"
     ]
    }
   ],
   "source": [
    "with open(\"example.txt\", \"r\") as f:\n",
    "    lines = f.readlines()\n",
    "    print(lines)"
   ]
  },
  {
   "cell_type": "code",
   "execution_count": 34,
   "id": "2a903c89-3388-4182-94f5-b848c7598f22",
   "metadata": {},
   "outputs": [
    {
     "name": "stdout",
     "output_type": "stream",
     "text": [
      "Hello, world!\n",
      "New line added.\n"
     ]
    }
   ],
   "source": [
    "# Best usage\n",
    "with open(\"example.txt\", \"r\") as file:\n",
    "    content = file.read()\n",
    "    print(content)"
   ]
  },
  {
   "cell_type": "code",
   "execution_count": 35,
   "id": "1ac50d8c-ed28-41d5-86c6-097cfe4dad88",
   "metadata": {},
   "outputs": [
    {
     "name": "stdout",
     "output_type": "stream",
     "text": [
      "Hello, world!\n",
      "New line added.\n"
     ]
    }
   ],
   "source": [
    "# Try except with file handling \n",
    "try:\n",
    "    with open(\"example.txt\", \"r\") as file:\n",
    "        print(file.read())\n",
    "except FileNotFoundError:\n",
    "    print(\"File not found.\")"
   ]
  },
  {
   "cell_type": "code",
   "execution_count": 36,
   "id": "77a75088-af58-46f2-9c1c-28cb194322d3",
   "metadata": {},
   "outputs": [],
   "source": [
    "# Pickle usage\n",
    "\n",
    "import pickle\n",
    "\n",
    "data = {'name': 'Alice', 'age': 25}\n",
    "\n",
    "with open('data.pkl', 'wb') as file:\n",
    "    pickle.dump(data, file)"
   ]
  },
  {
   "cell_type": "code",
   "execution_count": 37,
   "id": "f5844fc9-222b-43ba-8640-8bc277a4bec4",
   "metadata": {},
   "outputs": [
    {
     "name": "stdout",
     "output_type": "stream",
     "text": [
      "{'name': 'Alice', 'age': 25}\n"
     ]
    }
   ],
   "source": [
    "with open('data.pkl', 'rb') as file:\n",
    "    loaded_data = pickle.load(file)\n",
    "\n",
    "print(loaded_data)  "
   ]
  },
  {
   "cell_type": "code",
   "execution_count": 38,
   "id": "40b563dc-07bd-472d-a34b-4dc1f591bc58",
   "metadata": {},
   "outputs": [
    {
     "name": "stdout",
     "output_type": "stream",
     "text": [
      "Requirement already satisfied: joblib in c:\\users\\user\\anaconda3\\lib\\site-packages (1.4.2)\n"
     ]
    },
    {
     "data": {
      "text/plain": [
       "['model.joblib']"
      ]
     },
     "execution_count": 38,
     "metadata": {},
     "output_type": "execute_result"
    }
   ],
   "source": [
    "# Joblib usage\n",
    "\n",
    "!pip install joblib\n",
    "from joblib import dump\n",
    "\n",
    "model = {'weights': [1.2, 3.4], 'bias': 0.9}\n",
    "\n",
    "dump(model, 'model.joblib')"
   ]
  },
  {
   "cell_type": "code",
   "execution_count": 39,
   "id": "9439e34c-9035-4777-94ff-32033b372d5b",
   "metadata": {},
   "outputs": [
    {
     "name": "stdout",
     "output_type": "stream",
     "text": [
      "{'weights': [1.2, 3.4], 'bias': 0.9}\n"
     ]
    }
   ],
   "source": [
    "from joblib import load\n",
    "\n",
    "loaded_model = load('model.joblib')\n",
    "print(loaded_model)"
   ]
  },
  {
   "cell_type": "code",
   "execution_count": 40,
   "id": "aabb7ff4-8fac-458b-a65d-1c4dcdd5ce15",
   "metadata": {},
   "outputs": [],
   "source": [
    "# Writing in Binary mode\n",
    "\n",
    "with open(\"data.bin\", \"wb\") as f:\n",
    "    f.write(\"Hello\".encode(\"utf-8\"))"
   ]
  },
  {
   "cell_type": "code",
   "execution_count": 42,
   "id": "e16e416e-13f3-488a-8cee-93a8689247f6",
   "metadata": {},
   "outputs": [
    {
     "name": "stdout",
     "output_type": "stream",
     "text": [
      "Hello\n"
     ]
    }
   ],
   "source": [
    "# Reading in Binary mode\n",
    "with open(\"data.bin\", \"rb\") as f:\n",
    "    content = f.read()\n",
    "    print(content.decode(\"utf-8\"))  "
   ]
  },
  {
   "cell_type": "code",
   "execution_count": 43,
   "id": "4e94a21d-4e49-4286-909b-8d589d1a808c",
   "metadata": {},
   "outputs": [
    {
     "name": "stdout",
     "output_type": "stream",
     "text": [
      "example.txt\n",
      "r\n"
     ]
    }
   ],
   "source": [
    "with open(\"example.txt\", \"r\") as f:\n",
    "    print(f.name)  \n",
    "    print(f.mode)  "
   ]
  },
  {
   "cell_type": "code",
   "execution_count": null,
   "id": "b124ceb7-a98b-42c9-9511-936e33e6042e",
   "metadata": {},
   "outputs": [],
   "source": [
    "# Warnings\n",
    "import warnings\n",
    "warnings.filterwarnings(\"ignore\")\n",
    "\n",
    "\"ignore\" – Hide the warning\n",
    "\n",
    "\"always\" – Always show it\n",
    "\n",
    "\"error\" – Turn warning into an exception\n",
    "\n",
    "\"default\" – Default Python behavior"
   ]
  },
  {
   "cell_type": "code",
   "execution_count": 1,
   "id": "1963638c-3e9c-4e38-8d46-ac7be481decc",
   "metadata": {},
   "outputs": [],
   "source": [
    "import warnings\n",
    "warnings.filterwarnings(\"ignore\", category=UserWarning)"
   ]
  },
  {
   "cell_type": "code",
   "execution_count": 2,
   "id": "3a181b87-51c1-448f-8125-6cd4b103ace7",
   "metadata": {},
   "outputs": [],
   "source": [
    "#Sorting Algorithms"
   ]
  },
  {
   "cell_type": "code",
   "execution_count": 9,
   "id": "19fc4fcd-7bfb-463b-a399-a9fbc42a0644",
   "metadata": {},
   "outputs": [],
   "source": [
    "#Bubble sort\n",
    "\n",
    "def bubble_sort(arr):\n",
    "    n = len(arr)\n",
    "    for i in range(n):\n",
    "        for j in range(n - i - 1):\n",
    "            if arr[j] > arr[j + 1]:\n",
    "                arr[j], arr[j + 1] = arr[j + 1], arr[j]"
   ]
  },
  {
   "cell_type": "code",
   "execution_count": 10,
   "id": "c8f5b293-3daa-4bf2-9199-c6d29a99dc42",
   "metadata": {},
   "outputs": [],
   "source": [
    "#Selection sort\n",
    "\n",
    "def selection_sort(arr):\n",
    "    n = len(arr)\n",
    "    for i in range(n):\n",
    "        min_idx = i\n",
    "        for j in range(i+1, n):\n",
    "            if arr[j] < arr[min_idx]:\n",
    "                min_idx = j\n",
    "        arr[i], arr[min_idx] = arr[min_idx], arr[i]"
   ]
  },
  {
   "cell_type": "code",
   "execution_count": 11,
   "id": "bef9790c-1cb3-4e0a-9bf0-5636dac82a7a",
   "metadata": {},
   "outputs": [],
   "source": [
    "#Insertion sort\n",
    "\n",
    "def insertion_sort(arr):\n",
    "    for i in range(1, len(arr)):\n",
    "        key = arr[i]\n",
    "        j = i - 1\n",
    "        while j >= 0 and arr[j] > key:\n",
    "            arr[j + 1] = arr[j]\n",
    "            j -= 1\n",
    "        arr[j + 1] = key"
   ]
  },
  {
   "cell_type": "code",
   "execution_count": 12,
   "id": "105183e6-5de0-4e0e-8b63-0d96c506ac12",
   "metadata": {},
   "outputs": [],
   "source": [
    "#Merge sort\n",
    "\n",
    "def merge_sort(arr):\n",
    "    if len(arr) > 1:\n",
    "        mid = len(arr) // 2\n",
    "        L = arr[:mid]\n",
    "        R = arr[mid:]\n",
    "\n",
    "        merge_sort(L)\n",
    "        merge_sort(R)\n",
    "\n",
    "        i = j = k = 0\n",
    "        while i < len(L) and j < len(R):\n",
    "            if L[i] < R[j]:\n",
    "                arr[k] = L[i]\n",
    "                i += 1\n",
    "            else:\n",
    "                arr[k] = R[j]\n",
    "                j += 1\n",
    "            k += 1\n",
    "\n",
    "        while i < len(L):\n",
    "            arr[k] = L[i]\n",
    "            i += 1\n",
    "            k += 1\n",
    "\n",
    "        while j < len(R):\n",
    "            arr[k] = R[j]\n",
    "            j += 1\n",
    "            k += 1"
   ]
  }
 ],
 "metadata": {
  "kernelspec": {
   "display_name": "Python [conda env:base] *",
   "language": "python",
   "name": "conda-base-py"
  },
  "language_info": {
   "codemirror_mode": {
    "name": "ipython",
    "version": 3
   },
   "file_extension": ".py",
   "mimetype": "text/x-python",
   "name": "python",
   "nbconvert_exporter": "python",
   "pygments_lexer": "ipython3",
   "version": "3.12.7"
  }
 },
 "nbformat": 4,
 "nbformat_minor": 5
}
