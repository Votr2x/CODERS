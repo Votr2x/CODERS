{
 "cells": [
  {
   "cell_type": "markdown",
   "id": "32090aae",
   "metadata": {},
   "source": [
    "# Python Try Except"
   ]
  },
  {
   "cell_type": "markdown",
   "id": "ca8cc545",
   "metadata": {},
   "source": [
    "Error in Python can be of two types i.e. Syntax errors and Exceptions. Errors are the problems in a program due to which the program will stop the execution. In programming, an exception is an event that occurs during the execution of a program and disrupts the normal flow of instructions. Exceptions are typically caused by errors or unexpected conditions that arise while the program is running. When an exception occurs, the normal flow of the program is interrupted, and the control is transferred to a special block of code designed to handle the exception.\n",
    "\n",
    "There are two types of exception:\n",
    "\n",
    "**Built-in Exceptions:**\n",
    "\n",
    "- Python provides a wide range of built-in exceptions that cover common error scenarios. These exceptions are already defined in the Python language and are available for use without any additional setup.\n",
    "- Examples of built-in exceptions include `TypeError`, `ValueError`, `NameError`, `ZeroDivisionError`, `FileNotFoundError`, etc.\n",
    "- Built-in exceptions are typically raised by Python itself or by libraries and modules when an error condition occurs.\n",
    "- You can catch and handle built-in exceptions using try-except blocks in your code.\n",
    "\n",
    "**User-defined Exceptions:**\n",
    "\n",
    "- User-defined exceptions are exceptions that you define yourself in your Python code to represent specific error conditions relevant to your application or module.\n",
    "- You can define a user-defined exception by creating a new class that inherits from one of Python's built-in exception classes (such as `Exception` or any of its subclasses).\n",
    "- By defining your own exceptions, you can provide more meaningful and descriptive error messages and handle specific error scenarios in your code.\n",
    "- User-defined exceptions can be raised using the `raise` statement, just like built-in exceptions.\n",
    "- You can catch and handle user-defined exceptions using try-except blocks in your code, similar to built-in exceptions."
   ]
  },
  {
   "cell_type": "markdown",
   "id": "1aa18c4b",
   "metadata": {},
   "source": [
    "**Try and Except statement is used to handle these errors within our code in Python.**\n",
    "\n",
    "- The **try** block lets you test a block of code for errors.\n",
    "\n",
    "- The **except** block lets you handle the error.\n",
    "\n",
    "- The **else** block lets you execute code when there is no error.\n",
    "\n",
    "- The **finally** block lets you execute code, regardless of the result of the try- and except blocks."
   ]
  },
  {
   "cell_type": "markdown",
   "id": "f8a980bb",
   "metadata": {},
   "source": [
    "```\n",
    "BaseException\n",
    "├── SystemExit\n",
    "├── KeyboardInterrupt\n",
    "├── GeneratorExit\n",
    "├── Exception\n",
    "│   ├── StopIteration\n",
    "│   ├── ArithmeticError\n",
    "│   │   ├── FloatingPointError\n",
    "│   │   ├── OverflowError\n",
    "│   │   └── ZeroDivisionError\n",
    "│   ├── AssertionError\n",
    "│   ├── AttributeError\n",
    "│   ├── BufferError\n",
    "│   ├── EOFError\n",
    "│   ├── ImportError\n",
    "│   ├── LookupError\n",
    "│   │   ├── IndexError\n",
    "│   │   └── KeyError\n",
    "│   ├── MemoryError\n",
    "│   ├── NameError\n",
    "│   │   └── UnboundLocalError\n",
    "│   ├── OSError\n",
    "│   │   ├── BlockingIOError\n",
    "│   │   ├── ChildProcessError\n",
    "│   │   ├── ConnectionError\n",
    "│   │   │   ├── BrokenPipeError\n",
    "│   │   │   ├── ConnectionAbortedError\n",
    "│   │   │   ├── ConnectionRefusedError\n",
    "│   │   │   └── ConnectionResetError\n",
    "│   │   ├── FileExistsError\n",
    "│   │   ├── FileNotFoundError\n",
    "│   │   ├── InterruptedError\n",
    "│   │   ├── IsADirectoryError\n",
    "│   │   ├── NotADirectoryError\n",
    "│   │   ├── PermissionError\n",
    "│   │   └── TimeoutError\n",
    "│   ├── ReferenceError\n",
    "│   ├── RuntimeError\n",
    "│   │   ├── NotImplementedError\n",
    "│   │   ├── RecursionError\n",
    "│   │   └── RuntimeError\n",
    "│   ├── SyntaxError\n",
    "│   │   └── IndentationError\n",
    "│   │       └── TabError\n",
    "│   ├── SystemError\n",
    "│   ├── TypeError\n",
    "│   ├── ValueError\n",
    "│   │   └── UnicodeError\n",
    "│   │       ├── UnicodeDecodeError\n",
    "│   │       ├── UnicodeEncodeError\n",
    "│   │       └── UnicodeTranslateError\n",
    "│   └── Warning\n",
    "```"
   ]
  },
  {
   "cell_type": "markdown",
   "id": "77df1edf",
   "metadata": {},
   "source": [
    "### Built-in Exceptions:"
   ]
  },
  {
   "cell_type": "code",
   "execution_count": 1,
   "id": "2cac70f8",
   "metadata": {},
   "outputs": [
    {
     "ename": "NameError",
     "evalue": "name 'y' is not defined",
     "output_type": "error",
     "traceback": [
      "\u001b[0;31m---------------------------------------------------------------------------\u001b[0m",
      "\u001b[0;31mNameError\u001b[0m                                 Traceback (most recent call last)",
      "Cell \u001b[0;32mIn[1], line 1\u001b[0m\n\u001b[0;32m----> 1\u001b[0m \u001b[38;5;28mprint\u001b[39m(y)\n",
      "\u001b[0;31mNameError\u001b[0m: name 'y' is not defined"
     ]
    }
   ],
   "source": [
    "print(y)"
   ]
  },
  {
   "cell_type": "code",
   "execution_count": 2,
   "id": "79730297",
   "metadata": {},
   "outputs": [
    {
     "name": "stdout",
     "output_type": "stream",
     "text": [
      "Səhv baş verdi\n"
     ]
    }
   ],
   "source": [
    "try:\n",
    "    print(y)\n",
    "except:\n",
    "    print(\"Səhv baş verdi\")"
   ]
  },
  {
   "cell_type": "code",
   "execution_count": 3,
   "id": "78b4f234",
   "metadata": {},
   "outputs": [
    {
     "name": "stdout",
     "output_type": "stream",
     "text": [
      "5\n"
     ]
    }
   ],
   "source": [
    "y=5\n",
    "try:\n",
    "    print(y)\n",
    "except:\n",
    "    print(\"y dəyəri təyin olunmayıb\")"
   ]
  },
  {
   "cell_type": "code",
   "execution_count": 4,
   "id": "16a83a06",
   "metadata": {},
   "outputs": [
    {
     "name": "stdout",
     "output_type": "stream",
     "text": [
      "z dəyəri təyin olunmayıb\n"
     ]
    }
   ],
   "source": [
    "try:\n",
    "    print(z)\n",
    "except NameError:\n",
    "    print(\"z dəyəri təyin olunmayıb\")\n",
    "except:\n",
    "    print(\"Digər səhv baş verdi\")"
   ]
  },
  {
   "cell_type": "code",
   "execution_count": 5,
   "id": "9921178d",
   "metadata": {},
   "outputs": [
    {
     "name": "stdout",
     "output_type": "stream",
     "text": [
      "Digər səhv baş verdi\n"
     ]
    }
   ],
   "source": [
    "try:\n",
    "    print(1/0)\n",
    "except NameError:\n",
    "    print(\"x dəyəri təyin olunmayıb\")\n",
    "except:\n",
    "    print(\"Digər səhv baş verdi\")"
   ]
  },
  {
   "cell_type": "code",
   "execution_count": 6,
   "id": "55d9f657",
   "metadata": {},
   "outputs": [
    {
     "ename": "ZeroDivisionError",
     "evalue": "division by zero",
     "output_type": "error",
     "traceback": [
      "\u001b[0;31m---------------------------------------------------------------------------\u001b[0m",
      "\u001b[0;31mZeroDivisionError\u001b[0m                         Traceback (most recent call last)",
      "Cell \u001b[0;32mIn[6], line 2\u001b[0m\n\u001b[1;32m      1\u001b[0m \u001b[38;5;28;01mtry\u001b[39;00m:\n\u001b[0;32m----> 2\u001b[0m     \u001b[38;5;28mprint\u001b[39m(\u001b[38;5;241m1\u001b[39m\u001b[38;5;241m/\u001b[39m\u001b[38;5;241m0\u001b[39m)\n\u001b[1;32m      3\u001b[0m \u001b[38;5;28;01mexcept\u001b[39;00m \u001b[38;5;167;01mNameError\u001b[39;00m:\n\u001b[1;32m      4\u001b[0m     \u001b[38;5;28mprint\u001b[39m(\u001b[38;5;124m\"\u001b[39m\u001b[38;5;124mx dəyəri təyin olunmayıb\u001b[39m\u001b[38;5;124m\"\u001b[39m)\n",
      "\u001b[0;31mZeroDivisionError\u001b[0m: division by zero"
     ]
    }
   ],
   "source": [
    "try:\n",
    "    print(1/0)\n",
    "except NameError:\n",
    "    print(\"x dəyəri təyin olunmayıb\")"
   ]
  },
  {
   "cell_type": "code",
   "execution_count": 7,
   "id": "3c169e77",
   "metadata": {},
   "outputs": [
    {
     "name": "stdout",
     "output_type": "stream",
     "text": [
      "z dəyəri təyin olunmayıb\n"
     ]
    }
   ],
   "source": [
    "try:\n",
    "    print(z/0)\n",
    "except NameError:\n",
    "    print(\"z dəyəri təyin olunmayıb\")\n",
    "except ZeroDivisionError:\n",
    "    print(\"Digər səhv baş verdi\")"
   ]
  },
  {
   "cell_type": "code",
   "execution_count": 8,
   "id": "5e599262",
   "metadata": {},
   "outputs": [
    {
     "name": "stdout",
     "output_type": "stream",
     "text": [
      "z dəyəri təyin olunmayıb\n"
     ]
    }
   ],
   "source": [
    "try:\n",
    "    print(z/0)\n",
    "except ZeroDivisionError:\n",
    "    print(\"Digər səhv baş verdi\")\n",
    "except NameError:\n",
    "    print(\"z dəyəri təyin olunmayıb\")"
   ]
  },
  {
   "cell_type": "code",
   "execution_count": 9,
   "id": "840069c9",
   "metadata": {},
   "outputs": [
    {
     "name": "stdout",
     "output_type": "stream",
     "text": [
      "Hello\n",
      "Əməliyyat uğurla başa çatdı\n"
     ]
    }
   ],
   "source": [
    "try:\n",
    "    print(\"Hello\")\n",
    "except:\n",
    "    print(\"Əməliyyat zamanı səhv baş verdi\")\n",
    "else:\n",
    "    print(\"Əməliyyat uğurla başa çatdı\")"
   ]
  },
  {
   "cell_type": "code",
   "execution_count": 10,
   "id": "6787574e",
   "metadata": {},
   "outputs": [
    {
     "name": "stdout",
     "output_type": "stream",
     "text": [
      "Əməliyyat başladı\n",
      "10\n",
      "Əməliyyat uğurla başa çatdı\n",
      "'try except' blokun icrası başa çatdı\n"
     ]
    }
   ],
   "source": [
    "y=10\n",
    "try:\n",
    "    print(\"Əməliyyat başladı\")\n",
    "    print(y)\n",
    "except NameError:\n",
    "    print(\"Əməliyyat zamanı səhv baş verdi\")\n",
    "else:\n",
    "    print(\"Əməliyyat uğurla başa çatdı\")\n",
    "finally:\n",
    "    print(\"'try except' blokun icrası başa çatdı\")"
   ]
  },
  {
   "cell_type": "code",
   "execution_count": 11,
   "id": "25914f2c",
   "metadata": {},
   "outputs": [
    {
     "name": "stdout",
     "output_type": "stream",
     "text": [
      "Əməliyyat başladı\n",
      "Əməliyyat zamanı səhv baş verdi\n",
      "'try except' blokun icrası başa çatdı\n"
     ]
    }
   ],
   "source": [
    "try:\n",
    "    print(\"Əməliyyat başladı\")\n",
    "    print(a)\n",
    "except NameError:\n",
    "    print(\"Əməliyyat zamanı səhv baş verdi\")\n",
    "else:\n",
    "    print(\"Əməliyyat uğurla başa çatdı\")\n",
    "finally:\n",
    "    print(\"'try except' blokun icrası başa çatdı\")"
   ]
  },
  {
   "cell_type": "markdown",
   "id": "aa4ed02e",
   "metadata": {},
   "source": [
    "### The `raise` Statement in Python\n",
    "\n",
    "The `raise` statement in Python is used to trigger an exception explicitly. It tells the program to stop executing normally and to handle an error or an exceptional situation.\n",
    "\n",
    "When you use `raise`, you are saying, \"Something went wrong, and I want to stop the program and report an error.\"\n",
    "\n",
    "- **Syntax of raise**:\n",
    "\n",
    "```\n",
    "raise ExceptionType(\"Error message\")\n",
    "```\n",
    "#### Key Points:\n",
    "\n",
    "- **Explicit Exception Trigger**: `raise` allows you to trigger exceptions manually. This is useful for handling situations where an error occurs, such as invalid input or illegal operations.\n",
    "- **Customizable Error Messages**: You can provide a detailed error message that explains why the exception was raised, which helps with debugging and logging.\n",
    "- **Stops Normal Execution**: When an exception is raised, the program will stop unless the exception is caught and handled using `try` and `except` blocks.\n",
    "\n",
    "#### Use Cases for `raise`:\n",
    "- **Input Validation**: Raise an exception if the input is invalid.\n",
    "- **Handling Unusual Situations**: When something unexpected happens that prevents the program from continuing.\n",
    "- **Enforcing Rules**: For instance, you may want to enforce certain rules in a class or a function, and if those rules are violated, you raise an exception"
   ]
  },
  {
   "cell_type": "code",
   "execution_count": 12,
   "id": "93c90e64",
   "metadata": {},
   "outputs": [
    {
     "ename": "Exception",
     "evalue": "Sorry, the number is below zero",
     "output_type": "error",
     "traceback": [
      "\u001b[0;31m---------------------------------------------------------------------------\u001b[0m",
      "\u001b[0;31mException\u001b[0m                                 Traceback (most recent call last)",
      "Cell \u001b[0;32mIn[12], line 4\u001b[0m\n\u001b[1;32m      1\u001b[0m x \u001b[38;5;241m=\u001b[39m \u001b[38;5;241m-\u001b[39m\u001b[38;5;241m15\u001b[39m\n\u001b[1;32m      3\u001b[0m \u001b[38;5;28;01mif\u001b[39;00m x \u001b[38;5;241m<\u001b[39m \u001b[38;5;241m0\u001b[39m:\n\u001b[0;32m----> 4\u001b[0m     \u001b[38;5;28;01mraise\u001b[39;00m \u001b[38;5;167;01mException\u001b[39;00m(\u001b[38;5;124m\"\u001b[39m\u001b[38;5;124mSorry, the number is below zero\u001b[39m\u001b[38;5;124m\"\u001b[39m)\n",
      "\u001b[0;31mException\u001b[0m: Sorry, the number is below zero"
     ]
    }
   ],
   "source": [
    "x = -15\n",
    "\n",
    "if x < 0:\n",
    "    raise Exception(\"Sorry, the number is below zero\")"
   ]
  },
  {
   "cell_type": "code",
   "execution_count": 13,
   "id": "141450a3",
   "metadata": {},
   "outputs": [
    {
     "name": "stdout",
     "output_type": "stream",
     "text": [
      "Caught an exception: Sorry, the number is below zero\n"
     ]
    }
   ],
   "source": [
    "x = -1\n",
    "\n",
    "try:\n",
    "    if x < 0:\n",
    "        raise Exception(\"Sorry, the number is below zero\")\n",
    "except Exception as e:\n",
    "    print(f\"Caught an exception: {e}\")"
   ]
  },
  {
   "cell_type": "code",
   "execution_count": 14,
   "id": "f4a7a16e",
   "metadata": {},
   "outputs": [
    {
     "ename": "TypeError",
     "evalue": "Yalnız rəqəmlər ola bilər",
     "output_type": "error",
     "traceback": [
      "\u001b[0;31m---------------------------------------------------------------------------\u001b[0m",
      "\u001b[0;31mTypeError\u001b[0m                                 Traceback (most recent call last)",
      "Cell \u001b[0;32mIn[14], line 4\u001b[0m\n\u001b[1;32m      1\u001b[0m x \u001b[38;5;241m=\u001b[39m \u001b[38;5;124m\"\u001b[39m\u001b[38;5;124mhello\u001b[39m\u001b[38;5;124m\"\u001b[39m\n\u001b[1;32m      3\u001b[0m \u001b[38;5;28;01mif\u001b[39;00m \u001b[38;5;129;01mnot\u001b[39;00m (\u001b[38;5;28mtype\u001b[39m(x) \u001b[38;5;129;01mis\u001b[39;00m \u001b[38;5;28mint\u001b[39m): \u001b[38;5;66;03m#type(x) != int\u001b[39;00m\n\u001b[0;32m----> 4\u001b[0m     \u001b[38;5;28;01mraise\u001b[39;00m \u001b[38;5;167;01mTypeError\u001b[39;00m(\u001b[38;5;124m\"\u001b[39m\u001b[38;5;124mYalnız rəqəmlər ola bilər\u001b[39m\u001b[38;5;124m\"\u001b[39m)\n",
      "\u001b[0;31mTypeError\u001b[0m: Yalnız rəqəmlər ola bilər"
     ]
    }
   ],
   "source": [
    "x = \"hello\"\n",
    "\n",
    "if not (type(x) is int): #type(x) != int\n",
    "    raise TypeError(\"Yalnız rəqəmlər ola bilər\")"
   ]
  },
  {
   "cell_type": "code",
   "execution_count": 15,
   "id": "a0e0064d",
   "metadata": {},
   "outputs": [
    {
     "name": "stdout",
     "output_type": "stream",
     "text": [
      "Caught an exception: Yalnız rəqəmlər ola bilər. Xahiş edirəm yenidən daxil edin\n"
     ]
    }
   ],
   "source": [
    "x = \"hello\"\n",
    "try:\n",
    "    if not type(x) is int:\n",
    "        raise TypeError(\"Yalnız rəqəmlər ola bilər. Xahiş edirəm yenidən daxil edin\")\n",
    "except Exception as e:\n",
    "    print(f\"Caught an exception: {e}\")"
   ]
  },
  {
   "cell_type": "code",
   "execution_count": 16,
   "id": "d09e8807",
   "metadata": {},
   "outputs": [],
   "source": [
    "def divide(x, y):\n",
    "    try:\n",
    "        result = x // y\n",
    "        print(\"Yeah ! Your answer is :\", result)\n",
    "    except ZeroDivisionError:\n",
    "        print(\"Sorry ! You are dividing by zero \")"
   ]
  },
  {
   "cell_type": "code",
   "execution_count": 17,
   "id": "8765ecbc",
   "metadata": {},
   "outputs": [],
   "source": [
    "#print(1//'a')"
   ]
  },
  {
   "cell_type": "code",
   "execution_count": 18,
   "id": "26dfd245",
   "metadata": {},
   "outputs": [
    {
     "name": "stdout",
     "output_type": "stream",
     "text": [
      "Yeah ! Your answer is : 1\n"
     ]
    }
   ],
   "source": [
    "divide(3, 2)"
   ]
  },
  {
   "cell_type": "code",
   "execution_count": 19,
   "id": "ace97da3",
   "metadata": {},
   "outputs": [
    {
     "name": "stdout",
     "output_type": "stream",
     "text": [
      "Sorry ! You are dividing by zero \n"
     ]
    }
   ],
   "source": [
    "divide(3, 0)"
   ]
  },
  {
   "cell_type": "code",
   "execution_count": 20,
   "id": "b05cc274",
   "metadata": {},
   "outputs": [
    {
     "ename": "TypeError",
     "evalue": "unsupported operand type(s) for //: 'str' and 'int'",
     "output_type": "error",
     "traceback": [
      "\u001b[0;31m---------------------------------------------------------------------------\u001b[0m",
      "\u001b[0;31mTypeError\u001b[0m                                 Traceback (most recent call last)",
      "Cell \u001b[0;32mIn[20], line 1\u001b[0m\n\u001b[0;32m----> 1\u001b[0m divide(\u001b[38;5;124m'\u001b[39m\u001b[38;5;124ma\u001b[39m\u001b[38;5;124m'\u001b[39m,\u001b[38;5;241m3\u001b[39m)\n",
      "Cell \u001b[0;32mIn[16], line 3\u001b[0m, in \u001b[0;36mdivide\u001b[0;34m(x, y)\u001b[0m\n\u001b[1;32m      1\u001b[0m \u001b[38;5;28;01mdef\u001b[39;00m \u001b[38;5;21mdivide\u001b[39m(x, y):\n\u001b[1;32m      2\u001b[0m     \u001b[38;5;28;01mtry\u001b[39;00m:\n\u001b[0;32m----> 3\u001b[0m         result \u001b[38;5;241m=\u001b[39m x \u001b[38;5;241m/\u001b[39m\u001b[38;5;241m/\u001b[39m y\n\u001b[1;32m      4\u001b[0m         \u001b[38;5;28mprint\u001b[39m(\u001b[38;5;124m\"\u001b[39m\u001b[38;5;124mYeah ! Your answer is :\u001b[39m\u001b[38;5;124m\"\u001b[39m, result)\n\u001b[1;32m      5\u001b[0m     \u001b[38;5;28;01mexcept\u001b[39;00m \u001b[38;5;167;01mZeroDivisionError\u001b[39;00m:\n",
      "\u001b[0;31mTypeError\u001b[0m: unsupported operand type(s) for //: 'str' and 'int'"
     ]
    }
   ],
   "source": [
    "divide('a',3)"
   ]
  },
  {
   "cell_type": "code",
   "execution_count": 21,
   "id": "b27cbaa9",
   "metadata": {},
   "outputs": [],
   "source": [
    "def divide(x, y):\n",
    "    try:\n",
    "        result = x // y\n",
    "        print(\"Yeah ! Your answer is :\", result)\n",
    "    except Exception as e:\n",
    "        print(\"The error is: \",e)"
   ]
  },
  {
   "cell_type": "code",
   "execution_count": 22,
   "id": "f70b2786",
   "metadata": {},
   "outputs": [
    {
     "name": "stdout",
     "output_type": "stream",
     "text": [
      "The error is:  unsupported operand type(s) for //: 'int' and 'str'\n"
     ]
    }
   ],
   "source": [
    "divide(3, \"GFG\")"
   ]
  },
  {
   "cell_type": "code",
   "execution_count": 23,
   "id": "3181ab54",
   "metadata": {},
   "outputs": [
    {
     "name": "stdout",
     "output_type": "stream",
     "text": [
      "The error is:  integer division or modulo by zero\n"
     ]
    }
   ],
   "source": [
    "divide(3,0)"
   ]
  },
  {
   "cell_type": "code",
   "execution_count": 24,
   "id": "7d1beab1",
   "metadata": {},
   "outputs": [],
   "source": [
    "def divide_1(x, y):\n",
    "    try:\n",
    "        result = x // y\n",
    "        print(\"Yeah ! Your answer is :\", result)\n",
    "    except ZeroDivisionError:\n",
    "        print(\"integer division or modulo by zero\",)\n",
    "    except TypeError:    \n",
    "        print(\"unsupported operand type(s) for //: 'int' and 'str'\",)"
   ]
  },
  {
   "cell_type": "code",
   "execution_count": 25,
   "id": "3413c327",
   "metadata": {},
   "outputs": [
    {
     "name": "stdout",
     "output_type": "stream",
     "text": [
      "unsupported operand type(s) for //: 'int' and 'str'\n"
     ]
    }
   ],
   "source": [
    "divide_1(3, \"GFG\")"
   ]
  },
  {
   "cell_type": "code",
   "execution_count": 26,
   "id": "d1aa54f1",
   "metadata": {},
   "outputs": [
    {
     "name": "stdout",
     "output_type": "stream",
     "text": [
      "integer division or modulo by zero\n"
     ]
    }
   ],
   "source": [
    "divide_1(3,0)"
   ]
  },
  {
   "cell_type": "code",
   "execution_count": 27,
   "id": "44583f2c",
   "metadata": {},
   "outputs": [],
   "source": [
    "def Calc(a , b):\n",
    "    try:\n",
    "        c = ((a+b) // (a-b))\n",
    "    except ZeroDivisionError:\n",
    "        print (\"Result in 0\")\n",
    "    else:\n",
    "        print (c)\n",
    "    finally:\n",
    "        print(\"This is always executed\")"
   ]
  },
  {
   "cell_type": "code",
   "execution_count": 28,
   "id": "c81568c1",
   "metadata": {},
   "outputs": [
    {
     "name": "stdout",
     "output_type": "stream",
     "text": [
      "Result in 0\n",
      "This is always executed\n"
     ]
    }
   ],
   "source": [
    "Calc(4,4)"
   ]
  },
  {
   "cell_type": "code",
   "execution_count": 29,
   "id": "594c3e34",
   "metadata": {},
   "outputs": [
    {
     "name": "stdout",
     "output_type": "stream",
     "text": [
      "3\n",
      "This is always executed\n"
     ]
    }
   ],
   "source": [
    "Calc(4,2)"
   ]
  },
  {
   "cell_type": "markdown",
   "id": "93d7a5f0",
   "metadata": {},
   "source": [
    "### User-defined Exceptions"
   ]
  },
  {
   "cell_type": "code",
   "execution_count": 30,
   "id": "42a735d6",
   "metadata": {},
   "outputs": [
    {
     "name": "stdout",
     "output_type": "stream",
     "text": [
      "Bunu oxu: Səhv var, düzəliş et!\n"
     ]
    }
   ],
   "source": [
    "class MənimSəhvim(Exception):\n",
    "    pass\n",
    "\n",
    "try:\n",
    "    raise MənimSəhvim(\"Səhv var, düzəliş et!\")\n",
    "except MənimSəhvim as e:\n",
    "    print(\"Bunu oxu:\", e)"
   ]
  },
  {
   "cell_type": "code",
   "execution_count": 31,
   "id": "0c03b2ed",
   "metadata": {},
   "outputs": [
    {
     "name": "stdout",
     "output_type": "stream",
     "text": [
      "Səhv: Sıfıra bölünmə var\n"
     ]
    }
   ],
   "source": [
    "class Sifira_bolunme_exception(Exception):\n",
    "    def __init__(self, message=\"Ümumi səhv\"):\n",
    "        self.message = message\n",
    "        super().__init__(self.message)\n",
    "\n",
    "# Case 1: Custom Message        \n",
    "try:\n",
    "    raise Sifira_bolunme_exception(\"Sıfıra bölünmə var\")\n",
    "except Sifira_bolunme_exception as e:\n",
    "    print(\"Səhv:\", e)"
   ]
  },
  {
   "cell_type": "code",
   "execution_count": 32,
   "id": "54a8e7df-331c-49da-9e4b-4b04409cb806",
   "metadata": {},
   "outputs": [
    {
     "name": "stdout",
     "output_type": "stream",
     "text": [
      "Səhv: Ümumi səhv\n"
     ]
    }
   ],
   "source": [
    "# Case 2: Default Message    \n",
    "try:\n",
    "    raise Sifira_bolunme_exception()\n",
    "except Sifira_bolunme_exception as e:\n",
    "    print(\"Səhv:\", e)"
   ]
  },
  {
   "cell_type": "code",
   "execution_count": 33,
   "id": "2069df8a",
   "metadata": {},
   "outputs": [
    {
     "name": "stdout",
     "output_type": "stream",
     "text": [
      "Səhvin kodu: 500\n",
      "Səhv: Daxili səhv\n"
     ]
    }
   ],
   "source": [
    "class MənimSəhvim(Exception):\n",
    "    def __init__(self, error_code, message=\"Səhv var, düzəliş et!\"):\n",
    "        self.error_code = error_code\n",
    "        self.message = message\n",
    "        super().__init__(self.message)\n",
    "        \n",
    "try:\n",
    "    raise MənimSəhvim(500, \"Daxili səhv\")\n",
    "except MənimSəhvim as e:\n",
    "    print(\"Səhvin kodu:\", e.error_code)\n",
    "    print(\"Səhv:\", e.message)"
   ]
  },
  {
   "cell_type": "code",
   "execution_count": null,
   "id": "5258c8e2",
   "metadata": {},
   "outputs": [],
   "source": []
  }
 ],
 "metadata": {
  "kernelspec": {
   "display_name": "Python 3 (ipykernel)",
   "language": "python",
   "name": "python3"
  },
  "language_info": {
   "codemirror_mode": {
    "name": "ipython",
    "version": 3
   },
   "file_extension": ".py",
   "mimetype": "text/x-python",
   "name": "python",
   "nbconvert_exporter": "python",
   "pygments_lexer": "ipython3",
   "version": "3.11.4"
  }
 },
 "nbformat": 4,
 "nbformat_minor": 5
}
