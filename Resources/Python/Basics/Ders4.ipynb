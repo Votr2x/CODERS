{
 "cells": [
  {
   "cell_type": "markdown",
   "metadata": {
    "id": "ZMQ134V_IjaU"
   },
   "source": [
    "# Functions"
   ]
  },
  {
   "cell_type": "markdown",
   "metadata": {},
   "source": [
    "In Python, a **`function`** is a reusable block of code that performs a specific task or set of tasks. Functions allow you to organize and reuse code, which helps make programs more efficient, readable, and modular.\n",
    "\n",
    "**Key Features of Functions in Python:**\n",
    "- `Define Once, Use Many Times:`\n",
    "    - Functions allow you to define a task once and call it multiple times.\n",
    "    - This prevents code duplication, making programs easier to maintain and understand."
   ]
  },
  {
   "cell_type": "markdown",
   "metadata": {},
   "source": [
    "## Types of Functions in Python\n",
    "\n",
    "### Built-in Functions\n",
    "- These functions are provided by Python and are available for use without the need for explicit definition.\n",
    "- Examples include `print()`, `len()`, `type()`, `sum()`, etc.\n",
    "\n",
    "### User-defined Functions\n",
    "- These functions are defined by the user to perform a specific task or set of tasks.\n",
    "- User-defined functions are created using the `def` keyword followed by the function name, parameters, and function body.\n",
    "\n",
    "### Anonymous Functions (Lambda Functions)\n",
    "- Lambda functions are small, anonymous functions defined using the `lambda` keyword.\n",
    "- They are typically used for simple operations and are often passed as arguments to higher-order functions.\n",
    "\n",
    "### Higher-order Functions\n",
    "- These are functions that accept other functions as arguments or return functions as output.\n",
    "- Examples include `map()`, `filter()`, `sorted()`, etc.\n",
    "- Decorator: A decorator is a special type of higher-order function that takes another function as an argument and extends or modifies its behavior without explicitly changing its code.\n",
    "### Generator Functions\n",
    "- Generator functions use the `yield` keyword to return values one at a time, rather than returning them all at once.\n",
    "- They can be used to generate a sequence of values lazily, conserving memory.\n",
    "\n",
    "### Recursive Functions\n",
    "- These are functions that call themselves directly or indirectly in order to solve a problem.\n",
    "\n",
    "### Method Functions\n",
    "- These functions are defined inside classes and are called methods.\n",
    "- They operate on the instance of the class (i.e., object) and can access and modify its attributes."
   ]
  },
  {
   "cell_type": "markdown",
   "metadata": {},
   "source": [
    "### User-defined Functions"
   ]
  },
  {
   "cell_type": "markdown",
   "metadata": {
    "id": "vvprNvJ5IjaV"
   },
   "source": [
    "A **user-defined function** in Python is a block of reusable code that is created by the user to perform a specific task or set of tasks. These functions allow you to break down a program into smaller, more manageable pieces, making your code more organized, easier to understand, and reusable.\n",
    "\n",
    "Here's the general structure of a user-defined function in Python:\n",
    "\n",
    "```\n",
    "def function_name(parameter1, parameter2, ...):\n",
    "    \"\"\"\n",
    "    Docstring: Optional documentation string explaining what the function does.\n",
    "    \"\"\"\n",
    "    # Function body: Code that defines the behavior of the function\n",
    "    # It may include variable declarations, conditional statements, loops, etc.\n",
    "    \n",
    "    # Statement(s) that perform the desired task or computation\n",
    "    # Optionally, the function may return a value using the return statement\n",
    "    \n",
    "    return result  # Optional return statement\n",
    "```\n",
    "#### Explanation of Function Components:\n",
    "\n",
    "1. **def**: This keyword is used to define a function.\n",
    "\n",
    "2. **function_name**: It is the name of the function. You can choose any valid identifier as the function name.\n",
    "\n",
    "3. **parameters**: These are optional inputs to the function. They act as placeholders for values that are passed to the function when it is called.\n",
    "\n",
    "4. **Docstring**: This is an optional string literal enclosed in triple quotes (\"\"\" \"\"\") that provides documentation for the function. It describes what the function does, its parameters, and return value(s). It's good practice to include a docstring to document your functions.\n",
    "\n",
    "5. **Function body**: This is the block of code that defines the behavior of the function. It contains the statements that perform the desired task or computation.\n",
    "\n",
    "6. **return**: This keyword is used to return a value from the function. The function may return a single value, multiple values (as a tuple), or no value (in which case, it returns None).\n"
   ]
  },
  {
   "cell_type": "code",
   "execution_count": 1,
   "metadata": {
    "id": "70c54N-fE0c3"
   },
   "outputs": [
    {
     "name": "stdout",
     "output_type": "stream",
     "text": [
      "0\n",
      "2\n",
      "4\n",
      "6\n",
      "8\n"
     ]
    }
   ],
   "source": [
    "for i in range(0,10):\n",
    "    if i%2==0:\n",
    "        print(i)"
   ]
  },
  {
   "cell_type": "code",
   "execution_count": 2,
   "metadata": {
    "id": "jsQDRKNKIjaY"
   },
   "outputs": [],
   "source": [
    "def func0(a,b):\n",
    "    l=[]\n",
    "    for i in range(a,b):\n",
    "        if i%2!=0: \n",
    "            l.append(i)\n",
    "    return l"
   ]
  },
  {
   "cell_type": "code",
   "execution_count": 3,
   "metadata": {
    "colab": {
     "base_uri": "https://localhost:8080/"
    },
    "executionInfo": {
     "elapsed": 15,
     "status": "ok",
     "timestamp": 1676201065801,
     "user": {
      "displayName": "Minekhanim Hajimuradova",
      "userId": "16071390836260463971"
     },
     "user_tz": -240
    },
    "id": "V-NGlFcIIjaZ",
    "outputId": "68a6cccc-0763-429f-c60a-ae34469a8428"
   },
   "outputs": [
    {
     "data": {
      "text/plain": [
       "[5, 7, 9, 11, 13, 15, 17, 19]"
      ]
     },
     "execution_count": 3,
     "metadata": {},
     "output_type": "execute_result"
    }
   ],
   "source": [
    "func0(5,20)"
   ]
  },
  {
   "cell_type": "code",
   "execution_count": 3,
   "metadata": {},
   "outputs": [],
   "source": [
    "def reply_function(reply):\n",
    "    a = True\n",
    "    while a:\n",
    "        if reply == 'stop': \n",
    "            break\n",
    "        else:\n",
    "            print(\"You enter a wrong text\")\n",
    "            a = False\n",
    "        print(reply.upper())"
   ]
  },
  {
   "cell_type": "code",
   "execution_count": 5,
   "metadata": {},
   "outputs": [
    {
     "name": "stdin",
     "output_type": "stream",
     "text": [
      "Enter text: test\n"
     ]
    },
    {
     "name": "stdout",
     "output_type": "stream",
     "text": [
      "You enter a wrong text\n",
      "TEST\n"
     ]
    }
   ],
   "source": [
    "rep = input('Enter text:')\n",
    "reply_function(rep)"
   ]
  },
  {
   "cell_type": "markdown",
   "metadata": {
    "id": "RNwBEX5dIjaa"
   },
   "source": [
    "Optionally, but highly recommended, we can define a so called \"docstring\", which is a description of the functions purpose and behaivor. The docstring should follow directly after the function definition, before the code in the function body."
   ]
  },
  {
   "cell_type": "code",
   "execution_count": 6,
   "metadata": {
    "id": "zcFwZFs6Ijab"
   },
   "outputs": [],
   "source": [
    "def func1(s):\n",
    "    \"\"\"\n",
    "    Print a string 's' and tell how many characters it has \n",
    "       \n",
    "    \"\"\"\n",
    "    # PRINT STRING\n",
    "    \n",
    "    print(s + \" has \" + str(len(s)) + \" characters\")"
   ]
  },
  {
   "cell_type": "code",
   "execution_count": 7,
   "metadata": {
    "colab": {
     "base_uri": "https://localhost:8080/"
    },
    "executionInfo": {
     "elapsed": 401,
     "status": "ok",
     "timestamp": 1676201193619,
     "user": {
      "displayName": "Minekhanim Hajimuradova",
      "userId": "16071390836260463971"
     },
     "user_tz": -240
    },
    "id": "brEEBYtWX4Of",
    "outputId": "c1126c93-9d5d-42f3-cd80-1ff00c172c67"
   },
   "outputs": [
    {
     "name": "stdout",
     "output_type": "stream",
     "text": [
      "Aydan has 5 characters\n"
     ]
    }
   ],
   "source": [
    "func1('Aydan')"
   ]
  },
  {
   "cell_type": "code",
   "execution_count": 8,
   "metadata": {
    "colab": {
     "base_uri": "https://localhost:8080/"
    },
    "executionInfo": {
     "elapsed": 499,
     "status": "ok",
     "timestamp": 1676201217303,
     "user": {
      "displayName": "Minekhanim Hajimuradova",
      "userId": "16071390836260463971"
     },
     "user_tz": -240
    },
    "id": "3H7tMYo1Ijae",
    "outputId": "9e9e349a-0cca-45c4-8c1a-e130a5b126da"
   },
   "outputs": [
    {
     "name": "stdout",
     "output_type": "stream",
     "text": [
      "Help on function func1 in module __main__:\n",
      "\n",
      "func1(s)\n",
      "    Print a string 's' and tell how many characters it has\n",
      "\n"
     ]
    }
   ],
   "source": [
    "help(func1)"
   ]
  },
  {
   "cell_type": "code",
   "execution_count": 9,
   "metadata": {},
   "outputs": [
    {
     "name": "stdout",
     "output_type": "stream",
     "text": [
      "Help on _ArrayFunctionDispatcher in module numpy:\n",
      "\n",
      "reshape(a, newshape, order='C')\n",
      "    Gives a new shape to an array without changing its data.\n",
      "    \n",
      "    Parameters\n",
      "    ----------\n",
      "    a : array_like\n",
      "        Array to be reshaped.\n",
      "    newshape : int or tuple of ints\n",
      "        The new shape should be compatible with the original shape. If\n",
      "        an integer, then the result will be a 1-D array of that length.\n",
      "        One shape dimension can be -1. In this case, the value is\n",
      "        inferred from the length of the array and remaining dimensions.\n",
      "    order : {'C', 'F', 'A'}, optional\n",
      "        Read the elements of `a` using this index order, and place the\n",
      "        elements into the reshaped array using this index order.  'C'\n",
      "        means to read / write the elements using C-like index order,\n",
      "        with the last axis index changing fastest, back to the first\n",
      "        axis index changing slowest. 'F' means to read / write the\n",
      "        elements using Fortran-like index order, with the first index\n",
      "        changing fastest, and the last index changing slowest. Note that\n",
      "        the 'C' and 'F' options take no account of the memory layout of\n",
      "        the underlying array, and only refer to the order of indexing.\n",
      "        'A' means to read / write the elements in Fortran-like index\n",
      "        order if `a` is Fortran *contiguous* in memory, C-like order\n",
      "        otherwise.\n",
      "    \n",
      "    Returns\n",
      "    -------\n",
      "    reshaped_array : ndarray\n",
      "        This will be a new view object if possible; otherwise, it will\n",
      "        be a copy.  Note there is no guarantee of the *memory layout* (C- or\n",
      "        Fortran- contiguous) of the returned array.\n",
      "    \n",
      "    See Also\n",
      "    --------\n",
      "    ndarray.reshape : Equivalent method.\n",
      "    \n",
      "    Notes\n",
      "    -----\n",
      "    It is not always possible to change the shape of an array without copying\n",
      "    the data.\n",
      "    \n",
      "    The `order` keyword gives the index ordering both for *fetching* the values\n",
      "    from `a`, and then *placing* the values into the output array.\n",
      "    For example, let's say you have an array:\n",
      "    \n",
      "    >>> a = np.arange(6).reshape((3, 2))\n",
      "    >>> a\n",
      "    array([[0, 1],\n",
      "           [2, 3],\n",
      "           [4, 5]])\n",
      "    \n",
      "    You can think of reshaping as first raveling the array (using the given\n",
      "    index order), then inserting the elements from the raveled array into the\n",
      "    new array using the same kind of index ordering as was used for the\n",
      "    raveling.\n",
      "    \n",
      "    >>> np.reshape(a, (2, 3)) # C-like index ordering\n",
      "    array([[0, 1, 2],\n",
      "           [3, 4, 5]])\n",
      "    >>> np.reshape(np.ravel(a), (2, 3)) # equivalent to C ravel then C reshape\n",
      "    array([[0, 1, 2],\n",
      "           [3, 4, 5]])\n",
      "    >>> np.reshape(a, (2, 3), order='F') # Fortran-like index ordering\n",
      "    array([[0, 4, 3],\n",
      "           [2, 1, 5]])\n",
      "    >>> np.reshape(np.ravel(a, order='F'), (2, 3), order='F')\n",
      "    array([[0, 4, 3],\n",
      "           [2, 1, 5]])\n",
      "    \n",
      "    Examples\n",
      "    --------\n",
      "    >>> a = np.array([[1,2,3], [4,5,6]])\n",
      "    >>> np.reshape(a, 6)\n",
      "    array([1, 2, 3, 4, 5, 6])\n",
      "    >>> np.reshape(a, 6, order='F')\n",
      "    array([1, 4, 2, 5, 3, 6])\n",
      "    \n",
      "    >>> np.reshape(a, (3,-1))       # the unspecified value is inferred to be 2\n",
      "    array([[1, 2],\n",
      "           [3, 4],\n",
      "           [5, 6]])\n",
      "\n"
     ]
    }
   ],
   "source": [
    "import numpy as np\n",
    "help(np.reshape)"
   ]
  },
  {
   "cell_type": "code",
   "execution_count": 10,
   "metadata": {
    "colab": {
     "base_uri": "https://localhost:8080/"
    },
    "executionInfo": {
     "elapsed": 550,
     "status": "ok",
     "timestamp": 1676201240837,
     "user": {
      "displayName": "Minekhanim Hajimuradova",
      "userId": "16071390836260463971"
     },
     "user_tz": -240
    },
    "id": "Q73ZFODmIjag",
    "outputId": "846a1ecf-3a46-40c4-a9c5-e50473388c6b"
   },
   "outputs": [
    {
     "name": "stdout",
     "output_type": "stream",
     "text": [
      "test has 4 characters\n"
     ]
    }
   ],
   "source": [
    "a = \"test\"\n",
    "func1(a)"
   ]
  },
  {
   "cell_type": "markdown",
   "metadata": {
    "id": "OEIAfnpKIjah"
   },
   "source": [
    "Functions that returns a value use the `return` keyword:"
   ]
  },
  {
   "cell_type": "code",
   "execution_count": 11,
   "metadata": {
    "id": "txc-byhHIjah"
   },
   "outputs": [],
   "source": [
    "def kvadrata_yukseltme_ve_qaligin_tapmaq(x,y):\n",
    "    \"\"\"\n",
    "    Return the square of x.\n",
    "\n",
    "    \"\"\"\n",
    "    b1 = x ** 2\n",
    "    b2 = y % 2 \n",
    "    return b1,b2"
   ]
  },
  {
   "cell_type": "code",
   "execution_count": 12,
   "metadata": {
    "id": "bh5Ee5lNIjah"
   },
   "outputs": [],
   "source": [
    "c = 4\n",
    "d = 5"
   ]
  },
  {
   "cell_type": "code",
   "execution_count": 16,
   "metadata": {
    "id": "lVXuNgorIjai"
   },
   "outputs": [],
   "source": [
    "b1,b2 = kvadrata_yukseltme_ve_qaligin_tapmaq(c,d)"
   ]
  },
  {
   "cell_type": "code",
   "execution_count": 14,
   "metadata": {
    "colab": {
     "base_uri": "https://localhost:8080/"
    },
    "executionInfo": {
     "elapsed": 410,
     "status": "ok",
     "timestamp": 1676201919513,
     "user": {
      "displayName": "Minekhanim Hajimuradova",
      "userId": "16071390836260463971"
     },
     "user_tz": -240
    },
    "id": "7vKCCljOIjai",
    "outputId": "58a64ece-eada-488a-814f-418c0df0cd3a"
   },
   "outputs": [
    {
     "name": "stdout",
     "output_type": "stream",
     "text": [
      "b1= 16\n",
      "b2= 1\n"
     ]
    }
   ],
   "source": [
    "print(\"b1=\", b1)\n",
    "print(\"b2=\", b2)"
   ]
  },
  {
   "cell_type": "markdown",
   "metadata": {
    "id": "rEoRq07UIjaj"
   },
   "source": [
    "We can return multiple values from a function using tuples (see above):"
   ]
  },
  {
   "cell_type": "code",
   "execution_count": 17,
   "metadata": {
    "colab": {
     "base_uri": "https://localhost:8080/"
    },
    "executionInfo": {
     "elapsed": 11,
     "status": "ok",
     "timestamp": 1676201922178,
     "user": {
      "displayName": "Minekhanim Hajimuradova",
      "userId": "16071390836260463971"
     },
     "user_tz": -240
    },
    "id": "TpX5CT_WHEUF",
    "outputId": "52135259-fb68-49aa-eb74-5467c220daaa"
   },
   "outputs": [
    {
     "data": {
      "text/plain": [
       "(16, 1)"
      ]
     },
     "execution_count": 17,
     "metadata": {},
     "output_type": "execute_result"
    }
   ],
   "source": [
    "#return tuple\n",
    "b = kvadrata_yukseltme_ve_qaligin_tapmaq(c,d)\n",
    "b"
   ]
  },
  {
   "cell_type": "code",
   "execution_count": 18,
   "metadata": {
    "id": "PRzv-wNmIjaj"
   },
   "outputs": [],
   "source": [
    "def powers(x):\n",
    "    \"\"\"\n",
    "    Return a few powers of x.\n",
    "    \"\"\"\n",
    "    a,b,c= x ** 2, x ** 3, x ** 4\n",
    "    return a,b,c"
   ]
  },
  {
   "cell_type": "code",
   "execution_count": 19,
   "metadata": {
    "id": "Gw0BZv1_Ijaj"
   },
   "outputs": [
    {
     "name": "stdout",
     "output_type": "stream",
     "text": [
      "9 27\n"
     ]
    }
   ],
   "source": [
    "x2, x3, x4 = powers(3)\n",
    "\n",
    "print(x2,x3)"
   ]
  },
  {
   "cell_type": "code",
   "execution_count": 20,
   "metadata": {},
   "outputs": [
    {
     "data": {
      "text/plain": [
       "(4, 8, 16)"
      ]
     },
     "execution_count": 20,
     "metadata": {},
     "output_type": "execute_result"
    }
   ],
   "source": [
    "y = 2\n",
    "f = powers(y)\n",
    "f"
   ]
  },
  {
   "cell_type": "markdown",
   "metadata": {},
   "source": [
    "#### Positional Arguments"
   ]
  },
  {
   "cell_type": "code",
   "execution_count": 28,
   "metadata": {},
   "outputs": [],
   "source": [
    "x1,x2 = 2, 5"
   ]
  },
  {
   "cell_type": "code",
   "execution_count": 29,
   "metadata": {},
   "outputs": [
    {
     "name": "stdout",
     "output_type": "stream",
     "text": [
      "4   1\n"
     ]
    }
   ],
   "source": [
    "x1,x2 = kvadrata_yukseltme_ve_qaligin_tapmaq(x1,x2)\n",
    "print(x1,\" \",x2)"
   ]
  },
  {
   "cell_type": "markdown",
   "metadata": {
    "id": "D59FcjzpIjak"
   },
   "source": [
    "#### Default argument and keyword arguments"
   ]
  },
  {
   "cell_type": "markdown",
   "metadata": {
    "id": "8YQS2ZibIjak"
   },
   "source": [
    "In a definition of a function, we can give **default values** to the arguments the function takes:"
   ]
  },
  {
   "cell_type": "code",
   "execution_count": 30,
   "metadata": {
    "id": "wu38GxYAIjak"
   },
   "outputs": [],
   "source": [
    "def myfunc(x, p=2, debug=False):\n",
    "    if debug:\n",
    "        print(\"evaluating myfunc for x = \" + str(x) + \" using exponent p = \" + str(p))\n",
    "    return x**p"
   ]
  },
  {
   "cell_type": "code",
   "execution_count": 31,
   "metadata": {},
   "outputs": [
    {
     "ename": "SyntaxError",
     "evalue": "non-default argument follows default argument (368988373.py, line 1)",
     "output_type": "error",
     "traceback": [
      "\u001b[0;36m  Cell \u001b[0;32mIn[31], line 1\u001b[0;36m\u001b[0m\n\u001b[0;31m    def myfunct2(p=2, x):\u001b[0m\n\u001b[0m                      ^\u001b[0m\n\u001b[0;31mSyntaxError\u001b[0m\u001b[0;31m:\u001b[0m non-default argument follows default argument\n"
     ]
    }
   ],
   "source": [
    "def myfunct2(p=2, x):\n",
    "    return x**2"
   ]
  },
  {
   "cell_type": "markdown",
   "metadata": {
    "id": "pUBmF6-WIjal"
   },
   "source": [
    "If we don't provide a value of the `debug` argument when calling the the function `myfunc` it defaults to the value provided in the function definition:"
   ]
  },
  {
   "cell_type": "code",
   "execution_count": 32,
   "metadata": {},
   "outputs": [
    {
     "data": {
      "text/plain": [
       "25"
      ]
     },
     "execution_count": 32,
     "metadata": {},
     "output_type": "execute_result"
    }
   ],
   "source": [
    "a = 5\n",
    "myfunc(a)"
   ]
  },
  {
   "cell_type": "markdown",
   "metadata": {
    "id": "U5YLjI3LIjam"
   },
   "source": [
    "If we explicitly list the name of the arguments in the function calls, they do not need to come in the same order as in the function definition. This is called **keyword** arguments, and is often very useful in functions that takes a lot of optional arguments."
   ]
  },
  {
   "cell_type": "code",
   "execution_count": 33,
   "metadata": {
    "colab": {
     "base_uri": "https://localhost:8080/"
    },
    "executionInfo": {
     "elapsed": 23,
     "status": "ok",
     "timestamp": 1676202179909,
     "user": {
      "displayName": "Minekhanim Hajimuradova",
      "userId": "16071390836260463971"
     },
     "user_tz": -240
    },
    "id": "qnzpVamGIjal",
    "outputId": "c76edaa0-5270-4ba5-e87f-b4c5d9223659"
   },
   "outputs": [
    {
     "name": "stdout",
     "output_type": "stream",
     "text": [
      "evaluating myfunc for x = 5 using exponent p = 2\n"
     ]
    },
    {
     "data": {
      "text/plain": [
       "25"
      ]
     },
     "execution_count": 33,
     "metadata": {},
     "output_type": "execute_result"
    }
   ],
   "source": [
    "a = 5\n",
    "myfunc(a,debug=True)"
   ]
  },
  {
   "cell_type": "code",
   "execution_count": 34,
   "metadata": {
    "colab": {
     "base_uri": "https://localhost:8080/"
    },
    "executionInfo": {
     "elapsed": 4,
     "status": "ok",
     "timestamp": 1675505185337,
     "user": {
      "displayName": "Etibar Aliyev",
      "userId": "02734588617836082745"
     },
     "user_tz": -240
    },
    "id": "lg0ynpjAIjal",
    "outputId": "d12b84e8-066d-4a80-879b-15bef0f2125e"
   },
   "outputs": [
    {
     "name": "stdout",
     "output_type": "stream",
     "text": [
      "evaluating myfunc for x = 5 using exponent p = 3\n"
     ]
    },
    {
     "data": {
      "text/plain": [
       "125"
      ]
     },
     "execution_count": 34,
     "metadata": {},
     "output_type": "execute_result"
    }
   ],
   "source": [
    "myfunc(5,p=3,debug = True)"
   ]
  },
  {
   "cell_type": "code",
   "execution_count": 35,
   "metadata": {
    "id": "Wzqo4vqNIjam",
    "outputId": "e9cba3de-5edb-4ad5-d3c2-9e8cfa1fd313"
   },
   "outputs": [
    {
     "data": {
      "text/plain": [
       "36"
      ]
     },
     "execution_count": 35,
     "metadata": {},
     "output_type": "execute_result"
    }
   ],
   "source": [
    "myfunc(6)"
   ]
  },
  {
   "cell_type": "code",
   "execution_count": 36,
   "metadata": {
    "colab": {
     "base_uri": "https://localhost:8080/"
    },
    "executionInfo": {
     "elapsed": 411,
     "status": "ok",
     "timestamp": 1675505235823,
     "user": {
      "displayName": "Etibar Aliyev",
      "userId": "02734588617836082745"
     },
     "user_tz": -240
    },
    "id": "x5f7ZDqvIjam",
    "outputId": "87780d48-61cd-41d6-eabb-9bf63c4ef1c7"
   },
   "outputs": [
    {
     "name": "stdout",
     "output_type": "stream",
     "text": [
      "evaluating myfunc for x = 7 using exponent p = 3\n"
     ]
    },
    {
     "data": {
      "text/plain": [
       "343"
      ]
     },
     "execution_count": 36,
     "metadata": {},
     "output_type": "execute_result"
    }
   ],
   "source": [
    "myfunc(p=3, debug=True, x=7)"
   ]
  },
  {
   "cell_type": "code",
   "execution_count": 37,
   "metadata": {
    "id": "cBhqXe1-Ijao"
   },
   "outputs": [],
   "source": [
    "#argument send by reference\n",
    "def list_doldurma(l=[]):\n",
    "    \n",
    "    for i in range(10):\n",
    "        l.append(i)\n",
    "    \n",
    "    return l"
   ]
  },
  {
   "cell_type": "code",
   "execution_count": 38,
   "metadata": {
    "colab": {
     "base_uri": "https://localhost:8080/"
    },
    "executionInfo": {
     "elapsed": 420,
     "status": "ok",
     "timestamp": 1676202477340,
     "user": {
      "displayName": "Minekhanim Hajimuradova",
      "userId": "16071390836260463971"
     },
     "user_tz": -240
    },
    "id": "ijppo5BfIjap",
    "outputId": "823e9e54-df1a-47d3-b6db-cced12e18ea2"
   },
   "outputs": [
    {
     "data": {
      "text/plain": [
       "[0, 1, 2, 3, 4, 5, 6, 7, 8, 9]"
      ]
     },
     "execution_count": 38,
     "metadata": {},
     "output_type": "execute_result"
    }
   ],
   "source": [
    "list_doldurma()"
   ]
  },
  {
   "cell_type": "code",
   "execution_count": 40,
   "metadata": {
    "colab": {
     "base_uri": "https://localhost:8080/"
    },
    "executionInfo": {
     "elapsed": 450,
     "status": "ok",
     "timestamp": 1676202388631,
     "user": {
      "displayName": "Minekhanim Hajimuradova",
      "userId": "16071390836260463971"
     },
     "user_tz": -240
    },
    "id": "GdJzCBlrIjap",
    "outputId": "478a4746-6f91-4053-a3e6-57dcc24b2a48"
   },
   "outputs": [
    {
     "data": {
      "text/plain": [
       "[12, 13, 0, 1, 2, 3, 4, 5, 6, 7, 8, 9]"
      ]
     },
     "execution_count": 40,
     "metadata": {},
     "output_type": "execute_result"
    }
   ],
   "source": [
    "a = [12,13]\n",
    "list_doldurma(a)"
   ]
  },
  {
   "cell_type": "code",
   "execution_count": 41,
   "metadata": {},
   "outputs": [
    {
     "data": {
      "text/plain": [
       "[12, 13, 0, 1, 2, 3, 4, 5, 6, 7, 8, 9]"
      ]
     },
     "execution_count": 41,
     "metadata": {},
     "output_type": "execute_result"
    }
   ],
   "source": [
    "b = a\n",
    "b"
   ]
  },
  {
   "cell_type": "code",
   "execution_count": 42,
   "metadata": {},
   "outputs": [
    {
     "name": "stdout",
     "output_type": "stream",
     "text": [
      "3 5\n"
     ]
    }
   ],
   "source": [
    "#You can specify that a function can have ONLY positional arguments\n",
    "def my_function(x,y,/):\n",
    "    print(x,y)\n",
    "\n",
    "my_function(3,5)"
   ]
  },
  {
   "cell_type": "markdown",
   "metadata": {},
   "source": [
    "#### `*args and **kwargs`"
   ]
  },
  {
   "cell_type": "markdown",
   "metadata": {},
   "source": [
    "Special Symbols Used for passing arguments in Python:\n",
    "\n",
    "`*args (Non-Keyword Arguments)`\n",
    "</br>\n",
    "`**kwargs (Keyword Arguments)`\n",
    "\n",
    "The special syntax `*args` in function definitions in Python is used to pass a variable number of arguments to a function. It is used to pass a non-keyworded, variable-length argument list. \n",
    "\n",
    "The special syntax `**kwargs` in function definitions in Python is used to pass a keyworded, variable-length argument list. We use the name kwargs with the double star. The reason is that the double star allows us to pass through keyword arguments (and any number of them).\n",
    "\n",
    "They are commonly used when you are uncertain about the number of arguments that will be passed to the function or when you want to accept any number of positional or keyword arguments, respectively."
   ]
  },
  {
   "cell_type": "code",
   "execution_count": 1,
   "metadata": {},
   "outputs": [
    {
     "name": "stdout",
     "output_type": "stream",
     "text": [
      "Hello\n",
      "Welcome\n",
      "to\n",
      "Coders\n",
      "Tonight\n"
     ]
    }
   ],
   "source": [
    "def Func(*argv):\n",
    "    for arg in argv:\n",
    "        print(arg)\n",
    "        \n",
    "Func('Hello', 'Welcome', 'to', 'Coders','Tonight')"
   ]
  },
  {
   "cell_type": "code",
   "execution_count": 2,
   "metadata": {},
   "outputs": [],
   "source": [
    "Func()"
   ]
  },
  {
   "cell_type": "code",
   "execution_count": 3,
   "metadata": {},
   "outputs": [
    {
     "name": "stdout",
     "output_type": "stream",
     "text": [
      "First argument : Hello\n",
      "Next argument through *argv : Welcome\n",
      "Next argument through *argv : to\n",
      "Next argument through *argv : Coders\n"
     ]
    }
   ],
   "source": [
    "def Func(arg1, *argv):\n",
    "    print(\"First argument :\", arg1)\n",
    "    for arg in argv:\n",
    "        print(\"Next argument through *argv :\", arg)\n",
    "        \n",
    "Func('Hello', 'Welcome', 'to', 'Coders')"
   ]
  },
  {
   "cell_type": "code",
   "execution_count": 4,
   "metadata": {},
   "outputs": [
    {
     "name": "stdout",
     "output_type": "stream",
     "text": [
      "first == Aslan\n",
      "middle == Tofiq\n",
      "last == Hasanli\n"
     ]
    }
   ],
   "source": [
    "def Func(**kwargs):\n",
    "    for key, value in kwargs.items():\n",
    "        print(\"%s == %s\" % (key, value))\n",
    "\n",
    "Func(first='Aslan', middle='Tofiq', last='Hasanli')"
   ]
  },
  {
   "cell_type": "code",
   "execution_count": 5,
   "metadata": {},
   "outputs": [
    {
     "name": "stdout",
     "output_type": "stream",
     "text": [
      "First argument : Hi\n",
      "first == Samir\n",
      "middle == Vahid\n",
      "last == Mammad\n"
     ]
    }
   ],
   "source": [
    "def Func(arg1, **kwargs):\n",
    "    print(\"First argument :\", arg1)\n",
    "    for key, value in kwargs.items():\n",
    "        print(\"%s == %s\" % (key, value))\n",
    "        \n",
    "Func(\"Hi\", first='Samir', middle='Vahid', last='Mammad')"
   ]
  },
  {
   "cell_type": "code",
   "execution_count": 6,
   "metadata": {},
   "outputs": [
    {
     "name": "stdout",
     "output_type": "stream",
     "text": [
      "ar1: Coders\n",
      "ar2: for\n",
      "ar3: all\n",
      "ar1: for\n",
      "ar2: Coders\n",
      "ar3: all\n"
     ]
    }
   ],
   "source": [
    "def myFun(arg1, arg2, arg3):\n",
    "    print(\"ar1:\", arg1)\n",
    "    print(\"ar2:\", arg2)\n",
    "    print(\"ar3:\", arg3)\n",
    "     \n",
    "# Now we can use *args or **kwargs to\n",
    "# pass arguments to this function :\n",
    "args = (\"Coders\", \"for\", \"all\")\n",
    "myFun(*args)\n",
    "\n",
    "kwargs = {\"arg2\": \"Coders\", \"arg1\": \"for\", \"arg3\": \"all\"}\n",
    "myFun(**kwargs)"
   ]
  },
  {
   "cell_type": "code",
   "execution_count": 7,
   "metadata": {},
   "outputs": [
    {
     "name": "stdout",
     "output_type": "stream",
     "text": [
      "args:  ('Coders', 'for', 'all')\n",
      "kwargs:  {'first': 'Coders', 'mid': 'for', 'last': 'all'}\n"
     ]
    }
   ],
   "source": [
    "def Func(*args, **kwargs):\n",
    "    print(\"args: \", args)\n",
    "    print(\"kwargs: \", kwargs)\n",
    "    \n",
    "#Now we can use both *args ,**kwargs\n",
    "# to pass arguments to this function :\n",
    "Func('Coders', 'for', 'all', first=\"Coders\", mid=\"for\", last=\"all\")"
   ]
  },
  {
   "cell_type": "markdown",
   "metadata": {},
   "source": [
    "#### The order of parameters in a function definition is important. It follows this general order:\n",
    "\n",
    "- Positional arguments\n",
    "- Default arguments\n",
    "- *args (if present)\n",
    "- **kwargs (if present)"
   ]
  },
  {
   "cell_type": "code",
   "execution_count": 16,
   "metadata": {},
   "outputs": [
    {
     "ename": "SyntaxError",
     "evalue": "arguments cannot follow var-keyword argument (1468946416.py, line 1)",
     "output_type": "error",
     "traceback": [
      "\u001b[0;36m  Cell \u001b[0;32mIn[16], line 1\u001b[0;36m\u001b[0m\n\u001b[0;31m    def Func(**kwargs, *args, defal = 'Yes'):\u001b[0m\n\u001b[0m                       ^\u001b[0m\n\u001b[0;31mSyntaxError\u001b[0m\u001b[0;31m:\u001b[0m arguments cannot follow var-keyword argument\n"
     ]
    }
   ],
   "source": [
    "def Func(**kwargs, *args, defal = 'Yes'):\n",
    "    print(\"args: \", args)\n",
    "    print(\"kwargs: \", kwargs)\n",
    "    \n",
    "#Now we can use both *args ,**kwargs\n",
    "# to pass arguments to this function :\n",
    "Func('Coders', 'for', 'all', first=\"Coders\", mid=\"for\", last=\"all\")"
   ]
  },
  {
   "cell_type": "markdown",
   "metadata": {},
   "source": [
    "#### Function can take another function as arguments"
   ]
  },
  {
   "cell_type": "code",
   "execution_count": 8,
   "metadata": {},
   "outputs": [
    {
     "name": "stdout",
     "output_type": "stream",
     "text": [
      "Squared numbers: [1, 4, 9, 16, 25]\n",
      "Cubed numbers: [1, 8, 27, 64, 125]\n"
     ]
    }
   ],
   "source": [
    "# Define a function that applies another function to each element in a list\n",
    "def apply_function_to_list(numbers, func):\n",
    "    \"\"\"\n",
    "    Apply the given function to each element in the list.\n",
    "\n",
    "    Parameters:\n",
    "        numbers (list): The list of numbers.\n",
    "        func (function): The function to apply to each element.\n",
    "\n",
    "    Returns:\n",
    "        list: A new list containing the results of applying the function to each element.\n",
    "    \"\"\"\n",
    "    return [func(num) for num in numbers]\n",
    "\n",
    "# Define custom functions to be applied\n",
    "def square(x):\n",
    "    return x ** 2\n",
    "\n",
    "def cube(x):\n",
    "    return x ** 3\n",
    "\n",
    "# List of numbers\n",
    "numbers = [1, 2, 3, 4, 5]\n",
    "\n",
    "# Apply the square function to each number in the list\n",
    "result_square = apply_function_to_list(numbers, square)\n",
    "print(\"Squared numbers:\", result_square)\n",
    "\n",
    "# Apply the cube function to each number in the list\n",
    "result_cube = apply_function_to_list(numbers, cube)\n",
    "print(\"Cubed numbers:\", result_cube)"
   ]
  },
  {
   "cell_type": "markdown",
   "metadata": {},
   "source": [
    "#### The value is passed through the parameter by value or by reference\n",
    "\n",
    "In Python, whether a value is passed by **value** or by **reference** depends on the type of the object being passed and how it is mutated within the function.\n",
    "\n",
    "`Immutable Objects (e.g., integers, floats, strings, tuples):`\n",
    "\n",
    "- Immutable objects are passed by value in Python.\n",
    "- When you pass an immutable object to a function, a copy of the object's value is made, and this copy is passed to the function.\n",
    "- Any modifications made to the object within the function do not affect the original object outside the function.\n",
    "\n",
    "`Mutable Objects (e.g., lists, dictionaries, sets):`\n",
    "\n",
    "- Mutable objects are passed by reference in Python.\n",
    "- When you pass a mutable object to a function, a reference to the original object is passed, not a copy of the object itself.\n",
    "- Any modifications made to the object within the function affect the original object outside the function."
   ]
  },
  {
   "cell_type": "code",
   "execution_count": 11,
   "metadata": {},
   "outputs": [
    {
     "name": "stdout",
     "output_type": "stream",
     "text": [
      "Inside function: 15\n",
      "Outside function: 5\n"
     ]
    }
   ],
   "source": [
    "# Immutable object (integer)\n",
    "def modify_immutable(x):\n",
    "    x += 10\n",
    "    print(\"Inside function:\", x)\n",
    "\n",
    "num = 5\n",
    "modify_immutable(num)\n",
    "print(\"Outside function:\", num)"
   ]
  },
  {
   "cell_type": "code",
   "execution_count": 12,
   "metadata": {},
   "outputs": [
    {
     "name": "stdout",
     "output_type": "stream",
     "text": [
      "Inside function: [1, 2, 3, 4]\n",
      "Outside function: [1, 2, 3, 4]\n"
     ]
    }
   ],
   "source": [
    "# Mutable object (list)\n",
    "def modify_mutable(lst):\n",
    "    lst.append(4)\n",
    "    print(\"Inside function:\", lst)\n",
    "\n",
    "my_list = [1, 2, 3]\n",
    "modify_mutable(my_list)\n",
    "print(\"Outside function:\", my_list)"
   ]
  },
  {
   "cell_type": "markdown",
   "metadata": {
    "id": "Hy0EZhmhIjar"
   },
   "source": [
    "### Unnamed functions (lambda function)"
   ]
  },
  {
   "cell_type": "markdown",
   "metadata": {
    "id": "diEnO5ECIjar"
   },
   "source": [
    "In Python we can also create unnamed functions, using the `lambda` keyword:"
   ]
  },
  {
   "cell_type": "markdown",
   "metadata": {},
   "source": [
    "A lambda operator or lambda function is used for creating small, one-time, anonymous function objects in Python."
   ]
  },
  {
   "cell_type": "code",
   "execution_count": 14,
   "metadata": {
    "id": "g_txDmhx69ho"
   },
   "outputs": [],
   "source": [
    "def lambda_fun(l):\n",
    "    a = []\n",
    "    for i in l:\n",
    "        a.append(i**2)\n",
    "    return a"
   ]
  },
  {
   "cell_type": "code",
   "execution_count": 15,
   "metadata": {
    "colab": {
     "base_uri": "https://localhost:8080/"
    },
    "executionInfo": {
     "elapsed": 11,
     "status": "ok",
     "timestamp": 1676204068583,
     "user": {
      "displayName": "Minekhanim Hajimuradova",
      "userId": "16071390836260463971"
     },
     "user_tz": -240
    },
    "id": "oYsT2T8Wi46I",
    "outputId": "eeb0212e-b42f-4d14-ee71-9bbfe122d36b"
   },
   "outputs": [
    {
     "data": {
      "text/plain": [
       "[4, 9, 16, 25]"
      ]
     },
     "execution_count": 15,
     "metadata": {},
     "output_type": "execute_result"
    }
   ],
   "source": [
    "x=[2,3,4,5]\n",
    "lambda_fun(x)"
   ]
  },
  {
   "cell_type": "code",
   "execution_count": 16,
   "metadata": {
    "id": "fsq95NdpjM0s"
   },
   "outputs": [],
   "source": [
    "def func(a):\n",
    "    return a**2"
   ]
  },
  {
   "cell_type": "code",
   "execution_count": 17,
   "metadata": {
    "colab": {
     "base_uri": "https://localhost:8080/"
    },
    "executionInfo": {
     "elapsed": 7,
     "status": "ok",
     "timestamp": 1676884656320,
     "user": {
      "displayName": "Vafa Zeynalli",
      "userId": "10818198709931667077"
     },
     "user_tz": -240
    },
    "id": "Ena56nCvjSw9",
    "outputId": "860fbfda-8a4f-4988-e45f-d7f32cf934dd"
   },
   "outputs": [
    {
     "data": {
      "text/plain": [
       "81"
      ]
     },
     "execution_count": 17,
     "metadata": {},
     "output_type": "execute_result"
    }
   ],
   "source": [
    "func(9)"
   ]
  },
  {
   "cell_type": "code",
   "execution_count": 19,
   "metadata": {
    "id": "zQIcAqI3Ijar"
   },
   "outputs": [],
   "source": [
    "f1 = lambda x: x**2 if x<2 else x*3\n",
    "    \n",
    "# is equivalent to \n",
    "\n",
    "def f2(x):\n",
    "    if x<2:\n",
    "        return x**2\n",
    "    else:\n",
    "        return x*3"
   ]
  },
  {
   "cell_type": "code",
   "execution_count": 20,
   "metadata": {},
   "outputs": [
    {
     "data": {
      "text/plain": [
       "(6, 1)"
      ]
     },
     "execution_count": 20,
     "metadata": {},
     "output_type": "execute_result"
    }
   ],
   "source": [
    "f1(2), f2(1)"
   ]
  },
  {
   "cell_type": "code",
   "execution_count": 21,
   "metadata": {},
   "outputs": [
    {
     "name": "stdout",
     "output_type": "stream",
     "text": [
      "{'name': 'Charlie', 'age': 19}\n",
      "{'name': 'Alice', 'age': 20}\n",
      "{'name': 'David', 'age': 21}\n",
      "{'name': 'Bob', 'age': 22}\n"
     ]
    }
   ],
   "source": [
    "# List of dictionaries representing students' information\n",
    "students = [\n",
    "    {'name': 'Alice', 'age': 20},\n",
    "    {'name': 'Bob', 'age': 22},\n",
    "    {'name': 'Charlie', 'age': 19},\n",
    "    {'name': 'David', 'age': 21}\n",
    "]\n",
    "\n",
    "# Sort the list of students based on age using a lambda function\n",
    "sorted_students = sorted(students, key=lambda x: x['age'])\n",
    "\n",
    "# Print the sorted list of students\n",
    "for student in sorted_students:\n",
    "    print(student)"
   ]
  },
  {
   "cell_type": "code",
   "execution_count": 22,
   "metadata": {},
   "outputs": [
    {
     "name": "stdout",
     "output_type": "stream",
     "text": [
      "8\n"
     ]
    }
   ],
   "source": [
    "add = lambda x, y: x + y\n",
    "result = add(3, 5)\n",
    "print(result)"
   ]
  },
  {
   "cell_type": "markdown",
   "metadata": {},
   "source": [
    "### Higher-order Functions"
   ]
  },
  {
   "cell_type": "markdown",
   "metadata": {},
   "source": [
    "#### Map\n",
    "This function returns a map object(which is an iterator) of the results after applying the given function to each item of a given iterable (list, tuple etc.)"
   ]
  },
  {
   "cell_type": "code",
   "execution_count": 23,
   "metadata": {},
   "outputs": [
    {
     "data": {
      "text/plain": [
       "[0, 1, 2, 3, 4]"
      ]
     },
     "execution_count": 23,
     "metadata": {},
     "output_type": "execute_result"
    }
   ],
   "source": [
    "b = list(range(0,5))\n",
    "b"
   ]
  },
  {
   "cell_type": "code",
   "execution_count": 24,
   "metadata": {
    "colab": {
     "base_uri": "https://localhost:8080/"
    },
    "executionInfo": {
     "elapsed": 5,
     "status": "ok",
     "timestamp": 1676884879732,
     "user": {
      "displayName": "Vafa Zeynalli",
      "userId": "10818198709931667077"
     },
     "user_tz": -240
    },
    "id": "kucjB4R0Hjcl",
    "outputId": "952dc96c-3231-4d9b-f68f-49353c8d88b1"
   },
   "outputs": [
    {
     "data": {
      "text/plain": [
       "[0, 1, 4, 9, 16]"
      ]
     },
     "execution_count": 24,
     "metadata": {},
     "output_type": "execute_result"
    }
   ],
   "source": [
    "l = list(map(lambda x:x**2, b))\n",
    "l"
   ]
  },
  {
   "cell_type": "code",
   "execution_count": 25,
   "metadata": {},
   "outputs": [
    {
     "data": {
      "text/plain": [
       "<map at 0x7373d031d900>"
      ]
     },
     "execution_count": 25,
     "metadata": {},
     "output_type": "execute_result"
    }
   ],
   "source": [
    "l = map(lambda x:x**2, b)\n",
    "l"
   ]
  },
  {
   "cell_type": "code",
   "execution_count": 26,
   "metadata": {
    "id": "rU7soX0-HkCe"
   },
   "outputs": [],
   "source": [
    "def f(l):\n",
    "    c = []\n",
    "    for i in l:\n",
    "        c.append(i**2)\n",
    "    return c"
   ]
  },
  {
   "cell_type": "code",
   "execution_count": 27,
   "metadata": {},
   "outputs": [
    {
     "data": {
      "text/plain": [
       "[0, 1, 16, 81, 256]"
      ]
     },
     "execution_count": 27,
     "metadata": {},
     "output_type": "execute_result"
    }
   ],
   "source": [
    "f(l)"
   ]
  },
  {
   "cell_type": "code",
   "execution_count": 28,
   "metadata": {
    "colab": {
     "base_uri": "https://localhost:8080/"
    },
    "executionInfo": {
     "elapsed": 11,
     "status": "ok",
     "timestamp": 1676204342860,
     "user": {
      "displayName": "Minekhanim Hajimuradova",
      "userId": "16071390836260463971"
     },
     "user_tz": -240
    },
    "id": "GrBGODzc7dg4",
    "outputId": "e978f7f7-e87b-43bb-a03e-762f51b519ab"
   },
   "outputs": [
    {
     "data": {
      "text/plain": [
       "[1, 4, 9]"
      ]
     },
     "execution_count": 28,
     "metadata": {},
     "output_type": "execute_result"
    }
   ],
   "source": [
    "list(map(lambda x:x**2, [1,2,3]))"
   ]
  },
  {
   "cell_type": "code",
   "execution_count": 29,
   "metadata": {
    "id": "Rs7hrTEL7mS5"
   },
   "outputs": [
    {
     "data": {
      "text/plain": [
       "[1, 4, 9]"
      ]
     },
     "execution_count": 29,
     "metadata": {},
     "output_type": "execute_result"
    }
   ],
   "source": [
    "l =[]\n",
    "for i in [1,2,3]:\n",
    "    l.append(i**2)\n",
    "l"
   ]
  },
  {
   "cell_type": "markdown",
   "metadata": {
    "id": "jzjb_R9JIjar"
   },
   "source": [
    "This technique is useful for example when we want to pass a simple function as an argument to another function, like this:"
   ]
  },
  {
   "cell_type": "code",
   "execution_count": 30,
   "metadata": {
    "colab": {
     "base_uri": "https://localhost:8080/"
    },
    "executionInfo": {
     "elapsed": 10,
     "status": "ok",
     "timestamp": 1676204417811,
     "user": {
      "displayName": "Minekhanim Hajimuradova",
      "userId": "16071390836260463971"
     },
     "user_tz": -240
    },
    "id": "VuYw_wlNIjar",
    "outputId": "687c71ca-84b3-4ceb-9293-fbd9a63787be"
   },
   "outputs": [
    {
     "data": {
      "text/plain": [
       "[9, 4, 1, 0, 1, 4, 9]"
      ]
     },
     "execution_count": 30,
     "metadata": {},
     "output_type": "execute_result"
    }
   ],
   "source": [
    "# in python 3 we can use `list(...)` to convert the iterator to an explicit list\n",
    "list(map(lambda x: x**2, range(-3,4)))"
   ]
  },
  {
   "cell_type": "code",
   "execution_count": 46,
   "metadata": {
    "colab": {
     "base_uri": "https://localhost:8080/"
    },
    "executionInfo": {
     "elapsed": 1042,
     "status": "ok",
     "timestamp": 1676885024780,
     "user": {
      "displayName": "Vafa Zeynalli",
      "userId": "10818198709931667077"
     },
     "user_tz": -240
    },
    "id": "KAevxYG7Ijat",
    "outputId": "a1246db8-5fa0-485a-cbc6-4cb6b2d241a0"
   },
   "outputs": [
    {
     "data": {
      "text/plain": [
       "(1, 4, 9, 16)"
      ]
     },
     "execution_count": 46,
     "metadata": {},
     "output_type": "execute_result"
    }
   ],
   "source": [
    "# in python 3 we can use `tuple(...)` to convert the iterator to an explicit list\n",
    "tuple(map(lambda x: x**2, tuple((1,2,3,4))))"
   ]
  },
  {
   "cell_type": "code",
   "execution_count": 31,
   "metadata": {
    "colab": {
     "base_uri": "https://localhost:8080/"
    },
    "executionInfo": {
     "elapsed": 287,
     "status": "ok",
     "timestamp": 1676885153713,
     "user": {
      "displayName": "Vafa Zeynalli",
      "userId": "10818198709931667077"
     },
     "user_tz": -240
    },
    "id": "d6RZ0QMVjCEk",
    "outputId": "d031274a-131b-4dd7-ee16-13640c22ed02"
   },
   "outputs": [
    {
     "data": {
      "text/plain": [
       "[1, 4, 9, 16, 25, 36, 49, 64, 81]"
      ]
     },
     "execution_count": 31,
     "metadata": {},
     "output_type": "execute_result"
    }
   ],
   "source": [
    "[(lambda x:x**2) (a) for a in range(1,10)]"
   ]
  },
  {
   "cell_type": "code",
   "execution_count": 32,
   "metadata": {},
   "outputs": [
    {
     "data": {
      "text/plain": [
       "[1, 2, 3, 4, 2, 4, 6, 8, 3, 6, 9, 12, 4, 8, 12, 16]"
      ]
     },
     "execution_count": 32,
     "metadata": {},
     "output_type": "execute_result"
    }
   ],
   "source": [
    "[(lambda x,y:x*y)(x,y) for x in range(1,5) for y in range(1,5)]"
   ]
  },
  {
   "cell_type": "code",
   "execution_count": 33,
   "metadata": {
    "colab": {
     "base_uri": "https://localhost:8080/"
    },
    "executionInfo": {
     "elapsed": 280,
     "status": "ok",
     "timestamp": 1676885272754,
     "user": {
      "displayName": "Vafa Zeynalli",
      "userId": "10818198709931667077"
     },
     "user_tz": -240
    },
    "id": "K9NfPV4zJaYU",
    "outputId": "2e28e77c-0653-4a2a-a0b3-0dc7ed167f76"
   },
   "outputs": [
    {
     "data": {
      "text/plain": [
       "['a', 'b', 'c']"
      ]
     },
     "execution_count": 33,
     "metadata": {},
     "output_type": "execute_result"
    }
   ],
   "source": [
    "s = \"ABC\"\n",
    "list(map(lambda x:x.lower(), s))"
   ]
  },
  {
   "cell_type": "code",
   "execution_count": 2,
   "metadata": {},
   "outputs": [
    {
     "data": {
      "text/plain": [
       "[1, 4, 2.25, 6.25]"
      ]
     },
     "execution_count": 2,
     "metadata": {},
     "output_type": "execute_result"
    }
   ],
   "source": [
    "l=[1, 2, 1.5, 2.5]\n",
    "powered_list = list(map(pow, l, [2]*len(l)))\n",
    "powered_list"
   ]
  },
  {
   "cell_type": "code",
   "execution_count": 37,
   "metadata": {},
   "outputs": [
    {
     "data": {
      "text/plain": [
       "[2, 2, 2, 2]"
      ]
     },
     "execution_count": 37,
     "metadata": {},
     "output_type": "execute_result"
    }
   ],
   "source": [
    "[2]*4"
   ]
  },
  {
   "cell_type": "code",
   "execution_count": 38,
   "metadata": {},
   "outputs": [
    {
     "data": {
      "text/plain": [
       "2.25"
      ]
     },
     "execution_count": 38,
     "metadata": {},
     "output_type": "execute_result"
    }
   ],
   "source": [
    "pow(1.5,2)"
   ]
  },
  {
   "cell_type": "code",
   "execution_count": 39,
   "metadata": {},
   "outputs": [
    {
     "data": {
      "text/plain": [
       "[1, 8, 1.5, 39.0625]"
      ]
     },
     "execution_count": 39,
     "metadata": {},
     "output_type": "execute_result"
    }
   ],
   "source": [
    "l=[1,2,1.5,2.5]\n",
    "powered_list = list(map(pow, l, [2,3,1,4]))\n",
    "powered_list"
   ]
  },
  {
   "cell_type": "markdown",
   "metadata": {
    "id": "b5zJVfGwUxNC"
   },
   "source": [
    "#### Filter"
   ]
  },
  {
   "cell_type": "markdown",
   "metadata": {},
   "source": [
    "Filter: returns a subset of the original array based on custom criteria. In your callback function, return a boolean value to determine whether or not each item will be included in the new array. "
   ]
  },
  {
   "cell_type": "code",
   "execution_count": 10,
   "metadata": {
    "id": "h1VxDgTeUsFJ"
   },
   "outputs": [],
   "source": [
    "import random"
   ]
  },
  {
   "cell_type": "code",
   "execution_count": 11,
   "metadata": {
    "id": "eneHQdPcUX8I"
   },
   "outputs": [],
   "source": [
    "# returns True if the argument passed is even\n",
    "def check_even(number):\n",
    "    if number % 2 == 0:\n",
    "        return True  \n",
    "    return False"
   ]
  },
  {
   "cell_type": "code",
   "execution_count": 12,
   "metadata": {
    "id": "4wIXAUecUX-v"
   },
   "outputs": [],
   "source": [
    "numbers = random.sample(list(range(1,15)), 6)"
   ]
  },
  {
   "cell_type": "code",
   "execution_count": 13,
   "metadata": {
    "colab": {
     "base_uri": "https://localhost:8080/"
    },
    "executionInfo": {
     "elapsed": 285,
     "status": "ok",
     "timestamp": 1676886430944,
     "user": {
      "displayName": "Vafa Zeynalli",
      "userId": "10818198709931667077"
     },
     "user_tz": -240
    },
    "id": "or0v89fJuBlU",
    "outputId": "af2eff15-5926-42c8-c642-ce4193c2b268"
   },
   "outputs": [
    {
     "data": {
      "text/plain": [
       "[6, 10, 3, 1, 13, 4]"
      ]
     },
     "execution_count": 13,
     "metadata": {},
     "output_type": "execute_result"
    }
   ],
   "source": [
    "numbers"
   ]
  },
  {
   "cell_type": "code",
   "execution_count": 14,
   "metadata": {
    "id": "BdCLHuXZUiv4"
   },
   "outputs": [],
   "source": [
    "# if an element passed to check_even() returns True, select it\n",
    "even_numbers_iterator = filter(check_even, numbers)"
   ]
  },
  {
   "cell_type": "code",
   "execution_count": 15,
   "metadata": {
    "colab": {
     "base_uri": "https://localhost:8080/"
    },
    "executionInfo": {
     "elapsed": 6,
     "status": "ok",
     "timestamp": 1676886463341,
     "user": {
      "displayName": "Vafa Zeynalli",
      "userId": "10818198709931667077"
     },
     "user_tz": -240
    },
    "id": "Fr9FuwesoM9U",
    "outputId": "90c815f1-1eec-4a05-db46-fd7d0303bc54"
   },
   "outputs": [
    {
     "data": {
      "text/plain": [
       "<filter at 0x749a964439d0>"
      ]
     },
     "execution_count": 15,
     "metadata": {},
     "output_type": "execute_result"
    }
   ],
   "source": [
    "even_numbers_iterator"
   ]
  },
  {
   "cell_type": "code",
   "execution_count": 16,
   "metadata": {
    "id": "2ij1IrviUlAM"
   },
   "outputs": [
    {
     "data": {
      "text/plain": [
       "[6, 10, 4]"
      ]
     },
     "execution_count": 16,
     "metadata": {},
     "output_type": "execute_result"
    }
   ],
   "source": [
    "# converting to list\n",
    "even_numbers = list(even_numbers_iterator)\n",
    "even_numbers"
   ]
  },
  {
   "cell_type": "code",
   "execution_count": 18,
   "metadata": {
    "id": "zop1nPg3Oc6_"
   },
   "outputs": [],
   "source": [
    "s=[\"Abc\", 'ABC', 'abc', \"Alminium\"]"
   ]
  },
  {
   "cell_type": "code",
   "execution_count": 19,
   "metadata": {
    "id": "nlI1KLP1Oc9T"
   },
   "outputs": [],
   "source": [
    "def funksiya(b):\n",
    "    if b.startswith(\"A\"):\n",
    "        return True\n",
    "    return False"
   ]
  },
  {
   "cell_type": "code",
   "execution_count": 20,
   "metadata": {
    "colab": {
     "base_uri": "https://localhost:8080/"
    },
    "executionInfo": {
     "elapsed": 6,
     "status": "ok",
     "timestamp": 1676886732561,
     "user": {
      "displayName": "Vafa Zeynalli",
      "userId": "10818198709931667077"
     },
     "user_tz": -240
    },
    "id": "EgIKrXphPBUO",
    "outputId": "c572adfe-27ef-4e86-df4b-509c65224944"
   },
   "outputs": [
    {
     "data": {
      "text/plain": [
       "['Abc', 'ABC', 'Alminium']"
      ]
     },
     "execution_count": 20,
     "metadata": {},
     "output_type": "execute_result"
    }
   ],
   "source": [
    "l = list(filter(funksiya, s))\n",
    "l"
   ]
  },
  {
   "cell_type": "code",
   "execution_count": 21,
   "metadata": {
    "id": "DmAXbQjxq3ip"
   },
   "outputs": [],
   "source": [
    "# returns True if the argument passed is odd number\n",
    "def check_odd(number):\n",
    "    if number % 2 == 0:\n",
    "        return False  \n",
    "    return True"
   ]
  },
  {
   "cell_type": "code",
   "execution_count": 22,
   "metadata": {
    "colab": {
     "base_uri": "https://localhost:8080/"
    },
    "executionInfo": {
     "elapsed": 327,
     "status": "ok",
     "timestamp": 1675506152127,
     "user": {
      "displayName": "Etibar Aliyev",
      "userId": "02734588617836082745"
     },
     "user_tz": -240
    },
    "id": "A9bOBej6rC0S",
    "outputId": "50c79df5-4231-49fc-c2c1-6ac138dda88d"
   },
   "outputs": [
    {
     "data": {
      "text/plain": [
       "[3, 1, 13]"
      ]
     },
     "execution_count": 22,
     "metadata": {},
     "output_type": "execute_result"
    }
   ],
   "source": [
    "odd_number = filter(check_odd, numbers)\n",
    "tek_ededler = list(odd_number)\n",
    "tek_ededler"
   ]
  },
  {
   "cell_type": "code",
   "execution_count": 23,
   "metadata": {},
   "outputs": [
    {
     "data": {
      "text/plain": [
       "[6, 10, 4]"
      ]
     },
     "execution_count": 23,
     "metadata": {},
     "output_type": "execute_result"
    }
   ],
   "source": [
    "even_numbers"
   ]
  },
  {
   "cell_type": "code",
   "execution_count": 24,
   "metadata": {
    "id": "j6QQ-uoKrWxi"
   },
   "outputs": [],
   "source": [
    "tek_ededler = []\n",
    "for j in numbers:\n",
    "    if j not in even_numbers:\n",
    "        tek_ededler.append(j)"
   ]
  },
  {
   "cell_type": "code",
   "execution_count": 25,
   "metadata": {
    "colab": {
     "base_uri": "https://localhost:8080/"
    },
    "executionInfo": {
     "elapsed": 4,
     "status": "ok",
     "timestamp": 1675506229961,
     "user": {
      "displayName": "Etibar Aliyev",
      "userId": "02734588617836082745"
     },
     "user_tz": -240
    },
    "id": "hvgpxFGvrx79",
    "outputId": "51d5b92f-ec66-4272-bffd-f8ac6ff7f5b2"
   },
   "outputs": [
    {
     "data": {
      "text/plain": [
       "[3, 1, 13]"
      ]
     },
     "execution_count": 25,
     "metadata": {},
     "output_type": "execute_result"
    }
   ],
   "source": [
    "tek_ededler"
   ]
  },
  {
   "cell_type": "code",
   "execution_count": 27,
   "metadata": {
    "id": "RBIRizo8sEV_"
   },
   "outputs": [],
   "source": [
    "def tek_ededler(numbers, even_numbers):\n",
    "    tek_ededler = []\n",
    "    for j in numbers:\n",
    "        if j not in even_numbers:\n",
    "            tek_ededler.append(j)\n",
    "    return tek_ededler"
   ]
  },
  {
   "cell_type": "code",
   "execution_count": 28,
   "metadata": {
    "colab": {
     "base_uri": "https://localhost:8080/"
    },
    "executionInfo": {
     "elapsed": 5,
     "status": "ok",
     "timestamp": 1675506275250,
     "user": {
      "displayName": "Etibar Aliyev",
      "userId": "02734588617836082745"
     },
     "user_tz": -240
    },
    "id": "j2s2WPaIseO6",
    "outputId": "bed11190-fc8f-4b8a-83c0-09f8e596ffbd"
   },
   "outputs": [
    {
     "name": "stdout",
     "output_type": "stream",
     "text": [
      "216 ns ± 5.54 ns per loop (mean ± std. dev. of 7 runs, 10,000,000 loops each)\n"
     ]
    }
   ],
   "source": [
    "%timeit tek_ededler(numbers, even_numbers)"
   ]
  },
  {
   "cell_type": "code",
   "execution_count": 29,
   "metadata": {
    "colab": {
     "base_uri": "https://localhost:8080/"
    },
    "executionInfo": {
     "elapsed": 319,
     "status": "ok",
     "timestamp": 1675506309507,
     "user": {
      "displayName": "Etibar Aliyev",
      "userId": "02734588617836082745"
     },
     "user_tz": -240
    },
    "id": "9JY6PGxP9O2a",
    "outputId": "08918e92-f20e-4e43-bed1-ccba318b8c34"
   },
   "outputs": [
    {
     "name": "stdout",
     "output_type": "stream",
     "text": [
      "51.4 ns ± 0.163 ns per loop (mean ± std. dev. of 7 runs, 10,000,000 loops each)\n"
     ]
    }
   ],
   "source": [
    "%timeit filter(check_odd, numbers)"
   ]
  },
  {
   "cell_type": "markdown",
   "metadata": {},
   "source": [
    "#### Reduce\n",
    "\n",
    "The reduce function in Python is a powerful tool for performing a rolling computation to sequential pairs of values in a list. It applies a specified function to the items of an iterable (like a list) cumulatively to reduce it to a single value. The reduce function is part of the functools module."
   ]
  },
  {
   "cell_type": "code",
   "execution_count": 30,
   "metadata": {
    "id": "8Pogu9q5U6c7"
   },
   "outputs": [],
   "source": [
    "from functools import reduce # only in Python 3"
   ]
  },
  {
   "cell_type": "code",
   "execution_count": 31,
   "metadata": {
    "id": "9_ysOOXmVVD3"
   },
   "outputs": [],
   "source": [
    "def do_sum(x1, x2): \n",
    "    return x1 + x2"
   ]
  },
  {
   "cell_type": "code",
   "execution_count": 32,
   "metadata": {
    "colab": {
     "base_uri": "https://localhost:8080/"
    },
    "executionInfo": {
     "elapsed": 4,
     "status": "ok",
     "timestamp": 1676887294405,
     "user": {
      "displayName": "Vafa Zeynalli",
      "userId": "10818198709931667077"
     },
     "user_tz": -240
    },
    "id": "Desnm2GNVVHF",
    "outputId": "9bec213c-b790-4549-8542-40a792bc100b"
   },
   "outputs": [
    {
     "data": {
      "text/plain": [
       "15"
      ]
     },
     "execution_count": 32,
     "metadata": {},
     "output_type": "execute_result"
    }
   ],
   "source": [
    "reduce(do_sum, [1,2,3,4,5])"
   ]
  },
  {
   "cell_type": "code",
   "execution_count": 33,
   "metadata": {},
   "outputs": [],
   "source": [
    "def do_mult(x): \n",
    "    return x*3"
   ]
  },
  {
   "cell_type": "code",
   "execution_count": 34,
   "metadata": {},
   "outputs": [
    {
     "ename": "TypeError",
     "evalue": "do_mult() takes 1 positional argument but 2 were given",
     "output_type": "error",
     "traceback": [
      "\u001b[0;31m---------------------------------------------------------------------------\u001b[0m",
      "\u001b[0;31mTypeError\u001b[0m                                 Traceback (most recent call last)",
      "Cell \u001b[0;32mIn[34], line 1\u001b[0m\n\u001b[0;32m----> 1\u001b[0m reduce(do_mult,[\u001b[38;5;241m1\u001b[39m,\u001b[38;5;241m2\u001b[39m,\u001b[38;5;241m3\u001b[39m,\u001b[38;5;241m4\u001b[39m,\u001b[38;5;241m5\u001b[39m])\n",
      "\u001b[0;31mTypeError\u001b[0m: do_mult() takes 1 positional argument but 2 were given"
     ]
    }
   ],
   "source": [
    "reduce(do_mult,[1,2,3,4,5])"
   ]
  },
  {
   "cell_type": "code",
   "execution_count": 35,
   "metadata": {
    "colab": {
     "base_uri": "https://localhost:8080/"
    },
    "executionInfo": {
     "elapsed": 6,
     "status": "ok",
     "timestamp": 1675506506089,
     "user": {
      "displayName": "Etibar Aliyev",
      "userId": "02734588617836082745"
     },
     "user_tz": -240
    },
    "id": "UEDKN_Q2Vk_o",
    "outputId": "ff242c94-5fe1-41b4-a999-003d24e7253b"
   },
   "outputs": [
    {
     "name": "stdout",
     "output_type": "stream",
     "text": [
      "15\n"
     ]
    }
   ],
   "source": [
    "def do_sum(x1, x2): \n",
    "    return x1 + x2\n",
    "\n",
    "def my_reduce(do_sum, menim_listim):\n",
    "    birinci = menim_listim[0]\n",
    "    for i in menim_listim[1:]:\n",
    "        birinci = do_sum(birinci, i)\n",
    "    return birinci\n",
    "\n",
    "print(my_reduce(do_sum, [1, 2, 3, 4, 5]))\n",
    "\n",
    "#birinci = 1 + 2 = 3 + 3 = 6 + 4 =10 + 5 = 15"
   ]
  },
  {
   "cell_type": "code",
   "execution_count": 36,
   "metadata": {},
   "outputs": [
    {
     "name": "stdout",
     "output_type": "stream",
     "text": [
      "235 ns ± 1.24 ns per loop (mean ± std. dev. of 7 runs, 1,000,000 loops each)\n"
     ]
    }
   ],
   "source": [
    "%timeit my_reduce(do_sum, [1, 2, 3, 4, 5])"
   ]
  },
  {
   "cell_type": "code",
   "execution_count": 37,
   "metadata": {},
   "outputs": [
    {
     "name": "stdout",
     "output_type": "stream",
     "text": [
      "185 ns ± 3.5 ns per loop (mean ± std. dev. of 7 runs, 10,000,000 loops each)\n"
     ]
    }
   ],
   "source": [
    "lst = [1,2,3,4,5]\n",
    "%timeit reduce(do_sum, lst)"
   ]
  },
  {
   "cell_type": "code",
   "execution_count": 38,
   "metadata": {},
   "outputs": [
    {
     "name": "stdout",
     "output_type": "stream",
     "text": [
      "Result: 165\n"
     ]
    }
   ],
   "source": [
    "numbers = [1, 2, 3, 4, 5, 6, 7, 8, 9, 10]\n",
    "\n",
    "# Perform map, filter, and reduce operations in one expression\n",
    "result = reduce(lambda x, y: x + y,\\\n",
    "                filter(lambda x: x % 2 != 0, \\\n",
    "                       map(lambda x: x ** 2, numbers)), 0) #0 is Initializer\n",
    "\n",
    "print(\"Result:\", result)"
   ]
  },
  {
   "cell_type": "markdown",
   "metadata": {},
   "source": [
    "##### Role of the Initializer (`0`)\n",
    "\n",
    "The initializer (`0` in this case) is important for several reasons:\n",
    "\n",
    "###### Starting Point:\n",
    "\n",
    "- It provides a starting value for the reduction. Without an initializer, `reduce` would take the first two elements of the iterable as the initial input to the lambda function.\n",
    "- With `0` as the initializer, the reduction process starts from `0` and then adds each element of the iterable to it.\n",
    "\n",
    "###### Handling Empty Iterables:\n",
    "\n",
    "- If the iterable passed to `reduce` is empty, the function returns the initializer as the result.\n",
    "- This ensures that the expression handles cases where the filtered result might be empty without raising an error."
   ]
  },
  {
   "cell_type": "code",
   "execution_count": 39,
   "metadata": {},
   "outputs": [
    {
     "name": "stdout",
     "output_type": "stream",
     "text": [
      "Result: 2\n"
     ]
    }
   ],
   "source": [
    "nums =[1]\n",
    "# Perform map, filter, and reduce operations in one expression\n",
    "result = reduce(lambda x, y: x + y,\\\n",
    "                filter(lambda x: x % 2 != 0, \\\n",
    "                       map(lambda x: x ** 2, nums)), 1)\n",
    "\n",
    "print(\"Result:\", result)"
   ]
  },
  {
   "cell_type": "code",
   "execution_count": 40,
   "metadata": {},
   "outputs": [
    {
     "name": "stdout",
     "output_type": "stream",
     "text": [
      "Result: 0\n"
     ]
    }
   ],
   "source": [
    "nums =[]\n",
    "# Perform map, filter, and reduce operations in one expression\n",
    "result = reduce(lambda x, y: x + y,\\\n",
    "                filter(lambda x: x % 2 != 0, \\\n",
    "                       map(lambda x: x ** 2, nums)), 0)\n",
    "\n",
    "print(\"Result:\", result)"
   ]
  },
  {
   "cell_type": "markdown",
   "metadata": {},
   "source": [
    "#### Decorator"
   ]
  },
  {
   "cell_type": "markdown",
   "metadata": {},
   "source": [
    "- **Definition**: A decorator is a special type of higher-order function that takes another function as an argument and extends or modifies its behavior without explicitly changing its code. Decorators are often used to add functionality such as logging, enforcing access control, instrumentation, or caching. You apply a decorator using the `@decorator_name` syntax just above a function definition. It’s like wrapping the original function inside another function."
   ]
  },
  {
   "cell_type": "code",
   "execution_count": 2,
   "metadata": {},
   "outputs": [
    {
     "name": "stdout",
     "output_type": "stream",
     "text": [
      "Input to the composed function: 3\n",
      "Result after calling the original function: 3\n",
      "Result after applying square: 9\n",
      "Result after applying multiply_by_two: 18\n",
      "Result after applying add_one: 19\n",
      "Result of composed function with input 3: 19\n"
     ]
    }
   ],
   "source": [
    "# Decorator for function composition\n",
    "def compose_decorator(*functions):\n",
    "    def decorator(func):\n",
    "        def composed_function(x):\n",
    "            print(f\"Input to the composed function: {x}\")  # Log the input\n",
    "            result = func(x)\n",
    "            print(f\"Result after calling the original function: {result}\")  # Log the result after original function\n",
    "            \n",
    "            for f in reversed(functions):\n",
    "                result = f(result)\n",
    "                print(f\"Result after applying {f.__name__}: {result}\")  # Log the result after each function\n",
    "            return result\n",
    "        return composed_function\n",
    "    return decorator\n",
    "\n",
    "# Example functions to compose\n",
    "def add_one(x):\n",
    "    return x + 1\n",
    "\n",
    "def multiply_by_two(x):\n",
    "    return x * 2\n",
    "\n",
    "def square(x):\n",
    "    return x * x\n",
    "\n",
    "# Applying the decorator for composition\n",
    "@compose_decorator(add_one, multiply_by_two, square)\n",
    "def composed(x):\n",
    "    return x\n",
    "\n",
    "# Example usage\n",
    "result = composed(3)  # Should perform square(3) -> 9, multiply_by_two(9) -> 18, add_one(18) -> 19\n",
    "print(f\"Result of composed function with input 3: {result}\")"
   ]
  },
  {
   "cell_type": "markdown",
   "metadata": {},
   "source": [
    "#### None"
   ]
  },
  {
   "cell_type": "markdown",
   "metadata": {
    "id": "nUns7z9tW3g3"
   },
   "source": [
    "The **None** keyword is used to define a null value, or no value at all. None is **not the same** as **0**, **False**, or an **empty string**. None is a data type of its own (NoneType) and only None can be None."
   ]
  },
  {
   "cell_type": "code",
   "execution_count": 41,
   "metadata": {
    "colab": {
     "base_uri": "https://localhost:8080/"
    },
    "executionInfo": {
     "elapsed": 320,
     "status": "ok",
     "timestamp": 1675506635953,
     "user": {
      "displayName": "Etibar Aliyev",
      "userId": "02734588617836082745"
     },
     "user_tz": -240
    },
    "id": "WBYlLwnBXEmA",
    "outputId": "edb12aa9-1d84-4b9a-ccd6-83c750c22cea"
   },
   "outputs": [
    {
     "name": "stdout",
     "output_type": "stream",
     "text": [
      "None\n"
     ]
    }
   ],
   "source": [
    "x = None\n",
    "\n",
    "print(x)"
   ]
  },
  {
   "cell_type": "code",
   "execution_count": 42,
   "metadata": {
    "colab": {
     "base_uri": "https://localhost:8080/",
     "height": 167
    },
    "executionInfo": {
     "elapsed": 439,
     "status": "error",
     "timestamp": 1675515220220,
     "user": {
      "displayName": "Etibar Aliyev",
      "userId": "02734588617836082745"
     },
     "user_tz": -240
    },
    "id": "-XKIIwcpfR9Q",
    "outputId": "56e15411-b6a4-4ef8-a4b2-00f93164ad2a"
   },
   "outputs": [
    {
     "ename": "AssertionError",
     "evalue": "",
     "output_type": "error",
     "traceback": [
      "\u001b[0;31m---------------------------------------------------------------------------\u001b[0m",
      "\u001b[0;31mAssertionError\u001b[0m                            Traceback (most recent call last)",
      "Cell \u001b[0;32mIn[42], line 1\u001b[0m\n\u001b[0;32m----> 1\u001b[0m \u001b[38;5;28;01massert\u001b[39;00m \u001b[38;5;28;01mNone\u001b[39;00m\u001b[38;5;241m==\u001b[39m\u001b[38;5;241m0\u001b[39m\n",
      "\u001b[0;31mAssertionError\u001b[0m: "
     ]
    }
   ],
   "source": [
    "assert None==0"
   ]
  },
  {
   "cell_type": "code",
   "execution_count": 43,
   "metadata": {
    "colab": {
     "base_uri": "https://localhost:8080/",
     "height": 166
    },
    "executionInfo": {
     "elapsed": 518,
     "status": "error",
     "timestamp": 1676887417573,
     "user": {
      "displayName": "Vafa Zeynalli",
      "userId": "10818198709931667077"
     },
     "user_tz": -240
    },
    "id": "orwZQH_lfY59",
    "outputId": "40d3aed9-7e00-4a32-b9fc-6c2a1abe1f1e"
   },
   "outputs": [
    {
     "ename": "AssertionError",
     "evalue": "",
     "output_type": "error",
     "traceback": [
      "\u001b[0;31m---------------------------------------------------------------------------\u001b[0m",
      "\u001b[0;31mAssertionError\u001b[0m                            Traceback (most recent call last)",
      "Cell \u001b[0;32mIn[43], line 1\u001b[0m\n\u001b[0;32m----> 1\u001b[0m \u001b[38;5;28;01massert\u001b[39;00m \u001b[38;5;28;01mNone\u001b[39;00m\u001b[38;5;241m==\u001b[39m\u001b[38;5;124m\"\u001b[39m\u001b[38;5;124m \u001b[39m\u001b[38;5;124m\"\u001b[39m\n",
      "\u001b[0;31mAssertionError\u001b[0m: "
     ]
    }
   ],
   "source": [
    "assert None==\" \""
   ]
  },
  {
   "cell_type": "code",
   "execution_count": 44,
   "metadata": {},
   "outputs": [
    {
     "data": {
      "text/plain": [
       "False"
      ]
     },
     "execution_count": 44,
     "metadata": {},
     "output_type": "execute_result"
    }
   ],
   "source": [
    "None is False"
   ]
  },
  {
   "cell_type": "code",
   "execution_count": 45,
   "metadata": {},
   "outputs": [
    {
     "data": {
      "text/plain": [
       "False"
      ]
     },
     "execution_count": 45,
     "metadata": {},
     "output_type": "execute_result"
    }
   ],
   "source": [
    "None is True"
   ]
  },
  {
   "cell_type": "code",
   "execution_count": 46,
   "metadata": {
    "colab": {
     "base_uri": "https://localhost:8080/"
    },
    "executionInfo": {
     "elapsed": 275,
     "status": "ok",
     "timestamp": 1676887448056,
     "user": {
      "displayName": "Vafa Zeynalli",
      "userId": "10818198709931667077"
     },
     "user_tz": -240
    },
    "id": "xbJkgkAjXWoq",
    "outputId": "02fd721b-ee4a-4ae6-eeae-f3529b512807"
   },
   "outputs": [
    {
     "name": "stdout",
     "output_type": "stream",
     "text": [
      "None is not True, or False, None is just None...\n"
     ]
    }
   ],
   "source": [
    "x = None\n",
    "\n",
    "if x:\n",
    "    print(\"Do you think None is True?\")\n",
    "elif x is False:\n",
    "    print (\"Do you think None is False?\")\n",
    "else:\n",
    "    print(\"None is not True, or False, None is just None...\")"
   ]
  },
  {
   "cell_type": "code",
   "execution_count": 47,
   "metadata": {},
   "outputs": [],
   "source": [
    "b=None"
   ]
  },
  {
   "cell_type": "code",
   "execution_count": 48,
   "metadata": {
    "colab": {
     "base_uri": "https://localhost:8080/"
    },
    "executionInfo": {
     "elapsed": 439,
     "status": "ok",
     "timestamp": 1675515341804,
     "user": {
      "displayName": "Etibar Aliyev",
      "userId": "02734588617836082745"
     },
     "user_tz": -240
    },
    "id": "QQn-GyHoXn9X",
    "outputId": "e7c492da-581c-4a8b-b847-7240154ae090"
   },
   "outputs": [
    {
     "name": "stdout",
     "output_type": "stream",
     "text": [
      "Yes\n",
      "True\n",
      "True\n"
     ]
    }
   ],
   "source": [
    "if b==None:\n",
    "    print('Yes')\n",
    "else:\n",
    "    print('No')# Python none declaration\n",
    "    \n",
    "myVariable1 = None\n",
    "myVariable2 = None\n",
    "\n",
    "# comparing None value using == operator\n",
    "print(myVariable1 == myVariable2)\n",
    "\n",
    "# comparing one value using is keyword\n",
    "print(myVariable1 is myVariable2)"
   ]
  },
  {
   "cell_type": "code",
   "execution_count": 49,
   "metadata": {
    "colab": {
     "base_uri": "https://localhost:8080/",
     "height": 238
    },
    "executionInfo": {
     "elapsed": 369,
     "status": "error",
     "timestamp": 1675515403066,
     "user": {
      "displayName": "Etibar Aliyev",
      "userId": "02734588617836082745"
     },
     "user_tz": -240
    },
    "id": "sFo7ksRXX9Ec",
    "outputId": "f4965dea-4886-43f0-e9e9-b5ebe5686a13"
   },
   "outputs": [
    {
     "ename": "TypeError",
     "evalue": "'<' not supported between instances of 'NoneType' and 'int'",
     "output_type": "error",
     "traceback": [
      "\u001b[0;31m---------------------------------------------------------------------------\u001b[0m",
      "\u001b[0;31mTypeError\u001b[0m                                 Traceback (most recent call last)",
      "Cell \u001b[0;32mIn[49], line 4\u001b[0m\n\u001b[1;32m      2\u001b[0m myVariable1 \u001b[38;5;241m=\u001b[39m \u001b[38;5;28;01mNone\u001b[39;00m\n\u001b[1;32m      3\u001b[0m \u001b[38;5;66;03m# Python while loop\u001b[39;00m\n\u001b[0;32m----> 4\u001b[0m \u001b[38;5;28;01mwhile\u001b[39;00m( myVariable1 \u001b[38;5;241m<\u001b[39m \u001b[38;5;241m10\u001b[39m):\n\u001b[1;32m      5\u001b[0m     \u001b[38;5;66;03m# printing\u001b[39;00m\n\u001b[1;32m      6\u001b[0m     \u001b[38;5;28mprint\u001b[39m(\u001b[38;5;124m\"\u001b[39m\u001b[38;5;124mhello\u001b[39m\u001b[38;5;124m\"\u001b[39m)\n\u001b[1;32m      7\u001b[0m     \u001b[38;5;66;03m# incrementing the value\u001b[39;00m\n",
      "\u001b[0;31mTypeError\u001b[0m: '<' not supported between instances of 'NoneType' and 'int'"
     ]
    }
   ],
   "source": [
    "# Python none declaration\n",
    "myVariable1 = None\n",
    "# Python while loop\n",
    "while( myVariable1 < 10):\n",
    "    # printing\n",
    "    print(\"hello\")\n",
    "    # incrementing the value\n",
    "    myVariable1=+1"
   ]
  },
  {
   "cell_type": "code",
   "execution_count": 50,
   "metadata": {},
   "outputs": [
    {
     "name": "stdout",
     "output_type": "stream",
     "text": [
      "Variable is None\n"
     ]
    }
   ],
   "source": [
    "# Python none declaration\n",
    "myVariable1 = None\n",
    "\n",
    "if myVariable1 ==None:\n",
    "    print(\"Variable is None\")\n",
    "else:\n",
    "    # Python while loop\n",
    "    while(myVariable1 < 10):\n",
    "        # printing\n",
    "        print(\"hello\")\n",
    "        # incrementing the value\n",
    "        myVariable1=+1"
   ]
  },
  {
   "cell_type": "code",
   "execution_count": 51,
   "metadata": {
    "colab": {
     "base_uri": "https://localhost:8080/"
    },
    "executionInfo": {
     "elapsed": 366,
     "status": "ok",
     "timestamp": 1675515447498,
     "user": {
      "displayName": "Etibar Aliyev",
      "userId": "02734588617836082745"
     },
     "user_tz": -240
    },
    "id": "vneYwrktYPe_",
    "outputId": "74a5e026-61b0-4745-8a77-2403b1149fd7"
   },
   "outputs": [
    {
     "name": "stdout",
     "output_type": "stream",
     "text": [
      "['Age', 'class', 'Bashir']\n"
     ]
    }
   ],
   "source": [
    "# python function\n",
    "def Student(name, details=[]):\n",
    "    # appending the value to the list\n",
    "    details.append(name)\n",
    "    # return the list\n",
    "    return details\n",
    "# creating the list \n",
    "details = [\"Age\", \"class\"]\n",
    "# assigning the name\n",
    "name = \"Bashir\"\n",
    "# calling the function\n",
    "print(Student(name, details))"
   ]
  },
  {
   "cell_type": "code",
   "execution_count": 52,
   "metadata": {
    "colab": {
     "base_uri": "https://localhost:8080/"
    },
    "executionInfo": {
     "elapsed": 6,
     "status": "ok",
     "timestamp": 1675515737451,
     "user": {
      "displayName": "Etibar Aliyev",
      "userId": "02734588617836082745"
     },
     "user_tz": -240
    },
    "id": "snfes_1-YQvs",
    "outputId": "8120dde5-583e-40bc-b510-690d8d67da19"
   },
   "outputs": [
    {
     "name": "stdout",
     "output_type": "stream",
     "text": [
      "['Bashir', 'Alim']\n",
      "['Bashir', 'Alim']\n"
     ]
    }
   ],
   "source": [
    "# python function\n",
    "def Student(name, details=[]):\n",
    "    # appending the value to the list\n",
    "    details.append(name)\n",
    "    # return the list\n",
    "    return details\n",
    "\n",
    "# assigning the name\n",
    "name1 = \"Bashir\"\n",
    "name2 = \"Alim\"\n",
    "\n",
    "# calling the function\n",
    "student1 = Student(name1)\n",
    "student2 = Student(name2)\n",
    "# printing\n",
    "print(student1)\n",
    "print(student2)"
   ]
  },
  {
   "cell_type": "code",
   "execution_count": 49,
   "metadata": {
    "colab": {
     "base_uri": "https://localhost:8080/"
    },
    "executionInfo": {
     "elapsed": 353,
     "status": "ok",
     "timestamp": 1675516107468,
     "user": {
      "displayName": "Etibar Aliyev",
      "userId": "02734588617836082745"
     },
     "user_tz": -240
    },
    "id": "NRTbLQVFYc-J",
    "outputId": "1c65858c-0f07-455a-9e9e-a3fb7e42ac06"
   },
   "outputs": [
    {
     "name": "stdout",
     "output_type": "stream",
     "text": [
      "['Bashir']\n",
      "['Alim']\n"
     ]
    }
   ],
   "source": [
    "# python function with Details to None\n",
    "def Student1(name, details= None):\n",
    "    # using Python \n",
    "    if details is None:\n",
    "        details = []\n",
    "    # appending the value to the list\n",
    "    details.append(name)\n",
    "    # return the list\n",
    "    return details\n",
    "\n",
    "# assigning the name\n",
    "name1 = \"Bashir\"\n",
    "name2 = \"Alim\"\n",
    "\n",
    "# calling the function\n",
    "student1 = Student1(name1)\n",
    "student2 = Student1(name2)\n",
    "# printing\n",
    "print(student1)\n",
    "print(student2)"
   ]
  },
  {
   "cell_type": "code",
   "execution_count": 53,
   "metadata": {},
   "outputs": [
    {
     "data": {
      "text/plain": [
       "['Age', 'class', 'Bashir']"
      ]
     },
     "execution_count": 53,
     "metadata": {},
     "output_type": "execute_result"
    }
   ],
   "source": [
    "details"
   ]
  },
  {
   "cell_type": "code",
   "execution_count": 2,
   "metadata": {
    "colab": {
     "base_uri": "https://localhost:8080/"
    },
    "executionInfo": {
     "elapsed": 347,
     "status": "ok",
     "timestamp": 1675516004453,
     "user": {
      "displayName": "Etibar Aliyev",
      "userId": "02734588617836082745"
     },
     "user_tz": -240
    },
    "id": "KsZd-gX8YqwH",
    "outputId": "b8dc249e-3728-4b84-a169-52cb5c078de7"
   },
   "outputs": [
    {
     "name": "stdout",
     "output_type": "stream",
     "text": [
      "None\n"
     ]
    }
   ],
   "source": [
    "# python function without any return value\n",
    "def Student(name):\n",
    "    name = \"Alam\"\n",
    "    \n",
    "# calling the function and printing\n",
    "print(Student(\"Bashir\"))"
   ]
  },
  {
   "cell_type": "markdown",
   "metadata": {},
   "source": [
    "##### Local and Global variable"
   ]
  },
  {
   "cell_type": "code",
   "execution_count": 55,
   "metadata": {
    "colab": {
     "base_uri": "https://localhost:8080/",
     "height": 220
    },
    "executionInfo": {
     "elapsed": 30,
     "status": "error",
     "timestamp": 1675516367370,
     "user": {
      "displayName": "Etibar Aliyev",
      "userId": "02734588617836082745"
     },
     "user_tz": -240
    },
    "id": "G8fzKzdmLjf-",
    "outputId": "575f07a3-4e69-4759-844b-5897c62954bd"
   },
   "outputs": [
    {
     "name": "stdout",
     "output_type": "stream",
     "text": [
      "Local Hello\n"
     ]
    },
    {
     "ename": "NameError",
     "evalue": "name 'message' is not defined",
     "output_type": "error",
     "traceback": [
      "\u001b[0;31m---------------------------------------------------------------------------\u001b[0m",
      "\u001b[0;31mNameError\u001b[0m                                 Traceback (most recent call last)",
      "Cell \u001b[0;32mIn[55], line 13\u001b[0m\n\u001b[1;32m      9\u001b[0m greeting()\n\u001b[1;32m     11\u001b[0m \u001b[38;5;66;03m# try to access message variable \u001b[39;00m\n\u001b[1;32m     12\u001b[0m \u001b[38;5;66;03m# outside greet() function\u001b[39;00m\n\u001b[0;32m---> 13\u001b[0m \u001b[38;5;28mprint\u001b[39m(message)\n",
      "\u001b[0;31mNameError\u001b[0m: name 'message' is not defined"
     ]
    }
   ],
   "source": [
    "l = 4.5\n",
    "def greeting():\n",
    "\n",
    "    # local variable\n",
    "    message = 'Hello'\n",
    "\n",
    "    print('Local', message)\n",
    "\n",
    "greeting()\n",
    "\n",
    "# try to access message variable \n",
    "# outside greet() function\n",
    "print(message)"
   ]
  },
  {
   "cell_type": "code",
   "execution_count": 56,
   "metadata": {
    "colab": {
     "base_uri": "https://localhost:8080/"
    },
    "executionInfo": {
     "elapsed": 338,
     "status": "ok",
     "timestamp": 1675516481038,
     "user": {
      "displayName": "Etibar Aliyev",
      "userId": "02734588617836082745"
     },
     "user_tz": -240
    },
    "id": "k8AN1QoQQC00",
    "outputId": "8602aa07-6003-4bf3-b389-4e326d4c3740"
   },
   "outputs": [
    {
     "name": "stdout",
     "output_type": "stream",
     "text": [
      "Local Hello\n",
      "Global Hello\n"
     ]
    }
   ],
   "source": [
    "# declare global variable\n",
    "def greet():\n",
    "    global message\n",
    "    message = \"Hello\"\n",
    "    # declare local variable\n",
    "    print('Local', message)\n",
    "\n",
    "greet()\n",
    "print('Global', message)"
   ]
  },
  {
   "cell_type": "markdown",
   "metadata": {
    "id": "JMWaazHlQb7e"
   },
   "source": [
    "In Python, `nonlocal` variables are used in nested functions whose local scope is not defined. This means that the variable can be neither in the local nor the global scope."
   ]
  },
  {
   "cell_type": "code",
   "execution_count": 1,
   "metadata": {
    "id": "aKRFx3KMQC3u"
   },
   "outputs": [],
   "source": [
    "# outside function \n",
    "def outer():\n",
    "\n",
    "    message1 = 'local'\n",
    "\n",
    "    # nested function  \n",
    "    def inner():\n",
    "        # declare nonlocal variable\n",
    "        nonlocal message1\n",
    "        message1 = 'nonlocal'\n",
    "        print(\"inner:\", message1)\n",
    "    \n",
    "    def inner2():\n",
    "        print(\"inner2:\", message1)\n",
    "\n",
    "    inner()\n",
    "    inner2()\n",
    "    print(\"outer:\", message1)"
   ]
  },
  {
   "cell_type": "code",
   "execution_count": 2,
   "metadata": {},
   "outputs": [
    {
     "name": "stdout",
     "output_type": "stream",
     "text": [
      "inner: nonlocal\n",
      "inner2: nonlocal\n",
      "outer: nonlocal\n"
     ]
    }
   ],
   "source": [
    "outer()"
   ]
  },
  {
   "cell_type": "code",
   "execution_count": 2,
   "metadata": {
    "colab": {
     "base_uri": "https://localhost:8080/"
    },
    "executionInfo": {
     "elapsed": 4,
     "status": "ok",
     "timestamp": 1675516630432,
     "user": {
      "displayName": "Etibar Aliyev",
      "userId": "02734588617836082745"
     },
     "user_tz": -240
    },
    "id": "VcW-dEqwwxGU",
    "outputId": "e5246e2f-30a2-4b4a-a7e6-d2729b4d36bc"
   },
   "outputs": [],
   "source": [
    "# outside function \n",
    "def outer():\n",
    "    \n",
    "    message1 = 'local'\n",
    "\n",
    "    # nested function  \n",
    "    def inner():\n",
    "        # declare nonlocal variable\n",
    "        nonlocal message1\n",
    "        message1 = 'nonlocal'\n",
    "        print(\"inner:\", message1)\n",
    "    \n",
    "    def inner2():\n",
    "        print(\"inner2:\", message1)\n",
    "    \n",
    "    print(\"outer:\", message1)\n",
    "    return inner2 , inner"
   ]
  },
  {
   "cell_type": "code",
   "execution_count": 62,
   "metadata": {},
   "outputs": [
    {
     "name": "stdout",
     "output_type": "stream",
     "text": [
      "outer: local\n",
      "inner2: local\n",
      "inner: nonlocal\n"
     ]
    }
   ],
   "source": [
    "inner2_func, inner_func = outer()\n",
    "\n",
    "inner2_func()\n",
    "inner_func()"
   ]
  },
  {
   "cell_type": "code",
   "execution_count": 63,
   "metadata": {},
   "outputs": [
    {
     "ename": "NameError",
     "evalue": "name 'message1' is not defined",
     "output_type": "error",
     "traceback": [
      "\u001b[0;31m---------------------------------------------------------------------------\u001b[0m",
      "\u001b[0;31mNameError\u001b[0m                                 Traceback (most recent call last)",
      "Cell \u001b[0;32mIn[63], line 1\u001b[0m\n\u001b[0;32m----> 1\u001b[0m message1\n",
      "\u001b[0;31mNameError\u001b[0m: name 'message1' is not defined"
     ]
    }
   ],
   "source": [
    "message1"
   ]
  },
  {
   "cell_type": "code",
   "execution_count": 65,
   "metadata": {
    "id": "jPdO3NtWd_QR"
   },
   "outputs": [
    {
     "name": "stdout",
     "output_type": "stream",
     "text": [
      "Hi\n"
     ]
    },
    {
     "data": {
      "text/plain": [
       "1"
      ]
     },
     "execution_count": 65,
     "metadata": {},
     "output_type": "execute_result"
    }
   ],
   "source": [
    "def f1():\n",
    "    print(\"Hi\")\n",
    "    return 1\n",
    "f1()"
   ]
  },
  {
   "cell_type": "code",
   "execution_count": 66,
   "metadata": {
    "id": "JcWk7MfHeK9d"
   },
   "outputs": [
    {
     "name": "stdout",
     "output_type": "stream",
     "text": [
      "Hello\n"
     ]
    }
   ],
   "source": [
    "def f2():\n",
    "    print(\"Hello\")\n",
    "    return\n",
    "\n",
    "f2()"
   ]
  },
  {
   "cell_type": "code",
   "execution_count": 67,
   "metadata": {},
   "outputs": [
    {
     "name": "stdout",
     "output_type": "stream",
     "text": [
      "Hello\n",
      "None\n"
     ]
    }
   ],
   "source": [
    "print(f2())"
   ]
  },
  {
   "cell_type": "code",
   "execution_count": 68,
   "metadata": {},
   "outputs": [
    {
     "name": "stdout",
     "output_type": "stream",
     "text": [
      "Hello\n"
     ]
    }
   ],
   "source": [
    "var = f2()\n",
    "var"
   ]
  },
  {
   "cell_type": "code",
   "execution_count": 64,
   "metadata": {
    "id": "gdf_HoEZeOWO"
   },
   "outputs": [
    {
     "name": "stdout",
     "output_type": "stream",
     "text": [
      "Hello\n"
     ]
    }
   ],
   "source": [
    "def f3():\n",
    "    print(\"Hello\")\n",
    "f3()"
   ]
  },
  {
   "cell_type": "code",
   "execution_count": 65,
   "metadata": {},
   "outputs": [
    {
     "name": "stdout",
     "output_type": "stream",
     "text": [
      "Hello\n",
      "None\n"
     ]
    }
   ],
   "source": [
    "print(f3())"
   ]
  },
  {
   "cell_type": "markdown",
   "metadata": {},
   "source": [
    "### Generator Functions"
   ]
  },
  {
   "cell_type": "markdown",
   "metadata": {},
   "source": [
    "A generator function in Python is a special type of function that allows you to generate a sequence of values lazily, one at a time, rather than generating and storing all values in memory at once. This is particularly useful when working with large datasets or infinite sequences, as it reduces memory usage and improves performance.\n",
    "\n",
    "Generator functions use the `yield` keyword instead of `return` to return values one by one. When a generator function is called, it returns a generator object, which can be iterated over using a loop or by passing it to functions that accept iterable objects.\n"
   ]
  },
  {
   "cell_type": "code",
   "execution_count": 66,
   "metadata": {},
   "outputs": [
    {
     "name": "stdout",
     "output_type": "stream",
     "text": [
      "1\n",
      "2\n",
      "3\n"
     ]
    }
   ],
   "source": [
    "def my_generator():\n",
    "    yield 1\n",
    "    yield 2\n",
    "    yield 3\n",
    "\n",
    "gen = my_generator()\n",
    "print(next(gen))  # Output: 1\n",
    "print(next(gen))  # Output: 2\n",
    "print(next(gen))  # Output: 3\n",
    "#print(next(gen))  # Output: 4"
   ]
  },
  {
   "cell_type": "code",
   "execution_count": 81,
   "metadata": {},
   "outputs": [
    {
     "name": "stdout",
     "output_type": "stream",
     "text": [
      "CPU times: user 4 µs, sys: 0 ns, total: 4 µs\n",
      "Wall time: 5.96 µs\n",
      "0\n",
      "1\n",
      "1\n",
      "2\n",
      "3\n",
      "5\n",
      "8\n",
      "13\n",
      "21\n",
      "34\n"
     ]
    }
   ],
   "source": [
    "# Example of a generator function that generates Fibonacci numbers\n",
    "\n",
    "def fibonacci():\n",
    "    \"\"\"Generate Fibonacci numbers.\"\"\"\n",
    "    a, b = 0, 1\n",
    "    while True:\n",
    "        yield a\n",
    "        a, b = b, a + b\n",
    "\n",
    "# Create a generator object\n",
    "fib_gen = fibonacci()\n",
    "\n",
    "%time\n",
    "# Print the first 10 Fibonacci numbers\n",
    "for i in range(10):\n",
    "    print(next(fib_gen))"
   ]
  },
  {
   "cell_type": "markdown",
   "metadata": {},
   "source": [
    "### Recursive Functions"
   ]
  },
  {
   "cell_type": "markdown",
   "metadata": {},
   "source": [
    "A recursive function is a function that calls itself within its definition. It's a powerful programming technique that allows a function to break down a problem into smaller, more manageable subproblems. Recursive functions are widely used in programming to solve problems that can be broken down into simpler, similar instances."
   ]
  },
  {
   "cell_type": "code",
   "execution_count": 1,
   "metadata": {},
   "outputs": [],
   "source": [
    "def fibonacci(n):\n",
    "    # Base cases\n",
    "    if n <= 0:\n",
    "        return 0\n",
    "    elif n == 1:\n",
    "        return 1\n",
    "    # Recursive case\n",
    "    else:\n",
    "        return fibonacci(n-1) + fibonacci(n-2)"
   ]
  },
  {
   "cell_type": "code",
   "execution_count": 2,
   "metadata": {
    "scrolled": true
   },
   "outputs": [
    {
     "name": "stdout",
     "output_type": "stream",
     "text": [
      "0 1 1 2 3 5 8 13 21 34 "
     ]
    }
   ],
   "source": [
    "for i in range(10):\n",
    "    print(fibonacci(i), end=\" \")"
   ]
  },
  {
   "cell_type": "code",
   "execution_count": 3,
   "metadata": {},
   "outputs": [],
   "source": [
    "def fibonacci_iterative(n):\n",
    "    # Base cases\n",
    "    if n == 0:\n",
    "        return 0\n",
    "    elif n == 1:\n",
    "        return 1\n",
    "    \n",
    "    # Initialize variables to store the two previous Fibonacci numbers\n",
    "    fib_prev, fib_curr = 0, 1\n",
    "    \n",
    "    # Calculate Fibonacci numbers iteratively\n",
    "    for _ in range(2, n + 1):\n",
    "        fib_next = fib_prev + fib_curr\n",
    "        fib_prev, fib_curr = fib_curr, fib_next\n",
    "    \n",
    "    return fib_curr"
   ]
  },
  {
   "cell_type": "code",
   "execution_count": 4,
   "metadata": {},
   "outputs": [
    {
     "name": "stdout",
     "output_type": "stream",
     "text": [
      "0 1 1 2 3 5 8 13 21 34 "
     ]
    }
   ],
   "source": [
    "for i in range(10):\n",
    "    print(fibonacci_iterative(i), end=\" \")"
   ]
  },
  {
   "cell_type": "code",
   "execution_count": 5,
   "metadata": {},
   "outputs": [
    {
     "name": "stdout",
     "output_type": "stream",
     "text": [
      "101 ms ± 2.92 ms per loop (mean ± std. dev. of 7 runs, 10 loops each)\n"
     ]
    }
   ],
   "source": [
    "%timeit fibonacci(30)"
   ]
  },
  {
   "cell_type": "code",
   "execution_count": 6,
   "metadata": {},
   "outputs": [
    {
     "name": "stdout",
     "output_type": "stream",
     "text": [
      "683 ns ± 9.81 ns per loop (mean ± std. dev. of 7 runs, 1,000,000 loops each)\n"
     ]
    }
   ],
   "source": [
    "%timeit fibonacci_iterative(30)"
   ]
  },
  {
   "cell_type": "code",
   "execution_count": 40,
   "metadata": {},
   "outputs": [],
   "source": [
    "def outer1():\n",
    "    m = 1\n",
    "    def inner3():\n",
    "        nonlocal m\n",
    "        m = 5\n",
    "        print(m)\n",
    "    def inner4():\n",
    "        inner3()   \n",
    "        print(m)\n",
    "    return inner3, inner4"
   ]
  },
  {
   "cell_type": "code",
   "execution_count": 41,
   "metadata": {},
   "outputs": [],
   "source": [
    "inner3, inner4 = outer1()"
   ]
  },
  {
   "cell_type": "code",
   "execution_count": 42,
   "metadata": {},
   "outputs": [
    {
     "name": "stdout",
     "output_type": "stream",
     "text": [
      "5\n",
      "5\n"
     ]
    }
   ],
   "source": [
    "inner4()"
   ]
  },
  {
   "cell_type": "code",
   "execution_count": 1,
   "metadata": {},
   "outputs": [
    {
     "name": "stdout",
     "output_type": "stream",
     "text": [
      "1 value = 98.0\n",
      "2 value = 4.04\n"
     ]
    }
   ],
   "source": [
    "def COUNT(**KWARGS):   \n",
    "    C = 1\n",
    "    for i in KWARGS.values():\n",
    "        A = i[0] - i[0] * i[1] / 100 + i[0] * i[2] / 100 \n",
    "        print(C, \"value =\", A)\n",
    "        C += 1\n",
    "COUNT(ITEM1 = (100, 10, 8), ITEM2 = (4, 5, 6))    "
   ]
  },
  {
   "cell_type": "code",
   "execution_count": 2,
   "metadata": {},
   "outputs": [
    {
     "name": "stdout",
     "output_type": "stream",
     "text": [
      "30\n"
     ]
    }
   ],
   "source": [
    "def POW(*ARGS):\n",
    "    L = []\n",
    "    for i in ARGS:\n",
    "        L.append(i)\n",
    "    Z = L[0]\n",
    "    L.pop(0)\n",
    "    X = []\n",
    "    for i in L:\n",
    "        X.append(i ** Z)\n",
    "    COUNT = 0\n",
    "    for i in X:\n",
    "        COUNT += i\n",
    "    print(COUNT)\n",
    "POW(2, 1, 2, 3, 4)"
   ]
  },
  {
   "cell_type": "code",
   "execution_count": 3,
   "metadata": {},
   "outputs": [
    {
     "name": "stdout",
     "output_type": "stream",
     "text": [
      "[(4, 8), (9, 27), (16, 64)]\n"
     ]
    }
   ],
   "source": [
    "numbers_5 = [2, 3, 4]\n",
    "x = list(map(lambda x: (x ** 2,x ** 3), numbers_5))\n",
    "print(x)"
   ]
  },
  {
   "cell_type": "code",
   "execution_count": 4,
   "metadata": {},
   "outputs": [
    {
     "name": "stdout",
     "output_type": "stream",
     "text": [
      "31\n"
     ]
    }
   ],
   "source": [
    "from functools import reduce\n",
    "\n",
    "pairs = [(10, 5), (3, 7), (8, 2), (6, 6)]\n",
    "\n",
    "max_values = list(map(lambda x: max(x), pairs))\n",
    "total = reduce(lambda a, b: a + b, max_values)\n",
    "\n",
    "print(total)"
   ]
  },
  {
   "cell_type": "code",
   "execution_count": 5,
   "metadata": {},
   "outputs": [
    {
     "name": "stdout",
     "output_type": "stream",
     "text": [
      "['elephant', 'fish']\n"
     ]
    }
   ],
   "source": [
    "words_8 = [\"cat\", \"dog\", \"elephant\", \"rat\", \"fish\"]\n",
    "x = list(filter(lambda x: len(x) > 3, words_8))\n",
    "print(x)"
   ]
  }
 ],
 "metadata": {
  "colab": {
   "provenance": []
  },
  "kernelspec": {
   "display_name": "Python [conda env:base] *",
   "language": "python",
   "name": "conda-base-py"
  },
  "language_info": {
   "codemirror_mode": {
    "name": "ipython",
    "version": 3
   },
   "file_extension": ".py",
   "mimetype": "text/x-python",
   "name": "python",
   "nbconvert_exporter": "python",
   "pygments_lexer": "ipython3",
   "version": "3.12.7"
  }
 },
 "nbformat": 4,
 "nbformat_minor": 4
}
