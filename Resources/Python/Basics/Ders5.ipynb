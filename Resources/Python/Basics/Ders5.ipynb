{
 "cells": [
  {
   "cell_type": "markdown",
   "metadata": {},
   "source": [
    "# Object-Oriented Programming (OOP) in Python\n",
    "\n",
    "**Object-Oriented Programming (OOP)** in Python is a programming paradigm that organizes code by grouping data and related functionality into **objects**. Objects are instances of **classes**, which serve as blueprints that define the structure and behavior of those objects. This approach helps with creating **modular**, **reusable**, and **organized** code.\n",
    "\n",
    "### Key Benefits of OOP\n",
    "- **Modularity**: Code is organized into classes, making it easier to manage and understand.\n",
    "- **Reusability**: Classes and methods can be reused across different projects.\n",
    "- **Extensibility**: New features can be added by extending existing classes.\n",
    "- **Maintainability**: Organized structure makes debugging and maintaining the code easier.\n",
    "\n",
    "Using OOP, you can model real-world entities by combining related data and functionality within a single structure. OOP is widely used in Python, especially for building complex applications where code organization and reusability are crucial."
   ]
  },
  {
   "cell_type": "markdown",
   "metadata": {
    "id": "RI-9JwEKv3xr"
   },
   "source": [
    "## Classes"
   ]
  },
  {
   "cell_type": "markdown",
   "metadata": {
    "id": "wUd8WYISv3xt"
   },
   "source": [
    "Classes are the key features of object-oriented programming. A class is a structure for representing an object and the operations that can be performed on the object.\n",
    "\n",
    "In Python a class can contain *attributes* (variables) and *methods* (functions).\n",
    "\n",
    "A class is defined almost like a function, but using the `class` keyword, and the class definition usually contains a number of class method definitions (a function in a class).\n",
    "\n",
    "* Each class method should have an argument `self` as its first argument. This object is a self-reference.\n",
    "\n",
    "* Some class method names have special meaning, for example:\n",
    "\n",
    "    * `__init__`: The name of the method that is invoked when the object is first created.(Constructor)\n",
    "    * `__str__` : A method that is invoked when a simple string representation of the class is needed, as for example when printed.\n",
    "    * There are many more, see http://docs.python.org/2/reference/datamodel.html#special-method-names"
   ]
  },
  {
   "cell_type": "code",
   "execution_count": 2,
   "metadata": {
    "id": "vxhVnfy6v3xu"
   },
   "outputs": [],
   "source": [
    "class Point:\n",
    "    \"\"\"\n",
    "    Simple class for representing a point in a Cartesian coordinate system.\n",
    "    \"\"\"\n",
    "    def __init__(self, x, y):\n",
    "        \"\"\"\n",
    "        Create a new Point at x, y.\n",
    "        \"\"\"\n",
    "        self.x = x\n",
    "        self.y = y\n",
    "\n",
    "    def translate(self, dx, dy):\n",
    "        \"\"\"\n",
    "        Translate the point by dx and dy in the x and y direction.\n",
    "        \"\"\"\n",
    "        self.x += dx \n",
    "        self.y += dy\n",
    "        \n",
    "    def decrement(self,dx, dy):\n",
    "        self.x-= dx\n",
    "        self.y-= dy\n",
    "\n",
    "    def __str__(self):\n",
    "        return(\"Point at [%f, %f]\" % (self.x, self.y))"
   ]
  },
  {
   "cell_type": "markdown",
   "metadata": {
    "id": "Mpv4dLqCv3xv"
   },
   "source": [
    "To create a new instance of a class:"
   ]
  },
  {
   "cell_type": "code",
   "execution_count": 3,
   "metadata": {
    "colab": {
     "base_uri": "https://localhost:8080/",
     "height": 36
    },
    "id": "1LvXgxWfv3xv",
    "outputId": "c74b25cc-35d8-4209-e25f-c9dbfc09dc24"
   },
   "outputs": [
    {
     "data": {
      "text/plain": [
       "'Point at [0.000000, 0.000000]'"
      ]
     },
     "execution_count": 3,
     "metadata": {},
     "output_type": "execute_result"
    }
   ],
   "source": [
    "p1 = Point(0, 0) # this will invoke the __init__ method in the Point class\n",
    "\n",
    "p1.__str__()      # this will invoke the __str__ method"
   ]
  },
  {
   "cell_type": "markdown",
   "metadata": {
    "id": "jAp6Yxfdv3xw"
   },
   "source": [
    "To invoke a class method in the class instance `p1`:"
   ]
  },
  {
   "cell_type": "code",
   "execution_count": 4,
   "metadata": {
    "colab": {
     "base_uri": "https://localhost:8080/"
    },
    "id": "1daPI8cBv3xw",
    "outputId": "0b1f75b0-f9fa-4795-dd45-703c49b2f32e"
   },
   "outputs": [
    {
     "name": "stdout",
     "output_type": "stream",
     "text": [
      "Point at [0.250000, 1.500000]\n"
     ]
    }
   ],
   "source": [
    "p1.translate(0.25, 1.5)\n",
    "print(p1)"
   ]
  },
  {
   "cell_type": "code",
   "execution_count": 7,
   "metadata": {
    "colab": {
     "base_uri": "https://localhost:8080/"
    },
    "id": "fTVaG1oA-Ekc",
    "outputId": "90fb2e11-61a7-4c6e-e059-df3a78e46b87"
   },
   "outputs": [
    {
     "name": "stdout",
     "output_type": "stream",
     "text": [
      "Point at [6.000000, 7.000000]\n"
     ]
    }
   ],
   "source": [
    "p2 = Point(1, 1)\n",
    "p2.translate(5,6)\n",
    "print(p2)"
   ]
  },
  {
   "cell_type": "code",
   "execution_count": 8,
   "metadata": {},
   "outputs": [
    {
     "name": "stdout",
     "output_type": "stream",
     "text": [
      "Point at [3.000000, 3.000000]\n"
     ]
    }
   ],
   "source": [
    "p2.decrement(3,4)\n",
    "print(p2)"
   ]
  },
  {
   "cell_type": "code",
   "execution_count": 9,
   "metadata": {},
   "outputs": [
    {
     "data": {
      "text/plain": [
       "'Point at [3.000000, 3.000000]'"
      ]
     },
     "execution_count": 9,
     "metadata": {},
     "output_type": "execute_result"
    }
   ],
   "source": [
    "p2.__str__()"
   ]
  },
  {
   "cell_type": "markdown",
   "metadata": {
    "id": "Y2YERAflv3xx"
   },
   "source": [
    "Note that calling class methods can modifiy the state of that particular class instance, but does not effect other class instances or any global variables.\n",
    "\n",
    "That is one of the nice things about object-oriented design: code such as functions and related variables are grouped in separate and independent entities."
   ]
  },
  {
   "cell_type": "markdown",
   "metadata": {},
   "source": [
    "### Types of Methods in Python Classes\n",
    "\n",
    "In Python, classes can contain several types of methods, each serving a different purpose. These include **magic (dunder) methods**, **class methods**, **static methods**, and **instance methods**. Below are the definitions of each type:\n",
    "\n",
    "#### 1. Magic (Dunder) Methods\n",
    "**Magic methods** (also known as **dunder methods**, short for \"double underscore\") are special methods with double underscores at the beginning and end of their names (e.g., `__init__`, `__str__`). These methods allow objects to interact with built-in Python operations, enabling functionality like initialization, string representation, and operator overloading.\n",
    "\n",
    "Examples include:\n",
    "- `__init__`: Called when an object is created.\n",
    "- `__str__`: Defines the string representation of an object.\n",
    "- `__add__`: Defines behavior for the `+` operator between objects.\n",
    "\n",
    "#### 2. Class Methods\n",
    "**Class methods** are methods bound to the class rather than its instances. They can access and modify class state that applies across all instances. Class methods use the `@classmethod` decorator and take `cls` (the class itself) as the first parameter.\n",
    "\n",
    "**Purpose**: They are often used for factory methods or methods that act upon the class as a whole rather than individual instances.\n",
    "\n",
    "#### 3. Static Methods\n",
    "**Static methods** are defined within a class but are not tied to the class or its instances. They do not access or modify any class or instance data. Static methods use the `@staticmethod` decorator and do not take `self` or `cls` as parameters.\n",
    "\n",
    "**Purpose**: They are utility functions related to the class but don’t require access to class or instance attributes.\n",
    "\n",
    "#### 4. Instance (Object) Methods\n",
    "**Instance methods** (or **object methods**) are the most common type of methods within a class. These methods operate on individual instances of the class and have access to instance attributes. They take `self` as the first parameter, which represents the specific instance calling the method.\n",
    "\n",
    "**Purpose**: They are used to define behaviors and actions that apply to individual instances of the class.\n",
    "\n",
    "---\n",
    "\n",
    "Each of these methods allows Python classes to be more flexible and versatile, supporting different ways to operate on and interact with class data.\n"
   ]
  },
  {
   "cell_type": "code",
   "execution_count": 1,
   "metadata": {
    "id": "AsjZOmcHpBiw"
   },
   "outputs": [],
   "source": [
    "class NewOne(object):\n",
    "    \n",
    "    class_var = \"How are you?\"\n",
    "    \n",
    "    #Magic or dunder\n",
    "    def __new__(cls):\n",
    "        print(\"Creating instance of NewOne\")\n",
    "        return super(NewOne, cls).__new__(cls)\n",
    "    \n",
    "    def __init__(self, my_list = None, my_dict= None):\n",
    "        if my_list is None:\n",
    "            my_list = []\n",
    "        if my_dict is None:\n",
    "            my_dict = {}\n",
    "        self.my_list = my_list\n",
    "        self.my_dict = my_dict\n",
    "        print(f\"{self.my_list} is created.\")\n",
    "        \n",
    "    def __del__(self):\n",
    "        print('Object of class NewOne is deleted')\n",
    "    \n",
    "    @classmethod\n",
    "    def hello_all(cls):\n",
    "        print('Hello, guys. The class name is {}'.format(cls.__name__))\n",
    "        print(cls.class_var)\n",
    "    \n",
    "    @staticmethod\n",
    "    def hello():\n",
    "        print(\"Hello, world\")\n",
    "    \n",
    "    #object(instance)\n",
    "    def listi_doldur(self):\n",
    "        if self.my_list==[]:\n",
    "            for i in range(0,10):\n",
    "                self.my_list.append(i)\n",
    "        return self.my_list\n",
    "\n",
    "    def lugeti_doldur(self):\n",
    "        if self.my_dict== {}:\n",
    "            self.my_dict = dict(zip((\"name\", \"age\"), (\"Joe\", 28))) #{\"name\":\"Joe\", \"age\":28}\n",
    "        return self.my_dict"
   ]
  },
  {
   "cell_type": "code",
   "execution_count": 2,
   "metadata": {},
   "outputs": [],
   "source": [
    "class grandparent(object):\n",
    "    pass\n",
    "\n",
    "class parent(grandparent):\n",
    "    pass\n",
    "\n",
    "class uncle(grandparent):\n",
    "    pass\n",
    "\n",
    "class child(parent):\n",
    "    pass"
   ]
  },
  {
   "cell_type": "code",
   "execution_count": 3,
   "metadata": {
    "id": "gw67LC_kqm3R"
   },
   "outputs": [
    {
     "name": "stdout",
     "output_type": "stream",
     "text": [
      "Creating instance of NewOne\n",
      "[] is created.\n"
     ]
    }
   ],
   "source": [
    "a = NewOne()"
   ]
  },
  {
   "cell_type": "code",
   "execution_count": 4,
   "metadata": {},
   "outputs": [
    {
     "data": {
      "text/plain": [
       "[]"
      ]
     },
     "execution_count": 4,
     "metadata": {},
     "output_type": "execute_result"
    }
   ],
   "source": [
    "a.my_list"
   ]
  },
  {
   "cell_type": "code",
   "execution_count": 5,
   "metadata": {},
   "outputs": [
    {
     "name": "stdout",
     "output_type": "stream",
     "text": [
      "Object of class NewOne is deleted\n"
     ]
    }
   ],
   "source": [
    "del a"
   ]
  },
  {
   "cell_type": "code",
   "execution_count": 6,
   "metadata": {},
   "outputs": [
    {
     "name": "stdout",
     "output_type": "stream",
     "text": [
      "Creating instance of NewOne\n",
      "[] is created.\n"
     ]
    }
   ],
   "source": [
    "b = NewOne()"
   ]
  },
  {
   "cell_type": "code",
   "execution_count": 7,
   "metadata": {},
   "outputs": [
    {
     "name": "stdout",
     "output_type": "stream",
     "text": [
      "Hello, world\n"
     ]
    }
   ],
   "source": [
    "b.hello()"
   ]
  },
  {
   "cell_type": "code",
   "execution_count": 8,
   "metadata": {},
   "outputs": [
    {
     "name": "stdout",
     "output_type": "stream",
     "text": [
      "Hello, guys. The class name is NewOne\n",
      "How are you?\n"
     ]
    }
   ],
   "source": [
    "b.hello_all()"
   ]
  },
  {
   "cell_type": "code",
   "execution_count": 9,
   "metadata": {},
   "outputs": [
    {
     "name": "stdout",
     "output_type": "stream",
     "text": [
      "Object of class NewOne is deleted\n"
     ]
    }
   ],
   "source": [
    "del b"
   ]
  },
  {
   "cell_type": "code",
   "execution_count": 10,
   "metadata": {},
   "outputs": [
    {
     "name": "stdout",
     "output_type": "stream",
     "text": [
      "Creating instance of NewOne\n",
      "[] is created.\n"
     ]
    }
   ],
   "source": [
    "b = NewOne()"
   ]
  },
  {
   "cell_type": "code",
   "execution_count": 11,
   "metadata": {},
   "outputs": [
    {
     "data": {
      "text/plain": [
       "[]"
      ]
     },
     "execution_count": 11,
     "metadata": {},
     "output_type": "execute_result"
    }
   ],
   "source": [
    "b.my_list"
   ]
  },
  {
   "cell_type": "code",
   "execution_count": 12,
   "metadata": {},
   "outputs": [
    {
     "data": {
      "text/plain": [
       "[0, 1, 2, 3, 4, 5, 6, 7, 8, 9]"
      ]
     },
     "execution_count": 12,
     "metadata": {},
     "output_type": "execute_result"
    }
   ],
   "source": [
    "b.listi_doldur()"
   ]
  },
  {
   "cell_type": "code",
   "execution_count": 13,
   "metadata": {
    "colab": {
     "base_uri": "https://localhost:8080/"
    },
    "id": "SbDksfgzqvlR",
    "outputId": "30af3d90-f3cf-44ac-cc52-fc95ad2e3274"
   },
   "outputs": [
    {
     "data": {
      "text/plain": [
       "[0, 1, 2, 3, 4, 5, 6, 7, 8, 9]"
      ]
     },
     "execution_count": 13,
     "metadata": {},
     "output_type": "execute_result"
    }
   ],
   "source": [
    "b.my_list"
   ]
  },
  {
   "cell_type": "code",
   "execution_count": 14,
   "metadata": {
    "colab": {
     "base_uri": "https://localhost:8080/"
    },
    "id": "hKq4gIoirG_q",
    "outputId": "058da576-46d7-49b1-ea5a-19d9a50660cb"
   },
   "outputs": [
    {
     "data": {
      "text/plain": [
       "{'name': 'Joe', 'age': 28}"
      ]
     },
     "execution_count": 14,
     "metadata": {},
     "output_type": "execute_result"
    }
   ],
   "source": [
    "b.lugeti_doldur()"
   ]
  },
  {
   "cell_type": "code",
   "execution_count": 15,
   "metadata": {},
   "outputs": [
    {
     "data": {
      "text/plain": [
       "{'name': 'Joe', 'age': 28}"
      ]
     },
     "execution_count": 15,
     "metadata": {},
     "output_type": "execute_result"
    }
   ],
   "source": [
    "b.my_dict"
   ]
  },
  {
   "cell_type": "code",
   "execution_count": 16,
   "metadata": {
    "id": "8Fc1oEVFqp9X"
   },
   "outputs": [
    {
     "data": {
      "text/plain": [
       "[0, 1, 2, 3, 4, 5, 6, 7, 8, 9]"
      ]
     },
     "execution_count": 16,
     "metadata": {},
     "output_type": "execute_result"
    }
   ],
   "source": [
    "b.listi_doldur()"
   ]
  },
  {
   "cell_type": "code",
   "execution_count": 17,
   "metadata": {},
   "outputs": [
    {
     "data": {
      "text/plain": [
       "[0, 1, 2, 3, 4, 5, 6, 7, 8, 9]"
      ]
     },
     "execution_count": 17,
     "metadata": {},
     "output_type": "execute_result"
    }
   ],
   "source": [
    "b.my_list"
   ]
  },
  {
   "cell_type": "code",
   "execution_count": 18,
   "metadata": {
    "colab": {
     "base_uri": "https://localhost:8080/"
    },
    "id": "AEhFF9J37BGw",
    "outputId": "4723b950-2277-4ab3-dcd3-17600aa2837c"
   },
   "outputs": [
    {
     "ename": "NameError",
     "evalue": "name 'a' is not defined",
     "output_type": "error",
     "traceback": [
      "\u001b[0;31m---------------------------------------------------------------------------\u001b[0m",
      "\u001b[0;31mNameError\u001b[0m                                 Traceback (most recent call last)",
      "Cell \u001b[0;32mIn[18], line 1\u001b[0m\n\u001b[0;32m----> 1\u001b[0m a\n",
      "\u001b[0;31mNameError\u001b[0m: name 'a' is not defined"
     ]
    }
   ],
   "source": [
    "a"
   ]
  },
  {
   "cell_type": "code",
   "execution_count": 19,
   "metadata": {
    "colab": {
     "base_uri": "https://localhost:8080/"
    },
    "id": "YNJLz2AC7ERA",
    "outputId": "0715ad00-d46b-43df-f3fd-4177ab89c46b"
   },
   "outputs": [
    {
     "data": {
      "text/plain": [
       "<__main__.NewOne at 0x74a8984dcdd0>"
      ]
     },
     "execution_count": 19,
     "metadata": {},
     "output_type": "execute_result"
    }
   ],
   "source": [
    "b"
   ]
  },
  {
   "cell_type": "code",
   "execution_count": null,
   "metadata": {},
   "outputs": [],
   "source": [
    "c = NewOne()"
   ]
  },
  {
   "cell_type": "code",
   "execution_count": 21,
   "metadata": {},
   "outputs": [
    {
     "name": "stdout",
     "output_type": "stream",
     "text": [
      "Creating instance of NewOne\n",
      "[] is created.\n",
      "Object of class NewOne is deleted\n"
     ]
    }
   ],
   "source": [
    "c = NewOne()"
   ]
  },
  {
   "cell_type": "markdown",
   "metadata": {
    "id": "fwCNqcREv3xy"
   },
   "source": [
    "# Inheritance"
   ]
  },
  {
   "cell_type": "code",
   "execution_count": 1,
   "metadata": {
    "colab": {
     "base_uri": "https://localhost:8080/"
    },
    "id": "plwu0QZ2v3xy",
    "outputId": "fa86631e-2b6c-499b-d470-913d0f6d2b70"
   },
   "outputs": [
    {
     "name": "stdout",
     "output_type": "stream",
     "text": [
      "Animal Type: Mammal\n",
      "Mammals give birth directly\n"
     ]
    }
   ],
   "source": [
    "class Animal(object):\n",
    "    def __init__(self, animal_type):\n",
    "        print('Animal Type:', animal_type)\n",
    "\n",
    "class Mammal(Animal):\n",
    "    def __init__(self):\n",
    "        # call superclass\n",
    "        super().__init__('Mammal')\n",
    "        print('Mammals give birth directly')\n",
    "\n",
    "dog = Mammal()"
   ]
  },
  {
   "cell_type": "code",
   "execution_count": 1,
   "metadata": {
    "colab": {
     "base_uri": "https://localhost:8080/"
    },
    "id": "vNotyCabv3xy",
    "outputId": "737daf0f-4aba-4b82-9198-67c43e651cb8"
   },
   "outputs": [
    {
     "name": "stdout",
     "output_type": "stream",
     "text": [
      "Dog has four legs.\n",
      "Dog is a warm-blooded animal.\n",
      "Cat has four legs.\n",
      "Cat is a warm-blooded animal\n"
     ]
    }
   ],
   "source": [
    "class Mammal:\n",
    "    def __init__(self, mammalName):\n",
    "        print(mammalName, 'is a warm-blooded animal.')\n",
    "\n",
    "class Dog(Mammal):\n",
    "    def __init__(self):\n",
    "        print('Dog has four legs.')\n",
    "        # call superclass\n",
    "        super().__init__('Dog')\n",
    "        \n",
    "class Mammal:\n",
    "    def __init__(self, mammalName):\n",
    "        print(mammalName, 'is a warm-blooded animal')\n",
    "\n",
    "class Cat(Mammal):\n",
    "    def __init__(self):\n",
    "        print('Cat has four legs.')\n",
    "        # call superclass\n",
    "        super().__init__('Cat')        \n",
    "        \n",
    "        \n",
    "d1 = Dog()\n",
    "c1 = Cat()"
   ]
  },
  {
   "cell_type": "markdown",
   "metadata": {
    "id": "DtIjG7pKv3xz"
   },
   "source": [
    "`super().__init__('Dog')` --> `Mammal.__init__(self, 'Dog')`"
   ]
  },
  {
   "cell_type": "markdown",
   "metadata": {
    "id": "UUT794lgv3xz"
   },
   "source": [
    "## Multiple inheritance"
   ]
  },
  {
   "cell_type": "code",
   "execution_count": 5,
   "metadata": {
    "colab": {
     "base_uri": "https://localhost:8080/"
    },
    "id": "uJZAUihlv3xz",
    "outputId": "52268852-5294-4fa8-f86f-430ab235b6f4"
   },
   "outputs": [
    {
     "name": "stdout",
     "output_type": "stream",
     "text": [
      "Dog has 4 legs.\n",
      "Dog can't swim.\n",
      "Dog can't fly.\n",
      "Dog is a warm-blooded animal.\n",
      "Dog is an animal.\n",
      "\n"
     ]
    }
   ],
   "source": [
    "class Animal:\n",
    "    def __init__(self, Animal):\n",
    "        print(Animal, 'is an animal.');\n",
    "\n",
    "class Mammal(Animal):\n",
    "    def __init__(self, mammalName):\n",
    "        print(mammalName, 'is a warm-blooded animal.')\n",
    "        Animal.__init__(self, mammalName)\n",
    "\n",
    "class NonWingedMammal(Mammal):\n",
    "    def __init__(self, NonWingedMammal):\n",
    "        print(NonWingedMammal, \"can't fly.\")\n",
    "        super().__init__(NonWingedMammal)\n",
    "\n",
    "class NonMarineMammal(Mammal):\n",
    "    def __init__(self, NonMarineMammal):\n",
    "        print(NonMarineMammal, \"can't swim.\")\n",
    "        super().__init__(NonMarineMammal)\n",
    "\n",
    "class Dog(NonMarineMammal, NonWingedMammal):\n",
    "    def __init__(self):\n",
    "        print('Dog has 4 legs.');\n",
    "        super().__init__('Dog')\n",
    "\n",
    "d = Dog()\n",
    "print('')"
   ]
  },
  {
   "cell_type": "code",
   "execution_count": 2,
   "metadata": {},
   "outputs": [
    {
     "name": "stdout",
     "output_type": "stream",
     "text": [
      "Dog has 4 legs.\n",
      "Dog can't swim.\n",
      "Dog is a warm-blooded animal.\n",
      "Dog is an animal.\n",
      "\n"
     ]
    }
   ],
   "source": [
    "class Animal:\n",
    "    def __init__(self, Animal):\n",
    "        print(Animal, 'is an animal.');\n",
    "\n",
    "class Mammal(Animal):\n",
    "    def __init__(self, mammalName):\n",
    "        print(mammalName, 'is a warm-blooded animal.')\n",
    "        Animal.__init__(self, mammalName)\n",
    "\n",
    "class Mammall(Animal):\n",
    "    def __init__(self, mammallName):\n",
    "        print(mammallName, 'is a warm-blooded animall.')\n",
    "        Animal.__init__(self, mammallName)        \n",
    "\n",
    "class NonWingedMammal(Mammall):\n",
    "    def __init__(self, NonWingedMammal):\n",
    "        print(NonWingedMammal, \"can't fly.\")\n",
    "        Mammall.__init__(self, NonWingedMammal)\n",
    "\n",
    "class NonMarineMammal(Mammal):\n",
    "    def __init__(self, NonMarineMammal):\n",
    "        print(NonMarineMammal, \"can't swim.\")\n",
    "        Mammal.__init__(self, NonMarineMammal)\n",
    "\n",
    "class Dog(NonMarineMammal, NonWingedMammal):\n",
    "    def __init__(self):\n",
    "        print('Dog has 4 legs.');\n",
    "        super().__init__('Dog')\n",
    "\n",
    "d1 = Dog()\n",
    "print('')"
   ]
  },
  {
   "cell_type": "code",
   "execution_count": 46,
   "metadata": {},
   "outputs": [
    {
     "name": "stdout",
     "output_type": "stream",
     "text": [
      "Dog has 4 legs.\n",
      "Dog can't swim.\n",
      "Dog is a warm-blooded animal.\n",
      "Dog can't fly.\n",
      "Dog is a warm-blooded animall.\n",
      "Dog is an animal.\n",
      "\n"
     ]
    }
   ],
   "source": [
    "class Animal:\n",
    "    def __init__(self, Animal):\n",
    "        print(Animal, 'is an animal.');\n",
    "\n",
    "class Mammal(Animal):\n",
    "    def __init__(self, mammalName):\n",
    "        print(mammalName, 'is a warm-blooded animal.')\n",
    "        super().__init__(mammalName)\n",
    "\n",
    "class Mammall(Animal):\n",
    "    def __init__(self, mammallName):\n",
    "        print(mammallName, 'is a warm-blooded animall.')\n",
    "        Animal.__init__(self, mammallName)        \n",
    "\n",
    "class NonWingedMammal(Mammall):\n",
    "    def __init__(self, NonWingedMammal):\n",
    "        print(NonWingedMammal, \"can't fly.\")\n",
    "        Mammall.__init__(self, NonWingedMammal)\n",
    "\n",
    "class NonMarineMammal(Mammal):\n",
    "    def __init__(self, NonMarineMammal):\n",
    "        print(NonMarineMammal, \"can't swim.\")\n",
    "        Mammal.__init__(self, NonMarineMammal)\n",
    "\n",
    "class Dog(NonMarineMammal, NonWingedMammal):\n",
    "    def __init__(self):\n",
    "        print('Dog has 4 legs.');\n",
    "        super().__init__('Dog')\n",
    "\n",
    "d1 = Dog()\n",
    "print('')"
   ]
  },
  {
   "cell_type": "code",
   "execution_count": 3,
   "metadata": {},
   "outputs": [
    {
     "name": "stdout",
     "output_type": "stream",
     "text": [
      "Dog has 4 legs.\n",
      "Dog can't swim.\n",
      "Dog is a warm-blooded animal.\n",
      "Dog can't fly.\n",
      "Dog is a warm-blooded animal.\n",
      "Dog is an animal.\n"
     ]
    }
   ],
   "source": [
    "class Animal:\n",
    "    def __init__(self, animal):\n",
    "        print(animal, 'is an animal.')\n",
    "\n",
    "class Mammal(Animal):\n",
    "    def __init__(self, mammalName):\n",
    "        print(mammalName, 'is a warm-blooded animal.')\n",
    "        super().__init__(mammalName)\n",
    "\n",
    "class Mammall(Animal):\n",
    "    def __init__(self, mammallName):\n",
    "        print(mammallName, 'is a warm-blooded animal.')\n",
    "        super().__init__(mammallName)\n",
    "\n",
    "class NonWingedMammal(Mammall):\n",
    "    def __init__(self, NonWingedMammalName):\n",
    "        print(NonWingedMammalName, \"can't fly.\")\n",
    "        super().__init__(NonWingedMammalName)\n",
    "\n",
    "class NonMarineMammal(Mammal):\n",
    "    def __init__(self, NonMarineMammalName):\n",
    "        print(NonMarineMammalName, \"can't swim.\")\n",
    "        super().__init__(NonMarineMammalName)\n",
    "\n",
    "class Dog(NonMarineMammal, NonWingedMammal):\n",
    "    def __init__(self):\n",
    "        print('Dog has 4 legs.')\n",
    "        super().__init__('Dog')\n",
    "\n",
    "# Testing the Dog class\n",
    "d1 = Dog()"
   ]
  },
  {
   "cell_type": "code",
   "execution_count": 4,
   "metadata": {},
   "outputs": [
    {
     "data": {
      "text/plain": [
       "[__main__.Dog,\n",
       " __main__.NonMarineMammal,\n",
       " __main__.Mammal,\n",
       " __main__.NonWingedMammal,\n",
       " __main__.Mammall,\n",
       " __main__.Animal,\n",
       " object]"
      ]
     },
     "execution_count": 4,
     "metadata": {},
     "output_type": "execute_result"
    }
   ],
   "source": [
    "Dog.mro()"
   ]
  },
  {
   "cell_type": "code",
   "execution_count": 5,
   "metadata": {},
   "outputs": [
    {
     "name": "stdout",
     "output_type": "stream",
     "text": [
      "Lion can't fly.\n",
      "Lion is a warm-blooded animal.\n",
      "Lion is an animal.\n"
     ]
    }
   ],
   "source": [
    "lion = NonWingedMammal('Lion')"
   ]
  },
  {
   "cell_type": "markdown",
   "metadata": {},
   "source": [
    "### Method Resolution Order (MRO)\n",
    "\n",
    "**MRO**, or **Method Resolution Order**, is the order in which Python looks for a method in a hierarchy of classes. It defines the path Python follows to search for methods or attributes when they are called. MRO is especially useful in multiple inheritance scenarios, as it ensures that methods from parent classes are called in a specific order, preventing unexpected behavior or repeated calls.\n",
    "#### Why MRO Exists\n",
    "When a class inherits from multiple classes, it’s essential to know the order in which Python will search the classes for methods or attributes. **MRO** defines this sequence, so Python knows the correct class to access and avoids calling the same class multiple times if it appears more than once in the inheritance hierarchy.\n",
    "#### How MRO Works\n",
    "Python uses a technique called **C3 Linearization** (also known as C3 superclass linearization) to compute **MRO**. This algorithm is designed to ensure a consistent, predictable order for searching classes and is implemented in new-style classes in Python (i.e., classes inheriting from `object`)."
   ]
  },
  {
   "cell_type": "code",
   "execution_count": null,
   "metadata": {},
   "outputs": [],
   "source": []
  },
  {
   "cell_type": "code",
   "execution_count": 7,
   "metadata": {},
   "outputs": [
    {
     "name": "stdout",
     "output_type": "stream",
     "text": [
      " In class B\n"
     ]
    }
   ],
   "source": [
    "class A:\n",
    "    def Loc(self):\n",
    "        print(\" In class A\")\n",
    "class B(A):\n",
    "    def Loc(self):\n",
    "        print(\" In class B\")\n",
    "class C(A):\n",
    "    def Loc(self):\n",
    "        print(\"In class C\")\n",
    "\n",
    "# classes ordering\n",
    "class D(B, C):\n",
    "    pass\n",
    "    \n",
    "r = D()\n",
    "r.Loc()"
   ]
  },
  {
   "cell_type": "code",
   "execution_count": 8,
   "metadata": {},
   "outputs": [
    {
     "data": {
      "text/plain": [
       "(__main__.D, __main__.B, __main__.C, __main__.A, object)"
      ]
     },
     "execution_count": 8,
     "metadata": {},
     "output_type": "execute_result"
    }
   ],
   "source": [
    "D.__mro__"
   ]
  },
  {
   "cell_type": "code",
   "execution_count": 9,
   "metadata": {},
   "outputs": [
    {
     "name": "stdout",
     "output_type": "stream",
     "text": [
      "(<class '__main__.Dog'>, <class '__main__.NonMarineMammal'>, <class '__main__.Mammal'>, <class '__main__.NonWingedMammal'>, <class '__main__.Mammall'>, <class '__main__.Animal'>, <class 'object'>)\n"
     ]
    },
    {
     "data": {
      "text/plain": [
       "[__main__.Dog,\n",
       " __main__.NonMarineMammal,\n",
       " __main__.Mammal,\n",
       " __main__.NonWingedMammal,\n",
       " __main__.Mammall,\n",
       " __main__.Animal,\n",
       " object]"
      ]
     },
     "execution_count": 9,
     "metadata": {},
     "output_type": "execute_result"
    }
   ],
   "source": [
    "print(Dog.__mro__)\n",
    "\n",
    "Dog.mro()"
   ]
  },
  {
   "cell_type": "markdown",
   "metadata": {},
   "source": [
    "## Encapsulation"
   ]
  },
  {
   "cell_type": "markdown",
   "metadata": {},
   "source": [
    "What is Encapsulation?\n",
    "Encapsulation is the process of preventing clients from accessing certain properties, which can only be accessed through specific methods.\n",
    "\n",
    "Protected members are those members of the class that cannot be accessed outside the class but can be accessed from within the class and its subclasses. To accomplish this in Python, just follow the convention by prefixing the name of the member by a single underscore “_”.\n",
    "\n",
    "Private members are similar to protected members, the difference is that the class members declared private should neither be accessed outside the class nor by any base class. To define a private member prefix the member name with double underscore “__”."
   ]
  },
  {
   "cell_type": "code",
   "execution_count": 1,
   "metadata": {},
   "outputs": [],
   "source": [
    "class Book:\n",
    "    def __init__(self, title, quantity, author, price, discount, new_price = 0, q_of_sales = 0):\n",
    "        self.title = title\n",
    "        self.quantity = quantity\n",
    "        self.author = author\n",
    "        self.price = price\n",
    "        self.discount = discount\n",
    "        \n",
    "        #Private attribute\n",
    "        self.__new_price = new_price\n",
    "        \n",
    "        #Protected attribute\n",
    "        self._quantity_of_sales = q_of_sales\n",
    "\n",
    "    def discount__(self):\n",
    "        self.__new_price = self.price - (self.price*0.3)\n",
    "        return self.__new_price\n",
    "    \n",
    "    def get_q_of_sales(self):\n",
    "        return self._quantity_of_sales\n",
    "\n",
    "    def __repr__(self):\n",
    "        return f\"Book: {self.title}, Quantity: {self.quantity}, Author: {self.author}, Price: {self.price}, Discount: {self.discount__()}, Quantity of sales: {self._quantity_of_sales}\""
   ]
  },
  {
   "cell_type": "code",
   "execution_count": 2,
   "metadata": {},
   "outputs": [
    {
     "name": "stdout",
     "output_type": "stream",
     "text": [
      "Book 1\n",
      "12\n",
      "Author 1\n",
      "120\n",
      "84.0\n"
     ]
    },
    {
     "data": {
      "text/plain": [
       "'Book: Book 1, Quantity: 12, Author: Author 1, Price: 120, Discount: 84.0, Quantity of sales: 0'"
      ]
     },
     "execution_count": 2,
     "metadata": {},
     "output_type": "execute_result"
    }
   ],
   "source": [
    "book1 = Book('Book 1', 12, 'Author 1', 120, 30)\n",
    "\n",
    "print(book1.title)\n",
    "print(book1.quantity)\n",
    "print(book1.author)\n",
    "print(book1.price)\n",
    "print(book1.discount__())\n",
    "book1.__repr__()"
   ]
  },
  {
   "cell_type": "code",
   "execution_count": 3,
   "metadata": {},
   "outputs": [
    {
     "ename": "AttributeError",
     "evalue": "'Book' object has no attribute '__new_price'",
     "output_type": "error",
     "traceback": [
      "\u001b[0;31m---------------------------------------------------------------------------\u001b[0m",
      "\u001b[0;31mAttributeError\u001b[0m                            Traceback (most recent call last)",
      "Cell \u001b[0;32mIn[3], line 1\u001b[0m\n\u001b[0;32m----> 1\u001b[0m book1\u001b[38;5;241m.\u001b[39m__new_price\n",
      "\u001b[0;31mAttributeError\u001b[0m: 'Book' object has no attribute '__new_price'"
     ]
    }
   ],
   "source": [
    "book1.__new_price"
   ]
  },
  {
   "cell_type": "code",
   "execution_count": 4,
   "metadata": {},
   "outputs": [
    {
     "data": {
      "text/plain": [
       "5"
      ]
     },
     "execution_count": 4,
     "metadata": {},
     "output_type": "execute_result"
    }
   ],
   "source": [
    "book1._quantity_of_sales=5\n",
    "book1._quantity_of_sales"
   ]
  },
  {
   "cell_type": "code",
   "execution_count": 5,
   "metadata": {},
   "outputs": [
    {
     "data": {
      "text/plain": [
       "['_Book__new_price',\n",
       " '__class__',\n",
       " '__delattr__',\n",
       " '__dict__',\n",
       " '__dir__',\n",
       " '__doc__',\n",
       " '__eq__',\n",
       " '__format__',\n",
       " '__ge__',\n",
       " '__getattribute__',\n",
       " '__getstate__',\n",
       " '__gt__',\n",
       " '__hash__',\n",
       " '__init__',\n",
       " '__init_subclass__',\n",
       " '__le__',\n",
       " '__lt__',\n",
       " '__module__',\n",
       " '__ne__',\n",
       " '__new__',\n",
       " '__reduce__',\n",
       " '__reduce_ex__',\n",
       " '__repr__',\n",
       " '__setattr__',\n",
       " '__sizeof__',\n",
       " '__str__',\n",
       " '__subclasshook__',\n",
       " '__weakref__',\n",
       " '_quantity_of_sales',\n",
       " 'author',\n",
       " 'discount',\n",
       " 'discount__',\n",
       " 'get_q_of_sales',\n",
       " 'price',\n",
       " 'quantity',\n",
       " 'title']"
      ]
     },
     "execution_count": 5,
     "metadata": {},
     "output_type": "execute_result"
    }
   ],
   "source": [
    "dir(book1)"
   ]
  },
  {
   "cell_type": "code",
   "execution_count": 6,
   "metadata": {},
   "outputs": [
    {
     "data": {
      "text/plain": [
       "84.0"
      ]
     },
     "execution_count": 6,
     "metadata": {},
     "output_type": "execute_result"
    }
   ],
   "source": [
    "book1._Book__new_price"
   ]
  },
  {
   "cell_type": "markdown",
   "metadata": {
    "id": "D0ldsfVev3xz"
   },
   "source": [
    "# Polymorphism"
   ]
  },
  {
   "cell_type": "markdown",
   "metadata": {
    "id": "bNiFWpBTv3x0"
   },
   "source": [
    "The term 'polymorphism' comes from the Greek language and means 'something that takes on multiple forms.'\n",
    "\n",
    "Polymorphism refers to a subclass's ability to adapt a method that already exists in its superclass to meet its needs. To put it another way, a subclass can use a method from its superclass as is or modify it as needed."
   ]
  },
  {
   "cell_type": "code",
   "execution_count": 7,
   "metadata": {
    "id": "WfUO5UHkv3x0"
   },
   "outputs": [],
   "source": [
    "class Book:\n",
    "    def __init__(self, title, quantity, author, price):\n",
    "        self.title = title\n",
    "        self.quantity = quantity\n",
    "        self.author = author\n",
    "        self.__price = price\n",
    "        self.__discount = None\n",
    "\n",
    "    def set_discount(self, discount):\n",
    "        self.__discount = discount\n",
    "\n",
    "    def get_price(self):\n",
    "        if self.__discount:\n",
    "            return self.__price * (1-self.__discount)\n",
    "        return self.__price\n",
    "\n",
    "    def __repr__(self):\n",
    "        return f\"Book: {self.title}, Quantity: {self.quantity}, Author: {self.author}, Price: {self.get_price()}\"\n",
    "\n",
    "\n",
    "class Novel(Book):\n",
    "    def __init__(self, title, quantity, author, price, pages):\n",
    "        super().__init__(title, quantity, author, price)\n",
    "        self.pages = pages\n",
    "\n",
    "\n",
    "class Academic(Book):\n",
    "    def __init__(self, title, quantity, author, price, branch):\n",
    "        super().__init__(title, quantity, author, price)\n",
    "        self.branch = branch"
   ]
  },
  {
   "cell_type": "code",
   "execution_count": 8,
   "metadata": {
    "colab": {
     "base_uri": "https://localhost:8080/"
    },
    "id": "hGmYxOzev3x0",
    "outputId": "ba60fb86-9ad9-4c3d-91c4-16fdd04ebc04"
   },
   "outputs": [
    {
     "name": "stdout",
     "output_type": "stream",
     "text": [
      "Book: Dunenin dunyasi, Quantity: 20, Author: Stephan Zweig, Price: 160.0\n"
     ]
    }
   ],
   "source": [
    "novel1 = Novel('Dunenin dunyasi', 20, 'Stephan Zweig', 200, 187)\n",
    "novel1.set_discount(0.20)\n",
    "print(novel1)"
   ]
  },
  {
   "cell_type": "code",
   "execution_count": 9,
   "metadata": {},
   "outputs": [
    {
     "name": "stdout",
     "output_type": "stream",
     "text": [
      "Book: Python Foundations, Quantity: 12, Author: PSF, Price: 655\n"
     ]
    }
   ],
   "source": [
    "academic1 = Academic('Python Foundations', 12, 'PSF', 655, 'IT')\n",
    "print(academic1)"
   ]
  },
  {
   "cell_type": "code",
   "execution_count": 10,
   "metadata": {
    "id": "sFmSU5xGv3x0"
   },
   "outputs": [],
   "source": [
    "class Academic(Book):\n",
    "    def __init__(self, title, quantity, author, price, branch):\n",
    "        super().__init__(title, quantity, author, price)\n",
    "        self.branch = branch\n",
    "\n",
    "    def __repr__(self):\n",
    "        return f\"Book: {self.title}, Branch: {self.branch}, Quantity: {self.quantity}, Author: {self.author}, Price: {self.get_price()}\""
   ]
  },
  {
   "cell_type": "code",
   "execution_count": 12,
   "metadata": {
    "colab": {
     "base_uri": "https://localhost:8080/"
    },
    "id": "YM7YZpUnv3x0",
    "outputId": "0d2af181-603a-4aa7-d350-9453c21adc72"
   },
   "outputs": [
    {
     "name": "stdout",
     "output_type": "stream",
     "text": [
      "Book: Python Foundations, Branch: IT, Quantity: 12, Author: PSF, Price: 655\n"
     ]
    }
   ],
   "source": [
    "academic1 = Academic('Python Foundations', 12, 'PSF', 655, 'IT')\n",
    "print(academic1)"
   ]
  },
  {
   "cell_type": "markdown",
   "metadata": {
    "id": "weQPSZdFv3x1"
   },
   "source": [
    "# Abstraction"
   ]
  },
  {
   "cell_type": "markdown",
   "metadata": {
    "id": "eL-UmGpnv3x1"
   },
   "source": [
    "Abstraction in Python, as well as in object-oriented programming in general, refers to the concept of hiding complex implementation details and showing only the essential features of an object. It allows you to focus on the high-level functionality of an object without needing to understand its internal complexity.\n",
    "\n",
    "In Python classes, abstraction is achieved by defining abstract methods and abstract base classes. Here's how it works:\n",
    "\n",
    "**Abstract Methods**: An abstract method is a method declared in a base class (also known as an abstract base class) that is meant to be overridden by its subclasses. Abstract methods are defined using the @abstractmethod decorator. Subclasses are required to provide a concrete implementation for these methods.\n",
    "\n",
    "**Abstract Base Classes (ABCs)**: An abstract base class is a class that cannot be instantiated and is used to define a common interface for its subclasses. It provides a way to define abstract methods that must be implemented by subclasses. Python's abc module provides tools for creating and working with abstract base classes."
   ]
  },
  {
   "cell_type": "code",
   "execution_count": 13,
   "metadata": {},
   "outputs": [
    {
     "name": "stdout",
     "output_type": "stream",
     "text": [
      "Circle area: 78.53975\n",
      "Square area: 16\n"
     ]
    }
   ],
   "source": [
    "from abc import ABC, abstractmethod\n",
    "\n",
    "class Shape(ABC):\n",
    "    @abstractmethod\n",
    "    def area(self):\n",
    "        pass\n",
    "\n",
    "class Circle(Shape):\n",
    "    def __init__(self, radius):\n",
    "        self.radius = radius\n",
    "\n",
    "    def area(self):\n",
    "        return 3.14159 * self.radius ** 2\n",
    "\n",
    "class Square(Shape):\n",
    "    def __init__(self, side):\n",
    "        self.side = side\n",
    "\n",
    "    def area(self):\n",
    "        return self.side ** 2\n",
    "\n",
    "# You can't create an instance of an abstract base class\n",
    "# shape = Shape()  # This would raise an error\n",
    "\n",
    "circle = Circle(5)\n",
    "square = Square(4)\n",
    "\n",
    "print(\"Circle area:\", circle.area())  # Output: Circle area: 78.53975\n",
    "print(\"Square area:\", square.area())  # Output: Square area: 16"
   ]
  },
  {
   "cell_type": "markdown",
   "metadata": {},
   "source": [
    "In our parent class Book, we have defined the __repr__ method. Let's make that method abstract, forcing every subclass to compulsorily have its own __repr__ method."
   ]
  },
  {
   "cell_type": "code",
   "execution_count": 1,
   "metadata": {
    "id": "xtY1Hyhpv3x1"
   },
   "outputs": [],
   "source": [
    "from abc import ABC, abstractmethod\n",
    "\n",
    "class Book(ABC):\n",
    "    def __init__(self, title, quantity, author, price):\n",
    "        self.title = title\n",
    "        self.quantity = quantity\n",
    "        self.author = author\n",
    "        self.__price = price\n",
    "        self.__discount = None\n",
    "\n",
    "    def set_discount(self, discount):\n",
    "        self.__discount = discount\n",
    "\n",
    "\n",
    "    def get_price(self):\n",
    "        if self.__discount:\n",
    "            return self.__price * (1-self.__discount)\n",
    "        return self.__price\n",
    "\n",
    "    @abstractmethod\n",
    "    def __repr__(self):\n",
    "        pass\n",
    "\n",
    "class Novel(Book):\n",
    "    def __init__(self, title, quantity, author, price, pages):\n",
    "        super().__init__(title, quantity, author, price)\n",
    "        self.pages = pages\n",
    "    \n",
    "#     def __repr__(self):\n",
    "#         return f\"Book: {self.title}, Quantity: {self.quantity}, Author: {self.author}, Price: {self.get_price()}\"\n",
    "\n",
    "\n",
    "class Academic(Book):\n",
    "    def __init__(self, title, quantity, author, price, branch):\n",
    "        super().__init__(title, quantity, author, price)\n",
    "        self.branch = branch\n",
    "\n",
    "    def __repr__(self):\n",
    "        return f\"Book: {self.title}, Branch: {self.branch}, Quantity: {self.quantity}, Author: {self.author}, Price: {self.get_price()}\""
   ]
  },
  {
   "cell_type": "code",
   "execution_count": 16,
   "metadata": {},
   "outputs": [
    {
     "ename": "TypeError",
     "evalue": "Can't instantiate abstract class Novel with abstract method __repr__",
     "output_type": "error",
     "traceback": [
      "\u001b[0;31m---------------------------------------------------------------------------\u001b[0m",
      "\u001b[0;31mTypeError\u001b[0m                                 Traceback (most recent call last)",
      "Cell \u001b[0;32mIn[16], line 1\u001b[0m\n\u001b[0;32m----> 1\u001b[0m novel1 \u001b[38;5;241m=\u001b[39m Novel(\u001b[38;5;124m'\u001b[39m\u001b[38;5;124mDunenin dunyasi\u001b[39m\u001b[38;5;124m'\u001b[39m, \u001b[38;5;241m20\u001b[39m, \u001b[38;5;124m'\u001b[39m\u001b[38;5;124mStephan Zweig\u001b[39m\u001b[38;5;124m'\u001b[39m, \u001b[38;5;241m200\u001b[39m, \u001b[38;5;241m187\u001b[39m)\n\u001b[1;32m      2\u001b[0m novel1\u001b[38;5;241m.\u001b[39mset_discount(\u001b[38;5;241m0.20\u001b[39m)\n\u001b[1;32m      3\u001b[0m \u001b[38;5;28mprint\u001b[39m(novel1)\n",
      "\u001b[0;31mTypeError\u001b[0m: Can't instantiate abstract class Novel with abstract method __repr__"
     ]
    }
   ],
   "source": [
    "novel1 = Novel('Dunenin dunyasi', 20, 'Stephan Zweig', 200, 187)\n",
    "novel1.set_discount(0.20)\n",
    "print(novel1)"
   ]
  },
  {
   "cell_type": "code",
   "execution_count": 17,
   "metadata": {
    "id": "Fqcd_k6Nv3x1"
   },
   "outputs": [],
   "source": [
    "class Novel(Book):\n",
    "    def __init__(self, title, quantity, author, price, pages):\n",
    "        super().__init__(title, quantity, author, price)\n",
    "        self.pages = pages\n",
    "\n",
    "    def __repr__(self):\n",
    "        return f\"Book: {self.title}, Quantity: {self.quantity}, Author: {self.author}, Price: {self.get_price()}\""
   ]
  },
  {
   "cell_type": "code",
   "execution_count": 18,
   "metadata": {
    "colab": {
     "base_uri": "https://localhost:8080/"
    },
    "id": "SZAB0xoCv3x2",
    "outputId": "ba836da7-f778-49bc-b590-ac0a64c3df79"
   },
   "outputs": [
    {
     "name": "stdout",
     "output_type": "stream",
     "text": [
      "Book: Dunenin dunyasi, Quantity: 20, Author: Stephan Zweig, Price: 160.0\n"
     ]
    }
   ],
   "source": [
    "novel1 = Novel('Dunenin dunyasi', 20, 'Stephan Zweig', 200, 187)\n",
    "novel1.set_discount(0.20)\n",
    "print(novel1)"
   ]
  },
  {
   "cell_type": "markdown",
   "metadata": {},
   "source": [
    "#### __str__ vs __repr__"
   ]
  },
  {
   "cell_type": "code",
   "execution_count": 19,
   "metadata": {},
   "outputs": [
    {
     "name": "stdout",
     "output_type": "stream",
     "text": [
      "Using str: 2024-10-29 20:11:11.893124\n",
      "Using repr: datetime.datetime(2024, 10, 29, 20, 11, 11, 893124)\n"
     ]
    }
   ],
   "source": [
    "#lets import the datetime module\n",
    "import datetime\n",
    "\n",
    "#lets get the current date and time\n",
    "now = datetime.datetime.now()\n",
    "print('Using str: ' + now.__str__())\n",
    "print('Using repr: ' + now.__repr__())"
   ]
  },
  {
   "cell_type": "code",
   "execution_count": 20,
   "metadata": {},
   "outputs": [
    {
     "name": "stdout",
     "output_type": "stream",
     "text": [
      "Using str: 2024-10-29 20:11:11.893124\n"
     ]
    }
   ],
   "source": [
    "class dt:\n",
    "    now = datetime.datetime.now()\n",
    "\n",
    "    def __repr__(self):\n",
    "        return f\"Using repr: {now}\"\n",
    "    \n",
    "    def __str__(self):\n",
    "        return f\"Using str: {now}\"\n",
    "\n",
    "d = dt()\n",
    "print(d)"
   ]
  },
  {
   "cell_type": "markdown",
   "metadata": {
    "id": "JSARGUXEv3x2"
   },
   "source": [
    "## Modules"
   ]
  },
  {
   "cell_type": "markdown",
   "metadata": {
    "id": "MurImaVjv3x2"
   },
   "source": [
    "One of the most important concepts in good programming is to reuse code and avoid repetitions.\n",
    "\n",
    "The idea is to write functions and classes with a well-defined purpose and scope, and reuse these instead of repeating similar code in different part of a program (modular programming). The result is usually that readability and maintainability of a program is greatly improved. What this means in practice is that our programs have fewer bugs, are easier to extend and debug/troubleshoot.\n",
    "\n",
    "Python supports modular programming at different levels. Functions and classes are examples of tools for low-level modular programming. Python modules are a higher-level modular programming construct, where we can collect related variables, functions and classes in a module. A python module is defined in a python file (with file-ending `.py`), and it can be made accessible to other Python modules and programs using the `import` statement.\n",
    "\n",
    "Consider the following example: the file `mymodule.py` contains simple example implementations of a variable, function and a class:"
   ]
  },
  {
   "cell_type": "code",
   "execution_count": 21,
   "metadata": {
    "colab": {
     "base_uri": "https://localhost:8080/"
    },
    "id": "h9rTsFfEv3x2",
    "outputId": "dfff6569-a687-45d8-9a22-a40a6cd15dda"
   },
   "outputs": [
    {
     "name": "stdout",
     "output_type": "stream",
     "text": [
      "Overwriting mymodule.py\n"
     ]
    }
   ],
   "source": [
    "%%file mymodule.py\n",
    "\"\"\"\n",
    "Example of a python module. Contains a variable called my_variable,\n",
    "a function called my_function, and a class called MyClass.\n",
    "\n",
    "\"\"\"\n",
    "\n",
    "my_variable = 0\n",
    "my = 1\n",
    "\n",
    "def my_function():\n",
    "    \"\"\"\n",
    "    Example function\n",
    "    \"\"\"\n",
    "    return my_variable\n",
    "\n",
    "class MyClass:\n",
    "    \"\"\"\n",
    "    Example class.\n",
    "    \"\"\"\n",
    "\n",
    "    def __init__(self):\n",
    "        self.variable = my_variable\n",
    "\n",
    "    def set_variable(self, new_value):\n",
    "        \"\"\"\n",
    "        Set self.variable to a new value\n",
    "        \"\"\"\n",
    "        self.variable = new_value\n",
    "\n",
    "    def get_variable(self):\n",
    "        return self.variable"
   ]
  },
  {
   "cell_type": "markdown",
   "metadata": {
    "id": "nLD-rJ3ov3x2"
   },
   "source": [
    "We can import the module `mymodule` into our Python program using `import`:"
   ]
  },
  {
   "cell_type": "code",
   "execution_count": 22,
   "metadata": {
    "id": "4G2ZROuksU24"
   },
   "outputs": [],
   "source": [
    "import mymodule"
   ]
  },
  {
   "cell_type": "code",
   "execution_count": 23,
   "metadata": {
    "id": "F9fq3HZFv3x3"
   },
   "outputs": [],
   "source": [
    "from mymodule import my_function"
   ]
  },
  {
   "cell_type": "code",
   "execution_count": 24,
   "metadata": {
    "colab": {
     "base_uri": "https://localhost:8080/"
    },
    "id": "qPkn19AXv3x3",
    "outputId": "ba53b452-7638-4f62-86f8-00759f155b14"
   },
   "outputs": [
    {
     "data": {
      "text/plain": [
       "0"
      ]
     },
     "execution_count": 24,
     "metadata": {},
     "output_type": "execute_result"
    }
   ],
   "source": [
    "mymodule.my_variable"
   ]
  },
  {
   "cell_type": "code",
   "execution_count": 25,
   "metadata": {},
   "outputs": [
    {
     "data": {
      "text/plain": [
       "1"
      ]
     },
     "execution_count": 25,
     "metadata": {},
     "output_type": "execute_result"
    }
   ],
   "source": [
    "mymodule.my"
   ]
  },
  {
   "cell_type": "code",
   "execution_count": 26,
   "metadata": {
    "colab": {
     "base_uri": "https://localhost:8080/"
    },
    "id": "q0vszmqGv3x3",
    "outputId": "93a96597-a8af-4487-ba2c-f16cb0877f8b"
   },
   "outputs": [
    {
     "data": {
      "text/plain": [
       "0"
      ]
     },
     "execution_count": 26,
     "metadata": {},
     "output_type": "execute_result"
    }
   ],
   "source": [
    "mymodule.my_function()"
   ]
  },
  {
   "cell_type": "code",
   "execution_count": 27,
   "metadata": {
    "id": "_JBlAjgWHwF2"
   },
   "outputs": [],
   "source": [
    "from mymodule import MyClass"
   ]
  },
  {
   "cell_type": "code",
   "execution_count": 28,
   "metadata": {
    "colab": {
     "base_uri": "https://localhost:8080/"
    },
    "id": "yug_PzySv3x3",
    "outputId": "9407e6e3-d176-4799-93df-fff1909eacaf"
   },
   "outputs": [
    {
     "data": {
      "text/plain": [
       "30"
      ]
     },
     "execution_count": 28,
     "metadata": {},
     "output_type": "execute_result"
    }
   ],
   "source": [
    "my_class = MyClass()\n",
    "my_class.set_variable(30)\n",
    "my_class.get_variable()"
   ]
  },
  {
   "cell_type": "code",
   "execution_count": 1,
   "metadata": {},
   "outputs": [
    {
     "name": "stdout",
     "output_type": "stream",
     "text": [
      "Device: SmartDevice, Phone: iPhone, Camera: 12MP\n"
     ]
    }
   ],
   "source": [
    "class Device:\n",
    "    def __init__(self, device):\n",
    "        self.device = device\n",
    "\n",
    "class Phone(Device):\n",
    "    def __init__(self, device, phone):\n",
    "        Device.__init__(self, device)\n",
    "        self.phone = phone\n",
    "\n",
    "class Camera(Device):\n",
    "    def __init__(self, device, camera):\n",
    "        Device.__init__(self, device)\n",
    "        self.camera = camera\n",
    "\n",
    "class SmartPhone(Phone, Camera):\n",
    "    def __init__(self, device, phone, camera):\n",
    "        Phone.__init__(self, device, phone)\n",
    "        Camera.__init__(self, device, camera)\n",
    "\n",
    "    def val(self):\n",
    "        return f'Device: {self.device}, Phone: {self.phone}, Camera: {self.camera}'\n",
    "\n",
    "Smart = SmartPhone('SmartDevice', 'iPhone', '12MP')\n",
    "print(Smart.val())"
   ]
  },
  {
   "cell_type": "code",
   "execution_count": 2,
   "metadata": {},
   "outputs": [
    {
     "name": "stdout",
     "output_type": "stream",
     "text": [
      "Car engine started.\n",
      "Car engine status: on\n",
      "Bike engine started.\n",
      "Electric car is now running silently.\n",
      "\n",
      "MRO of ElectricCar:\n",
      "<class '__main__.ElectricCar'>\n",
      "<class '__main__.Car'>\n",
      "<class '__main__.Vehicle'>\n",
      "<class 'abc.ABC'>\n",
      "<class 'object'>\n"
     ]
    }
   ],
   "source": [
    "from abc import ABC, abstractmethod\n",
    "\n",
    "class Vehicle(ABC):\n",
    "    @abstractmethod\n",
    "    def start(self):\n",
    "        pass\n",
    "\n",
    "class Car(Vehicle):\n",
    "    def __init__(self):\n",
    "        self.__engine_status = \"off\"  \n",
    "\n",
    "    def start(self):\n",
    "        self.__engine_status = \"on\"\n",
    "        print(\"Car engine started.\")\n",
    "\n",
    "    def get_engine_status(self):\n",
    "        return self.__engine_status\n",
    "\n",
    "class Bike(Vehicle):\n",
    "    def start(self):\n",
    "        print(\"Bike engine started.\")\n",
    "\n",
    "class ElectricCar(Car, Vehicle):\n",
    "    def start(self):\n",
    "        print(\"Electric car is now running silently.\")\n",
    "\n",
    "car = Car()\n",
    "bike = Bike()\n",
    "e_car = ElectricCar()\n",
    "\n",
    "car.start()\n",
    "print(\"Car engine status:\", car.get_engine_status())\n",
    "\n",
    "bike.start()\n",
    "e_car.start()\n",
    "\n",
    "print(\"\\nMRO of ElectricCar:\")\n",
    "for cls in ElectricCar.__mro__:\n",
    "    print(cls)\n"
   ]
  },
  {
   "cell_type": "code",
   "execution_count": null,
   "metadata": {},
   "outputs": [],
   "source": []
  }
 ],
 "metadata": {
  "colab": {
   "provenance": []
  },
  "kernelspec": {
   "display_name": "Python [conda env:base] *",
   "language": "python",
   "name": "conda-base-py"
  },
  "language_info": {
   "codemirror_mode": {
    "name": "ipython",
    "version": 3
   },
   "file_extension": ".py",
   "mimetype": "text/x-python",
   "name": "python",
   "nbconvert_exporter": "python",
   "pygments_lexer": "ipython3",
   "version": "3.12.7"
  }
 },
 "nbformat": 4,
 "nbformat_minor": 4
}
