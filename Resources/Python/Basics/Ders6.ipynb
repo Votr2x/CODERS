{
 "cells": [
  {
   "cell_type": "markdown",
   "metadata": {},
   "source": [
    "# Functional programming\n",
    "\n",
    "**Functional programming** is a programming paradigm in which code is structured primarily in the form of functions. The origins of this programming style arise from a branch of mathematics known as lambda calculus, which is the study of functions and their mathematical properties. In contrast to the popular object-oriented and procedural approaches, functional programming offers a different way of thinking when solving a problem."
   ]
  },
  {
   "cell_type": "markdown",
   "metadata": {},
   "source": [
    "##### **Functional vs. object-oriented programming**\n",
    "\n",
    "In object-oriented programming (OOP), you structure your code based on the concept of objects. In commonly used OOP languages (such as Java or C#), we create a template for an object using the keyword class, and we instantiate an object by using the keyword new. These objects contain fields that store data and methods that manipulate data. In this style, an object can be passed as an argument in the function of another object.\n",
    "\n",
    "In functional programming, you create a solution by structuring code mainly using functions. Functions are “first-class citizens” in this paradigm, meaning we can use them to store and manipulate data (with limitations). Similar to objects in object-oriented programming, in functional programming, functions can be passed in as arguments to other functions and can be returned by other functions.\n",
    "\n"
   ]
  },
  {
   "cell_type": "markdown",
   "metadata": {},
   "source": [
    "**Imperative vs. declarative programming**"
   ]
  },
  {
   "cell_type": "code",
   "execution_count": 1,
   "metadata": {},
   "outputs": [
    {
     "data": {
      "text/plain": [
       "[1, 2, 3, 4, 5, 7, 8, 9, 10, 12, 14]"
      ]
     },
     "execution_count": 1,
     "metadata": {},
     "output_type": "execute_result"
    }
   ],
   "source": [
    "#Sorting in imperative programming\n",
    "\n",
    "lst = [8, 4, 14, 9, 12, 5, 7, 1, 10, 2, 3]\n",
    "\n",
    "# Sort using Selection Sort algorithm\n",
    "for i in range(len(lst)):\n",
    "    min_idx = i\n",
    "    for j in range(i+1, len(lst)):\n",
    "        min_idx = j if lst[j] < lst[min_idx] else min_idx\n",
    "    temp = lst[i]\n",
    "    lst[i] = lst[min_idx]\n",
    "    lst[min_idx] = temp\n",
    "\n",
    "lst"
   ]
  },
  {
   "cell_type": "code",
   "execution_count": 2,
   "metadata": {},
   "outputs": [
    {
     "data": {
      "text/plain": [
       "[1, 2, 3, 4, 5, 7, 8, 9, 10, 12, 14]"
      ]
     },
     "execution_count": 2,
     "metadata": {},
     "output_type": "execute_result"
    }
   ],
   "source": [
    "#Sorting in declarative programming\n",
    "list.sort(lst)\n",
    "lst"
   ]
  },
  {
   "cell_type": "code",
   "execution_count": 2,
   "metadata": {},
   "outputs": [],
   "source": [
    "def add(x, y):\n",
    "    return x + y\n",
    "\n",
    "def sub(x, y):\n",
    "    return x - y\n",
    "\n",
    "def times3(a, b, function):\n",
    "    return 3 * function(a, b)\n",
    "\n",
    "add_then_times3 = times3(2, 4, add) # 18\n",
    "sub_then_times3 = times3(2, 4, sub) # -6"
   ]
  },
  {
   "cell_type": "code",
   "execution_count": 3,
   "metadata": {},
   "outputs": [
    {
     "data": {
      "text/plain": [
       "18"
      ]
     },
     "execution_count": 3,
     "metadata": {},
     "output_type": "execute_result"
    }
   ],
   "source": [
    "add_then_times3"
   ]
  },
  {
   "cell_type": "code",
   "execution_count": 4,
   "metadata": {},
   "outputs": [
    {
     "data": {
      "text/plain": [
       "-6"
      ]
     },
     "execution_count": 4,
     "metadata": {},
     "output_type": "execute_result"
    }
   ],
   "source": [
    "sub_then_times3"
   ]
  },
  {
   "cell_type": "code",
   "execution_count": 5,
   "metadata": {},
   "outputs": [
    {
     "data": {
      "text/plain": [
       "18"
      ]
     },
     "execution_count": 5,
     "metadata": {},
     "output_type": "execute_result"
    }
   ],
   "source": [
    "def times3(a, b, function):\n",
    "    return 3 * function(a, b)\n",
    "\n",
    "add_then_times3 = times3(2, 4, lambda x, y: x + y) # 18\n",
    "sub_then_times3 = times3(2, 4, lambda x, y: x - y) # -6\n",
    "add_then_times3"
   ]
  },
  {
   "cell_type": "markdown",
   "metadata": {},
   "source": [
    "## Code complexity\n",
    "\n",
    "Computational complexity is a field from computer science which analyzes algorithms based on the amount resources required for running it. The amount of required resources varies based on the input size, so the complexity is generally expressed as a function of n, where n is the size of the input.\n",
    "\n",
    "It is important to note that when analyzing an algorithm we can consider the **time complexity** and **space complexity**."
   ]
  },
  {
   "cell_type": "code",
   "execution_count": 6,
   "metadata": {},
   "outputs": [
    {
     "name": "stdout",
     "output_type": "stream",
     "text": [
      "square 9\n",
      "square 9\n",
      "square 9\n",
      "triangle 64\n",
      "triangle 64\n",
      "triangle 64\n",
      "triangle 64\n"
     ]
    }
   ],
   "source": [
    "#function I is far more complicated than function II.\n",
    "\n",
    "#I\n",
    "def printA(a, b):\n",
    "    print(f\"time:xxxx, {a}, {b}\")\n",
    "#II\n",
    "def printB(a, b):\n",
    "    for i in range(a):\n",
    "        if a> 2:\n",
    "            print(f\"square {a**2}\")\n",
    "    for j in range(b):\n",
    "        if b > 3:\n",
    "            print(f\"triangle {b**3}\")\n",
    "\n",
    "printB(3,4)"
   ]
  },
  {
   "cell_type": "code",
   "execution_count": 7,
   "metadata": {},
   "outputs": [
    {
     "name": "stdout",
     "output_type": "stream",
     "text": [
      "time:xxxx, 2, 4\n"
     ]
    }
   ],
   "source": [
    "printA(2,4)"
   ]
  },
  {
   "cell_type": "markdown",
   "metadata": {
    "id": "mvphFliLVkQl"
   },
   "source": [
    "### Time complexity\n",
    "\n",
    "In computer science, the time complexity is the computational complexity that describes the amount of time it takes to run an algorithm. When analyzing the time complexity of an algorithm we may find three cases: best-case, average-case and worst-case.\n",
    "\n",
    "- best-case: this is the complexity of solving the problem for the best input.\n",
    "- average-case: this is the average complexity of solving the problem. \n",
    "- worst-case: this is the complexity of solving the problem for the worst input of size n."
   ]
  },
  {
   "cell_type": "markdown",
   "metadata": {},
   "source": [
    "Unsorted list\n",
    "\n",
    "L = [1, 5, 3, 9, 2, 4, 6, 7, 8]\n",
    "\n",
    "Use linear search to find element in the list\n",
    "\n",
    "- best-case = 1\n",
    "- average-case = 2\n",
    "- worst-case = 8"
   ]
  },
  {
   "cell_type": "markdown",
   "metadata": {},
   "source": [
    "#### Big O notation\n",
    "\n",
    "Big O notation is a way to describe the time complexity (and, to some extent, the space complexity) of an algorithm in computer science. It provides an upper bound on the growth rate of the time (or space) complexity in the worst-case scenario, as the size of the input data increases.\n",
    "\n",
    "The notation is expressed as O(f(n)), where f(n) represents the function that describes the upper bound of the algorithm's growth rate, and n represents the size of the input."
   ]
  },
  {
   "cell_type": "code",
   "execution_count": 8,
   "metadata": {
    "colab": {
     "base_uri": "https://localhost:8080/"
    },
    "executionInfo": {
     "elapsed": 6,
     "status": "ok",
     "timestamp": 1682414043131,
     "user": {
      "displayName": "Etibar Aliyev",
      "userId": "02734588617836082745"
     },
     "user_tz": 420
    },
    "id": "Hnnf0yoWVzdI",
    "outputId": "1c2fd147-bf09-413a-8106-e821f8c7854b"
   },
   "outputs": [
    {
     "name": "stdout",
     "output_type": "stream",
     "text": [
      "120\n"
     ]
    }
   ],
   "source": [
    "# Factorial calculation\n",
    "def func(n):\n",
    "    product = 1\n",
    "    for i in range(n):\n",
    "        product = product * (i+1)\n",
    "    return product\n",
    "print(func(5))"
   ]
  },
  {
   "cell_type": "code",
   "execution_count": 9,
   "metadata": {},
   "outputs": [
    {
     "name": "stdout",
     "output_type": "stream",
     "text": [
      "120\n"
     ]
    }
   ],
   "source": [
    "# Factorial calculation\n",
    "def func2(n):\n",
    "    if n == 0:\n",
    "        product = 1\n",
    "    else:\n",
    "        product= n * func2(n-1)\n",
    "    return product\n",
    "print(func2(5))"
   ]
  },
  {
   "cell_type": "code",
   "execution_count": 10,
   "metadata": {
    "colab": {
     "base_uri": "https://localhost:8080/"
    },
    "executionInfo": {
     "elapsed": 4157,
     "status": "ok",
     "timestamp": 1682414191045,
     "user": {
      "displayName": "Etibar Aliyev",
      "userId": "02734588617836082745"
     },
     "user_tz": 420
    },
    "id": "wYNboAXhVmXo",
    "outputId": "0ba63ed4-a81d-4206-843e-812cb62e5a23"
   },
   "outputs": [
    {
     "name": "stdout",
     "output_type": "stream",
     "text": [
      "1.57 µs ± 34.5 ns per loop (mean ± std. dev. of 7 runs, 1,000,000 loops each)\n"
     ]
    }
   ],
   "source": [
    "%timeit func(50)"
   ]
  },
  {
   "cell_type": "code",
   "execution_count": 11,
   "metadata": {
    "colab": {
     "base_uri": "https://localhost:8080/"
    },
    "executionInfo": {
     "elapsed": 6554,
     "status": "ok",
     "timestamp": 1682414217010,
     "user": {
      "displayName": "Etibar Aliyev",
      "userId": "02734588617836082745"
     },
     "user_tz": 420
    },
    "id": "AOLIemLAVv9d",
    "outputId": "9e6d12e3-601e-4aac-b714-509747c16953"
   },
   "outputs": [
    {
     "name": "stdout",
     "output_type": "stream",
     "text": [
      "2.45 µs ± 30.1 ns per loop (mean ± std. dev. of 7 runs, 100,000 loops each)\n"
     ]
    }
   ],
   "source": [
    "%timeit func2(50)"
   ]
  },
  {
   "cell_type": "markdown",
   "metadata": {},
   "source": [
    "**Table of common time complexities**\n",
    "\n",
    "These are the most common time complexities expressed using the Big-O notation:"
   ]
  },
  {
   "cell_type": "code",
   "execution_count": 16,
   "metadata": {
    "colab": {
     "base_uri": "https://localhost:8080/",
     "height": 969
    },
    "id": "y5SxjV2lV6su",
    "outputId": "d27a065e-e934-4dcf-cfc8-48dc70a4bec4"
   },
   "outputs": [
    {
     "data": {
      "image/png": "[encoded data removed]",
      "text/plain": [
       "<IPython.core.display.Image object>"
      ]
     },
     "metadata": {},
     "output_type": "display_data"
    }
   ],
   "source": [
    "from IPython.display import Image, display\n",
    "display(Image('code.png'))"
   ]
  },
  {
   "cell_type": "markdown",
   "metadata": {
    "id": "dFhjWPCWXcOa"
   },
   "source": [
    "Constant Complexity - O(C)\n",
    "\n",
    "The complexity of an algorithm is said to be constant if the steps required to complete the execution of an algorithm remain constant, irrespective of the number of inputs. The constant complexity is denoted by O(c) where c can be any constant number.\n",
    "\n",
    "O(c): at n=1, 1 step is taken. At n=10, 1 steps are taken."
   ]
  },
  {
   "cell_type": "code",
   "execution_count": 12,
   "metadata": {
    "colab": {
     "base_uri": "https://localhost:8080/"
    },
    "executionInfo": {
     "elapsed": 434,
     "status": "ok",
     "timestamp": 1682414719928,
     "user": {
      "displayName": "Etibar Aliyev",
      "userId": "02734588617836082745"
     },
     "user_tz": 420
    },
    "id": "OI6WXF1CXWct",
    "outputId": "7ac97674-b6a2-474c-d8c9-3b8e52845a8d"
   },
   "outputs": [],
   "source": [
    "def constant_algo(items):\n",
    "    result = items[0] * items[0]\n",
    "    return result"
   ]
  },
  {
   "cell_type": "code",
   "execution_count": 13,
   "metadata": {},
   "outputs": [
    {
     "name": "stdout",
     "output_type": "stream",
     "text": [
      "41.3 ns ± 0.0909 ns per loop (mean ± std. dev. of 7 runs, 10,000,000 loops each)\n"
     ]
    }
   ],
   "source": [
    "l1 = [4, 5, 6, 8]\n",
    "%timeit constant_algo(l1)"
   ]
  },
  {
   "cell_type": "code",
   "execution_count": 14,
   "metadata": {},
   "outputs": [
    {
     "name": "stdout",
     "output_type": "stream",
     "text": [
      "41.4 ns ± 0.271 ns per loop (mean ± std. dev. of 7 runs, 10,000,000 loops each)\n"
     ]
    }
   ],
   "source": [
    "l2= [4,5,6,3,1]\n",
    "%timeit constant_algo(l2)"
   ]
  },
  {
   "cell_type": "code",
   "execution_count": 15,
   "metadata": {
    "executionInfo": {
     "elapsed": 457,
     "status": "ok",
     "timestamp": 1682414775433,
     "user": {
      "displayName": "Etibar Aliyev",
      "userId": "02734588617836082745"
     },
     "user_tz": 420
    },
    "id": "m_WWnu7HXq8X"
   },
   "outputs": [],
   "source": [
    "import matplotlib.pyplot as plt"
   ]
  },
  {
   "cell_type": "code",
   "execution_count": 16,
   "metadata": {
    "colab": {
     "base_uri": "https://localhost:8080/",
     "height": 448
    },
    "executionInfo": {
     "elapsed": 640,
     "status": "ok",
     "timestamp": 1682414776652,
     "user": {
      "displayName": "Etibar Aliyev",
      "userId": "02734588617836082745"
     },
     "user_tz": 420
    },
    "id": "_0uXEbruXghs",
    "outputId": "ce19dd61-b8bc-41ac-ff7c-c87ef201adc6"
   },
   "outputs": [
    {
     "data": {
      "text/plain": [
       "[<matplotlib.lines.Line2D at 0x730c970ab590>]"
      ]
     },
     "execution_count": 16,
     "metadata": {},
     "output_type": "execute_result"
    },
    {
     "data": {
      "image/png": "[encoded data removed]",
      "text/plain": [
       "<Figure size 640x480 with 1 Axes>"
      ]
     },
     "metadata": {},
     "output_type": "display_data"
    }
   ],
   "source": [
    "steps = []\n",
    "def constant(n):\n",
    "    return 1\n",
    "    \n",
    "for i in range(1, 100):\n",
    "    steps.append(constant(i))\n",
    "plt.plot(steps)"
   ]
  },
  {
   "cell_type": "markdown",
   "metadata": {
    "id": "9PTdn8tNXx6U"
   },
   "source": [
    "Linear Complexity - O(n)\n",
    "\n",
    "The complexity of an algorithm is said to be linear if the steps required to complete the execution of an algorithm increase or decrease linearly with the number of inputs. Linear complexity is denoted by O(n).\n",
    "\n",
    "O(n): at n=1, 1 step is taken. At n=10, 10 steps are taken."
   ]
  },
  {
   "cell_type": "code",
   "execution_count": 17,
   "metadata": {
    "colab": {
     "base_uri": "https://localhost:8080/"
    },
    "id": "3Z3BbR8SXt0N",
    "outputId": "da621925-9693-4e45-e06e-7157fa7fd13f"
   },
   "outputs": [
    {
     "name": "stdout",
     "output_type": "stream",
     "text": [
      "4\n",
      "5\n",
      "6\n",
      "8\n"
     ]
    }
   ],
   "source": [
    "def linear_algo(items):\n",
    "    for item in items:\n",
    "        print(item)\n",
    "\n",
    "linear_algo([4, 5, 6, 8])"
   ]
  },
  {
   "cell_type": "code",
   "execution_count": 18,
   "metadata": {},
   "outputs": [
    {
     "name": "stdout",
     "output_type": "stream",
     "text": [
      "4\n",
      "5\n",
      "6\n",
      "8\n",
      "9\n",
      "10\n"
     ]
    }
   ],
   "source": [
    "linear_algo([4, 5, 6, 8, 9, 10])"
   ]
  },
  {
   "cell_type": "code",
   "execution_count": 19,
   "metadata": {
    "colab": {
     "base_uri": "https://localhost:8080/",
     "height": 467
    },
    "executionInfo": {
     "elapsed": 6,
     "status": "ok",
     "timestamp": 1682415062522,
     "user": {
      "displayName": "Etibar Aliyev",
      "userId": "02734588617836082745"
     },
     "user_tz": 420
    },
    "id": "osvoMGqLX2Q_",
    "outputId": "597464b9-7d84-4628-e334-c9ba35ece367"
   },
   "outputs": [
    {
     "data": {
      "text/plain": [
       "Text(0, 0.5, 'Steps')"
      ]
     },
     "execution_count": 19,
     "metadata": {},
     "output_type": "execute_result"
    },
    {
     "data": {
      "image/png": "[encoded data removed]",
      "text/plain": [
       "<Figure size 640x480 with 1 Axes>"
      ]
     },
     "metadata": {},
     "output_type": "display_data"
    }
   ],
   "source": [
    "steps = []\n",
    "def linear(n):\n",
    "    return n\n",
    "    \n",
    "for i in range(1, 100):\n",
    "    steps.append(linear(i))\n",
    "    \n",
    "plt.plot(steps)\n",
    "plt.xlabel('Inputs')\n",
    "plt.ylabel('Steps')"
   ]
  },
  {
   "cell_type": "markdown",
   "metadata": {
    "id": "V-HYmGYmYDlV"
   },
   "source": [
    "An important thing to note is that with large inputs, constants tend to lose value. For example, if an algorithm has a time complexity of O(2n + 5), it is commonly expressed as O(n), as the linear relationship dominates the growth rate. This is why we typically remove constants from Big-O notation, and an expression such as O(2n) is usually shortened to O(n). Both O(2n) and O(n) are linear - the linear relationship is what matters, not the concrete value. "
   ]
  },
  {
   "cell_type": "code",
   "execution_count": 20,
   "metadata": {
    "colab": {
     "base_uri": "https://localhost:8080/"
    },
    "id": "hqbnjk8IX8oj",
    "outputId": "6bcd8f33-ab7c-40cf-ad72-34a16d164f0b"
   },
   "outputs": [
    {
     "name": "stdout",
     "output_type": "stream",
     "text": [
      "4\n",
      "5\n",
      "6\n",
      "8\n",
      "4\n",
      "5\n",
      "6\n",
      "8\n"
     ]
    }
   ],
   "source": [
    "def linear_algo(items):\n",
    "    for item in items:\n",
    "        print(item)\n",
    "\n",
    "    for item in items:\n",
    "        print(item)\n",
    "\n",
    "linear_algo([4, 5, 6, 8])"
   ]
  },
  {
   "cell_type": "code",
   "execution_count": 21,
   "metadata": {
    "colab": {
     "base_uri": "https://localhost:8080/",
     "height": 297
    },
    "id": "1wTqd8cqYHJ5",
    "outputId": "b0944a9d-c363-4533-d89e-d1f0f64adcaf"
   },
   "outputs": [
    {
     "data": {
      "text/plain": [
       "Text(0, 0.5, 'Steps')"
      ]
     },
     "execution_count": 21,
     "metadata": {},
     "output_type": "execute_result"
    },
    {
     "data": {
      "image/png": "[encoded data removed]",
      "text/plain": [
       "<Figure size 640x480 with 1 Axes>"
      ]
     },
     "metadata": {},
     "output_type": "display_data"
    }
   ],
   "source": [
    "steps = []\n",
    "def linear(n):\n",
    "    return 2*n\n",
    "    \n",
    "for i in range(1, 100):\n",
    "    steps.append(linear(i))\n",
    "    \n",
    "plt.plot(steps)\n",
    "plt.xlabel('Inputs')\n",
    "plt.ylabel('Steps')"
   ]
  },
  {
   "cell_type": "markdown",
   "metadata": {
    "id": "AD167gzNYSYY"
   },
   "source": [
    "Quadratic Complexity - O(n²)\n",
    "\n",
    "The complexity of an algorithm is said to be quadratic when the steps required to execute an algorithm are a quadratic function of the number of items in the input. Quadratic complexity is denoted as O(n²)\n",
    "\n",
    "O(n): at n=1, 1 step is taken. At n=10, 100 steps are taken."
   ]
  },
  {
   "cell_type": "code",
   "execution_count": 22,
   "metadata": {
    "colab": {
     "base_uri": "https://localhost:8080/"
    },
    "id": "2rzti3QaYObA",
    "outputId": "b6ae1692-5a7e-46ee-e643-d7f5cdf2dbfc"
   },
   "outputs": [
    {
     "name": "stdout",
     "output_type": "stream",
     "text": [
      "4   4\n",
      "4   5\n",
      "4   6\n",
      "4   8\n",
      "5   4\n",
      "5   5\n",
      "5   6\n",
      "5   8\n",
      "6   4\n",
      "6   5\n",
      "6   6\n",
      "6   8\n",
      "8   4\n",
      "8   5\n",
      "8   6\n",
      "8   8\n"
     ]
    }
   ],
   "source": [
    "def quadratic_algo(items):\n",
    "    for item in items:\n",
    "        for item2 in items:\n",
    "            print(item, ' ' ,item2)\n",
    "\n",
    "quadratic_algo([4, 5, 6, 8])"
   ]
  },
  {
   "cell_type": "code",
   "execution_count": 23,
   "metadata": {},
   "outputs": [
    {
     "data": {
      "text/plain": [
       "Text(0, 0.5, 'Steps')"
      ]
     },
     "execution_count": 23,
     "metadata": {},
     "output_type": "execute_result"
    },
    {
     "data": {
      "image/png": "[encoded data removed]",
      "text/plain": [
       "<Figure size 640x480 with 1 Axes>"
      ]
     },
     "metadata": {},
     "output_type": "display_data"
    }
   ],
   "source": [
    "steps = []\n",
    "def linear(n):\n",
    "    return n**2\n",
    "    \n",
    "for i in range(1, 10):\n",
    "    steps.append(linear(i))\n",
    "    \n",
    "plt.plot(steps)    \n",
    "plt.xlabel('Inputs')\n",
    "plt.ylabel('Steps')"
   ]
  },
  {
   "cell_type": "code",
   "execution_count": 29,
   "metadata": {},
   "outputs": [
    {
     "data": {
      "text/plain": [
       "[1, 4, 9, 16, 25, 36, 49, 64, 81]"
      ]
     },
     "execution_count": 29,
     "metadata": {},
     "output_type": "execute_result"
    }
   ],
   "source": [
    "steps"
   ]
  },
  {
   "cell_type": "markdown",
   "metadata": {
    "id": "p3MxlTLzYiKp"
   },
   "source": [
    "Logarithmic Complexity - O(logn)\n",
    "\n",
    "Some algorithms achieve logarithmic complexity, such as Binary Search. Binary Search searches for an element in an array, by checking the middle of an array, and pruning the half in which the element isn't. It does this again for the remaining half, and continues the same steps until the element is found. In each step, it halves the number of elements in the array."
   ]
  },
  {
   "cell_type": "code",
   "execution_count": 24,
   "metadata": {},
   "outputs": [
    {
     "name": "stdout",
     "output_type": "stream",
     "text": [
      "Value 9 found at index 8 with 4 steps. log(8) = 3.169925001442312.\n"
     ]
    }
   ],
   "source": [
    "import math\n",
    "\n",
    "def binary_search(data, value):\n",
    "    n = len(data)\n",
    "    left = 0\n",
    "    right = n - 1\n",
    "    steps = 0  # Variable to count the number of steps\n",
    "    \n",
    "    log_n = math.log2(n)  # Logarithm of the input size\n",
    "    \n",
    "    while left <= right:\n",
    "        steps += 1  # Increment step count\n",
    "        middle = (left + right) // 2\n",
    "        if value < data[middle]:\n",
    "            right = middle - 1\n",
    "        elif value > data[middle]:\n",
    "            left = middle + 1\n",
    "        else:\n",
    "            return middle, steps, log_n  # Return the index, step count, and log n\n",
    "    raise ValueError('Value is not in the list')\n",
    "\n",
    "if __name__ == '__main__':\n",
    "    data = [1, 2, 3, 4, 5, 6, 7, 8, 9]\n",
    "    value = 9\n",
    "    index, steps, log_n = binary_search(data, value)\n",
    "    print(f'Value {value} found at index {index} with {steps} steps. log({index}) = {log_n}.')"
   ]
  },
  {
   "cell_type": "code",
   "execution_count": 25,
   "metadata": {
    "colab": {
     "base_uri": "https://localhost:8080/"
    },
    "executionInfo": {
     "elapsed": 475,
     "status": "ok",
     "timestamp": 1682416188672,
     "user": {
      "displayName": "Etibar Aliyev",
      "userId": "02734588617836082745"
     },
     "user_tz": 420
    },
    "id": "w4jvXnuGNNmC",
    "outputId": "bd3d71b0-a8b2-4a32-bd7f-6ab4a1fc5d90"
   },
   "outputs": [
    {
     "name": "stdout",
     "output_type": "stream",
     "text": [
      "CPU times: user 3 µs, sys: 0 ns, total: 3 µs\n",
      "Wall time: 5.01 µs\n"
     ]
    },
    {
     "data": {
      "text/plain": [
       "<function __main__.binary_search(data, value)>"
      ]
     },
     "execution_count": 25,
     "metadata": {},
     "output_type": "execute_result"
    }
   ],
   "source": [
    "%time binary_search"
   ]
  },
  {
   "cell_type": "markdown",
   "metadata": {
    "id": "p-ftEV8CaAmd"
   },
   "source": [
    "### Space complexity\n",
    "\n",
    "**The space complexity** is basically the amount of memory space required to solve a problem in relation to the input size."
   ]
  },
  {
   "cell_type": "code",
   "execution_count": 28,
   "metadata": {},
   "outputs": [],
   "source": [
    "from memory_profiler import profile\n",
    "import sys"
   ]
  },
  {
   "cell_type": "code",
   "execution_count": 29,
   "metadata": {
    "colab": {
     "base_uri": "https://localhost:8080/"
    },
    "executionInfo": {
     "elapsed": 579,
     "status": "ok",
     "timestamp": 1682416000045,
     "user": {
      "displayName": "Etibar Aliyev",
      "userId": "02734588617836082745"
     },
     "user_tz": 420
    },
    "id": "ZfxIS28PZ_4e",
    "outputId": "195944c8-75e3-467f-cc90-cdc743dbd960"
   },
   "outputs": [
    {
     "name": "stdout",
     "output_type": "stream",
     "text": [
      "Overwriting space_comp.py\n"
     ]
    }
   ],
   "source": [
    "%%file space_comp.py\n",
    "\n",
    "@profile\n",
    "def return_squares(n):\n",
    "    square_list = []\n",
    "    for num in n:\n",
    "        square_list.append(num * num)\n",
    "\n",
    "    return square_list\n",
    "\n",
    "nums = [2, 4, 6, 8, 10]\n",
    "print(return_squares(nums))"
   ]
  },
  {
   "cell_type": "code",
   "execution_count": 35,
   "metadata": {},
   "outputs": [],
   "source": [
    "#TODO : run in terminal\n",
    "#mprof run space_comp.py\n",
    "#mprof plot"
   ]
  },
  {
   "cell_type": "code",
   "execution_count": 30,
   "metadata": {
    "executionInfo": {
     "elapsed": 4,
     "status": "ok",
     "timestamp": 1682416678072,
     "user": {
      "displayName": "Etibar Aliyev",
      "userId": "02734588617836082745"
     },
     "user_tz": 420
    },
    "id": "8iDvHFZd2N-b"
   },
   "outputs": [],
   "source": [
    "a = list(range(1,5))\n",
    "b = list(range(5,10))"
   ]
  },
  {
   "cell_type": "code",
   "execution_count": 31,
   "metadata": {},
   "outputs": [
    {
     "data": {
      "text/plain": [
       "[1, 2, 3, 4]"
      ]
     },
     "execution_count": 31,
     "metadata": {},
     "output_type": "execute_result"
    }
   ],
   "source": [
    "a"
   ]
  },
  {
   "cell_type": "code",
   "execution_count": 32,
   "metadata": {},
   "outputs": [
    {
     "data": {
      "text/plain": [
       "[5, 6, 7, 8, 9]"
      ]
     },
     "execution_count": 32,
     "metadata": {},
     "output_type": "execute_result"
    }
   ],
   "source": [
    "b"
   ]
  },
  {
   "cell_type": "code",
   "execution_count": 33,
   "metadata": {
    "colab": {
     "base_uri": "https://localhost:8080/"
    },
    "executionInfo": {
     "elapsed": 4,
     "status": "ok",
     "timestamp": 1682416682956,
     "user": {
      "displayName": "Etibar Aliyev",
      "userId": "02734588617836082745"
     },
     "user_tz": 420
    },
    "id": "U3jxdlyq2S9b",
    "outputId": "c7841d2d-2651-4f0d-d366-a018f70970b6"
   },
   "outputs": [
    {
     "data": {
      "text/plain": [
       "[1, 2, 3, 4, 5, 6, 7, 8, 9]"
      ]
     },
     "execution_count": 33,
     "metadata": {},
     "output_type": "execute_result"
    }
   ],
   "source": [
    "c= a+b\n",
    "c"
   ]
  },
  {
   "cell_type": "code",
   "execution_count": 34,
   "metadata": {},
   "outputs": [
    {
     "name": "stdout",
     "output_type": "stream",
     "text": [
      "128\n"
     ]
    }
   ],
   "source": [
    "print(sys.getsizeof(c)) #return answer in bytes"
   ]
  },
  {
   "cell_type": "code",
   "execution_count": 35,
   "metadata": {},
   "outputs": [
    {
     "name": "stdout",
     "output_type": "stream",
     "text": [
      "28\n"
     ]
    }
   ],
   "source": [
    "def factorial(n):\n",
    "    if n == 0 or n == 1:\n",
    "        return 1\n",
    "    else:\n",
    "        return n * factorial(n - 1)\n",
    "\n",
    "result = factorial(5)\n",
    "print(sys.getsizeof(result))"
   ]
  },
  {
   "cell_type": "code",
   "execution_count": null,
   "metadata": {},
   "outputs": [],
   "source": []
  }
 ],
 "metadata": {
  "accelerator": "GPU",
  "colab": {
   "provenance": []
  },
  "gpuClass": "standard",
  "kernelspec": {
   "display_name": "Python [conda env:base] *",
   "language": "python",
   "name": "conda-base-py"
  },
  "language_info": {
   "codemirror_mode": {
    "name": "ipython",
    "version": 3
   },
   "file_extension": ".py",
   "mimetype": "text/x-python",
   "name": "python",
   "nbconvert_exporter": "python",
   "pygments_lexer": "ipython3",
   "version": "3.12.7"
  }
 },
 "nbformat": 4,
 "nbformat_minor": 4
}
