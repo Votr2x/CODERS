{
 "cells": [
  {
   "cell_type": "markdown",
   "metadata": {},
   "source": [
    "# Stacks"
   ]
  },
  {
   "cell_type": "markdown",
   "metadata": {},
   "source": [
    "A **stack** is a linear data structure that stores items in a Last-In/First-Out (LIFO) or First-In/Last-Out (FILO) manner. In stack, a new element is added at one end and an element is removed from that end only. The insert and delete operations are often called push and pop."
   ]
  },
  {
   "cell_type": "markdown",
   "metadata": {},
   "source": [
    "This is useful in scenarios where you need to:\n",
    "\n",
    "- **Undo recent actions**: For example, in text editors or graphics software, each action is pushed onto a stack, allowing you to reverse actions by \"popping\" the most recent ones.\n",
    "  \n",
    "- **Keep track of states**: Stacks help manage sequences where the most recent state should be the first to revert, like navigating back through a series of actions or pages.\n",
    "\n",
    "The stack structure is commonly used in:\n",
    "1. **Function call management** in programming, especially with recursive functions.\n",
    "2. **Browser history** for navigating backward.\n",
    "3. **Expression evaluation** and **syntax parsing** in compilers.\n"
   ]
  },
  {
   "cell_type": "code",
   "execution_count": 2,
   "metadata": {},
   "outputs": [
    {
     "data": {
      "image/png": "[encoded data removed]",
      "text/plain": [
       "<IPython.core.display.Image object>"
      ]
     },
     "metadata": {},
     "output_type": "display_data"
    }
   ],
   "source": [
    "from IPython.display import Image\n",
    "display(Image(filename='files/stack.png'))"
   ]
  },
  {
   "cell_type": "markdown",
   "metadata": {},
   "source": [
    "Stack in Python can be implemented by the following ways:\n",
    "- **list**\n",
    "- **collections.deque**\n",
    "\n",
    "There are methods, that we used in below class:\n",
    "\n",
    "- **size()** – Get the number of items in the stack.\n",
    "- **is_empty()** – Return True if the stack is empty, False otherwise.\n",
    "- **peek()** – Return the top item in the stack. If the stack is empty, print info about it.\n",
    "- **push(value)** – Push a value into the head of the stack.\n",
    "- **pop()** – Remove and return a value in the head of the stack. If the stack is empty, print info about it."
   ]
  },
  {
   "cell_type": "code",
   "execution_count": 1,
   "metadata": {},
   "outputs": [
    {
     "name": "stdout",
     "output_type": "stream",
     "text": [
      "Overwriting stack.py\n"
     ]
    }
   ],
   "source": [
    "%%file stack.py\n",
    "class Stack:\n",
    "    \n",
    "    def __init__(self):\n",
    "        self._items = []\n",
    "    \n",
    "    def is_empty(self):\n",
    "        return not bool(self._items)    \n",
    "    \n",
    "    def push(self, item):\n",
    "        self._items.append(item)\n",
    "        #self._items.insert(len(self._items), item)\n",
    "    \n",
    "    def pop(self):\n",
    "        if self.is_empty():\n",
    "            print(\"Popping from an empty stack\")\n",
    "        else:\n",
    "            return self._items.pop()\n",
    "        #l.remove(l[len(l)-1])\n",
    "        #del l[len(l)-1]\n",
    "        \n",
    "    def peek(self):\n",
    "        if self.is_empty():\n",
    "            print(\"Peeking from an empty stack\")\n",
    "        else:\n",
    "            return self._items[-1]\n",
    "    \n",
    "    def size(self):\n",
    "        return len(self._items)\n",
    "    \n",
    "    def __repr__(self):\n",
    "        return f\"List is : {self._items}\""
   ]
  },
  {
   "cell_type": "code",
   "execution_count": 2,
   "metadata": {},
   "outputs": [],
   "source": [
    "import stack"
   ]
  },
  {
   "cell_type": "code",
   "execution_count": 3,
   "metadata": {},
   "outputs": [],
   "source": [
    "c = stack.Stack()"
   ]
  },
  {
   "cell_type": "code",
   "execution_count": 4,
   "metadata": {},
   "outputs": [
    {
     "data": {
      "text/plain": [
       "True"
      ]
     },
     "execution_count": 4,
     "metadata": {},
     "output_type": "execute_result"
    }
   ],
   "source": [
    "c.is_empty()"
   ]
  },
  {
   "cell_type": "code",
   "execution_count": 5,
   "metadata": {},
   "outputs": [],
   "source": [
    "c.push(\"ABC1\")"
   ]
  },
  {
   "cell_type": "code",
   "execution_count": 6,
   "metadata": {},
   "outputs": [],
   "source": [
    "c.push([\"ABC1\", \"ABC2\", \"ABC3\"])"
   ]
  },
  {
   "cell_type": "code",
   "execution_count": 7,
   "metadata": {},
   "outputs": [
    {
     "data": {
      "text/plain": [
       "\"List is : ['ABC1', ['ABC1', 'ABC2', 'ABC3']]\""
      ]
     },
     "execution_count": 7,
     "metadata": {},
     "output_type": "execute_result"
    }
   ],
   "source": [
    "c.__repr__()"
   ]
  },
  {
   "cell_type": "code",
   "execution_count": 8,
   "metadata": {},
   "outputs": [
    {
     "data": {
      "text/plain": [
       "2"
      ]
     },
     "execution_count": 8,
     "metadata": {},
     "output_type": "execute_result"
    }
   ],
   "source": [
    "c.size()"
   ]
  },
  {
   "cell_type": "code",
   "execution_count": 13,
   "metadata": {},
   "outputs": [
    {
     "name": "stdout",
     "output_type": "stream",
     "text": [
      "Peeking from an empty stack\n"
     ]
    }
   ],
   "source": [
    "c.peek()"
   ]
  },
  {
   "cell_type": "code",
   "execution_count": 14,
   "metadata": {},
   "outputs": [
    {
     "name": "stdout",
     "output_type": "stream",
     "text": [
      "Popping from an empty stack\n"
     ]
    }
   ],
   "source": [
    "c.pop()"
   ]
  },
  {
   "cell_type": "code",
   "execution_count": 15,
   "metadata": {},
   "outputs": [
    {
     "data": {
      "text/plain": [
       "'List is : []'"
      ]
     },
     "execution_count": 15,
     "metadata": {},
     "output_type": "execute_result"
    }
   ],
   "source": [
    "c.__repr__()"
   ]
  },
  {
   "cell_type": "code",
   "execution_count": 16,
   "metadata": {},
   "outputs": [],
   "source": [
    "from collections import deque\n",
    "\n",
    "class Stack:\n",
    "    def __init__(self):\n",
    "        self.stek = deque()\n",
    "\n",
    "    def is_empty(self):\n",
    "        return len(self.stek) == 0\n",
    "\n",
    "    def push(self, item):\n",
    "        self.stek.append(item)\n",
    "\n",
    "    def pop(self):\n",
    "        if not self.is_empty():\n",
    "            return self.stek.pop()\n",
    "        else:\n",
    "            print(\"Stack is empty\")\n",
    "\n",
    "    def peek(self):\n",
    "        if not self.is_empty():\n",
    "            return self.stek[-1]\n",
    "        else:\n",
    "            print(\"Stack is empty\")\n",
    "\n",
    "    def size(self):\n",
    "        return len(self.stek)"
   ]
  },
  {
   "cell_type": "code",
   "execution_count": 17,
   "metadata": {},
   "outputs": [],
   "source": [
    "stack = Stack()\n",
    "stack.push(1)\n",
    "stack.push(2)\n",
    "stack.push(3)\n",
    "stack.push(4)"
   ]
  },
  {
   "cell_type": "code",
   "execution_count": 18,
   "metadata": {},
   "outputs": [
    {
     "data": {
      "text/plain": [
       "deque([1, 2, 3, 4])"
      ]
     },
     "execution_count": 18,
     "metadata": {},
     "output_type": "execute_result"
    }
   ],
   "source": [
    "stack.stek"
   ]
  },
  {
   "cell_type": "code",
   "execution_count": 19,
   "metadata": {},
   "outputs": [
    {
     "data": {
      "text/plain": [
       "4"
      ]
     },
     "execution_count": 19,
     "metadata": {},
     "output_type": "execute_result"
    }
   ],
   "source": [
    "stack.pop()"
   ]
  },
  {
   "cell_type": "code",
   "execution_count": 20,
   "metadata": {},
   "outputs": [
    {
     "data": {
      "text/plain": [
       "3"
      ]
     },
     "execution_count": 20,
     "metadata": {},
     "output_type": "execute_result"
    }
   ],
   "source": [
    "stack.peek()"
   ]
  },
  {
   "cell_type": "code",
   "execution_count": 21,
   "metadata": {},
   "outputs": [
    {
     "data": {
      "text/plain": [
       "3"
      ]
     },
     "execution_count": 21,
     "metadata": {},
     "output_type": "execute_result"
    }
   ],
   "source": [
    "stack.size()"
   ]
  },
  {
   "cell_type": "markdown",
   "metadata": {},
   "source": [
    "**Advantages of Stack:**\n",
    "\n",
    "- Stacks are simple data structures with a well-defined set of operations, which makes them easy to understand and use.\n",
    "- Stacks are efficient for adding and removing elements, as these operations have a time complexity of O(1).\n",
    "- In order to reverse the order of elements we use the stack data structure.\n",
    "- Stacks can be used to implement undo/redo functions in applications."
   ]
  },
  {
   "cell_type": "markdown",
   "metadata": {},
   "source": [
    "# Queue"
   ]
  },
  {
   "cell_type": "markdown",
   "metadata": {},
   "source": [
    "Like stack, **queue** is a linear data structure that stores items in First In First Out (FIFO) manner. With a queue the least recently added item is removed first."
   ]
  },
  {
   "cell_type": "code",
   "execution_count": 22,
   "metadata": {},
   "outputs": [
    {
     "data": {
      "image/png": "[encoded data removed]",
      "text/plain": [
       "<IPython.core.display.Image object>"
      ]
     },
     "metadata": {},
     "output_type": "display_data"
    }
   ],
   "source": [
    "from IPython.display import Image\n",
    "display(Image(filename='files/queue.png'))"
   ]
  },
  {
   "cell_type": "markdown",
   "metadata": {},
   "source": [
    "Operations associated with queue are: \n",
    " \n",
    "- **Enqueue**: Adds an item to the queue. If the queue is full, then it is said to be an Overflow condition.\n",
    "- **Dequeue**: Removes an item from the queue. The items are popped in the same order in which they are pushed. If the queue is empty, then it is said to be an Underflow condition.\n",
    "- **Front**: Get the front item from queue.\n",
    "- **Rear**: Get the last item from queue.\n",
    "\n",
    "Queue in Python can be implemented by the following ways:\n",
    " \n",
    "- **list**\n",
    "- **collections.deque**\n",
    "- **queue.Queue**"
   ]
  },
  {
   "cell_type": "markdown",
   "metadata": {},
   "source": [
    "##### List"
   ]
  },
  {
   "cell_type": "code",
   "execution_count": 23,
   "metadata": {},
   "outputs": [],
   "source": [
    "class Queue:\n",
    "\n",
    "    def __init__(self):\n",
    "        self._items = []\n",
    "    \n",
    "    def is_empty(self):\n",
    "        return self._items==[]\n",
    "    \n",
    "    def enqueue(self, item):\n",
    "        return self._items.append(item)\n",
    "\n",
    "    def dequeue(self):\n",
    "        if self.is_empty():\n",
    "            print(\"Queue is empty\")\n",
    "        else:\n",
    "            return self._items.pop(0)\n",
    "    \n",
    "    def front(self):\n",
    "        if self.is_empty():\n",
    "            print(\"Queue is empty\")\n",
    "        else:\n",
    "            return self._items[0]\n",
    "        \n",
    "    def rear(self):\n",
    "        if self.is_empty():\n",
    "            print(\"Queue is empty\")\n",
    "        else:\n",
    "            return self._items[-1]    \n",
    "    \n",
    "    def size(self):\n",
    "        return len(self._items)\n",
    "    \n",
    "    def __repr__(self):\n",
    "        return f\"List is : {self._items}\""
   ]
  },
  {
   "cell_type": "code",
   "execution_count": 24,
   "metadata": {},
   "outputs": [],
   "source": [
    "q = Queue()"
   ]
  },
  {
   "cell_type": "code",
   "execution_count": 25,
   "metadata": {},
   "outputs": [
    {
     "data": {
      "text/plain": [
       "True"
      ]
     },
     "execution_count": 25,
     "metadata": {},
     "output_type": "execute_result"
    }
   ],
   "source": [
    "q.is_empty()"
   ]
  },
  {
   "cell_type": "code",
   "execution_count": 26,
   "metadata": {},
   "outputs": [],
   "source": [
    "q.enqueue(\"Abc1\")\n",
    "q.enqueue(\"Abc2\")\n",
    "q.enqueue(\"Abc3\")"
   ]
  },
  {
   "cell_type": "code",
   "execution_count": 27,
   "metadata": {},
   "outputs": [
    {
     "data": {
      "text/plain": [
       "\"List is : ['Abc1', 'Abc2', 'Abc3']\""
      ]
     },
     "execution_count": 27,
     "metadata": {},
     "output_type": "execute_result"
    }
   ],
   "source": [
    "q.__repr__()"
   ]
  },
  {
   "cell_type": "code",
   "execution_count": 28,
   "metadata": {},
   "outputs": [
    {
     "data": {
      "text/plain": [
       "3"
      ]
     },
     "execution_count": 28,
     "metadata": {},
     "output_type": "execute_result"
    }
   ],
   "source": [
    "q.size()"
   ]
  },
  {
   "cell_type": "code",
   "execution_count": 29,
   "metadata": {},
   "outputs": [
    {
     "data": {
      "text/plain": [
       "'Abc1'"
      ]
     },
     "execution_count": 29,
     "metadata": {},
     "output_type": "execute_result"
    }
   ],
   "source": [
    "q.front()"
   ]
  },
  {
   "cell_type": "code",
   "execution_count": 30,
   "metadata": {},
   "outputs": [
    {
     "data": {
      "text/plain": [
       "'Abc3'"
      ]
     },
     "execution_count": 30,
     "metadata": {},
     "output_type": "execute_result"
    }
   ],
   "source": [
    "q.rear()"
   ]
  },
  {
   "cell_type": "code",
   "execution_count": 31,
   "metadata": {},
   "outputs": [
    {
     "data": {
      "text/plain": [
       "'Abc1'"
      ]
     },
     "execution_count": 31,
     "metadata": {},
     "output_type": "execute_result"
    }
   ],
   "source": [
    "q.dequeue()"
   ]
  },
  {
   "cell_type": "markdown",
   "metadata": {},
   "source": [
    "##### collections.deque"
   ]
  },
  {
   "cell_type": "code",
   "execution_count": 31,
   "metadata": {},
   "outputs": [],
   "source": [
    "from collections import deque"
   ]
  },
  {
   "cell_type": "code",
   "execution_count": 33,
   "metadata": {},
   "outputs": [],
   "source": [
    "# names = [\"Ali\", \"Elnur\", \"Adil\", \"Mete\", \"Toghrul\", \"Rail\"]\n",
    "# queue=[]\n",
    "# for name in names:\n",
    "#     queue.appendleft(name)\n",
    "\n",
    "# queue"
   ]
  },
  {
   "cell_type": "code",
   "execution_count": 34,
   "metadata": {},
   "outputs": [
    {
     "data": {
      "text/plain": [
       "deque(['Rail', 'Toghrul', 'Mete', 'Adil', 'Elnur', 'Ali'])"
      ]
     },
     "execution_count": 34,
     "metadata": {},
     "output_type": "execute_result"
    }
   ],
   "source": [
    "names = [\"Ali\", \"Elnur\", \"Adil\", \"Mete\", \"Toghrul\", \"Rail\"]\n",
    "queue = deque()\n",
    "for name in names:\n",
    "    queue.appendleft(name)\n",
    "\n",
    "queue"
   ]
  },
  {
   "cell_type": "code",
   "execution_count": 35,
   "metadata": {},
   "outputs": [],
   "source": [
    "def operation_on_queue(names):\n",
    "    queue = deque()\n",
    "    for name in names:\n",
    "        queue.appendleft(name)\n",
    "    while len(queue)>1:\n",
    "        queue.pop()\n",
    "    return queue.pop()"
   ]
  },
  {
   "cell_type": "code",
   "execution_count": 36,
   "metadata": {},
   "outputs": [
    {
     "data": {
      "text/plain": [
       "'Rail'"
      ]
     },
     "execution_count": 36,
     "metadata": {},
     "output_type": "execute_result"
    }
   ],
   "source": [
    "names = [\"Ali\", \"Elnur\", \"Adil\", \"Mete\", \"Toghrul\", \"Rail\"]\n",
    "\n",
    "operation_on_queue(names)"
   ]
  },
  {
   "cell_type": "code",
   "execution_count": 37,
   "metadata": {},
   "outputs": [],
   "source": [
    "def operation_on_queue_1(names):\n",
    "    queue = deque()\n",
    "    for name in names:\n",
    "        queue.append(name)\n",
    "    while len(queue)>1:\n",
    "        print(len(queue))\n",
    "        queue.popleft()\n",
    "    return queue.popleft()"
   ]
  },
  {
   "cell_type": "code",
   "execution_count": 38,
   "metadata": {},
   "outputs": [
    {
     "name": "stdout",
     "output_type": "stream",
     "text": [
      "6\n",
      "5\n",
      "4\n",
      "3\n",
      "2\n"
     ]
    },
    {
     "data": {
      "text/plain": [
       "'Rail'"
      ]
     },
     "execution_count": 38,
     "metadata": {},
     "output_type": "execute_result"
    }
   ],
   "source": [
    "names = [\"Ali\", \"Elnur\", \"Adil\", \"Mete\", \"Toghrul\", \"Rail\"]\n",
    "\n",
    "operation_on_queue_1(names)"
   ]
  },
  {
   "cell_type": "code",
   "execution_count": 39,
   "metadata": {},
   "outputs": [
    {
     "data": {
      "text/plain": [
       "6"
      ]
     },
     "execution_count": 39,
     "metadata": {},
     "output_type": "execute_result"
    }
   ],
   "source": [
    "len(queue)"
   ]
  },
  {
   "cell_type": "code",
   "execution_count": 40,
   "metadata": {},
   "outputs": [],
   "source": [
    "#help(Queue)"
   ]
  },
  {
   "cell_type": "markdown",
   "metadata": {},
   "source": [
    "##### queue.Queue"
   ]
  },
  {
   "cell_type": "code",
   "execution_count": 42,
   "metadata": {},
   "outputs": [
    {
     "name": "stdout",
     "output_type": "stream",
     "text": [
      "0\n",
      "\n",
      "Empty:  True\n",
      "\n",
      "Adding of element to queue\n",
      "\n",
      "Full:  True\n",
      "\n",
      "Elements dequeued from the queue\n",
      "Alma\n",
      "Banan\n",
      "Armud\n",
      "\n",
      "Empty:  True\n",
      "Full:  False\n"
     ]
    }
   ],
   "source": [
    "from queue import Queue\n",
    "  \n",
    "# Initializing a queue\n",
    "q = Queue(maxsize=3)\n",
    "  \n",
    "# qsize() give the maxsize \n",
    "# of the Queue \n",
    "print(q.qsize()) \n",
    "\n",
    "# Return Boolean for Empty \n",
    "# Queue \n",
    "print(\"\\nEmpty: \", q.empty())\n",
    "  \n",
    "print(\"\\nAdding of element to queue\")\n",
    "q.put('Alma')\n",
    "q.put('Banan')\n",
    "q.put('Armud')\n",
    "\n",
    "# Return Boolean for Full \n",
    "# Queue \n",
    "print(\"\\nFull: \", q.full()) \n",
    "  \n",
    "# Removing element from queue\n",
    "print(\"\\nElements dequeued from the queue\")\n",
    "print(q.get())\n",
    "print(q.get())\n",
    "print(q.get())\n",
    "\n",
    "print(\"\\nEmpty: \", q.empty()) \n",
    "print(\"Full: \", q.full())"
   ]
  },
  {
   "cell_type": "markdown",
   "metadata": {},
   "source": [
    "**Advantages of using queues:**\n",
    "\n",
    "- FIFO Order (First-In-First-Out):\n",
    "    The primary advantage of a queue is its adherence to the FIFO order, ensuring that the first element added is the first to be removed. This is valuable in scenarios where order matters, such as task scheduling or message handling.\n",
    "    \n",
    "- Task Scheduling:\n",
    "    Queues are effective for managing and scheduling tasks. Tasks are added to the queue and processed in the order they were added, helping in fair allocation of resources.\n",
    "    \n",
    "- Synchronization and Communication:\n",
    "    Queues provide a mechanism for synchronization and communication between different parts of a program, especially in multithreading environments. Threads can safely enqueue and dequeue messages or tasks.\n",
    "\n",
    "- Background Task Handling:\n",
    "    Queues are useful for managing background tasks or asynchronous processing. Tasks can be enqueued for later execution, allowing the main program to continue without waiting.\n",
    "    \n",
    "- Resource Sharing:\n",
    "    In operating systems, queues are employed for resource sharing. Processes waiting for access to resources can be queued, ensuring fair usage.\n",
    "\n",
    "- Print Queue Management:\n",
    "    Print jobs in a print queue are processed in the order they are received. Queues ensure fairness in serving print requests.\n",
    "    \n",
    "- Message Queues:\n",
    "    In messaging systems, queues facilitate the order and processing of messages. Messages are enqueued by producers and dequeued by consumers."
   ]
  },
  {
   "cell_type": "markdown",
   "metadata": {},
   "source": [
    "# Deque\n",
    "Deque (Doubly Ended Queue) in Python is implemented using the module “collections“. Deque is preferred over a list in the cases where we need quicker append and pop operations from both the ends of the container, as deque provides an O(1) time complexity for append and pop operations as compared to a list that provides O(n) time complexity."
   ]
  },
  {
   "cell_type": "code",
   "execution_count": 2,
   "metadata": {},
   "outputs": [
    {
     "data": {
      "image/png": "[encoded data removed]",
      "text/plain": [
       "<IPython.core.display.Image object>"
      ]
     },
     "metadata": {},
     "output_type": "display_data"
    }
   ],
   "source": [
    "from IPython.display import Image\n",
    "display(Image(filename='files/deque.png'))"
   ]
  },
  {
   "cell_type": "markdown",
   "metadata": {},
   "source": [
    "**Advantages of using a deque:**\n",
    "\n",
    "- Efficient Element Addition and Removal:\n",
    "    deque provides O(1) time complexity for appending and popping elements from both ends. This makes it highly efficient for scenarios where elements are frequently added or removed from the front or back.\n",
    "    \n",
    "- Fast Appends and Pops on Both Ends:\n",
    "    Unlike lists, which can have O(n) time complexity for pops at the front, deque allows for fast O(1) pops and appends on both ends, maintaining constant time operations regardless of the queue size.\n",
    "    \n",
    "- Supports Efficient Queue and Stack Operations:\n",
    "    A deque can be used as both a queue and a stack. Elements can be added to both ends, and the versatility allows for implementing various data structures and algorithms with ease.\n",
    "    \n",
    "- Memory Efficiency:\n",
    "    The deque data structure is implemented as a doubly-linked list with a block-oriented memory allocation strategy. This can lead to better memory efficiency compared to lists, especially when dealing with a large number of elements.\n",
    "    \n",
    "- Random Access to Elements:\n",
    "    While the primary advantage of a deque is its efficient operations on both ends, it still allows for random access to elements with O(1) complexity. This can be useful in scenarios where occasional random access is required.\n",
    "    \n",
    "- Rotate Operation:\n",
    "    deque provides a rotate method that allows elements to be rotated to the left or right with a specified number of steps. This can be useful in scenarios where circular or cyclic operations are required.\n",
    "\n",
    "- Slicing and Concatenation:\n",
    "    deque supports slicing and concatenation operations, allowing for efficient manipulation of subsets of elements without the need for costly copying.\n",
    "    \n",
    "- Extended List Methods:\n",
    "    deque supports most of the list methods, making it a suitable replacement for lists in many scenarios while offering improved performance for certain operations."
   ]
  },
  {
   "cell_type": "code",
   "execution_count": 2,
   "metadata": {},
   "outputs": [],
   "source": [
    "#TODO\n",
    "#To check if a given string is a palindrome using deque"
   ]
  }
 ],
 "metadata": {
  "kernelspec": {
   "display_name": "Python [conda env:base] *",
   "language": "python",
   "name": "conda-base-py"
  },
  "language_info": {
   "codemirror_mode": {
    "name": "ipython",
    "version": 3
   },
   "file_extension": ".py",
   "mimetype": "text/x-python",
   "name": "python",
   "nbconvert_exporter": "python",
   "pygments_lexer": "ipython3",
   "version": "3.12.7"
  }
 },
 "nbformat": 4,
 "nbformat_minor": 4
}
