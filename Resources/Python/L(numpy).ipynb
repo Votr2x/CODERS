{
 "cells": [
  {
   "cell_type": "code",
   "id": "initial_id",
   "metadata": {
    "ExecuteTime": {
     "end_time": "2025-08-17T15:21:05.876001Z",
     "start_time": "2025-08-17T15:21:05.347303Z"
    }
   },
   "source": [
    "import numpy as np\n",
    "import pandas as pd"
   ],
   "outputs": [],
   "execution_count": 1
  },
  {
   "cell_type": "code",
   "id": "bb336c723997dff8",
   "metadata": {
    "ExecuteTime": {
     "end_time": "2025-08-17T15:21:06.773805Z",
     "start_time": "2025-08-17T15:21:06.753699Z"
    }
   },
   "source": [
    "array = np.random.randint(1, 5, size=10)\n",
    "x = np.random.choice(array)\n",
    "df = pd.DataFrame(array)\n",
    "print(df)\n",
    "print(f'Random number: {x}')\n",
    "indexes = [i for i in range(len(df)) if df.iloc[i, 0] == x]\n",
    "print(indexes)"
   ],
   "outputs": [
    {
     "name": "stdout",
     "output_type": "stream",
     "text": [
      "   0\n",
      "0  1\n",
      "1  3\n",
      "2  1\n",
      "3  2\n",
      "4  3\n",
      "5  4\n",
      "6  3\n",
      "7  1\n",
      "8  2\n",
      "9  1\n",
      "Random number: 2\n",
      "[3, 8]\n"
     ]
    }
   ],
   "execution_count": 2
  }
 ],
 "metadata": {
  "kernelspec": {
   "display_name": "Python 3 (ipykernel)",
   "language": "python",
   "name": "python3"
  },
  "language_info": {
   "codemirror_mode": {
    "name": "ipython",
    "version": 3
   },
   "file_extension": ".py",
   "mimetype": "text/x-python",
   "name": "python",
   "nbconvert_exporter": "python",
   "pygments_lexer": "ipython3",
   "version": "3.12.7"
  }
 },
 "nbformat": 4,
 "nbformat_minor": 5
}
