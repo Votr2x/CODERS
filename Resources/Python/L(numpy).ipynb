{
 "cells": [
  {
   "cell_type": "code",
   "id": "initial_id",
   "metadata": {
    "ExecuteTime": {
     "end_time": "2025-08-17T18:40:07.132354Z",
     "start_time": "2025-08-17T18:40:06.043163Z"
    }
   },
   "source": [
    "import numpy as np\n",
    "import pandas as pd"
   ],
   "outputs": [],
   "execution_count": 1
  },
  {
   "cell_type": "code",
   "id": "bb336c723997dff8",
   "metadata": {
    "ExecuteTime": {
     "end_time": "2025-08-17T18:40:10.308405Z",
     "start_time": "2025-08-17T18:40:10.287695Z"
    }
   },
   "source": [
    "array = np.random.randint(1, 5, size=10)\n",
    "x = np.random.choice(array)\n",
    "df = pd.DataFrame(array)\n",
    "print(df)\n",
    "print(f'Random number: {x}')\n",
    "indexes = [i for i in range(len(df)) if df.iloc[i, 0] == x]\n",
    "print(indexes)"
   ],
   "outputs": [
    {
     "name": "stdout",
     "output_type": "stream",
     "text": [
      "   0\n",
      "0  4\n",
      "1  3\n",
      "2  2\n",
      "3  2\n",
      "4  1\n",
      "5  3\n",
      "6  3\n",
      "7  3\n",
      "8  4\n",
      "9  1\n",
      "Random number: 3\n",
      "[1, 5, 6, 7]\n"
     ]
    }
   ],
   "execution_count": 2
  }
 ],
 "metadata": {
  "kernelspec": {
   "display_name": "Python 3 (ipykernel)",
   "language": "python",
   "name": "python3"
  },
  "language_info": {
   "codemirror_mode": {
    "name": "ipython",
    "version": 3
   },
   "file_extension": ".py",
   "mimetype": "text/x-python",
   "name": "python",
   "nbconvert_exporter": "python",
   "pygments_lexer": "ipython3",
   "version": "3.12.7"
  }
 },
 "nbformat": 4,
 "nbformat_minor": 5
}
