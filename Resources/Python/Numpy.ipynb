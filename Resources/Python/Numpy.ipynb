{
 "cells": [
  {
   "cell_type": "code",
   "id": "initial_id",
   "metadata": {
    "collapsed": true,
    "jupyter": {
     "outputs_hidden": true
    },
    "ExecuteTime": {
     "end_time": "2025-08-18T16:32:59.694850Z",
     "start_time": "2025-08-18T16:32:58.474662Z"
    }
   },
   "source": [
    "import numpy as np"
   ],
   "outputs": [],
   "execution_count": 1
  },
  {
   "cell_type": "code",
   "id": "846662fd0527bb25",
   "metadata": {
    "ExecuteTime": {
     "end_time": "2025-08-18T16:32:59.728308Z",
     "start_time": "2025-08-18T16:32:59.721525Z"
    }
   },
   "source": [
    "# Classic array np.array([...], dtype = ...)\n",
    "array = np.array([1, 2, 3], dtype = float)\n",
    "print(array)"
   ],
   "outputs": [
    {
     "name": "stdout",
     "output_type": "stream",
     "text": [
      "[1. 2. 3.]\n"
     ]
    }
   ],
   "execution_count": 2
  },
  {
   "cell_type": "code",
   "id": "447e390dcbb5a587",
   "metadata": {
    "ExecuteTime": {
     "end_time": "2025-08-18T16:32:59.771816Z",
     "start_time": "2025-08-18T16:32:59.766225Z"
    }
   },
   "source": [
    "print(array.shape)\n",
    "print(array.size)"
   ],
   "outputs": [
    {
     "name": "stdout",
     "output_type": "stream",
     "text": [
      "(3,)\n",
      "3\n"
     ]
    }
   ],
   "execution_count": 3
  },
  {
   "cell_type": "code",
   "id": "18d2c412cf36bfcc",
   "metadata": {
    "ExecuteTime": {
     "end_time": "2025-08-18T16:32:59.827012Z",
     "start_time": "2025-08-18T16:32:59.819903Z"
    }
   },
   "source": [
    "# Array is mutable(only for compatible data type)\n",
    "array[0] = 2\n",
    "print(array)"
   ],
   "outputs": [
    {
     "name": "stdout",
     "output_type": "stream",
     "text": [
      "[2. 2. 3.]\n"
     ]
    }
   ],
   "execution_count": 4
  },
  {
   "cell_type": "code",
   "id": "106b6e31b68240e7",
   "metadata": {
    "ExecuteTime": {
     "end_time": "2025-08-18T16:32:59.862011Z",
     "start_time": "2025-08-18T16:32:59.855131Z"
    }
   },
   "source": [
    "# Arange creates an array by np.arange(start, stop, step)\n",
    "arange = np.arange(0, 10, 2)\n",
    "print(arange)"
   ],
   "outputs": [
    {
     "name": "stdout",
     "output_type": "stream",
     "text": [
      "[0 2 4 6 8]\n"
     ]
    }
   ],
   "execution_count": 5
  },
  {
   "cell_type": "code",
   "id": "96661e06d4e2e2ec",
   "metadata": {
    "ExecuteTime": {
     "end_time": "2025-08-18T16:32:59.906151Z",
     "start_time": "2025-08-18T16:32:59.901496Z"
    }
   },
   "source": [
    "# Linspace creates an array by np.linspace(start, stop, number of values) difference by equal value\n",
    "linspace = np.linspace(1, 10, 5)\n",
    "print(linspace)"
   ],
   "outputs": [
    {
     "name": "stdout",
     "output_type": "stream",
     "text": [
      "[ 1.    3.25  5.5   7.75 10.  ]\n"
     ]
    }
   ],
   "execution_count": 6
  },
  {
   "cell_type": "code",
   "id": "8984450ef2538d79",
   "metadata": {
    "ExecuteTime": {
     "end_time": "2025-08-18T16:32:59.973108Z",
     "start_time": "2025-08-18T16:32:59.967054Z"
    }
   },
   "source": [
    "# Logspace creates an array by np.logspace(start, stop, number of values, base = ...)\n",
    "logspace = np.logspace(1, 3, 3, base = 2)\n",
    "print(logspace)"
   ],
   "outputs": [
    {
     "name": "stdout",
     "output_type": "stream",
     "text": [
      "[2. 4. 8.]\n"
     ]
    }
   ],
   "execution_count": 7
  },
  {
   "cell_type": "code",
   "id": "a9f822ba0c1f5f19",
   "metadata": {
    "ExecuteTime": {
     "end_time": "2025-08-18T16:33:00.041527Z",
     "start_time": "2025-08-18T16:33:00.033221Z"
    }
   },
   "source": [
    "# Meshgrid eqalises number of rows and columns to create all possible combinations\n",
    "x = np.array([1, 2, 3])\n",
    "y = np.array([4, 5, 6])\n",
    "\n",
    "X, Y = np.meshgrid(x, y)\n",
    "print(X)\n",
    "print(Y)"
   ],
   "outputs": [
    {
     "name": "stdout",
     "output_type": "stream",
     "text": [
      "[[1 2 3]\n",
      " [1 2 3]\n",
      " [1 2 3]]\n",
      "[[4 4 4]\n",
      " [5 5 5]\n",
      " [6 6 6]]\n"
     ]
    }
   ],
   "execution_count": 8
  },
  {
   "cell_type": "code",
   "id": "ae8c4b392e852aaf",
   "metadata": {
    "ExecuteTime": {
     "end_time": "2025-08-18T16:33:00.464032Z",
     "start_time": "2025-08-18T16:33:00.103769Z"
    }
   },
   "source": [
    "# Random rand creates array from [0, 1) by np.random.rand(number of values)\n",
    "random_rand = np.random.rand(5)\n",
    "print(random_rand)"
   ],
   "outputs": [
    {
     "name": "stdout",
     "output_type": "stream",
     "text": [
      "[0.16581928 0.06200409 0.56880568 0.75247594 0.25579447]\n"
     ]
    }
   ],
   "execution_count": 9
  },
  {
   "cell_type": "code",
   "id": "472a2f920341c4a6",
   "metadata": {
    "ExecuteTime": {
     "end_time": "2025-08-18T16:33:00.494841Z",
     "start_time": "2025-08-18T16:33:00.487855Z"
    }
   },
   "source": [
    "# Random randn creates an array for disribution by np.random.randn(number of values)\n",
    "random_randn = np.random.randn(5)\n",
    "print(random_randn)"
   ],
   "outputs": [
    {
     "name": "stdout",
     "output_type": "stream",
     "text": [
      "[0.97480301 0.77868336 0.99646247 1.09824666 0.4929667 ]\n"
     ]
    }
   ],
   "execution_count": 10
  },
  {
   "cell_type": "code",
   "id": "e9dcda1fc3cd7e50",
   "metadata": {
    "ExecuteTime": {
     "end_time": "2025-08-18T16:33:00.557433Z",
     "start_time": "2025-08-18T16:33:00.522368Z"
    }
   },
   "source": [
    "# Random randint creates an array by np.random.randint(start, stop, size = ...)\n",
    "random_randint = np.random.randint(1, 10, size = 5)\n",
    "print(random_randint)"
   ],
   "outputs": [
    {
     "name": "stdout",
     "output_type": "stream",
     "text": [
      "[2 4 4 9 7]\n"
     ]
    }
   ],
   "execution_count": 11
  },
  {
   "cell_type": "code",
   "id": "47f2af761c49cda4",
   "metadata": {
    "ExecuteTime": {
     "end_time": "2025-08-18T16:33:00.597296Z",
     "start_time": "2025-08-18T16:33:00.590826Z"
    }
   },
   "source": [
    "# Random random creates a matrix from [0, 1) by np.random.random([rows, columns])\n",
    "random_random = np.random.random([2, 2])\n",
    "print(random_random)"
   ],
   "outputs": [
    {
     "name": "stdout",
     "output_type": "stream",
     "text": [
      "[[0.07374497 0.58545514]\n",
      " [0.28292539 0.16103352]]\n"
     ]
    }
   ],
   "execution_count": 12
  },
  {
   "cell_type": "code",
   "id": "1e9ab3c72000544c",
   "metadata": {
    "ExecuteTime": {
     "end_time": "2025-08-18T16:33:00.636914Z",
     "start_time": "2025-08-18T16:33:00.627413Z"
    }
   },
   "source": [
    "# Default generator creates an object to implement methods\n",
    "rng = np.random.default_rng()\n",
    "# Random method creates an array from [0, 1) by .random(number of values)\n",
    "print(rng.random(5))\n",
    "# Integer method creates an array by .integers(start, stop, size = )\n",
    "print(rng.integers(1, 10, size = 5))\n",
    "# Choice chooses by .choice(list, size = ..., replace = True/False )\n",
    "print(rng.choice([10, 20, 30, 40], size = 3, replace = False))\n",
    "# Shuffle randomly shuffles an array\n",
    "arr = np.arange(5)\n",
    "rng.shuffle(arr)\n",
    "print(arr)"
   ],
   "outputs": [
    {
     "name": "stdout",
     "output_type": "stream",
     "text": [
      "[0.52348583 0.56015632 0.91714269 0.41973658 0.44256284]\n",
      "[5 7 4 4 2]\n",
      "[40 10 30]\n",
      "[2 0 4 3 1]\n"
     ]
    }
   ],
   "execution_count": 13
  },
  {
   "cell_type": "code",
   "id": "a4835b19424197f3",
   "metadata": {
    "ExecuteTime": {
     "end_time": "2025-08-18T16:33:00.669341Z",
     "start_time": "2025-08-18T16:33:00.662406Z"
    }
   },
   "source": [
    "# Diag either outputs the diagonal of the matrix of gives matrix with 0s and diagonal of given array(k is offset)\n",
    "print(np.diag([1, 2, 3], k = 0))\n",
    "arr = np.random.random([3, 3])\n",
    "print(np.diag(arr))"
   ],
   "outputs": [
    {
     "name": "stdout",
     "output_type": "stream",
     "text": [
      "[[1 0 0]\n",
      " [0 2 0]\n",
      " [0 0 3]]\n",
      "[0.16364534 0.11594363 0.97511404]\n"
     ]
    }
   ],
   "execution_count": 14
  },
  {
   "cell_type": "code",
   "id": "fdf00b6a92eb5773",
   "metadata": {
    "ExecuteTime": {
     "end_time": "2025-08-18T16:33:00.701315Z",
     "start_time": "2025-08-18T16:33:00.694512Z"
    }
   },
   "source": [
    "# Zeros creates zero matrix with np.zeros([rows, columns])\n",
    "zero_matrix = np.zeros([2, 2])\n",
    "print(zero_matrix)"
   ],
   "outputs": [
    {
     "name": "stdout",
     "output_type": "stream",
     "text": [
      "[[0. 0.]\n",
      " [0. 0.]]\n"
     ]
    }
   ],
   "execution_count": 15
  },
  {
   "cell_type": "code",
   "id": "6aa931496477d3a8",
   "metadata": {
    "ExecuteTime": {
     "end_time": "2025-08-18T16:33:00.737242Z",
     "start_time": "2025-08-18T16:33:00.731430Z"
    }
   },
   "source": [
    "# Ones creates one matrix with np.ones([rows, columns])\n",
    "ones_matrix = np.ones([2, 2])\n",
    "print(ones_matrix)"
   ],
   "outputs": [
    {
     "name": "stdout",
     "output_type": "stream",
     "text": [
      "[[1. 1.]\n",
      " [1. 1.]]\n"
     ]
    }
   ],
   "execution_count": 16
  },
  {
   "cell_type": "code",
   "id": "e4dc2609aacc9d7",
   "metadata": {
    "ExecuteTime": {
     "end_time": "2025-08-18T16:33:00.770263Z",
     "start_time": "2025-08-18T16:33:00.762641Z"
    }
   },
   "source": [
    "# Itemsize returns bytes per element\n",
    "matrix = np.random.random([3, 3])\n",
    "matrix.itemsize"
   ],
   "outputs": [
    {
     "data": {
      "text/plain": [
       "8"
      ]
     },
     "execution_count": 17,
     "metadata": {},
     "output_type": "execute_result"
    }
   ],
   "execution_count": 17
  },
  {
   "cell_type": "code",
   "id": "ea84885b6c5be881",
   "metadata": {
    "ExecuteTime": {
     "end_time": "2025-08-18T16:33:00.802027Z",
     "start_time": "2025-08-18T16:33:00.796525Z"
    }
   },
   "source": [
    "# Nbytes returns total number of bytes\n",
    "matrix.nbytes"
   ],
   "outputs": [
    {
     "data": {
      "text/plain": [
       "72"
      ]
     },
     "execution_count": 18,
     "metadata": {},
     "output_type": "execute_result"
    }
   ],
   "execution_count": 18
  },
  {
   "cell_type": "code",
   "id": "c9d46cb3a6d3a138",
   "metadata": {
    "ExecuteTime": {
     "end_time": "2025-08-18T16:33:00.829547Z",
     "start_time": "2025-08-18T16:33:00.822061Z"
    }
   },
   "source": [
    "# Ndim returns number of dimensions\n",
    "matrix.ndim"
   ],
   "outputs": [
    {
     "data": {
      "text/plain": [
       "2"
      ]
     },
     "execution_count": 19,
     "metadata": {},
     "output_type": "execute_result"
    }
   ],
   "execution_count": 19
  },
  {
   "cell_type": "code",
   "id": "849400797fac7b4a",
   "metadata": {
    "ExecuteTime": {
     "end_time": "2025-08-18T16:33:00.868387Z",
     "start_time": "2025-08-18T16:33:00.863032Z"
    }
   },
   "source": [
    "# Matrix manipulation\n",
    "matrix = np.random.randint(1, 10, size = (3, 3))\n",
    "print(matrix)\n",
    "print(matrix[1, 1])"
   ],
   "outputs": [
    {
     "name": "stdout",
     "output_type": "stream",
     "text": [
      "[[9 3 8]\n",
      " [7 3 6]\n",
      " [7 1 6]]\n",
      "3\n"
     ]
    }
   ],
   "execution_count": 20
  },
  {
   "cell_type": "code",
   "id": "75a64a52307ba0e9",
   "metadata": {
    "ExecuteTime": {
     "end_time": "2025-08-18T16:33:00.910747Z",
     "start_time": "2025-08-18T16:33:00.903320Z"
    }
   },
   "source": [
    "# Mask in applying boolean condition to an array\n",
    "arr = np.random.randint(1, 10, size = 10)\n",
    "mask = arr > 5\n",
    "print(arr[mask])\n",
    "# Also can be applied by np.where()\n",
    "print(np.where(arr < 5))"
   ],
   "outputs": [
    {
     "name": "stdout",
     "output_type": "stream",
     "text": [
      "[7 8 7 6 8]\n",
      "(array([1, 7, 8, 9]),)\n"
     ]
    }
   ],
   "execution_count": 21
  },
  {
   "cell_type": "code",
   "id": "5b690afbf64e3c2f",
   "metadata": {
    "ExecuteTime": {
     "end_time": "2025-08-18T16:33:00.951074Z",
     "start_time": "2025-08-18T16:33:00.946427Z"
    }
   },
   "source": [
    "# Fancy indexing\n",
    "arange = np.arange(10)\n",
    "print(arange)\n",
    "indexes = [0, 1, 3]\n",
    "print(arange[indexes])"
   ],
   "outputs": [
    {
     "name": "stdout",
     "output_type": "stream",
     "text": [
      "[0 1 2 3 4 5 6 7 8 9]\n",
      "[0 1 3]\n"
     ]
    }
   ],
   "execution_count": 22
  },
  {
   "cell_type": "code",
   "id": "6c4f9578fc21afd",
   "metadata": {
    "ExecuteTime": {
     "end_time": "2025-08-18T16:33:01.001847Z",
     "start_time": "2025-08-18T16:33:00.993790Z"
    }
   },
   "source": [
    "# Take is similar to fancy indexing but works by np.take(..., [], axis = 0/1)\n",
    "matrix = np.random.randint(1, 5, size = (3, 3))\n",
    "print(matrix)\n",
    "print(np.take(matrix, [0, 2], axis = 0))\n",
    "print('---------------------')\n",
    "arr = np.random.randint(1, 5, size = 5)\n",
    "print(arr)\n",
    "print(np.take(arr, [0, 3]))\n",
    "indexes = [0, 3]\n",
    "# Or\n",
    "print(arr.take(indexes))\n",
    "# Or\n",
    "arr_index = np.take(arr, indexes)\n",
    "print(arr_index)"
   ],
   "outputs": [
    {
     "name": "stdout",
     "output_type": "stream",
     "text": [
      "[[3 3 2]\n",
      " [2 3 1]\n",
      " [1 2 4]]\n",
      "[[3 3 2]\n",
      " [1 2 4]]\n",
      "---------------------\n",
      "[1 4 4 2 1]\n",
      "[1 2]\n",
      "[1 2]\n",
      "[1 2]\n"
     ]
    }
   ],
   "execution_count": 23
  },
  {
   "cell_type": "code",
   "id": "61debb712fc199c",
   "metadata": {
    "ExecuteTime": {
     "end_time": "2025-08-18T16:33:01.045986Z",
     "start_time": "2025-08-18T16:33:01.039106Z"
    }
   },
   "source": [
    "# Matrix multiplication by dot product np.dot(matrix, matrix)\n",
    "A = np.random.randint(1, 5, size = (3, 3))\n",
    "print(A)\n",
    "print(np.dot(A, A))"
   ],
   "outputs": [
    {
     "name": "stdout",
     "output_type": "stream",
     "text": [
      "[[3 3 2]\n",
      " [4 4 1]\n",
      " [4 1 3]]\n",
      "[[29 23 15]\n",
      " [32 29 15]\n",
      " [28 19 18]]\n"
     ]
    }
   ],
   "execution_count": 24
  },
  {
   "cell_type": "code",
   "id": "9dfc17f5db8817cd",
   "metadata": {
    "ExecuteTime": {
     "end_time": "2025-08-18T16:33:01.099439Z",
     "start_time": "2025-08-18T16:33:01.095894Z"
    }
   },
   "source": [
    "# .T transforms shape of the matrix (x, y, ...) (..., y, x)\n",
    "print(A.T)"
   ],
   "outputs": [
    {
     "name": "stdout",
     "output_type": "stream",
     "text": [
      "[[3 4 4]\n",
      " [3 4 1]\n",
      " [2 1 3]]\n"
     ]
    }
   ],
   "execution_count": 25
  },
  {
   "metadata": {
    "ExecuteTime": {
     "end_time": "2025-08-18T16:46:40.118653Z",
     "start_time": "2025-08-18T16:46:40.109452Z"
    }
   },
   "cell_type": "code",
   "source": [
    "import pandas as pd\n",
    "import numpy as np\n",
    "arange = np.arange(1, 100)\n",
    "df = pd.DataFrame(arange)\n",
    "length = len(df)\n",
    "index_25 = df.iloc[length // 4]\n",
    "print(index_25)\n",
    "index_75 = df.iloc[(length * 3)// 4]\n",
    "print(index_75)\n",
    "diff = index_75 - index_25\n",
    "print(df - diff)"
   ],
   "id": "9f43987d5dec71b7",
   "outputs": [
    {
     "name": "stdout",
     "output_type": "stream",
     "text": [
      "0    25\n",
      "Name: 24, dtype: int64\n",
      "0    75\n",
      "Name: 74, dtype: int64\n",
      "     0\n",
      "0  -49\n",
      "1  -48\n",
      "2  -47\n",
      "3  -46\n",
      "4  -45\n",
      "..  ..\n",
      "94  45\n",
      "95  46\n",
      "96  47\n",
      "97  48\n",
      "98  49\n",
      "\n",
      "[99 rows x 1 columns]\n"
     ]
    }
   ],
   "execution_count": 38
  }
 ],
 "metadata": {
  "kernelspec": {
   "display_name": "Python 3 (ipykernel)",
   "language": "python",
   "name": "python3"
  },
  "language_info": {
   "codemirror_mode": {
    "name": "ipython",
    "version": 3
   },
   "file_extension": ".py",
   "mimetype": "text/x-python",
   "name": "python",
   "nbconvert_exporter": "python",
   "pygments_lexer": "ipython3",
   "version": "3.12.7"
  }
 },
 "nbformat": 4,
 "nbformat_minor": 5
}
