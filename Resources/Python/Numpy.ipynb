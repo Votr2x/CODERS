{
 "cells": [
  {
   "cell_type": "code",
   "id": "initial_id",
   "metadata": {
    "collapsed": true,
    "ExecuteTime": {
     "end_time": "2025-08-17T18:59:27.766109Z",
     "start_time": "2025-08-17T18:59:27.517688Z"
    }
   },
   "source": [
    "from zipfile import sizeEndCentDir\n",
    "\n",
    "import numpy as np"
   ],
   "outputs": [],
   "execution_count": 1
  },
  {
   "metadata": {
    "ExecuteTime": {
     "end_time": "2025-08-17T20:22:42.029925Z",
     "start_time": "2025-08-17T20:22:42.007312Z"
    }
   },
   "cell_type": "code",
   "source": [
    "# Classic array np.array([...], dtype = ...)\n",
    "array = np.array([1, 2, 3], dtype = float)\n",
    "print(array)"
   ],
   "id": "846662fd0527bb25",
   "outputs": [
    {
     "name": "stdout",
     "output_type": "stream",
     "text": [
      "[1. 2. 3.]\n"
     ]
    }
   ],
   "execution_count": 8
  },
  {
   "metadata": {
    "ExecuteTime": {
     "end_time": "2025-08-17T20:22:42.631720Z",
     "start_time": "2025-08-17T20:22:42.619471Z"
    }
   },
   "cell_type": "code",
   "source": [
    "print(array.shape)\n",
    "print(array.size)"
   ],
   "id": "447e390dcbb5a587",
   "outputs": [
    {
     "name": "stdout",
     "output_type": "stream",
     "text": [
      "(3,)\n",
      "3\n"
     ]
    }
   ],
   "execution_count": 9
  },
  {
   "metadata": {
    "ExecuteTime": {
     "end_time": "2025-08-17T20:22:43.050360Z",
     "start_time": "2025-08-17T20:22:43.032934Z"
    }
   },
   "cell_type": "code",
   "source": [
    "# Array is mutable(only for compatible data type)\n",
    "array[0] = 2\n",
    "print(array)"
   ],
   "id": "18d2c412cf36bfcc",
   "outputs": [
    {
     "name": "stdout",
     "output_type": "stream",
     "text": [
      "[2. 2. 3.]\n"
     ]
    }
   ],
   "execution_count": 10
  },
  {
   "metadata": {
    "ExecuteTime": {
     "end_time": "2025-08-17T20:24:04.420396Z",
     "start_time": "2025-08-17T20:24:04.403794Z"
    }
   },
   "cell_type": "code",
   "source": [
    "# Arange creates an array by np.arange(start, stop, step)\n",
    "arange = np.arange(0, 10, 2)\n",
    "print(arange)"
   ],
   "id": "106b6e31b68240e7",
   "outputs": [
    {
     "name": "stdout",
     "output_type": "stream",
     "text": [
      "[0 2 4 6 8]\n"
     ]
    }
   ],
   "execution_count": 12
  },
  {
   "metadata": {
    "ExecuteTime": {
     "end_time": "2025-08-17T20:27:09.301966Z",
     "start_time": "2025-08-17T20:27:09.294918Z"
    }
   },
   "cell_type": "code",
   "source": [
    "# Linspace creates an array by np.linspace(start, stop, number of values) difference by equal value\n",
    "linspace = np.linspace(1, 10, 5)\n",
    "print(linspace)"
   ],
   "id": "96661e06d4e2e2ec",
   "outputs": [
    {
     "name": "stdout",
     "output_type": "stream",
     "text": [
      "[ 1.    3.25  5.5   7.75 10.  ]\n"
     ]
    }
   ],
   "execution_count": 20
  },
  {
   "metadata": {
    "ExecuteTime": {
     "end_time": "2025-08-17T20:31:19.869839Z",
     "start_time": "2025-08-17T20:31:19.860158Z"
    }
   },
   "cell_type": "code",
   "source": [
    "# Logspace creates an array by np.logspace(start, stop, number of values, base = ...)\n",
    "logspace = np.logspace(1, 3, 3, base = 2)\n",
    "print(logspace)"
   ],
   "id": "8984450ef2538d79",
   "outputs": [
    {
     "name": "stdout",
     "output_type": "stream",
     "text": [
      "[2. 4. 8.]\n"
     ]
    }
   ],
   "execution_count": 21
  },
  {
   "metadata": {
    "ExecuteTime": {
     "end_time": "2025-08-17T20:49:33.300522Z",
     "start_time": "2025-08-17T20:49:33.280516Z"
    }
   },
   "cell_type": "code",
   "source": [
    "# Meshgrid eqalises number of rows and columns to create all possible combinations\n",
    "x = np.array([1, 2, 3])\n",
    "y = np.array([4, 5, 6])\n",
    "\n",
    "X, Y = np.meshgrid(x, y)\n",
    "print(X)\n",
    "print(Y)"
   ],
   "id": "a9f822ba0c1f5f19",
   "outputs": [
    {
     "name": "stdout",
     "output_type": "stream",
     "text": [
      "[[1 2 3]\n",
      " [1 2 3]\n",
      " [1 2 3]]\n",
      "[[4 4 4]\n",
      " [5 5 5]\n",
      " [6 6 6]]\n"
     ]
    }
   ],
   "execution_count": 25
  },
  {
   "metadata": {
    "ExecuteTime": {
     "end_time": "2025-08-17T20:53:06.705904Z",
     "start_time": "2025-08-17T20:53:06.687818Z"
    }
   },
   "cell_type": "code",
   "source": [
    "# Random rand creates array from [0, 1) by np.random.rand(number of values)\n",
    "random_rand = np.random.rand(5)\n",
    "print(random_rand)"
   ],
   "id": "ae8c4b392e852aaf",
   "outputs": [
    {
     "name": "stdout",
     "output_type": "stream",
     "text": [
      "[0.87607634 0.25781836 0.84186507 0.47776244 0.64483234]\n"
     ]
    }
   ],
   "execution_count": 28
  },
  {
   "metadata": {
    "ExecuteTime": {
     "end_time": "2025-08-17T20:55:48.406203Z",
     "start_time": "2025-08-17T20:55:48.396766Z"
    }
   },
   "cell_type": "code",
   "source": [
    "# Random randn creates an array for disribution by np.random.randn(number of values)\n",
    "random_randn = np.random.randn(5)\n",
    "print(random_randn)"
   ],
   "id": "472a2f920341c4a6",
   "outputs": [
    {
     "name": "stdout",
     "output_type": "stream",
     "text": [
      "[-0.59356176  0.65280429 -0.03308658  0.7785043   1.81427514]\n"
     ]
    }
   ],
   "execution_count": 29
  },
  {
   "metadata": {
    "ExecuteTime": {
     "end_time": "2025-08-17T20:57:24.811734Z",
     "start_time": "2025-08-17T20:57:24.805442Z"
    }
   },
   "cell_type": "code",
   "source": [
    "# Random randint creates an array by np.random.randint(start, stop, size = ...)\n",
    "random_randint = np.random.randint(1, 10, size = 5)\n",
    "print(random_randint)"
   ],
   "id": "e9dcda1fc3cd7e50",
   "outputs": [
    {
     "name": "stdout",
     "output_type": "stream",
     "text": [
      "[3 6 8 2 7]\n"
     ]
    }
   ],
   "execution_count": 30
  },
  {
   "metadata": {
    "ExecuteTime": {
     "end_time": "2025-08-17T20:59:21.774037Z",
     "start_time": "2025-08-17T20:59:21.756618Z"
    }
   },
   "cell_type": "code",
   "source": [
    "# Random random creates a matrix from [0, 1) by np.random.random([rows, columns])\n",
    "random_random = np.random.random([2, 2])\n",
    "print(random_random)"
   ],
   "id": "47f2af761c49cda4",
   "outputs": [
    {
     "name": "stdout",
     "output_type": "stream",
     "text": [
      "[[0.45803    0.08543341]\n",
      " [0.65266374 0.64595462]]\n"
     ]
    }
   ],
   "execution_count": 33
  },
  {
   "metadata": {
    "ExecuteTime": {
     "end_time": "2025-08-17T21:13:34.481782Z",
     "start_time": "2025-08-17T21:13:34.456128Z"
    }
   },
   "cell_type": "code",
   "source": [
    "# Default generator creates an object to implement methods\n",
    "rng = np.random.default_rng()\n",
    "# Random method creates an array from [0, 1) by .random(number of values)\n",
    "print(rng.random(5))\n",
    "# Integer method creates an array by .integers(start, stop, size = )\n",
    "print(rng.integers(1, 10, size = 5))\n",
    "# Choice chooses by .choice(list, size = ..., replace = True/False )\n",
    "print(rng.choice([10, 20, 30, 40], size = 3, replace = False))\n",
    "# Shuffle randomly shuffles an array\n",
    "arr = np.arange(5)\n",
    "rng.shuffle(arr)\n",
    "print(arr)"
   ],
   "id": "1e9ab3c72000544c",
   "outputs": [
    {
     "name": "stdout",
     "output_type": "stream",
     "text": [
      "[0.58030572 0.47779656 0.15034088 0.60910842 0.61500008]\n",
      "[6 7 5 8 5]\n",
      "[10 40 20]\n",
      "[1 4 0 2 3]\n"
     ]
    }
   ],
   "execution_count": 38
  }
 ],
 "metadata": {
  "kernelspec": {
   "display_name": "Python 3",
   "language": "python",
   "name": "python3"
  },
  "language_info": {
   "codemirror_mode": {
    "name": "ipython",
    "version": 2
   },
   "file_extension": ".py",
   "mimetype": "text/x-python",
   "name": "python",
   "nbconvert_exporter": "python",
   "pygments_lexer": "ipython2",
   "version": "2.7.6"
  }
 },
 "nbformat": 4,
 "nbformat_minor": 5
}
