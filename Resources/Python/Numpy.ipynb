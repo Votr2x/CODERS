{
 "cells": [
  {
   "cell_type": "code",
   "execution_count": 1,
   "id": "initial_id",
   "metadata": {
    "ExecuteTime": {
     "end_time": "2025-08-18T15:12:48.800684Z",
     "start_time": "2025-08-18T15:12:48.639931Z"
    },
    "collapsed": true,
    "jupyter": {
     "outputs_hidden": true
    }
   },
   "outputs": [],
   "source": [
    "import numpy as np"
   ]
  },
  {
   "cell_type": "code",
   "execution_count": 2,
   "id": "846662fd0527bb25",
   "metadata": {
    "ExecuteTime": {
     "end_time": "2025-08-18T15:12:48.838843Z",
     "start_time": "2025-08-18T15:12:48.830882Z"
    }
   },
   "outputs": [
    {
     "name": "stdout",
     "output_type": "stream",
     "text": [
      "[1. 2. 3.]\n"
     ]
    }
   ],
   "source": [
    "# Classic array np.array([...], dtype = ...)\n",
    "array = np.array([1, 2, 3], dtype = float)\n",
    "print(array)"
   ]
  },
  {
   "cell_type": "code",
   "execution_count": 3,
   "id": "447e390dcbb5a587",
   "metadata": {
    "ExecuteTime": {
     "end_time": "2025-08-18T15:12:48.895835Z",
     "start_time": "2025-08-18T15:12:48.889755Z"
    }
   },
   "outputs": [
    {
     "name": "stdout",
     "output_type": "stream",
     "text": [
      "(3,)\n",
      "3\n"
     ]
    }
   ],
   "source": [
    "print(array.shape)\n",
    "print(array.size)"
   ]
  },
  {
   "cell_type": "code",
   "execution_count": 4,
   "id": "18d2c412cf36bfcc",
   "metadata": {
    "ExecuteTime": {
     "end_time": "2025-08-18T15:12:48.969674Z",
     "start_time": "2025-08-18T15:12:48.964040Z"
    }
   },
   "outputs": [
    {
     "name": "stdout",
     "output_type": "stream",
     "text": [
      "[2. 2. 3.]\n"
     ]
    }
   ],
   "source": [
    "# Array is mutable(only for compatible data type)\n",
    "array[0] = 2\n",
    "print(array)"
   ]
  },
  {
   "cell_type": "code",
   "execution_count": 5,
   "id": "106b6e31b68240e7",
   "metadata": {
    "ExecuteTime": {
     "end_time": "2025-08-18T15:12:49.027852Z",
     "start_time": "2025-08-18T15:12:49.022890Z"
    }
   },
   "outputs": [
    {
     "name": "stdout",
     "output_type": "stream",
     "text": [
      "[0 2 4 6 8]\n"
     ]
    }
   ],
   "source": [
    "# Arange creates an array by np.arange(start, stop, step)\n",
    "arange = np.arange(0, 10, 2)\n",
    "print(arange)"
   ]
  },
  {
   "cell_type": "code",
   "execution_count": 6,
   "id": "96661e06d4e2e2ec",
   "metadata": {
    "ExecuteTime": {
     "end_time": "2025-08-18T15:12:49.099031Z",
     "start_time": "2025-08-18T15:12:49.094214Z"
    }
   },
   "outputs": [
    {
     "name": "stdout",
     "output_type": "stream",
     "text": [
      "[ 1.    3.25  5.5   7.75 10.  ]\n"
     ]
    }
   ],
   "source": [
    "# Linspace creates an array by np.linspace(start, stop, number of values) difference by equal value\n",
    "linspace = np.linspace(1, 10, 5)\n",
    "print(linspace)"
   ]
  },
  {
   "cell_type": "code",
   "execution_count": 7,
   "id": "8984450ef2538d79",
   "metadata": {
    "ExecuteTime": {
     "end_time": "2025-08-18T15:12:49.153568Z",
     "start_time": "2025-08-18T15:12:49.147596Z"
    }
   },
   "outputs": [
    {
     "name": "stdout",
     "output_type": "stream",
     "text": [
      "[2. 4. 8.]\n"
     ]
    }
   ],
   "source": [
    "# Logspace creates an array by np.logspace(start, stop, number of values, base = ...)\n",
    "logspace = np.logspace(1, 3, 3, base = 2)\n",
    "print(logspace)"
   ]
  },
  {
   "cell_type": "code",
   "execution_count": 8,
   "id": "a9f822ba0c1f5f19",
   "metadata": {
    "ExecuteTime": {
     "end_time": "2025-08-18T15:12:49.246275Z",
     "start_time": "2025-08-18T15:12:49.239690Z"
    }
   },
   "outputs": [
    {
     "name": "stdout",
     "output_type": "stream",
     "text": [
      "[[1 2 3]\n",
      " [1 2 3]\n",
      " [1 2 3]]\n",
      "[[4 4 4]\n",
      " [5 5 5]\n",
      " [6 6 6]]\n"
     ]
    }
   ],
   "source": [
    "# Meshgrid eqalises number of rows and columns to create all possible combinations\n",
    "x = np.array([1, 2, 3])\n",
    "y = np.array([4, 5, 6])\n",
    "\n",
    "X, Y = np.meshgrid(x, y)\n",
    "print(X)\n",
    "print(Y)"
   ]
  },
  {
   "cell_type": "code",
   "execution_count": 9,
   "id": "ae8c4b392e852aaf",
   "metadata": {
    "ExecuteTime": {
     "end_time": "2025-08-18T15:12:49.397414Z",
     "start_time": "2025-08-18T15:12:49.356219Z"
    }
   },
   "outputs": [
    {
     "name": "stdout",
     "output_type": "stream",
     "text": [
      "[0.99798578 0.177051   0.13196002 0.38580352 0.45154183]\n"
     ]
    }
   ],
   "source": [
    "# Random rand creates array from [0, 1) by np.random.rand(number of values)\n",
    "random_rand = np.random.rand(5)\n",
    "print(random_rand)"
   ]
  },
  {
   "cell_type": "code",
   "execution_count": 10,
   "id": "472a2f920341c4a6",
   "metadata": {
    "ExecuteTime": {
     "end_time": "2025-08-18T15:12:49.423368Z",
     "start_time": "2025-08-18T15:12:49.417993Z"
    }
   },
   "outputs": [
    {
     "name": "stdout",
     "output_type": "stream",
     "text": [
      "[-0.64304935 -2.31942923 -1.00005277 -0.24597606 -0.63212113]\n"
     ]
    }
   ],
   "source": [
    "# Random randn creates an array for disribution by np.random.randn(number of values)\n",
    "random_randn = np.random.randn(5)\n",
    "print(random_randn)"
   ]
  },
  {
   "cell_type": "code",
   "execution_count": 11,
   "id": "e9dcda1fc3cd7e50",
   "metadata": {
    "ExecuteTime": {
     "end_time": "2025-08-18T15:12:49.470350Z",
     "start_time": "2025-08-18T15:12:49.465164Z"
    }
   },
   "outputs": [
    {
     "name": "stdout",
     "output_type": "stream",
     "text": [
      "[9 2 9 4 4]\n"
     ]
    }
   ],
   "source": [
    "# Random randint creates an array by np.random.randint(start, stop, size = ...)\n",
    "random_randint = np.random.randint(1, 10, size = 5)\n",
    "print(random_randint)"
   ]
  },
  {
   "cell_type": "code",
   "execution_count": 12,
   "id": "47f2af761c49cda4",
   "metadata": {
    "ExecuteTime": {
     "end_time": "2025-08-18T15:12:49.531636Z",
     "start_time": "2025-08-18T15:12:49.526699Z"
    }
   },
   "outputs": [
    {
     "name": "stdout",
     "output_type": "stream",
     "text": [
      "[[0.12103682 0.56924336]\n",
      " [0.50404711 0.21052217]]\n"
     ]
    }
   ],
   "source": [
    "# Random random creates a matrix from [0, 1) by np.random.random([rows, columns])\n",
    "random_random = np.random.random([2, 2])\n",
    "print(random_random)"
   ]
  },
  {
   "cell_type": "code",
   "execution_count": 13,
   "id": "1e9ab3c72000544c",
   "metadata": {
    "ExecuteTime": {
     "end_time": "2025-08-18T15:12:49.575247Z",
     "start_time": "2025-08-18T15:12:49.568564Z"
    }
   },
   "outputs": [
    {
     "name": "stdout",
     "output_type": "stream",
     "text": [
      "[0.0443409  0.04885281 0.50416967 0.44783911 0.62777447]\n",
      "[6 3 2 6 1]\n",
      "[20 40 30]\n",
      "[0 4 2 1 3]\n"
     ]
    }
   ],
   "source": [
    "# Default generator creates an object to implement methods\n",
    "rng = np.random.default_rng()\n",
    "# Random method creates an array from [0, 1) by .random(number of values)\n",
    "print(rng.random(5))\n",
    "# Integer method creates an array by .integers(start, stop, size = )\n",
    "print(rng.integers(1, 10, size = 5))\n",
    "# Choice chooses by .choice(list, size = ..., replace = True/False )\n",
    "print(rng.choice([10, 20, 30, 40], size = 3, replace = False))\n",
    "# Shuffle randomly shuffles an array\n",
    "arr = np.arange(5)\n",
    "rng.shuffle(arr)\n",
    "print(arr)"
   ]
  },
  {
   "cell_type": "code",
   "execution_count": 14,
   "id": "a4835b19424197f3",
   "metadata": {
    "ExecuteTime": {
     "end_time": "2025-08-18T15:12:49.624339Z",
     "start_time": "2025-08-18T15:12:49.618916Z"
    }
   },
   "outputs": [
    {
     "name": "stdout",
     "output_type": "stream",
     "text": [
      "[[1 0 0]\n",
      " [0 2 0]\n",
      " [0 0 3]]\n",
      "[0.32860954 0.06139764 0.21292647]\n"
     ]
    }
   ],
   "source": [
    "# Diag either outputs the diagonal of the matrix of gives matrix with 0s and diagonal of given array(k is offset)\n",
    "print(np.diag([1, 2, 3], k = 0))\n",
    "arr = np.random.random([3, 3])\n",
    "print(np.diag(arr))"
   ]
  },
  {
   "cell_type": "code",
   "execution_count": 15,
   "id": "fdf00b6a92eb5773",
   "metadata": {
    "ExecuteTime": {
     "end_time": "2025-08-18T15:12:49.698269Z",
     "start_time": "2025-08-18T15:12:49.692970Z"
    }
   },
   "outputs": [
    {
     "name": "stdout",
     "output_type": "stream",
     "text": [
      "[[0. 0.]\n",
      " [0. 0.]]\n"
     ]
    }
   ],
   "source": [
    "# Zeros creates zero matrix with np.zeros([rows, columns])\n",
    "zero_matrix = np.zeros([2, 2])\n",
    "print(zero_matrix)"
   ]
  },
  {
   "cell_type": "code",
   "execution_count": 16,
   "id": "6aa931496477d3a8",
   "metadata": {
    "ExecuteTime": {
     "end_time": "2025-08-18T15:12:49.754285Z",
     "start_time": "2025-08-18T15:12:49.749218Z"
    }
   },
   "outputs": [
    {
     "name": "stdout",
     "output_type": "stream",
     "text": [
      "[[1. 1.]\n",
      " [1. 1.]]\n"
     ]
    }
   ],
   "source": [
    "# Ones creates one matrix with np.ones([rows, columns])\n",
    "ones_matrix = np.ones([2, 2])\n",
    "print(ones_matrix)"
   ]
  },
  {
   "cell_type": "code",
   "execution_count": 17,
   "id": "e4dc2609aacc9d7",
   "metadata": {
    "ExecuteTime": {
     "end_time": "2025-08-18T15:12:49.824051Z",
     "start_time": "2025-08-18T15:12:49.815149Z"
    }
   },
   "outputs": [
    {
     "data": {
      "text/plain": [
       "8"
      ]
     },
     "execution_count": 17,
     "metadata": {},
     "output_type": "execute_result"
    }
   ],
   "source": [
    "# Itemsize returns bytes per element\n",
    "matrix = np.random.random([3, 3])\n",
    "matrix.itemsize"
   ]
  },
  {
   "cell_type": "code",
   "execution_count": 18,
   "id": "ea84885b6c5be881",
   "metadata": {
    "ExecuteTime": {
     "end_time": "2025-08-18T15:12:49.871161Z",
     "start_time": "2025-08-18T15:12:49.866210Z"
    }
   },
   "outputs": [
    {
     "data": {
      "text/plain": [
       "72"
      ]
     },
     "execution_count": 18,
     "metadata": {},
     "output_type": "execute_result"
    }
   ],
   "source": [
    "# Nbytes returns total number of bytes\n",
    "matrix.nbytes"
   ]
  },
  {
   "cell_type": "code",
   "execution_count": 19,
   "id": "c9d46cb3a6d3a138",
   "metadata": {
    "ExecuteTime": {
     "end_time": "2025-08-18T15:12:49.912228Z",
     "start_time": "2025-08-18T15:12:49.906937Z"
    }
   },
   "outputs": [
    {
     "data": {
      "text/plain": [
       "2"
      ]
     },
     "execution_count": 19,
     "metadata": {},
     "output_type": "execute_result"
    }
   ],
   "source": [
    "# Ndim returns number of dimensions\n",
    "matrix.ndim"
   ]
  },
  {
   "cell_type": "code",
   "execution_count": 20,
   "id": "849400797fac7b4a",
   "metadata": {
    "ExecuteTime": {
     "end_time": "2025-08-18T15:12:49.974102Z",
     "start_time": "2025-08-18T15:12:49.967182Z"
    }
   },
   "outputs": [
    {
     "name": "stdout",
     "output_type": "stream",
     "text": [
      "[[1 5 2]\n",
      " [6 3 1]\n",
      " [9 2 7]]\n",
      "3\n"
     ]
    }
   ],
   "source": [
    "# Matrix manipulation\n",
    "matrix = np.random.randint(1, 10, size = (3, 3))\n",
    "print(matrix)\n",
    "print(matrix[1, 1])"
   ]
  },
  {
   "cell_type": "code",
   "execution_count": 21,
   "id": "75a64a52307ba0e9",
   "metadata": {
    "ExecuteTime": {
     "end_time": "2025-08-18T15:12:50.021113Z",
     "start_time": "2025-08-18T15:12:50.014309Z"
    }
   },
   "outputs": [
    {
     "name": "stdout",
     "output_type": "stream",
     "text": [
      "[6 9 8 7 6 8]\n",
      "(array([1, 5, 8, 9]),)\n"
     ]
    }
   ],
   "source": [
    "# Mask in applying boolean condition to an array\n",
    "arr = np.random.randint(1, 10, size = 10)\n",
    "mask = arr > 5\n",
    "print(arr[mask])\n",
    "# Also can be applied by np.where()\n",
    "print(np.where(arr < 5))"
   ]
  },
  {
   "cell_type": "code",
   "execution_count": 22,
   "id": "5b690afbf64e3c2f",
   "metadata": {
    "ExecuteTime": {
     "end_time": "2025-08-18T15:12:50.074469Z",
     "start_time": "2025-08-18T15:12:50.068084Z"
    }
   },
   "outputs": [
    {
     "name": "stdout",
     "output_type": "stream",
     "text": [
      "[0 1 2 3 4 5 6 7 8 9]\n",
      "[0 1 3]\n"
     ]
    }
   ],
   "source": [
    "# Fancy indexing\n",
    "arange = np.arange(10)\n",
    "print(arange)\n",
    "indexes = [0, 1, 3]\n",
    "print(arange[indexes])"
   ]
  },
  {
   "cell_type": "code",
   "execution_count": 23,
   "id": "6c4f9578fc21afd",
   "metadata": {
    "ExecuteTime": {
     "end_time": "2025-08-18T15:12:50.120797Z",
     "start_time": "2025-08-18T15:12:50.114549Z"
    }
   },
   "outputs": [
    {
     "name": "stdout",
     "output_type": "stream",
     "text": [
      "[[3 2 4]\n",
      " [2 2 1]\n",
      " [1 4 2]]\n",
      "[[3 2 4]\n",
      " [1 4 2]]\n",
      "---------------------\n",
      "[1 4 4 2 3]\n",
      "[1 2]\n",
      "[1 2]\n",
      "[1 2]\n"
     ]
    }
   ],
   "source": [
    "# Take is similar to fancy indexing but works by np.take(..., [], axis = 0/1)\n",
    "matrix = np.random.randint(1, 5, size = (3, 3))\n",
    "print(matrix)\n",
    "print(np.take(matrix, [0, 2], axis = 0))\n",
    "print('---------------------')\n",
    "arr = np.random.randint(1, 5, size = 5)\n",
    "print(arr)\n",
    "print(np.take(arr, [0, 3]))\n",
    "indexes = [0, 3]\n",
    "# Or\n",
    "print(arr.take(indexes))\n",
    "# Or\n",
    "arr_index = np.take(arr, indexes)\n",
    "print(arr_index)"
   ]
  },
  {
   "cell_type": "code",
   "execution_count": 24,
   "id": "426e8f098d10ae69",
   "metadata": {
    "ExecuteTime": {
     "end_time": "2025-08-18T15:12:50.771735Z",
     "start_time": "2025-08-18T15:12:50.163358Z"
    }
   },
   "outputs": [
    {
     "name": "stdout",
     "output_type": "stream",
     "text": [
      "50.0 28.722813232690143\n",
      "Empty DataFrame\n",
      "Columns: [x, y]\n",
      "Index: []\n"
     ]
    }
   ],
   "source": [
    "import pandas as pd\n",
    "import numpy as np\n",
    "\n",
    "x = np.arange(1, 100)\n",
    "y = 2 ** x\n",
    "df = pd.DataFrame({'x': x, 'y': y})\n",
    "df_new = df.sample(frac=2/3).sort_index()\n",
    "mean = df['x'].mean()\n",
    "std = df['x'].std()\n",
    "print(mean, std)\n",
    "df_filtered = df[(df['x'] > mean + 2*std) | (df['x'] < mean - 2*std)]\n",
    "print(df_filtered)"
   ]
  },
  {
   "cell_type": "code",
   "execution_count": 25,
   "id": "61debb712fc199c",
   "metadata": {
    "ExecuteTime": {
     "end_time": "2025-08-18T15:12:50.792390Z",
     "start_time": "2025-08-18T15:12:50.788021Z"
    }
   },
   "outputs": [
    {
     "name": "stdout",
     "output_type": "stream",
     "text": [
      "[[2 3 3]\n",
      " [1 2 2]\n",
      " [1 2 2]]\n",
      "[[10 18 18]\n",
      " [ 6 11 11]\n",
      " [ 6 11 11]]\n"
     ]
    }
   ],
   "source": [
    "# Matrix multiplication by dot product np.dot(matrix, matrix)\n",
    "A = np.random.randint(1, 5, size = (3, 3))\n",
    "print(A)\n",
    "print(np.dot(A, A))"
   ]
  },
  {
   "cell_type": "code",
   "execution_count": 26,
   "id": "9dfc17f5db8817cd",
   "metadata": {
    "ExecuteTime": {
     "end_time": "2025-08-18T15:12:50.889190Z",
     "start_time": "2025-08-18T15:12:50.884690Z"
    }
   },
   "outputs": [
    {
     "name": "stdout",
     "output_type": "stream",
     "text": [
      "[[2 1 1]\n",
      " [3 2 2]\n",
      " [3 2 2]]\n"
     ]
    }
   ],
   "source": [
    "# .T transforms shape of the matrix (x, y, ...) (..., y, x)\n",
    "print(A.T)"
   ]
  }
 ],
 "metadata": {
  "kernelspec": {
   "display_name": "Python [conda env:base] *",
   "language": "python",
   "name": "conda-base-py"
  },
  "language_info": {
   "codemirror_mode": {
    "name": "ipython",
    "version": 3
   },
   "file_extension": ".py",
   "mimetype": "text/x-python",
   "name": "python",
   "nbconvert_exporter": "python",
   "pygments_lexer": "ipython3",
   "version": "3.12.7"
  }
 },
 "nbformat": 4,
 "nbformat_minor": 5
}
