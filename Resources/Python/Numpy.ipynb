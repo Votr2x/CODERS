{
 "cells": [
  {
   "cell_type": "code",
   "id": "initial_id",
   "metadata": {
    "collapsed": true,
    "jupyter": {
     "outputs_hidden": true
    },
    "ExecuteTime": {
     "end_time": "2025-08-19T16:39:50.919628Z",
     "start_time": "2025-08-19T16:39:50.743780Z"
    }
   },
   "source": [
    "import numpy as np"
   ],
   "outputs": [],
   "execution_count": 1
  },
  {
   "cell_type": "code",
   "id": "846662fd0527bb25",
   "metadata": {
    "ExecuteTime": {
     "end_time": "2025-08-19T16:39:50.939047Z",
     "start_time": "2025-08-19T16:39:50.932789Z"
    }
   },
   "source": [
    "# Classic array np.array([...], dtype = ...)\n",
    "array = np.array([1, 2, 3], dtype = float)\n",
    "print(array)"
   ],
   "outputs": [
    {
     "name": "stdout",
     "output_type": "stream",
     "text": [
      "[1. 2. 3.]\n"
     ]
    }
   ],
   "execution_count": 2
  },
  {
   "cell_type": "code",
   "id": "447e390dcbb5a587",
   "metadata": {
    "ExecuteTime": {
     "end_time": "2025-08-19T16:39:51.001399Z",
     "start_time": "2025-08-19T16:39:50.990825Z"
    }
   },
   "source": [
    "print(array.shape)\n",
    "print(array.size)"
   ],
   "outputs": [
    {
     "name": "stdout",
     "output_type": "stream",
     "text": [
      "(3,)\n",
      "3\n"
     ]
    }
   ],
   "execution_count": 3
  },
  {
   "cell_type": "code",
   "id": "18d2c412cf36bfcc",
   "metadata": {
    "ExecuteTime": {
     "end_time": "2025-08-19T16:39:51.082482Z",
     "start_time": "2025-08-19T16:39:51.076884Z"
    }
   },
   "source": [
    "# Array is mutable(only for compatible data type)\n",
    "array[0] = 2\n",
    "print(array)"
   ],
   "outputs": [
    {
     "name": "stdout",
     "output_type": "stream",
     "text": [
      "[2. 2. 3.]\n"
     ]
    }
   ],
   "execution_count": 4
  },
  {
   "cell_type": "code",
   "id": "106b6e31b68240e7",
   "metadata": {
    "ExecuteTime": {
     "end_time": "2025-08-19T16:39:51.142466Z",
     "start_time": "2025-08-19T16:39:51.135962Z"
    }
   },
   "source": [
    "# Arange creates an array by np.arange(start, stop, step)\n",
    "arange = np.arange(0, 10, 2)\n",
    "print(arange)"
   ],
   "outputs": [
    {
     "name": "stdout",
     "output_type": "stream",
     "text": [
      "[0 2 4 6 8]\n"
     ]
    }
   ],
   "execution_count": 5
  },
  {
   "cell_type": "code",
   "id": "96661e06d4e2e2ec",
   "metadata": {
    "ExecuteTime": {
     "end_time": "2025-08-19T16:39:51.199259Z",
     "start_time": "2025-08-19T16:39:51.194651Z"
    }
   },
   "source": [
    "# Linspace creates an array by np.linspace(start, stop, number of values) difference by equal value\n",
    "linspace = np.linspace(1, 10, 5)\n",
    "print(linspace)"
   ],
   "outputs": [
    {
     "name": "stdout",
     "output_type": "stream",
     "text": [
      "[ 1.    3.25  5.5   7.75 10.  ]\n"
     ]
    }
   ],
   "execution_count": 6
  },
  {
   "cell_type": "code",
   "id": "8984450ef2538d79",
   "metadata": {
    "ExecuteTime": {
     "end_time": "2025-08-19T16:39:51.261081Z",
     "start_time": "2025-08-19T16:39:51.254468Z"
    }
   },
   "source": [
    "# Logspace creates an array by np.logspace(start, stop, number of values, base = ...)\n",
    "logspace = np.logspace(1, 3, 3, base = 2)\n",
    "print(logspace)"
   ],
   "outputs": [
    {
     "name": "stdout",
     "output_type": "stream",
     "text": [
      "[2. 4. 8.]\n"
     ]
    }
   ],
   "execution_count": 7
  },
  {
   "cell_type": "code",
   "id": "a9f822ba0c1f5f19",
   "metadata": {
    "ExecuteTime": {
     "end_time": "2025-08-19T16:39:51.318677Z",
     "start_time": "2025-08-19T16:39:51.312612Z"
    }
   },
   "source": [
    "# Meshgrid eqalises number of rows and columns to create all possible combinations\n",
    "x = np.array([1, 2, 3])\n",
    "y = np.array([4, 5, 6])\n",
    "\n",
    "X, Y = np.meshgrid(x, y)\n",
    "print(X)\n",
    "print(Y)"
   ],
   "outputs": [
    {
     "name": "stdout",
     "output_type": "stream",
     "text": [
      "[[1 2 3]\n",
      " [1 2 3]\n",
      " [1 2 3]]\n",
      "[[4 4 4]\n",
      " [5 5 5]\n",
      " [6 6 6]]\n"
     ]
    }
   ],
   "execution_count": 8
  },
  {
   "cell_type": "code",
   "id": "ae8c4b392e852aaf",
   "metadata": {
    "ExecuteTime": {
     "end_time": "2025-08-19T16:39:51.414577Z",
     "start_time": "2025-08-19T16:39:51.380088Z"
    }
   },
   "source": [
    "# Random rand creates array from [0, 1) by np.random.rand(number of values)\n",
    "random_rand = np.random.rand(5)\n",
    "print(random_rand)"
   ],
   "outputs": [
    {
     "name": "stdout",
     "output_type": "stream",
     "text": [
      "[0.42956235 0.6141724  0.0945977  0.38143987 0.46942116]\n"
     ]
    }
   ],
   "execution_count": 9
  },
  {
   "cell_type": "code",
   "id": "472a2f920341c4a6",
   "metadata": {
    "ExecuteTime": {
     "end_time": "2025-08-19T16:39:51.444544Z",
     "start_time": "2025-08-19T16:39:51.437515Z"
    }
   },
   "source": [
    "# Random randn creates an array for disribution by np.random.randn(number of values)\n",
    "random_randn = np.random.randn(5)\n",
    "print(random_randn)"
   ],
   "outputs": [
    {
     "name": "stdout",
     "output_type": "stream",
     "text": [
      "[ 0.0036813  -0.60460586 -0.56255082 -1.09538417  1.46890673]\n"
     ]
    }
   ],
   "execution_count": 10
  },
  {
   "cell_type": "code",
   "id": "e9dcda1fc3cd7e50",
   "metadata": {
    "ExecuteTime": {
     "end_time": "2025-08-19T16:39:51.500199Z",
     "start_time": "2025-08-19T16:39:51.492989Z"
    }
   },
   "source": [
    "# Random randint creates an array by np.random.randint(start, stop, size = ...)\n",
    "random_randint = np.random.randint(1, 10, size = 5)\n",
    "print(random_randint)"
   ],
   "outputs": [
    {
     "name": "stdout",
     "output_type": "stream",
     "text": [
      "[9 4 2 9 6]\n"
     ]
    }
   ],
   "execution_count": 11
  },
  {
   "cell_type": "code",
   "id": "47f2af761c49cda4",
   "metadata": {
    "ExecuteTime": {
     "end_time": "2025-08-19T16:39:51.575271Z",
     "start_time": "2025-08-19T16:39:51.568085Z"
    }
   },
   "source": [
    "# Random random creates a matrix from [0, 1) by np.random.random([rows, columns])\n",
    "random_random = np.random.random([2, 2])\n",
    "print(random_random)"
   ],
   "outputs": [
    {
     "name": "stdout",
     "output_type": "stream",
     "text": [
      "[[0.09215699 0.97989115]\n",
      " [0.39886152 0.37538684]]\n"
     ]
    }
   ],
   "execution_count": 12
  },
  {
   "cell_type": "code",
   "id": "1e9ab3c72000544c",
   "metadata": {
    "ExecuteTime": {
     "end_time": "2025-08-19T16:39:51.633596Z",
     "start_time": "2025-08-19T16:39:51.625760Z"
    }
   },
   "source": [
    "# Default generator creates an object to implement methods\n",
    "rng = np.random.default_rng()\n",
    "# Random method creates an array from [0, 1) by .random(number of values)\n",
    "print(rng.random(5))\n",
    "# Integer method creates an array by .integers(start, stop, size = )\n",
    "print(rng.integers(1, 10, size = 5))\n",
    "# Choice chooses by .choice(list, size = ..., replace = True/False )\n",
    "print(rng.choice([10, 20, 30, 40], size = 3, replace = False))\n",
    "# Shuffle randomly shuffles an array\n",
    "arr = np.arange(5)\n",
    "rng.shuffle(arr)\n",
    "print(arr)"
   ],
   "outputs": [
    {
     "name": "stdout",
     "output_type": "stream",
     "text": [
      "[0.47191097 0.61694512 0.99378778 0.13660708 0.1525676 ]\n",
      "[4 8 3 2 6]\n",
      "[20 40 30]\n",
      "[3 0 4 1 2]\n"
     ]
    }
   ],
   "execution_count": 13
  },
  {
   "cell_type": "code",
   "id": "a4835b19424197f3",
   "metadata": {
    "ExecuteTime": {
     "end_time": "2025-08-19T16:39:51.690426Z",
     "start_time": "2025-08-19T16:39:51.684495Z"
    }
   },
   "source": [
    "# Diag either outputs the diagonal of the matrix of gives matrix with 0s and diagonal of given array(k is offset)\n",
    "print(np.diag([1, 2, 3], k = 0))\n",
    "arr = np.random.random([3, 3])\n",
    "print(np.diag(arr))"
   ],
   "outputs": [
    {
     "name": "stdout",
     "output_type": "stream",
     "text": [
      "[[1 0 0]\n",
      " [0 2 0]\n",
      " [0 0 3]]\n",
      "[0.90862943 0.22095685 0.5700607 ]\n"
     ]
    }
   ],
   "execution_count": 14
  },
  {
   "cell_type": "code",
   "id": "fdf00b6a92eb5773",
   "metadata": {
    "ExecuteTime": {
     "end_time": "2025-08-19T16:39:51.743651Z",
     "start_time": "2025-08-19T16:39:51.739241Z"
    }
   },
   "source": [
    "# Zeros creates zero matrix with np.zeros([rows, columns])\n",
    "zero_matrix = np.zeros([2, 2])\n",
    "print(zero_matrix)"
   ],
   "outputs": [
    {
     "name": "stdout",
     "output_type": "stream",
     "text": [
      "[[0. 0.]\n",
      " [0. 0.]]\n"
     ]
    }
   ],
   "execution_count": 15
  },
  {
   "cell_type": "code",
   "id": "6aa931496477d3a8",
   "metadata": {
    "ExecuteTime": {
     "end_time": "2025-08-19T16:39:51.799035Z",
     "start_time": "2025-08-19T16:39:51.794523Z"
    }
   },
   "source": [
    "# Ones creates one matrix with np.ones([rows, columns])\n",
    "ones_matrix = np.ones([2, 2])\n",
    "print(ones_matrix)"
   ],
   "outputs": [
    {
     "name": "stdout",
     "output_type": "stream",
     "text": [
      "[[1. 1.]\n",
      " [1. 1.]]\n"
     ]
    }
   ],
   "execution_count": 16
  },
  {
   "cell_type": "code",
   "id": "e4dc2609aacc9d7",
   "metadata": {
    "ExecuteTime": {
     "end_time": "2025-08-19T16:39:51.865248Z",
     "start_time": "2025-08-19T16:39:51.849113Z"
    }
   },
   "source": [
    "# Itemsize returns bytes per element\n",
    "matrix = np.random.random([3, 3])\n",
    "matrix.itemsize"
   ],
   "outputs": [
    {
     "data": {
      "text/plain": [
       "8"
      ]
     },
     "execution_count": 17,
     "metadata": {},
     "output_type": "execute_result"
    }
   ],
   "execution_count": 17
  },
  {
   "cell_type": "code",
   "id": "ea84885b6c5be881",
   "metadata": {
    "ExecuteTime": {
     "end_time": "2025-08-19T16:39:51.919804Z",
     "start_time": "2025-08-19T16:39:51.913503Z"
    }
   },
   "source": [
    "# Nbytes returns total number of bytes\n",
    "matrix.nbytes"
   ],
   "outputs": [
    {
     "data": {
      "text/plain": [
       "72"
      ]
     },
     "execution_count": 18,
     "metadata": {},
     "output_type": "execute_result"
    }
   ],
   "execution_count": 18
  },
  {
   "cell_type": "code",
   "id": "c9d46cb3a6d3a138",
   "metadata": {
    "ExecuteTime": {
     "end_time": "2025-08-19T16:39:51.974364Z",
     "start_time": "2025-08-19T16:39:51.965747Z"
    }
   },
   "source": [
    "# Ndim returns number of dimensions\n",
    "matrix.ndim"
   ],
   "outputs": [
    {
     "data": {
      "text/plain": [
       "2"
      ]
     },
     "execution_count": 19,
     "metadata": {},
     "output_type": "execute_result"
    }
   ],
   "execution_count": 19
  },
  {
   "cell_type": "code",
   "id": "849400797fac7b4a",
   "metadata": {
    "ExecuteTime": {
     "end_time": "2025-08-19T16:39:52.026728Z",
     "start_time": "2025-08-19T16:39:52.021101Z"
    }
   },
   "source": [
    "# Matrix manipulation\n",
    "matrix = np.random.randint(1, 10, size = (3, 3))\n",
    "print(matrix)\n",
    "print(matrix[1, 1])"
   ],
   "outputs": [
    {
     "name": "stdout",
     "output_type": "stream",
     "text": [
      "[[1 7 5]\n",
      " [8 9 1]\n",
      " [8 4 9]]\n",
      "9\n"
     ]
    }
   ],
   "execution_count": 20
  },
  {
   "cell_type": "code",
   "id": "75a64a52307ba0e9",
   "metadata": {
    "ExecuteTime": {
     "end_time": "2025-08-19T16:39:52.086802Z",
     "start_time": "2025-08-19T16:39:52.080959Z"
    }
   },
   "source": [
    "# Mask in applying boolean condition to an array\n",
    "arr = np.random.randint(1, 10, size = 10)\n",
    "mask = arr > 5\n",
    "print(arr[mask])\n",
    "# Also can be applied by np.where()\n",
    "print(np.where(arr < 5))"
   ],
   "outputs": [
    {
     "name": "stdout",
     "output_type": "stream",
     "text": [
      "[9 7 8 8 8 8 7]\n",
      "(array([3, 5, 9]),)\n"
     ]
    }
   ],
   "execution_count": 21
  },
  {
   "cell_type": "code",
   "id": "5b690afbf64e3c2f",
   "metadata": {
    "ExecuteTime": {
     "end_time": "2025-08-19T16:39:52.145782Z",
     "start_time": "2025-08-19T16:39:52.139486Z"
    }
   },
   "source": [
    "# Fancy indexing\n",
    "arange = np.arange(10)\n",
    "print(arange)\n",
    "indexes = [0, 1, 3]\n",
    "print(arange[indexes])"
   ],
   "outputs": [
    {
     "name": "stdout",
     "output_type": "stream",
     "text": [
      "[0 1 2 3 4 5 6 7 8 9]\n",
      "[0 1 3]\n"
     ]
    }
   ],
   "execution_count": 22
  },
  {
   "cell_type": "code",
   "id": "6c4f9578fc21afd",
   "metadata": {
    "ExecuteTime": {
     "end_time": "2025-08-19T16:39:52.207102Z",
     "start_time": "2025-08-19T16:39:52.194787Z"
    }
   },
   "source": [
    "# Take is similar to fancy indexing but works by np.take(..., [], axis = 0/1)\n",
    "matrix = np.random.randint(1, 5, size = (3, 3))\n",
    "print(matrix)\n",
    "print(np.take(matrix, [0, 2], axis = 0))\n",
    "print('---------------------')\n",
    "arr = np.random.randint(1, 5, size = 5)\n",
    "print(arr)\n",
    "print(np.take(arr, [0, 3]))\n",
    "indexes = [0, 3]\n",
    "# Or\n",
    "print(arr.take(indexes))\n",
    "# Or\n",
    "arr_index = np.take(arr, indexes)\n",
    "print(arr_index)"
   ],
   "outputs": [
    {
     "name": "stdout",
     "output_type": "stream",
     "text": [
      "[[2 1 1]\n",
      " [4 3 3]\n",
      " [4 1 1]]\n",
      "[[2 1 1]\n",
      " [4 1 1]]\n",
      "---------------------\n",
      "[3 2 2 2 3]\n",
      "[3 2]\n",
      "[3 2]\n",
      "[3 2]\n"
     ]
    }
   ],
   "execution_count": 23
  },
  {
   "cell_type": "code",
   "id": "61debb712fc199c",
   "metadata": {
    "ExecuteTime": {
     "end_time": "2025-08-19T16:39:52.259300Z",
     "start_time": "2025-08-19T16:39:52.252200Z"
    }
   },
   "source": [
    "# Matrix multiplication by dot product np.dot(matrix, matrix) !only in same dimension\n",
    "A = np.random.randint(1, 5, size = (3, 3))\n",
    "print(A)\n",
    "print(np.dot(A, A))"
   ],
   "outputs": [
    {
     "name": "stdout",
     "output_type": "stream",
     "text": [
      "[[1 2 3]\n",
      " [4 3 2]\n",
      " [1 4 1]]\n",
      "[[12 20 10]\n",
      " [18 25 20]\n",
      " [18 18 12]]\n"
     ]
    }
   ],
   "execution_count": 24
  },
  {
   "cell_type": "code",
   "id": "9dfc17f5db8817cd",
   "metadata": {
    "ExecuteTime": {
     "end_time": "2025-08-19T16:39:52.316461Z",
     "start_time": "2025-08-19T16:39:52.310749Z"
    }
   },
   "source": [
    "# .T transforms shape of the matrix (x, y, ...) (..., y, x)\n",
    "print(A.T)"
   ],
   "outputs": [
    {
     "name": "stdout",
     "output_type": "stream",
     "text": [
      "[[1 4 1]\n",
      " [2 3 4]\n",
      " [3 2 1]]\n"
     ]
    }
   ],
   "execution_count": 25
  },
  {
   "metadata": {
    "ExecuteTime": {
     "end_time": "2025-08-19T16:39:52.818858Z",
     "start_time": "2025-08-19T16:39:52.368344Z"
    }
   },
   "cell_type": "code",
   "source": [
    "import pandas as pd\n",
    "import numpy as np\n",
    "arange = np.arange(1, 100)\n",
    "df = pd.DataFrame(arange)\n",
    "length = len(df)\n",
    "index_25 = df.iloc[length // 4]\n",
    "print(index_25)\n",
    "index_75 = df.iloc[(length * 3)// 4]\n",
    "print(index_75)\n",
    "diff = index_75 - index_25\n",
    "print(df - diff)"
   ],
   "id": "9f43987d5dec71b7",
   "outputs": [
    {
     "name": "stdout",
     "output_type": "stream",
     "text": [
      "0    25\n",
      "Name: 24, dtype: int64\n",
      "0    75\n",
      "Name: 74, dtype: int64\n",
      "     0\n",
      "0  -49\n",
      "1  -48\n",
      "2  -47\n",
      "3  -46\n",
      "4  -45\n",
      "..  ..\n",
      "94  45\n",
      "95  46\n",
      "96  47\n",
      "97  48\n",
      "98  49\n",
      "\n",
      "[99 rows x 1 columns]\n"
     ]
    }
   ],
   "execution_count": 26
  },
  {
   "metadata": {
    "ExecuteTime": {
     "end_time": "2025-08-19T16:39:52.847650Z",
     "start_time": "2025-08-19T16:39:52.841882Z"
    }
   },
   "cell_type": "code",
   "source": [
    "# Kronecker product\n",
    "A = np.array([[1, 2],\n",
    "              [3, 4]])\n",
    "\n",
    "B = np.array([[0, 5],\n",
    "              [6, 7]])\n",
    "\n",
    "# [[1 * 0, 1 * 5, 2 * 0, 2 * 5]\n",
    "#  [1 * 6, 1 * 7, 2 * 6, 2 * 7]\n",
    "#  [3 * 0, 3 * 5, 4 * 0, 4 * 5]\n",
    "#  [3 * 6, 3 * 7, 4 * 6, 4 * 7]]\n",
    "\n",
    "print(np.kron(A, B))"
   ],
   "id": "582886a82effed27",
   "outputs": [
    {
     "name": "stdout",
     "output_type": "stream",
     "text": [
      "[[ 0  5  0 10]\n",
      " [ 6  7 12 14]\n",
      " [ 0 15  0 20]\n",
      " [18 21 24 28]]\n"
     ]
    }
   ],
   "execution_count": 27
  },
  {
   "metadata": {
    "ExecuteTime": {
     "end_time": "2025-08-19T16:39:52.907331Z",
     "start_time": "2025-08-19T16:39:52.901026Z"
    }
   },
   "cell_type": "code",
   "source": [
    "# Inner product\n",
    "a = np.array([[1, 2],\n",
    "              [3, 4]])\n",
    "\n",
    "b = np.array([[5, 6],\n",
    "              [7, 8]])\n",
    "\n",
    "# [[1 * 5 + 2 * 6, 1 * 7 + 2 * 6]\n",
    "#  [3 * 5 + 4 * 6, 3 * 7 + 4 * 8]]\n",
    "print(np.inner(a, b))"
   ],
   "id": "397909a566f1949f",
   "outputs": [
    {
     "name": "stdout",
     "output_type": "stream",
     "text": [
      "[[17 23]\n",
      " [39 53]]\n"
     ]
    }
   ],
   "execution_count": 28
  },
  {
   "metadata": {
    "ExecuteTime": {
     "end_time": "2025-08-19T16:40:49.732107Z",
     "start_time": "2025-08-19T16:40:49.722966Z"
    }
   },
   "cell_type": "code",
   "source": [
    "# Cross product between vectors(if matrices, first finds cross product between rows in matrix)\n",
    "# a = [a1, a2, a3]\n",
    "# b = [b1, b2, b3]\n",
    "\n",
    "# a × b =\n",
    "# [a2*b3 - a3*b2,\n",
    "#  a3*b1 - a1*b3,\n",
    "#  a1*b2 - a2*b1]\n",
    "\n",
    "a = np.array([1, 2, 3])\n",
    "b = np.array([4, 5, 6])\n",
    "print(np.cross(a, b))"
   ],
   "id": "b18eca0211ed922f",
   "outputs": [
    {
     "name": "stdout",
     "output_type": "stream",
     "text": [
      "[-3  6 -3]\n"
     ]
    }
   ],
   "execution_count": 30
  },
  {
   "metadata": {
    "ExecuteTime": {
     "end_time": "2025-08-19T16:44:51.848781Z",
     "start_time": "2025-08-19T16:44:51.816811Z"
    }
   },
   "cell_type": "code",
   "source": [
    "# Multiply multiplies two arrays elementwise np.multiply(array 1, array 2, ....)\n",
    "a = np.array([[n * m for n in range(5)] for m in range(5)])\n",
    "b = np.array([[n+m for n in range(5)] for m in range(5)])\n",
    "c = np.array([[n-m for n in range(5)] for m in range(5)])\n",
    "print(np.multiply(a, b, c))"
   ],
   "id": "e9c0bf80f73330fd",
   "outputs": [
    {
     "name": "stdout",
     "output_type": "stream",
     "text": [
      "[[  0   0   0   0   0]\n",
      " [  0   2   6  12  20]\n",
      " [  0   6  16  30  48]\n",
      " [  0  12  30  54  84]\n",
      " [  0  20  48  84 128]]\n"
     ]
    }
   ],
   "execution_count": 35
  },
  {
   "metadata": {
    "ExecuteTime": {
     "end_time": "2025-08-19T16:51:25.560187Z",
     "start_time": "2025-08-19T16:51:25.548668Z"
    }
   },
   "cell_type": "code",
   "source": [
    "# Matmul\n",
    "a = np.array([[1, 2],\n",
    "              [3, 4]])\n",
    "\n",
    "b = np.array([[5, 6],\n",
    "              [7, 8]])\n",
    "\n",
    "# [[1 * 5 + 2 * 7, 1 * 6 + 2 * 8]\n",
    "#  [3 * 5 + 4 * 7, 3 * 6 + 4 * 8]]\n",
    "print(np.matmul(a, b))\n",
    "\n",
    "# @ is the same\n",
    "print(a @ b)"
   ],
   "id": "97f4108fff92c63b",
   "outputs": [
    {
     "name": "stdout",
     "output_type": "stream",
     "text": [
      "[[19 22]\n",
      " [43 50]]\n",
      "[[19 22]\n",
      " [43 50]]\n"
     ]
    }
   ],
   "execution_count": 38
  },
  {
   "metadata": {
    "ExecuteTime": {
     "end_time": "2025-08-19T16:56:15.644464Z",
     "start_time": "2025-08-19T16:56:15.636529Z"
    }
   },
   "cell_type": "code",
   "source": [
    "# Conjugate flips the sign in complex numbers\n",
    "c = np.matrix([1, 2, 3], dtype = complex)\n",
    "print(c)\n",
    "print(np.conjugate(c))"
   ],
   "id": "f480c81bc3ce211b",
   "outputs": [
    {
     "name": "stdout",
     "output_type": "stream",
     "text": [
      "[[1.+0.j 2.+0.j 3.+0.j]]\n",
      "[[1.-0.j 2.-0.j 3.-0.j]]\n"
     ]
    }
   ],
   "execution_count": 48
  },
  {
   "metadata": {
    "ExecuteTime": {
     "end_time": "2025-08-19T16:56:16.312195Z",
     "start_time": "2025-08-19T16:56:16.306179Z"
    }
   },
   "cell_type": "code",
   "source": [
    "# .H flips rows and columns(.T) + conjugates\n",
    "c.H"
   ],
   "id": "df2ae49be384cbe7",
   "outputs": [
    {
     "data": {
      "text/plain": [
       "matrix([[1.-0.j],\n",
       "        [2.-0.j],\n",
       "        [3.-0.j]])"
      ]
     },
     "execution_count": 49,
     "metadata": {},
     "output_type": "execute_result"
    }
   ],
   "execution_count": 49
  },
  {
   "metadata": {
    "ExecuteTime": {
     "end_time": "2025-08-19T16:57:24.542269Z",
     "start_time": "2025-08-19T16:57:24.532571Z"
    }
   },
   "cell_type": "code",
   "source": [
    "# Real and imaginary parts\n",
    "print(np.real(c))\n",
    "print(np.imag(c))"
   ],
   "id": "382d42a6669721db",
   "outputs": [
    {
     "name": "stdout",
     "output_type": "stream",
     "text": [
      "[[1. 2. 3.]]\n",
      "[[0. 0. 0.]]\n"
     ]
    }
   ],
   "execution_count": 51
  },
  {
   "metadata": {
    "ExecuteTime": {
     "end_time": "2025-08-19T17:01:38.128599Z",
     "start_time": "2025-08-19T17:01:38.120257Z"
    }
   },
   "cell_type": "code",
   "source": [
    "# Matrix computations\n",
    "# Eigenvalues, eigenvectors\n",
    "\n",
    "matrix = np.matrix([[1, 2], [3, 4]])\n",
    "eig_val, eig_vect = np.linalg.eig(matrix)\n",
    "print(eig_val)\n",
    "print(eig_vect)"
   ],
   "id": "a4ad48936b948333",
   "outputs": [
    {
     "name": "stdout",
     "output_type": "stream",
     "text": [
      "[-0.37228132  5.37228132]\n",
      "[[-0.82456484 -0.41597356]\n",
      " [ 0.56576746 -0.90937671]]\n"
     ]
    }
   ],
   "execution_count": 57
  },
  {
   "metadata": {
    "ExecuteTime": {
     "end_time": "2025-08-19T17:02:38.185188Z",
     "start_time": "2025-08-19T17:02:38.172617Z"
    }
   },
   "cell_type": "code",
   "source": [
    "# Mean()\n",
    "a = np.array([1, 2, 3, 4, 5])\n",
    "print(np.mean(a))"
   ],
   "id": "f7ecf4757bf5219d",
   "outputs": [
    {
     "name": "stdout",
     "output_type": "stream",
     "text": [
      "3.0\n"
     ]
    }
   ],
   "execution_count": 58
  },
  {
   "metadata": {
    "ExecuteTime": {
     "end_time": "2025-08-19T17:03:37.304702Z",
     "start_time": "2025-08-19T17:03:37.295708Z"
    }
   },
   "cell_type": "code",
   "source": [
    "# Standard deviation\n",
    "print(np.std(a))"
   ],
   "id": "6936e12b9a6de035",
   "outputs": [
    {
     "name": "stdout",
     "output_type": "stream",
     "text": [
      "1.4142135623730951\n"
     ]
    }
   ],
   "execution_count": 59
  },
  {
   "metadata": {
    "ExecuteTime": {
     "end_time": "2025-08-19T17:03:52.736735Z",
     "start_time": "2025-08-19T17:03:52.732426Z"
    }
   },
   "cell_type": "code",
   "source": [
    "# Variance\n",
    "print(np.var(a))"
   ],
   "id": "5391e18f885f10ad",
   "outputs": [
    {
     "name": "stdout",
     "output_type": "stream",
     "text": [
      "2.0\n"
     ]
    }
   ],
   "execution_count": 60
  },
  {
   "metadata": {
    "ExecuteTime": {
     "end_time": "2025-08-19T17:04:33.702418Z",
     "start_time": "2025-08-19T17:04:33.693672Z"
    }
   },
   "cell_type": "code",
   "source": [
    "# Min() and max()\n",
    "print(np.max(a))\n",
    "print(np.min(a))"
   ],
   "id": "63eaaa625b65a897",
   "outputs": [
    {
     "name": "stdout",
     "output_type": "stream",
     "text": [
      "5\n",
      "1\n"
     ]
    }
   ],
   "execution_count": 61
  },
  {
   "metadata": {
    "ExecuteTime": {
     "end_time": "2025-08-19T17:05:21.431155Z",
     "start_time": "2025-08-19T17:05:21.423341Z"
    }
   },
   "cell_type": "code",
   "source": [
    "# Summ and product\n",
    "print(np.sum(a))\n",
    "print(np.prod(a))"
   ],
   "id": "595b87fbc07796f8",
   "outputs": [
    {
     "name": "stdout",
     "output_type": "stream",
     "text": [
      "15\n",
      "120\n"
     ]
    }
   ],
   "execution_count": 62
  },
  {
   "metadata": {
    "ExecuteTime": {
     "end_time": "2025-08-19T17:06:25.392393Z",
     "start_time": "2025-08-19T17:06:25.377913Z"
    }
   },
   "cell_type": "code",
   "source": [
    "# Cumulative sum [1, 2, 3, 4] -> [1, (1+2), (1+2+3), (1+2+3+4)]\n",
    "print(np.cumsum(a))"
   ],
   "id": "737f6e2568d6b5a3",
   "outputs": [
    {
     "name": "stdout",
     "output_type": "stream",
     "text": [
      "[ 1  3  6 10 15]\n"
     ]
    }
   ],
   "execution_count": 64
  },
  {
   "metadata": {
    "ExecuteTime": {
     "end_time": "2025-08-19T17:07:27.979594Z",
     "start_time": "2025-08-19T17:07:27.974729Z"
    }
   },
   "cell_type": "code",
   "source": [
    "# Trace is sum of the diagonal (= .diag.sum())\n",
    "matrix = np.matrix([[1, 2], [3, 4]])\n",
    "print(np.trace(matrix))"
   ],
   "id": "102ae835dba70853",
   "outputs": [
    {
     "name": "stdout",
     "output_type": "stream",
     "text": [
      "5\n"
     ]
    }
   ],
   "execution_count": 65
  },
  {
   "metadata": {
    "ExecuteTime": {
     "end_time": "2025-08-19T17:08:26.982990Z",
     "start_time": "2025-08-19T17:08:26.978410Z"
    }
   },
   "cell_type": "code",
   "source": [
    "# Fliplr to reverse the matrix by columns\n",
    "print(np.fliplr(matrix))"
   ],
   "id": "2a3cdad33d3798cb",
   "outputs": [
    {
     "name": "stdout",
     "output_type": "stream",
     "text": [
      "[[2 1]\n",
      " [4 3]]\n"
     ]
    }
   ],
   "execution_count": 66
  },
  {
   "metadata": {
    "ExecuteTime": {
     "end_time": "2025-08-19T17:10:01.808363Z",
     "start_time": "2025-08-19T17:10:01.802883Z"
    }
   },
   "cell_type": "code",
   "source": [
    "# Flipud to reverse the matrix by rows\n",
    "print(np.flipud(matrix))"
   ],
   "id": "3ad351f03ea41a58",
   "outputs": [
    {
     "name": "stdout",
     "output_type": "stream",
     "text": [
      "[[3 4]\n",
      " [1 2]]\n"
     ]
    }
   ],
   "execution_count": 67
  },
  {
   "metadata": {
    "ExecuteTime": {
     "end_time": "2025-08-19T17:13:20.906625Z",
     "start_time": "2025-08-19T17:13:20.898504Z"
    }
   },
   "cell_type": "code",
   "source": [
    "# Unique to output only unique values(for matrix compares unique rows)\n",
    "array = np.array([1, 1, 2, 2, 3, 3])\n",
    "print(np.unique(array))"
   ],
   "id": "87f9d3e90316b7e1",
   "outputs": [
    {
     "name": "stdout",
     "output_type": "stream",
     "text": [
      "[1 2 3]\n"
     ]
    }
   ],
   "execution_count": 71
  },
  {
   "metadata": {
    "ExecuteTime": {
     "end_time": "2025-08-19T17:23:02.059403Z",
     "start_time": "2025-08-19T17:23:02.050104Z"
    }
   },
   "cell_type": "code",
   "source": [
    "# Axis variables\n",
    "# axis=0 → squish downward (work column by column)\n",
    "# axis=1 → squish sideways (work row by row)"
   ],
   "id": "3e5632ad4063ca04",
   "outputs": [],
   "execution_count": 73
  },
  {
   "metadata": {
    "ExecuteTime": {
     "end_time": "2025-08-19T17:24:35.149879Z",
     "start_time": "2025-08-19T17:24:35.143053Z"
    }
   },
   "cell_type": "code",
   "source": [
    "# Reshaping\n",
    "A = np.random.randint(1, 5, size = (3, 2))\n",
    "print(A)\n",
    "B = A.reshape(2, 3)\n",
    "print(B)"
   ],
   "id": "47d57225800f8223",
   "outputs": [
    {
     "name": "stdout",
     "output_type": "stream",
     "text": [
      "[[1 1]\n",
      " [4 3]\n",
      " [1 1]]\n",
      "[[1 1 4]\n",
      " [3 1 1]]\n"
     ]
    }
   ],
   "execution_count": 75
  },
  {
   "metadata": {
    "ExecuteTime": {
     "end_time": "2025-08-19T17:26:40.726090Z",
     "start_time": "2025-08-19T17:26:40.714056Z"
    }
   },
   "cell_type": "code",
   "source": [
    "# Copy to create an independent array\n",
    "B = A.copy()\n",
    "print(B)"
   ],
   "id": "2d3854a061823b96",
   "outputs": [
    {
     "name": "stdout",
     "output_type": "stream",
     "text": [
      "[[1 1]\n",
      " [4 3]\n",
      " [1 1]]\n"
     ]
    }
   ],
   "execution_count": 77
  },
  {
   "metadata": {
    "ExecuteTime": {
     "end_time": "2025-08-19T17:27:30.729695Z",
     "start_time": "2025-08-19T17:27:30.719594Z"
    }
   },
   "cell_type": "code",
   "source": [
    "# Flatten to turn matrix to a vector\n",
    "flat = B.flatten()\n",
    "print(flat)"
   ],
   "id": "6e2721b47988d4fa",
   "outputs": [
    {
     "name": "stdout",
     "output_type": "stream",
     "text": [
      "[1 1 4 3 1 1]\n"
     ]
    }
   ],
   "execution_count": 78
  },
  {
   "metadata": {
    "ExecuteTime": {
     "end_time": "2025-08-19T17:38:11.890170Z",
     "start_time": "2025-08-19T17:38:11.875271Z"
    }
   },
   "cell_type": "code",
   "source": [
    "# Repeat\n",
    "rep = np.repeat(1, 4)\n",
    "print(rep)"
   ],
   "id": "2fb17082c19b8589",
   "outputs": [
    {
     "name": "stdout",
     "output_type": "stream",
     "text": [
      "[1 1 1 1]\n"
     ]
    }
   ],
   "execution_count": 79
  },
  {
   "metadata": {
    "ExecuteTime": {
     "end_time": "2025-08-19T17:39:51.716529Z",
     "start_time": "2025-08-19T17:39:51.700870Z"
    }
   },
   "cell_type": "code",
   "source": [
    "# Tile\n",
    "tile = np.tile([[1, 2, 3], [4, 5, 6]], 3)\n",
    "print(tile)"
   ],
   "id": "682dde82b197faf0",
   "outputs": [
    {
     "name": "stdout",
     "output_type": "stream",
     "text": [
      "[[1 2 3 1 2 3 1 2 3]\n",
      " [4 5 6 4 5 6 4 5 6]]\n"
     ]
    }
   ],
   "execution_count": 80
  },
  {
   "metadata": {
    "ExecuteTime": {
     "end_time": "2025-08-19T17:44:18.473055Z",
     "start_time": "2025-08-19T17:44:18.456565Z"
    }
   },
   "cell_type": "code",
   "source": [
    "# Concatenate\n",
    "# For array\n",
    "A = np.array([1, 2])\n",
    "B = np.array([3, 4])\n",
    "print(np.concatenate([A, B]))\n",
    "# For matrix\n",
    "matrix_1 = np.matrix([[1, 2], [3, 4]])\n",
    "matrix_2 = np.matrix([[5, 6], [7, 8]])\n",
    "print(np.concatenate([matrix_1, matrix_2], axis = 0))\n",
    "print(np.concatenate([matrix_1, matrix_2], axis = 1))"
   ],
   "id": "db1707730e8e82b4",
   "outputs": [
    {
     "name": "stdout",
     "output_type": "stream",
     "text": [
      "[1 2 3 4]\n",
      "[[1 2]\n",
      " [3 4]\n",
      " [5 6]\n",
      " [7 8]]\n",
      "[[1 2 5 6]\n",
      " [3 4 7 8]]\n"
     ]
    }
   ],
   "execution_count": 82
  },
  {
   "metadata": {
    "ExecuteTime": {
     "end_time": "2025-08-19T18:12:43.363886Z",
     "start_time": "2025-08-19T18:12:43.341030Z"
    }
   },
   "cell_type": "code",
   "source": [
    "# Hstack like concatenate by axis 1\n",
    "A = np.array([[1, 2],\n",
    "              [3, 4]])\n",
    "\n",
    "B = np.array([[5, 6],\n",
    "              [7, 8]])\n",
    "\n",
    "print(np.hstack((A, B)))"
   ],
   "id": "baf223600e5614d3",
   "outputs": [
    {
     "name": "stdout",
     "output_type": "stream",
     "text": [
      "[[1 2 5 6]\n",
      " [3 4 7 8]]\n"
     ]
    }
   ],
   "execution_count": 84
  },
  {
   "metadata": {
    "ExecuteTime": {
     "end_time": "2025-08-19T18:13:09.418205Z",
     "start_time": "2025-08-19T18:13:09.413883Z"
    }
   },
   "cell_type": "code",
   "source": [
    "# Vstack to concatenate by axis 0\n",
    "A = np.array([[1, 2],\n",
    "              [3, 4]])\n",
    "\n",
    "B = np.array([[5, 6],\n",
    "              [7, 8]])\n",
    "\n",
    "print(np.vstack((A, B)))"
   ],
   "id": "e28497a3d8874963",
   "outputs": [
    {
     "name": "stdout",
     "output_type": "stream",
     "text": [
      "[[1 2]\n",
      " [3 4]\n",
      " [5 6]\n",
      " [7 8]]\n"
     ]
    }
   ],
   "execution_count": 85
  },
  {
   "metadata": {
    "ExecuteTime": {
     "end_time": "2025-08-19T18:16:47.399746Z",
     "start_time": "2025-08-19T18:16:47.388679Z"
    }
   },
   "cell_type": "code",
   "source": [
    "# Astype to copy the array with another type\n",
    "type_1 = np.array([1, 2, 3])\n",
    "type_2 = type_1.astype(float)\n",
    "print(type_2)"
   ],
   "id": "1ef3652c6f11c024",
   "outputs": [
    {
     "name": "stdout",
     "output_type": "stream",
     "text": [
      "[1. 2. 3.]\n"
     ]
    }
   ],
   "execution_count": 86
  },
  {
   "metadata": {
    "ExecuteTime": {
     "end_time": "2025-08-19T18:24:10.390208Z",
     "start_time": "2025-08-19T18:24:10.384581Z"
    }
   },
   "cell_type": "code",
   "source": [
    "# Datetime64 and timedelta64(difference)\n",
    "d1 = np.datetime64('2025-08-19')\n",
    "d2 = np.datetime64('2025-08-25')\n",
    "\n",
    "delta = d2 - d1\n",
    "print(delta)"
   ],
   "id": "9a3559bfdd476360",
   "outputs": [
    {
     "name": "stdout",
     "output_type": "stream",
     "text": [
      "6 days\n"
     ]
    }
   ],
   "execution_count": 91
  }
 ],
 "metadata": {
  "kernelspec": {
   "display_name": "Python 3 (ipykernel)",
   "language": "python",
   "name": "python3"
  },
  "language_info": {
   "codemirror_mode": {
    "name": "ipython",
    "version": 3
   },
   "file_extension": ".py",
   "mimetype": "text/x-python",
   "name": "python",
   "nbconvert_exporter": "python",
   "pygments_lexer": "ipython3",
   "version": "3.12.7"
  }
 },
 "nbformat": 4,
 "nbformat_minor": 5
}
