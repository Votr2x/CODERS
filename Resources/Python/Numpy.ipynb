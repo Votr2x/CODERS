{
 "cells": [
  {
   "cell_type": "code",
   "id": "initial_id",
   "metadata": {
    "collapsed": true,
    "ExecuteTime": {
     "end_time": "2025-08-18T10:40:04.719586Z",
     "start_time": "2025-08-18T10:40:04.518869Z"
    }
   },
   "source": "import numpy as np",
   "outputs": [],
   "execution_count": 1
  },
  {
   "metadata": {
    "ExecuteTime": {
     "end_time": "2025-08-18T10:40:04.759730Z",
     "start_time": "2025-08-18T10:40:04.753702Z"
    }
   },
   "cell_type": "code",
   "source": [
    "# Classic array np.array([...], dtype = ...)\n",
    "array = np.array([1, 2, 3], dtype = float)\n",
    "print(array)"
   ],
   "id": "846662fd0527bb25",
   "outputs": [
    {
     "name": "stdout",
     "output_type": "stream",
     "text": [
      "[1. 2. 3.]\n"
     ]
    }
   ],
   "execution_count": 2
  },
  {
   "metadata": {
    "ExecuteTime": {
     "end_time": "2025-08-18T10:40:04.888173Z",
     "start_time": "2025-08-18T10:40:04.879937Z"
    }
   },
   "cell_type": "code",
   "source": [
    "print(array.shape)\n",
    "print(array.size)"
   ],
   "id": "447e390dcbb5a587",
   "outputs": [
    {
     "name": "stdout",
     "output_type": "stream",
     "text": [
      "(3,)\n",
      "3\n"
     ]
    }
   ],
   "execution_count": 3
  },
  {
   "metadata": {
    "ExecuteTime": {
     "end_time": "2025-08-18T10:40:04.986392Z",
     "start_time": "2025-08-18T10:40:04.979439Z"
    }
   },
   "cell_type": "code",
   "source": [
    "# Array is mutable(only for compatible data type)\n",
    "array[0] = 2\n",
    "print(array)"
   ],
   "id": "18d2c412cf36bfcc",
   "outputs": [
    {
     "name": "stdout",
     "output_type": "stream",
     "text": [
      "[2. 2. 3.]\n"
     ]
    }
   ],
   "execution_count": 4
  },
  {
   "metadata": {
    "ExecuteTime": {
     "end_time": "2025-08-18T10:40:05.071567Z",
     "start_time": "2025-08-18T10:40:05.061828Z"
    }
   },
   "cell_type": "code",
   "source": [
    "# Arange creates an array by np.arange(start, stop, step)\n",
    "arange = np.arange(0, 10, 2)\n",
    "print(arange)"
   ],
   "id": "106b6e31b68240e7",
   "outputs": [
    {
     "name": "stdout",
     "output_type": "stream",
     "text": [
      "[0 2 4 6 8]\n"
     ]
    }
   ],
   "execution_count": 5
  },
  {
   "metadata": {
    "ExecuteTime": {
     "end_time": "2025-08-18T10:40:05.133871Z",
     "start_time": "2025-08-18T10:40:05.122646Z"
    }
   },
   "cell_type": "code",
   "source": [
    "# Linspace creates an array by np.linspace(start, stop, number of values) difference by equal value\n",
    "linspace = np.linspace(1, 10, 5)\n",
    "print(linspace)"
   ],
   "id": "96661e06d4e2e2ec",
   "outputs": [
    {
     "name": "stdout",
     "output_type": "stream",
     "text": [
      "[ 1.    3.25  5.5   7.75 10.  ]\n"
     ]
    }
   ],
   "execution_count": 6
  },
  {
   "metadata": {
    "ExecuteTime": {
     "end_time": "2025-08-18T10:40:05.190263Z",
     "start_time": "2025-08-18T10:40:05.183019Z"
    }
   },
   "cell_type": "code",
   "source": [
    "# Logspace creates an array by np.logspace(start, stop, number of values, base = ...)\n",
    "logspace = np.logspace(1, 3, 3, base = 2)\n",
    "print(logspace)"
   ],
   "id": "8984450ef2538d79",
   "outputs": [
    {
     "name": "stdout",
     "output_type": "stream",
     "text": [
      "[2. 4. 8.]\n"
     ]
    }
   ],
   "execution_count": 7
  },
  {
   "metadata": {
    "ExecuteTime": {
     "end_time": "2025-08-18T10:40:05.243798Z",
     "start_time": "2025-08-18T10:40:05.238686Z"
    }
   },
   "cell_type": "code",
   "source": [
    "# Meshgrid eqalises number of rows and columns to create all possible combinations\n",
    "x = np.array([1, 2, 3])\n",
    "y = np.array([4, 5, 6])\n",
    "\n",
    "X, Y = np.meshgrid(x, y)\n",
    "print(X)\n",
    "print(Y)"
   ],
   "id": "a9f822ba0c1f5f19",
   "outputs": [
    {
     "name": "stdout",
     "output_type": "stream",
     "text": [
      "[[1 2 3]\n",
      " [1 2 3]\n",
      " [1 2 3]]\n",
      "[[4 4 4]\n",
      " [5 5 5]\n",
      " [6 6 6]]\n"
     ]
    }
   ],
   "execution_count": 8
  },
  {
   "metadata": {
    "ExecuteTime": {
     "end_time": "2025-08-18T10:40:05.344411Z",
     "start_time": "2025-08-18T10:40:05.300312Z"
    }
   },
   "cell_type": "code",
   "source": [
    "# Random rand creates array from [0, 1) by np.random.rand(number of values)\n",
    "random_rand = np.random.rand(5)\n",
    "print(random_rand)"
   ],
   "id": "ae8c4b392e852aaf",
   "outputs": [
    {
     "name": "stdout",
     "output_type": "stream",
     "text": [
      "[0.3766874  0.56226287 0.66040122 0.76109181 0.80797545]\n"
     ]
    }
   ],
   "execution_count": 9
  },
  {
   "metadata": {
    "ExecuteTime": {
     "end_time": "2025-08-18T10:40:05.414024Z",
     "start_time": "2025-08-18T10:40:05.408Z"
    }
   },
   "cell_type": "code",
   "source": [
    "# Random randn creates an array for disribution by np.random.randn(number of values)\n",
    "random_randn = np.random.randn(5)\n",
    "print(random_randn)"
   ],
   "id": "472a2f920341c4a6",
   "outputs": [
    {
     "name": "stdout",
     "output_type": "stream",
     "text": [
      "[-0.46403462  0.08498049  0.21296704 -0.94674647 -1.29054537]\n"
     ]
    }
   ],
   "execution_count": 10
  },
  {
   "metadata": {
    "ExecuteTime": {
     "end_time": "2025-08-18T10:40:05.533072Z",
     "start_time": "2025-08-18T10:40:05.521187Z"
    }
   },
   "cell_type": "code",
   "source": [
    "# Random randint creates an array by np.random.randint(start, stop, size = ...)\n",
    "random_randint = np.random.randint(1, 10, size = 5)\n",
    "print(random_randint)"
   ],
   "id": "e9dcda1fc3cd7e50",
   "outputs": [
    {
     "name": "stdout",
     "output_type": "stream",
     "text": [
      "[6 2 1 2 4]\n"
     ]
    }
   ],
   "execution_count": 11
  },
  {
   "metadata": {
    "ExecuteTime": {
     "end_time": "2025-08-18T10:40:05.600836Z",
     "start_time": "2025-08-18T10:40:05.593754Z"
    }
   },
   "cell_type": "code",
   "source": [
    "# Random random creates a matrix from [0, 1) by np.random.random([rows, columns])\n",
    "random_random = np.random.random([2, 2])\n",
    "print(random_random)"
   ],
   "id": "47f2af761c49cda4",
   "outputs": [
    {
     "name": "stdout",
     "output_type": "stream",
     "text": [
      "[[0.17554791 0.78952336]\n",
      " [0.86208359 0.57280732]]\n"
     ]
    }
   ],
   "execution_count": 12
  },
  {
   "metadata": {
    "ExecuteTime": {
     "end_time": "2025-08-18T10:40:05.663380Z",
     "start_time": "2025-08-18T10:40:05.653933Z"
    }
   },
   "cell_type": "code",
   "source": [
    "# Default generator creates an object to implement methods\n",
    "rng = np.random.default_rng()\n",
    "# Random method creates an array from [0, 1) by .random(number of values)\n",
    "print(rng.random(5))\n",
    "# Integer method creates an array by .integers(start, stop, size = )\n",
    "print(rng.integers(1, 10, size = 5))\n",
    "# Choice chooses by .choice(list, size = ..., replace = True/False )\n",
    "print(rng.choice([10, 20, 30, 40], size = 3, replace = False))\n",
    "# Shuffle randomly shuffles an array\n",
    "arr = np.arange(5)\n",
    "rng.shuffle(arr)\n",
    "print(arr)"
   ],
   "id": "1e9ab3c72000544c",
   "outputs": [
    {
     "name": "stdout",
     "output_type": "stream",
     "text": [
      "[0.86493712 0.61026825 0.64637707 0.02792871 0.55405393]\n",
      "[6 1 9 6 5]\n",
      "[20 40 30]\n",
      "[4 1 0 3 2]\n"
     ]
    }
   ],
   "execution_count": 13
  },
  {
   "metadata": {
    "ExecuteTime": {
     "end_time": "2025-08-18T10:40:05.727494Z",
     "start_time": "2025-08-18T10:40:05.719172Z"
    }
   },
   "cell_type": "code",
   "source": [
    "# Diag either outputs the diagonal of the matrix of gives matrix with 0s and diagonal of given array(k is offset)\n",
    "print(np.diag([1, 2, 3], k = 0))\n",
    "arr = np.random.random([3, 3])\n",
    "print(np.diag(arr))"
   ],
   "id": "a4835b19424197f3",
   "outputs": [
    {
     "name": "stdout",
     "output_type": "stream",
     "text": [
      "[[1 0 0]\n",
      " [0 2 0]\n",
      " [0 0 3]]\n",
      "[0.75576179 0.76364264 0.72171064]\n"
     ]
    }
   ],
   "execution_count": 14
  },
  {
   "metadata": {
    "ExecuteTime": {
     "end_time": "2025-08-18T10:40:05.787199Z",
     "start_time": "2025-08-18T10:40:05.779401Z"
    }
   },
   "cell_type": "code",
   "source": [
    "# Zeros creates zero matrix with np.zeros([rows, columns])\n",
    "zero_matrix = np.zeros([2, 2])\n",
    "print(zero_matrix)"
   ],
   "id": "fdf00b6a92eb5773",
   "outputs": [
    {
     "name": "stdout",
     "output_type": "stream",
     "text": [
      "[[0. 0.]\n",
      " [0. 0.]]\n"
     ]
    }
   ],
   "execution_count": 15
  },
  {
   "metadata": {
    "ExecuteTime": {
     "end_time": "2025-08-18T10:40:05.848441Z",
     "start_time": "2025-08-18T10:40:05.841242Z"
    }
   },
   "cell_type": "code",
   "source": [
    "# Ones creates one matrix with np.ones([rows, columns])\n",
    "ones_matrix = np.ones([2, 2])\n",
    "print(ones_matrix)"
   ],
   "id": "6aa931496477d3a8",
   "outputs": [
    {
     "name": "stdout",
     "output_type": "stream",
     "text": [
      "[[1. 1.]\n",
      " [1. 1.]]\n"
     ]
    }
   ],
   "execution_count": 16
  },
  {
   "metadata": {
    "ExecuteTime": {
     "end_time": "2025-08-18T10:40:05.953245Z",
     "start_time": "2025-08-18T10:40:05.936801Z"
    }
   },
   "cell_type": "code",
   "source": [
    "# Itemsize returns bytes per element\n",
    "matrix = np.random.random([3, 3])\n",
    "matrix.itemsize"
   ],
   "id": "e4dc2609aacc9d7",
   "outputs": [
    {
     "data": {
      "text/plain": [
       "8"
      ]
     },
     "execution_count": 17,
     "metadata": {},
     "output_type": "execute_result"
    }
   ],
   "execution_count": 17
  },
  {
   "metadata": {
    "ExecuteTime": {
     "end_time": "2025-08-18T10:40:06.034650Z",
     "start_time": "2025-08-18T10:40:06.024922Z"
    }
   },
   "cell_type": "code",
   "source": [
    "# Nbytes returns total number of bytes\n",
    "matrix.nbytes"
   ],
   "id": "ea84885b6c5be881",
   "outputs": [
    {
     "data": {
      "text/plain": [
       "72"
      ]
     },
     "execution_count": 18,
     "metadata": {},
     "output_type": "execute_result"
    }
   ],
   "execution_count": 18
  },
  {
   "metadata": {
    "ExecuteTime": {
     "end_time": "2025-08-18T10:40:06.113964Z",
     "start_time": "2025-08-18T10:40:06.105160Z"
    }
   },
   "cell_type": "code",
   "source": [
    "# Ndim returns number of dimensions\n",
    "matrix.ndim"
   ],
   "id": "c9d46cb3a6d3a138",
   "outputs": [
    {
     "data": {
      "text/plain": [
       "2"
      ]
     },
     "execution_count": 19,
     "metadata": {},
     "output_type": "execute_result"
    }
   ],
   "execution_count": 19
  },
  {
   "metadata": {
    "ExecuteTime": {
     "end_time": "2025-08-18T10:40:06.173375Z",
     "start_time": "2025-08-18T10:40:06.166980Z"
    }
   },
   "cell_type": "code",
   "source": [
    "# Matrix manipulation\n",
    "matrix = np.random.randint(1, 10, size = (3, 3))\n",
    "print(matrix)\n",
    "print(matrix[1, 1])"
   ],
   "id": "849400797fac7b4a",
   "outputs": [
    {
     "name": "stdout",
     "output_type": "stream",
     "text": [
      "[[3 9 8]\n",
      " [5 7 7]\n",
      " [4 2 7]]\n",
      "7\n"
     ]
    }
   ],
   "execution_count": 20
  },
  {
   "metadata": {
    "ExecuteTime": {
     "end_time": "2025-08-18T10:40:06.240917Z",
     "start_time": "2025-08-18T10:40:06.233967Z"
    }
   },
   "cell_type": "code",
   "source": [
    "# Mask in applying boolean condition to an array\n",
    "arr = np.random.randint(1, 10, size = 10)\n",
    "mask = arr > 5\n",
    "print(arr[mask])\n",
    "# Also can be applied by np.where()\n",
    "print(np.where(arr < 5))"
   ],
   "id": "75a64a52307ba0e9",
   "outputs": [
    {
     "name": "stdout",
     "output_type": "stream",
     "text": [
      "[6 7 7 8 8]\n",
      "(array([1, 2, 3, 7, 9]),)\n"
     ]
    }
   ],
   "execution_count": 21
  },
  {
   "metadata": {
    "ExecuteTime": {
     "end_time": "2025-08-18T10:40:06.306354Z",
     "start_time": "2025-08-18T10:40:06.297879Z"
    }
   },
   "cell_type": "code",
   "source": [
    "# Fancy indexing\n",
    "arange = np.arange(10)\n",
    "print(arange)\n",
    "indexes = [0, 1, 3]\n",
    "print(arange[indexes])"
   ],
   "id": "5b690afbf64e3c2f",
   "outputs": [
    {
     "name": "stdout",
     "output_type": "stream",
     "text": [
      "[0 1 2 3 4 5 6 7 8 9]\n",
      "[0 1 3]\n"
     ]
    }
   ],
   "execution_count": 22
  },
  {
   "metadata": {
    "ExecuteTime": {
     "end_time": "2025-08-18T11:04:05.929665Z",
     "start_time": "2025-08-18T11:04:05.893654Z"
    }
   },
   "cell_type": "code",
   "source": [
    "# Take is similar to fancy indexing but works by np.take(..., [], axis = 0/1)\n",
    "matrix = np.random.randint(1, 5, size = (3, 3))\n",
    "print(matrix)\n",
    "print(np.take(matrix, [0, 2], axis = 0))\n",
    "print('---------------------')\n",
    "arr = np.random.randint(1, 5, size = 5)\n",
    "print(arr)\n",
    "print(np.take(arr, [0, 3]))\n",
    "indexes = [0, 3]\n",
    "# Or\n",
    "print(arr.take(indexes))\n",
    "# Or\n",
    "arr_index = np.take(arr, indexes)\n",
    "print(arr_index)"
   ],
   "id": "6c4f9578fc21afd",
   "outputs": [
    {
     "name": "stdout",
     "output_type": "stream",
     "text": [
      "[[3 4 3]\n",
      " [4 1 2]\n",
      " [4 2 1]]\n",
      "[[3 4 3]\n",
      " [4 2 1]]\n",
      "---------------------\n",
      "[3 2 1 3 1]\n",
      "[3 3]\n",
      "[3 3]\n",
      "[3 3]\n"
     ]
    }
   ],
   "execution_count": 44
  },
  {
   "metadata": {
    "ExecuteTime": {
     "end_time": "2025-08-18T12:27:38.632202Z",
     "start_time": "2025-08-18T12:27:38.617513Z"
    }
   },
   "cell_type": "code",
   "source": [
    "import pandas as pd\n",
    "\n",
    "x = np.arange(1, 100)\n",
    "y = 2 ** x\n",
    "df = pd.DataFrame({'x': x, 'y': y})\n",
    "df_new = df.sample(frac=2/3).sort_index()\n",
    "mean = df['x'].mean()\n",
    "std = df['x'].std()\n",
    "print(mean, std)\n",
    "df_filtered = df[(df['x'] > mean + 2*std) | (df['x'] < mean - 2*std)]\n",
    "print(df_filtered)"
   ],
   "id": "426e8f098d10ae69",
   "outputs": [
    {
     "name": "stdout",
     "output_type": "stream",
     "text": [
      "50.0 28.722813232690143\n",
      "Empty DataFrame\n",
      "Columns: [x, y]\n",
      "Index: []\n"
     ]
    }
   ],
   "execution_count": 56
  },
  {
   "metadata": {
    "ExecuteTime": {
     "end_time": "2025-08-18T12:53:15.511954Z",
     "start_time": "2025-08-18T12:53:15.491942Z"
    }
   },
   "cell_type": "code",
   "source": [
    "# Matrix multiplication by dot product np.dot(matrix, matrix)\n",
    "A = np.random.randint(1, 5, size = (3, 3))\n",
    "print(A)\n",
    "print(np.dot(A, A))"
   ],
   "id": "61debb712fc199c",
   "outputs": [
    {
     "name": "stdout",
     "output_type": "stream",
     "text": [
      "[[1 2 2]\n",
      " [3 2 3]\n",
      " [1 1 2]]\n",
      "[[ 9  8 12]\n",
      " [12 13 18]\n",
      " [ 6  6  9]]\n"
     ]
    }
   ],
   "execution_count": 67
  },
  {
   "metadata": {
    "ExecuteTime": {
     "end_time": "2025-08-18T12:54:57.848531Z",
     "start_time": "2025-08-18T12:54:57.837717Z"
    }
   },
   "cell_type": "code",
   "source": [
    "# .T transforms shape of the matrix (x, y, ...) (..., y, x)\n",
    "print(A.T)"
   ],
   "id": "9dfc17f5db8817cd",
   "outputs": [
    {
     "name": "stdout",
     "output_type": "stream",
     "text": [
      "[[1 3 1]\n",
      " [2 2 1]\n",
      " [2 3 2]]\n"
     ]
    }
   ],
   "execution_count": 69
  }
 ],
 "metadata": {
  "kernelspec": {
   "display_name": "Python 3",
   "language": "python",
   "name": "python3"
  },
  "language_info": {
   "codemirror_mode": {
    "name": "ipython",
    "version": 2
   },
   "file_extension": ".py",
   "mimetype": "text/x-python",
   "name": "python",
   "nbconvert_exporter": "python",
   "pygments_lexer": "ipython2",
   "version": "2.7.6"
  }
 },
 "nbformat": 4,
 "nbformat_minor": 5
}
