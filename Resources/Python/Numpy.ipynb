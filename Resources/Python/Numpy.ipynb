{
 "cells": [
  {
   "cell_type": "code",
   "id": "initial_id",
   "metadata": {
    "collapsed": true,
    "ExecuteTime": {
     "end_time": "2025-08-17T23:13:52.993069Z",
     "start_time": "2025-08-17T23:13:52.988411Z"
    }
   },
   "source": "import numpy as np",
   "outputs": [],
   "execution_count": 53
  },
  {
   "metadata": {
    "ExecuteTime": {
     "end_time": "2025-08-17T23:13:53.351117Z",
     "start_time": "2025-08-17T23:13:53.344068Z"
    }
   },
   "cell_type": "code",
   "source": [
    "# Classic array np.array([...], dtype = ...)\n",
    "array = np.array([1, 2, 3], dtype = float)\n",
    "print(array)"
   ],
   "id": "846662fd0527bb25",
   "outputs": [
    {
     "name": "stdout",
     "output_type": "stream",
     "text": [
      "[1. 2. 3.]\n"
     ]
    }
   ],
   "execution_count": 54
  },
  {
   "metadata": {
    "ExecuteTime": {
     "end_time": "2025-08-17T23:13:53.533107Z",
     "start_time": "2025-08-17T23:13:53.529156Z"
    }
   },
   "cell_type": "code",
   "source": [
    "print(array.shape)\n",
    "print(array.size)"
   ],
   "id": "447e390dcbb5a587",
   "outputs": [
    {
     "name": "stdout",
     "output_type": "stream",
     "text": [
      "(3,)\n",
      "3\n"
     ]
    }
   ],
   "execution_count": 55
  },
  {
   "metadata": {
    "ExecuteTime": {
     "end_time": "2025-08-17T23:13:53.747369Z",
     "start_time": "2025-08-17T23:13:53.738742Z"
    }
   },
   "cell_type": "code",
   "source": [
    "# Array is mutable(only for compatible data type)\n",
    "array[0] = 2\n",
    "print(array)"
   ],
   "id": "18d2c412cf36bfcc",
   "outputs": [
    {
     "name": "stdout",
     "output_type": "stream",
     "text": [
      "[2. 2. 3.]\n"
     ]
    }
   ],
   "execution_count": 56
  },
  {
   "metadata": {
    "ExecuteTime": {
     "end_time": "2025-08-17T23:13:53.936465Z",
     "start_time": "2025-08-17T23:13:53.928709Z"
    }
   },
   "cell_type": "code",
   "source": [
    "# Arange creates an array by np.arange(start, stop, step)\n",
    "arange = np.arange(0, 10, 2)\n",
    "print(arange)"
   ],
   "id": "106b6e31b68240e7",
   "outputs": [
    {
     "name": "stdout",
     "output_type": "stream",
     "text": [
      "[0 2 4 6 8]\n"
     ]
    }
   ],
   "execution_count": 57
  },
  {
   "metadata": {
    "ExecuteTime": {
     "end_time": "2025-08-17T23:13:54.091039Z",
     "start_time": "2025-08-17T23:13:54.084034Z"
    }
   },
   "cell_type": "code",
   "source": [
    "# Linspace creates an array by np.linspace(start, stop, number of values) difference by equal value\n",
    "linspace = np.linspace(1, 10, 5)\n",
    "print(linspace)"
   ],
   "id": "96661e06d4e2e2ec",
   "outputs": [
    {
     "name": "stdout",
     "output_type": "stream",
     "text": [
      "[ 1.    3.25  5.5   7.75 10.  ]\n"
     ]
    }
   ],
   "execution_count": 58
  },
  {
   "metadata": {
    "ExecuteTime": {
     "end_time": "2025-08-17T23:13:54.279013Z",
     "start_time": "2025-08-17T23:13:54.270445Z"
    }
   },
   "cell_type": "code",
   "source": [
    "# Logspace creates an array by np.logspace(start, stop, number of values, base = ...)\n",
    "logspace = np.logspace(1, 3, 3, base = 2)\n",
    "print(logspace)"
   ],
   "id": "8984450ef2538d79",
   "outputs": [
    {
     "name": "stdout",
     "output_type": "stream",
     "text": [
      "[2. 4. 8.]\n"
     ]
    }
   ],
   "execution_count": 59
  },
  {
   "metadata": {
    "ExecuteTime": {
     "end_time": "2025-08-17T23:13:54.459310Z",
     "start_time": "2025-08-17T23:13:54.453134Z"
    }
   },
   "cell_type": "code",
   "source": [
    "# Meshgrid eqalises number of rows and columns to create all possible combinations\n",
    "x = np.array([1, 2, 3])\n",
    "y = np.array([4, 5, 6])\n",
    "\n",
    "X, Y = np.meshgrid(x, y)\n",
    "print(X)\n",
    "print(Y)"
   ],
   "id": "a9f822ba0c1f5f19",
   "outputs": [
    {
     "name": "stdout",
     "output_type": "stream",
     "text": [
      "[[1 2 3]\n",
      " [1 2 3]\n",
      " [1 2 3]]\n",
      "[[4 4 4]\n",
      " [5 5 5]\n",
      " [6 6 6]]\n"
     ]
    }
   ],
   "execution_count": 60
  },
  {
   "metadata": {
    "ExecuteTime": {
     "end_time": "2025-08-17T23:13:54.688769Z",
     "start_time": "2025-08-17T23:13:54.667874Z"
    }
   },
   "cell_type": "code",
   "source": [
    "# Random rand creates array from [0, 1) by np.random.rand(number of values)\n",
    "random_rand = np.random.rand(5)\n",
    "print(random_rand)"
   ],
   "id": "ae8c4b392e852aaf",
   "outputs": [
    {
     "name": "stdout",
     "output_type": "stream",
     "text": [
      "[0.16577086 0.98798814 0.58795562 0.29582829 0.53788434]\n"
     ]
    }
   ],
   "execution_count": 61
  },
  {
   "metadata": {
    "ExecuteTime": {
     "end_time": "2025-08-17T23:13:54.806224Z",
     "start_time": "2025-08-17T23:13:54.801127Z"
    }
   },
   "cell_type": "code",
   "source": [
    "# Random randn creates an array for disribution by np.random.randn(number of values)\n",
    "random_randn = np.random.randn(5)\n",
    "print(random_randn)"
   ],
   "id": "472a2f920341c4a6",
   "outputs": [
    {
     "name": "stdout",
     "output_type": "stream",
     "text": [
      "[0.3972909  0.06155383 0.923358   0.5599316  1.20971925]\n"
     ]
    }
   ],
   "execution_count": 62
  },
  {
   "metadata": {
    "ExecuteTime": {
     "end_time": "2025-08-17T23:13:55.085997Z",
     "start_time": "2025-08-17T23:13:55.074593Z"
    }
   },
   "cell_type": "code",
   "source": [
    "# Random randint creates an array by np.random.randint(start, stop, size = ...)\n",
    "random_randint = np.random.randint(1, 10, size = 5)\n",
    "print(random_randint)"
   ],
   "id": "e9dcda1fc3cd7e50",
   "outputs": [
    {
     "name": "stdout",
     "output_type": "stream",
     "text": [
      "[5 7 7 5 7]\n"
     ]
    }
   ],
   "execution_count": 63
  },
  {
   "metadata": {
    "ExecuteTime": {
     "end_time": "2025-08-17T23:13:55.192953Z",
     "start_time": "2025-08-17T23:13:55.188789Z"
    }
   },
   "cell_type": "code",
   "source": [
    "# Random random creates a matrix from [0, 1) by np.random.random([rows, columns])\n",
    "random_random = np.random.random([2, 2])\n",
    "print(random_random)"
   ],
   "id": "47f2af761c49cda4",
   "outputs": [
    {
     "name": "stdout",
     "output_type": "stream",
     "text": [
      "[[0.83249903 0.66222297]\n",
      " [0.35760808 0.67942404]]\n"
     ]
    }
   ],
   "execution_count": 64
  },
  {
   "metadata": {
    "ExecuteTime": {
     "end_time": "2025-08-17T23:13:55.325461Z",
     "start_time": "2025-08-17T23:13:55.310208Z"
    }
   },
   "cell_type": "code",
   "source": [
    "# Default generator creates an object to implement methods\n",
    "rng = np.random.default_rng()\n",
    "# Random method creates an array from [0, 1) by .random(number of values)\n",
    "print(rng.random(5))\n",
    "# Integer method creates an array by .integers(start, stop, size = )\n",
    "print(rng.integers(1, 10, size = 5))\n",
    "# Choice chooses by .choice(list, size = ..., replace = True/False )\n",
    "print(rng.choice([10, 20, 30, 40], size = 3, replace = False))\n",
    "# Shuffle randomly shuffles an array\n",
    "arr = np.arange(5)\n",
    "rng.shuffle(arr)\n",
    "print(arr)"
   ],
   "id": "1e9ab3c72000544c",
   "outputs": [
    {
     "name": "stdout",
     "output_type": "stream",
     "text": [
      "[0.03910182 0.97603949 0.98791862 0.4182089  0.44864237]\n",
      "[2 8 4 7 7]\n",
      "[40 30 10]\n",
      "[0 4 2 1 3]\n"
     ]
    }
   ],
   "execution_count": 65
  },
  {
   "metadata": {
    "ExecuteTime": {
     "end_time": "2025-08-17T23:13:55.515447Z",
     "start_time": "2025-08-17T23:13:55.506017Z"
    }
   },
   "cell_type": "code",
   "source": [
    "# Diag either outputs the diagonal of the matrix of gives matrix with 0s and diagonal of given array(k is offset)\n",
    "print(np.diag([1, 2, 3], k = 0))\n",
    "arr = np.random.random([3, 3])\n",
    "print(np.diag(arr))"
   ],
   "id": "a4835b19424197f3",
   "outputs": [
    {
     "name": "stdout",
     "output_type": "stream",
     "text": [
      "[[1 0 0]\n",
      " [0 2 0]\n",
      " [0 0 3]]\n",
      "[0.61681842 0.69111695 0.65324147]\n"
     ]
    }
   ],
   "execution_count": 66
  },
  {
   "metadata": {
    "ExecuteTime": {
     "end_time": "2025-08-17T23:13:55.711123Z",
     "start_time": "2025-08-17T23:13:55.706058Z"
    }
   },
   "cell_type": "code",
   "source": [
    "# Zeros creates zero matrix with np.zeros([rows, columns])\n",
    "zero_matrix = np.zeros([2, 2])\n",
    "print(zero_matrix)"
   ],
   "id": "fdf00b6a92eb5773",
   "outputs": [
    {
     "name": "stdout",
     "output_type": "stream",
     "text": [
      "[[0. 0.]\n",
      " [0. 0.]]\n"
     ]
    }
   ],
   "execution_count": 67
  },
  {
   "metadata": {
    "ExecuteTime": {
     "end_time": "2025-08-17T23:13:56.085244Z",
     "start_time": "2025-08-17T23:13:56.073336Z"
    }
   },
   "cell_type": "code",
   "source": [
    "# Ones creates one matrix with np.ones([rows, columns])\n",
    "ones_matrix = np.ones([2, 2])\n",
    "print(ones_matrix)"
   ],
   "id": "6aa931496477d3a8",
   "outputs": [
    {
     "name": "stdout",
     "output_type": "stream",
     "text": [
      "[[1. 1.]\n",
      " [1. 1.]]\n"
     ]
    }
   ],
   "execution_count": 68
  },
  {
   "metadata": {
    "ExecuteTime": {
     "end_time": "2025-08-17T23:13:56.542906Z",
     "start_time": "2025-08-17T23:13:56.520176Z"
    }
   },
   "cell_type": "code",
   "source": [
    "# Itemsize returns bytes per element\n",
    "matrix = np.random.random([3, 3])\n",
    "matrix.itemsize"
   ],
   "id": "e4dc2609aacc9d7",
   "outputs": [
    {
     "data": {
      "text/plain": [
       "8"
      ]
     },
     "execution_count": 69,
     "metadata": {},
     "output_type": "execute_result"
    }
   ],
   "execution_count": 69
  },
  {
   "metadata": {
    "ExecuteTime": {
     "end_time": "2025-08-17T23:13:57.027109Z",
     "start_time": "2025-08-17T23:13:57.009024Z"
    }
   },
   "cell_type": "code",
   "source": [
    "# Nbytes returns total number of bytes\n",
    "matrix.nbytes"
   ],
   "id": "ea84885b6c5be881",
   "outputs": [
    {
     "data": {
      "text/plain": [
       "72"
      ]
     },
     "execution_count": 70,
     "metadata": {},
     "output_type": "execute_result"
    }
   ],
   "execution_count": 70
  },
  {
   "metadata": {
    "ExecuteTime": {
     "end_time": "2025-08-17T23:13:57.620408Z",
     "start_time": "2025-08-17T23:13:57.603210Z"
    }
   },
   "cell_type": "code",
   "source": [
    "# Ndim returns number of dimensions\n",
    "matrix.ndim"
   ],
   "id": "c9d46cb3a6d3a138",
   "outputs": [
    {
     "data": {
      "text/plain": [
       "2"
      ]
     },
     "execution_count": 71,
     "metadata": {},
     "output_type": "execute_result"
    }
   ],
   "execution_count": 71
  },
  {
   "metadata": {
    "ExecuteTime": {
     "end_time": "2025-08-17T23:13:58.192808Z",
     "start_time": "2025-08-17T23:13:58.175480Z"
    }
   },
   "cell_type": "code",
   "source": [
    "# Matrix manipulation\n",
    "matrix = np.random.randint(1, 10, size = (3, 3))\n",
    "print(matrix)\n",
    "print(matrix[1, 1])"
   ],
   "id": "849400797fac7b4a",
   "outputs": [
    {
     "name": "stdout",
     "output_type": "stream",
     "text": [
      "[[4 4 3]\n",
      " [3 5 8]\n",
      " [6 5 4]]\n",
      "5\n"
     ]
    }
   ],
   "execution_count": 72
  },
  {
   "metadata": {
    "ExecuteTime": {
     "end_time": "2025-08-17T23:13:58.566193Z",
     "start_time": "2025-08-17T23:13:58.538241Z"
    }
   },
   "cell_type": "code",
   "source": [
    "# Mask in applying boolean condition to an array\n",
    "arr = np.random.randint(1, 10, size = 10)\n",
    "mask = arr > 5\n",
    "print(arr[mask])\n",
    "# Also can be applied by np.where()\n",
    "print(np.where(arr < 5))"
   ],
   "id": "75a64a52307ba0e9",
   "outputs": [
    {
     "name": "stdout",
     "output_type": "stream",
     "text": [
      "[8 8 9 7 8 8]\n",
      "(array([0, 4]),)\n"
     ]
    }
   ],
   "execution_count": 73
  },
  {
   "metadata": {
    "ExecuteTime": {
     "end_time": "2025-08-17T23:13:58.761127Z",
     "start_time": "2025-08-17T23:13:58.752083Z"
    }
   },
   "cell_type": "code",
   "source": [
    "# Fancy indexing\n",
    "arange = np.arange(10)\n",
    "print(arange)\n",
    "indexes = [0, 1, 3]\n",
    "print(arange[indexes])"
   ],
   "id": "5b690afbf64e3c2f",
   "outputs": [
    {
     "name": "stdout",
     "output_type": "stream",
     "text": [
      "[0 1 2 3 4 5 6 7 8 9]\n",
      "[0 1 3]\n"
     ]
    }
   ],
   "execution_count": 74
  },
  {
   "metadata": {
    "ExecuteTime": {
     "end_time": "2025-08-17T23:13:58.992470Z",
     "start_time": "2025-08-17T23:13:58.968063Z"
    }
   },
   "cell_type": "code",
   "source": [
    "# Take is similar to fancy indexing but works by np.take(..., [], axis = 0/1)\n",
    "matrix = np.random.randint(1, 5, size = (3, 3))\n",
    "print(matrix)\n",
    "print(np.take(matrix, [0, 2], axis = 0))\n",
    "print('---------------------')\n",
    "arr = np.random.randint(1, 5, size = 5)\n",
    "print(arr)\n",
    "print(np.take(arr, [0, 3]))\n",
    "indexes = [0, 3]\n",
    "# Or\n",
    "print(arr.take(indexes))\n",
    "# Or\n",
    "arr_index = np.take(arr, indexes)\n",
    "print(arr_index)"
   ],
   "id": "6c4f9578fc21afd",
   "outputs": [
    {
     "name": "stdout",
     "output_type": "stream",
     "text": [
      "[[2 3 1]\n",
      " [2 1 3]\n",
      " [2 1 2]]\n",
      "[[2 3 1]\n",
      " [2 1 2]]\n",
      "---------------------\n",
      "[4 3 2 2 1]\n",
      "[4 2]\n",
      "[4 2]\n",
      "[4 2]\n"
     ]
    }
   ],
   "execution_count": 75
  }
 ],
 "metadata": {
  "kernelspec": {
   "display_name": "Python 3",
   "language": "python",
   "name": "python3"
  },
  "language_info": {
   "codemirror_mode": {
    "name": "ipython",
    "version": 2
   },
   "file_extension": ".py",
   "mimetype": "text/x-python",
   "name": "python",
   "nbconvert_exporter": "python",
   "pygments_lexer": "ipython2",
   "version": "2.7.6"
  }
 },
 "nbformat": 4,
 "nbformat_minor": 5
}
