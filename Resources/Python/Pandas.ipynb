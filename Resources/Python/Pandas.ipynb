{
 "cells": [
  {
   "metadata": {
    "ExecuteTime": {
     "end_time": "2025-08-22T19:51:01.645400Z",
     "start_time": "2025-08-22T19:51:01.398937Z"
    }
   },
   "cell_type": "code",
   "source": [
    "import numpy as np\n",
    "print(np.nan != np.nan)\n",
    "print(np.nan == np.nan)\n",
    "print(None != None)\n",
    "print(None == None)"
   ],
   "id": "cc55c3f8d78c267b",
   "outputs": [
    {
     "name": "stdout",
     "output_type": "stream",
     "text": [
      "True\n",
      "False\n",
      "False\n",
      "True\n"
     ]
    }
   ],
   "execution_count": 3
  },
  {
   "metadata": {
    "collapsed": true,
    "ExecuteTime": {
     "end_time": "2025-08-22T19:51:02.106222Z",
     "start_time": "2025-08-22T19:51:01.658745Z"
    }
   },
   "cell_type": "code",
   "source": "import pandas as pd",
   "id": "825a833fb54b9526",
   "outputs": [],
   "execution_count": 4
  },
  {
   "metadata": {
    "ExecuteTime": {
     "end_time": "2025-08-22T19:51:02.126868Z",
     "start_time": "2025-08-22T19:51:02.120298Z"
    }
   },
   "cell_type": "code",
   "source": [
    "# Getting variables of series in array format\n",
    "series = pd.Series([1, 2, 3])\n",
    "print(series.values)"
   ],
   "id": "c7f08d4d3705fcec",
   "outputs": [
    {
     "name": "stdout",
     "output_type": "stream",
     "text": [
      "[1 2 3]\n"
     ]
    }
   ],
   "execution_count": 5
  },
  {
   "metadata": {
    "ExecuteTime": {
     "end_time": "2025-08-22T19:51:02.187709Z",
     "start_time": "2025-08-22T19:51:02.181615Z"
    }
   },
   "cell_type": "code",
   "source": [
    "# To transport from array to list\n",
    "l = []\n",
    "l = series.values.tolist()\n",
    "print(l)"
   ],
   "id": "fca70288027fad5b",
   "outputs": [
    {
     "name": "stdout",
     "output_type": "stream",
     "text": [
      "[1, 2, 3]\n"
     ]
    }
   ],
   "execution_count": 6
  },
  {
   "metadata": {
    "ExecuteTime": {
     "end_time": "2025-08-22T19:51:02.254162Z",
     "start_time": "2025-08-22T19:51:02.242016Z"
    }
   },
   "cell_type": "code",
   "source": [
    "# Labeling the index pd.Series(data = [series], index = [labels])\n",
    "series = pd.Series(['a', 'b', 'c'], index = [1, 2, 3])\n",
    "print(series)\n",
    "# Or\n",
    "series.index = [11, 22, 33]\n",
    "print(series)"
   ],
   "id": "ae8482fe8eebdb84",
   "outputs": [
    {
     "name": "stdout",
     "output_type": "stream",
     "text": [
      "1    a\n",
      "2    b\n",
      "3    c\n",
      "dtype: object\n",
      "11    a\n",
      "22    b\n",
      "33    c\n",
      "dtype: object\n"
     ]
    }
   ],
   "execution_count": 7
  },
  {
   "metadata": {
    "ExecuteTime": {
     "end_time": "2025-08-22T19:51:02.312221Z",
     "start_time": "2025-08-22T19:51:02.304870Z"
    }
   },
   "cell_type": "code",
   "source": [
    "# Applying numpy functions to series\n",
    "import numpy as np\n",
    "series = pd.Series([1, 2, 3], index = ['a', 'b', 'c'])\n",
    "summ = np.sum(series)\n",
    "print(summ)\n",
    "print(np.log(series))"
   ],
   "id": "aabb6b3449c92681",
   "outputs": [
    {
     "name": "stdout",
     "output_type": "stream",
     "text": [
      "6\n",
      "a    0.000000\n",
      "b    0.693147\n",
      "c    1.098612\n",
      "dtype: float64\n"
     ]
    }
   ],
   "execution_count": 8
  },
  {
   "metadata": {
    "ExecuteTime": {
     "end_time": "2025-08-22T19:51:02.375412Z",
     "start_time": "2025-08-22T19:51:02.366828Z"
    }
   },
   "cell_type": "code",
   "source": [
    "# Series also can be formed by dictionary\n",
    "data = {'a': 1, 'b': 2, 'c': 3}\n",
    "series = pd.Series(data)\n",
    "print(series)\n",
    "# Or like\n",
    "a = [1, 2, 3]\n",
    "b = ['a', 'b', 'c']\n",
    "series = pd.Series(dict(zip(a, b)))\n",
    "print(series)"
   ],
   "id": "400685922f5d8395",
   "outputs": [
    {
     "name": "stdout",
     "output_type": "stream",
     "text": [
      "a    1\n",
      "b    2\n",
      "c    3\n",
      "dtype: int64\n",
      "1    a\n",
      "2    b\n",
      "3    c\n",
      "dtype: object\n"
     ]
    }
   ],
   "execution_count": 9
  },
  {
   "metadata": {
    "ExecuteTime": {
     "end_time": "2025-08-22T19:51:02.444335Z",
     "start_time": "2025-08-22T19:51:02.429991Z"
    }
   },
   "cell_type": "code",
   "source": [
    "# Replacing\n",
    "# inplace=True → edit the original\n",
    "# inplace=False → create a new one, leave original safe\n",
    "df = pd.DataFrame()\n",
    "df['First'] = [1, 2, np.nan, 4, np.nan]\n",
    "df.replace({np.nan: 3}, inplace = True)\n",
    "print(df)"
   ],
   "id": "d1a314d5ad9ff3c1",
   "outputs": [
    {
     "name": "stdout",
     "output_type": "stream",
     "text": [
      "   First\n",
      "0    1.0\n",
      "1    2.0\n",
      "2    3.0\n",
      "3    4.0\n",
      "4    3.0\n"
     ]
    }
   ],
   "execution_count": 10
  },
  {
   "metadata": {
    "ExecuteTime": {
     "end_time": "2025-08-22T19:51:02.507008Z",
     "start_time": "2025-08-22T19:51:02.493446Z"
    }
   },
   "cell_type": "code",
   "source": [
    "# Value count gives number of duplicating values\n",
    "df = pd.DataFrame()\n",
    "df['Orig'] = [1, 2, 2, 3, 4]\n",
    "print(df.value_counts())"
   ],
   "id": "4cced60eac5be60b",
   "outputs": [
    {
     "name": "stdout",
     "output_type": "stream",
     "text": [
      "Orig\n",
      "2       2\n",
      "1       1\n",
      "3       1\n",
      "4       1\n",
      "Name: count, dtype: int64\n"
     ]
    }
   ],
   "execution_count": 11
  },
  {
   "metadata": {
    "ExecuteTime": {
     "end_time": "2025-08-22T19:51:02.568181Z",
     "start_time": "2025-08-22T19:51:02.558412Z"
    }
   },
   "cell_type": "code",
   "source": [
    "# If data is big, .head(n) outputs first n rows, .tail(n) outputs last n rows(5 by default)\n",
    "df = pd.DataFrame()\n",
    "df['Orig'] = [1, 2, 3, 4, 5, 6, 7, 8, 9, 10]\n",
    "print(df.head())\n",
    "print('-----------')\n",
    "print(df.tail())"
   ],
   "id": "7ab772adc1d601fa",
   "outputs": [
    {
     "name": "stdout",
     "output_type": "stream",
     "text": [
      "   Orig\n",
      "0     1\n",
      "1     2\n",
      "2     3\n",
      "3     4\n",
      "4     5\n",
      "-----------\n",
      "   Orig\n",
      "5     6\n",
      "6     7\n",
      "7     8\n",
      "8     9\n",
      "9    10\n"
     ]
    }
   ],
   "execution_count": 12
  },
  {
   "metadata": {
    "ExecuteTime": {
     "end_time": "2025-08-22T19:51:02.627030Z",
     "start_time": "2025-08-22T19:51:02.618627Z"
    }
   },
   "cell_type": "code",
   "source": [
    "# Away to select ceratin types of values .select_dtypes(include = ['...'])\n",
    "df = pd.DataFrame({\n",
    "    'A': [1, 2, 3],           # int\n",
    "    'B': [1.1, 2.2, 3.3],     # float\n",
    "    'C': ['x', 'y', 'z']      # object (string)\n",
    "})\n",
    "\n",
    "numeric_df = df.select_dtypes(include = 'int')\n",
    "print(numeric_df)"
   ],
   "id": "d94230119ac38ee",
   "outputs": [
    {
     "name": "stdout",
     "output_type": "stream",
     "text": [
      "   A\n",
      "0  1\n",
      "1  2\n",
      "2  3\n"
     ]
    }
   ],
   "execution_count": 13
  },
  {
   "metadata": {
    "ExecuteTime": {
     "end_time": "2025-08-22T19:51:02.684118Z",
     "start_time": "2025-08-22T19:51:02.678678Z"
    }
   },
   "cell_type": "code",
   "source": [
    "# Common way to detect any missing datas(nan's) in dataframe\n",
    "print(df.isna().sum())"
   ],
   "id": "7e817acf9c518b5d",
   "outputs": [
    {
     "name": "stdout",
     "output_type": "stream",
     "text": [
      "A    0\n",
      "B    0\n",
      "C    0\n",
      "dtype: int64\n"
     ]
    }
   ],
   "execution_count": 14
  },
  {
   "metadata": {
    "ExecuteTime": {
     "end_time": "2025-08-22T19:51:02.742016Z",
     "start_time": "2025-08-22T19:51:02.737050Z"
    }
   },
   "cell_type": "code",
   "source": [
    "# Applying lambda function to series\n",
    "\n",
    "s = pd.Series([1, 2, 3, 4])\n",
    "print(s.apply(lambda x: x*2))"
   ],
   "id": "97267eeb0f1e7ac6",
   "outputs": [
    {
     "name": "stdout",
     "output_type": "stream",
     "text": [
      "0    2\n",
      "1    4\n",
      "2    6\n",
      "3    8\n",
      "dtype: int64\n"
     ]
    }
   ],
   "execution_count": 15
  },
  {
   "metadata": {
    "ExecuteTime": {
     "end_time": "2025-08-22T19:51:02.831975Z",
     "start_time": "2025-08-22T19:51:02.813712Z"
    }
   },
   "cell_type": "code",
   "source": [
    "# Columns of the dataframe\n",
    "df = pd.DataFrame({'first': [1, 2, 3], 'second': [4, 5, 6]})\n",
    "print(df.columns)"
   ],
   "id": "b09681859df40f28",
   "outputs": [
    {
     "name": "stdout",
     "output_type": "stream",
     "text": [
      "Index(['first', 'second'], dtype='object')\n"
     ]
    }
   ],
   "execution_count": 16
  },
  {
   "metadata": {
    "ExecuteTime": {
     "end_time": "2025-08-22T19:51:02.913723Z",
     "start_time": "2025-08-22T19:51:02.906789Z"
    }
   },
   "cell_type": "code",
   "source": [
    "# Renaming columm\n",
    "df.rename(columns = {'first': 'second', 'second': 'third'}, inplace = True)\n",
    "print(df)"
   ],
   "id": "d3d77c42b2551370",
   "outputs": [
    {
     "name": "stdout",
     "output_type": "stream",
     "text": [
      "   second  third\n",
      "0       1      4\n",
      "1       2      5\n",
      "2       3      6\n"
     ]
    }
   ],
   "execution_count": 17
  },
  {
   "metadata": {
    "ExecuteTime": {
     "end_time": "2025-08-22T19:51:02.977373Z",
     "start_time": "2025-08-22T19:51:02.967696Z"
    }
   },
   "cell_type": "code",
   "source": [
    "# iloc → integer-location based\n",
    "df = pd.DataFrame({\n",
    "    'A': [10, 20, 30],\n",
    "    'B': [40, 50, 60]\n",
    "})\n",
    "# Select first row\n",
    "print(df.iloc[0])"
   ],
   "id": "90b8dfbaa32f14db",
   "outputs": [
    {
     "name": "stdout",
     "output_type": "stream",
     "text": [
      "A    10\n",
      "B    40\n",
      "Name: 0, dtype: int64\n"
     ]
    }
   ],
   "execution_count": 18
  },
  {
   "metadata": {
    "ExecuteTime": {
     "end_time": "2025-08-22T19:51:03.033375Z",
     "start_time": "2025-08-22T19:51:03.026284Z"
    }
   },
   "cell_type": "code",
   "source": [
    "# loc → label-based\n",
    "df.index = ['x', 'y', 'z']\n",
    "print(df.loc['x'])"
   ],
   "id": "4e1bc2bf59956f2f",
   "outputs": [
    {
     "name": "stdout",
     "output_type": "stream",
     "text": [
      "A    10\n",
      "B    40\n",
      "Name: x, dtype: int64\n"
     ]
    }
   ],
   "execution_count": 19
  },
  {
   "metadata": {
    "ExecuteTime": {
     "end_time": "2025-08-22T19:51:03.092222Z",
     "start_time": "2025-08-22T19:51:03.084435Z"
    }
   },
   "cell_type": "code",
   "source": [
    "# Finding position of the column\n",
    "df = pd.DataFrame({\n",
    "    'A': [10, 20, 30],\n",
    "    'B': [40, 50, 60],\n",
    "    'C': [70, 80, 90]\n",
    "})\n",
    "\n",
    "# Find position of column 'B'\n",
    "pos = df.columns.get_loc('B')\n",
    "print(pos)"
   ],
   "id": "7e516909b7f7a950",
   "outputs": [
    {
     "name": "stdout",
     "output_type": "stream",
     "text": [
      "1\n"
     ]
    }
   ],
   "execution_count": 20
  },
  {
   "metadata": {
    "ExecuteTime": {
     "end_time": "2025-08-22T19:51:03.159409Z",
     "start_time": "2025-08-22T19:51:03.147706Z"
    }
   },
   "cell_type": "code",
   "source": [
    "# Dropping a row\n",
    "df = pd.DataFrame({\n",
    "    'A': [10, 20, 30],\n",
    "    'B': [40, 50, 60]\n",
    "}, index=['x','y','z'])\n",
    "\n",
    "new_df = df.drop('y', axis = 0)\n",
    "print(new_df)\n",
    "\n",
    "# Dropping column\n",
    "new_df = df.drop('A', axis = 1)\n",
    "print(new_df)"
   ],
   "id": "fee79d0bb9e6ff74",
   "outputs": [
    {
     "name": "stdout",
     "output_type": "stream",
     "text": [
      "    A   B\n",
      "x  10  40\n",
      "z  30  60\n",
      "    B\n",
      "x  40\n",
      "y  50\n",
      "z  60\n"
     ]
    }
   ],
   "execution_count": 21
  },
  {
   "metadata": {
    "ExecuteTime": {
     "end_time": "2025-08-22T19:51:03.219812Z",
     "start_time": "2025-08-22T19:51:03.212307Z"
    }
   },
   "cell_type": "code",
   "source": [
    "# del is only for deleting columns\n",
    "df = pd.DataFrame({\n",
    "    'A': [1,2,3],\n",
    "    'B': [4,5,6],\n",
    "    'C': [7,8,9]\n",
    "})\n",
    "\n",
    "del df['B']\n",
    "print(df)"
   ],
   "id": "23b48882ef0aa6ab",
   "outputs": [
    {
     "name": "stdout",
     "output_type": "stream",
     "text": [
      "   A  C\n",
      "0  1  7\n",
      "1  2  8\n",
      "2  3  9\n"
     ]
    }
   ],
   "execution_count": 22
  },
  {
   "metadata": {
    "ExecuteTime": {
     "end_time": "2025-08-22T19:51:03.283549Z",
     "start_time": "2025-08-22T19:51:03.275156Z"
    }
   },
   "cell_type": "code",
   "source": [
    "# Setting new index\n",
    "df = pd.DataFrame({\n",
    "    'ID': [101, 102, 103],\n",
    "    'Name': ['Alice', 'Bob', 'Charlie'],\n",
    "    'Score': [85, 90, 95]\n",
    "})\n",
    "\n",
    "new_df = df.set_index('ID')\n",
    "print(new_df)"
   ],
   "id": "e8d43920379620a1",
   "outputs": [
    {
     "name": "stdout",
     "output_type": "stream",
     "text": [
      "        Name  Score\n",
      "ID                 \n",
      "101    Alice     85\n",
      "102      Bob     90\n",
      "103  Charlie     95\n"
     ]
    }
   ],
   "execution_count": 23
  },
  {
   "metadata": {
    "ExecuteTime": {
     "end_time": "2025-08-22T19:51:03.414180Z",
     "start_time": "2025-08-22T19:51:03.390565Z"
    }
   },
   "cell_type": "code",
   "source": [
    "# And resetting\n",
    "df.reset_index()"
   ],
   "id": "357895708e8aa784",
   "outputs": [
    {
     "data": {
      "text/plain": [
       "   index   ID     Name  Score\n",
       "0      0  101    Alice     85\n",
       "1      1  102      Bob     90\n",
       "2      2  103  Charlie     95"
      ],
      "text/html": [
       "<div>\n",
       "<style scoped>\n",
       "    .dataframe tbody tr th:only-of-type {\n",
       "        vertical-align: middle;\n",
       "    }\n",
       "\n",
       "    .dataframe tbody tr th {\n",
       "        vertical-align: top;\n",
       "    }\n",
       "\n",
       "    .dataframe thead th {\n",
       "        text-align: right;\n",
       "    }\n",
       "</style>\n",
       "<table border=\"1\" class=\"dataframe\">\n",
       "  <thead>\n",
       "    <tr style=\"text-align: right;\">\n",
       "      <th></th>\n",
       "      <th>index</th>\n",
       "      <th>ID</th>\n",
       "      <th>Name</th>\n",
       "      <th>Score</th>\n",
       "    </tr>\n",
       "  </thead>\n",
       "  <tbody>\n",
       "    <tr>\n",
       "      <th>0</th>\n",
       "      <td>0</td>\n",
       "      <td>101</td>\n",
       "      <td>Alice</td>\n",
       "      <td>85</td>\n",
       "    </tr>\n",
       "    <tr>\n",
       "      <th>1</th>\n",
       "      <td>1</td>\n",
       "      <td>102</td>\n",
       "      <td>Bob</td>\n",
       "      <td>90</td>\n",
       "    </tr>\n",
       "    <tr>\n",
       "      <th>2</th>\n",
       "      <td>2</td>\n",
       "      <td>103</td>\n",
       "      <td>Charlie</td>\n",
       "      <td>95</td>\n",
       "    </tr>\n",
       "  </tbody>\n",
       "</table>\n",
       "</div>"
      ]
     },
     "execution_count": 24,
     "metadata": {},
     "output_type": "execute_result"
    }
   ],
   "execution_count": 24
  }
 ],
 "metadata": {
  "kernelspec": {
   "display_name": "Python 3",
   "language": "python",
   "name": "python3"
  },
  "language_info": {
   "codemirror_mode": {
    "name": "ipython",
    "version": 2
   },
   "file_extension": ".py",
   "mimetype": "text/x-python",
   "name": "python",
   "nbconvert_exporter": "python",
   "pygments_lexer": "ipython2",
   "version": "2.7.6"
  }
 },
 "nbformat": 4,
 "nbformat_minor": 5
}
