{
 "cells": [
  {
   "metadata": {
    "ExecuteTime": {
     "end_time": "2025-08-19T20:33:56.174772Z",
     "start_time": "2025-08-19T20:33:56.162055Z"
    }
   },
   "cell_type": "code",
   "source": [
    "import numpy as np\n",
    "print(np.nan != np.nan)\n",
    "print(np.nan == np.nan)\n",
    "print(None != None)\n",
    "print(None == None)"
   ],
   "id": "cc55c3f8d78c267b",
   "outputs": [
    {
     "name": "stdout",
     "output_type": "stream",
     "text": [
      "True\n",
      "False\n",
      "False\n",
      "True\n"
     ]
    }
   ],
   "execution_count": 23
  },
  {
   "metadata": {
    "collapsed": true,
    "ExecuteTime": {
     "end_time": "2025-08-19T20:33:56.233927Z",
     "start_time": "2025-08-19T20:33:56.228336Z"
    }
   },
   "cell_type": "code",
   "source": "import pandas as pd",
   "id": "825a833fb54b9526",
   "outputs": [],
   "execution_count": 24
  },
  {
   "metadata": {
    "ExecuteTime": {
     "end_time": "2025-08-19T20:33:56.298447Z",
     "start_time": "2025-08-19T20:33:56.280745Z"
    }
   },
   "cell_type": "code",
   "source": [
    "# Getting variables of series in array format\n",
    "series = pd.Series([1, 2, 3])\n",
    "print(series.values)"
   ],
   "id": "c7f08d4d3705fcec",
   "outputs": [
    {
     "name": "stdout",
     "output_type": "stream",
     "text": [
      "[1 2 3]\n"
     ]
    }
   ],
   "execution_count": 25
  },
  {
   "metadata": {
    "ExecuteTime": {
     "end_time": "2025-08-19T20:33:56.351616Z",
     "start_time": "2025-08-19T20:33:56.345258Z"
    }
   },
   "cell_type": "code",
   "source": [
    "# To transport from array to list\n",
    "l = []\n",
    "l = series.values.tolist()\n",
    "print(l)"
   ],
   "id": "fca70288027fad5b",
   "outputs": [
    {
     "name": "stdout",
     "output_type": "stream",
     "text": [
      "[1, 2, 3]\n"
     ]
    }
   ],
   "execution_count": 26
  },
  {
   "metadata": {
    "ExecuteTime": {
     "end_time": "2025-08-19T20:33:56.415083Z",
     "start_time": "2025-08-19T20:33:56.399106Z"
    }
   },
   "cell_type": "code",
   "source": [
    "# Labeling the index pd.Series(data = [series], index = [labels])\n",
    "series = pd.Series(['a', 'b', 'c'], index = [1, 2, 3])\n",
    "print(series)\n",
    "# Or\n",
    "series.index = [11, 22, 33]\n",
    "print(series)"
   ],
   "id": "ae8482fe8eebdb84",
   "outputs": [
    {
     "name": "stdout",
     "output_type": "stream",
     "text": [
      "1    a\n",
      "2    b\n",
      "3    c\n",
      "dtype: object\n",
      "11    a\n",
      "22    b\n",
      "33    c\n",
      "dtype: object\n"
     ]
    }
   ],
   "execution_count": 27
  },
  {
   "metadata": {
    "ExecuteTime": {
     "end_time": "2025-08-19T20:33:56.535658Z",
     "start_time": "2025-08-19T20:33:56.524602Z"
    }
   },
   "cell_type": "code",
   "source": [
    "# Applying numpy functions to series\n",
    "import numpy as np\n",
    "series = pd.Series([1, 2, 3], index = ['a', 'b', 'c'])\n",
    "summ = np.sum(series)\n",
    "print(summ)\n",
    "print(np.log(series))"
   ],
   "id": "aabb6b3449c92681",
   "outputs": [
    {
     "name": "stdout",
     "output_type": "stream",
     "text": [
      "6\n",
      "a    0.000000\n",
      "b    0.693147\n",
      "c    1.098612\n",
      "dtype: float64\n"
     ]
    }
   ],
   "execution_count": 28
  },
  {
   "metadata": {
    "ExecuteTime": {
     "end_time": "2025-08-19T20:33:56.625693Z",
     "start_time": "2025-08-19T20:33:56.614668Z"
    }
   },
   "cell_type": "code",
   "source": [
    "# Series also can be formed by dictionary\n",
    "data = {'a': 1, 'b': 2, 'c': 3}\n",
    "series = pd.Series(data)\n",
    "print(series)\n",
    "# Or like\n",
    "a = [1, 2, 3]\n",
    "b = ['a', 'b', 'c']\n",
    "series = pd.Series(dict(zip(a, b)))\n",
    "print(series)"
   ],
   "id": "400685922f5d8395",
   "outputs": [
    {
     "name": "stdout",
     "output_type": "stream",
     "text": [
      "a    1\n",
      "b    2\n",
      "c    3\n",
      "dtype: int64\n",
      "1    a\n",
      "2    b\n",
      "3    c\n",
      "dtype: object\n"
     ]
    }
   ],
   "execution_count": 29
  },
  {
   "metadata": {
    "ExecuteTime": {
     "end_time": "2025-08-19T20:41:04.418612Z",
     "start_time": "2025-08-19T20:41:04.383167Z"
    }
   },
   "cell_type": "code",
   "source": [
    "# Replacing\n",
    "# inplace=True → edit the original\n",
    "# inplace=False → create a new one, leave original safe\n",
    "df = pd.DataFrame()\n",
    "df['First'] = [1, 2, np.nan, 4, np.nan]\n",
    "df.replace({np.nan: 3}, inplace = True)\n",
    "print(df)"
   ],
   "id": "d1a314d5ad9ff3c1",
   "outputs": [
    {
     "name": "stdout",
     "output_type": "stream",
     "text": [
      "   First\n",
      "0    1.0\n",
      "1    2.0\n",
      "2    3.0\n",
      "3    4.0\n",
      "4    3.0\n"
     ]
    }
   ],
   "execution_count": 41
  },
  {
   "metadata": {
    "ExecuteTime": {
     "end_time": "2025-08-19T20:43:56.828053Z",
     "start_time": "2025-08-19T20:43:56.744786Z"
    }
   },
   "cell_type": "code",
   "source": [
    "# Value count gives number of duplicating values\n",
    "df = pd.DataFrame()\n",
    "df['Orig'] = [1, 2, 2, 3, 4]\n",
    "print(df.value_counts())"
   ],
   "id": "4cced60eac5be60b",
   "outputs": [
    {
     "name": "stdout",
     "output_type": "stream",
     "text": [
      "Orig\n",
      "2       2\n",
      "1       1\n",
      "3       1\n",
      "4       1\n",
      "Name: count, dtype: int64\n"
     ]
    }
   ],
   "execution_count": 45
  },
  {
   "metadata": {
    "ExecuteTime": {
     "end_time": "2025-08-19T20:46:58.908974Z",
     "start_time": "2025-08-19T20:46:58.877691Z"
    }
   },
   "cell_type": "code",
   "source": [
    "# If data is big, .head(n) outputs first n rows, .tail(n) outputs last n rows(5 by default)\n",
    "df = pd.DataFrame()\n",
    "df['Orig'] = [1, 2, 3, 4, 5, 6, 7, 8, 9, 10]\n",
    "print(df.head())\n",
    "print('-----------')\n",
    "print(df.tail())"
   ],
   "id": "7ab772adc1d601fa",
   "outputs": [
    {
     "name": "stdout",
     "output_type": "stream",
     "text": [
      "   Orig\n",
      "0     1\n",
      "1     2\n",
      "2     3\n",
      "3     4\n",
      "4     5\n",
      "-----------\n",
      "   Orig\n",
      "5     6\n",
      "6     7\n",
      "7     8\n",
      "8     9\n",
      "9    10\n"
     ]
    }
   ],
   "execution_count": 48
  },
  {
   "metadata": {
    "ExecuteTime": {
     "end_time": "2025-08-19T20:51:44.957707Z",
     "start_time": "2025-08-19T20:51:44.931266Z"
    }
   },
   "cell_type": "code",
   "source": [
    "# Away to select ceratin types of values .select_dtypes(include = ['...'])\n",
    "df = pd.DataFrame({\n",
    "    'A': [1, 2, 3],           # int\n",
    "    'B': [1.1, 2.2, 3.3],     # float\n",
    "    'C': ['x', 'y', 'z']      # object (string)\n",
    "})\n",
    "\n",
    "numeric_df = df.select_dtypes(include = 'int')\n",
    "print(numeric_df)"
   ],
   "id": "d94230119ac38ee",
   "outputs": [
    {
     "name": "stdout",
     "output_type": "stream",
     "text": [
      "   A\n",
      "0  1\n",
      "1  2\n",
      "2  3\n"
     ]
    }
   ],
   "execution_count": 55
  },
  {
   "metadata": {
    "ExecuteTime": {
     "end_time": "2025-08-19T20:59:19.950843Z",
     "start_time": "2025-08-19T20:59:19.944887Z"
    }
   },
   "cell_type": "code",
   "source": [
    "# Common way to detect any missing datas(nan's) in dataframe\n",
    "print(df.isna().sum())"
   ],
   "id": "7e817acf9c518b5d",
   "outputs": [
    {
     "name": "stdout",
     "output_type": "stream",
     "text": [
      "A    0\n",
      "B    0\n",
      "C    0\n",
      "dtype: int64\n"
     ]
    }
   ],
   "execution_count": 57
  },
  {
   "metadata": {
    "ExecuteTime": {
     "end_time": "2025-08-19T21:03:08.183173Z",
     "start_time": "2025-08-19T21:03:08.175863Z"
    }
   },
   "cell_type": "code",
   "source": [
    "# Applying lambda function to series\n",
    "\n",
    "s = pd.Series([1, 2, 3, 4])\n",
    "print(s.apply(lambda x: x*2))"
   ],
   "id": "97267eeb0f1e7ac6",
   "outputs": [
    {
     "name": "stdout",
     "output_type": "stream",
     "text": [
      "0    2\n",
      "1    4\n",
      "2    6\n",
      "3    8\n",
      "dtype: int64\n"
     ]
    }
   ],
   "execution_count": 58
  },
  {
   "metadata": {
    "ExecuteTime": {
     "end_time": "2025-08-19T21:10:16.571521Z",
     "start_time": "2025-08-19T21:10:16.563419Z"
    }
   },
   "cell_type": "code",
   "source": [
    "# Columns of the dataframe\n",
    "df = pd.DataFrame({'first': [1, 2, 3], 'second': [4, 5, 6]})\n",
    "print(df.columns)"
   ],
   "id": "b09681859df40f28",
   "outputs": [
    {
     "name": "stdout",
     "output_type": "stream",
     "text": [
      "Index(['first', 'second'], dtype='object')\n"
     ]
    }
   ],
   "execution_count": 67
  },
  {
   "metadata": {
    "ExecuteTime": {
     "end_time": "2025-08-19T21:10:16.796508Z",
     "start_time": "2025-08-19T21:10:16.773995Z"
    }
   },
   "cell_type": "code",
   "source": [
    "# Renaming columm\n",
    "df.rename(columns = {'first': 'second', 'second': 'third'}, inplace = True)\n",
    "print(df)"
   ],
   "id": "d3d77c42b2551370",
   "outputs": [
    {
     "name": "stdout",
     "output_type": "stream",
     "text": [
      "   second  third\n",
      "0       1      4\n",
      "1       2      5\n",
      "2       3      6\n"
     ]
    }
   ],
   "execution_count": 68
  },
  {
   "metadata": {
    "ExecuteTime": {
     "end_time": "2025-08-19T21:12:48.585573Z",
     "start_time": "2025-08-19T21:12:48.577297Z"
    }
   },
   "cell_type": "code",
   "source": [
    "# iloc → integer-location based\n",
    "df = pd.DataFrame({\n",
    "    'A': [10, 20, 30],\n",
    "    'B': [40, 50, 60]\n",
    "})\n",
    "# Select first row\n",
    "print(df.iloc[0])"
   ],
   "id": "90b8dfbaa32f14db",
   "outputs": [
    {
     "name": "stdout",
     "output_type": "stream",
     "text": [
      "A    10\n",
      "B    40\n",
      "Name: 0, dtype: int64\n"
     ]
    }
   ],
   "execution_count": 74
  },
  {
   "metadata": {
    "ExecuteTime": {
     "end_time": "2025-08-19T21:13:24.116575Z",
     "start_time": "2025-08-19T21:13:24.110988Z"
    }
   },
   "cell_type": "code",
   "source": [
    "# loc → label-based\n",
    "df.index = ['x', 'y', 'z']\n",
    "print(df.loc['x'])"
   ],
   "id": "4e1bc2bf59956f2f",
   "outputs": [
    {
     "name": "stdout",
     "output_type": "stream",
     "text": [
      "A    10\n",
      "B    40\n",
      "Name: x, dtype: int64\n"
     ]
    }
   ],
   "execution_count": 75
  },
  {
   "metadata": {
    "ExecuteTime": {
     "end_time": "2025-08-19T21:15:59.553950Z",
     "start_time": "2025-08-19T21:15:59.534798Z"
    }
   },
   "cell_type": "code",
   "source": [
    "# Finding position of the column\n",
    "df = pd.DataFrame({\n",
    "    'A': [10, 20, 30],\n",
    "    'B': [40, 50, 60],\n",
    "    'C': [70, 80, 90]\n",
    "})\n",
    "\n",
    "# Find position of column 'B'\n",
    "pos = df.columns.get_loc('B')\n",
    "print(pos)"
   ],
   "id": "7e516909b7f7a950",
   "outputs": [
    {
     "name": "stdout",
     "output_type": "stream",
     "text": [
      "1\n"
     ]
    }
   ],
   "execution_count": 76
  },
  {
   "metadata": {
    "ExecuteTime": {
     "end_time": "2025-08-19T21:50:14.990599Z",
     "start_time": "2025-08-19T21:50:14.979627Z"
    }
   },
   "cell_type": "code",
   "source": [
    "# Dropping a row\n",
    "df = pd.DataFrame({\n",
    "    'A': [10, 20, 30],\n",
    "    'B': [40, 50, 60]\n",
    "}, index=['x','y','z'])\n",
    "\n",
    "new_df = df.drop('y', axis = 0)\n",
    "print(new_df)\n",
    "\n",
    "# Dropping column\n",
    "new_df = df.drop('A', axis = 1)\n",
    "print(new_df)"
   ],
   "id": "fee79d0bb9e6ff74",
   "outputs": [
    {
     "name": "stdout",
     "output_type": "stream",
     "text": [
      "    A   B\n",
      "x  10  40\n",
      "z  30  60\n",
      "    B\n",
      "x  40\n",
      "y  50\n",
      "z  60\n"
     ]
    }
   ],
   "execution_count": 81
  },
  {
   "metadata": {
    "ExecuteTime": {
     "end_time": "2025-08-19T21:52:03.656513Z",
     "start_time": "2025-08-19T21:52:03.647285Z"
    }
   },
   "cell_type": "code",
   "source": [
    "# del is only for deleting columns\n",
    "df = pd.DataFrame({\n",
    "    'A': [1,2,3],\n",
    "    'B': [4,5,6],\n",
    "    'C': [7,8,9]\n",
    "})\n",
    "\n",
    "del df['B']\n",
    "print(df)"
   ],
   "id": "23b48882ef0aa6ab",
   "outputs": [
    {
     "name": "stdout",
     "output_type": "stream",
     "text": [
      "   A  C\n",
      "0  1  7\n",
      "1  2  8\n",
      "2  3  9\n"
     ]
    }
   ],
   "execution_count": 82
  },
  {
   "metadata": {
    "ExecuteTime": {
     "end_time": "2025-08-19T21:53:54.357579Z",
     "start_time": "2025-08-19T21:53:54.338975Z"
    }
   },
   "cell_type": "code",
   "source": [
    "# Setting new index\n",
    "df = pd.DataFrame({\n",
    "    'ID': [101, 102, 103],\n",
    "    'Name': ['Alice', 'Bob', 'Charlie'],\n",
    "    'Score': [85, 90, 95]\n",
    "})\n",
    "\n",
    "new_df = df.set_index('ID')\n",
    "print(new_df)"
   ],
   "id": "e8d43920379620a1",
   "outputs": [
    {
     "name": "stdout",
     "output_type": "stream",
     "text": [
      "        Name  Score\n",
      "ID                 \n",
      "101    Alice     85\n",
      "102      Bob     90\n",
      "103  Charlie     95\n"
     ]
    }
   ],
   "execution_count": 83
  },
  {
   "metadata": {},
   "cell_type": "code",
   "outputs": [],
   "execution_count": null,
   "source": "",
   "id": "357895708e8aa784"
  }
 ],
 "metadata": {
  "kernelspec": {
   "display_name": "Python 3",
   "language": "python",
   "name": "python3"
  },
  "language_info": {
   "codemirror_mode": {
    "name": "ipython",
    "version": 2
   },
   "file_extension": ".py",
   "mimetype": "text/x-python",
   "name": "python",
   "nbconvert_exporter": "python",
   "pygments_lexer": "ipython2",
   "version": "2.7.6"
  }
 },
 "nbformat": 4,
 "nbformat_minor": 5
}
