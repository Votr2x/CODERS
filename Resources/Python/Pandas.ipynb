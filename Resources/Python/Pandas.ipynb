{
 "cells": [
  {
   "metadata": {
    "ExecuteTime": {
     "end_time": "2025-08-25T13:58:08.145925Z",
     "start_time": "2025-08-25T13:58:06.703916Z"
    }
   },
   "cell_type": "code",
   "source": [
    "import numpy as np\n",
    "print(np.nan != np.nan)\n",
    "print(np.nan == np.nan)\n",
    "print(None != None)\n",
    "print(None == None)"
   ],
   "id": "cc55c3f8d78c267b",
   "outputs": [
    {
     "name": "stdout",
     "output_type": "stream",
     "text": [
      "True\n",
      "False\n",
      "False\n",
      "True\n"
     ]
    }
   ],
   "execution_count": 1
  },
  {
   "metadata": {
    "collapsed": true,
    "ExecuteTime": {
     "end_time": "2025-08-25T13:58:10.683777Z",
     "start_time": "2025-08-25T13:58:08.170150Z"
    }
   },
   "cell_type": "code",
   "source": "import pandas as pd",
   "id": "825a833fb54b9526",
   "outputs": [],
   "execution_count": 2
  },
  {
   "metadata": {
    "ExecuteTime": {
     "end_time": "2025-08-25T13:58:11.388255Z",
     "start_time": "2025-08-25T13:58:11.380241Z"
    }
   },
   "cell_type": "code",
   "source": [
    "# Getting variables of series in array format\n",
    "series = pd.Series([1, 2, 3])\n",
    "print(series.values)"
   ],
   "id": "c7f08d4d3705fcec",
   "outputs": [
    {
     "name": "stdout",
     "output_type": "stream",
     "text": [
      "[1 2 3]\n"
     ]
    }
   ],
   "execution_count": 3
  },
  {
   "metadata": {
    "ExecuteTime": {
     "end_time": "2025-08-25T13:58:11.495590Z",
     "start_time": "2025-08-25T13:58:11.491794Z"
    }
   },
   "cell_type": "code",
   "source": [
    "# To transport from array to list\n",
    "l = []\n",
    "l = series.values.tolist()\n",
    "print(l)"
   ],
   "id": "fca70288027fad5b",
   "outputs": [
    {
     "name": "stdout",
     "output_type": "stream",
     "text": [
      "[1, 2, 3]\n"
     ]
    }
   ],
   "execution_count": 4
  },
  {
   "metadata": {
    "ExecuteTime": {
     "end_time": "2025-08-25T13:58:11.553635Z",
     "start_time": "2025-08-25T13:58:11.542923Z"
    }
   },
   "cell_type": "code",
   "source": [
    "# Labeling the index pd.Series(data = [series], index = [labels])\n",
    "series = pd.Series(['a', 'b', 'c'], index = [1, 2, 3])\n",
    "print(series)\n",
    "# Or\n",
    "series.index = [11, 22, 33]\n",
    "print(series)"
   ],
   "id": "ae8482fe8eebdb84",
   "outputs": [
    {
     "name": "stdout",
     "output_type": "stream",
     "text": [
      "1    a\n",
      "2    b\n",
      "3    c\n",
      "dtype: object\n",
      "11    a\n",
      "22    b\n",
      "33    c\n",
      "dtype: object\n"
     ]
    }
   ],
   "execution_count": 5
  },
  {
   "metadata": {
    "ExecuteTime": {
     "end_time": "2025-08-25T13:58:11.589766Z",
     "start_time": "2025-08-25T13:58:11.583892Z"
    }
   },
   "cell_type": "code",
   "source": [
    "# Applying numpy functions to series\n",
    "import numpy as np\n",
    "series = pd.Series([1, 2, 3], index = ['a', 'b', 'c'])\n",
    "summ = np.sum(series)\n",
    "print(summ)\n",
    "print(np.log(series))"
   ],
   "id": "aabb6b3449c92681",
   "outputs": [
    {
     "name": "stdout",
     "output_type": "stream",
     "text": [
      "6\n",
      "a    0.000000\n",
      "b    0.693147\n",
      "c    1.098612\n",
      "dtype: float64\n"
     ]
    }
   ],
   "execution_count": 6
  },
  {
   "metadata": {
    "ExecuteTime": {
     "end_time": "2025-08-25T13:58:11.628634Z",
     "start_time": "2025-08-25T13:58:11.622994Z"
    }
   },
   "cell_type": "code",
   "source": [
    "# Series also can be formed by dictionary\n",
    "data = {'a': 1, 'b': 2, 'c': 3}\n",
    "series = pd.Series(data)\n",
    "print(series)\n",
    "# Or like\n",
    "a = [1, 2, 3]\n",
    "b = ['a', 'b', 'c']\n",
    "series = pd.Series(dict(zip(a, b)))\n",
    "print(series)"
   ],
   "id": "400685922f5d8395",
   "outputs": [
    {
     "name": "stdout",
     "output_type": "stream",
     "text": [
      "a    1\n",
      "b    2\n",
      "c    3\n",
      "dtype: int64\n",
      "1    a\n",
      "2    b\n",
      "3    c\n",
      "dtype: object\n"
     ]
    }
   ],
   "execution_count": 7
  },
  {
   "metadata": {
    "ExecuteTime": {
     "end_time": "2025-08-25T13:58:11.674780Z",
     "start_time": "2025-08-25T13:58:11.659313Z"
    }
   },
   "cell_type": "code",
   "source": [
    "# Replacing\n",
    "# inplace=True → edit the original\n",
    "# inplace=False → create a new one, leave original safe\n",
    "df = pd.DataFrame()\n",
    "df['First'] = [1, 2, np.nan, 4, np.nan]\n",
    "df.replace({np.nan: 3}, inplace = True)\n",
    "print(df)"
   ],
   "id": "d1a314d5ad9ff3c1",
   "outputs": [
    {
     "name": "stdout",
     "output_type": "stream",
     "text": [
      "   First\n",
      "0    1.0\n",
      "1    2.0\n",
      "2    3.0\n",
      "3    4.0\n",
      "4    3.0\n"
     ]
    }
   ],
   "execution_count": 8
  },
  {
   "metadata": {
    "ExecuteTime": {
     "end_time": "2025-08-25T13:58:11.708429Z",
     "start_time": "2025-08-25T13:58:11.694461Z"
    }
   },
   "cell_type": "code",
   "source": [
    "# Value count gives number of duplicating values\n",
    "df = pd.DataFrame()\n",
    "df['Orig'] = [1, 2, 2, 3, 4]\n",
    "print(df.value_counts())"
   ],
   "id": "4cced60eac5be60b",
   "outputs": [
    {
     "name": "stdout",
     "output_type": "stream",
     "text": [
      "Orig\n",
      "2       2\n",
      "1       1\n",
      "3       1\n",
      "4       1\n",
      "Name: count, dtype: int64\n"
     ]
    }
   ],
   "execution_count": 9
  },
  {
   "metadata": {
    "ExecuteTime": {
     "end_time": "2025-08-25T13:58:11.738578Z",
     "start_time": "2025-08-25T13:58:11.727920Z"
    }
   },
   "cell_type": "code",
   "source": [
    "# If data is big, .head(n) outputs first n rows, .tail(n) outputs last n rows(5 by default)\n",
    "df = pd.DataFrame()\n",
    "df['Orig'] = [1, 2, 3, 4, 5, 6, 7, 8, 9, 10]\n",
    "print(df.head())\n",
    "print('-----------')\n",
    "print(df.tail())"
   ],
   "id": "7ab772adc1d601fa",
   "outputs": [
    {
     "name": "stdout",
     "output_type": "stream",
     "text": [
      "   Orig\n",
      "0     1\n",
      "1     2\n",
      "2     3\n",
      "3     4\n",
      "4     5\n",
      "-----------\n",
      "   Orig\n",
      "5     6\n",
      "6     7\n",
      "7     8\n",
      "8     9\n",
      "9    10\n"
     ]
    }
   ],
   "execution_count": 10
  },
  {
   "metadata": {
    "ExecuteTime": {
     "end_time": "2025-08-25T13:58:11.772177Z",
     "start_time": "2025-08-25T13:58:11.763991Z"
    }
   },
   "cell_type": "code",
   "source": [
    "# Away to select ceratin types of values .select_dtypes(include = ['...'])\n",
    "df = pd.DataFrame({\n",
    "    'A': [1, 2, 3],           # int\n",
    "    'B': [1.1, 2.2, 3.3],     # float\n",
    "    'C': ['x', 'y', 'z']      # object (string)\n",
    "})\n",
    "\n",
    "numeric_df = df.select_dtypes(include = 'int')\n",
    "print(numeric_df)"
   ],
   "id": "d94230119ac38ee",
   "outputs": [
    {
     "name": "stdout",
     "output_type": "stream",
     "text": [
      "   A\n",
      "0  1\n",
      "1  2\n",
      "2  3\n"
     ]
    }
   ],
   "execution_count": 11
  },
  {
   "metadata": {
    "ExecuteTime": {
     "end_time": "2025-08-25T13:58:11.804387Z",
     "start_time": "2025-08-25T13:58:11.798444Z"
    }
   },
   "cell_type": "code",
   "source": [
    "# Common way to detect any missing datas(nan's) in dataframe\n",
    "print(df.isna().sum())"
   ],
   "id": "7e817acf9c518b5d",
   "outputs": [
    {
     "name": "stdout",
     "output_type": "stream",
     "text": [
      "A    0\n",
      "B    0\n",
      "C    0\n",
      "dtype: int64\n"
     ]
    }
   ],
   "execution_count": 12
  },
  {
   "metadata": {
    "ExecuteTime": {
     "end_time": "2025-08-25T13:58:11.844763Z",
     "start_time": "2025-08-25T13:58:11.839687Z"
    }
   },
   "cell_type": "code",
   "source": [
    "# Applying lambda function to series\n",
    "\n",
    "s = pd.Series([1, 2, 3, 4])\n",
    "print(s.apply(lambda x: x*2))"
   ],
   "id": "97267eeb0f1e7ac6",
   "outputs": [
    {
     "name": "stdout",
     "output_type": "stream",
     "text": [
      "0    2\n",
      "1    4\n",
      "2    6\n",
      "3    8\n",
      "dtype: int64\n"
     ]
    }
   ],
   "execution_count": 13
  },
  {
   "metadata": {
    "ExecuteTime": {
     "end_time": "2025-08-25T13:58:11.886406Z",
     "start_time": "2025-08-25T13:58:11.879649Z"
    }
   },
   "cell_type": "code",
   "source": [
    "# Columns of the dataframe\n",
    "df = pd.DataFrame({'first': [1, 2, 3], 'second': [4, 5, 6]})\n",
    "print(df.columns)"
   ],
   "id": "b09681859df40f28",
   "outputs": [
    {
     "name": "stdout",
     "output_type": "stream",
     "text": [
      "Index(['first', 'second'], dtype='object')\n"
     ]
    }
   ],
   "execution_count": 14
  },
  {
   "metadata": {
    "ExecuteTime": {
     "end_time": "2025-08-25T13:58:11.925726Z",
     "start_time": "2025-08-25T13:58:11.919231Z"
    }
   },
   "cell_type": "code",
   "source": [
    "# Renaming columm\n",
    "df.rename(columns = {'first': 'second', 'second': 'third'}, inplace = True)\n",
    "print(df)"
   ],
   "id": "d3d77c42b2551370",
   "outputs": [
    {
     "name": "stdout",
     "output_type": "stream",
     "text": [
      "   second  third\n",
      "0       1      4\n",
      "1       2      5\n",
      "2       3      6\n"
     ]
    }
   ],
   "execution_count": 15
  },
  {
   "metadata": {
    "ExecuteTime": {
     "end_time": "2025-08-25T13:58:11.957782Z",
     "start_time": "2025-08-25T13:58:11.952700Z"
    }
   },
   "cell_type": "code",
   "source": [
    "# iloc → integer-location based\n",
    "df = pd.DataFrame({\n",
    "    'A': [10, 20, 30],\n",
    "    'B': [40, 50, 60]\n",
    "})\n",
    "# Select first row\n",
    "print(df.iloc[0])"
   ],
   "id": "90b8dfbaa32f14db",
   "outputs": [
    {
     "name": "stdout",
     "output_type": "stream",
     "text": [
      "A    10\n",
      "B    40\n",
      "Name: 0, dtype: int64\n"
     ]
    }
   ],
   "execution_count": 16
  },
  {
   "metadata": {
    "ExecuteTime": {
     "end_time": "2025-08-25T13:58:11.993311Z",
     "start_time": "2025-08-25T13:58:11.987368Z"
    }
   },
   "cell_type": "code",
   "source": [
    "# loc → label-based\n",
    "df.index = ['x', 'y', 'z']\n",
    "print(df.loc['x'])"
   ],
   "id": "4e1bc2bf59956f2f",
   "outputs": [
    {
     "name": "stdout",
     "output_type": "stream",
     "text": [
      "A    10\n",
      "B    40\n",
      "Name: x, dtype: int64\n"
     ]
    }
   ],
   "execution_count": 17
  },
  {
   "metadata": {
    "ExecuteTime": {
     "end_time": "2025-08-25T13:58:12.025420Z",
     "start_time": "2025-08-25T13:58:12.020447Z"
    }
   },
   "cell_type": "code",
   "source": [
    "# Finding position of the column\n",
    "df = pd.DataFrame({\n",
    "    'A': [10, 20, 30],\n",
    "    'B': [40, 50, 60],\n",
    "    'C': [70, 80, 90]\n",
    "})\n",
    "\n",
    "# Find position of column 'B'\n",
    "pos = df.columns.get_loc('B')\n",
    "print(pos)"
   ],
   "id": "7e516909b7f7a950",
   "outputs": [
    {
     "name": "stdout",
     "output_type": "stream",
     "text": [
      "1\n"
     ]
    }
   ],
   "execution_count": 18
  },
  {
   "metadata": {
    "ExecuteTime": {
     "end_time": "2025-08-25T13:58:12.074948Z",
     "start_time": "2025-08-25T13:58:12.063481Z"
    }
   },
   "cell_type": "code",
   "source": [
    "# Dropping a row\n",
    "df = pd.DataFrame({\n",
    "    'A': [10, 20, 30],\n",
    "    'B': [40, 50, 60]\n",
    "}, index=['x','y','z'])\n",
    "\n",
    "new_df = df.drop('y', axis = 0)\n",
    "print(new_df)\n",
    "\n",
    "# Dropping column\n",
    "new_df = df.drop('A', axis = 1)\n",
    "print(new_df)"
   ],
   "id": "fee79d0bb9e6ff74",
   "outputs": [
    {
     "name": "stdout",
     "output_type": "stream",
     "text": [
      "    A   B\n",
      "x  10  40\n",
      "z  30  60\n",
      "    B\n",
      "x  40\n",
      "y  50\n",
      "z  60\n"
     ]
    }
   ],
   "execution_count": 19
  },
  {
   "metadata": {
    "ExecuteTime": {
     "end_time": "2025-08-25T13:58:12.110602Z",
     "start_time": "2025-08-25T13:58:12.102748Z"
    }
   },
   "cell_type": "code",
   "source": [
    "# del is only for deleting columns\n",
    "df = pd.DataFrame({\n",
    "    'A': [1,2,3],\n",
    "    'B': [4,5,6],\n",
    "    'C': [7,8,9]\n",
    "})\n",
    "\n",
    "del df['B']\n",
    "print(df)"
   ],
   "id": "23b48882ef0aa6ab",
   "outputs": [
    {
     "name": "stdout",
     "output_type": "stream",
     "text": [
      "   A  C\n",
      "0  1  7\n",
      "1  2  8\n",
      "2  3  9\n"
     ]
    }
   ],
   "execution_count": 20
  },
  {
   "metadata": {
    "ExecuteTime": {
     "end_time": "2025-08-25T13:58:12.152973Z",
     "start_time": "2025-08-25T13:58:12.143598Z"
    }
   },
   "cell_type": "code",
   "source": [
    "# Setting new index\n",
    "df = pd.DataFrame({\n",
    "    'ID': [101, 102, 103],\n",
    "    'Name': ['Alice', 'Bob', 'Charlie'],\n",
    "    'Score': [85, 90, 95]\n",
    "})\n",
    "\n",
    "new_df = df.set_index('ID')\n",
    "print(new_df)"
   ],
   "id": "e8d43920379620a1",
   "outputs": [
    {
     "name": "stdout",
     "output_type": "stream",
     "text": [
      "        Name  Score\n",
      "ID                 \n",
      "101    Alice     85\n",
      "102      Bob     90\n",
      "103  Charlie     95\n"
     ]
    }
   ],
   "execution_count": 21
  },
  {
   "metadata": {
    "ExecuteTime": {
     "end_time": "2025-08-25T13:58:12.262629Z",
     "start_time": "2025-08-25T13:58:12.245547Z"
    }
   },
   "cell_type": "code",
   "source": [
    "# And resetting\n",
    "df.reset_index()"
   ],
   "id": "357895708e8aa784",
   "outputs": [
    {
     "data": {
      "text/plain": [
       "   index   ID     Name  Score\n",
       "0      0  101    Alice     85\n",
       "1      1  102      Bob     90\n",
       "2      2  103  Charlie     95"
      ],
      "text/html": [
       "<div>\n",
       "<style scoped>\n",
       "    .dataframe tbody tr th:only-of-type {\n",
       "        vertical-align: middle;\n",
       "    }\n",
       "\n",
       "    .dataframe tbody tr th {\n",
       "        vertical-align: top;\n",
       "    }\n",
       "\n",
       "    .dataframe thead th {\n",
       "        text-align: right;\n",
       "    }\n",
       "</style>\n",
       "<table border=\"1\" class=\"dataframe\">\n",
       "  <thead>\n",
       "    <tr style=\"text-align: right;\">\n",
       "      <th></th>\n",
       "      <th>index</th>\n",
       "      <th>ID</th>\n",
       "      <th>Name</th>\n",
       "      <th>Score</th>\n",
       "    </tr>\n",
       "  </thead>\n",
       "  <tbody>\n",
       "    <tr>\n",
       "      <th>0</th>\n",
       "      <td>0</td>\n",
       "      <td>101</td>\n",
       "      <td>Alice</td>\n",
       "      <td>85</td>\n",
       "    </tr>\n",
       "    <tr>\n",
       "      <th>1</th>\n",
       "      <td>1</td>\n",
       "      <td>102</td>\n",
       "      <td>Bob</td>\n",
       "      <td>90</td>\n",
       "    </tr>\n",
       "    <tr>\n",
       "      <th>2</th>\n",
       "      <td>2</td>\n",
       "      <td>103</td>\n",
       "      <td>Charlie</td>\n",
       "      <td>95</td>\n",
       "    </tr>\n",
       "  </tbody>\n",
       "</table>\n",
       "</div>"
      ]
     },
     "execution_count": 22,
     "metadata": {},
     "output_type": "execute_result"
    }
   ],
   "execution_count": 22
  },
  {
   "metadata": {
    "ExecuteTime": {
     "end_time": "2025-08-25T13:58:12.337744Z",
     "start_time": "2025-08-25T13:58:12.327345Z"
    }
   },
   "cell_type": "code",
   "source": [
    "# Sorting by certain columns .sort_values(by = 'column name', ascending = True/False(descending))\n",
    "df = pd.DataFrame({\n",
    "    'ID': [103, 102, 101],\n",
    "    'Name': ['Alice', 'Bob', 'Charlie'],\n",
    "    'Score': [85, 90, 95]\n",
    "})\n",
    "print(df.sort_values(by = 'ID', ascending = True))"
   ],
   "id": "ddf05316c164673e",
   "outputs": [
    {
     "name": "stdout",
     "output_type": "stream",
     "text": [
      "    ID     Name  Score\n",
      "2  101  Charlie     95\n",
      "1  102      Bob     90\n",
      "0  103    Alice     85\n"
     ]
    }
   ],
   "execution_count": 23
  },
  {
   "metadata": {
    "ExecuteTime": {
     "end_time": "2025-08-25T13:58:12.453297Z",
     "start_time": "2025-08-25T13:58:12.443352Z"
    }
   },
   "cell_type": "code",
   "source": [
    "# Reindex to assign new values to indexes .reindex([index 1, index 2, .....], fill_value = value, columns = [column name 1, ...])\n",
    "df = pd.DataFrame({\n",
    "    'ID': [103, 102, 101],\n",
    "    'Name': ['Alice', 'Bob', 'Charlie'],\n",
    "    'Score': [85, 90, 95]\n",
    "})\n",
    "df = df.reindex([0, 1, 2, 3], fill_value = 'unknown', columns = ['ID', 'Name'])\n",
    "print(df)"
   ],
   "id": "733d87a47e9d1336",
   "outputs": [
    {
     "name": "stdout",
     "output_type": "stream",
     "text": [
      "        ID     Name\n",
      "0      103    Alice\n",
      "1      102      Bob\n",
      "2      101  Charlie\n",
      "3  unknown  unknown\n"
     ]
    }
   ],
   "execution_count": 24
  },
  {
   "metadata": {
    "ExecuteTime": {
     "end_time": "2025-08-25T13:58:12.632788Z",
     "start_time": "2025-08-25T13:58:12.619596Z"
    }
   },
   "cell_type": "code",
   "source": [
    "# Dropping duplicates from data\n",
    "# df.drop_duplicates(subset=None, keep='first', inplace=False)\n",
    "#subset → column(s) to check for duplicates (default: all columns)\n",
    "#keep → which duplicate to keep:\n",
    "#'first' → keep first occurrence\n",
    "#'last' → keep last occurrence\n",
    "#False → remove all duplicates\n",
    "#inplace → modify the original DataFrame (default: False)\n",
    "data = {\n",
    "    'ID': [101, 102, 102, 103, 103, 103],\n",
    "    'Name': ['Alice', 'Bob', 'Bob', 'Charlie', 'Charlie', 'Charlie'],\n",
    "    'Score': [85, 90, 90, 95, 95, 95]\n",
    "}\n",
    "\n",
    "df = pd.DataFrame(data)\n",
    "\n",
    "print(\"Before:\\n\", df)\n",
    "\n",
    "df_unique = df.drop_duplicates()\n",
    "print(\"\\nAfter drop_duplicates():\\n\", df_unique)\n"
   ],
   "id": "4e97da3e3bf35106",
   "outputs": [
    {
     "name": "stdout",
     "output_type": "stream",
     "text": [
      "Before:\n",
      "     ID     Name  Score\n",
      "0  101    Alice     85\n",
      "1  102      Bob     90\n",
      "2  102      Bob     90\n",
      "3  103  Charlie     95\n",
      "4  103  Charlie     95\n",
      "5  103  Charlie     95\n",
      "\n",
      "After drop_duplicates():\n",
      "     ID     Name  Score\n",
      "0  101    Alice     85\n",
      "1  102      Bob     90\n",
      "3  103  Charlie     95\n"
     ]
    }
   ],
   "execution_count": 25
  },
  {
   "metadata": {
    "ExecuteTime": {
     "end_time": "2025-08-25T13:58:12.721558Z",
     "start_time": "2025-08-25T13:58:12.714647Z"
    }
   },
   "cell_type": "code",
   "source": [
    "# Adding new rows\n",
    "df1 = pd.DataFrame({'ID':[101,102], 'Name':['Alice','Bob']})\n",
    "df2 = pd.DataFrame({'ID':[103], 'Name':['Charlie']})\n",
    "\n",
    "df_new = pd.concat([df1, df2], ignore_index=True)\n",
    "print(df_new)"
   ],
   "id": "9732eb2f419c7ca0",
   "outputs": [
    {
     "name": "stdout",
     "output_type": "stream",
     "text": [
      "    ID     Name\n",
      "0  101    Alice\n",
      "1  102      Bob\n",
      "2  103  Charlie\n"
     ]
    }
   ],
   "execution_count": 26
  },
  {
   "metadata": {
    "ExecuteTime": {
     "end_time": "2025-08-25T13:58:13.495464Z",
     "start_time": "2025-08-25T13:58:12.813493Z"
    }
   },
   "cell_type": "code",
   "source": [
    "# Data importing\n",
    "df = pd.read_csv('ncr_ride_bookings.csv')\n",
    "df.head()"
   ],
   "id": "57e0087e7c11a84c",
   "outputs": [
    {
     "data": {
      "text/plain": [
       "         Date      Time    Booking ID   Booking Status   Customer ID  \\\n",
       "0  2024-03-23  12:29:38  \"CNR5884300\"  No Driver Found  \"CID1982111\"   \n",
       "1  2024-11-29  18:01:39  \"CNR1326809\"       Incomplete  \"CID4604802\"   \n",
       "2  2024-08-23  08:56:10  \"CNR8494506\"        Completed  \"CID9202816\"   \n",
       "3  2024-10-21  17:17:25  \"CNR8906825\"        Completed  \"CID2610914\"   \n",
       "4  2024-09-16  22:08:00  \"CNR1950162\"        Completed  \"CID9933542\"   \n",
       "\n",
       "    Vehicle Type      Pickup Location      Drop Location  Avg VTAT  Avg CTAT  \\\n",
       "0          eBike          Palam Vihar            Jhilmil       NaN       NaN   \n",
       "1       Go Sedan        Shastri Nagar  Gurgaon Sector 56       4.9      14.0   \n",
       "2           Auto              Khandsa      Malviya Nagar      13.4      25.8   \n",
       "3  Premier Sedan  Central Secretariat           Inderlok      13.1      28.5   \n",
       "4           Bike     Ghitorni Village        Khan Market       5.3      19.6   \n",
       "\n",
       "   ...  Reason for cancelling by Customer Cancelled Rides by Driver  \\\n",
       "0  ...                                NaN                       NaN   \n",
       "1  ...                                NaN                       NaN   \n",
       "2  ...                                NaN                       NaN   \n",
       "3  ...                                NaN                       NaN   \n",
       "4  ...                                NaN                       NaN   \n",
       "\n",
       "   Driver Cancellation Reason Incomplete Rides  Incomplete Rides Reason  \\\n",
       "0                         NaN              NaN                      NaN   \n",
       "1                         NaN              1.0        Vehicle Breakdown   \n",
       "2                         NaN              NaN                      NaN   \n",
       "3                         NaN              NaN                      NaN   \n",
       "4                         NaN              NaN                      NaN   \n",
       "\n",
       "  Booking Value  Ride Distance  Driver Ratings  Customer Rating  \\\n",
       "0           NaN            NaN             NaN              NaN   \n",
       "1         237.0           5.73             NaN              NaN   \n",
       "2         627.0          13.58             4.9              4.9   \n",
       "3         416.0          34.02             4.6              5.0   \n",
       "4         737.0          48.21             4.1              4.3   \n",
       "\n",
       "   Payment Method  \n",
       "0             NaN  \n",
       "1             UPI  \n",
       "2      Debit Card  \n",
       "3             UPI  \n",
       "4             UPI  \n",
       "\n",
       "[5 rows x 21 columns]"
      ],
      "text/html": [
       "<div>\n",
       "<style scoped>\n",
       "    .dataframe tbody tr th:only-of-type {\n",
       "        vertical-align: middle;\n",
       "    }\n",
       "\n",
       "    .dataframe tbody tr th {\n",
       "        vertical-align: top;\n",
       "    }\n",
       "\n",
       "    .dataframe thead th {\n",
       "        text-align: right;\n",
       "    }\n",
       "</style>\n",
       "<table border=\"1\" class=\"dataframe\">\n",
       "  <thead>\n",
       "    <tr style=\"text-align: right;\">\n",
       "      <th></th>\n",
       "      <th>Date</th>\n",
       "      <th>Time</th>\n",
       "      <th>Booking ID</th>\n",
       "      <th>Booking Status</th>\n",
       "      <th>Customer ID</th>\n",
       "      <th>Vehicle Type</th>\n",
       "      <th>Pickup Location</th>\n",
       "      <th>Drop Location</th>\n",
       "      <th>Avg VTAT</th>\n",
       "      <th>Avg CTAT</th>\n",
       "      <th>...</th>\n",
       "      <th>Reason for cancelling by Customer</th>\n",
       "      <th>Cancelled Rides by Driver</th>\n",
       "      <th>Driver Cancellation Reason</th>\n",
       "      <th>Incomplete Rides</th>\n",
       "      <th>Incomplete Rides Reason</th>\n",
       "      <th>Booking Value</th>\n",
       "      <th>Ride Distance</th>\n",
       "      <th>Driver Ratings</th>\n",
       "      <th>Customer Rating</th>\n",
       "      <th>Payment Method</th>\n",
       "    </tr>\n",
       "  </thead>\n",
       "  <tbody>\n",
       "    <tr>\n",
       "      <th>0</th>\n",
       "      <td>2024-03-23</td>\n",
       "      <td>12:29:38</td>\n",
       "      <td>\"CNR5884300\"</td>\n",
       "      <td>No Driver Found</td>\n",
       "      <td>\"CID1982111\"</td>\n",
       "      <td>eBike</td>\n",
       "      <td>Palam Vihar</td>\n",
       "      <td>Jhilmil</td>\n",
       "      <td>NaN</td>\n",
       "      <td>NaN</td>\n",
       "      <td>...</td>\n",
       "      <td>NaN</td>\n",
       "      <td>NaN</td>\n",
       "      <td>NaN</td>\n",
       "      <td>NaN</td>\n",
       "      <td>NaN</td>\n",
       "      <td>NaN</td>\n",
       "      <td>NaN</td>\n",
       "      <td>NaN</td>\n",
       "      <td>NaN</td>\n",
       "      <td>NaN</td>\n",
       "    </tr>\n",
       "    <tr>\n",
       "      <th>1</th>\n",
       "      <td>2024-11-29</td>\n",
       "      <td>18:01:39</td>\n",
       "      <td>\"CNR1326809\"</td>\n",
       "      <td>Incomplete</td>\n",
       "      <td>\"CID4604802\"</td>\n",
       "      <td>Go Sedan</td>\n",
       "      <td>Shastri Nagar</td>\n",
       "      <td>Gurgaon Sector 56</td>\n",
       "      <td>4.9</td>\n",
       "      <td>14.0</td>\n",
       "      <td>...</td>\n",
       "      <td>NaN</td>\n",
       "      <td>NaN</td>\n",
       "      <td>NaN</td>\n",
       "      <td>1.0</td>\n",
       "      <td>Vehicle Breakdown</td>\n",
       "      <td>237.0</td>\n",
       "      <td>5.73</td>\n",
       "      <td>NaN</td>\n",
       "      <td>NaN</td>\n",
       "      <td>UPI</td>\n",
       "    </tr>\n",
       "    <tr>\n",
       "      <th>2</th>\n",
       "      <td>2024-08-23</td>\n",
       "      <td>08:56:10</td>\n",
       "      <td>\"CNR8494506\"</td>\n",
       "      <td>Completed</td>\n",
       "      <td>\"CID9202816\"</td>\n",
       "      <td>Auto</td>\n",
       "      <td>Khandsa</td>\n",
       "      <td>Malviya Nagar</td>\n",
       "      <td>13.4</td>\n",
       "      <td>25.8</td>\n",
       "      <td>...</td>\n",
       "      <td>NaN</td>\n",
       "      <td>NaN</td>\n",
       "      <td>NaN</td>\n",
       "      <td>NaN</td>\n",
       "      <td>NaN</td>\n",
       "      <td>627.0</td>\n",
       "      <td>13.58</td>\n",
       "      <td>4.9</td>\n",
       "      <td>4.9</td>\n",
       "      <td>Debit Card</td>\n",
       "    </tr>\n",
       "    <tr>\n",
       "      <th>3</th>\n",
       "      <td>2024-10-21</td>\n",
       "      <td>17:17:25</td>\n",
       "      <td>\"CNR8906825\"</td>\n",
       "      <td>Completed</td>\n",
       "      <td>\"CID2610914\"</td>\n",
       "      <td>Premier Sedan</td>\n",
       "      <td>Central Secretariat</td>\n",
       "      <td>Inderlok</td>\n",
       "      <td>13.1</td>\n",
       "      <td>28.5</td>\n",
       "      <td>...</td>\n",
       "      <td>NaN</td>\n",
       "      <td>NaN</td>\n",
       "      <td>NaN</td>\n",
       "      <td>NaN</td>\n",
       "      <td>NaN</td>\n",
       "      <td>416.0</td>\n",
       "      <td>34.02</td>\n",
       "      <td>4.6</td>\n",
       "      <td>5.0</td>\n",
       "      <td>UPI</td>\n",
       "    </tr>\n",
       "    <tr>\n",
       "      <th>4</th>\n",
       "      <td>2024-09-16</td>\n",
       "      <td>22:08:00</td>\n",
       "      <td>\"CNR1950162\"</td>\n",
       "      <td>Completed</td>\n",
       "      <td>\"CID9933542\"</td>\n",
       "      <td>Bike</td>\n",
       "      <td>Ghitorni Village</td>\n",
       "      <td>Khan Market</td>\n",
       "      <td>5.3</td>\n",
       "      <td>19.6</td>\n",
       "      <td>...</td>\n",
       "      <td>NaN</td>\n",
       "      <td>NaN</td>\n",
       "      <td>NaN</td>\n",
       "      <td>NaN</td>\n",
       "      <td>NaN</td>\n",
       "      <td>737.0</td>\n",
       "      <td>48.21</td>\n",
       "      <td>4.1</td>\n",
       "      <td>4.3</td>\n",
       "      <td>UPI</td>\n",
       "    </tr>\n",
       "  </tbody>\n",
       "</table>\n",
       "<p>5 rows × 21 columns</p>\n",
       "</div>"
      ]
     },
     "execution_count": 27,
     "metadata": {},
     "output_type": "execute_result"
    }
   ],
   "execution_count": 27
  },
  {
   "metadata": {
    "ExecuteTime": {
     "end_time": "2025-08-25T13:58:14.201917Z",
     "start_time": "2025-08-25T13:58:13.560277Z"
    }
   },
   "cell_type": "code",
   "source": [
    "# Sep is modifying separator in case in csv data is separated by another indexes\n",
    "df_sep = pd.read_csv('ncr_ride_bookings.csv', sep = ',')\n",
    "df_sep.head()"
   ],
   "id": "d23cf14e57a24c03",
   "outputs": [
    {
     "data": {
      "text/plain": [
       "         Date      Time    Booking ID   Booking Status   Customer ID  \\\n",
       "0  2024-03-23  12:29:38  \"CNR5884300\"  No Driver Found  \"CID1982111\"   \n",
       "1  2024-11-29  18:01:39  \"CNR1326809\"       Incomplete  \"CID4604802\"   \n",
       "2  2024-08-23  08:56:10  \"CNR8494506\"        Completed  \"CID9202816\"   \n",
       "3  2024-10-21  17:17:25  \"CNR8906825\"        Completed  \"CID2610914\"   \n",
       "4  2024-09-16  22:08:00  \"CNR1950162\"        Completed  \"CID9933542\"   \n",
       "\n",
       "    Vehicle Type      Pickup Location      Drop Location  Avg VTAT  Avg CTAT  \\\n",
       "0          eBike          Palam Vihar            Jhilmil       NaN       NaN   \n",
       "1       Go Sedan        Shastri Nagar  Gurgaon Sector 56       4.9      14.0   \n",
       "2           Auto              Khandsa      Malviya Nagar      13.4      25.8   \n",
       "3  Premier Sedan  Central Secretariat           Inderlok      13.1      28.5   \n",
       "4           Bike     Ghitorni Village        Khan Market       5.3      19.6   \n",
       "\n",
       "   ...  Reason for cancelling by Customer Cancelled Rides by Driver  \\\n",
       "0  ...                                NaN                       NaN   \n",
       "1  ...                                NaN                       NaN   \n",
       "2  ...                                NaN                       NaN   \n",
       "3  ...                                NaN                       NaN   \n",
       "4  ...                                NaN                       NaN   \n",
       "\n",
       "   Driver Cancellation Reason Incomplete Rides  Incomplete Rides Reason  \\\n",
       "0                         NaN              NaN                      NaN   \n",
       "1                         NaN              1.0        Vehicle Breakdown   \n",
       "2                         NaN              NaN                      NaN   \n",
       "3                         NaN              NaN                      NaN   \n",
       "4                         NaN              NaN                      NaN   \n",
       "\n",
       "  Booking Value  Ride Distance  Driver Ratings  Customer Rating  \\\n",
       "0           NaN            NaN             NaN              NaN   \n",
       "1         237.0           5.73             NaN              NaN   \n",
       "2         627.0          13.58             4.9              4.9   \n",
       "3         416.0          34.02             4.6              5.0   \n",
       "4         737.0          48.21             4.1              4.3   \n",
       "\n",
       "   Payment Method  \n",
       "0             NaN  \n",
       "1             UPI  \n",
       "2      Debit Card  \n",
       "3             UPI  \n",
       "4             UPI  \n",
       "\n",
       "[5 rows x 21 columns]"
      ],
      "text/html": [
       "<div>\n",
       "<style scoped>\n",
       "    .dataframe tbody tr th:only-of-type {\n",
       "        vertical-align: middle;\n",
       "    }\n",
       "\n",
       "    .dataframe tbody tr th {\n",
       "        vertical-align: top;\n",
       "    }\n",
       "\n",
       "    .dataframe thead th {\n",
       "        text-align: right;\n",
       "    }\n",
       "</style>\n",
       "<table border=\"1\" class=\"dataframe\">\n",
       "  <thead>\n",
       "    <tr style=\"text-align: right;\">\n",
       "      <th></th>\n",
       "      <th>Date</th>\n",
       "      <th>Time</th>\n",
       "      <th>Booking ID</th>\n",
       "      <th>Booking Status</th>\n",
       "      <th>Customer ID</th>\n",
       "      <th>Vehicle Type</th>\n",
       "      <th>Pickup Location</th>\n",
       "      <th>Drop Location</th>\n",
       "      <th>Avg VTAT</th>\n",
       "      <th>Avg CTAT</th>\n",
       "      <th>...</th>\n",
       "      <th>Reason for cancelling by Customer</th>\n",
       "      <th>Cancelled Rides by Driver</th>\n",
       "      <th>Driver Cancellation Reason</th>\n",
       "      <th>Incomplete Rides</th>\n",
       "      <th>Incomplete Rides Reason</th>\n",
       "      <th>Booking Value</th>\n",
       "      <th>Ride Distance</th>\n",
       "      <th>Driver Ratings</th>\n",
       "      <th>Customer Rating</th>\n",
       "      <th>Payment Method</th>\n",
       "    </tr>\n",
       "  </thead>\n",
       "  <tbody>\n",
       "    <tr>\n",
       "      <th>0</th>\n",
       "      <td>2024-03-23</td>\n",
       "      <td>12:29:38</td>\n",
       "      <td>\"CNR5884300\"</td>\n",
       "      <td>No Driver Found</td>\n",
       "      <td>\"CID1982111\"</td>\n",
       "      <td>eBike</td>\n",
       "      <td>Palam Vihar</td>\n",
       "      <td>Jhilmil</td>\n",
       "      <td>NaN</td>\n",
       "      <td>NaN</td>\n",
       "      <td>...</td>\n",
       "      <td>NaN</td>\n",
       "      <td>NaN</td>\n",
       "      <td>NaN</td>\n",
       "      <td>NaN</td>\n",
       "      <td>NaN</td>\n",
       "      <td>NaN</td>\n",
       "      <td>NaN</td>\n",
       "      <td>NaN</td>\n",
       "      <td>NaN</td>\n",
       "      <td>NaN</td>\n",
       "    </tr>\n",
       "    <tr>\n",
       "      <th>1</th>\n",
       "      <td>2024-11-29</td>\n",
       "      <td>18:01:39</td>\n",
       "      <td>\"CNR1326809\"</td>\n",
       "      <td>Incomplete</td>\n",
       "      <td>\"CID4604802\"</td>\n",
       "      <td>Go Sedan</td>\n",
       "      <td>Shastri Nagar</td>\n",
       "      <td>Gurgaon Sector 56</td>\n",
       "      <td>4.9</td>\n",
       "      <td>14.0</td>\n",
       "      <td>...</td>\n",
       "      <td>NaN</td>\n",
       "      <td>NaN</td>\n",
       "      <td>NaN</td>\n",
       "      <td>1.0</td>\n",
       "      <td>Vehicle Breakdown</td>\n",
       "      <td>237.0</td>\n",
       "      <td>5.73</td>\n",
       "      <td>NaN</td>\n",
       "      <td>NaN</td>\n",
       "      <td>UPI</td>\n",
       "    </tr>\n",
       "    <tr>\n",
       "      <th>2</th>\n",
       "      <td>2024-08-23</td>\n",
       "      <td>08:56:10</td>\n",
       "      <td>\"CNR8494506\"</td>\n",
       "      <td>Completed</td>\n",
       "      <td>\"CID9202816\"</td>\n",
       "      <td>Auto</td>\n",
       "      <td>Khandsa</td>\n",
       "      <td>Malviya Nagar</td>\n",
       "      <td>13.4</td>\n",
       "      <td>25.8</td>\n",
       "      <td>...</td>\n",
       "      <td>NaN</td>\n",
       "      <td>NaN</td>\n",
       "      <td>NaN</td>\n",
       "      <td>NaN</td>\n",
       "      <td>NaN</td>\n",
       "      <td>627.0</td>\n",
       "      <td>13.58</td>\n",
       "      <td>4.9</td>\n",
       "      <td>4.9</td>\n",
       "      <td>Debit Card</td>\n",
       "    </tr>\n",
       "    <tr>\n",
       "      <th>3</th>\n",
       "      <td>2024-10-21</td>\n",
       "      <td>17:17:25</td>\n",
       "      <td>\"CNR8906825\"</td>\n",
       "      <td>Completed</td>\n",
       "      <td>\"CID2610914\"</td>\n",
       "      <td>Premier Sedan</td>\n",
       "      <td>Central Secretariat</td>\n",
       "      <td>Inderlok</td>\n",
       "      <td>13.1</td>\n",
       "      <td>28.5</td>\n",
       "      <td>...</td>\n",
       "      <td>NaN</td>\n",
       "      <td>NaN</td>\n",
       "      <td>NaN</td>\n",
       "      <td>NaN</td>\n",
       "      <td>NaN</td>\n",
       "      <td>416.0</td>\n",
       "      <td>34.02</td>\n",
       "      <td>4.6</td>\n",
       "      <td>5.0</td>\n",
       "      <td>UPI</td>\n",
       "    </tr>\n",
       "    <tr>\n",
       "      <th>4</th>\n",
       "      <td>2024-09-16</td>\n",
       "      <td>22:08:00</td>\n",
       "      <td>\"CNR1950162\"</td>\n",
       "      <td>Completed</td>\n",
       "      <td>\"CID9933542\"</td>\n",
       "      <td>Bike</td>\n",
       "      <td>Ghitorni Village</td>\n",
       "      <td>Khan Market</td>\n",
       "      <td>5.3</td>\n",
       "      <td>19.6</td>\n",
       "      <td>...</td>\n",
       "      <td>NaN</td>\n",
       "      <td>NaN</td>\n",
       "      <td>NaN</td>\n",
       "      <td>NaN</td>\n",
       "      <td>NaN</td>\n",
       "      <td>737.0</td>\n",
       "      <td>48.21</td>\n",
       "      <td>4.1</td>\n",
       "      <td>4.3</td>\n",
       "      <td>UPI</td>\n",
       "    </tr>\n",
       "  </tbody>\n",
       "</table>\n",
       "<p>5 rows × 21 columns</p>\n",
       "</div>"
      ]
     },
     "execution_count": 28,
     "metadata": {},
     "output_type": "execute_result"
    }
   ],
   "execution_count": 28
  },
  {
   "metadata": {
    "ExecuteTime": {
     "end_time": "2025-08-25T13:58:15.222794Z",
     "start_time": "2025-08-25T13:58:14.530876Z"
    }
   },
   "cell_type": "code",
   "source": [
    "# To skip rows skiprows = number of rows from head, skiprows = [specific rows], skiprows = lambda x: condition\n",
    "df_skiprows = pd.read_csv('ncr_ride_bookings.csv', skiprows = 3)\n",
    "df_skiprows.head()"
   ],
   "id": "63bf0e7560936220",
   "outputs": [
    {
     "data": {
      "text/plain": [
       "   2024-08-23  08:56:10  \"CNR8494506\"  Completed  \"CID9202816\"           Auto  \\\n",
       "0  2024-10-21  17:17:25  \"CNR8906825\"  Completed  \"CID2610914\"  Premier Sedan   \n",
       "1  2024-09-16  22:08:00  \"CNR1950162\"  Completed  \"CID9933542\"           Bike   \n",
       "2  2024-02-06  09:44:56  \"CNR4096693\"  Completed  \"CID4670564\"           Auto   \n",
       "3  2024-06-17  15:45:58  \"CNR2002539\"  Completed  \"CID6800553\"        Go Mini   \n",
       "4  2024-03-19  17:37:37  \"CNR6568000\"  Completed  \"CID8610436\"           Auto   \n",
       "\n",
       "               Khandsa Malviya Nagar  13.4  25.8  ...  null.1 null.2  null.3  \\\n",
       "0  Central Secretariat      Inderlok  13.1  28.5  ...     NaN    NaN     NaN   \n",
       "1     Ghitorni Village   Khan Market   5.3  19.6  ...     NaN    NaN     NaN   \n",
       "2                AIIMS   Narsinghpur   5.1  18.1  ...     NaN    NaN     NaN   \n",
       "3             Vaishali  Punjabi Bagh   7.1  20.4  ...     NaN    NaN     NaN   \n",
       "4          Mayur Vihar     Cyber Hub  12.1  16.5  ...     NaN    NaN     NaN   \n",
       "\n",
       "  null.4  null.5    627  13.58  4.9  4.9.1  Debit Card  \n",
       "0    NaN     NaN  416.0  34.02  4.6    5.0         UPI  \n",
       "1    NaN     NaN  737.0  48.21  4.1    4.3         UPI  \n",
       "2    NaN     NaN  316.0   4.85  4.1    4.6         UPI  \n",
       "3    NaN     NaN  640.0  41.24  4.0    4.1         UPI  \n",
       "4    NaN     NaN  136.0   6.56  4.4    4.2         UPI  \n",
       "\n",
       "[5 rows x 21 columns]"
      ],
      "text/html": [
       "<div>\n",
       "<style scoped>\n",
       "    .dataframe tbody tr th:only-of-type {\n",
       "        vertical-align: middle;\n",
       "    }\n",
       "\n",
       "    .dataframe tbody tr th {\n",
       "        vertical-align: top;\n",
       "    }\n",
       "\n",
       "    .dataframe thead th {\n",
       "        text-align: right;\n",
       "    }\n",
       "</style>\n",
       "<table border=\"1\" class=\"dataframe\">\n",
       "  <thead>\n",
       "    <tr style=\"text-align: right;\">\n",
       "      <th></th>\n",
       "      <th>2024-08-23</th>\n",
       "      <th>08:56:10</th>\n",
       "      <th>\"CNR8494506\"</th>\n",
       "      <th>Completed</th>\n",
       "      <th>\"CID9202816\"</th>\n",
       "      <th>Auto</th>\n",
       "      <th>Khandsa</th>\n",
       "      <th>Malviya Nagar</th>\n",
       "      <th>13.4</th>\n",
       "      <th>25.8</th>\n",
       "      <th>...</th>\n",
       "      <th>null.1</th>\n",
       "      <th>null.2</th>\n",
       "      <th>null.3</th>\n",
       "      <th>null.4</th>\n",
       "      <th>null.5</th>\n",
       "      <th>627</th>\n",
       "      <th>13.58</th>\n",
       "      <th>4.9</th>\n",
       "      <th>4.9.1</th>\n",
       "      <th>Debit Card</th>\n",
       "    </tr>\n",
       "  </thead>\n",
       "  <tbody>\n",
       "    <tr>\n",
       "      <th>0</th>\n",
       "      <td>2024-10-21</td>\n",
       "      <td>17:17:25</td>\n",
       "      <td>\"CNR8906825\"</td>\n",
       "      <td>Completed</td>\n",
       "      <td>\"CID2610914\"</td>\n",
       "      <td>Premier Sedan</td>\n",
       "      <td>Central Secretariat</td>\n",
       "      <td>Inderlok</td>\n",
       "      <td>13.1</td>\n",
       "      <td>28.5</td>\n",
       "      <td>...</td>\n",
       "      <td>NaN</td>\n",
       "      <td>NaN</td>\n",
       "      <td>NaN</td>\n",
       "      <td>NaN</td>\n",
       "      <td>NaN</td>\n",
       "      <td>416.0</td>\n",
       "      <td>34.02</td>\n",
       "      <td>4.6</td>\n",
       "      <td>5.0</td>\n",
       "      <td>UPI</td>\n",
       "    </tr>\n",
       "    <tr>\n",
       "      <th>1</th>\n",
       "      <td>2024-09-16</td>\n",
       "      <td>22:08:00</td>\n",
       "      <td>\"CNR1950162\"</td>\n",
       "      <td>Completed</td>\n",
       "      <td>\"CID9933542\"</td>\n",
       "      <td>Bike</td>\n",
       "      <td>Ghitorni Village</td>\n",
       "      <td>Khan Market</td>\n",
       "      <td>5.3</td>\n",
       "      <td>19.6</td>\n",
       "      <td>...</td>\n",
       "      <td>NaN</td>\n",
       "      <td>NaN</td>\n",
       "      <td>NaN</td>\n",
       "      <td>NaN</td>\n",
       "      <td>NaN</td>\n",
       "      <td>737.0</td>\n",
       "      <td>48.21</td>\n",
       "      <td>4.1</td>\n",
       "      <td>4.3</td>\n",
       "      <td>UPI</td>\n",
       "    </tr>\n",
       "    <tr>\n",
       "      <th>2</th>\n",
       "      <td>2024-02-06</td>\n",
       "      <td>09:44:56</td>\n",
       "      <td>\"CNR4096693\"</td>\n",
       "      <td>Completed</td>\n",
       "      <td>\"CID4670564\"</td>\n",
       "      <td>Auto</td>\n",
       "      <td>AIIMS</td>\n",
       "      <td>Narsinghpur</td>\n",
       "      <td>5.1</td>\n",
       "      <td>18.1</td>\n",
       "      <td>...</td>\n",
       "      <td>NaN</td>\n",
       "      <td>NaN</td>\n",
       "      <td>NaN</td>\n",
       "      <td>NaN</td>\n",
       "      <td>NaN</td>\n",
       "      <td>316.0</td>\n",
       "      <td>4.85</td>\n",
       "      <td>4.1</td>\n",
       "      <td>4.6</td>\n",
       "      <td>UPI</td>\n",
       "    </tr>\n",
       "    <tr>\n",
       "      <th>3</th>\n",
       "      <td>2024-06-17</td>\n",
       "      <td>15:45:58</td>\n",
       "      <td>\"CNR2002539\"</td>\n",
       "      <td>Completed</td>\n",
       "      <td>\"CID6800553\"</td>\n",
       "      <td>Go Mini</td>\n",
       "      <td>Vaishali</td>\n",
       "      <td>Punjabi Bagh</td>\n",
       "      <td>7.1</td>\n",
       "      <td>20.4</td>\n",
       "      <td>...</td>\n",
       "      <td>NaN</td>\n",
       "      <td>NaN</td>\n",
       "      <td>NaN</td>\n",
       "      <td>NaN</td>\n",
       "      <td>NaN</td>\n",
       "      <td>640.0</td>\n",
       "      <td>41.24</td>\n",
       "      <td>4.0</td>\n",
       "      <td>4.1</td>\n",
       "      <td>UPI</td>\n",
       "    </tr>\n",
       "    <tr>\n",
       "      <th>4</th>\n",
       "      <td>2024-03-19</td>\n",
       "      <td>17:37:37</td>\n",
       "      <td>\"CNR6568000\"</td>\n",
       "      <td>Completed</td>\n",
       "      <td>\"CID8610436\"</td>\n",
       "      <td>Auto</td>\n",
       "      <td>Mayur Vihar</td>\n",
       "      <td>Cyber Hub</td>\n",
       "      <td>12.1</td>\n",
       "      <td>16.5</td>\n",
       "      <td>...</td>\n",
       "      <td>NaN</td>\n",
       "      <td>NaN</td>\n",
       "      <td>NaN</td>\n",
       "      <td>NaN</td>\n",
       "      <td>NaN</td>\n",
       "      <td>136.0</td>\n",
       "      <td>6.56</td>\n",
       "      <td>4.4</td>\n",
       "      <td>4.2</td>\n",
       "      <td>UPI</td>\n",
       "    </tr>\n",
       "  </tbody>\n",
       "</table>\n",
       "<p>5 rows × 21 columns</p>\n",
       "</div>"
      ]
     },
     "execution_count": 29,
     "metadata": {},
     "output_type": "execute_result"
    }
   ],
   "execution_count": 29
  },
  {
   "metadata": {
    "ExecuteTime": {
     "end_time": "2025-08-25T13:58:15.301988Z",
     "start_time": "2025-08-25T13:58:15.279479Z"
    }
   },
   "cell_type": "code",
   "source": [
    "# Nrows works like .head()\n",
    "df_nrows = pd.read_csv('ncr_ride_bookings.csv', nrows = 3)\n",
    "df_nrows.head()"
   ],
   "id": "2db2d5e9c0955a2c",
   "outputs": [
    {
     "data": {
      "text/plain": [
       "         Date      Time    Booking ID   Booking Status   Customer ID  \\\n",
       "0  2024-03-23  12:29:38  \"CNR5884300\"  No Driver Found  \"CID1982111\"   \n",
       "1  2024-11-29  18:01:39  \"CNR1326809\"       Incomplete  \"CID4604802\"   \n",
       "2  2024-08-23  08:56:10  \"CNR8494506\"        Completed  \"CID9202816\"   \n",
       "\n",
       "  Vehicle Type Pickup Location      Drop Location  Avg VTAT  Avg CTAT  ...  \\\n",
       "0        eBike     Palam Vihar            Jhilmil       NaN       NaN  ...   \n",
       "1     Go Sedan   Shastri Nagar  Gurgaon Sector 56       4.9      14.0  ...   \n",
       "2         Auto         Khandsa      Malviya Nagar      13.4      25.8  ...   \n",
       "\n",
       "   Reason for cancelling by Customer  Cancelled Rides by Driver  \\\n",
       "0                                NaN                        NaN   \n",
       "1                                NaN                        NaN   \n",
       "2                                NaN                        NaN   \n",
       "\n",
       "   Driver Cancellation Reason  Incomplete Rides  Incomplete Rides Reason  \\\n",
       "0                         NaN               NaN                      NaN   \n",
       "1                         NaN               1.0        Vehicle Breakdown   \n",
       "2                         NaN               NaN                      NaN   \n",
       "\n",
       "  Booking Value  Ride Distance  Driver Ratings  Customer Rating  \\\n",
       "0           NaN            NaN             NaN              NaN   \n",
       "1         237.0           5.73             NaN              NaN   \n",
       "2         627.0          13.58             4.9              4.9   \n",
       "\n",
       "   Payment Method  \n",
       "0             NaN  \n",
       "1             UPI  \n",
       "2      Debit Card  \n",
       "\n",
       "[3 rows x 21 columns]"
      ],
      "text/html": [
       "<div>\n",
       "<style scoped>\n",
       "    .dataframe tbody tr th:only-of-type {\n",
       "        vertical-align: middle;\n",
       "    }\n",
       "\n",
       "    .dataframe tbody tr th {\n",
       "        vertical-align: top;\n",
       "    }\n",
       "\n",
       "    .dataframe thead th {\n",
       "        text-align: right;\n",
       "    }\n",
       "</style>\n",
       "<table border=\"1\" class=\"dataframe\">\n",
       "  <thead>\n",
       "    <tr style=\"text-align: right;\">\n",
       "      <th></th>\n",
       "      <th>Date</th>\n",
       "      <th>Time</th>\n",
       "      <th>Booking ID</th>\n",
       "      <th>Booking Status</th>\n",
       "      <th>Customer ID</th>\n",
       "      <th>Vehicle Type</th>\n",
       "      <th>Pickup Location</th>\n",
       "      <th>Drop Location</th>\n",
       "      <th>Avg VTAT</th>\n",
       "      <th>Avg CTAT</th>\n",
       "      <th>...</th>\n",
       "      <th>Reason for cancelling by Customer</th>\n",
       "      <th>Cancelled Rides by Driver</th>\n",
       "      <th>Driver Cancellation Reason</th>\n",
       "      <th>Incomplete Rides</th>\n",
       "      <th>Incomplete Rides Reason</th>\n",
       "      <th>Booking Value</th>\n",
       "      <th>Ride Distance</th>\n",
       "      <th>Driver Ratings</th>\n",
       "      <th>Customer Rating</th>\n",
       "      <th>Payment Method</th>\n",
       "    </tr>\n",
       "  </thead>\n",
       "  <tbody>\n",
       "    <tr>\n",
       "      <th>0</th>\n",
       "      <td>2024-03-23</td>\n",
       "      <td>12:29:38</td>\n",
       "      <td>\"CNR5884300\"</td>\n",
       "      <td>No Driver Found</td>\n",
       "      <td>\"CID1982111\"</td>\n",
       "      <td>eBike</td>\n",
       "      <td>Palam Vihar</td>\n",
       "      <td>Jhilmil</td>\n",
       "      <td>NaN</td>\n",
       "      <td>NaN</td>\n",
       "      <td>...</td>\n",
       "      <td>NaN</td>\n",
       "      <td>NaN</td>\n",
       "      <td>NaN</td>\n",
       "      <td>NaN</td>\n",
       "      <td>NaN</td>\n",
       "      <td>NaN</td>\n",
       "      <td>NaN</td>\n",
       "      <td>NaN</td>\n",
       "      <td>NaN</td>\n",
       "      <td>NaN</td>\n",
       "    </tr>\n",
       "    <tr>\n",
       "      <th>1</th>\n",
       "      <td>2024-11-29</td>\n",
       "      <td>18:01:39</td>\n",
       "      <td>\"CNR1326809\"</td>\n",
       "      <td>Incomplete</td>\n",
       "      <td>\"CID4604802\"</td>\n",
       "      <td>Go Sedan</td>\n",
       "      <td>Shastri Nagar</td>\n",
       "      <td>Gurgaon Sector 56</td>\n",
       "      <td>4.9</td>\n",
       "      <td>14.0</td>\n",
       "      <td>...</td>\n",
       "      <td>NaN</td>\n",
       "      <td>NaN</td>\n",
       "      <td>NaN</td>\n",
       "      <td>1.0</td>\n",
       "      <td>Vehicle Breakdown</td>\n",
       "      <td>237.0</td>\n",
       "      <td>5.73</td>\n",
       "      <td>NaN</td>\n",
       "      <td>NaN</td>\n",
       "      <td>UPI</td>\n",
       "    </tr>\n",
       "    <tr>\n",
       "      <th>2</th>\n",
       "      <td>2024-08-23</td>\n",
       "      <td>08:56:10</td>\n",
       "      <td>\"CNR8494506\"</td>\n",
       "      <td>Completed</td>\n",
       "      <td>\"CID9202816\"</td>\n",
       "      <td>Auto</td>\n",
       "      <td>Khandsa</td>\n",
       "      <td>Malviya Nagar</td>\n",
       "      <td>13.4</td>\n",
       "      <td>25.8</td>\n",
       "      <td>...</td>\n",
       "      <td>NaN</td>\n",
       "      <td>NaN</td>\n",
       "      <td>NaN</td>\n",
       "      <td>NaN</td>\n",
       "      <td>NaN</td>\n",
       "      <td>627.0</td>\n",
       "      <td>13.58</td>\n",
       "      <td>4.9</td>\n",
       "      <td>4.9</td>\n",
       "      <td>Debit Card</td>\n",
       "    </tr>\n",
       "  </tbody>\n",
       "</table>\n",
       "<p>3 rows × 21 columns</p>\n",
       "</div>"
      ]
     },
     "execution_count": 30,
     "metadata": {},
     "output_type": "execute_result"
    }
   ],
   "execution_count": 30
  },
  {
   "metadata": {
    "ExecuteTime": {
     "end_time": "2025-08-25T13:58:16.292045Z",
     "start_time": "2025-08-25T13:58:15.595046Z"
    }
   },
   "cell_type": "code",
   "source": [
    "# Changing index of the data\n",
    "df_index = pd.read_csv('ncr_ride_bookings.csv', index_col = 'Date')\n",
    "df_index.head()"
   ],
   "id": "ed8b96e37389697c",
   "outputs": [
    {
     "data": {
      "text/plain": [
       "                Time    Booking ID   Booking Status   Customer ID  \\\n",
       "Date                                                                \n",
       "2024-03-23  12:29:38  \"CNR5884300\"  No Driver Found  \"CID1982111\"   \n",
       "2024-11-29  18:01:39  \"CNR1326809\"       Incomplete  \"CID4604802\"   \n",
       "2024-08-23  08:56:10  \"CNR8494506\"        Completed  \"CID9202816\"   \n",
       "2024-10-21  17:17:25  \"CNR8906825\"        Completed  \"CID2610914\"   \n",
       "2024-09-16  22:08:00  \"CNR1950162\"        Completed  \"CID9933542\"   \n",
       "\n",
       "             Vehicle Type      Pickup Location      Drop Location  Avg VTAT  \\\n",
       "Date                                                                          \n",
       "2024-03-23          eBike          Palam Vihar            Jhilmil       NaN   \n",
       "2024-11-29       Go Sedan        Shastri Nagar  Gurgaon Sector 56       4.9   \n",
       "2024-08-23           Auto              Khandsa      Malviya Nagar      13.4   \n",
       "2024-10-21  Premier Sedan  Central Secretariat           Inderlok      13.1   \n",
       "2024-09-16           Bike     Ghitorni Village        Khan Market       5.3   \n",
       "\n",
       "            Avg CTAT  Cancelled Rides by Customer  \\\n",
       "Date                                                \n",
       "2024-03-23       NaN                          NaN   \n",
       "2024-11-29      14.0                          NaN   \n",
       "2024-08-23      25.8                          NaN   \n",
       "2024-10-21      28.5                          NaN   \n",
       "2024-09-16      19.6                          NaN   \n",
       "\n",
       "           Reason for cancelling by Customer  Cancelled Rides by Driver  \\\n",
       "Date                                                                      \n",
       "2024-03-23                               NaN                        NaN   \n",
       "2024-11-29                               NaN                        NaN   \n",
       "2024-08-23                               NaN                        NaN   \n",
       "2024-10-21                               NaN                        NaN   \n",
       "2024-09-16                               NaN                        NaN   \n",
       "\n",
       "           Driver Cancellation Reason  Incomplete Rides  \\\n",
       "Date                                                      \n",
       "2024-03-23                        NaN               NaN   \n",
       "2024-11-29                        NaN               1.0   \n",
       "2024-08-23                        NaN               NaN   \n",
       "2024-10-21                        NaN               NaN   \n",
       "2024-09-16                        NaN               NaN   \n",
       "\n",
       "           Incomplete Rides Reason  Booking Value  Ride Distance  \\\n",
       "Date                                                               \n",
       "2024-03-23                     NaN            NaN            NaN   \n",
       "2024-11-29       Vehicle Breakdown          237.0           5.73   \n",
       "2024-08-23                     NaN          627.0          13.58   \n",
       "2024-10-21                     NaN          416.0          34.02   \n",
       "2024-09-16                     NaN          737.0          48.21   \n",
       "\n",
       "            Driver Ratings  Customer Rating Payment Method  \n",
       "Date                                                        \n",
       "2024-03-23             NaN              NaN            NaN  \n",
       "2024-11-29             NaN              NaN            UPI  \n",
       "2024-08-23             4.9              4.9     Debit Card  \n",
       "2024-10-21             4.6              5.0            UPI  \n",
       "2024-09-16             4.1              4.3            UPI  "
      ],
      "text/html": [
       "<div>\n",
       "<style scoped>\n",
       "    .dataframe tbody tr th:only-of-type {\n",
       "        vertical-align: middle;\n",
       "    }\n",
       "\n",
       "    .dataframe tbody tr th {\n",
       "        vertical-align: top;\n",
       "    }\n",
       "\n",
       "    .dataframe thead th {\n",
       "        text-align: right;\n",
       "    }\n",
       "</style>\n",
       "<table border=\"1\" class=\"dataframe\">\n",
       "  <thead>\n",
       "    <tr style=\"text-align: right;\">\n",
       "      <th></th>\n",
       "      <th>Time</th>\n",
       "      <th>Booking ID</th>\n",
       "      <th>Booking Status</th>\n",
       "      <th>Customer ID</th>\n",
       "      <th>Vehicle Type</th>\n",
       "      <th>Pickup Location</th>\n",
       "      <th>Drop Location</th>\n",
       "      <th>Avg VTAT</th>\n",
       "      <th>Avg CTAT</th>\n",
       "      <th>Cancelled Rides by Customer</th>\n",
       "      <th>Reason for cancelling by Customer</th>\n",
       "      <th>Cancelled Rides by Driver</th>\n",
       "      <th>Driver Cancellation Reason</th>\n",
       "      <th>Incomplete Rides</th>\n",
       "      <th>Incomplete Rides Reason</th>\n",
       "      <th>Booking Value</th>\n",
       "      <th>Ride Distance</th>\n",
       "      <th>Driver Ratings</th>\n",
       "      <th>Customer Rating</th>\n",
       "      <th>Payment Method</th>\n",
       "    </tr>\n",
       "    <tr>\n",
       "      <th>Date</th>\n",
       "      <th></th>\n",
       "      <th></th>\n",
       "      <th></th>\n",
       "      <th></th>\n",
       "      <th></th>\n",
       "      <th></th>\n",
       "      <th></th>\n",
       "      <th></th>\n",
       "      <th></th>\n",
       "      <th></th>\n",
       "      <th></th>\n",
       "      <th></th>\n",
       "      <th></th>\n",
       "      <th></th>\n",
       "      <th></th>\n",
       "      <th></th>\n",
       "      <th></th>\n",
       "      <th></th>\n",
       "      <th></th>\n",
       "      <th></th>\n",
       "    </tr>\n",
       "  </thead>\n",
       "  <tbody>\n",
       "    <tr>\n",
       "      <th>2024-03-23</th>\n",
       "      <td>12:29:38</td>\n",
       "      <td>\"CNR5884300\"</td>\n",
       "      <td>No Driver Found</td>\n",
       "      <td>\"CID1982111\"</td>\n",
       "      <td>eBike</td>\n",
       "      <td>Palam Vihar</td>\n",
       "      <td>Jhilmil</td>\n",
       "      <td>NaN</td>\n",
       "      <td>NaN</td>\n",
       "      <td>NaN</td>\n",
       "      <td>NaN</td>\n",
       "      <td>NaN</td>\n",
       "      <td>NaN</td>\n",
       "      <td>NaN</td>\n",
       "      <td>NaN</td>\n",
       "      <td>NaN</td>\n",
       "      <td>NaN</td>\n",
       "      <td>NaN</td>\n",
       "      <td>NaN</td>\n",
       "      <td>NaN</td>\n",
       "    </tr>\n",
       "    <tr>\n",
       "      <th>2024-11-29</th>\n",
       "      <td>18:01:39</td>\n",
       "      <td>\"CNR1326809\"</td>\n",
       "      <td>Incomplete</td>\n",
       "      <td>\"CID4604802\"</td>\n",
       "      <td>Go Sedan</td>\n",
       "      <td>Shastri Nagar</td>\n",
       "      <td>Gurgaon Sector 56</td>\n",
       "      <td>4.9</td>\n",
       "      <td>14.0</td>\n",
       "      <td>NaN</td>\n",
       "      <td>NaN</td>\n",
       "      <td>NaN</td>\n",
       "      <td>NaN</td>\n",
       "      <td>1.0</td>\n",
       "      <td>Vehicle Breakdown</td>\n",
       "      <td>237.0</td>\n",
       "      <td>5.73</td>\n",
       "      <td>NaN</td>\n",
       "      <td>NaN</td>\n",
       "      <td>UPI</td>\n",
       "    </tr>\n",
       "    <tr>\n",
       "      <th>2024-08-23</th>\n",
       "      <td>08:56:10</td>\n",
       "      <td>\"CNR8494506\"</td>\n",
       "      <td>Completed</td>\n",
       "      <td>\"CID9202816\"</td>\n",
       "      <td>Auto</td>\n",
       "      <td>Khandsa</td>\n",
       "      <td>Malviya Nagar</td>\n",
       "      <td>13.4</td>\n",
       "      <td>25.8</td>\n",
       "      <td>NaN</td>\n",
       "      <td>NaN</td>\n",
       "      <td>NaN</td>\n",
       "      <td>NaN</td>\n",
       "      <td>NaN</td>\n",
       "      <td>NaN</td>\n",
       "      <td>627.0</td>\n",
       "      <td>13.58</td>\n",
       "      <td>4.9</td>\n",
       "      <td>4.9</td>\n",
       "      <td>Debit Card</td>\n",
       "    </tr>\n",
       "    <tr>\n",
       "      <th>2024-10-21</th>\n",
       "      <td>17:17:25</td>\n",
       "      <td>\"CNR8906825\"</td>\n",
       "      <td>Completed</td>\n",
       "      <td>\"CID2610914\"</td>\n",
       "      <td>Premier Sedan</td>\n",
       "      <td>Central Secretariat</td>\n",
       "      <td>Inderlok</td>\n",
       "      <td>13.1</td>\n",
       "      <td>28.5</td>\n",
       "      <td>NaN</td>\n",
       "      <td>NaN</td>\n",
       "      <td>NaN</td>\n",
       "      <td>NaN</td>\n",
       "      <td>NaN</td>\n",
       "      <td>NaN</td>\n",
       "      <td>416.0</td>\n",
       "      <td>34.02</td>\n",
       "      <td>4.6</td>\n",
       "      <td>5.0</td>\n",
       "      <td>UPI</td>\n",
       "    </tr>\n",
       "    <tr>\n",
       "      <th>2024-09-16</th>\n",
       "      <td>22:08:00</td>\n",
       "      <td>\"CNR1950162\"</td>\n",
       "      <td>Completed</td>\n",
       "      <td>\"CID9933542\"</td>\n",
       "      <td>Bike</td>\n",
       "      <td>Ghitorni Village</td>\n",
       "      <td>Khan Market</td>\n",
       "      <td>5.3</td>\n",
       "      <td>19.6</td>\n",
       "      <td>NaN</td>\n",
       "      <td>NaN</td>\n",
       "      <td>NaN</td>\n",
       "      <td>NaN</td>\n",
       "      <td>NaN</td>\n",
       "      <td>NaN</td>\n",
       "      <td>737.0</td>\n",
       "      <td>48.21</td>\n",
       "      <td>4.1</td>\n",
       "      <td>4.3</td>\n",
       "      <td>UPI</td>\n",
       "    </tr>\n",
       "  </tbody>\n",
       "</table>\n",
       "</div>"
      ]
     },
     "execution_count": 31,
     "metadata": {},
     "output_type": "execute_result"
    }
   ],
   "execution_count": 31
  },
  {
   "metadata": {
    "ExecuteTime": {
     "end_time": "2025-08-25T13:58:16.410348Z",
     "start_time": "2025-08-25T13:58:16.372336Z"
    }
   },
   "cell_type": "code",
   "source": [
    "# Dividing by chunks\n",
    "chunks = pd.read_csv('ncr_ride_bookings.csv', nrows = 4, chunksize = 2)\n",
    "for chunk in chunks:\n",
    "    print(chunk)\n",
    "    print('------------------------------------------------------------------')"
   ],
   "id": "e4d86e1bfc107e2",
   "outputs": [
    {
     "name": "stdout",
     "output_type": "stream",
     "text": [
      "         Date      Time    Booking ID   Booking Status   Customer ID  \\\n",
      "0  2024-03-23  12:29:38  \"CNR5884300\"  No Driver Found  \"CID1982111\"   \n",
      "1  2024-11-29  18:01:39  \"CNR1326809\"       Incomplete  \"CID4604802\"   \n",
      "\n",
      "  Vehicle Type Pickup Location      Drop Location  Avg VTAT  Avg CTAT  ...  \\\n",
      "0        eBike     Palam Vihar            Jhilmil       NaN       NaN  ...   \n",
      "1     Go Sedan   Shastri Nagar  Gurgaon Sector 56       4.9      14.0  ...   \n",
      "\n",
      "   Reason for cancelling by Customer  Cancelled Rides by Driver  \\\n",
      "0                                NaN                        NaN   \n",
      "1                                NaN                        NaN   \n",
      "\n",
      "   Driver Cancellation Reason  Incomplete Rides  Incomplete Rides Reason  \\\n",
      "0                         NaN               NaN                      NaN   \n",
      "1                         NaN               1.0        Vehicle Breakdown   \n",
      "\n",
      "  Booking Value  Ride Distance  Driver Ratings  Customer Rating  \\\n",
      "0           NaN            NaN             NaN              NaN   \n",
      "1         237.0           5.73             NaN              NaN   \n",
      "\n",
      "   Payment Method  \n",
      "0             NaN  \n",
      "1             UPI  \n",
      "\n",
      "[2 rows x 21 columns]\n",
      "------------------------------------------------------------------\n",
      "         Date      Time    Booking ID Booking Status   Customer ID  \\\n",
      "2  2024-08-23  08:56:10  \"CNR8494506\"      Completed  \"CID9202816\"   \n",
      "3  2024-10-21  17:17:25  \"CNR8906825\"      Completed  \"CID2610914\"   \n",
      "\n",
      "    Vehicle Type      Pickup Location  Drop Location  Avg VTAT  Avg CTAT  ...  \\\n",
      "2           Auto              Khandsa  Malviya Nagar      13.4      25.8  ...   \n",
      "3  Premier Sedan  Central Secretariat       Inderlok      13.1      28.5  ...   \n",
      "\n",
      "   Reason for cancelling by Customer  Cancelled Rides by Driver  \\\n",
      "2                                NaN                        NaN   \n",
      "3                                NaN                        NaN   \n",
      "\n",
      "   Driver Cancellation Reason  Incomplete Rides  Incomplete Rides Reason  \\\n",
      "2                         NaN               NaN                      NaN   \n",
      "3                         NaN               NaN                      NaN   \n",
      "\n",
      "   Booking Value  Ride Distance  Driver Ratings  Customer Rating  \\\n",
      "2            627          13.58             4.9              4.9   \n",
      "3            416          34.02             4.6              5.0   \n",
      "\n",
      "   Payment Method  \n",
      "2      Debit Card  \n",
      "3             UPI  \n",
      "\n",
      "[2 rows x 21 columns]\n",
      "------------------------------------------------------------------\n"
     ]
    }
   ],
   "execution_count": 32
  },
  {
   "metadata": {
    "ExecuteTime": {
     "end_time": "2025-08-25T13:58:16.596751Z",
     "start_time": "2025-08-25T13:58:16.577513Z"
    }
   },
   "cell_type": "code",
   "source": [
    "# To replace missing values with NaN\n",
    "df = pd.read_csv('ncr_ride_bookings.csv', nrows = 5, na_values = ['Incomplete'])\n",
    "print(df)"
   ],
   "id": "fe4ea56d53b3afb9",
   "outputs": [
    {
     "name": "stdout",
     "output_type": "stream",
     "text": [
      "         Date      Time    Booking ID   Booking Status   Customer ID  \\\n",
      "0  2024-03-23  12:29:38  \"CNR5884300\"  No Driver Found  \"CID1982111\"   \n",
      "1  2024-11-29  18:01:39  \"CNR1326809\"              NaN  \"CID4604802\"   \n",
      "2  2024-08-23  08:56:10  \"CNR8494506\"        Completed  \"CID9202816\"   \n",
      "3  2024-10-21  17:17:25  \"CNR8906825\"        Completed  \"CID2610914\"   \n",
      "4  2024-09-16  22:08:00  \"CNR1950162\"        Completed  \"CID9933542\"   \n",
      "\n",
      "    Vehicle Type      Pickup Location      Drop Location  Avg VTAT  Avg CTAT  \\\n",
      "0          eBike          Palam Vihar            Jhilmil       NaN       NaN   \n",
      "1       Go Sedan        Shastri Nagar  Gurgaon Sector 56       4.9      14.0   \n",
      "2           Auto              Khandsa      Malviya Nagar      13.4      25.8   \n",
      "3  Premier Sedan  Central Secretariat           Inderlok      13.1      28.5   \n",
      "4           Bike     Ghitorni Village        Khan Market       5.3      19.6   \n",
      "\n",
      "   ...  Reason for cancelling by Customer  Cancelled Rides by Driver  \\\n",
      "0  ...                                NaN                        NaN   \n",
      "1  ...                                NaN                        NaN   \n",
      "2  ...                                NaN                        NaN   \n",
      "3  ...                                NaN                        NaN   \n",
      "4  ...                                NaN                        NaN   \n",
      "\n",
      "   Driver Cancellation Reason  Incomplete Rides  Incomplete Rides Reason  \\\n",
      "0                         NaN               NaN                      NaN   \n",
      "1                         NaN               1.0        Vehicle Breakdown   \n",
      "2                         NaN               NaN                      NaN   \n",
      "3                         NaN               NaN                      NaN   \n",
      "4                         NaN               NaN                      NaN   \n",
      "\n",
      "  Booking Value  Ride Distance  Driver Ratings  Customer Rating  \\\n",
      "0           NaN            NaN             NaN              NaN   \n",
      "1         237.0           5.73             NaN              NaN   \n",
      "2         627.0          13.58             4.9              4.9   \n",
      "3         416.0          34.02             4.6              5.0   \n",
      "4         737.0          48.21             4.1              4.3   \n",
      "\n",
      "   Payment Method  \n",
      "0             NaN  \n",
      "1             UPI  \n",
      "2      Debit Card  \n",
      "3             UPI  \n",
      "4             UPI  \n",
      "\n",
      "[5 rows x 21 columns]\n"
     ]
    }
   ],
   "execution_count": 33
  },
  {
   "metadata": {
    "ExecuteTime": {
     "end_time": "2025-08-25T13:58:16.718394Z",
     "start_time": "2025-08-25T13:58:16.697999Z"
    }
   },
   "cell_type": "code",
   "source": [
    "# To get rid of null values\n",
    "df[df.notnull()].head()"
   ],
   "id": "7ce2a601c84e2937",
   "outputs": [
    {
     "data": {
      "text/plain": [
       "         Date      Time    Booking ID   Booking Status   Customer ID  \\\n",
       "0  2024-03-23  12:29:38  \"CNR5884300\"  No Driver Found  \"CID1982111\"   \n",
       "1  2024-11-29  18:01:39  \"CNR1326809\"              NaN  \"CID4604802\"   \n",
       "2  2024-08-23  08:56:10  \"CNR8494506\"        Completed  \"CID9202816\"   \n",
       "3  2024-10-21  17:17:25  \"CNR8906825\"        Completed  \"CID2610914\"   \n",
       "4  2024-09-16  22:08:00  \"CNR1950162\"        Completed  \"CID9933542\"   \n",
       "\n",
       "    Vehicle Type      Pickup Location      Drop Location  Avg VTAT  Avg CTAT  \\\n",
       "0          eBike          Palam Vihar            Jhilmil       NaN       NaN   \n",
       "1       Go Sedan        Shastri Nagar  Gurgaon Sector 56       4.9      14.0   \n",
       "2           Auto              Khandsa      Malviya Nagar      13.4      25.8   \n",
       "3  Premier Sedan  Central Secretariat           Inderlok      13.1      28.5   \n",
       "4           Bike     Ghitorni Village        Khan Market       5.3      19.6   \n",
       "\n",
       "   ...  Reason for cancelling by Customer  Cancelled Rides by Driver  \\\n",
       "0  ...                                NaN                        NaN   \n",
       "1  ...                                NaN                        NaN   \n",
       "2  ...                                NaN                        NaN   \n",
       "3  ...                                NaN                        NaN   \n",
       "4  ...                                NaN                        NaN   \n",
       "\n",
       "   Driver Cancellation Reason  Incomplete Rides  Incomplete Rides Reason  \\\n",
       "0                         NaN               NaN                      NaN   \n",
       "1                         NaN               1.0        Vehicle Breakdown   \n",
       "2                         NaN               NaN                      NaN   \n",
       "3                         NaN               NaN                      NaN   \n",
       "4                         NaN               NaN                      NaN   \n",
       "\n",
       "  Booking Value  Ride Distance  Driver Ratings  Customer Rating  \\\n",
       "0           NaN            NaN             NaN              NaN   \n",
       "1         237.0           5.73             NaN              NaN   \n",
       "2         627.0          13.58             4.9              4.9   \n",
       "3         416.0          34.02             4.6              5.0   \n",
       "4         737.0          48.21             4.1              4.3   \n",
       "\n",
       "   Payment Method  \n",
       "0             NaN  \n",
       "1             UPI  \n",
       "2      Debit Card  \n",
       "3             UPI  \n",
       "4             UPI  \n",
       "\n",
       "[5 rows x 21 columns]"
      ],
      "text/html": [
       "<div>\n",
       "<style scoped>\n",
       "    .dataframe tbody tr th:only-of-type {\n",
       "        vertical-align: middle;\n",
       "    }\n",
       "\n",
       "    .dataframe tbody tr th {\n",
       "        vertical-align: top;\n",
       "    }\n",
       "\n",
       "    .dataframe thead th {\n",
       "        text-align: right;\n",
       "    }\n",
       "</style>\n",
       "<table border=\"1\" class=\"dataframe\">\n",
       "  <thead>\n",
       "    <tr style=\"text-align: right;\">\n",
       "      <th></th>\n",
       "      <th>Date</th>\n",
       "      <th>Time</th>\n",
       "      <th>Booking ID</th>\n",
       "      <th>Booking Status</th>\n",
       "      <th>Customer ID</th>\n",
       "      <th>Vehicle Type</th>\n",
       "      <th>Pickup Location</th>\n",
       "      <th>Drop Location</th>\n",
       "      <th>Avg VTAT</th>\n",
       "      <th>Avg CTAT</th>\n",
       "      <th>...</th>\n",
       "      <th>Reason for cancelling by Customer</th>\n",
       "      <th>Cancelled Rides by Driver</th>\n",
       "      <th>Driver Cancellation Reason</th>\n",
       "      <th>Incomplete Rides</th>\n",
       "      <th>Incomplete Rides Reason</th>\n",
       "      <th>Booking Value</th>\n",
       "      <th>Ride Distance</th>\n",
       "      <th>Driver Ratings</th>\n",
       "      <th>Customer Rating</th>\n",
       "      <th>Payment Method</th>\n",
       "    </tr>\n",
       "  </thead>\n",
       "  <tbody>\n",
       "    <tr>\n",
       "      <th>0</th>\n",
       "      <td>2024-03-23</td>\n",
       "      <td>12:29:38</td>\n",
       "      <td>\"CNR5884300\"</td>\n",
       "      <td>No Driver Found</td>\n",
       "      <td>\"CID1982111\"</td>\n",
       "      <td>eBike</td>\n",
       "      <td>Palam Vihar</td>\n",
       "      <td>Jhilmil</td>\n",
       "      <td>NaN</td>\n",
       "      <td>NaN</td>\n",
       "      <td>...</td>\n",
       "      <td>NaN</td>\n",
       "      <td>NaN</td>\n",
       "      <td>NaN</td>\n",
       "      <td>NaN</td>\n",
       "      <td>NaN</td>\n",
       "      <td>NaN</td>\n",
       "      <td>NaN</td>\n",
       "      <td>NaN</td>\n",
       "      <td>NaN</td>\n",
       "      <td>NaN</td>\n",
       "    </tr>\n",
       "    <tr>\n",
       "      <th>1</th>\n",
       "      <td>2024-11-29</td>\n",
       "      <td>18:01:39</td>\n",
       "      <td>\"CNR1326809\"</td>\n",
       "      <td>NaN</td>\n",
       "      <td>\"CID4604802\"</td>\n",
       "      <td>Go Sedan</td>\n",
       "      <td>Shastri Nagar</td>\n",
       "      <td>Gurgaon Sector 56</td>\n",
       "      <td>4.9</td>\n",
       "      <td>14.0</td>\n",
       "      <td>...</td>\n",
       "      <td>NaN</td>\n",
       "      <td>NaN</td>\n",
       "      <td>NaN</td>\n",
       "      <td>1.0</td>\n",
       "      <td>Vehicle Breakdown</td>\n",
       "      <td>237.0</td>\n",
       "      <td>5.73</td>\n",
       "      <td>NaN</td>\n",
       "      <td>NaN</td>\n",
       "      <td>UPI</td>\n",
       "    </tr>\n",
       "    <tr>\n",
       "      <th>2</th>\n",
       "      <td>2024-08-23</td>\n",
       "      <td>08:56:10</td>\n",
       "      <td>\"CNR8494506\"</td>\n",
       "      <td>Completed</td>\n",
       "      <td>\"CID9202816\"</td>\n",
       "      <td>Auto</td>\n",
       "      <td>Khandsa</td>\n",
       "      <td>Malviya Nagar</td>\n",
       "      <td>13.4</td>\n",
       "      <td>25.8</td>\n",
       "      <td>...</td>\n",
       "      <td>NaN</td>\n",
       "      <td>NaN</td>\n",
       "      <td>NaN</td>\n",
       "      <td>NaN</td>\n",
       "      <td>NaN</td>\n",
       "      <td>627.0</td>\n",
       "      <td>13.58</td>\n",
       "      <td>4.9</td>\n",
       "      <td>4.9</td>\n",
       "      <td>Debit Card</td>\n",
       "    </tr>\n",
       "    <tr>\n",
       "      <th>3</th>\n",
       "      <td>2024-10-21</td>\n",
       "      <td>17:17:25</td>\n",
       "      <td>\"CNR8906825\"</td>\n",
       "      <td>Completed</td>\n",
       "      <td>\"CID2610914\"</td>\n",
       "      <td>Premier Sedan</td>\n",
       "      <td>Central Secretariat</td>\n",
       "      <td>Inderlok</td>\n",
       "      <td>13.1</td>\n",
       "      <td>28.5</td>\n",
       "      <td>...</td>\n",
       "      <td>NaN</td>\n",
       "      <td>NaN</td>\n",
       "      <td>NaN</td>\n",
       "      <td>NaN</td>\n",
       "      <td>NaN</td>\n",
       "      <td>416.0</td>\n",
       "      <td>34.02</td>\n",
       "      <td>4.6</td>\n",
       "      <td>5.0</td>\n",
       "      <td>UPI</td>\n",
       "    </tr>\n",
       "    <tr>\n",
       "      <th>4</th>\n",
       "      <td>2024-09-16</td>\n",
       "      <td>22:08:00</td>\n",
       "      <td>\"CNR1950162\"</td>\n",
       "      <td>Completed</td>\n",
       "      <td>\"CID9933542\"</td>\n",
       "      <td>Bike</td>\n",
       "      <td>Ghitorni Village</td>\n",
       "      <td>Khan Market</td>\n",
       "      <td>5.3</td>\n",
       "      <td>19.6</td>\n",
       "      <td>...</td>\n",
       "      <td>NaN</td>\n",
       "      <td>NaN</td>\n",
       "      <td>NaN</td>\n",
       "      <td>NaN</td>\n",
       "      <td>NaN</td>\n",
       "      <td>737.0</td>\n",
       "      <td>48.21</td>\n",
       "      <td>4.1</td>\n",
       "      <td>4.3</td>\n",
       "      <td>UPI</td>\n",
       "    </tr>\n",
       "  </tbody>\n",
       "</table>\n",
       "<p>5 rows × 21 columns</p>\n",
       "</div>"
      ]
     },
     "execution_count": 34,
     "metadata": {},
     "output_type": "execute_result"
    }
   ],
   "execution_count": 34
  },
  {
   "metadata": {
    "ExecuteTime": {
     "end_time": "2025-08-25T13:58:16.881093Z",
     "start_time": "2025-08-25T13:58:16.866489Z"
    }
   },
   "cell_type": "code",
   "source": [
    "# Also can get rid of Nan's\n",
    "df_no_nans = df.dropna()\n",
    "df_no_nans.head()"
   ],
   "id": "d1bc0731a4cfa4e3",
   "outputs": [
    {
     "data": {
      "text/plain": [
       "Empty DataFrame\n",
       "Columns: [Date, Time, Booking ID, Booking Status, Customer ID, Vehicle Type, Pickup Location, Drop Location, Avg VTAT, Avg CTAT, Cancelled Rides by Customer, Reason for cancelling by Customer, Cancelled Rides by Driver, Driver Cancellation Reason, Incomplete Rides, Incomplete Rides Reason, Booking Value, Ride Distance, Driver Ratings, Customer Rating, Payment Method]\n",
       "Index: []\n",
       "\n",
       "[0 rows x 21 columns]"
      ],
      "text/html": [
       "<div>\n",
       "<style scoped>\n",
       "    .dataframe tbody tr th:only-of-type {\n",
       "        vertical-align: middle;\n",
       "    }\n",
       "\n",
       "    .dataframe tbody tr th {\n",
       "        vertical-align: top;\n",
       "    }\n",
       "\n",
       "    .dataframe thead th {\n",
       "        text-align: right;\n",
       "    }\n",
       "</style>\n",
       "<table border=\"1\" class=\"dataframe\">\n",
       "  <thead>\n",
       "    <tr style=\"text-align: right;\">\n",
       "      <th></th>\n",
       "      <th>Date</th>\n",
       "      <th>Time</th>\n",
       "      <th>Booking ID</th>\n",
       "      <th>Booking Status</th>\n",
       "      <th>Customer ID</th>\n",
       "      <th>Vehicle Type</th>\n",
       "      <th>Pickup Location</th>\n",
       "      <th>Drop Location</th>\n",
       "      <th>Avg VTAT</th>\n",
       "      <th>Avg CTAT</th>\n",
       "      <th>...</th>\n",
       "      <th>Reason for cancelling by Customer</th>\n",
       "      <th>Cancelled Rides by Driver</th>\n",
       "      <th>Driver Cancellation Reason</th>\n",
       "      <th>Incomplete Rides</th>\n",
       "      <th>Incomplete Rides Reason</th>\n",
       "      <th>Booking Value</th>\n",
       "      <th>Ride Distance</th>\n",
       "      <th>Driver Ratings</th>\n",
       "      <th>Customer Rating</th>\n",
       "      <th>Payment Method</th>\n",
       "    </tr>\n",
       "  </thead>\n",
       "  <tbody>\n",
       "  </tbody>\n",
       "</table>\n",
       "<p>0 rows × 21 columns</p>\n",
       "</div>"
      ]
     },
     "execution_count": 35,
     "metadata": {},
     "output_type": "execute_result"
    }
   ],
   "execution_count": 35
  },
  {
   "metadata": {
    "ExecuteTime": {
     "end_time": "2025-08-25T14:05:57.209257Z",
     "start_time": "2025-08-25T14:05:57.199281Z"
    }
   },
   "cell_type": "code",
   "source": [
    "# First DataFrame\n",
    "df1 = pd.DataFrame({\n",
    "    'id': [1, 2, 3, 4],\n",
    "    'name': ['Alice', 'Bob', 'Charlie', 'David']\n",
    "})\n",
    "\n",
    "# Second DataFrame\n",
    "df2 = pd.DataFrame({\n",
    "    'id': [1, 2, 3, 4],\n",
    "    'age': [25, 30, 35, 40]\n",
    "})\n",
    "\n",
    "# Third DataFrame\n",
    "df3 = pd.DataFrame({\n",
    "    'id': [1, 2, 3, 4],\n",
    "    'city': ['Baku', 'Ganja', 'Sumqayit', 'Lankaran']\n",
    "})\n",
    "\n",
    "# Fourth DataFrame\n",
    "df4 = pd.DataFrame({\n",
    "    'id': [1, 2, 3, 4],\n",
    "    'salary': [1000, 1200, 1500, 1800]\n",
    "})"
   ],
   "id": "9c5fbdf524cdb091",
   "outputs": [],
   "execution_count": 36
  },
  {
   "metadata": {
    "ExecuteTime": {
     "end_time": "2025-08-25T14:06:20.443964Z",
     "start_time": "2025-08-25T14:06:20.418050Z"
    }
   },
   "cell_type": "code",
   "source": [
    "result = df1.merge(df2, on='id').merge(df3, on='id').merge(df4, on='id')\n",
    "print(result)"
   ],
   "id": "71c285e91f24ad75",
   "outputs": [
    {
     "name": "stdout",
     "output_type": "stream",
     "text": [
      "   id     name  age      city  salary\n",
      "0   1    Alice   25      Baku    1000\n",
      "1   2      Bob   30     Ganja    1200\n",
      "2   3  Charlie   35  Sumqayit    1500\n",
      "3   4    David   40  Lankaran    1800\n"
     ]
    }
   ],
   "execution_count": 37
  }
 ],
 "metadata": {
  "kernelspec": {
   "display_name": "Python 3",
   "language": "python",
   "name": "python3"
  },
  "language_info": {
   "codemirror_mode": {
    "name": "ipython",
    "version": 2
   },
   "file_extension": ".py",
   "mimetype": "text/x-python",
   "name": "python",
   "nbconvert_exporter": "python",
   "pygments_lexer": "ipython2",
   "version": "2.7.6"
  }
 },
 "nbformat": 4,
 "nbformat_minor": 5
}
